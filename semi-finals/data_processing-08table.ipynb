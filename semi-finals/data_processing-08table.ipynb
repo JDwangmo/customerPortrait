{
 "cells": [
  {
   "cell_type": "markdown",
   "metadata": {
    "collapsed": false
   },
   "source": [
    "# 客户画像复赛 数据处理"
   ]
  },
  {
   "cell_type": "code",
   "execution_count": 1,
   "metadata": {
    "collapsed": true
   },
   "outputs": [
    {
     "name": "stdout",
     "output_type": "stream",
     "text": [
      "01_arc_s_95598_wkst_train.tsv  06_cont_info.tsv\t\t11_c_meter.tsv\r\n",
      "02_s_comm_rec.tsv\t       07_c_rca_cons.tsv\t12_a_pay_flow.tsv\r\n",
      "03_s_info_oversee.tsv\t       08_a_rcved_flow.tsv\tout\r\n",
      "04_c_cons.tsv\t\t       09_arc_a_rcvbl_flow.tsv\ttrain_label.csv\r\n",
      "05_c_cons_prc.tsv\t       10_c_meter_read.tsv\r\n"
     ]
    }
   ],
   "source": [
    "!ls Data_Update/train/"
   ]
  },
  {
   "cell_type": "markdown",
   "metadata": {},
   "source": [
    "## 1 导入必要的包和函数"
   ]
  },
  {
   "cell_type": "code",
   "execution_count": 1,
   "metadata": {
    "collapsed": false
   },
   "outputs": [
    {
     "name": "stdout",
     "output_type": "stream",
     "text": [
      "Automatic pdb calling has been turned ON\n"
     ]
    }
   ],
   "source": [
    "%pdb 1\n",
    "debug = 1\n",
    "import pandas as pd\n",
    "import numpy as np\n",
    "import pickle\n",
    "import re\n",
    "import io \n",
    "import matplotlib.pyplot as plt\n",
    "%matplotlib inline\n",
    "\n",
    "# 加载预定义好的函数\n",
    "# 预定义好的函数：\n",
    "#    - load_data(file_name, header=0): 加载数据\n",
    "#    - def show_attribute_detail( data=None, attribute_name=None): 显示数据某个属性的详情\n",
    "%run data_util_func.py\n",
    "# 选择过滤方案\n",
    "PLAN_TYPE = 3"
   ]
  },
  {
   "cell_type": "code",
   "execution_count": 3,
   "metadata": {
    "collapsed": true
   },
   "outputs": [],
   "source": [
    "# 训练集敏感用户 和待预测用户列表\n",
    "# train_data_labels_df\n",
    "# test_data_labels_df\n",
    "# 代表工单数据\n",
    "# train_data01_a_worker_per_user\n",
    "# test_data01_a_worker_per_user\n",
    "# 08表\n",
    "# train_data08_merge_label_df\n",
    "# test_data08_merge_label_df\n",
    "%store -r train_data01_a_worker_per_user test_data01_a_worker_per_user\n",
    "%store -r train_data_labels_df test_data_labels_df\n",
    "%store -r train_data08_merge_label_df test_data08_merge_label_df"
   ]
  },
  {
   "cell_type": "code",
   "execution_count": 34,
   "metadata": {
    "collapsed": true
   },
   "outputs": [
    {
     "data": {
      "text/plain": [
       "['FeatureEncoder',\n",
       " 'data01_appno_contenttype_rdd',\n",
       " 'data_feature_encoder',\n",
       " 'debug',\n",
       " 'extend_train_data',\n",
       " 'get_accept_content_type',\n",
       " 'get_highest_sensitive_workerid',\n",
       " 'get_metrics',\n",
       " 'io',\n",
       " 'is_highest_sensitive_worker_dict',\n",
       " 'load_data',\n",
       " 'model_predict',\n",
       " 'model_train',\n",
       " 'np',\n",
       " 'pd',\n",
       " 'pickle',\n",
       " 'plt',\n",
       " 'print_function',\n",
       " 're',\n",
       " 'save_data',\n",
       " 'seperate_data_to_classifier',\n",
       " 'show_attribute_detail',\n",
       " 'show_df_info',\n",
       " 'test_data01_df',\n",
       " 'test_data01_merge_label_df',\n",
       " 'test_data_labels_df',\n",
       " 'train_accept_content_type_count_df',\n",
       " 'train_accept_content_type_sensitive_rate_series',\n",
       " 'train_custno_in_season4_count_dict',\n",
       " 'train_custno_in_season4_count_rdd',\n",
       " 'train_custno_search_action_count_dict',\n",
       " 'train_custno_search_action_count_rdd',\n",
       " 'train_data01_a_worker_per_user',\n",
       " 'train_data01_a_worker_per_user_accept_content_type_count_df',\n",
       " 'train_data01_custno_handle_month_rdd',\n",
       " 'train_data01_custno_issearchaction_rdd',\n",
       " 'train_data01_merge_label_df',\n",
       " 'train_data01_user_worker_count_series',\n",
       " 'train_test_split',\n",
       " 'user_highest_sensitive_worker_rdd']"
      ]
     },
     "execution_count": 34,
     "metadata": {},
     "output_type": "execute_result"
    }
   ],
   "source": [
    "%who_ls"
   ]
  },
  {
   "cell_type": "code",
   "execution_count": 36,
   "metadata": {
    "collapsed": false
   },
   "outputs": [],
   "source": [
    "del test_data_labels_df"
   ]
  },
  {
   "cell_type": "markdown",
   "metadata": {},
   "source": [
    "##  2 加载数据 "
   ]
  },
  {
   "cell_type": "markdown",
   "metadata": {},
   "source": [
    "### 2-4 08-实收电费信息表"
   ]
  },
  {
   "cell_type": "markdown",
   "metadata": {},
   "source": [
    "#### 2-4-1 训练集 "
   ]
  },
  {
   "cell_type": "markdown",
   "metadata": {},
   "source": [
    "##### 2-4-1-1 加载数据  train/08_a_rcved_flow.tsv"
   ]
  },
  {
   "cell_type": "code",
   "execution_count": 2,
   "metadata": {
    "collapsed": false
   },
   "outputs": [
    {
     "name": "stdout",
     "output_type": "stream",
     "text": [
      "(3249742, 9)\n",
      "CPU times: user 4.76 s, sys: 324 ms, total: 5.08 s\n",
      "Wall time: 5.31 s\n"
     ]
    }
   ],
   "source": [
    "%%time\n",
    "# 这个类型转换非常重要，因为发现在和 train_label.csv表 的 CUST_NO 连接时 ，如果不全部转为 字符串 ，会连接 不对，因为\n",
    "# 在这个表里的 CUST_NO 字段出现 部分 字段是字符串，部分字段是整形，所以全部转为字符串\n",
    "train_data08_df = load_data('Data_Update/train/08_a_rcved_flow.tsv', converters={'CONS_NO':unicode}) \n",
    "\n",
    "# 3,249,742 条记录\n",
    "print(train_data08_df.shape)\n",
    "# data08 中 总用户数为：  282,152\n",
    "len(train_data08_df['CONS_NO'].unique())"
   ]
  },
  {
   "cell_type": "code",
   "execution_count": 73,
   "metadata": {
    "collapsed": true
   },
   "outputs": [
    {
     "name": "stdout",
     "output_type": "stream",
     "text": [
      "    ORG_NO     CONS_NO  RCVED_YM  RCVED_DATE  THIS_RCVED_AMT  THIS_PENALTY  \\\n",
      "0  3340101  6011035199    201501    20150130      2143978.78           0.0   \n",
      "1  3340101  1316023683    201501    20150128      2556221.39           0.0   \n",
      "2  3340101  3190016243    201501    20150129      1607391.59           0.0   \n",
      "3  3340101  6010496493    201501    20150107       153739.88           0.0   \n",
      "4  3340101  1321072804    201501    20150107      3869548.04           0.0   \n",
      "\n",
      "      OWE_AMT  RCVBL_YM  RCVBL_PENALTY  \n",
      "0  2143978.78    201501            0.0  \n",
      "1  2556221.39    201501            0.0  \n",
      "2  1607391.59    201501            0.0  \n",
      "3   153739.88    201501            0.0  \n",
      "4  3869548.04    201501            0.0  \n",
      "<class 'pandas.core.frame.DataFrame'>\n",
      "RangeIndex: 3249742 entries, 0 to 3249741\n",
      "Data columns (total 9 columns):\n",
      "ORG_NO            int64\n",
      "CONS_NO           object\n",
      "RCVED_YM          int64\n",
      "RCVED_DATE        int64\n",
      "THIS_RCVED_AMT    float64\n",
      "THIS_PENALTY      float64\n",
      "OWE_AMT           float64\n",
      "RCVBL_YM          int64\n",
      "RCVBL_PENALTY     float64\n",
      "dtypes: float64(4), int64(4), object(1)\n",
      "memory usage: 223.1+ MB\n",
      "None\n"
     ]
    }
   ],
   "source": [
    "show_df_info(train_data08_df)"
   ]
  },
  {
   "cell_type": "markdown",
   "metadata": {},
   "source": [
    "##### 2-4-1-2 将数据连接上标签 "
   ]
  },
  {
   "cell_type": "code",
   "execution_count": 4,
   "metadata": {
    "collapsed": true
   },
   "outputs": [
    {
     "name": "stdout",
     "output_type": "stream",
     "text": [
      "CPU times: user 2.1 s, sys: 40 ms, total: 2.14 s\n",
      "Wall time: 2.14 s\n"
     ]
    }
   ],
   "source": [
    "%%time\n",
    "# 连接上的用户都是敏感的 ，置为1，有 542,218 个 data08记录， 45,659个用户\n",
    "train_data08_merge_label_df = train_data08_df.merge(\n",
    "    train_data_labels_df,\n",
    "    how='left',\n",
    "    left_on='CONS_NO',\n",
    "    right_on='CUST_NO'\n",
    ")\n",
    "# 将没有连接上的工单设置为不敏感用户，  2,707,524 个 data08记录,236,493个用户\n",
    "train_data08_merge_label_df['TAG'] = train_data08_merge_label_df['TAG'].fillna(0)\n",
    "train_data08_merge_label_df['TAG'] = train_data08_merge_label_df['TAG'].astype(int)"
   ]
  },
  {
   "cell_type": "code",
   "execution_count": 5,
   "metadata": {
    "collapsed": false
   },
   "outputs": [
    {
     "name": "stdout",
     "output_type": "stream",
     "text": [
      "Stored 'train_data08_merge_label_df' (DataFrame)\n"
     ]
    }
   ],
   "source": [
    "%store train_data08_merge_label_df"
   ]
  },
  {
   "cell_type": "code",
   "execution_count": 27,
   "metadata": {
    "collapsed": true
   },
   "outputs": [
    {
     "name": "stdout",
     "output_type": "stream",
     "text": [
      "    ORG_NO     CONS_NO  RCVED_YM  RCVED_DATE  THIS_RCVED_AMT  THIS_PENALTY  \\\n",
      "0  3340101  6011035199    201501    20150130      2143978.78           0.0   \n",
      "1  3340101  1316023683    201501    20150128      2556221.39           0.0   \n",
      "2  3340101  3190016243    201501    20150129      1607391.59           0.0   \n",
      "3  3340101  6010496493    201501    20150107       153739.88           0.0   \n",
      "4  3340101  1321072804    201501    20150107      3869548.04           0.0   \n",
      "\n",
      "      OWE_AMT  RCVBL_YM  RCVBL_PENALTY     CUST_NO  TAG  \n",
      "0  2143978.78    201501            0.0         NaN    0  \n",
      "1  2556221.39    201501            0.0         NaN    0  \n",
      "2  1607391.59    201501            0.0         NaN    0  \n",
      "3   153739.88    201501            0.0  6010496493    1  \n",
      "4  3869548.04    201501            0.0  1321072804    1  \n",
      "<class 'pandas.core.frame.DataFrame'>\n",
      "Int64Index: 3249742 entries, 0 to 3249741\n",
      "Data columns (total 11 columns):\n",
      "ORG_NO            int64\n",
      "CONS_NO           object\n",
      "RCVED_YM          int64\n",
      "RCVED_DATE        int64\n",
      "THIS_RCVED_AMT    float64\n",
      "THIS_PENALTY      float64\n",
      "OWE_AMT           float64\n",
      "RCVBL_YM          int64\n",
      "RCVBL_PENALTY     float64\n",
      "CUST_NO           object\n",
      "TAG               int64\n",
      "dtypes: float64(4), int64(5), object(2)\n",
      "memory usage: 297.5+ MB\n",
      "None\n"
     ]
    }
   ],
   "source": [
    "show_df_info(train_data08_merge_label_df)"
   ]
  },
  {
   "cell_type": "markdown",
   "metadata": {},
   "source": [
    "###### 输出 训练集中 所有用户和标签，共 282,152个用户"
   ]
  },
  {
   "cell_type": "code",
   "execution_count": 33,
   "metadata": {
    "collapsed": false
   },
   "outputs": [
    {
     "data": {
      "text/plain": [
       "(282152, 2)"
      ]
     },
     "execution_count": 33,
     "metadata": {},
     "output_type": "execute_result"
    }
   ],
   "source": [
    "train_data08_cust_no_tag_df = \\\n",
    "    train_data08_merge_label_df[['CONS_NO','TAG']].drop_duplicates().sort_values(by='TAG')\n",
    "save_data(\n",
    "    train_data08_cust_no_tag_df,\n",
    "    'train_data08_cust_no_tag_df.csv'\n",
    ")\n",
    "train_data08_cust_no_tag_df.shape"
   ]
  },
  {
   "cell_type": "markdown",
   "metadata": {},
   "source": [
    "###### 从文件中恢复"
   ]
  },
  {
   "cell_type": "code",
   "execution_count": 31,
   "metadata": {
    "collapsed": false
   },
   "outputs": [],
   "source": [
    "# 全部 CONS_NO 转为字符串，否则在连接表的时候会出问题\n",
    "train_data08_cust_no_tag_df = load_data('train_data08_cust_no_tag_df.csv',\n",
    "                                        encoding='utf8',\n",
    "                                        converters={'CONS_NO':unicode}\n",
    "                                       )\n",
    "\n"
   ]
  },
  {
   "cell_type": "markdown",
   "metadata": {},
   "source": [
    "##### 2-4-1-3 统计敏感和不敏感的情况"
   ]
  },
  {
   "cell_type": "markdown",
   "metadata": {},
   "source": [
    "###### 所有记录统计"
   ]
  },
  {
   "cell_type": "code",
   "execution_count": 32,
   "metadata": {
    "collapsed": true
   },
   "outputs": [
    {
     "name": "stdout",
     "output_type": "stream",
     "text": [
      "(2,)\n"
     ]
    },
    {
     "data": {
      "text/plain": [
       "0    236493\n",
       "1     45659\n",
       "Name: TAG, dtype: int64"
      ]
     },
     "execution_count": 32,
     "metadata": {},
     "output_type": "execute_result"
    },
    {
     "data": {
      "image/png": "[encoded data removed]",
      "text/plain": [
       "<matplotlib.figure.Figure at 0x7fdcd3821a90>"
      ]
     },
     "metadata": {},
     "output_type": "display_data"
    }
   ],
   "source": [
    "# 0    236,493\n",
    "# 1     45,659\n",
    "# 1/0 = 0.200263\n",
    "show_attribute_detail(\n",
    "    train_data08_merge_label_df[['CONS_NO','TAG']].drop_duplicates(),\n",
    "    'TAG'\n",
    ")"
   ]
  },
  {
   "cell_type": "markdown",
   "metadata": {},
   "source": [
    "###### 所有用户统计"
   ]
  },
  {
   "cell_type": "code",
   "execution_count": 32,
   "metadata": {
    "collapsed": true
   },
   "outputs": [
    {
     "name": "stdout",
     "output_type": "stream",
     "text": [
      "(2,)\n"
     ]
    },
    {
     "data": {
      "text/plain": [
       "0    2707524\n",
       "1     542218\n",
       "Name: TAG, dtype: int64"
      ]
     },
     "execution_count": 32,
     "metadata": {},
     "output_type": "execute_result"
    },
    {
     "data": {
      "image/png": "[encoded data removed]",
      "text/plain": [
       "<matplotlib.figure.Figure at 0x7f3e97c6d190>"
      ]
     },
     "metadata": {},
     "output_type": "display_data"
    }
   ],
   "source": [
    "# 0    2,707,524\n",
    "# 1     542,218\n",
    "# 1/0 = 0.200263\n",
    "show_attribute_detail(\n",
    "    train_data08_merge_label_df,\n",
    "    'TAG'\n",
    ")"
   ]
  },
  {
   "cell_type": "markdown",
   "metadata": {},
   "source": [
    "##### 和data01数据的用户列表比较"
   ]
  },
  {
   "cell_type": "code",
   "execution_count": 33,
   "metadata": {
    "collapsed": false
   },
   "outputs": [
    {
     "name": "stdout",
     "output_type": "stream",
     "text": [
      "合并所有用户有：658374\n",
      "在data08数据中，而不在data01数据中的用户数有：0\n",
      "在data01数据中，而不在data08数据中的用户数有：376222\n"
     ]
    }
   ],
   "source": [
    "train_data01_data08_cust_no_tag_df = train_data01_cust_no_tag_df.merge(\n",
    "    train_data08_cust_no_tag_df,\n",
    "    how='outer',\n",
    "    left_on='CUST_NO',\n",
    "    right_on='CONS_NO'\n",
    ")\n",
    "# 合并所有用户有：658374   ----  跟表1一样，即 表8和表9中所有用户都在表1中\n",
    "# 在data01数据中，而不在data08数据中的用户数有：0\n",
    "# 在data08数据中，而不在data01数据中的用户数有：376222\n",
    "print '合并所有用户有：%d'%train_data01_data08_cust_no_tag_df.shape[0]\n",
    "print '在data08数据中，而不在data01数据中的用户数有：%d'%sum(train_data01_data08_cust_no_tag_df['CUST_NO'].isnull())\n",
    "print '在data01数据中，而不在data08数据中的用户数有：%d'%sum(train_data01_data08_cust_no_tag_df['CONS_NO'].isnull())\n"
   ]
  },
  {
   "cell_type": "code",
   "execution_count": 35,
   "metadata": {
    "collapsed": true
   },
   "outputs": [
    {
     "name": "stdout",
     "output_type": "stream",
     "text": [
      "(658374, 4)\n",
      "(2,)\n",
      "0    578349\n",
      "1     80025\n",
      "Name: TAG_x, dtype: int64\n",
      "(376222, 4)\n",
      "(2,)\n",
      "0    341856\n",
      "1     34366\n",
      "Name: TAG_x, dtype: int64\n",
      "(282152, 4)\n",
      "(2,)\n",
      "0    236493\n",
      "1     45659\n",
      "Name: TAG_x, dtype: int64\n"
     ]
    },
    {
     "data": {
      "image/png": "[encoded data removed]",
      "text/plain": [
       "<matplotlib.figure.Figure at 0x7f3ebcfad990>"
      ]
     },
     "metadata": {},
     "output_type": "display_data"
    }
   ],
   "source": [
    "# 在data01数据中用户数有：658,374 ,其中不敏感有： 578,349，敏感有：80,025，1/0 比例为 0.1383680\n",
    "print train_data01_data08_cust_no_tag_df[train_data01_data08_cust_no_tag_df['CUST_NO'].notnull()].shape\n",
    "print show_attribute_detail(\n",
    "    train_data01_data08_cust_no_tag_df[train_data01_data08_cust_no_tag_df['CUST_NO'].notnull()],\n",
    "    'TAG_x'\n",
    ")\n",
    "\n",
    "# 在data01数据中，而不在data08数据中的用户数有：376,222,其中不敏感有： 341856，敏感有：34366，1/0 比例为 0.1005277\n",
    "print train_data01_data08_cust_no_tag_df[train_data01_data08_cust_no_tag_df['CONS_NO'].isnull()].shape\n",
    "print show_attribute_detail(\n",
    "    train_data01_data08_cust_no_tag_df[train_data01_data08_cust_no_tag_df['CONS_NO'].isnull()],\n",
    "    'TAG_x'\n",
    ")\n",
    "# 在data01数据中，也在data08数据中的用户数有：282,152,其中不敏感有： 236493，敏感有：45659，1/0 比例为 0.1930670252\n",
    "print train_data01_data08_cust_no_tag_df[train_data01_data08_cust_no_tag_df['CONS_NO'].notnull()].shape\n",
    "print show_attribute_detail(\n",
    "    train_data01_data08_cust_no_tag_df[train_data01_data08_cust_no_tag_df['CONS_NO'].notnull()],\n",
    "    'TAG_x'\n",
    ")"
   ]
  },
  {
   "cell_type": "markdown",
   "metadata": {},
   "source": [
    "#### 2-4-2 测试集 "
   ]
  },
  {
   "cell_type": "markdown",
   "metadata": {},
   "source": [
    "##### 2-4-2-1 加载数据  test/08_a_rcved_flow_test.tsv"
   ]
  },
  {
   "cell_type": "code",
   "execution_count": 6,
   "metadata": {
    "collapsed": false
   },
   "outputs": [
    {
     "name": "stdout",
     "output_type": "stream",
     "text": [
      "(3710654, 9)\n",
      "CPU times: user 5.42 s, sys: 664 ms, total: 6.08 s\n",
      "Wall time: 6.34 s\n"
     ]
    }
   ],
   "source": [
    "%%time\n",
    "# 这个类型转换非常重要，因为发现在和 train_label.csv表 的 CUST_NO 连接时 ，如果不全部转为 字符串 ，会连接 不对，因为\n",
    "# 在这个表里的 CUST_NO 字段出现 部分 字段是字符串，部分字段是整形，所以全部转为字符串\n",
    "test_data08_df = load_data('Data_Update/test/08_a_rcved_flow_test.tsv',\n",
    "                          converters={'CONS_NO':unicode}) \n",
    "\n",
    "# 3,710,654 条记录\n",
    "print(test_data08_df.shape)\n",
    "# data08 中 总用户数为：  311,222\n",
    "len(test_data08_df['CONS_NO'].unique())"
   ]
  },
  {
   "cell_type": "code",
   "execution_count": 130,
   "metadata": {
    "collapsed": true
   },
   "outputs": [
    {
     "name": "stdout",
     "output_type": "stream",
     "text": [
      "      CONS_NO   ORG_NO  RCVED_YM  RCVED_DATE  THIS_RCVED_AMT  THIS_PENALTY  \\\n",
      "0  6611825874  3340101    201501    20150113      1412988.62           0.0   \n",
      "1  1321072599  3340101    201501    20150127    -16579561.98           0.0   \n",
      "2  1321072599  3340101    201501    20150125       824632.00           0.0   \n",
      "3  6611825874  3340101    201501    20150129      1755876.57           0.0   \n",
      "4  1321072599  3340101    201501    20150114     16175368.00           0.0   \n",
      "\n",
      "       OWE_AMT  RCVBL_YM  RCVBL_PENALTY  \n",
      "0   1412988.62    201501            0.0  \n",
      "1  17404193.98    201501            0.0  \n",
      "2  17404193.98    201501            0.0  \n",
      "3   1755876.57    201501            0.0  \n",
      "4  16175368.00    201501            0.0  \n",
      "<class 'pandas.core.frame.DataFrame'>\n",
      "RangeIndex: 3710654 entries, 0 to 3710653\n",
      "Data columns (total 9 columns):\n",
      "CONS_NO           object\n",
      "ORG_NO            int64\n",
      "RCVED_YM          int64\n",
      "RCVED_DATE        int64\n",
      "THIS_RCVED_AMT    float64\n",
      "THIS_PENALTY      float64\n",
      "OWE_AMT           float64\n",
      "RCVBL_YM          int64\n",
      "RCVBL_PENALTY     float64\n",
      "dtypes: float64(4), int64(4), object(1)\n",
      "memory usage: 254.8+ MB\n",
      "None\n"
     ]
    }
   ],
   "source": [
    "# 3,710,654 条记录\n",
    "show_df_info(test_data08_df)"
   ]
  },
  {
   "cell_type": "markdown",
   "metadata": {},
   "source": [
    "###### 输出 测试集中 所有用户，共311,222个用户"
   ]
  },
  {
   "cell_type": "code",
   "execution_count": 18,
   "metadata": {
    "collapsed": false
   },
   "outputs": [
    {
     "data": {
      "text/plain": [
       "(311222,)"
      ]
     },
     "execution_count": 18,
     "metadata": {},
     "output_type": "execute_result"
    }
   ],
   "source": [
    "test_data08_cust_no_df = \\\n",
    "    test_data08_df['CONS_NO'].drop_duplicates()\n",
    "save_data(\n",
    "    test_data08_cust_no_df,\n",
    "    'test_data08_cust_no_df.csv'\n",
    ")\n",
    "test_data08_cust_no_df.shape"
   ]
  },
  {
   "cell_type": "markdown",
   "metadata": {},
   "source": [
    "###### 从文件中恢复"
   ]
  },
  {
   "cell_type": "code",
   "execution_count": 19,
   "metadata": {
    "collapsed": false
   },
   "outputs": [],
   "source": [
    "test_data08_cust_no_df = load_data('test_data08_cust_no_df.csv',\n",
    "                                   encoding='utf8',\n",
    "                                   converters={'CONS_NO':unicode}\n",
    "                                   )\n",
    "# 全部转为字符串，否则在连接表的时候会出问题\n"
   ]
  },
  {
   "cell_type": "markdown",
   "metadata": {},
   "source": [
    "##### 2-4-2-2 将数据连接上待预测用户列表"
   ]
  },
  {
   "cell_type": "code",
   "execution_count": 7,
   "metadata": {
    "collapsed": false
   },
   "outputs": [
    {
     "name": "stdout",
     "output_type": "stream",
     "text": [
      "CPU times: user 2.36 s, sys: 252 ms, total: 2.61 s\n",
      "Wall time: 2.61 s\n"
     ]
    }
   ],
   "source": [
    "%%time\n",
    "test_data08_merge_label_df = test_data08_df.merge(\n",
    "    test_data_labels_df,\n",
    "    left_on='CONS_NO',\n",
    "    right_on='CUST_NO',\n",
    "    how='left'\n",
    ")"
   ]
  },
  {
   "cell_type": "code",
   "execution_count": 9,
   "metadata": {
    "collapsed": true
   },
   "outputs": [
    {
     "data": {
      "text/plain": [
       "(3710654, 10)"
      ]
     },
     "execution_count": 9,
     "metadata": {},
     "output_type": "execute_result"
    }
   ],
   "source": [
    "test_data08_merge_label_df.shape"
   ]
  },
  {
   "cell_type": "code",
   "execution_count": 10,
   "metadata": {
    "collapsed": true
   },
   "outputs": [
    {
     "name": "stdout",
     "output_type": "stream",
     "text": [
      "Stored 'test_data08_merge_label_df' (DataFrame)\n"
     ]
    }
   ],
   "source": [
    "%store test_data08_merge_label_df"
   ]
  },
  {
   "cell_type": "code",
   "execution_count": 35,
   "metadata": {
    "collapsed": true
   },
   "outputs": [
    {
     "ename": "NameError",
     "evalue": "name 'test_data08_merge_label_df' is not defined",
     "output_type": "error",
     "traceback": [
      "\u001b[0;31m---------------------------------------------------------------------------\u001b[0m",
      "\u001b[0;31mNameError\u001b[0m                                 Traceback (most recent call last)",
      "\u001b[0;32m<ipython-input-35-a09d56ff09cf>\u001b[0m in \u001b[0;36m<module>\u001b[0;34m()\u001b[0m\n\u001b[1;32m      1\u001b[0m \u001b[0;31m# 没在测试集中的数据有0,即全部都在测试集合\u001b[0m\u001b[0;34m\u001b[0m\u001b[0;34m\u001b[0m\u001b[0m\n\u001b[0;32m----> 2\u001b[0;31m \u001b[0;32mprint\u001b[0m \u001b[0msum\u001b[0m\u001b[0;34m(\u001b[0m\u001b[0mtest_data08_merge_label_df\u001b[0m\u001b[0;34m[\u001b[0m\u001b[0;34m'CUST_NO'\u001b[0m\u001b[0;34m]\u001b[0m\u001b[0;34m.\u001b[0m\u001b[0misnull\u001b[0m\u001b[0;34m(\u001b[0m\u001b[0;34m)\u001b[0m\u001b[0;34m)\u001b[0m\u001b[0;34m\u001b[0m\u001b[0m\n\u001b[0m\u001b[1;32m      3\u001b[0m \u001b[0;31m# 总共用户数： 311222\u001b[0m\u001b[0;34m\u001b[0m\u001b[0;34m\u001b[0m\u001b[0m\n\u001b[1;32m      4\u001b[0m \u001b[0;32mprint\u001b[0m \u001b[0mlen\u001b[0m\u001b[0;34m(\u001b[0m\u001b[0mtest_data08_merge_label_df\u001b[0m\u001b[0;34m[\u001b[0m\u001b[0;34m'CONS_NO'\u001b[0m\u001b[0;34m]\u001b[0m\u001b[0;34m.\u001b[0m\u001b[0munique\u001b[0m\u001b[0;34m(\u001b[0m\u001b[0;34m)\u001b[0m\u001b[0;34m)\u001b[0m \u001b[0;34m==\u001b[0m \u001b[0;36m311222\u001b[0m\u001b[0;34m\u001b[0m\u001b[0m\n\u001b[1;32m      5\u001b[0m \u001b[0;31m# data01中用户 无 data08数据的 用户有 59,649\u001b[0m\u001b[0;34m\u001b[0m\u001b[0;34m\u001b[0m\u001b[0m\n",
      "\u001b[0;31mNameError\u001b[0m: name 'test_data08_merge_label_df' is not defined"
     ]
    },
    {
     "name": "stdout",
     "output_type": "stream",
     "text": [
      "> \u001b[0;32m<ipython-input-35-a09d56ff09cf>\u001b[0m(2)\u001b[0;36m<module>\u001b[0;34m()\u001b[0m\n",
      "\u001b[0;32m      1 \u001b[0;31m\u001b[0;31m# 没在测试集中的数据有0,即全部都在测试集合\u001b[0m\u001b[0;34m\u001b[0m\u001b[0;34m\u001b[0m\u001b[0m\n",
      "\u001b[0m\u001b[0;32m----> 2 \u001b[0;31m\u001b[0;32mprint\u001b[0m \u001b[0msum\u001b[0m\u001b[0;34m(\u001b[0m\u001b[0mtest_data08_merge_label_df\u001b[0m\u001b[0;34m[\u001b[0m\u001b[0;34m'CUST_NO'\u001b[0m\u001b[0;34m]\u001b[0m\u001b[0;34m.\u001b[0m\u001b[0misnull\u001b[0m\u001b[0;34m(\u001b[0m\u001b[0;34m)\u001b[0m\u001b[0;34m)\u001b[0m\u001b[0;34m\u001b[0m\u001b[0m\n",
      "\u001b[0m\u001b[0;32m      3 \u001b[0;31m\u001b[0;31m# 总共用户数： 311222\u001b[0m\u001b[0;34m\u001b[0m\u001b[0;34m\u001b[0m\u001b[0m\n",
      "\u001b[0m\u001b[0;32m      4 \u001b[0;31m\u001b[0;32mprint\u001b[0m \u001b[0mlen\u001b[0m\u001b[0;34m(\u001b[0m\u001b[0mtest_data08_merge_label_df\u001b[0m\u001b[0;34m[\u001b[0m\u001b[0;34m'CONS_NO'\u001b[0m\u001b[0;34m]\u001b[0m\u001b[0;34m.\u001b[0m\u001b[0munique\u001b[0m\u001b[0;34m(\u001b[0m\u001b[0;34m)\u001b[0m\u001b[0;34m)\u001b[0m \u001b[0;34m==\u001b[0m \u001b[0;36m311222\u001b[0m\u001b[0;34m\u001b[0m\u001b[0m\n",
      "\u001b[0m\u001b[0;32m      5 \u001b[0;31m\u001b[0;31m# data01中用户 无 data08数据的 用户有 59,649\u001b[0m\u001b[0;34m\u001b[0m\u001b[0;34m\u001b[0m\u001b[0m\n",
      "\u001b[0m\n",
      "ipdb> q\n"
     ]
    }
   ],
   "source": [
    "# 没在测试集中的数据有0,即全部都在测试集合\n",
    "print sum(test_data08_merge_label_df['CUST_NO'].isnull())\n",
    "# 总共用户数： 311222\n",
    "print len(test_data08_merge_label_df['CONS_NO'].unique()) == 311222\n",
    "# data01中用户 无 data08数据的 用户有 59,649\n",
    "print 370871-len(test_data08_merge_label_df['CONS_NO'].unique())"
   ]
  },
  {
   "cell_type": "markdown",
   "metadata": {},
   "source": [
    "#### 2-4-3 小结：\n",
    "- 训练集有：3,249,742个实收电费信息数据\n",
    "    - 不敏感：2,707,524;敏感：542,218,不敏感/敏感:0.200263\n",
    "    - 将训练集客户编号提取并去重，发现训练集只有 282,152用户编号\n",
    "           - 不敏感：236,493; 敏感：45,659, 不敏感/敏感:0.193067025\n",
    "    - 与表1用户比较\n",
    "        - 合并所有用户有：658374 (跟表1一样，即表8和表9中所有用户都在表1中)\n",
    "        - 在data08数据中，而不在data01数据中的用户数有：0\n",
    "        - 在data01数据中，而不在data08数据中的用户数有：376,222\n",
    "        - 字段\n",
    "            - ORG_NO            int64\n",
    "            - CONS_NO           object\n",
    "            - RCVED_YM          int64\n",
    "            - RCVED_DATE        int64\n",
    "            - THIS_RCVED_AMT    float64\n",
    "            - THIS_PENALTY      float64\n",
    "            - OWE_AMT           float64\n",
    "            - RCVBL_YM          int64\n",
    "            - RCVBL_PENALTY     float64\n",
    "            \n",
    "    - 在data01数据中用户数有：658,374 ,其中不敏感有： 578,349，敏感有：80,025，1/0 比例为 0.1383680\n",
    "    - 在data01数据中，而不在data08数据中的用户数有：376,222,其中不敏感有： 341856，敏感有：34366，1/0 比例为 0.1005277\n",
    "    - 在data01数据中，也在data08数据中的用户数有：282,152,其中不敏感有： 236493，敏感有：45659，1/0 比例为 0.1930670252\n",
    "        - 连接上表的data01表用户的敏感度要高于连接不上表的\n",
    "        \n",
    "        \n",
    "- 测试集有：  3,710,654个工单数据\n",
    "- 将测试集客户编号提取并去重，发现训练集只有 311,222 用户编号，全部都在test_to_predict.csv（370871个用户）中，\n",
    "    - 而 test_to_predict.csv 中有 59,649 个不在该表中\n"
   ]
  },
  {
   "cell_type": "markdown",
   "metadata": {},
   "source": [
    "## 3 进行不同特征的探索"
   ]
  },
  {
   "cell_type": "markdown",
   "metadata": {},
   "source": [
    "### 3-1 表1用户能否连接上08表"
   ]
  },
  {
   "cell_type": "markdown",
   "metadata": {},
   "source": [
    "#### 3-13-1 训练集"
   ]
  },
  {
   "cell_type": "code",
   "execution_count": 33,
   "metadata": {
    "collapsed": true
   },
   "outputs": [
    {
     "name": "stdout",
     "output_type": "stream",
     "text": [
      "CPU times: user 968 ms, sys: 296 ms, total: 1.26 s\n",
      "Wall time: 1.36 s\n"
     ]
    }
   ],
   "source": [
    "%%time\n",
    "temp = train_data01_a_worker_per_user.merge(\n",
    "    train_data08_cust_no_tag_df,\n",
    "    how='left',\n",
    "    left_on='CUST_NO', \n",
    "    right_on='CONS_NO'\n",
    ")\n",
    "# 全部先设置 为 0\n",
    "temp['IS_CONNECT_TO_08TABLE'] = 1\n",
    "temp.loc[temp['CONS_NO'].isnull(),'IS_CONNECT_TO_08TABLE']=0\n"
   ]
  },
  {
   "cell_type": "code",
   "execution_count": 36,
   "metadata": {
    "collapsed": false
   },
   "outputs": [],
   "source": [
    "# 修改\n",
    "train_data01_a_worker_per_user['IS_CONNECT_TO_08TABLE'] = temp['IS_CONNECT_TO_08TABLE']"
   ]
  },
  {
   "cell_type": "code",
   "execution_count": 38,
   "metadata": {
    "collapsed": true
   },
   "outputs": [
    {
     "data": {
      "text/plain": [
       "(True, True)"
      ]
     },
     "execution_count": 38,
     "metadata": {},
     "output_type": "execute_result"
    }
   ],
   "source": [
    "sum(temp['CONS_NO'].isnull()) == 376222,sum(train_data01_a_worker_per_user['IS_CONNECT_TO_08TABLE']==0) == 376222"
   ]
  },
  {
   "cell_type": "markdown",
   "metadata": {},
   "source": [
    "#### 3-13-2 测试集"
   ]
  },
  {
   "cell_type": "code",
   "execution_count": 39,
   "metadata": {
    "collapsed": false
   },
   "outputs": [
    {
     "name": "stdout",
     "output_type": "stream",
     "text": [
      "CPU times: user 740 ms, sys: 16 ms, total: 756 ms\n",
      "Wall time: 757 ms\n"
     ]
    }
   ],
   "source": [
    "%%time\n",
    "temp = test_data01_a_worker_per_user.merge(\n",
    "    test_data08_cust_no_df,\n",
    "    how='left',\n",
    "    left_on='CUST_NO', \n",
    "    right_on='CONS_NO'\n",
    ")\n",
    "\n",
    "# 全部先设置 为 0\n",
    "temp['IS_CONNECT_TO_08TABLE'] = 1\n",
    "temp.loc[temp['CONS_NO'].isnull(),'IS_CONNECT_TO_08TABLE']=0\n"
   ]
  },
  {
   "cell_type": "code",
   "execution_count": 43,
   "metadata": {
    "collapsed": false
   },
   "outputs": [],
   "source": [
    "# 修改\n",
    "test_data01_a_worker_per_user['IS_CONNECT_TO_08TABLE'] = temp['IS_CONNECT_TO_08TABLE']"
   ]
  },
  {
   "cell_type": "code",
   "execution_count": 44,
   "metadata": {
    "collapsed": false,
    "scrolled": true
   },
   "outputs": [
    {
     "data": {
      "text/plain": [
       "59649"
      ]
     },
     "execution_count": 44,
     "metadata": {},
     "output_type": "execute_result"
    }
   ],
   "source": [
    "# 59649\n",
    "sum(test_data01_a_worker_per_user['IS_CONNECT_TO_08TABLE']==0) "
   ]
  },
  {
   "cell_type": "markdown",
   "metadata": {},
   "source": [
    "### 3-13 实收年月 RCVED_YM     "
   ]
  },
  {
   "cell_type": "markdown",
   "metadata": {},
   "source": [
    "#### 3-13-1 训练集"
   ]
  },
  {
   "cell_type": "code",
   "execution_count": 160,
   "metadata": {
    "collapsed": true
   },
   "outputs": [
    {
     "name": "stdout",
     "output_type": "stream",
     "text": [
      "(12, 5)\n",
      "         total    tag0  tag0/total   tag1  tag1/total\n",
      "201501  246178  206355    0.838235  39823    0.161765\n",
      "201502  222141  187005    0.841830  35136    0.158170\n",
      "201503  288639  238481    0.826226  50158    0.173774\n",
      "201504  264855  220453    0.832354  44402    0.167646\n",
      "201505  270376  224940    0.831953  45436    0.168047\n",
      "201506  267961  223466    0.833950  44495    0.166050\n",
      "201507  275888  229281    0.831066  46607    0.168934\n",
      "201508  278303  232139    0.834123  46164    0.165877\n",
      "201509  279637  233244    0.834096  46393    0.165904\n",
      "201510  275274  229767    0.834685  45507    0.165315\n",
      "201511  274438  229987    0.838029  44451    0.161971\n",
      "201512  306052  252406    0.824716  53646    0.175284\n"
     ]
    },
    {
     "data": {
      "image/png": "[encoded data removed]",
      "text/plain": [
       "<matplotlib.figure.Figure at 0x7f53339c1950>"
      ]
     },
     "metadata": {},
     "output_type": "display_data"
    }
   ],
   "source": [
    "train_data08_merge_label_df_rcved_ym_count_df = show_attribute_detail(\n",
    "    train_data08_merge_label_df,\n",
    "    'RCVED_YM',\n",
    "    split_by_tag=True, \n",
    "    tag_name='TAG', \n",
    "    show_pic=True\n",
    ")\n",
    "print train_data08_merge_label_df_rcved_ym_count_df"
   ]
  },
  {
   "cell_type": "markdown",
   "metadata": {},
   "source": [
    "#### 3-13-2 测试集"
   ]
  },
  {
   "cell_type": "code",
   "execution_count": 161,
   "metadata": {
    "collapsed": true
   },
   "outputs": [
    {
     "name": "stdout",
     "output_type": "stream",
     "text": [
      "(12,)\n",
      "201501    291799\n",
      "201502    266335\n",
      "201503    325630\n",
      "201504    305061\n",
      "201505    308561\n",
      "201506    306030\n",
      "201507    311867\n",
      "201508    316573\n",
      "201509    318191\n",
      "201510    312335\n",
      "201511    312782\n",
      "201512    335490\n",
      "Name: RCVED_YM, dtype: int64\n"
     ]
    },
    {
     "data": {
      "image/png": "[encoded data removed]",
      "text/plain": [
       "<matplotlib.figure.Figure at 0x7f533ef7b7d0>"
      ]
     },
     "metadata": {},
     "output_type": "display_data"
    }
   ],
   "source": [
    "test_data08_merge_label_df_rcved_ym_count_df = show_attribute_detail(\n",
    "    test_data08_merge_label_df,\n",
    "    'RCVED_YM',\n",
    "    show_pic=True\n",
    ")\n",
    "print test_data08_merge_label_df_rcved_ym_count_df"
   ]
  },
  {
   "cell_type": "markdown",
   "metadata": {},
   "source": [
    "#### 3-13-3 小结\n",
    "- 每个月份都差不多，无价值"
   ]
  },
  {
   "cell_type": "markdown",
   "metadata": {},
   "source": [
    "### 3-14 8表 违约时间   RCVED_YM(实收日期) - RCVBL_YM(RCVBL_YM)"
   ]
  },
  {
   "cell_type": "markdown",
   "metadata": {},
   "source": [
    "#### 3-13-1 训练集"
   ]
  },
  {
   "cell_type": "code",
   "execution_count": 17,
   "metadata": {
    "collapsed": true
   },
   "outputs": [
    {
     "data": {
      "text/html": [
       "<div>\n",
       "<table border=\"1\" class=\"dataframe\">\n",
       "  <thead>\n",
       "    <tr style=\"text-align: right;\">\n",
       "      <th></th>\n",
       "      <th>ORG_NO</th>\n",
       "      <th>CONS_NO</th>\n",
       "      <th>RCVED_YM</th>\n",
       "      <th>RCVED_DATE</th>\n",
       "      <th>THIS_RCVED_AMT</th>\n",
       "      <th>THIS_PENALTY</th>\n",
       "      <th>OWE_AMT</th>\n",
       "      <th>RCVBL_YM</th>\n",
       "      <th>RCVBL_PENALTY</th>\n",
       "      <th>EXCEEDING_RCVBL_YM</th>\n",
       "    </tr>\n",
       "  </thead>\n",
       "  <tbody>\n",
       "    <tr>\n",
       "      <th>414952</th>\n",
       "      <td>334010102</td>\n",
       "      <td>6010564379</td>\n",
       "      <td>201510</td>\n",
       "      <td>20151021</td>\n",
       "      <td>5.98</td>\n",
       "      <td>0.0</td>\n",
       "      <td>5.98</td>\n",
       "      <td>201504</td>\n",
       "      <td>0.0</td>\n",
       "      <td>6</td>\n",
       "    </tr>\n",
       "    <tr>\n",
       "      <th>414953</th>\n",
       "      <td>334010102</td>\n",
       "      <td>6010564379</td>\n",
       "      <td>201510</td>\n",
       "      <td>20151021</td>\n",
       "      <td>7.98</td>\n",
       "      <td>0.0</td>\n",
       "      <td>7.98</td>\n",
       "      <td>201502</td>\n",
       "      <td>0.0</td>\n",
       "      <td>8</td>\n",
       "    </tr>\n",
       "    <tr>\n",
       "      <th>1384722</th>\n",
       "      <td>33401011021</td>\n",
       "      <td>6010564379</td>\n",
       "      <td>201510</td>\n",
       "      <td>20151021</td>\n",
       "      <td>4.85</td>\n",
       "      <td>1.0</td>\n",
       "      <td>4.85</td>\n",
       "      <td>201509</td>\n",
       "      <td>0.1</td>\n",
       "      <td>1</td>\n",
       "    </tr>\n",
       "    <tr>\n",
       "      <th>1507535</th>\n",
       "      <td>33401011021</td>\n",
       "      <td>6010564379</td>\n",
       "      <td>201511</td>\n",
       "      <td>20151126</td>\n",
       "      <td>18.23</td>\n",
       "      <td>0.0</td>\n",
       "      <td>18.23</td>\n",
       "      <td>201511</td>\n",
       "      <td>0.0</td>\n",
       "      <td>0</td>\n",
       "    </tr>\n",
       "    <tr>\n",
       "      <th>1579476</th>\n",
       "      <td>33401011021</td>\n",
       "      <td>6010564379</td>\n",
       "      <td>201512</td>\n",
       "      <td>20151210</td>\n",
       "      <td>149.19</td>\n",
       "      <td>0.0</td>\n",
       "      <td>149.19</td>\n",
       "      <td>201512</td>\n",
       "      <td>0.0</td>\n",
       "      <td>0</td>\n",
       "    </tr>\n",
       "  </tbody>\n",
       "</table>\n",
       "</div>"
      ],
      "text/plain": [
       "              ORG_NO     CONS_NO  RCVED_YM  RCVED_DATE  THIS_RCVED_AMT  \\\n",
       "414952     334010102  6010564379    201510    20151021            5.98   \n",
       "414953     334010102  6010564379    201510    20151021            7.98   \n",
       "1384722  33401011021  6010564379    201510    20151021            4.85   \n",
       "1507535  33401011021  6010564379    201511    20151126           18.23   \n",
       "1579476  33401011021  6010564379    201512    20151210          149.19   \n",
       "\n",
       "         THIS_PENALTY  OWE_AMT  RCVBL_YM  RCVBL_PENALTY  EXCEEDING_RCVBL_YM  \n",
       "414952            0.0     5.98    201504            0.0                   6  \n",
       "414953            0.0     7.98    201502            0.0                   8  \n",
       "1384722           1.0     4.85    201509            0.1                   1  \n",
       "1507535           0.0    18.23    201511            0.0                   0  \n",
       "1579476           0.0   149.19    201512            0.0                   0  "
      ]
     },
     "execution_count": 17,
     "metadata": {},
     "output_type": "execute_result"
    }
   ],
   "source": [
    "train_data08_df[train_data08_df['CONS_NO']=='6010564379']"
   ]
  },
  {
   "cell_type": "markdown",
   "metadata": {},
   "source": [
    "##### 超出 应收时间的月数  EXCEEDING_RCVBL_YM"
   ]
  },
  {
   "cell_type": "code",
   "execution_count": 6,
   "metadata": {
    "collapsed": true
   },
   "outputs": [],
   "source": [
    "train_data08_df['EXCEEDING_RCVBL_YM'] = train_data08_df['RCVED_YM']-train_data08_df['RCVBL_YM']"
   ]
  },
  {
   "cell_type": "code",
   "execution_count": 24,
   "metadata": {
    "collapsed": false
   },
   "outputs": [
    {
     "name": "stdout",
     "output_type": "stream",
     "text": [
      "CPU times: user 53.3 s, sys: 208 ms, total: 53.5 s\n",
      "Wall time: 53.3 s\n"
     ]
    }
   ],
   "source": [
    "%%time\n",
    "# 统计是否有 违约1个月以上\n",
    "train_data08_cons_no_exceeding_rcvbl_ge1_series = \\\n",
    "    train_data08_df.groupby('CONS_NO')['EXCEEDING_RCVBL_YM'].apply(lambda x : int(sum(x>1)>0))"
   ]
  },
  {
   "cell_type": "code",
   "execution_count": 25,
   "metadata": {
    "collapsed": true
   },
   "outputs": [
    {
     "data": {
      "text/plain": [
       "CONS_NO\n",
       "0002471802    0\n",
       "0002471815    0\n",
       "0002476706    1\n",
       "0002506278    0\n",
       "0002557351    0\n",
       "Name: EXCEEDING_RCVBL_YM, dtype: int64"
      ]
     },
     "execution_count": 25,
     "metadata": {},
     "output_type": "execute_result"
    }
   ],
   "source": [
    "train_data08_cons_no_exceeding_rcvbl_ge1_series.head()"
   ]
  },
  {
   "cell_type": "code",
   "execution_count": null,
   "metadata": {
    "collapsed": true
   },
   "outputs": [],
   "source": [
    "train_data01_"
   ]
  },
  {
   "cell_type": "code",
   "execution_count": 22,
   "metadata": {
    "collapsed": true
   },
   "outputs": [
    {
     "data": {
      "text/html": [
       "<div>\n",
       "<table border=\"1\" class=\"dataframe\">\n",
       "  <thead>\n",
       "    <tr style=\"text-align: right;\">\n",
       "      <th></th>\n",
       "      <th>ORG_NO</th>\n",
       "      <th>CONS_NO</th>\n",
       "      <th>RCVED_YM</th>\n",
       "      <th>RCVED_DATE</th>\n",
       "      <th>THIS_RCVED_AMT</th>\n",
       "      <th>THIS_PENALTY</th>\n",
       "      <th>OWE_AMT</th>\n",
       "      <th>RCVBL_YM</th>\n",
       "      <th>RCVBL_PENALTY</th>\n",
       "      <th>EXCEEDING_RCVBL_YM</th>\n",
       "    </tr>\n",
       "  </thead>\n",
       "  <tbody>\n",
       "    <tr>\n",
       "      <th>833</th>\n",
       "      <td>3340101</td>\n",
       "      <td>1321042853</td>\n",
       "      <td>201510</td>\n",
       "      <td>20151016</td>\n",
       "      <td>-315203.64</td>\n",
       "      <td>-49171.77</td>\n",
       "      <td>315203.64</td>\n",
       "      <td>201507</td>\n",
       "      <td>-49171.77</td>\n",
       "      <td>3</td>\n",
       "    </tr>\n",
       "    <tr>\n",
       "      <th>834</th>\n",
       "      <td>3340101</td>\n",
       "      <td>1321042853</td>\n",
       "      <td>201510</td>\n",
       "      <td>20151016</td>\n",
       "      <td>-510247.01</td>\n",
       "      <td>-67352.61</td>\n",
       "      <td>510247.01</td>\n",
       "      <td>201507</td>\n",
       "      <td>-67352.61</td>\n",
       "      <td>3</td>\n",
       "    </tr>\n",
       "    <tr>\n",
       "      <th>835</th>\n",
       "      <td>3340101</td>\n",
       "      <td>1321042853</td>\n",
       "      <td>201510</td>\n",
       "      <td>20151016</td>\n",
       "      <td>315203.64</td>\n",
       "      <td>55475.84</td>\n",
       "      <td>315203.64</td>\n",
       "      <td>201507</td>\n",
       "      <td>55475.84</td>\n",
       "      <td>3</td>\n",
       "    </tr>\n",
       "    <tr>\n",
       "      <th>836</th>\n",
       "      <td>3340101</td>\n",
       "      <td>1321042853</td>\n",
       "      <td>201510</td>\n",
       "      <td>20151016</td>\n",
       "      <td>285868.50</td>\n",
       "      <td>43452.02</td>\n",
       "      <td>510247.01</td>\n",
       "      <td>201507</td>\n",
       "      <td>43452.01</td>\n",
       "      <td>3</td>\n",
       "    </tr>\n",
       "    <tr>\n",
       "      <th>837</th>\n",
       "      <td>3340101</td>\n",
       "      <td>1321042853</td>\n",
       "      <td>201510</td>\n",
       "      <td>20151006</td>\n",
       "      <td>315203.64</td>\n",
       "      <td>49171.77</td>\n",
       "      <td>315203.64</td>\n",
       "      <td>201507</td>\n",
       "      <td>49171.77</td>\n",
       "      <td>3</td>\n",
       "    </tr>\n",
       "  </tbody>\n",
       "</table>\n",
       "</div>"
      ],
      "text/plain": [
       "      ORG_NO     CONS_NO  RCVED_YM  RCVED_DATE  THIS_RCVED_AMT  THIS_PENALTY  \\\n",
       "833  3340101  1321042853    201510    20151016      -315203.64     -49171.77   \n",
       "834  3340101  1321042853    201510    20151016      -510247.01     -67352.61   \n",
       "835  3340101  1321042853    201510    20151016       315203.64      55475.84   \n",
       "836  3340101  1321042853    201510    20151016       285868.50      43452.02   \n",
       "837  3340101  1321042853    201510    20151006       315203.64      49171.77   \n",
       "\n",
       "       OWE_AMT  RCVBL_YM  RCVBL_PENALTY  EXCEEDING_RCVBL_YM  \n",
       "833  315203.64    201507      -49171.77                   3  \n",
       "834  510247.01    201507      -67352.61                   3  \n",
       "835  315203.64    201507       55475.84                   3  \n",
       "836  510247.01    201507       43452.01                   3  \n",
       "837  315203.64    201507       49171.77                   3  "
      ]
     },
     "execution_count": 22,
     "metadata": {},
     "output_type": "execute_result"
    }
   ],
   "source": [
    "train_data08_df[train_data08_df['EXCEEDING_RCVBL_YM']>2].head()"
   ]
  },
  {
   "cell_type": "markdown",
   "metadata": {},
   "source": [
    "##### 是否违约超过一个月 ----添加到 train_data01_a_worker_per_user中"
   ]
  },
  {
   "cell_type": "code",
   "execution_count": 26,
   "metadata": {
    "collapsed": false
   },
   "outputs": [],
   "source": [
    "# 是否违约超过一个月\n",
    "train_data01_a_worker_per_user['IS_EXCEEDING_RCVBL_YM_GE_1MON'] = \\\n",
    "    train_data01_a_worker_per_user['CUST_NO'].map(train_data08_cons_no_exceeding_rcvbl_ge1_series)\n"
   ]
  },
  {
   "cell_type": "code",
   "execution_count": 17,
   "metadata": {
    "collapsed": false
   },
   "outputs": [],
   "source": [
    "# 连接不上的用户 设置为2\n",
    "train_data01_a_worker_per_user['IS_EXCEEDING_RCVBL_YM_GE_1MON'] = \\\n",
    "    train_data01_a_worker_per_user['IS_EXCEEDING_RCVBL_YM_GE_1MON'].fillna(2)"
   ]
  },
  {
   "cell_type": "code",
   "execution_count": 29,
   "metadata": {
    "collapsed": true
   },
   "outputs": [
    {
     "data": {
      "text/plain": [
       "APP_NO                                        2015101280034874\n",
       "ID                                            1000000527323992\n",
       "BUSI_TYPE_CODE                                               3\n",
       "URBAN_RURAL_FLAG                                             1\n",
       "ORG_NO                                                   33401\n",
       "HANDLE_TIME                                 2015/10/12 9:25:31\n",
       "ACCEPT_CONTENT                               【查询电费】客户查询电费，已告知。\n",
       "HANDLE_OPINION                                             NaN\n",
       "CALLING_NO                                         1.71473e+06\n",
       "ELEC_TYPE                                                  202\n",
       "CUST_NO                                             6010564379\n",
       "PROV_ORG_NO                                              33101\n",
       "CITY_ORG_NO                                              33401\n",
       "TAG                                                          0\n",
       "NUM_OF_WORKER                                                1\n",
       "ACCEPT_CONTENT_TYPE                                       查询电费\n",
       "IS_SEARCH_ACTION                                             1\n",
       "NUM_OF_SEARCH_ACTION                                         1\n",
       "HANDLE_HOUR                                                  9\n",
       "HANDLE_YEAR                                               2015\n",
       "HANDLE_MONTH                                                10\n",
       "HANDLE_DAY                                                  12\n",
       "NUM_OF_IN_SEASON4                                            1\n",
       "IS_HIGHEST_SENSITIVE_ACCEPT_CONTENT_TYPE                     1\n",
       "total                                                   254827\n",
       "tag0                                                    205199\n",
       "tag0/total                                            0.805248\n",
       "tag1                                                     49628\n",
       "tag1/total                                            0.194752\n",
       "test_total                                              122057\n",
       "IS_CONNECT_TO_09TABLE                                        1\n",
       "total_after09table                                      221801\n",
       "tag1_after09table                                        49628\n",
       "tag1/total_after09table                                0.22375\n",
       "tag0_after09table                                       172173\n",
       "tag0/total_after09table                                0.77625\n",
       "test_total_after09table                                  60286\n",
       "IS_CONNECT_TO_08TABLE                                        1\n",
       "NUM_OF_RCVBL_PENALTY                                         1\n",
       "IS_CONNECT_TO_06TABLE                                        0\n",
       "CONT_TYPE                                                  NaN\n",
       "IS_CONNECT_TO_07TABLE                                        0\n",
       "CONS_STATUS                                                NaN\n",
       "STATUS                                                     NaN\n",
       "RCA_FLAG                                                   NaN\n",
       "ORG_NO_7bit                                         3.3401e+06\n",
       "AVERAGE_RCVBL_AMT                                      16.3864\n",
       "IS_EXCEEDING_RCVBL_YM_GE_1MON                                1\n",
       "Name: 35, dtype: object"
      ]
     },
     "execution_count": 29,
     "metadata": {},
     "output_type": "execute_result"
    }
   ],
   "source": [
    "train_data01_a_worker_per_user[train_data01_a_worker_per_user['IS_EXCEEDING_RCVBL_YM_GE_1MON']>0].iloc[0]"
   ]
  },
  {
   "cell_type": "code",
   "execution_count": 20,
   "metadata": {
    "collapsed": true
   },
   "outputs": [
    {
     "name": "stdout",
     "output_type": "stream",
     "text": [
      "(2,)\n"
     ]
    },
    {
     "data": {
      "text/plain": [
       "0    9155\n",
       "1    4112\n",
       "Name: TAG, dtype: int64"
      ]
     },
     "execution_count": 20,
     "metadata": {},
     "output_type": "execute_result"
    },
    {
     "data": {
      "image/png": "[encoded data removed]",
      "text/plain": [
       "<matplotlib.figure.Figure at 0x7ff90e806e90>"
      ]
     },
     "metadata": {},
     "output_type": "display_data"
    }
   ],
   "source": [
    "show_attribute_detail(\n",
    "    train_data01_a_worker_per_user[train_data01_a_worker_per_user['IS_EXCEEDING_RCVBL_YM_GE_1MON']>0],\n",
    "    'TAG'\n",
    ")"
   ]
  },
  {
   "cell_type": "markdown",
   "metadata": {},
   "source": [
    "#### 3-13-1 测试集"
   ]
  },
  {
   "cell_type": "markdown",
   "metadata": {},
   "source": [
    "##### 超出 应收时间的月数  EXCEEDING_RCVBL_YM"
   ]
  },
  {
   "cell_type": "code",
   "execution_count": 31,
   "metadata": {
    "collapsed": true
   },
   "outputs": [],
   "source": [
    "test_data08_df['EXCEEDING_RCVBL_YM'] = test_data08_df['RCVED_YM']-test_data08_df['RCVBL_YM']"
   ]
  },
  {
   "cell_type": "code",
   "execution_count": 32,
   "metadata": {
    "collapsed": false
   },
   "outputs": [
    {
     "name": "stdout",
     "output_type": "stream",
     "text": [
      "CPU times: user 54.1 s, sys: 284 ms, total: 54.4 s\n",
      "Wall time: 54.2 s\n"
     ]
    }
   ],
   "source": [
    "%%time\n",
    "# 统计是否有 违约1个月以上\n",
    "test_data08_cons_no_exceeding_rcvbl_ge1_series = \\\n",
    "    test_data08_df.groupby('CONS_NO')['EXCEEDING_RCVBL_YM'].apply(lambda x : int(sum(x>1)>0))"
   ]
  },
  {
   "cell_type": "code",
   "execution_count": 33,
   "metadata": {
    "collapsed": false
   },
   "outputs": [
    {
     "data": {
      "text/plain": [
       "CONS_NO\n",
       "0002460938    0\n",
       "0002506210    0\n",
       "0002581691    0\n",
       "0002581910    0\n",
       "0002582157    0\n",
       "Name: EXCEEDING_RCVBL_YM, dtype: int64"
      ]
     },
     "execution_count": 33,
     "metadata": {},
     "output_type": "execute_result"
    }
   ],
   "source": [
    "test_data08_cons_no_exceeding_rcvbl_ge1_series.head()"
   ]
  },
  {
   "cell_type": "code",
   "execution_count": 34,
   "metadata": {
    "collapsed": true
   },
   "outputs": [
    {
     "data": {
      "text/html": [
       "<div>\n",
       "<table border=\"1\" class=\"dataframe\">\n",
       "  <thead>\n",
       "    <tr style=\"text-align: right;\">\n",
       "      <th></th>\n",
       "      <th>CONS_NO</th>\n",
       "      <th>ORG_NO</th>\n",
       "      <th>RCVED_YM</th>\n",
       "      <th>RCVED_DATE</th>\n",
       "      <th>THIS_RCVED_AMT</th>\n",
       "      <th>THIS_PENALTY</th>\n",
       "      <th>OWE_AMT</th>\n",
       "      <th>RCVBL_YM</th>\n",
       "      <th>RCVBL_PENALTY</th>\n",
       "      <th>EXCEEDING_RCVBL_YM</th>\n",
       "    </tr>\n",
       "  </thead>\n",
       "  <tbody>\n",
       "    <tr>\n",
       "      <th>22958</th>\n",
       "      <td>6023006132</td>\n",
       "      <td>334010101</td>\n",
       "      <td>201504</td>\n",
       "      <td>20150401</td>\n",
       "      <td>37.02</td>\n",
       "      <td>2.18</td>\n",
       "      <td>37.02</td>\n",
       "      <td>201501</td>\n",
       "      <td>2.18</td>\n",
       "      <td>3</td>\n",
       "    </tr>\n",
       "    <tr>\n",
       "      <th>22989</th>\n",
       "      <td>6023181182</td>\n",
       "      <td>334010101</td>\n",
       "      <td>201504</td>\n",
       "      <td>20150402</td>\n",
       "      <td>76.93</td>\n",
       "      <td>4.62</td>\n",
       "      <td>76.93</td>\n",
       "      <td>201501</td>\n",
       "      <td>4.62</td>\n",
       "      <td>3</td>\n",
       "    </tr>\n",
       "    <tr>\n",
       "      <th>23057</th>\n",
       "      <td>6023116123</td>\n",
       "      <td>334010101</td>\n",
       "      <td>201504</td>\n",
       "      <td>20150401</td>\n",
       "      <td>186.14</td>\n",
       "      <td>10.98</td>\n",
       "      <td>186.14</td>\n",
       "      <td>201501</td>\n",
       "      <td>10.98</td>\n",
       "      <td>3</td>\n",
       "    </tr>\n",
       "    <tr>\n",
       "      <th>23066</th>\n",
       "      <td>6023132626</td>\n",
       "      <td>334010101</td>\n",
       "      <td>201504</td>\n",
       "      <td>20150401</td>\n",
       "      <td>68.29</td>\n",
       "      <td>4.03</td>\n",
       "      <td>68.29</td>\n",
       "      <td>201501</td>\n",
       "      <td>4.03</td>\n",
       "      <td>3</td>\n",
       "    </tr>\n",
       "    <tr>\n",
       "      <th>23110</th>\n",
       "      <td>6011056875</td>\n",
       "      <td>334010101</td>\n",
       "      <td>201504</td>\n",
       "      <td>20150401</td>\n",
       "      <td>76.62</td>\n",
       "      <td>4.52</td>\n",
       "      <td>76.62</td>\n",
       "      <td>201501</td>\n",
       "      <td>4.52</td>\n",
       "      <td>3</td>\n",
       "    </tr>\n",
       "  </tbody>\n",
       "</table>\n",
       "</div>"
      ],
      "text/plain": [
       "          CONS_NO     ORG_NO  RCVED_YM  RCVED_DATE  THIS_RCVED_AMT  \\\n",
       "22958  6023006132  334010101    201504    20150401           37.02   \n",
       "22989  6023181182  334010101    201504    20150402           76.93   \n",
       "23057  6023116123  334010101    201504    20150401          186.14   \n",
       "23066  6023132626  334010101    201504    20150401           68.29   \n",
       "23110  6011056875  334010101    201504    20150401           76.62   \n",
       "\n",
       "       THIS_PENALTY  OWE_AMT  RCVBL_YM  RCVBL_PENALTY  EXCEEDING_RCVBL_YM  \n",
       "22958          2.18    37.02    201501           2.18                   3  \n",
       "22989          4.62    76.93    201501           4.62                   3  \n",
       "23057         10.98   186.14    201501          10.98                   3  \n",
       "23066          4.03    68.29    201501           4.03                   3  \n",
       "23110          4.52    76.62    201501           4.52                   3  "
      ]
     },
     "execution_count": 34,
     "metadata": {},
     "output_type": "execute_result"
    }
   ],
   "source": [
    "test_data08_df[test_data08_df['EXCEEDING_RCVBL_YM']>2].head()"
   ]
  },
  {
   "cell_type": "markdown",
   "metadata": {},
   "source": [
    "##### 是否违约超过一个月 ----添加到 train_data01_a_worker_per_user中"
   ]
  },
  {
   "cell_type": "code",
   "execution_count": 35,
   "metadata": {
    "collapsed": false
   },
   "outputs": [],
   "source": [
    "# 是否违约超过一个月\n",
    "test_data01_a_worker_per_user['IS_EXCEEDING_RCVBL_YM_GE_1MON'] = \\\n",
    "    test_data01_a_worker_per_user['CUST_NO'].map(test_data08_cons_no_exceeding_rcvbl_ge1_series)\n"
   ]
  },
  {
   "cell_type": "code",
   "execution_count": 18,
   "metadata": {
    "collapsed": false
   },
   "outputs": [],
   "source": [
    "# 连接不上的用户 设置为2\n",
    "test_data01_a_worker_per_user['IS_EXCEEDING_RCVBL_YM_GE_1MON'] = \\\n",
    "    test_data01_a_worker_per_user['IS_EXCEEDING_RCVBL_YM_GE_1MON'].fillna(2)"
   ]
  },
  {
   "cell_type": "code",
   "execution_count": 38,
   "metadata": {
    "collapsed": true
   },
   "outputs": [
    {
     "data": {
      "text/plain": [
       "(6081, 47)"
      ]
     },
     "execution_count": 38,
     "metadata": {},
     "output_type": "execute_result"
    }
   ],
   "source": [
    "test_data01_a_worker_per_user[test_data01_a_worker_per_user['IS_EXCEEDING_RCVBL_YM_GE_1MON']>0].shape"
   ]
  },
  {
   "cell_type": "markdown",
   "metadata": {},
   "source": [
    "### 3-14 本次实收电费 THIS_RCVED_AMT     "
   ]
  },
  {
   "cell_type": "markdown",
   "metadata": {},
   "source": [
    "#### 3-13-1 训练集"
   ]
  },
  {
   "cell_type": "code",
   "execution_count": 12,
   "metadata": {
    "collapsed": true
   },
   "outputs": [
    {
     "data": {
      "text/html": [
       "<div>\n",
       "<table border=\"1\" class=\"dataframe\">\n",
       "  <thead>\n",
       "    <tr style=\"text-align: right;\">\n",
       "      <th></th>\n",
       "      <th>CONS_NO</th>\n",
       "      <th>RCVBL_YM</th>\n",
       "      <th>ORG_NO</th>\n",
       "      <th>PAY_MODE</th>\n",
       "      <th>T_PQ</th>\n",
       "      <th>RCVBL_AMT</th>\n",
       "      <th>RCVED_AMT</th>\n",
       "      <th>STATUS_CODE</th>\n",
       "      <th>RCVBL_PENALTY</th>\n",
       "      <th>RCVED_PENALTY</th>\n",
       "      <th>RISK_LEVEL_CODE</th>\n",
       "      <th>OWE_AMT</th>\n",
       "      <th>CONS_SORT_CODE</th>\n",
       "      <th>ELEC_TYPE_CODE</th>\n",
       "      <th>CTL_MODE</th>\n",
       "      <th>CUST_NO</th>\n",
       "      <th>TAG</th>\n",
       "    </tr>\n",
       "  </thead>\n",
       "  <tbody>\n",
       "    <tr>\n",
       "      <th>0</th>\n",
       "      <td>6010969031</td>\n",
       "      <td>201502</td>\n",
       "      <td>33401010130</td>\n",
       "      <td>10101.0</td>\n",
       "      <td>1869</td>\n",
       "      <td>1768.07</td>\n",
       "      <td>1768.07</td>\n",
       "      <td>1</td>\n",
       "      <td>0.00</td>\n",
       "      <td>0.00</td>\n",
       "      <td>NaN</td>\n",
       "      <td>1768.07</td>\n",
       "      <td>2.0</td>\n",
       "      <td>403.0</td>\n",
       "      <td>NaN</td>\n",
       "      <td>NaN</td>\n",
       "      <td>0</td>\n",
       "    </tr>\n",
       "    <tr>\n",
       "      <th>1</th>\n",
       "      <td>6010811670</td>\n",
       "      <td>201502</td>\n",
       "      <td>33401010130</td>\n",
       "      <td>10101.0</td>\n",
       "      <td>2791</td>\n",
       "      <td>2640.29</td>\n",
       "      <td>2640.29</td>\n",
       "      <td>1</td>\n",
       "      <td>0.00</td>\n",
       "      <td>0.00</td>\n",
       "      <td>NaN</td>\n",
       "      <td>2640.29</td>\n",
       "      <td>2.0</td>\n",
       "      <td>403.0</td>\n",
       "      <td>NaN</td>\n",
       "      <td>NaN</td>\n",
       "      <td>0</td>\n",
       "    </tr>\n",
       "    <tr>\n",
       "      <th>2</th>\n",
       "      <td>6010777305</td>\n",
       "      <td>201502</td>\n",
       "      <td>33401010130</td>\n",
       "      <td>20311.0</td>\n",
       "      <td>1883</td>\n",
       "      <td>1058.25</td>\n",
       "      <td>1058.25</td>\n",
       "      <td>1</td>\n",
       "      <td>2.12</td>\n",
       "      <td>2.12</td>\n",
       "      <td>NaN</td>\n",
       "      <td>1058.25</td>\n",
       "      <td>3.0</td>\n",
       "      <td>202.0</td>\n",
       "      <td>NaN</td>\n",
       "      <td>NaN</td>\n",
       "      <td>0</td>\n",
       "    </tr>\n",
       "    <tr>\n",
       "      <th>3</th>\n",
       "      <td>6010777296</td>\n",
       "      <td>201502</td>\n",
       "      <td>33401010130</td>\n",
       "      <td>20311.0</td>\n",
       "      <td>4279</td>\n",
       "      <td>3585.80</td>\n",
       "      <td>3585.80</td>\n",
       "      <td>1</td>\n",
       "      <td>0.00</td>\n",
       "      <td>0.00</td>\n",
       "      <td>NaN</td>\n",
       "      <td>3585.80</td>\n",
       "      <td>3.0</td>\n",
       "      <td>201.0</td>\n",
       "      <td>NaN</td>\n",
       "      <td>NaN</td>\n",
       "      <td>0</td>\n",
       "    </tr>\n",
       "    <tr>\n",
       "      <th>4</th>\n",
       "      <td>6010777190</td>\n",
       "      <td>201502</td>\n",
       "      <td>33401010130</td>\n",
       "      <td>20311.0</td>\n",
       "      <td>2514</td>\n",
       "      <td>1561.93</td>\n",
       "      <td>1561.93</td>\n",
       "      <td>1</td>\n",
       "      <td>0.00</td>\n",
       "      <td>0.00</td>\n",
       "      <td>NaN</td>\n",
       "      <td>1561.93</td>\n",
       "      <td>3.0</td>\n",
       "      <td>202.0</td>\n",
       "      <td>NaN</td>\n",
       "      <td>NaN</td>\n",
       "      <td>0</td>\n",
       "    </tr>\n",
       "  </tbody>\n",
       "</table>\n",
       "</div>"
      ],
      "text/plain": [
       "      CONS_NO  RCVBL_YM       ORG_NO  PAY_MODE  T_PQ  RCVBL_AMT  RCVED_AMT  \\\n",
       "0  6010969031    201502  33401010130   10101.0  1869    1768.07    1768.07   \n",
       "1  6010811670    201502  33401010130   10101.0  2791    2640.29    2640.29   \n",
       "2  6010777305    201502  33401010130   20311.0  1883    1058.25    1058.25   \n",
       "3  6010777296    201502  33401010130   20311.0  4279    3585.80    3585.80   \n",
       "4  6010777190    201502  33401010130   20311.0  2514    1561.93    1561.93   \n",
       "\n",
       "   STATUS_CODE  RCVBL_PENALTY  RCVED_PENALTY  RISK_LEVEL_CODE  OWE_AMT  \\\n",
       "0            1           0.00           0.00              NaN  1768.07   \n",
       "1            1           0.00           0.00              NaN  2640.29   \n",
       "2            1           2.12           2.12              NaN  1058.25   \n",
       "3            1           0.00           0.00              NaN  3585.80   \n",
       "4            1           0.00           0.00              NaN  1561.93   \n",
       "\n",
       "   CONS_SORT_CODE  ELEC_TYPE_CODE  CTL_MODE CUST_NO  TAG  \n",
       "0             2.0           403.0       NaN     NaN    0  \n",
       "1             2.0           403.0       NaN     NaN    0  \n",
       "2             3.0           202.0       NaN     NaN    0  \n",
       "3             3.0           201.0       NaN     NaN    0  \n",
       "4             3.0           202.0       NaN     NaN    0  "
      ]
     },
     "execution_count": 12,
     "metadata": {},
     "output_type": "execute_result"
    }
   ],
   "source": [
    "train_data09_merge_label_df.head()"
   ]
  },
  {
   "cell_type": "code",
   "execution_count": 130,
   "metadata": {
    "collapsed": false
   },
   "outputs": [
    {
     "name": "stdout",
     "output_type": "stream",
     "text": [
      "CPU times: user 2.84 s, sys: 748 ms, total: 3.58 s\n",
      "Wall time: 4.58 s\n"
     ]
    }
   ],
   "source": [
    "%%time\n",
    "train_data08_merge_label_this_reved_amt_sum_df = \\\n",
    "    train_data08_merge_label_df.groupby(by=['CONS_NO','RCVBL_YM'],as_index=False)['THIS_RCVED_AMT'].sum()"
   ]
  },
  {
   "cell_type": "code",
   "execution_count": 130,
   "metadata": {
    "collapsed": false
   },
   "outputs": [
    {
     "name": "stdout",
     "output_type": "stream",
     "text": [
      "CPU times: user 2.84 s, sys: 748 ms, total: 3.58 s\n",
      "Wall time: 4.58 s\n"
     ]
    }
   ],
   "source": [
    "%%time\n",
    "train_data08_merge_label_this_reved_amt_sum_df = \\\n",
    "    train_data08_merge_label_df.groupby(by=['CONS_NO','RCVBL_YM'],as_index=False)['THIS_PENALTY'].sum()"
   ]
  },
  {
   "cell_type": "code",
   "execution_count": 125,
   "metadata": {
    "collapsed": false
   },
   "outputs": [
    {
     "name": "stdout",
     "output_type": "stream",
     "text": [
      "CPU times: user 5.29 s, sys: 2.43 s, total: 7.72 s\n",
      "Wall time: 10.6 s\n"
     ]
    }
   ],
   "source": [
    "%%time\n",
    "train_data09_merge_label_reved_amt_sum_df = \\\n",
    "    train_data09_merge_label_df.groupby(by=['CONS_NO','RCVBL_YM'],as_index=False)['RCVED_AMT'].sum()"
   ]
  },
  {
   "cell_type": "code",
   "execution_count": 125,
   "metadata": {
    "collapsed": false
   },
   "outputs": [
    {
     "name": "stdout",
     "output_type": "stream",
     "text": [
      "CPU times: user 5.29 s, sys: 2.43 s, total: 7.72 s\n",
      "Wall time: 10.6 s\n"
     ]
    }
   ],
   "source": [
    "%%time\n",
    "train_data09_merge_label_reved_amt_sum_df = \\\n",
    "    train_data09_merge_label_df.groupby(by=['CONS_NO','RCVBL_YM'],as_index=False)['RCVED_PENALTY'].sum()"
   ]
  },
  {
   "cell_type": "code",
   "execution_count": 131,
   "metadata": {
    "collapsed": true
   },
   "outputs": [
    {
     "name": "stdout",
     "output_type": "stream",
     "text": [
      "      CONS_NO  RCVBL_YM  THIS_RCVED_AMT\n",
      "0  1081380222    201502          201.75\n",
      "1  1100506263    201505           16.50\n",
      "2  1100506385    201501           55.10\n",
      "3  1100507494    201509           19.92\n",
      "4  1100508075    201503           60.79\n",
      "      CONS_NO  RCVBL_YM   RCVED_AMT\n",
      "0  1000101001    201501  5301415.41\n",
      "1  1000101001    201502  4372080.02\n",
      "2  1000101001    201503  4829490.74\n",
      "3  1000101001    201504  5375305.81\n",
      "4  1000101001    201505  5294991.89\n"
     ]
    }
   ],
   "source": [
    "print train_data08_merge_label_this_reved_amt_sum_df.head()\n",
    "print train_data09_merge_label_reved_amt_sum_df.head()"
   ]
  },
  {
   "cell_type": "code",
   "execution_count": null,
   "metadata": {
    "collapsed": true
   },
   "outputs": [
    {
     "name": "stdout",
     "output_type": "stream",
     "text": [
      "      CONS_NO  RCVBL_YM  THIS_RCVED_AMT\n",
      "0  1081380222    201502          201.75\n",
      "1  1100506263    201505           16.50\n",
      "2  1100506385    201501           55.10\n",
      "3  1100507494    201509           19.92\n",
      "4  1100508075    201503           60.79\n",
      "      CONS_NO  RCVBL_YM   RCVED_AMT\n",
      "0  1000101001    201501  5301415.41\n",
      "1  1000101001    201502  4372080.02\n",
      "2  1000101001    201503  4829490.74\n",
      "3  1000101001    201504  5375305.81\n",
      "4  1000101001    201505  5294991.89\n"
     ]
    }
   ],
   "source": [
    "train_data08_reved_amt_sum_df = pd.DataFrame(train_data08_merge_label_this_reved_amt_sum_df)\n",
    "train_data09_reved_amt_sum_df = pd.DataFrame(train_data09_merge_label_reved_amt_sum_df)\n",
    "print train_data08_reved_amt_sum_df.head()\n",
    "print train_data09_reved_amt_sum_df.head()\n",
    "# print train_data08_reved_amt_sum_df[u'1100565675']\n",
    "save_data(\n",
    "    train_data08_reved_amt_sum_df.merge(\n",
    "        train_data09_merge_label_reved_amt_sum_df,\n",
    "        how='outer',\n",
    "        on=['CONS_NO','RCVBL_YM']),\n",
    "    'temp.csv',\n",
    ")"
   ]
  },
  {
   "cell_type": "code",
   "execution_count": 37,
   "metadata": {
    "collapsed": true
   },
   "outputs": [
    {
     "data": {
      "text/plain": [
       "CONS_NO\n",
       "1000101001    66434070.00\n",
       "1000104008         143.10\n",
       "1000108003      995971.48\n",
       "1000108017     4749925.38\n",
       "1000108020     5873519.25\n",
       "Name: RCVED_AMT, dtype: float64"
      ]
     },
     "execution_count": 37,
     "metadata": {},
     "output_type": "execute_result"
    }
   ],
   "source": [
    "train_data09_merge_label_reved_amt_sum_df.head()"
   ]
  },
  {
   "cell_type": "code",
   "execution_count": 27,
   "metadata": {
    "collapsed": true
   },
   "outputs": [
    {
     "data": {
      "text/plain": [
       "CONS_NO\n",
       "1081380222    201.75\n",
       "1100506263     16.50\n",
       "1100506385     55.10\n",
       "1100507494     19.92\n",
       "1100508075     60.79\n",
       "Name: THIS_RCVED_AMT, dtype: float64"
      ]
     },
     "execution_count": 27,
     "metadata": {},
     "output_type": "execute_result"
    }
   ],
   "source": [
    "train_data08_merge_label_this_reved_amt_sum_df.head()"
   ]
  },
  {
   "cell_type": "code",
   "execution_count": 39,
   "metadata": {
    "collapsed": false
   },
   "outputs": [
    {
     "data": {
      "text/plain": [
       "((555748,), (282152,))"
      ]
     },
     "execution_count": 39,
     "metadata": {},
     "output_type": "execute_result"
    }
   ],
   "source": [
    "train_data09_merge_label_reved_amt_sum_df.shape,train_data08_merge_label_this_reved_amt_sum_df.shape"
   ]
  },
  {
   "cell_type": "code",
   "execution_count": 25,
   "metadata": {
    "collapsed": false
   },
   "outputs": [
    {
     "name": "stdout",
     "output_type": "stream",
     "text": [
      "CPU times: user 1.42 s, sys: 180 ms, total: 1.6 s\n",
      "Wall time: 1.6 s\n"
     ]
    }
   ],
   "source": [
    "%%time\n",
    "train_data08_merge_label_this_penalty_sum_df = \\\n",
    "    train_data08_merge_label_df.groupby(by='CONS_NO')['THIS_PENALTY'].sum()"
   ]
  },
  {
   "cell_type": "code",
   "execution_count": 26,
   "metadata": {
    "collapsed": true
   },
   "outputs": [
    {
     "data": {
      "text/plain": [
       "CONS_NO\n",
       "1081380222    1.0\n",
       "1100506263    0.0\n",
       "1100506385    0.0\n",
       "1100507494    0.0\n",
       "1100508075    0.0\n",
       "Name: THIS_PENALTY, dtype: float64"
      ]
     },
     "execution_count": 26,
     "metadata": {},
     "output_type": "execute_result"
    }
   ],
   "source": [
    "train_data08_merge_label_this_penalty_sum_df.head()"
   ]
  }
 ],
 "metadata": {
  "kernelspec": {
   "display_name": "Python 2",
   "language": "python",
   "name": "python2"
  },
  "language_info": {
   "codemirror_mode": {
    "name": "ipython",
    "version": 2
   },
   "file_extension": ".py",
   "mimetype": "text/x-python",
   "name": "python",
   "nbconvert_exporter": "python",
   "pygments_lexer": "ipython2",
   "version": "2.7.6"
  }
 },
 "nbformat": 4,
 "nbformat_minor": 1
}
