{
 "cells": [
  {
   "cell_type": "markdown",
   "metadata": {
    "collapsed": false
   },
   "source": [
    "# 客户画像复赛 数据处理---04&05&10&11&12表特征提取"
   ]
  },
  {
   "cell_type": "code",
   "execution_count": 1,
   "metadata": {
    "collapsed": true
   },
   "outputs": [
    {
     "name": "stdout",
     "output_type": "stream",
     "text": [
      "01_arc_s_95598_wkst_train.tsv  06_cont_info.tsv\t\t11_c_meter.tsv\r\n",
      "02_s_comm_rec.tsv\t       07_c_rca_cons.tsv\t12_a_pay_flow.tsv\r\n",
      "03_s_info_oversee.tsv\t       08_a_rcved_flow.tsv\tout\r\n",
      "04_c_cons.tsv\t\t       09_arc_a_rcvbl_flow.tsv\ttrain_label.csv\r\n",
      "05_c_cons_prc.tsv\t       10_c_meter_read.tsv\r\n"
     ]
    }
   ],
   "source": [
    "!ls Data_Update/train/"
   ]
  },
  {
   "cell_type": "markdown",
   "metadata": {},
   "source": [
    "## 1 导入必要的包和函数"
   ]
  },
  {
   "cell_type": "code",
   "execution_count": 1,
   "metadata": {
    "collapsed": false
   },
   "outputs": [
    {
     "name": "stdout",
     "output_type": "stream",
     "text": [
      "Automatic pdb calling has been turned ON\n"
     ]
    }
   ],
   "source": [
    "%pdb 1\n",
    "debug = 1\n",
    "import pandas as pd\n",
    "import numpy as np\n",
    "import pickle\n",
    "import re\n",
    "import io \n",
    "import matplotlib.pyplot as plt\n",
    "%matplotlib inline\n",
    "\n",
    "# 加载预定义好的函数\n",
    "# 预定义好的函数：\n",
    "#    - load_data(file_name, header=0): 加载数据\n",
    "#    - def show_attribute_detail( data=None, attribute_name=None): 显示数据某个属性的详情\n",
    "%run data_util_func.py\n",
    "# 选择过滤方案\n",
    "PLAN_TYPE = 3"
   ]
  },
  {
   "cell_type": "code",
   "execution_count": 34,
   "metadata": {
    "collapsed": true
   },
   "outputs": [
    {
     "data": {
      "text/plain": [
       "['FeatureEncoder',\n",
       " 'data01_appno_contenttype_rdd',\n",
       " 'data_feature_encoder',\n",
       " 'debug',\n",
       " 'extend_train_data',\n",
       " 'get_accept_content_type',\n",
       " 'get_highest_sensitive_workerid',\n",
       " 'get_metrics',\n",
       " 'io',\n",
       " 'is_highest_sensitive_worker_dict',\n",
       " 'load_data',\n",
       " 'model_predict',\n",
       " 'model_train',\n",
       " 'np',\n",
       " 'pd',\n",
       " 'pickle',\n",
       " 'plt',\n",
       " 'print_function',\n",
       " 're',\n",
       " 'save_data',\n",
       " 'seperate_data_to_classifier',\n",
       " 'show_attribute_detail',\n",
       " 'show_df_info',\n",
       " 'test_data01_df',\n",
       " 'test_data01_merge_label_df',\n",
       " 'test_data_labels_df',\n",
       " 'train_accept_content_type_count_df',\n",
       " 'train_accept_content_type_sensitive_rate_series',\n",
       " 'train_custno_in_season4_count_dict',\n",
       " 'train_custno_in_season4_count_rdd',\n",
       " 'train_custno_search_action_count_dict',\n",
       " 'train_custno_search_action_count_rdd',\n",
       " 'train_data01_a_worker_per_user',\n",
       " 'train_data01_a_worker_per_user_accept_content_type_count_df',\n",
       " 'train_data01_custno_handle_month_rdd',\n",
       " 'train_data01_custno_issearchaction_rdd',\n",
       " 'train_data01_merge_label_df',\n",
       " 'train_data01_user_worker_count_series',\n",
       " 'train_test_split',\n",
       " 'user_highest_sensitive_worker_rdd']"
      ]
     },
     "execution_count": 34,
     "metadata": {},
     "output_type": "execute_result"
    }
   ],
   "source": [
    "%who_ls"
   ]
  },
  {
   "cell_type": "code",
   "execution_count": 36,
   "metadata": {
    "collapsed": false
   },
   "outputs": [],
   "source": [
    "del test_data_labels_df"
   ]
  },
  {
   "cell_type": "markdown",
   "metadata": {},
   "source": [
    "##  2 加载数据 "
   ]
  },
  {
   "cell_type": "markdown",
   "metadata": {},
   "source": [
    "---------\n",
    "## 3 实收电费信息表 和 应收电费信息表  09_ARC_A_RCVBL_FLOW - 特征探索"
   ]
  },
  {
   "cell_type": "markdown",
   "metadata": {},
   "source": [
    "### 3-15 04表 用电客户信息表 04_c_cons"
   ]
  },
  {
   "cell_type": "markdown",
   "metadata": {},
   "source": [
    "#### 2-1-1 训练集"
   ]
  },
  {
   "cell_type": "markdown",
   "metadata": {},
   "source": [
    "##### 2-1-1-1  加载数据 train/04_c_cons.tsv"
   ]
  },
  {
   "cell_type": "code",
   "execution_count": 2,
   "metadata": {
    "collapsed": true
   },
   "outputs": [
    {
     "name": "stderr",
     "output_type": "stream",
     "text": [
      "/usr/local/lib/python2.7/dist-packages/IPython/core/magic.py:188: DtypeWarning: Columns (3) have mixed types. Specify dtype option on import or set low_memory=False.\n",
      "  call = lambda f, *a, **k: f(*a, **k)\n"
     ]
    },
    {
     "name": "stdout",
     "output_type": "stream",
     "text": [
      "(1968846, 12)\n",
      "656282\n",
      "CPU times: user 8.01 s, sys: 700 ms, total: 8.71 s\n",
      "Wall time: 8.93 s\n"
     ]
    }
   ],
   "source": [
    "%%time\n",
    "# 要特别注意 统一设置 converters={0:unicode}，\n",
    "# 避免后面连接错误\n",
    "train_data04_df = load_data(file_name = 'Data_Update/train/04_c_cons.tsv',\n",
    "                                 converters={'CONS_ID':unicode,'CONS_NO':unicode}\n",
    "                                )\n",
    "# 记录数 1968846\n",
    "print(train_data04_df.shape)\n",
    "# 用户数 656282\n",
    "print(len(train_data04_df['CONS_ID'].unique()))"
   ]
  },
  {
   "cell_type": "markdown",
   "metadata": {},
   "source": [
    "##### 2-4-1-2 将数据连接上标签 "
   ]
  },
  {
   "cell_type": "code",
   "execution_count": 3,
   "metadata": {
    "collapsed": true
   },
   "outputs": [
    {
     "ename": "NameError",
     "evalue": "name 'train_data_labels_df' is not defined",
     "output_type": "error",
     "traceback": [
      "\u001b[0;31m---------------------------------------------------------------------------\u001b[0m",
      "\u001b[0;31mNameError\u001b[0m                                 Traceback (most recent call last)",
      "\u001b[0;32m<ipython-input-3-d5cffe80d264>\u001b[0m in \u001b[0;36m<module>\u001b[0;34m()\u001b[0m\n\u001b[0;32m----> 1\u001b[0;31m \u001b[0mget_ipython\u001b[0m\u001b[0;34m(\u001b[0m\u001b[0;34m)\u001b[0m\u001b[0;34m.\u001b[0m\u001b[0mrun_cell_magic\u001b[0m\u001b[0;34m(\u001b[0m\u001b[0;34mu'time'\u001b[0m\u001b[0;34m,\u001b[0m \u001b[0;34mu''\u001b[0m\u001b[0;34m,\u001b[0m \u001b[0;34mu\"# \\u8fde\\u63a5\\u4e0a\\u7684\\u7528\\u6237\\u90fd\\u662f\\u654f\\u611f\\u7684 \\uff0c\\u7f6e\\u4e3a1\\uff0c\\u6709 542,218 \\u4e2a data08\\u8bb0\\u5f55\\uff0c 45,659\\u4e2a\\u7528\\u6237\\ntrain_data04_merge_label_df = train_data04_df.merge(\\n    train_data_labels_df,\\n    how='left',\\n    left_on='CONS_NO',\\n    right_on='CUST_NO'\\n)\\n# \\u5c06\\u6ca1\\u6709\\u8fde\\u63a5\\u4e0a\\u7684\\u5de5\\u5355\\u8bbe\\u7f6e\\u4e3a\\u4e0d\\u654f\\u611f\\u7528\\u6237\\uff0c  2,707,524 \\u4e2a data08\\u8bb0\\u5f55,236,493\\u4e2a\\u7528\\u6237\\ntrain_data04_merge_label_df['TAG'] = train_data04_merge_label_df['TAG'].fillna(0)\\ntrain_data04_merge_label_df['TAG'] = train_data04_merge_label_df['TAG'].astype(int)\"\u001b[0m\u001b[0;34m)\u001b[0m\u001b[0;34m\u001b[0m\u001b[0m\n\u001b[0m",
      "\u001b[0;32m/usr/local/lib/python2.7/dist-packages/IPython/core/interactiveshell.pyc\u001b[0m in \u001b[0;36mrun_cell_magic\u001b[0;34m(self, magic_name, line, cell)\u001b[0m\n\u001b[1;32m   2113\u001b[0m             \u001b[0mmagic_arg_s\u001b[0m \u001b[0;34m=\u001b[0m \u001b[0mself\u001b[0m\u001b[0;34m.\u001b[0m\u001b[0mvar_expand\u001b[0m\u001b[0;34m(\u001b[0m\u001b[0mline\u001b[0m\u001b[0;34m,\u001b[0m \u001b[0mstack_depth\u001b[0m\u001b[0;34m)\u001b[0m\u001b[0;34m\u001b[0m\u001b[0m\n\u001b[1;32m   2114\u001b[0m             \u001b[0;32mwith\u001b[0m \u001b[0mself\u001b[0m\u001b[0;34m.\u001b[0m\u001b[0mbuiltin_trap\u001b[0m\u001b[0;34m:\u001b[0m\u001b[0;34m\u001b[0m\u001b[0m\n\u001b[0;32m-> 2115\u001b[0;31m                 \u001b[0mresult\u001b[0m \u001b[0;34m=\u001b[0m \u001b[0mfn\u001b[0m\u001b[0;34m(\u001b[0m\u001b[0mmagic_arg_s\u001b[0m\u001b[0;34m,\u001b[0m \u001b[0mcell\u001b[0m\u001b[0;34m)\u001b[0m\u001b[0;34m\u001b[0m\u001b[0m\n\u001b[0m\u001b[1;32m   2116\u001b[0m             \u001b[0;32mreturn\u001b[0m \u001b[0mresult\u001b[0m\u001b[0;34m\u001b[0m\u001b[0m\n\u001b[1;32m   2117\u001b[0m \u001b[0;34m\u001b[0m\u001b[0m\n",
      "\u001b[0;32m<decorator-gen-59>\u001b[0m in \u001b[0;36mtime\u001b[0;34m(self, line, cell, local_ns)\u001b[0m\n",
      "\u001b[0;32m/usr/local/lib/python2.7/dist-packages/IPython/core/magic.pyc\u001b[0m in \u001b[0;36m<lambda>\u001b[0;34m(f, *a, **k)\u001b[0m\n\u001b[1;32m    186\u001b[0m     \u001b[0;31m# but it's overkill for just that one bit of state.\u001b[0m\u001b[0;34m\u001b[0m\u001b[0;34m\u001b[0m\u001b[0m\n\u001b[1;32m    187\u001b[0m     \u001b[0;32mdef\u001b[0m \u001b[0mmagic_deco\u001b[0m\u001b[0;34m(\u001b[0m\u001b[0marg\u001b[0m\u001b[0;34m)\u001b[0m\u001b[0;34m:\u001b[0m\u001b[0;34m\u001b[0m\u001b[0m\n\u001b[0;32m--> 188\u001b[0;31m         \u001b[0mcall\u001b[0m \u001b[0;34m=\u001b[0m \u001b[0;32mlambda\u001b[0m \u001b[0mf\u001b[0m\u001b[0;34m,\u001b[0m \u001b[0;34m*\u001b[0m\u001b[0ma\u001b[0m\u001b[0;34m,\u001b[0m \u001b[0;34m**\u001b[0m\u001b[0mk\u001b[0m\u001b[0;34m:\u001b[0m \u001b[0mf\u001b[0m\u001b[0;34m(\u001b[0m\u001b[0;34m*\u001b[0m\u001b[0ma\u001b[0m\u001b[0;34m,\u001b[0m \u001b[0;34m**\u001b[0m\u001b[0mk\u001b[0m\u001b[0;34m)\u001b[0m\u001b[0;34m\u001b[0m\u001b[0m\n\u001b[0m\u001b[1;32m    189\u001b[0m \u001b[0;34m\u001b[0m\u001b[0m\n\u001b[1;32m    190\u001b[0m         \u001b[0;32mif\u001b[0m \u001b[0mcallable\u001b[0m\u001b[0;34m(\u001b[0m\u001b[0marg\u001b[0m\u001b[0;34m)\u001b[0m\u001b[0;34m:\u001b[0m\u001b[0;34m\u001b[0m\u001b[0m\n",
      "\u001b[0;32m/usr/local/lib/python2.7/dist-packages/IPython/core/magics/execution.pyc\u001b[0m in \u001b[0;36mtime\u001b[0;34m(self, line, cell, local_ns)\u001b[0m\n\u001b[1;32m   1178\u001b[0m         \u001b[0;32melse\u001b[0m\u001b[0;34m:\u001b[0m\u001b[0;34m\u001b[0m\u001b[0m\n\u001b[1;32m   1179\u001b[0m             \u001b[0mst\u001b[0m \u001b[0;34m=\u001b[0m \u001b[0mclock2\u001b[0m\u001b[0;34m(\u001b[0m\u001b[0;34m)\u001b[0m\u001b[0;34m\u001b[0m\u001b[0m\n\u001b[0;32m-> 1180\u001b[0;31m             \u001b[0;32mexec\u001b[0m\u001b[0;34m(\u001b[0m\u001b[0mcode\u001b[0m\u001b[0;34m,\u001b[0m \u001b[0mglob\u001b[0m\u001b[0;34m,\u001b[0m \u001b[0mlocal_ns\u001b[0m\u001b[0;34m)\u001b[0m\u001b[0;34m\u001b[0m\u001b[0m\n\u001b[0m\u001b[1;32m   1181\u001b[0m             \u001b[0mend\u001b[0m \u001b[0;34m=\u001b[0m \u001b[0mclock2\u001b[0m\u001b[0;34m(\u001b[0m\u001b[0;34m)\u001b[0m\u001b[0;34m\u001b[0m\u001b[0m\n\u001b[1;32m   1182\u001b[0m             \u001b[0mout\u001b[0m \u001b[0;34m=\u001b[0m \u001b[0mNone\u001b[0m\u001b[0;34m\u001b[0m\u001b[0m\n",
      "\u001b[0;32m<timed exec>\u001b[0m in \u001b[0;36m<module>\u001b[0;34m()\u001b[0m\n",
      "\u001b[0;31mNameError\u001b[0m: name 'train_data_labels_df' is not defined"
     ]
    },
    {
     "name": "stdout",
     "output_type": "stream",
     "text": [
      "> \u001b[0;32m<timed exec>\u001b[0m(3)\u001b[0;36m<module>\u001b[0;34m()\u001b[0m\n",
      "\n",
      "ipdb> q\n"
     ]
    }
   ],
   "source": [
    "%%time\n",
    "# 连接上的用户都是敏感的 ，置为1，有 542,218 个 data08记录， 45,659个用户\n",
    "train_data04_merge_label_df = train_data04_df.merge(\n",
    "    train_data_labels_df,\n",
    "    how='left',\n",
    "    left_on='CONS_NO',\n",
    "    right_on='CUST_NO'\n",
    ")\n",
    "# 将没有连接上的工单设置为不敏感用户，  2,707,524 个 data08记录,236,493个用户\n",
    "train_data04_merge_label_df['TAG'] = train_data04_merge_label_df['TAG'].fillna(0)\n",
    "train_data04_merge_label_df['TAG'] = train_data04_merge_label_df['TAG'].astype(int)"
   ]
  },
  {
   "cell_type": "code",
   "execution_count": 90,
   "metadata": {
    "collapsed": true
   },
   "outputs": [
    {
     "data": {
      "text/plain": [
       "(656282, 2)"
      ]
     },
     "execution_count": 90,
     "metadata": {},
     "output_type": "execute_result"
    }
   ],
   "source": [
    "# 两个一一对应\n",
    "train_data04_merge_label_df[['CONS_NO','CONS_ID']].drop_duplicates().shape"
   ]
  },
  {
   "cell_type": "markdown",
   "metadata": {},
   "source": [
    "###### 输出 训练集中 CONS_NO','CONS_ID'"
   ]
  },
  {
   "cell_type": "code",
   "execution_count": null,
   "metadata": {
    "collapsed": false
   },
   "outputs": [],
   "source": [
    "train_data04_cust_no_cons_id_tag_df = \\\n",
    "    train_data04_merge_label_df[['CONS_NO','CONS_ID','TAG']].drop_duplicates().sort_values(by='TAG')\n",
    "save_data(\n",
    "    train_data04_cust_no_cons_id_tag_df,\n",
    "    'train_data04_cust_no_cons_id_tag_df.csv'\n",
    ")\n",
    "train_data04_cust_no_cons_id_tag_df.shape"
   ]
  },
  {
   "cell_type": "markdown",
   "metadata": {},
   "source": [
    "###### 从文件中恢复"
   ]
  },
  {
   "cell_type": "code",
   "execution_count": 5,
   "metadata": {
    "collapsed": false
   },
   "outputs": [],
   "source": [
    "# CONS_NO 全部转为字符串，否则在连接表的时候会出问题\n",
    "train_data01_cust_no_tag_df = load_data('train_data01_cust_no_tag_df.csv',\n",
    "                                        encoding='utf8',\n",
    "                                        converters={'CUST_NO':unicode}\n",
    "                                       )"
   ]
  },
  {
   "cell_type": "code",
   "execution_count": null,
   "metadata": {
    "collapsed": true
   },
   "outputs": [],
   "source": [
    "sa"
   ]
  },
  {
   "cell_type": "code",
   "execution_count": 8,
   "metadata": {
    "collapsed": true
   },
   "outputs": [
    {
     "name": "stdout",
     "output_type": "stream",
     "text": [
      "       CONS_ID     CONS_NO                     ELEC_ADDR TRADE_CODE  \\\n",
      "0  17747484982  6023090135   浙江省杭州市江干区九堡镇兴安社区九洲芳园2幢2****       9910   \n",
      "1  17747484987  6023090140   浙江省杭州市江干区九堡镇兴安社区九洲芳园2幢2****       9910   \n",
      "2  17747484992  6023090145   浙江省杭州市江干区九堡镇兴安社区九洲芳园2幢2****       9910   \n",
      "3  17694250067  6023084488  浙江省杭州市江干区九堡镇杨公社区江岸邻里小区8幢****       9910   \n",
      "4  17851227583  6023107736   浙江省杭州市江干区彭埠镇建华社区建华家苑2幢3****       9910   \n",
      "\n",
      "   ELEC_TYPE_CODE  CONTRACT_CAP  LODE_ATTR_CODE  HEC_INDUSTRY_CODE  \\\n",
      "0             202           8.0             3.0                NaN   \n",
      "1             202           8.0             3.0                NaN   \n",
      "2             202           8.0             3.0                NaN   \n",
      "3             202           8.0             3.0                NaN   \n",
      "4             202           8.0             3.0                NaN   \n",
      "\n",
      "   STATUS_CODE       ORG_NO  CONS_SORT_CODE  URBAN_RURAL_FLAG CUST_NO  TAG  \n",
      "0            0  33401010141               3               1.0     NaN    0  \n",
      "1            0  33401010141               3               1.0     NaN    0  \n",
      "2            0  33401010141               3               1.0     NaN    0  \n",
      "3            0  33401010141               3               1.0     NaN    0  \n",
      "4            0  33401010141               3               1.0     NaN    0  \n",
      "<class 'pandas.core.frame.DataFrame'>\n",
      "Int64Index: 1968846 entries, 0 to 1968845\n",
      "Data columns (total 14 columns):\n",
      "CONS_ID              object\n",
      "CONS_NO              object\n",
      "ELEC_ADDR            object\n",
      "TRADE_CODE           object\n",
      "ELEC_TYPE_CODE       int64\n",
      "CONTRACT_CAP         float64\n",
      "LODE_ATTR_CODE       float64\n",
      "HEC_INDUSTRY_CODE    float64\n",
      "STATUS_CODE          int64\n",
      "ORG_NO               int64\n",
      "CONS_SORT_CODE       int64\n",
      "URBAN_RURAL_FLAG     float64\n",
      "CUST_NO              object\n",
      "TAG                  int64\n",
      "dtypes: float64(4), int64(5), object(5)\n",
      "memory usage: 225.3+ MB\n",
      "None\n"
     ]
    }
   ],
   "source": [
    "show_df_info(train_data04_merge_label_df)"
   ]
  },
  {
   "cell_type": "code",
   "execution_count": 9,
   "metadata": {
    "collapsed": true
   },
   "outputs": [
    {
     "data": {
      "text/html": [
       "<div>\n",
       "<table border=\"1\" class=\"dataframe\">\n",
       "  <thead>\n",
       "    <tr style=\"text-align: right;\">\n",
       "      <th></th>\n",
       "      <th>CONS_ID</th>\n",
       "      <th>CONS_NO</th>\n",
       "      <th>ELEC_ADDR</th>\n",
       "      <th>TRADE_CODE</th>\n",
       "      <th>ELEC_TYPE_CODE</th>\n",
       "      <th>CONTRACT_CAP</th>\n",
       "      <th>LODE_ATTR_CODE</th>\n",
       "      <th>HEC_INDUSTRY_CODE</th>\n",
       "      <th>STATUS_CODE</th>\n",
       "      <th>ORG_NO</th>\n",
       "      <th>CONS_SORT_CODE</th>\n",
       "      <th>URBAN_RURAL_FLAG</th>\n",
       "      <th>CUST_NO</th>\n",
       "      <th>TAG</th>\n",
       "    </tr>\n",
       "  </thead>\n",
       "  <tbody>\n",
       "    <tr>\n",
       "      <th>0</th>\n",
       "      <td>17747484982</td>\n",
       "      <td>6023090135</td>\n",
       "      <td>浙江省杭州市江干区九堡镇兴安社区九洲芳园2幢2****</td>\n",
       "      <td>9910</td>\n",
       "      <td>202</td>\n",
       "      <td>8.0</td>\n",
       "      <td>3.0</td>\n",
       "      <td>NaN</td>\n",
       "      <td>0</td>\n",
       "      <td>33401010141</td>\n",
       "      <td>3</td>\n",
       "      <td>1.0</td>\n",
       "      <td>NaN</td>\n",
       "      <td>0</td>\n",
       "    </tr>\n",
       "    <tr>\n",
       "      <th>1</th>\n",
       "      <td>17747484987</td>\n",
       "      <td>6023090140</td>\n",
       "      <td>浙江省杭州市江干区九堡镇兴安社区九洲芳园2幢2****</td>\n",
       "      <td>9910</td>\n",
       "      <td>202</td>\n",
       "      <td>8.0</td>\n",
       "      <td>3.0</td>\n",
       "      <td>NaN</td>\n",
       "      <td>0</td>\n",
       "      <td>33401010141</td>\n",
       "      <td>3</td>\n",
       "      <td>1.0</td>\n",
       "      <td>NaN</td>\n",
       "      <td>0</td>\n",
       "    </tr>\n",
       "    <tr>\n",
       "      <th>2</th>\n",
       "      <td>17747484992</td>\n",
       "      <td>6023090145</td>\n",
       "      <td>浙江省杭州市江干区九堡镇兴安社区九洲芳园2幢2****</td>\n",
       "      <td>9910</td>\n",
       "      <td>202</td>\n",
       "      <td>8.0</td>\n",
       "      <td>3.0</td>\n",
       "      <td>NaN</td>\n",
       "      <td>0</td>\n",
       "      <td>33401010141</td>\n",
       "      <td>3</td>\n",
       "      <td>1.0</td>\n",
       "      <td>NaN</td>\n",
       "      <td>0</td>\n",
       "    </tr>\n",
       "    <tr>\n",
       "      <th>3</th>\n",
       "      <td>17694250067</td>\n",
       "      <td>6023084488</td>\n",
       "      <td>浙江省杭州市江干区九堡镇杨公社区江岸邻里小区8幢****</td>\n",
       "      <td>9910</td>\n",
       "      <td>202</td>\n",
       "      <td>8.0</td>\n",
       "      <td>3.0</td>\n",
       "      <td>NaN</td>\n",
       "      <td>0</td>\n",
       "      <td>33401010141</td>\n",
       "      <td>3</td>\n",
       "      <td>1.0</td>\n",
       "      <td>NaN</td>\n",
       "      <td>0</td>\n",
       "    </tr>\n",
       "    <tr>\n",
       "      <th>4</th>\n",
       "      <td>17851227583</td>\n",
       "      <td>6023107736</td>\n",
       "      <td>浙江省杭州市江干区彭埠镇建华社区建华家苑2幢3****</td>\n",
       "      <td>9910</td>\n",
       "      <td>202</td>\n",
       "      <td>8.0</td>\n",
       "      <td>3.0</td>\n",
       "      <td>NaN</td>\n",
       "      <td>0</td>\n",
       "      <td>33401010141</td>\n",
       "      <td>3</td>\n",
       "      <td>1.0</td>\n",
       "      <td>NaN</td>\n",
       "      <td>0</td>\n",
       "    </tr>\n",
       "  </tbody>\n",
       "</table>\n",
       "</div>"
      ],
      "text/plain": [
       "       CONS_ID     CONS_NO                     ELEC_ADDR TRADE_CODE  \\\n",
       "0  17747484982  6023090135   浙江省杭州市江干区九堡镇兴安社区九洲芳园2幢2****       9910   \n",
       "1  17747484987  6023090140   浙江省杭州市江干区九堡镇兴安社区九洲芳园2幢2****       9910   \n",
       "2  17747484992  6023090145   浙江省杭州市江干区九堡镇兴安社区九洲芳园2幢2****       9910   \n",
       "3  17694250067  6023084488  浙江省杭州市江干区九堡镇杨公社区江岸邻里小区8幢****       9910   \n",
       "4  17851227583  6023107736   浙江省杭州市江干区彭埠镇建华社区建华家苑2幢3****       9910   \n",
       "\n",
       "   ELEC_TYPE_CODE  CONTRACT_CAP  LODE_ATTR_CODE  HEC_INDUSTRY_CODE  \\\n",
       "0             202           8.0             3.0                NaN   \n",
       "1             202           8.0             3.0                NaN   \n",
       "2             202           8.0             3.0                NaN   \n",
       "3             202           8.0             3.0                NaN   \n",
       "4             202           8.0             3.0                NaN   \n",
       "\n",
       "   STATUS_CODE       ORG_NO  CONS_SORT_CODE  URBAN_RURAL_FLAG CUST_NO  TAG  \n",
       "0            0  33401010141               3               1.0     NaN    0  \n",
       "1            0  33401010141               3               1.0     NaN    0  \n",
       "2            0  33401010141               3               1.0     NaN    0  \n",
       "3            0  33401010141               3               1.0     NaN    0  \n",
       "4            0  33401010141               3               1.0     NaN    0  "
      ]
     },
     "execution_count": 9,
     "metadata": {},
     "output_type": "execute_result"
    }
   ],
   "source": [
    "train_data04_merge_label_df.head()"
   ]
  },
  {
   "cell_type": "markdown",
   "metadata": {},
   "source": [
    "###### 统计 敏感和 不敏感 分布情况"
   ]
  },
  {
   "cell_type": "code",
   "execution_count": 29,
   "metadata": {
    "collapsed": true
   },
   "outputs": [
    {
     "name": "stdout",
     "output_type": "stream",
     "text": [
      "(2,)\n"
     ]
    },
    {
     "data": {
      "text/plain": [
       "0    1728771\n",
       "1     240075\n",
       "Name: TAG, dtype: int64"
      ]
     },
     "execution_count": 29,
     "metadata": {},
     "output_type": "execute_result"
    },
    {
     "data": {
      "image/png": "[encoded data removed]",
      "text/plain": [
       "<matplotlib.figure.Figure at 0x7fdb244de350>"
      ]
     },
     "metadata": {},
     "output_type": "display_data"
    }
   ],
   "source": [
    "# 所有记录\n",
    "show_attribute_detail(\n",
    "    train_data04_merge_label_df,\n",
    "    'TAG'\n",
    ")"
   ]
  },
  {
   "cell_type": "code",
   "execution_count": 30,
   "metadata": {
    "collapsed": true
   },
   "outputs": [
    {
     "name": "stdout",
     "output_type": "stream",
     "text": [
      "(2,)\n"
     ]
    },
    {
     "data": {
      "text/plain": [
       "0    576257\n",
       "1     80025\n",
       "Name: TAG, dtype: int64"
      ]
     },
     "execution_count": 30,
     "metadata": {},
     "output_type": "execute_result"
    },
    {
     "data": {
      "image/png": "[encoded data removed]",
      "text/plain": [
       "<matplotlib.figure.Figure at 0x7fdb229490d0>"
      ]
     },
     "metadata": {},
     "output_type": "display_data"
    }
   ],
   "source": [
    "show_attribute_detail(\n",
    "    train_data04_merge_label_df[['CONS_NO','TAG']].drop_duplicates(),\n",
    "    'TAG'\n",
    ")"
   ]
  },
  {
   "cell_type": "markdown",
   "metadata": {},
   "source": [
    "##### 和data01数据的用户列表比较"
   ]
  },
  {
   "cell_type": "code",
   "execution_count": 32,
   "metadata": {
    "collapsed": true
   },
   "outputs": [
    {
     "name": "stdout",
     "output_type": "stream",
     "text": [
      "合并所有用户有：658374\n",
      "在data04数据中，而不在data01数据中的用户数有：0\n",
      "在data01数据中，而不在data04数据中的用户数有：2092\n"
     ]
    }
   ],
   "source": [
    "train_data01_data04_cust_no_tag_df = train_data01_a_worker_per_user.merge(\n",
    "    train_data04_merge_label_df[['CONS_NO','TAG']].drop_duplicates(),\n",
    "    how='outer',\n",
    "    left_on='CUST_NO',\n",
    "    right_on='CONS_NO'\n",
    ")\n",
    "# 合并所有用户有：658374   ----  跟表1一样，即 表4中所有用户都在表1中\n",
    "# 在data01数据中，而不在data08数据中的用户数有：0\n",
    "# 在data08数据中，而不在data01数据中的用户数有：376222\n",
    "print '合并所有用户有：%d'%train_data01_data04_cust_no_tag_df.shape[0]\n",
    "print '在data04数据中，而不在data01数据中的用户数有：%d'%sum(train_data01_data04_cust_no_tag_df['CUST_NO'].isnull())\n",
    "print '在data01数据中，而不在data04数据中的用户数有：%d'%sum(train_data01_data04_cust_no_tag_df['CONS_NO'].isnull())\n"
   ]
  },
  {
   "cell_type": "code",
   "execution_count": null,
   "metadata": {
    "collapsed": true
   },
   "outputs": [],
   "source": []
  },
  {
   "cell_type": "code",
   "execution_count": 35,
   "metadata": {
    "collapsed": true
   },
   "outputs": [
    {
     "data": {
      "text/html": [
       "<div>\n",
       "<table border=\"1\" class=\"dataframe\">\n",
       "  <thead>\n",
       "    <tr style=\"text-align: right;\">\n",
       "      <th></th>\n",
       "      <th>CONS_ID</th>\n",
       "      <th>CONS_NO</th>\n",
       "      <th>ELEC_ADDR</th>\n",
       "      <th>TRADE_CODE</th>\n",
       "      <th>ELEC_TYPE_CODE</th>\n",
       "      <th>CONTRACT_CAP</th>\n",
       "      <th>LODE_ATTR_CODE</th>\n",
       "      <th>HEC_INDUSTRY_CODE</th>\n",
       "      <th>STATUS_CODE</th>\n",
       "      <th>ORG_NO</th>\n",
       "      <th>CONS_SORT_CODE</th>\n",
       "      <th>URBAN_RURAL_FLAG</th>\n",
       "      <th>CUST_NO</th>\n",
       "      <th>TAG</th>\n",
       "    </tr>\n",
       "  </thead>\n",
       "  <tbody>\n",
       "    <tr>\n",
       "      <th>0</th>\n",
       "      <td>17747484982</td>\n",
       "      <td>6023090135</td>\n",
       "      <td>浙江省杭州市江干区九堡镇兴安社区九洲芳园2幢2****</td>\n",
       "      <td>9910</td>\n",
       "      <td>202</td>\n",
       "      <td>8.0</td>\n",
       "      <td>3.0</td>\n",
       "      <td>NaN</td>\n",
       "      <td>0</td>\n",
       "      <td>33401010141</td>\n",
       "      <td>3</td>\n",
       "      <td>1.0</td>\n",
       "      <td>NaN</td>\n",
       "      <td>0</td>\n",
       "    </tr>\n",
       "    <tr>\n",
       "      <th>1</th>\n",
       "      <td>17747484987</td>\n",
       "      <td>6023090140</td>\n",
       "      <td>浙江省杭州市江干区九堡镇兴安社区九洲芳园2幢2****</td>\n",
       "      <td>9910</td>\n",
       "      <td>202</td>\n",
       "      <td>8.0</td>\n",
       "      <td>3.0</td>\n",
       "      <td>NaN</td>\n",
       "      <td>0</td>\n",
       "      <td>33401010141</td>\n",
       "      <td>3</td>\n",
       "      <td>1.0</td>\n",
       "      <td>6023090140</td>\n",
       "      <td>1</td>\n",
       "    </tr>\n",
       "    <tr>\n",
       "      <th>2</th>\n",
       "      <td>17747484992</td>\n",
       "      <td>6023090145</td>\n",
       "      <td>浙江省杭州市江干区九堡镇兴安社区九洲芳园2幢2****</td>\n",
       "      <td>9910</td>\n",
       "      <td>202</td>\n",
       "      <td>8.0</td>\n",
       "      <td>3.0</td>\n",
       "      <td>NaN</td>\n",
       "      <td>0</td>\n",
       "      <td>33401010141</td>\n",
       "      <td>3</td>\n",
       "      <td>1.0</td>\n",
       "      <td>NaN</td>\n",
       "      <td>0</td>\n",
       "    </tr>\n",
       "    <tr>\n",
       "      <th>3</th>\n",
       "      <td>17694250067</td>\n",
       "      <td>6023084488</td>\n",
       "      <td>浙江省杭州市江干区九堡镇杨公社区江岸邻里小区8幢****</td>\n",
       "      <td>9910</td>\n",
       "      <td>202</td>\n",
       "      <td>8.0</td>\n",
       "      <td>3.0</td>\n",
       "      <td>NaN</td>\n",
       "      <td>0</td>\n",
       "      <td>33401010141</td>\n",
       "      <td>3</td>\n",
       "      <td>1.0</td>\n",
       "      <td>NaN</td>\n",
       "      <td>0</td>\n",
       "    </tr>\n",
       "    <tr>\n",
       "      <th>4</th>\n",
       "      <td>17851227583</td>\n",
       "      <td>6023107736</td>\n",
       "      <td>浙江省杭州市江干区彭埠镇建华社区建华家苑2幢3****</td>\n",
       "      <td>9910</td>\n",
       "      <td>202</td>\n",
       "      <td>8.0</td>\n",
       "      <td>3.0</td>\n",
       "      <td>NaN</td>\n",
       "      <td>0</td>\n",
       "      <td>33401010141</td>\n",
       "      <td>3</td>\n",
       "      <td>1.0</td>\n",
       "      <td>NaN</td>\n",
       "      <td>0</td>\n",
       "    </tr>\n",
       "  </tbody>\n",
       "</table>\n",
       "</div>"
      ],
      "text/plain": [
       "       CONS_ID     CONS_NO                     ELEC_ADDR TRADE_CODE  \\\n",
       "0  17747484982  6023090135   浙江省杭州市江干区九堡镇兴安社区九洲芳园2幢2****       9910   \n",
       "1  17747484987  6023090140   浙江省杭州市江干区九堡镇兴安社区九洲芳园2幢2****       9910   \n",
       "2  17747484992  6023090145   浙江省杭州市江干区九堡镇兴安社区九洲芳园2幢2****       9910   \n",
       "3  17694250067  6023084488  浙江省杭州市江干区九堡镇杨公社区江岸邻里小区8幢****       9910   \n",
       "4  17851227583  6023107736   浙江省杭州市江干区彭埠镇建华社区建华家苑2幢3****       9910   \n",
       "\n",
       "   ELEC_TYPE_CODE  CONTRACT_CAP  LODE_ATTR_CODE  HEC_INDUSTRY_CODE  \\\n",
       "0             202           8.0             3.0                NaN   \n",
       "1             202           8.0             3.0                NaN   \n",
       "2             202           8.0             3.0                NaN   \n",
       "3             202           8.0             3.0                NaN   \n",
       "4             202           8.0             3.0                NaN   \n",
       "\n",
       "   STATUS_CODE       ORG_NO  CONS_SORT_CODE  URBAN_RURAL_FLAG     CUST_NO  TAG  \n",
       "0            0  33401010141               3               1.0         NaN    0  \n",
       "1            0  33401010141               3               1.0  6023090140    1  \n",
       "2            0  33401010141               3               1.0         NaN    0  \n",
       "3            0  33401010141               3               1.0         NaN    0  \n",
       "4            0  33401010141               3               1.0         NaN    0  "
      ]
     },
     "execution_count": 35,
     "metadata": {},
     "output_type": "execute_result"
    }
   ],
   "source": [
    "train_data04_merge_label_df.head()"
   ]
  },
  {
   "cell_type": "code",
   "execution_count": 61,
   "metadata": {
    "collapsed": false,
    "scrolled": true
   },
   "outputs": [
    {
     "data": {
      "text/plain": [
       "array([  3.,   2.,   1.,  nan])"
      ]
     },
     "execution_count": 61,
     "metadata": {},
     "output_type": "execute_result"
    }
   ],
   "source": [
    "train_data04_merge_label_df['LODE_ATTR_CODE'].unique()"
   ]
  },
  {
   "cell_type": "code",
   "execution_count": 62,
   "metadata": {
    "collapsed": true
   },
   "outputs": [
    {
     "data": {
      "text/html": [
       "<div>\n",
       "<table border=\"1\" class=\"dataframe\">\n",
       "  <thead>\n",
       "    <tr style=\"text-align: right;\">\n",
       "      <th></th>\n",
       "      <th>ORG_NO</th>\n",
       "      <th>LODE_ATTR_CODE</th>\n",
       "    </tr>\n",
       "  </thead>\n",
       "  <tbody>\n",
       "    <tr>\n",
       "      <th>0</th>\n",
       "      <td>33401010141</td>\n",
       "      <td>3.0</td>\n",
       "    </tr>\n",
       "    <tr>\n",
       "      <th>48</th>\n",
       "      <td>33401010129</td>\n",
       "      <td>3.0</td>\n",
       "    </tr>\n",
       "    <tr>\n",
       "      <th>51</th>\n",
       "      <td>33401010140</td>\n",
       "      <td>3.0</td>\n",
       "    </tr>\n",
       "    <tr>\n",
       "      <th>320</th>\n",
       "      <td>33401010141</td>\n",
       "      <td>2.0</td>\n",
       "    </tr>\n",
       "    <tr>\n",
       "      <th>592</th>\n",
       "      <td>33401010141</td>\n",
       "      <td>1.0</td>\n",
       "    </tr>\n",
       "    <tr>\n",
       "      <th>702</th>\n",
       "      <td>33401010140</td>\n",
       "      <td>NaN</td>\n",
       "    </tr>\n",
       "    <tr>\n",
       "      <th>1049</th>\n",
       "      <td>33401010140</td>\n",
       "      <td>2.0</td>\n",
       "    </tr>\n",
       "    <tr>\n",
       "      <th>1309</th>\n",
       "      <td>33401010128</td>\n",
       "      <td>NaN</td>\n",
       "    </tr>\n",
       "    <tr>\n",
       "      <th>1336</th>\n",
       "      <td>33401010129</td>\n",
       "      <td>NaN</td>\n",
       "    </tr>\n",
       "    <tr>\n",
       "      <th>2006</th>\n",
       "      <td>33401010130</td>\n",
       "      <td>NaN</td>\n",
       "    </tr>\n",
       "    <tr>\n",
       "      <th>2891</th>\n",
       "      <td>3340101</td>\n",
       "      <td>3.0</td>\n",
       "    </tr>\n",
       "    <tr>\n",
       "      <th>2892</th>\n",
       "      <td>3340101</td>\n",
       "      <td>2.0</td>\n",
       "    </tr>\n",
       "    <tr>\n",
       "      <th>2895</th>\n",
       "      <td>3340101</td>\n",
       "      <td>1.0</td>\n",
       "    </tr>\n",
       "    <tr>\n",
       "      <th>2933</th>\n",
       "      <td>33401010140</td>\n",
       "      <td>1.0</td>\n",
       "    </tr>\n",
       "    <tr>\n",
       "      <th>10359</th>\n",
       "      <td>334010101</td>\n",
       "      <td>3.0</td>\n",
       "    </tr>\n",
       "    <tr>\n",
       "      <th>12662</th>\n",
       "      <td>33401010130</td>\n",
       "      <td>3.0</td>\n",
       "    </tr>\n",
       "    <tr>\n",
       "      <th>13539</th>\n",
       "      <td>33401010531</td>\n",
       "      <td>3.0</td>\n",
       "    </tr>\n",
       "    <tr>\n",
       "      <th>13545</th>\n",
       "      <td>33401010552</td>\n",
       "      <td>3.0</td>\n",
       "    </tr>\n",
       "    <tr>\n",
       "      <th>14027</th>\n",
       "      <td>33401010530</td>\n",
       "      <td>3.0</td>\n",
       "    </tr>\n",
       "    <tr>\n",
       "      <th>14082</th>\n",
       "      <td>33401010551</td>\n",
       "      <td>NaN</td>\n",
       "    </tr>\n",
       "    <tr>\n",
       "      <th>14111</th>\n",
       "      <td>33401010530</td>\n",
       "      <td>2.0</td>\n",
       "    </tr>\n",
       "    <tr>\n",
       "      <th>14590</th>\n",
       "      <td>33401010531</td>\n",
       "      <td>2.0</td>\n",
       "    </tr>\n",
       "    <tr>\n",
       "      <th>15438</th>\n",
       "      <td>33401010552</td>\n",
       "      <td>NaN</td>\n",
       "    </tr>\n",
       "    <tr>\n",
       "      <th>15527</th>\n",
       "      <td>33401010552</td>\n",
       "      <td>1.0</td>\n",
       "    </tr>\n",
       "    <tr>\n",
       "      <th>15982</th>\n",
       "      <td>334010102</td>\n",
       "      <td>NaN</td>\n",
       "    </tr>\n",
       "    <tr>\n",
       "      <th>15984</th>\n",
       "      <td>334010102</td>\n",
       "      <td>3.0</td>\n",
       "    </tr>\n",
       "    <tr>\n",
       "      <th>15987</th>\n",
       "      <td>334010102</td>\n",
       "      <td>1.0</td>\n",
       "    </tr>\n",
       "    <tr>\n",
       "      <th>16232</th>\n",
       "      <td>33401010530</td>\n",
       "      <td>1.0</td>\n",
       "    </tr>\n",
       "    <tr>\n",
       "      <th>17085</th>\n",
       "      <td>33401010333</td>\n",
       "      <td>NaN</td>\n",
       "    </tr>\n",
       "    <tr>\n",
       "      <th>17091</th>\n",
       "      <td>33401010335</td>\n",
       "      <td>NaN</td>\n",
       "    </tr>\n",
       "    <tr>\n",
       "      <th>...</th>\n",
       "      <td>...</td>\n",
       "      <td>...</td>\n",
       "    </tr>\n",
       "    <tr>\n",
       "      <th>641093</th>\n",
       "      <td>33410700136</td>\n",
       "      <td>NaN</td>\n",
       "    </tr>\n",
       "    <tr>\n",
       "      <th>641434</th>\n",
       "      <td>334110101</td>\n",
       "      <td>1.0</td>\n",
       "    </tr>\n",
       "    <tr>\n",
       "      <th>642529</th>\n",
       "      <td>33411010102</td>\n",
       "      <td>2.0</td>\n",
       "    </tr>\n",
       "    <tr>\n",
       "      <th>642764</th>\n",
       "      <td>33411100102</td>\n",
       "      <td>NaN</td>\n",
       "    </tr>\n",
       "    <tr>\n",
       "      <th>643169</th>\n",
       "      <td>33410700136</td>\n",
       "      <td>1.0</td>\n",
       "    </tr>\n",
       "    <tr>\n",
       "      <th>643277</th>\n",
       "      <td>33410700132</td>\n",
       "      <td>NaN</td>\n",
       "    </tr>\n",
       "    <tr>\n",
       "      <th>643785</th>\n",
       "      <td>334110101</td>\n",
       "      <td>2.0</td>\n",
       "    </tr>\n",
       "    <tr>\n",
       "      <th>644473</th>\n",
       "      <td>33410700145</td>\n",
       "      <td>NaN</td>\n",
       "    </tr>\n",
       "    <tr>\n",
       "      <th>644643</th>\n",
       "      <td>33411010204</td>\n",
       "      <td>NaN</td>\n",
       "    </tr>\n",
       "    <tr>\n",
       "      <th>645089</th>\n",
       "      <td>33410400157</td>\n",
       "      <td>NaN</td>\n",
       "    </tr>\n",
       "    <tr>\n",
       "      <th>645328</th>\n",
       "      <td>33410600131</td>\n",
       "      <td>NaN</td>\n",
       "    </tr>\n",
       "    <tr>\n",
       "      <th>645687</th>\n",
       "      <td>33410800134</td>\n",
       "      <td>1.0</td>\n",
       "    </tr>\n",
       "    <tr>\n",
       "      <th>646440</th>\n",
       "      <td>33410600137</td>\n",
       "      <td>NaN</td>\n",
       "    </tr>\n",
       "    <tr>\n",
       "      <th>647061</th>\n",
       "      <td>33411010101</td>\n",
       "      <td>NaN</td>\n",
       "    </tr>\n",
       "    <tr>\n",
       "      <th>647607</th>\n",
       "      <td>33410600130</td>\n",
       "      <td>NaN</td>\n",
       "    </tr>\n",
       "    <tr>\n",
       "      <th>647946</th>\n",
       "      <td>33410700131</td>\n",
       "      <td>1.0</td>\n",
       "    </tr>\n",
       "    <tr>\n",
       "      <th>649414</th>\n",
       "      <td>33411100103</td>\n",
       "      <td>NaN</td>\n",
       "    </tr>\n",
       "    <tr>\n",
       "      <th>649465</th>\n",
       "      <td>33411010205</td>\n",
       "      <td>NaN</td>\n",
       "    </tr>\n",
       "    <tr>\n",
       "      <th>649595</th>\n",
       "      <td>33410400160</td>\n",
       "      <td>1.0</td>\n",
       "    </tr>\n",
       "    <tr>\n",
       "      <th>649932</th>\n",
       "      <td>33410700143</td>\n",
       "      <td>NaN</td>\n",
       "    </tr>\n",
       "    <tr>\n",
       "      <th>651569</th>\n",
       "      <td>33411010102</td>\n",
       "      <td>1.0</td>\n",
       "    </tr>\n",
       "    <tr>\n",
       "      <th>652030</th>\n",
       "      <td>33410600133</td>\n",
       "      <td>NaN</td>\n",
       "    </tr>\n",
       "    <tr>\n",
       "      <th>653021</th>\n",
       "      <td>334112001</td>\n",
       "      <td>3.0</td>\n",
       "    </tr>\n",
       "    <tr>\n",
       "      <th>653026</th>\n",
       "      <td>33411200102</td>\n",
       "      <td>3.0</td>\n",
       "    </tr>\n",
       "    <tr>\n",
       "      <th>653028</th>\n",
       "      <td>33411200103</td>\n",
       "      <td>3.0</td>\n",
       "    </tr>\n",
       "    <tr>\n",
       "      <th>653060</th>\n",
       "      <td>33411200105</td>\n",
       "      <td>3.0</td>\n",
       "    </tr>\n",
       "    <tr>\n",
       "      <th>655945</th>\n",
       "      <td>334110102</td>\n",
       "      <td>2.0</td>\n",
       "    </tr>\n",
       "    <tr>\n",
       "      <th>656057</th>\n",
       "      <td>334110102</td>\n",
       "      <td>NaN</td>\n",
       "    </tr>\n",
       "    <tr>\n",
       "      <th>662836</th>\n",
       "      <td>33411010204</td>\n",
       "      <td>2.0</td>\n",
       "    </tr>\n",
       "    <tr>\n",
       "      <th>662926</th>\n",
       "      <td>334110102</td>\n",
       "      <td>1.0</td>\n",
       "    </tr>\n",
       "  </tbody>\n",
       "</table>\n",
       "<p>1969 rows × 2 columns</p>\n",
       "</div>"
      ],
      "text/plain": [
       "             ORG_NO  LODE_ATTR_CODE\n",
       "0       33401010141             3.0\n",
       "48      33401010129             3.0\n",
       "51      33401010140             3.0\n",
       "320     33401010141             2.0\n",
       "592     33401010141             1.0\n",
       "702     33401010140             NaN\n",
       "1049    33401010140             2.0\n",
       "1309    33401010128             NaN\n",
       "1336    33401010129             NaN\n",
       "2006    33401010130             NaN\n",
       "2891        3340101             3.0\n",
       "2892        3340101             2.0\n",
       "2895        3340101             1.0\n",
       "2933    33401010140             1.0\n",
       "10359     334010101             3.0\n",
       "12662   33401010130             3.0\n",
       "13539   33401010531             3.0\n",
       "13545   33401010552             3.0\n",
       "14027   33401010530             3.0\n",
       "14082   33401010551             NaN\n",
       "14111   33401010530             2.0\n",
       "14590   33401010531             2.0\n",
       "15438   33401010552             NaN\n",
       "15527   33401010552             1.0\n",
       "15982     334010102             NaN\n",
       "15984     334010102             3.0\n",
       "15987     334010102             1.0\n",
       "16232   33401010530             1.0\n",
       "17085   33401010333             NaN\n",
       "17091   33401010335             NaN\n",
       "...             ...             ...\n",
       "641093  33410700136             NaN\n",
       "641434    334110101             1.0\n",
       "642529  33411010102             2.0\n",
       "642764  33411100102             NaN\n",
       "643169  33410700136             1.0\n",
       "643277  33410700132             NaN\n",
       "643785    334110101             2.0\n",
       "644473  33410700145             NaN\n",
       "644643  33411010204             NaN\n",
       "645089  33410400157             NaN\n",
       "645328  33410600131             NaN\n",
       "645687  33410800134             1.0\n",
       "646440  33410600137             NaN\n",
       "647061  33411010101             NaN\n",
       "647607  33410600130             NaN\n",
       "647946  33410700131             1.0\n",
       "649414  33411100103             NaN\n",
       "649465  33411010205             NaN\n",
       "649595  33410400160             1.0\n",
       "649932  33410700143             NaN\n",
       "651569  33411010102             1.0\n",
       "652030  33410600133             NaN\n",
       "653021    334112001             3.0\n",
       "653026  33411200102             3.0\n",
       "653028  33411200103             3.0\n",
       "653060  33411200105             3.0\n",
       "655945    334110102             2.0\n",
       "656057    334110102             NaN\n",
       "662836  33411010204             2.0\n",
       "662926    334110102             1.0\n",
       "\n",
       "[1969 rows x 2 columns]"
      ]
     },
     "execution_count": 62,
     "metadata": {},
     "output_type": "execute_result"
    }
   ],
   "source": [
    "train_data04_merge_label_df[['ORG_NO','LODE_ATTR_CODE']].drop_duplicates()"
   ]
  },
  {
   "cell_type": "code",
   "execution_count": 66,
   "metadata": {
    "collapsed": true
   },
   "outputs": [
    {
     "ename": "TypeError",
     "evalue": "%d format: a number is required, not numpy.float64",
     "output_type": "error",
     "traceback": [
      "\u001b[0;31m---------------------------------------------------------------------------\u001b[0m",
      "\u001b[0;31mTypeError\u001b[0m                                 Traceback (most recent call last)",
      "\u001b[0;32m<ipython-input-66-bd6f4209938c>\u001b[0m in \u001b[0;36m<module>\u001b[0;34m()\u001b[0m\n\u001b[1;32m      3\u001b[0m     \u001b[0;34m'LODE_ATTR_CODE'\u001b[0m\u001b[0;34m,\u001b[0m\u001b[0;34m\u001b[0m\u001b[0m\n\u001b[1;32m      4\u001b[0m     \u001b[0mTrue\u001b[0m\u001b[0;34m,\u001b[0m\u001b[0;34m\u001b[0m\u001b[0m\n\u001b[0;32m----> 5\u001b[0;31m     \u001b[0;34m'URBAN_RURAL_FLAG'\u001b[0m\u001b[0;34m\u001b[0m\u001b[0m\n\u001b[0m\u001b[1;32m      6\u001b[0m )\n",
      "\u001b[0;32m/home/jdwang/PycharmProjects/customerPortrait/semi-finals/data_util_func.py\u001b[0m in \u001b[0;36mshow_attribute_detail\u001b[0;34m(data, attribute_name, split_by_tag, tag_name, show_pic, multi_items, multi_item_split_char)\u001b[0m\n\u001b[1;32m    164\u001b[0m         \u001b[0;32mfor\u001b[0m \u001b[0mtag_value\u001b[0m \u001b[0;32min\u001b[0m \u001b[0mdata\u001b[0m\u001b[0;34m[\u001b[0m\u001b[0mtag_name\u001b[0m\u001b[0;34m]\u001b[0m\u001b[0;34m.\u001b[0m\u001b[0munique\u001b[0m\u001b[0;34m(\u001b[0m\u001b[0;34m)\u001b[0m\u001b[0;34m:\u001b[0m\u001b[0;34m\u001b[0m\u001b[0m\n\u001b[1;32m    165\u001b[0m             \u001b[0mtag1\u001b[0m \u001b[0;34m=\u001b[0m \u001b[0mdata\u001b[0m\u001b[0;34m.\u001b[0m\u001b[0mloc\u001b[0m\u001b[0;34m[\u001b[0m\u001b[0mdata\u001b[0m\u001b[0;34m[\u001b[0m\u001b[0mtag_name\u001b[0m\u001b[0;34m]\u001b[0m \u001b[0;34m==\u001b[0m \u001b[0mtag_value\u001b[0m\u001b[0;34m,\u001b[0m \u001b[0mattribute_name\u001b[0m\u001b[0;34m]\u001b[0m\u001b[0;34m.\u001b[0m\u001b[0mvalue_counts\u001b[0m\u001b[0;34m(\u001b[0m\u001b[0;34m)\u001b[0m\u001b[0;34m.\u001b[0m\u001b[0msort_index\u001b[0m\u001b[0;34m(\u001b[0m\u001b[0;34m)\u001b[0m\u001b[0;34m\u001b[0m\u001b[0m\n\u001b[0;32m--> 166\u001b[0;31m             \u001b[0mtemp\u001b[0m\u001b[0;34m[\u001b[0m\u001b[0;34m'tag%d'\u001b[0m \u001b[0;34m%\u001b[0m \u001b[0mtag_value\u001b[0m\u001b[0;34m]\u001b[0m \u001b[0;34m=\u001b[0m \u001b[0mtag1\u001b[0m\u001b[0;34m\u001b[0m\u001b[0m\n\u001b[0m\u001b[1;32m    167\u001b[0m             \u001b[0mtemp\u001b[0m\u001b[0;34m[\u001b[0m\u001b[0;34m'tag%d/total'\u001b[0m \u001b[0;34m%\u001b[0m \u001b[0mtag_value\u001b[0m\u001b[0;34m]\u001b[0m \u001b[0;34m=\u001b[0m \u001b[0mtag1\u001b[0m \u001b[0;34m/\u001b[0m \u001b[0mtotal\u001b[0m\u001b[0;34m\u001b[0m\u001b[0m\n\u001b[1;32m    168\u001b[0m             \u001b[0;31m# print(tag_value)\u001b[0m\u001b[0;34m\u001b[0m\u001b[0;34m\u001b[0m\u001b[0m\n",
      "\u001b[0;31mTypeError\u001b[0m: %d format: a number is required, not numpy.float64"
     ]
    },
    {
     "name": "stdout",
     "output_type": "stream",
     "text": [
      "> \u001b[0;32m/home/jdwang/PycharmProjects/customerPortrait/semi-finals/data_util_func.py\u001b[0m(166)\u001b[0;36mshow_attribute_detail\u001b[0;34m()\u001b[0m\n",
      "\u001b[0;32m    164 \u001b[0;31m        \u001b[0;32mfor\u001b[0m \u001b[0mtag_value\u001b[0m \u001b[0;32min\u001b[0m \u001b[0mdata\u001b[0m\u001b[0;34m[\u001b[0m\u001b[0mtag_name\u001b[0m\u001b[0;34m]\u001b[0m\u001b[0;34m.\u001b[0m\u001b[0munique\u001b[0m\u001b[0;34m(\u001b[0m\u001b[0;34m)\u001b[0m\u001b[0;34m:\u001b[0m\u001b[0;34m\u001b[0m\u001b[0m\n",
      "\u001b[0m\u001b[0;32m    165 \u001b[0;31m            \u001b[0mtag1\u001b[0m \u001b[0;34m=\u001b[0m \u001b[0mdata\u001b[0m\u001b[0;34m.\u001b[0m\u001b[0mloc\u001b[0m\u001b[0;34m[\u001b[0m\u001b[0mdata\u001b[0m\u001b[0;34m[\u001b[0m\u001b[0mtag_name\u001b[0m\u001b[0;34m]\u001b[0m \u001b[0;34m==\u001b[0m \u001b[0mtag_value\u001b[0m\u001b[0;34m,\u001b[0m \u001b[0mattribute_name\u001b[0m\u001b[0;34m]\u001b[0m\u001b[0;34m.\u001b[0m\u001b[0mvalue_counts\u001b[0m\u001b[0;34m(\u001b[0m\u001b[0;34m)\u001b[0m\u001b[0;34m.\u001b[0m\u001b[0msort_index\u001b[0m\u001b[0;34m(\u001b[0m\u001b[0;34m)\u001b[0m\u001b[0;34m\u001b[0m\u001b[0m\n",
      "\u001b[0m\u001b[0;32m--> 166 \u001b[0;31m            \u001b[0mtemp\u001b[0m\u001b[0;34m[\u001b[0m\u001b[0;34m'tag%d'\u001b[0m \u001b[0;34m%\u001b[0m \u001b[0mtag_value\u001b[0m\u001b[0;34m]\u001b[0m \u001b[0;34m=\u001b[0m \u001b[0mtag1\u001b[0m\u001b[0;34m\u001b[0m\u001b[0m\n",
      "\u001b[0m\u001b[0;32m    167 \u001b[0;31m            \u001b[0mtemp\u001b[0m\u001b[0;34m[\u001b[0m\u001b[0;34m'tag%d/total'\u001b[0m \u001b[0;34m%\u001b[0m \u001b[0mtag_value\u001b[0m\u001b[0;34m]\u001b[0m \u001b[0;34m=\u001b[0m \u001b[0mtag1\u001b[0m \u001b[0;34m/\u001b[0m \u001b[0mtotal\u001b[0m\u001b[0;34m\u001b[0m\u001b[0m\n",
      "\u001b[0m\u001b[0;32m    168 \u001b[0;31m            \u001b[0;31m# print(tag_value)\u001b[0m\u001b[0;34m\u001b[0m\u001b[0;34m\u001b[0m\u001b[0m\n",
      "\u001b[0m\n",
      "ipdb> q\n"
     ]
    }
   ],
   "source": [
    "show_attribute_detail(\n",
    "    train_data04_merge_label_df,\n",
    "    'LODE_ATTR_CODE',\n",
    "    True,\n",
    "    'URBAN_RURAL_FLAG'\n",
    ")"
   ]
  },
  {
   "cell_type": "markdown",
   "metadata": {},
   "source": [
    "### 3-15 11表 运行电能信息表 11_C_METER"
   ]
  },
  {
   "cell_type": "markdown",
   "metadata": {},
   "source": [
    "#### 2-1-1 训练集"
   ]
  },
  {
   "cell_type": "markdown",
   "metadata": {},
   "source": [
    "##### 2-1-1-1  加载数据 train/11_c_meter.tsv"
   ]
  },
  {
   "cell_type": "code",
   "execution_count": 83,
   "metadata": {
    "collapsed": true
   },
   "outputs": [
    {
     "name": "stderr",
     "output_type": "stream",
     "text": [
      "/usr/local/lib/python2.7/dist-packages/IPython/core/magic.py:188: DtypeWarning: Columns (2) have mixed types. Specify dtype option on import or set low_memory=False.\n",
      "  call = lambda f, *a, **k: f(*a, **k)\n"
     ]
    },
    {
     "name": "stdout",
     "output_type": "stream",
     "text": [
      "(25807825, 6)\n",
      "25622658\n",
      "CPU times: user 50 s, sys: 4.45 s, total: 54.5 s\n",
      "Wall time: 1min 17s\n"
     ]
    }
   ],
   "source": [
    "%%time\n",
    "# 要特别注意 统一设置 converters={0:unicode}，\n",
    "# 避免后面连接错误\n",
    "train_data11_df = load_data(file_name = 'Data_Update/train/11_c_meter.tsv',\n",
    "                                 converters={'CONS_ID':unicode}\n",
    "                                )\n",
    "# 记录数 25,807,825\n",
    "print(train_data11_df.shape)\n",
    "# 用户数 25,622,658\n",
    "print(len(train_data11_df['CONS_ID'].unique()))"
   ]
  },
  {
   "cell_type": "code",
   "execution_count": 87,
   "metadata": {
    "collapsed": false
   },
   "outputs": [
    {
     "data": {
      "text/plain": [
       "656282"
      ]
     },
     "execution_count": 87,
     "metadata": {},
     "output_type": "execute_result"
    }
   ],
   "source": [
    "len(train_data04_merge_label_df['CONS_ID'].unique())"
   ]
  },
  {
   "cell_type": "markdown",
   "metadata": {},
   "source": [
    "##### 2-4-1-2 将数据连接上标签 "
   ]
  },
  {
   "cell_type": "code",
   "execution_count": null,
   "metadata": {
    "collapsed": true
   },
   "outputs": [],
   "source": [
    "%%time\n",
    "# 连接上的用户都是敏感的 ，置为1，有 542,218 个 data08记录， 45,659个用户\n",
    "train_data11_merge_data04_df = train_data11_df.merge(\n",
    "    train_data04_merge_label_df,\n",
    "    how='left',\n",
    "    left_on='CONS_ID',\n",
    "    right_on='CONS_ID'\n",
    ")\n",
    "# 将没有连接上的工单设置为不敏感用户，  2,707,524 个 data08记录,236,493个用户\n",
    "train_data11_merge_label_df['TAG'] = train_data11_merge_label_df['TAG'].fillna(0)\n",
    "train_data11_merge_label_df['TAG'] = train_data11_merge_label_df['TAG'].astype(int)"
   ]
  },
  {
   "cell_type": "code",
   "execution_count": 84,
   "metadata": {
    "collapsed": false
   },
   "outputs": [
    {
     "name": "stdout",
     "output_type": "stream",
     "text": [
      "CPU times: user 19.6 s, sys: 4.31 s, total: 23.9 s\n",
      "Wall time: 39.4 s\n"
     ]
    }
   ],
   "source": [
    "%%time\n",
    "# 连接上的用户都是敏感的 ，置为1，有 542,218 个 data08记录， 45,659个用户\n",
    "train_data11_merge_label_df = train_data11_df.merge(\n",
    "    train_data_labels_df,\n",
    "    how='left',\n",
    "    left_on='CONS_ID',\n",
    "    right_on='CUST_NO'\n",
    ")\n",
    "# 将没有连接上的工单设置为不敏感用户，  2,707,524 个 data08记录,236,493个用户\n",
    "train_data11_merge_label_df['TAG'] = train_data11_merge_label_df['TAG'].fillna(0)\n",
    "train_data11_merge_label_df['TAG'] = train_data11_merge_label_df['TAG'].astype(int)"
   ]
  },
  {
   "cell_type": "code",
   "execution_count": 21,
   "metadata": {
    "collapsed": true
   },
   "outputs": [
    {
     "name": "stdout",
     "output_type": "stream",
     "text": [
      "     METER_ID     ORG_NO MEAS_BOX  SORT_CODE  TYPE_CODE      CONS_ID CUST_NO  \\\n",
      "0  3002822017  3340101.0      NaN          3       2418  12332601047     NaN   \n",
      "1  3002821792  3340101.0      NaN          3       2418  12332601015     NaN   \n",
      "2  3002741739  3340101.0      NaN          3       2418  12332601009     NaN   \n",
      "3  3002741786  3340101.0      NaN          3       2418  12332601009     NaN   \n",
      "4  2993895722    33401.0      NaN          3       2418  16531875042     NaN   \n",
      "\n",
      "   TAG  \n",
      "0    0  \n",
      "1    0  \n",
      "2    0  \n",
      "3    0  \n",
      "4    0  \n"
     ]
    },
    {
     "ename": "MemoryError",
     "evalue": "",
     "output_type": "error",
     "traceback": [
      "\u001b[0;31m---------------------------------------------------------------------------\u001b[0m",
      "\u001b[0;31mMemoryError\u001b[0m                               Traceback (most recent call last)",
      "\u001b[0;32m<ipython-input-21-305be488cee1>\u001b[0m in \u001b[0;36m<module>\u001b[0;34m()\u001b[0m\n\u001b[0;32m----> 1\u001b[0;31m \u001b[0mshow_df_info\u001b[0m\u001b[0;34m(\u001b[0m\u001b[0mtrain_data11_merge_label_df\u001b[0m\u001b[0;34m)\u001b[0m\u001b[0;34m\u001b[0m\u001b[0m\n\u001b[0m",
      "\u001b[0;32m/home/jdwang/PycharmProjects/customerPortrait/semi-finals/data_util_func.py\u001b[0m in \u001b[0;36mshow_df_info\u001b[0;34m(data)\u001b[0m\n\u001b[1;32m    108\u001b[0m     \u001b[0;32mpass\u001b[0m\u001b[0;34m\u001b[0m\u001b[0m\n\u001b[1;32m    109\u001b[0m     \u001b[0;32mprint\u001b[0m\u001b[0;34m(\u001b[0m\u001b[0mdata\u001b[0m\u001b[0;34m.\u001b[0m\u001b[0mhead\u001b[0m\u001b[0;34m(\u001b[0m\u001b[0;34m)\u001b[0m\u001b[0;34m)\u001b[0m\u001b[0;34m\u001b[0m\u001b[0m\n\u001b[0;32m--> 110\u001b[0;31m     \u001b[0;32mprint\u001b[0m\u001b[0;34m(\u001b[0m\u001b[0mdata\u001b[0m\u001b[0;34m.\u001b[0m\u001b[0minfo\u001b[0m\u001b[0;34m(\u001b[0m\u001b[0;34m)\u001b[0m\u001b[0;34m)\u001b[0m\u001b[0;34m\u001b[0m\u001b[0m\n\u001b[0m\u001b[1;32m    111\u001b[0m \u001b[0;34m\u001b[0m\u001b[0m\n\u001b[1;32m    112\u001b[0m \u001b[0;34m\u001b[0m\u001b[0m\n",
      "\u001b[0;32m/usr/local/lib/python2.7/dist-packages/pandas/core/frame.pyc\u001b[0m in \u001b[0;36minfo\u001b[0;34m(self, verbose, buf, max_cols, memory_usage, null_counts)\u001b[0m\n\u001b[1;32m   1713\u001b[0m                 \u001b[0m_verbose_repr\u001b[0m\u001b[0;34m(\u001b[0m\u001b[0;34m)\u001b[0m\u001b[0;34m\u001b[0m\u001b[0m\n\u001b[1;32m   1714\u001b[0m \u001b[0;34m\u001b[0m\u001b[0m\n\u001b[0;32m-> 1715\u001b[0;31m         \u001b[0mcounts\u001b[0m \u001b[0;34m=\u001b[0m \u001b[0mself\u001b[0m\u001b[0;34m.\u001b[0m\u001b[0mget_dtype_counts\u001b[0m\u001b[0;34m(\u001b[0m\u001b[0;34m)\u001b[0m\u001b[0;34m\u001b[0m\u001b[0m\n\u001b[0m\u001b[1;32m   1716\u001b[0m         \u001b[0mdtypes\u001b[0m \u001b[0;34m=\u001b[0m \u001b[0;34m[\u001b[0m\u001b[0;34m'%s(%d)'\u001b[0m \u001b[0;34m%\u001b[0m \u001b[0mk\u001b[0m \u001b[0;32mfor\u001b[0m \u001b[0mk\u001b[0m \u001b[0;32min\u001b[0m \u001b[0msorted\u001b[0m\u001b[0;34m(\u001b[0m\u001b[0mcompat\u001b[0m\u001b[0;34m.\u001b[0m\u001b[0miteritems\u001b[0m\u001b[0;34m(\u001b[0m\u001b[0mcounts\u001b[0m\u001b[0;34m)\u001b[0m\u001b[0;34m)\u001b[0m\u001b[0;34m]\u001b[0m\u001b[0;34m\u001b[0m\u001b[0m\n\u001b[1;32m   1717\u001b[0m         \u001b[0mlines\u001b[0m\u001b[0;34m.\u001b[0m\u001b[0mappend\u001b[0m\u001b[0;34m(\u001b[0m\u001b[0;34m'dtypes: %s'\u001b[0m \u001b[0;34m%\u001b[0m \u001b[0;34m', '\u001b[0m\u001b[0;34m.\u001b[0m\u001b[0mjoin\u001b[0m\u001b[0;34m(\u001b[0m\u001b[0mdtypes\u001b[0m\u001b[0;34m)\u001b[0m\u001b[0;34m)\u001b[0m\u001b[0;34m\u001b[0m\u001b[0m\n",
      "\u001b[0;32m/usr/local/lib/python2.7/dist-packages/pandas/core/generic.pyc\u001b[0m in \u001b[0;36mget_dtype_counts\u001b[0;34m(self)\u001b[0m\n\u001b[1;32m   2869\u001b[0m         \u001b[0;34m\"\"\"Return the counts of dtypes in this object.\"\"\"\u001b[0m\u001b[0;34m\u001b[0m\u001b[0m\n\u001b[1;32m   2870\u001b[0m         \u001b[0;32mfrom\u001b[0m \u001b[0mpandas\u001b[0m \u001b[0;32mimport\u001b[0m \u001b[0mSeries\u001b[0m\u001b[0;34m\u001b[0m\u001b[0m\n\u001b[0;32m-> 2871\u001b[0;31m         \u001b[0;32mreturn\u001b[0m \u001b[0mSeries\u001b[0m\u001b[0;34m(\u001b[0m\u001b[0mself\u001b[0m\u001b[0;34m.\u001b[0m\u001b[0m_data\u001b[0m\u001b[0;34m.\u001b[0m\u001b[0mget_dtype_counts\u001b[0m\u001b[0;34m(\u001b[0m\u001b[0;34m)\u001b[0m\u001b[0;34m)\u001b[0m\u001b[0;34m\u001b[0m\u001b[0m\n\u001b[0m\u001b[1;32m   2872\u001b[0m \u001b[0;34m\u001b[0m\u001b[0m\n\u001b[1;32m   2873\u001b[0m     \u001b[0;32mdef\u001b[0m \u001b[0mget_ftype_counts\u001b[0m\u001b[0;34m(\u001b[0m\u001b[0mself\u001b[0m\u001b[0;34m)\u001b[0m\u001b[0;34m:\u001b[0m\u001b[0;34m\u001b[0m\u001b[0m\n",
      "\u001b[0;32m/usr/local/lib/python2.7/dist-packages/pandas/core/internals.pyc\u001b[0m in \u001b[0;36mget_dtype_counts\u001b[0;34m(self)\u001b[0m\n\u001b[1;32m   2708\u001b[0m \u001b[0;34m\u001b[0m\u001b[0m\n\u001b[1;32m   2709\u001b[0m     \u001b[0;32mdef\u001b[0m \u001b[0mget_dtype_counts\u001b[0m\u001b[0;34m(\u001b[0m\u001b[0mself\u001b[0m\u001b[0;34m)\u001b[0m\u001b[0;34m:\u001b[0m\u001b[0;34m\u001b[0m\u001b[0m\n\u001b[0;32m-> 2710\u001b[0;31m         \u001b[0;32mreturn\u001b[0m \u001b[0mself\u001b[0m\u001b[0;34m.\u001b[0m\u001b[0m_get_counts\u001b[0m\u001b[0;34m(\u001b[0m\u001b[0;32mlambda\u001b[0m \u001b[0mb\u001b[0m\u001b[0;34m:\u001b[0m \u001b[0mb\u001b[0m\u001b[0;34m.\u001b[0m\u001b[0mdtype\u001b[0m\u001b[0;34m.\u001b[0m\u001b[0mname\u001b[0m\u001b[0;34m)\u001b[0m\u001b[0;34m\u001b[0m\u001b[0m\n\u001b[0m\u001b[1;32m   2711\u001b[0m \u001b[0;34m\u001b[0m\u001b[0m\n\u001b[1;32m   2712\u001b[0m     \u001b[0;32mdef\u001b[0m \u001b[0mget_ftype_counts\u001b[0m\u001b[0;34m(\u001b[0m\u001b[0mself\u001b[0m\u001b[0;34m)\u001b[0m\u001b[0;34m:\u001b[0m\u001b[0;34m\u001b[0m\u001b[0m\n",
      "\u001b[0;32m/usr/local/lib/python2.7/dist-packages/pandas/core/internals.pyc\u001b[0m in \u001b[0;36m_get_counts\u001b[0;34m(self, f)\u001b[0m\n\u001b[1;32m   2700\u001b[0m     \u001b[0;32mdef\u001b[0m \u001b[0m_get_counts\u001b[0m\u001b[0;34m(\u001b[0m\u001b[0mself\u001b[0m\u001b[0;34m,\u001b[0m \u001b[0mf\u001b[0m\u001b[0;34m)\u001b[0m\u001b[0;34m:\u001b[0m\u001b[0;34m\u001b[0m\u001b[0m\n\u001b[1;32m   2701\u001b[0m         \u001b[0;34m\"\"\" return a dict of the counts of the function in BlockManager \"\"\"\u001b[0m\u001b[0;34m\u001b[0m\u001b[0m\n\u001b[0;32m-> 2702\u001b[0;31m         \u001b[0mself\u001b[0m\u001b[0;34m.\u001b[0m\u001b[0m_consolidate_inplace\u001b[0m\u001b[0;34m(\u001b[0m\u001b[0;34m)\u001b[0m\u001b[0;34m\u001b[0m\u001b[0m\n\u001b[0m\u001b[1;32m   2703\u001b[0m         \u001b[0mcounts\u001b[0m \u001b[0;34m=\u001b[0m \u001b[0mdict\u001b[0m\u001b[0;34m(\u001b[0m\u001b[0;34m)\u001b[0m\u001b[0;34m\u001b[0m\u001b[0m\n\u001b[1;32m   2704\u001b[0m         \u001b[0;32mfor\u001b[0m \u001b[0mb\u001b[0m \u001b[0;32min\u001b[0m \u001b[0mself\u001b[0m\u001b[0;34m.\u001b[0m\u001b[0mblocks\u001b[0m\u001b[0;34m:\u001b[0m\u001b[0;34m\u001b[0m\u001b[0m\n",
      "\u001b[0;32m/usr/local/lib/python2.7/dist-packages/pandas/core/internals.pyc\u001b[0m in \u001b[0;36m_consolidate_inplace\u001b[0;34m(self)\u001b[0m\n\u001b[1;32m   3276\u001b[0m     \u001b[0;32mdef\u001b[0m \u001b[0m_consolidate_inplace\u001b[0m\u001b[0;34m(\u001b[0m\u001b[0mself\u001b[0m\u001b[0;34m)\u001b[0m\u001b[0;34m:\u001b[0m\u001b[0;34m\u001b[0m\u001b[0m\n\u001b[1;32m   3277\u001b[0m         \u001b[0;32mif\u001b[0m \u001b[0;32mnot\u001b[0m \u001b[0mself\u001b[0m\u001b[0;34m.\u001b[0m\u001b[0mis_consolidated\u001b[0m\u001b[0;34m(\u001b[0m\u001b[0;34m)\u001b[0m\u001b[0;34m:\u001b[0m\u001b[0;34m\u001b[0m\u001b[0m\n\u001b[0;32m-> 3278\u001b[0;31m             \u001b[0mself\u001b[0m\u001b[0;34m.\u001b[0m\u001b[0mblocks\u001b[0m \u001b[0;34m=\u001b[0m \u001b[0mtuple\u001b[0m\u001b[0;34m(\u001b[0m\u001b[0m_consolidate\u001b[0m\u001b[0;34m(\u001b[0m\u001b[0mself\u001b[0m\u001b[0;34m.\u001b[0m\u001b[0mblocks\u001b[0m\u001b[0;34m)\u001b[0m\u001b[0;34m)\u001b[0m\u001b[0;34m\u001b[0m\u001b[0m\n\u001b[0m\u001b[1;32m   3279\u001b[0m             \u001b[0mself\u001b[0m\u001b[0;34m.\u001b[0m\u001b[0m_is_consolidated\u001b[0m \u001b[0;34m=\u001b[0m \u001b[0mTrue\u001b[0m\u001b[0;34m\u001b[0m\u001b[0m\n\u001b[1;32m   3280\u001b[0m             \u001b[0mself\u001b[0m\u001b[0;34m.\u001b[0m\u001b[0m_known_consolidated\u001b[0m \u001b[0;34m=\u001b[0m \u001b[0mTrue\u001b[0m\u001b[0;34m\u001b[0m\u001b[0m\n",
      "\u001b[0;32m/usr/local/lib/python2.7/dist-packages/pandas/core/internals.pyc\u001b[0m in \u001b[0;36m_consolidate\u001b[0;34m(blocks)\u001b[0m\n\u001b[1;32m   4267\u001b[0m     \u001b[0;32mfor\u001b[0m \u001b[0;34m(\u001b[0m\u001b[0m_can_consolidate\u001b[0m\u001b[0;34m,\u001b[0m \u001b[0mdtype\u001b[0m\u001b[0;34m)\u001b[0m\u001b[0;34m,\u001b[0m \u001b[0mgroup_blocks\u001b[0m \u001b[0;32min\u001b[0m \u001b[0mgrouper\u001b[0m\u001b[0;34m:\u001b[0m\u001b[0;34m\u001b[0m\u001b[0m\n\u001b[1;32m   4268\u001b[0m         merged_blocks = _merge_blocks(list(group_blocks), dtype=dtype,\n\u001b[0;32m-> 4269\u001b[0;31m                                       _can_consolidate=_can_consolidate)\n\u001b[0m\u001b[1;32m   4270\u001b[0m         \u001b[0mnew_blocks\u001b[0m \u001b[0;34m=\u001b[0m \u001b[0m_extend_blocks\u001b[0m\u001b[0;34m(\u001b[0m\u001b[0mmerged_blocks\u001b[0m\u001b[0;34m,\u001b[0m \u001b[0mnew_blocks\u001b[0m\u001b[0;34m)\u001b[0m\u001b[0;34m\u001b[0m\u001b[0m\n\u001b[1;32m   4271\u001b[0m     \u001b[0;32mreturn\u001b[0m \u001b[0mnew_blocks\u001b[0m\u001b[0;34m\u001b[0m\u001b[0m\n",
      "\u001b[0;32m/usr/local/lib/python2.7/dist-packages/pandas/core/internals.pyc\u001b[0m in \u001b[0;36m_merge_blocks\u001b[0;34m(blocks, dtype, _can_consolidate)\u001b[0m\n\u001b[1;32m   4287\u001b[0m         \u001b[0;31m# combination of those slices is a slice, too.\u001b[0m\u001b[0;34m\u001b[0m\u001b[0;34m\u001b[0m\u001b[0m\n\u001b[1;32m   4288\u001b[0m         \u001b[0mnew_mgr_locs\u001b[0m \u001b[0;34m=\u001b[0m \u001b[0mnp\u001b[0m\u001b[0;34m.\u001b[0m\u001b[0mconcatenate\u001b[0m\u001b[0;34m(\u001b[0m\u001b[0;34m[\u001b[0m\u001b[0mb\u001b[0m\u001b[0;34m.\u001b[0m\u001b[0mmgr_locs\u001b[0m\u001b[0;34m.\u001b[0m\u001b[0mas_array\u001b[0m \u001b[0;32mfor\u001b[0m \u001b[0mb\u001b[0m \u001b[0;32min\u001b[0m \u001b[0mblocks\u001b[0m\u001b[0;34m]\u001b[0m\u001b[0;34m)\u001b[0m\u001b[0;34m\u001b[0m\u001b[0m\n\u001b[0;32m-> 4289\u001b[0;31m         \u001b[0mnew_values\u001b[0m \u001b[0;34m=\u001b[0m \u001b[0m_vstack\u001b[0m\u001b[0;34m(\u001b[0m\u001b[0;34m[\u001b[0m\u001b[0mb\u001b[0m\u001b[0;34m.\u001b[0m\u001b[0mvalues\u001b[0m \u001b[0;32mfor\u001b[0m \u001b[0mb\u001b[0m \u001b[0;32min\u001b[0m \u001b[0mblocks\u001b[0m\u001b[0;34m]\u001b[0m\u001b[0;34m,\u001b[0m \u001b[0mdtype\u001b[0m\u001b[0;34m)\u001b[0m\u001b[0;34m\u001b[0m\u001b[0m\n\u001b[0m\u001b[1;32m   4290\u001b[0m \u001b[0;34m\u001b[0m\u001b[0m\n\u001b[1;32m   4291\u001b[0m         \u001b[0margsort\u001b[0m \u001b[0;34m=\u001b[0m \u001b[0mnp\u001b[0m\u001b[0;34m.\u001b[0m\u001b[0margsort\u001b[0m\u001b[0;34m(\u001b[0m\u001b[0mnew_mgr_locs\u001b[0m\u001b[0;34m)\u001b[0m\u001b[0;34m\u001b[0m\u001b[0m\n",
      "\u001b[0;32m/usr/local/lib/python2.7/dist-packages/pandas/core/internals.pyc\u001b[0m in \u001b[0;36m_vstack\u001b[0;34m(to_stack, dtype)\u001b[0m\n\u001b[1;32m   4333\u001b[0m \u001b[0;34m\u001b[0m\u001b[0m\n\u001b[1;32m   4334\u001b[0m     \u001b[0;32melse\u001b[0m\u001b[0;34m:\u001b[0m\u001b[0;34m\u001b[0m\u001b[0m\n\u001b[0;32m-> 4335\u001b[0;31m         \u001b[0;32mreturn\u001b[0m \u001b[0mnp\u001b[0m\u001b[0;34m.\u001b[0m\u001b[0mvstack\u001b[0m\u001b[0;34m(\u001b[0m\u001b[0mto_stack\u001b[0m\u001b[0;34m)\u001b[0m\u001b[0;34m\u001b[0m\u001b[0m\n\u001b[0m\u001b[1;32m   4336\u001b[0m \u001b[0;34m\u001b[0m\u001b[0m\n\u001b[1;32m   4337\u001b[0m \u001b[0;34m\u001b[0m\u001b[0m\n",
      "\u001b[0;32m/usr/local/lib/python2.7/dist-packages/numpy/core/shape_base.pyc\u001b[0m in \u001b[0;36mvstack\u001b[0;34m(tup)\u001b[0m\n\u001b[1;32m    228\u001b[0m \u001b[0;34m\u001b[0m\u001b[0m\n\u001b[1;32m    229\u001b[0m     \"\"\"\n\u001b[0;32m--> 230\u001b[0;31m     \u001b[0;32mreturn\u001b[0m \u001b[0m_nx\u001b[0m\u001b[0;34m.\u001b[0m\u001b[0mconcatenate\u001b[0m\u001b[0;34m(\u001b[0m\u001b[0;34m[\u001b[0m\u001b[0matleast_2d\u001b[0m\u001b[0;34m(\u001b[0m\u001b[0m_m\u001b[0m\u001b[0;34m)\u001b[0m \u001b[0;32mfor\u001b[0m \u001b[0m_m\u001b[0m \u001b[0;32min\u001b[0m \u001b[0mtup\u001b[0m\u001b[0;34m]\u001b[0m\u001b[0;34m,\u001b[0m \u001b[0;36m0\u001b[0m\u001b[0;34m)\u001b[0m\u001b[0;34m\u001b[0m\u001b[0m\n\u001b[0m\u001b[1;32m    231\u001b[0m \u001b[0;34m\u001b[0m\u001b[0m\n\u001b[1;32m    232\u001b[0m \u001b[0;32mdef\u001b[0m \u001b[0mhstack\u001b[0m\u001b[0;34m(\u001b[0m\u001b[0mtup\u001b[0m\u001b[0;34m)\u001b[0m\u001b[0;34m:\u001b[0m\u001b[0;34m\u001b[0m\u001b[0m\n",
      "\u001b[0;31mMemoryError\u001b[0m: "
     ]
    },
    {
     "name": "stdout",
     "output_type": "stream",
     "text": [
      "> \u001b[0;32m/usr/local/lib/python2.7/dist-packages/numpy/core/shape_base.py\u001b[0m(230)\u001b[0;36mvstack\u001b[0;34m()\u001b[0m\n",
      "\u001b[0;32m    228 \u001b[0;31m\u001b[0;34m\u001b[0m\u001b[0m\n",
      "\u001b[0m\u001b[0;32m    229 \u001b[0;31m    \"\"\"\n",
      "\u001b[0m\u001b[0;32m--> 230 \u001b[0;31m    \u001b[0;32mreturn\u001b[0m \u001b[0m_nx\u001b[0m\u001b[0;34m.\u001b[0m\u001b[0mconcatenate\u001b[0m\u001b[0;34m(\u001b[0m\u001b[0;34m[\u001b[0m\u001b[0matleast_2d\u001b[0m\u001b[0;34m(\u001b[0m\u001b[0m_m\u001b[0m\u001b[0;34m)\u001b[0m \u001b[0;32mfor\u001b[0m \u001b[0m_m\u001b[0m \u001b[0;32min\u001b[0m \u001b[0mtup\u001b[0m\u001b[0;34m]\u001b[0m\u001b[0;34m,\u001b[0m \u001b[0;36m0\u001b[0m\u001b[0;34m)\u001b[0m\u001b[0;34m\u001b[0m\u001b[0m\n",
      "\u001b[0m\u001b[0;32m    231 \u001b[0;31m\u001b[0;34m\u001b[0m\u001b[0m\n",
      "\u001b[0m\u001b[0;32m    232 \u001b[0;31m\u001b[0;32mdef\u001b[0m \u001b[0mhstack\u001b[0m\u001b[0;34m(\u001b[0m\u001b[0mtup\u001b[0m\u001b[0;34m)\u001b[0m\u001b[0;34m:\u001b[0m\u001b[0;34m\u001b[0m\u001b[0m\n",
      "\u001b[0m\n",
      "ipdb> q\n"
     ]
    }
   ],
   "source": [
    "show_df_info(train_data11_merge_label_df)"
   ]
  },
  {
   "cell_type": "code",
   "execution_count": 22,
   "metadata": {
    "collapsed": true
   },
   "outputs": [
    {
     "data": {
      "text/html": [
       "<div>\n",
       "<table border=\"1\" class=\"dataframe\">\n",
       "  <thead>\n",
       "    <tr style=\"text-align: right;\">\n",
       "      <th></th>\n",
       "      <th>METER_ID</th>\n",
       "      <th>ORG_NO</th>\n",
       "      <th>MEAS_BOX</th>\n",
       "      <th>SORT_CODE</th>\n",
       "      <th>TYPE_CODE</th>\n",
       "      <th>CONS_ID</th>\n",
       "      <th>CUST_NO</th>\n",
       "      <th>TAG</th>\n",
       "    </tr>\n",
       "  </thead>\n",
       "  <tbody>\n",
       "    <tr>\n",
       "      <th>0</th>\n",
       "      <td>3002822017</td>\n",
       "      <td>3340101.0</td>\n",
       "      <td>NaN</td>\n",
       "      <td>3</td>\n",
       "      <td>2418</td>\n",
       "      <td>12332601047</td>\n",
       "      <td>NaN</td>\n",
       "      <td>0</td>\n",
       "    </tr>\n",
       "    <tr>\n",
       "      <th>1</th>\n",
       "      <td>3002821792</td>\n",
       "      <td>3340101.0</td>\n",
       "      <td>NaN</td>\n",
       "      <td>3</td>\n",
       "      <td>2418</td>\n",
       "      <td>12332601015</td>\n",
       "      <td>NaN</td>\n",
       "      <td>0</td>\n",
       "    </tr>\n",
       "    <tr>\n",
       "      <th>2</th>\n",
       "      <td>3002741739</td>\n",
       "      <td>3340101.0</td>\n",
       "      <td>NaN</td>\n",
       "      <td>3</td>\n",
       "      <td>2418</td>\n",
       "      <td>12332601009</td>\n",
       "      <td>NaN</td>\n",
       "      <td>0</td>\n",
       "    </tr>\n",
       "    <tr>\n",
       "      <th>3</th>\n",
       "      <td>3002741786</td>\n",
       "      <td>3340101.0</td>\n",
       "      <td>NaN</td>\n",
       "      <td>3</td>\n",
       "      <td>2418</td>\n",
       "      <td>12332601009</td>\n",
       "      <td>NaN</td>\n",
       "      <td>0</td>\n",
       "    </tr>\n",
       "    <tr>\n",
       "      <th>4</th>\n",
       "      <td>2993895722</td>\n",
       "      <td>33401.0</td>\n",
       "      <td>NaN</td>\n",
       "      <td>3</td>\n",
       "      <td>2418</td>\n",
       "      <td>16531875042</td>\n",
       "      <td>NaN</td>\n",
       "      <td>0</td>\n",
       "    </tr>\n",
       "  </tbody>\n",
       "</table>\n",
       "</div>"
      ],
      "text/plain": [
       "     METER_ID     ORG_NO MEAS_BOX  SORT_CODE  TYPE_CODE      CONS_ID CUST_NO  \\\n",
       "0  3002822017  3340101.0      NaN          3       2418  12332601047     NaN   \n",
       "1  3002821792  3340101.0      NaN          3       2418  12332601015     NaN   \n",
       "2  3002741739  3340101.0      NaN          3       2418  12332601009     NaN   \n",
       "3  3002741786  3340101.0      NaN          3       2418  12332601009     NaN   \n",
       "4  2993895722    33401.0      NaN          3       2418  16531875042     NaN   \n",
       "\n",
       "   TAG  \n",
       "0    0  \n",
       "1    0  \n",
       "2    0  \n",
       "3    0  \n",
       "4    0  "
      ]
     },
     "execution_count": 22,
     "metadata": {},
     "output_type": "execute_result"
    }
   ],
   "source": [
    "train_data11_merge_label_df.head()"
   ]
  },
  {
   "cell_type": "code",
   "execution_count": 15,
   "metadata": {
    "collapsed": false
   },
   "outputs": [
    {
     "data": {
      "text/plain": [
       "55"
      ]
     },
     "execution_count": 15,
     "metadata": {},
     "output_type": "execute_result"
    }
   ],
   "source": [
    "len(train_data11_df['TYPE_CODE'].unique())"
   ]
  },
  {
   "cell_type": "code",
   "execution_count": 29,
   "metadata": {
    "collapsed": false
   },
   "outputs": [
    {
     "data": {
      "text/plain": [
       "84"
      ]
     },
     "execution_count": 29,
     "metadata": {},
     "output_type": "execute_result"
    }
   ],
   "source": [
    "sum(train_data11_df['CONS_ID']=='12332601047')"
   ]
  },
  {
   "cell_type": "code",
   "execution_count": 25,
   "metadata": {
    "collapsed": true
   },
   "outputs": [
    {
     "data": {
      "text/plain": [
       "0    5720017228\n",
       "1    7618031763\n",
       "2    6010466106\n",
       "3    1658156188\n",
       "4    3168134368\n",
       "Name: CUST_NO, dtype: object"
      ]
     },
     "execution_count": 25,
     "metadata": {},
     "output_type": "execute_result"
    }
   ],
   "source": [
    "train_data01_a_worker_per_user['CUST_NO'].head()"
   ]
  },
  {
   "cell_type": "code",
   "execution_count": 16,
   "metadata": {
    "collapsed": true
   },
   "outputs": [
    {
     "data": {
      "text/plain": [
       "array([2418,   86, 2439, 2438, 2433,   85,   84, 2410, 2414,   24, 2429,\n",
       "       2211,   83, 2412, 2101, 2431, 2417, 2425, 2405, 2415, 2426, 2413,\n",
       "       1601,   21, 2437, 2210, 2401, 1301, 2202, 2201, 2420, 1101, 2451,\n",
       "       2436, 2452, 2416, 2445, 2430,   87,   88, 2411, 2432, 2404, 2406,\n",
       "       2428, 2424, 2103, 2440, 2421, 2434, 2419, 2409,   28, 2402, 2435])"
      ]
     },
     "execution_count": 16,
     "metadata": {},
     "output_type": "execute_result"
    }
   ],
   "source": [
    "train_data11_df['TYPE_CODE'].unique()"
   ]
  },
  {
   "cell_type": "code",
   "execution_count": null,
   "metadata": {
    "collapsed": true
   },
   "outputs": [],
   "source": [
    "train_data11_df"
   ]
  },
  {
   "cell_type": "code",
   "execution_count": 23,
   "metadata": {
    "collapsed": true
   },
   "outputs": [
    {
     "name": "stdout",
     "output_type": "stream",
     "text": [
      "(1,)\n"
     ]
    },
    {
     "data": {
      "text/plain": [
       "0    25807825\n",
       "Name: TAG, dtype: int64"
      ]
     },
     "execution_count": 23,
     "metadata": {},
     "output_type": "execute_result"
    },
    {
     "data": {
      "image/png": "[encoded data removed]",
      "text/plain": [
       "<matplotlib.figure.Figure at 0x7f26d29ca490>"
      ]
     },
     "metadata": {},
     "output_type": "display_data"
    }
   ],
   "source": [
    "show_attribute_detail(\n",
    "    train_data11_merge_label_df,\n",
    "    'TAG',\n",
    ")"
   ]
  },
  {
   "cell_type": "markdown",
   "metadata": {},
   "source": [
    "### 3-16 12表 收费记录 12_A_PAY_FLOW"
   ]
  },
  {
   "cell_type": "markdown",
   "metadata": {},
   "source": [
    "#### 2-1-1 训练集"
   ]
  },
  {
   "cell_type": "markdown",
   "metadata": {},
   "source": [
    "##### 2-1-1-1  加载数据 train/11_c_meter.tsv"
   ]
  },
  {
   "cell_type": "code",
   "execution_count": 68,
   "metadata": {
    "collapsed": false
   },
   "outputs": [
    {
     "name": "stdout",
     "output_type": "stream",
     "text": [
      "(5483788, 5)\n",
      "431833\n",
      "CPU times: user 10.4 s, sys: 704 ms, total: 11.1 s\n",
      "Wall time: 12.6 s\n"
     ]
    }
   ],
   "source": [
    "%%time\n",
    "# 要特别注意 统一设置 converters={0:unicode}，\n",
    "# 避免后面连接错误\n",
    "train_data12_df = load_data(file_name = 'Data_Update/train/12_a_pay_flow.tsv',\n",
    "                                 converters={'CONS_NO':unicode}\n",
    "                                )\n",
    "# 记录数 5483788\n",
    "print(train_data12_df.shape)\n",
    "# 用户数 431833\n",
    "print(len(train_data12_df['CONS_NO'].unique()))"
   ]
  },
  {
   "cell_type": "markdown",
   "metadata": {},
   "source": [
    "##### 2-4-1-2 将数据连接上标签 "
   ]
  },
  {
   "cell_type": "code",
   "execution_count": 69,
   "metadata": {
    "collapsed": false
   },
   "outputs": [
    {
     "name": "stdout",
     "output_type": "stream",
     "text": [
      "CPU times: user 2.78 s, sys: 192 ms, total: 2.98 s\n",
      "Wall time: 3.74 s\n"
     ]
    }
   ],
   "source": [
    "%%time\n",
    "# 连接上的用户都是敏感的 ，置为1，有 542,218 个 data08记录， 45,659个用户\n",
    "train_data12_merge_label_df = train_data12_df.merge(\n",
    "    train_data_labels_df,\n",
    "    how='left',\n",
    "    left_on='CONS_NO',\n",
    "    right_on='CUST_NO'\n",
    ")\n",
    "# 将没有连接上的工单设置为不敏感用户，  2,707,524 个 data08记录,236,493个用户\n",
    "train_data12_merge_label_df['TAG'] = train_data12_merge_label_df['TAG'].fillna(0)\n",
    "train_data12_merge_label_df['TAG'] = train_data12_merge_label_df['TAG'].astype(int)"
   ]
  },
  {
   "cell_type": "markdown",
   "metadata": {},
   "source": [
    "###### 统计 敏感和 不敏感 分布情况"
   ]
  },
  {
   "cell_type": "code",
   "execution_count": 70,
   "metadata": {
    "collapsed": true
   },
   "outputs": [
    {
     "name": "stdout",
     "output_type": "stream",
     "text": [
      "(2,)\n"
     ]
    },
    {
     "data": {
      "text/plain": [
       "0    4624437\n",
       "1     859351\n",
       "Name: TAG, dtype: int64"
      ]
     },
     "execution_count": 70,
     "metadata": {},
     "output_type": "execute_result"
    },
    {
     "data": {
      "image/png": "[encoded data removed]",
      "text/plain": [
       "<matplotlib.figure.Figure at 0x7fdb0369ba50>"
      ]
     },
     "metadata": {},
     "output_type": "display_data"
    }
   ],
   "source": [
    "# 所有记录\n",
    "show_attribute_detail(\n",
    "    train_data12_merge_label_df,\n",
    "    'TAG'\n",
    ")"
   ]
  },
  {
   "cell_type": "code",
   "execution_count": 76,
   "metadata": {
    "collapsed": true
   },
   "outputs": [
    {
     "name": "stdout",
     "output_type": "stream",
     "text": [
      "(2,)\n"
     ]
    },
    {
     "data": {
      "text/plain": [
       "0    366218\n",
       "1     65615\n",
       "Name: TAG, dtype: int64"
      ]
     },
     "execution_count": 76,
     "metadata": {},
     "output_type": "execute_result"
    },
    {
     "data": {
      "image/png": "[encoded data removed]",
      "text/plain": [
       "<matplotlib.figure.Figure at 0x7fdb03749590>"
      ]
     },
     "metadata": {},
     "output_type": "display_data"
    }
   ],
   "source": [
    "show_attribute_detail(\n",
    "    train_data12_merge_label_df[['CONS_NO','TAG']].drop_duplicates(),\n",
    "    'TAG'\n",
    ")"
   ]
  },
  {
   "cell_type": "markdown",
   "metadata": {},
   "source": [
    "##### 和data01数据的用户列表比较"
   ]
  },
  {
   "cell_type": "code",
   "execution_count": 77,
   "metadata": {
    "collapsed": true
   },
   "outputs": [
    {
     "name": "stdout",
     "output_type": "stream",
     "text": [
      "合并所有用户有：658374\n",
      "在data12数据中，而不在data01数据中的用户数有：0\n",
      "在data01数据中，而不在data12数据中的用户数有：226541\n"
     ]
    }
   ],
   "source": [
    "train_data01_data12_cust_no_tag_df = train_data01_a_worker_per_user.merge(\n",
    "    train_data12_merge_label_df[['CONS_NO','TAG']].drop_duplicates(),\n",
    "    how='outer',\n",
    "    left_on='CUST_NO',\n",
    "    right_on='CONS_NO'\n",
    ")\n",
    "# 合并所有用户有：658374   ----  跟表1一样，即 表4中所有用户都在表1中\n",
    "# 在data01数据中，而不在data08数据中的用户数有：0\n",
    "# 在data08数据中，而不在data01数据中的用户数有：376222\n",
    "print '合并所有用户有：%d'%train_data01_data12_cust_no_tag_df.shape[0]\n",
    "print '在data12数据中，而不在data01数据中的用户数有：%d'%sum(train_data01_data12_cust_no_tag_df['CUST_NO'].isnull())\n",
    "print '在data01数据中，而不在data12数据中的用户数有：%d'%sum(train_data01_data12_cust_no_tag_df['CONS_NO'].isnull())\n"
   ]
  },
  {
   "cell_type": "code",
   "execution_count": 75,
   "metadata": {
    "collapsed": true
   },
   "outputs": [
    {
     "data": {
      "text/plain": [
       "226541"
      ]
     },
     "execution_count": 75,
     "metadata": {},
     "output_type": "execute_result"
    }
   ],
   "source": [
    "sum(train_data01_data12_cust_no_tag_df['CONS_NO'].isnull())"
   ]
  },
  {
   "cell_type": "code",
   "execution_count": 81,
   "metadata": {
    "collapsed": false
   },
   "outputs": [
    {
     "data": {
      "text/plain": [
       "array([20271, 10101, 20311, 20108, 20101, 30201, 10301, 10601, 10106,\n",
       "       20331, 20261])"
      ]
     },
     "execution_count": 81,
     "metadata": {},
     "output_type": "execute_result"
    }
   ],
   "source": [
    "train_data12_merge_label_df['PAY_MODE'].unique()"
   ]
  },
  {
   "cell_type": "code",
   "execution_count": 82,
   "metadata": {
    "collapsed": true
   },
   "outputs": [
    {
     "name": "stdout",
     "output_type": "stream",
     "text": [
      "(11, 5)\n"
     ]
    },
    {
     "data": {
      "text/html": [
       "<div>\n",
       "<table border=\"1\" class=\"dataframe\">\n",
       "  <thead>\n",
       "    <tr style=\"text-align: right;\">\n",
       "      <th></th>\n",
       "      <th>total</th>\n",
       "      <th>tag0</th>\n",
       "      <th>tag0/total</th>\n",
       "      <th>tag1</th>\n",
       "      <th>tag1/total</th>\n",
       "    </tr>\n",
       "  </thead>\n",
       "  <tbody>\n",
       "    <tr>\n",
       "      <th>10101</th>\n",
       "      <td>576918</td>\n",
       "      <td>472523</td>\n",
       "      <td>0.819047</td>\n",
       "      <td>104395</td>\n",
       "      <td>0.180953</td>\n",
       "    </tr>\n",
       "    <tr>\n",
       "      <th>10106</th>\n",
       "      <td>790</td>\n",
       "      <td>709</td>\n",
       "      <td>0.897468</td>\n",
       "      <td>81</td>\n",
       "      <td>0.102532</td>\n",
       "    </tr>\n",
       "    <tr>\n",
       "      <th>10301</th>\n",
       "      <td>14386</td>\n",
       "      <td>12645</td>\n",
       "      <td>0.878980</td>\n",
       "      <td>1741</td>\n",
       "      <td>0.121020</td>\n",
       "    </tr>\n",
       "    <tr>\n",
       "      <th>10601</th>\n",
       "      <td>432</td>\n",
       "      <td>355</td>\n",
       "      <td>0.821759</td>\n",
       "      <td>77</td>\n",
       "      <td>0.178241</td>\n",
       "    </tr>\n",
       "    <tr>\n",
       "      <th>20101</th>\n",
       "      <td>1359442</td>\n",
       "      <td>1107996</td>\n",
       "      <td>0.815037</td>\n",
       "      <td>251446</td>\n",
       "      <td>0.184963</td>\n",
       "    </tr>\n",
       "    <tr>\n",
       "      <th>20108</th>\n",
       "      <td>882857</td>\n",
       "      <td>717343</td>\n",
       "      <td>0.812525</td>\n",
       "      <td>165514</td>\n",
       "      <td>0.187475</td>\n",
       "    </tr>\n",
       "    <tr>\n",
       "      <th>20261</th>\n",
       "      <td>80979</td>\n",
       "      <td>65429</td>\n",
       "      <td>0.807975</td>\n",
       "      <td>15550</td>\n",
       "      <td>0.192025</td>\n",
       "    </tr>\n",
       "    <tr>\n",
       "      <th>20271</th>\n",
       "      <td>80243</td>\n",
       "      <td>61995</td>\n",
       "      <td>0.772591</td>\n",
       "      <td>18248</td>\n",
       "      <td>0.227409</td>\n",
       "    </tr>\n",
       "    <tr>\n",
       "      <th>20311</th>\n",
       "      <td>2033207</td>\n",
       "      <td>1796470</td>\n",
       "      <td>0.883565</td>\n",
       "      <td>236737</td>\n",
       "      <td>0.116435</td>\n",
       "    </tr>\n",
       "    <tr>\n",
       "      <th>20331</th>\n",
       "      <td>290576</td>\n",
       "      <td>254387</td>\n",
       "      <td>0.875458</td>\n",
       "      <td>36189</td>\n",
       "      <td>0.124542</td>\n",
       "    </tr>\n",
       "    <tr>\n",
       "      <th>30201</th>\n",
       "      <td>163958</td>\n",
       "      <td>134585</td>\n",
       "      <td>0.820850</td>\n",
       "      <td>29373</td>\n",
       "      <td>0.179150</td>\n",
       "    </tr>\n",
       "  </tbody>\n",
       "</table>\n",
       "</div>"
      ],
      "text/plain": [
       "         total     tag0  tag0/total    tag1  tag1/total\n",
       "10101   576918   472523    0.819047  104395    0.180953\n",
       "10106      790      709    0.897468      81    0.102532\n",
       "10301    14386    12645    0.878980    1741    0.121020\n",
       "10601      432      355    0.821759      77    0.178241\n",
       "20101  1359442  1107996    0.815037  251446    0.184963\n",
       "20108   882857   717343    0.812525  165514    0.187475\n",
       "20261    80979    65429    0.807975   15550    0.192025\n",
       "20271    80243    61995    0.772591   18248    0.227409\n",
       "20311  2033207  1796470    0.883565  236737    0.116435\n",
       "20331   290576   254387    0.875458   36189    0.124542\n",
       "30201   163958   134585    0.820850   29373    0.179150"
      ]
     },
     "execution_count": 82,
     "metadata": {},
     "output_type": "execute_result"
    },
    {
     "data": {
      "image/png": "[encoded data removed]",
      "text/plain": [
       "<matplotlib.figure.Figure at 0x7fdb019d5d10>"
      ]
     },
     "metadata": {},
     "output_type": "display_data"
    }
   ],
   "source": [
    "show_attribute_detail(\n",
    "    train_data12_merge_label_df,\n",
    "    'PAY_MODE',\n",
    "    True,\n",
    "    'TAG'\n",
    ")"
   ]
  },
  {
   "cell_type": "markdown",
   "metadata": {},
   "source": [
    "#### 测试集"
   ]
  },
  {
   "cell_type": "code",
   "execution_count": 79,
   "metadata": {
    "collapsed": false
   },
   "outputs": [
    {
     "name": "stdout",
     "output_type": "stream",
     "text": [
      "合并所有用户有：802704\n",
      "在data12数据中，而不在data01数据中的用户数有：431833\n",
      "在data01数据中，而不在data12数据中的用户数有：370871\n"
     ]
    }
   ],
   "source": [
    "test_data01_data12_cust_no_tag_df = test_data01_a_worker_per_user.merge(\n",
    "    train_data12_merge_label_df[['CONS_NO','TAG']].drop_duplicates(),\n",
    "    how='outer',\n",
    "    left_on='CUST_NO',\n",
    "    right_on='CONS_NO'\n",
    ")\n",
    "# 无测试集用户\n",
    "print '合并所有用户有：%d'%test_data01_data12_cust_no_tag_df.shape[0]\n",
    "print '在data12数据中，而不在data01数据中的用户数有：%d'%sum(test_data01_data12_cust_no_tag_df['CUST_NO'].isnull())\n",
    "print '在data01数据中，而不在data12数据中的用户数有：%d'%sum(test_data01_data12_cust_no_tag_df['CONS_NO'].isnull())\n"
   ]
  }
 ],
 "metadata": {
  "kernelspec": {
   "display_name": "Python 2",
   "language": "python",
   "name": "python2"
  },
  "language_info": {
   "codemirror_mode": {
    "name": "ipython",
    "version": 2
   },
   "file_extension": ".py",
   "mimetype": "text/x-python",
   "name": "python",
   "nbconvert_exporter": "python",
   "pygments_lexer": "ipython2",
   "version": "2.7.6"
  }
 },
 "nbformat": 4,
 "nbformat_minor": 1
}
