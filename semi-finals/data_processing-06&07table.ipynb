{
 "cells": [
  {
   "cell_type": "markdown",
   "metadata": {
    "collapsed": false
   },
   "source": [
    "# 客户画像复赛 数据处理---06&07表特征提取"
   ]
  },
  {
   "cell_type": "code",
   "execution_count": 1,
   "metadata": {
    "collapsed": true
   },
   "outputs": [
    {
     "name": "stdout",
     "output_type": "stream",
     "text": [
      "01_arc_s_95598_wkst_train.tsv  06_cont_info.tsv\t\t11_c_meter.tsv\r\n",
      "02_s_comm_rec.tsv\t       07_c_rca_cons.tsv\t12_a_pay_flow.tsv\r\n",
      "03_s_info_oversee.tsv\t       08_a_rcved_flow.tsv\tout\r\n",
      "04_c_cons.tsv\t\t       09_arc_a_rcvbl_flow.tsv\ttrain_label.csv\r\n",
      "05_c_cons_prc.tsv\t       10_c_meter_read.tsv\r\n"
     ]
    }
   ],
   "source": [
    "!ls Data_Update/train/"
   ]
  },
  {
   "cell_type": "markdown",
   "metadata": {},
   "source": [
    "## 1 导入必要的包和函数"
   ]
  },
  {
   "cell_type": "code",
   "execution_count": 1,
   "metadata": {
    "collapsed": false
   },
   "outputs": [
    {
     "name": "stdout",
     "output_type": "stream",
     "text": [
      "Automatic pdb calling has been turned ON\n"
     ]
    }
   ],
   "source": [
    "%pdb 1\n",
    "debug = 1\n",
    "import pandas as pd\n",
    "import numpy as np\n",
    "import pickle\n",
    "import re\n",
    "import io \n",
    "import matplotlib.pyplot as plt\n",
    "%matplotlib inline\n",
    "\n",
    "# 加载预定义好的函数\n",
    "# 预定义好的函数：\n",
    "#    - load_data(file_name, header=0): 加载数据\n",
    "#    - def show_attribute_detail( data=None, attribute_name=None): 显示数据某个属性的详情\n",
    "%run data_util_func.py\n",
    "# 选择过滤方案\n",
    "PLAN_TYPE = 3"
   ]
  },
  {
   "cell_type": "code",
   "execution_count": 34,
   "metadata": {
    "collapsed": true
   },
   "outputs": [
    {
     "data": {
      "text/plain": [
       "['FeatureEncoder',\n",
       " 'data01_appno_contenttype_rdd',\n",
       " 'data_feature_encoder',\n",
       " 'debug',\n",
       " 'extend_train_data',\n",
       " 'get_accept_content_type',\n",
       " 'get_highest_sensitive_workerid',\n",
       " 'get_metrics',\n",
       " 'io',\n",
       " 'is_highest_sensitive_worker_dict',\n",
       " 'load_data',\n",
       " 'model_predict',\n",
       " 'model_train',\n",
       " 'np',\n",
       " 'pd',\n",
       " 'pickle',\n",
       " 'plt',\n",
       " 'print_function',\n",
       " 're',\n",
       " 'save_data',\n",
       " 'seperate_data_to_classifier',\n",
       " 'show_attribute_detail',\n",
       " 'show_df_info',\n",
       " 'test_data01_df',\n",
       " 'test_data01_merge_label_df',\n",
       " 'test_data_labels_df',\n",
       " 'train_accept_content_type_count_df',\n",
       " 'train_accept_content_type_sensitive_rate_series',\n",
       " 'train_custno_in_season4_count_dict',\n",
       " 'train_custno_in_season4_count_rdd',\n",
       " 'train_custno_search_action_count_dict',\n",
       " 'train_custno_search_action_count_rdd',\n",
       " 'train_data01_a_worker_per_user',\n",
       " 'train_data01_a_worker_per_user_accept_content_type_count_df',\n",
       " 'train_data01_custno_handle_month_rdd',\n",
       " 'train_data01_custno_issearchaction_rdd',\n",
       " 'train_data01_merge_label_df',\n",
       " 'train_data01_user_worker_count_series',\n",
       " 'train_test_split',\n",
       " 'user_highest_sensitive_worker_rdd']"
      ]
     },
     "execution_count": 34,
     "metadata": {},
     "output_type": "execute_result"
    }
   ],
   "source": [
    "%who_ls"
   ]
  },
  {
   "cell_type": "code",
   "execution_count": 36,
   "metadata": {
    "collapsed": false
   },
   "outputs": [],
   "source": [
    "del test_data_labels_df"
   ]
  },
  {
   "cell_type": "markdown",
   "metadata": {},
   "source": [
    "##  2 加载数据 "
   ]
  },
  {
   "cell_type": "markdown",
   "metadata": {},
   "source": [
    "### 3-15 06表 低保户信息表 06_CONT_INFO  部分特征"
   ]
  },
  {
   "cell_type": "markdown",
   "metadata": {},
   "source": [
    "#### 2-1-1 训练集"
   ]
  },
  {
   "cell_type": "markdown",
   "metadata": {},
   "source": [
    "##### 2-1-1-1  加载数据 train/06_cont_info.tsv"
   ]
  },
  {
   "cell_type": "code",
   "execution_count": 30,
   "metadata": {
    "collapsed": false
   },
   "outputs": [
    {
     "name": "stdout",
     "output_type": "stream",
     "text": [
      "(7386, 4)\n",
      "用户数：2455\n"
     ]
    }
   ],
   "source": [
    "# 要特别注意 统一设置 converters={0:unicode}，\n",
    "# 避免后面连接错误\n",
    "train_data06_df = load_data(file_name = 'Data_Update/train/06_cont_info.tsv',\n",
    "                                 converters={0:unicode}\n",
    "# 7386                             )\n",
    "print(train_data06_df.shape)\n",
    "# 2455\n",
    "print '用户数：%d'%len(train_data06_df['CONS_NO'].unique())"
   ]
  },
  {
   "cell_type": "markdown",
   "metadata": {},
   "source": [
    "##### 增加特征 - 是否连接上表6"
   ]
  },
  {
   "cell_type": "code",
   "execution_count": 62,
   "metadata": {
    "collapsed": true
   },
   "outputs": [
    {
     "name": "stdout",
     "output_type": "stream",
     "text": [
      "2455 2455\n",
      "             APP_NO                ID  BUSI_TYPE_CODE  URBAN_RURAL_FLAG  \\\n",
      "0  2015101280016722  1000000527203612               3               2.0   \n",
      "1  2015101280031388  1000000527304861               3               1.0   \n",
      "2  2015101280031424  1000000527305097               3               2.0   \n",
      "3  2015101280031680  1000000527300870               3               2.0   \n",
      "4  2015101280032506  1000000527305664               3               1.0   \n",
      "\n",
      "      ORG_NO         HANDLE_TIME                ACCEPT_CONTENT HANDLE_OPINION  \\\n",
      "0    3341020  2015/10/12 7:31:50              【银行代扣】客户咨询银行代扣事宜            NaN   \n",
      "1    3340901  2015/10/12 9:14:03  【咨询总户号】通过地址（户名、表号）查询户号信息，已告知            NaN   \n",
      "2      33401  2015/10/12 9:14:16             【查询电费】客户查询电费，已告知。            NaN   \n",
      "3  334020106  2015/10/12 9:11:37        【咨询总户号】通过地址（户名）查询户号信息。            NaN   \n",
      "4    3340101  2015/10/12 9:14:48  【咨询总户号】通过地址（户名、表号）查询户号信息，已告知            NaN   \n",
      "\n",
      "   CALLING_NO  ELEC_TYPE          ...           IS_CONNECT_TO_07TABLE  \\\n",
      "0   1196922.0      202.0          ...                               0   \n",
      "1   1005636.0        NaN          ...                               0   \n",
      "2   1007513.0      405.0          ...                               0   \n",
      "3   1073266.0      202.0          ...                               0   \n",
      "4   1433592.0        NaN          ...                               0   \n",
      "\n",
      "   CONS_STATUS  STATUS  RCA_FLAG  ORG_NO_7bit AVERAGE_RCVBL_AMT  \\\n",
      "0          NaN     NaN       NaN          NaN               NaN   \n",
      "1          NaN     NaN       NaN          NaN               NaN   \n",
      "2          NaN     NaN       NaN    3340101.0       1652.304167   \n",
      "3          NaN     NaN       NaN    3340201.0         51.961667   \n",
      "4          NaN     NaN       NaN    3340150.0        121.936250   \n",
      "\n",
      "   IS_EXCEEDING_RCVBL_YM_GE_1MON  CONS_NO  CONT_TYPE  IS_CONNECT_TO_06TABLE  \n",
      "0                            2.0      NaN        NaN                      0  \n",
      "1                            2.0      NaN        NaN                      0  \n",
      "2                            0.0      NaN        NaN                      0  \n",
      "3                            0.0      NaN        NaN                      0  \n",
      "4                            0.0      NaN        NaN                      0  \n",
      "\n",
      "[5 rows x 49 columns]\n"
     ]
    }
   ],
   "source": [
    "temp = train_data01_a_worker_per_user.merge(\n",
    "    train_data06_df[['CONS_NO','CONT_TYPE']].drop_duplicates(),\n",
    "    how='left', left_on='CUST_NO', right_on='CONS_NO', \n",
    ")\n",
    "# 全部先设置 为 1\n",
    "temp['IS_CONNECT_TO_06TABLE'] = 1\n",
    "temp.loc[temp['CONS_NO'].isnull(),'IS_CONNECT_TO_06TABLE']=0\n",
    "print sum(temp['CONS_NO'].notnull()),sum(temp['IS_CONNECT_TO_06TABLE']==1)\n",
    "print temp.head(),temp.shape"
   ]
  },
  {
   "cell_type": "code",
   "execution_count": 20,
   "metadata": {
    "collapsed": false
   },
   "outputs": [],
   "source": [
    "train_data01_a_worker_per_user = train_data01_a_worker_per_user.drop('STATUS',axis=1)"
   ]
  },
  {
   "cell_type": "code",
   "execution_count": 64,
   "metadata": {
    "collapsed": false
   },
   "outputs": [],
   "source": [
    "train_data01_a_worker_per_user['IS_CONNECT_TO_06TABLE'] = temp['IS_CONNECT_TO_06TABLE']"
   ]
  },
  {
   "cell_type": "code",
   "execution_count": 65,
   "metadata": {
    "collapsed": false
   },
   "outputs": [
    {
     "data": {
      "text/plain": [
       "2455"
      ]
     },
     "execution_count": 65,
     "metadata": {},
     "output_type": "execute_result"
    }
   ],
   "source": [
    "sum(train_data01_a_worker_per_user['IS_CONNECT_TO_06TABLE']==1)"
   ]
  },
  {
   "cell_type": "code",
   "execution_count": 66,
   "metadata": {
    "collapsed": false
   },
   "outputs": [],
   "source": [
    "train_data01_a_worker_per_user['CONT_TYPE'] = temp['CONT_TYPE']"
   ]
  },
  {
   "cell_type": "code",
   "execution_count": 23,
   "metadata": {
    "collapsed": false,
    "scrolled": true
   },
   "outputs": [],
   "source": [
    "# 暂时不要，因为现在\n",
    "# train_data01_a_worker_per_user['STATUS'] = temp['STATUS']"
   ]
  },
  {
   "cell_type": "code",
   "execution_count": 67,
   "metadata": {
    "collapsed": true
   },
   "outputs": [
    {
     "data": {
      "text/plain": [
       "CONS_NO\n",
       "6010276428    2\n",
       "6120032054    2\n",
       "7910363317    2\n",
       "8602022550    2\n",
       "Name: STATUS, dtype: int64"
      ]
     },
     "execution_count": 67,
     "metadata": {},
     "output_type": "execute_result"
    }
   ],
   "source": [
    "temp = train_data06_df.groupby('CONS_NO')['STATUS'].apply(lambda x: len(set(x)))\n",
    "temp[temp>1]"
   ]
  },
  {
   "cell_type": "code",
   "execution_count": 21,
   "metadata": {
    "collapsed": true
   },
   "outputs": [
    {
     "data": {
      "text/html": [
       "<div>\n",
       "<table border=\"1\" class=\"dataframe\">\n",
       "  <thead>\n",
       "    <tr style=\"text-align: right;\">\n",
       "      <th></th>\n",
       "      <th>APP_NO</th>\n",
       "      <th>ID</th>\n",
       "      <th>BUSI_TYPE_CODE</th>\n",
       "      <th>URBAN_RURAL_FLAG</th>\n",
       "      <th>ORG_NO</th>\n",
       "      <th>HANDLE_TIME</th>\n",
       "      <th>ACCEPT_CONTENT</th>\n",
       "      <th>HANDLE_OPINION</th>\n",
       "      <th>CALLING_NO</th>\n",
       "      <th>ELEC_TYPE</th>\n",
       "      <th>...</th>\n",
       "      <th>IS_CONNECT_TO_08TABLE</th>\n",
       "      <th>NUM_OF_RCVBL_PENALTY</th>\n",
       "      <th>IS_CONNECT_TO_07TABLE</th>\n",
       "      <th>CONS_STATUS</th>\n",
       "      <th>RCA_FLAG</th>\n",
       "      <th>ORG_NO_7bit</th>\n",
       "      <th>AVERAGE_RCVBL_AMT</th>\n",
       "      <th>IS_EXCEEDING_RCVBL_YM_GE_1MON</th>\n",
       "      <th>IS_CONNECT_TO_06TABLE</th>\n",
       "      <th>CONT_TYPE</th>\n",
       "    </tr>\n",
       "  </thead>\n",
       "  <tbody>\n",
       "    <tr>\n",
       "      <th>0</th>\n",
       "      <td>2015101280016722</td>\n",
       "      <td>1000000527203612</td>\n",
       "      <td>3</td>\n",
       "      <td>2.0</td>\n",
       "      <td>3341020</td>\n",
       "      <td>2015/10/12 7:31:50</td>\n",
       "      <td>【银行代扣】客户咨询银行代扣事宜</td>\n",
       "      <td>NaN</td>\n",
       "      <td>1196922.0</td>\n",
       "      <td>202.0</td>\n",
       "      <td>...</td>\n",
       "      <td>0</td>\n",
       "      <td>NaN</td>\n",
       "      <td>0</td>\n",
       "      <td>NaN</td>\n",
       "      <td>NaN</td>\n",
       "      <td>NaN</td>\n",
       "      <td>NaN</td>\n",
       "      <td>2.0</td>\n",
       "      <td>0</td>\n",
       "      <td>NaN</td>\n",
       "    </tr>\n",
       "    <tr>\n",
       "      <th>1</th>\n",
       "      <td>2015101280031388</td>\n",
       "      <td>1000000527304861</td>\n",
       "      <td>3</td>\n",
       "      <td>1.0</td>\n",
       "      <td>3340901</td>\n",
       "      <td>2015/10/12 9:14:03</td>\n",
       "      <td>【咨询总户号】通过地址（户名、表号）查询户号信息，已告知</td>\n",
       "      <td>NaN</td>\n",
       "      <td>1005636.0</td>\n",
       "      <td>NaN</td>\n",
       "      <td>...</td>\n",
       "      <td>0</td>\n",
       "      <td>NaN</td>\n",
       "      <td>0</td>\n",
       "      <td>NaN</td>\n",
       "      <td>NaN</td>\n",
       "      <td>NaN</td>\n",
       "      <td>NaN</td>\n",
       "      <td>2.0</td>\n",
       "      <td>0</td>\n",
       "      <td>NaN</td>\n",
       "    </tr>\n",
       "    <tr>\n",
       "      <th>2</th>\n",
       "      <td>2015101280031424</td>\n",
       "      <td>1000000527305097</td>\n",
       "      <td>3</td>\n",
       "      <td>2.0</td>\n",
       "      <td>33401</td>\n",
       "      <td>2015/10/12 9:14:16</td>\n",
       "      <td>【查询电费】客户查询电费，已告知。</td>\n",
       "      <td>NaN</td>\n",
       "      <td>1007513.0</td>\n",
       "      <td>405.0</td>\n",
       "      <td>...</td>\n",
       "      <td>1</td>\n",
       "      <td>0.0</td>\n",
       "      <td>0</td>\n",
       "      <td>NaN</td>\n",
       "      <td>NaN</td>\n",
       "      <td>3340101.0</td>\n",
       "      <td>1652.304167</td>\n",
       "      <td>0.0</td>\n",
       "      <td>0</td>\n",
       "      <td>NaN</td>\n",
       "    </tr>\n",
       "    <tr>\n",
       "      <th>3</th>\n",
       "      <td>2015101280031680</td>\n",
       "      <td>1000000527300870</td>\n",
       "      <td>3</td>\n",
       "      <td>2.0</td>\n",
       "      <td>334020106</td>\n",
       "      <td>2015/10/12 9:11:37</td>\n",
       "      <td>【咨询总户号】通过地址（户名）查询户号信息。</td>\n",
       "      <td>NaN</td>\n",
       "      <td>1073266.0</td>\n",
       "      <td>202.0</td>\n",
       "      <td>...</td>\n",
       "      <td>1</td>\n",
       "      <td>0.0</td>\n",
       "      <td>0</td>\n",
       "      <td>NaN</td>\n",
       "      <td>NaN</td>\n",
       "      <td>3340201.0</td>\n",
       "      <td>51.961667</td>\n",
       "      <td>0.0</td>\n",
       "      <td>0</td>\n",
       "      <td>NaN</td>\n",
       "    </tr>\n",
       "    <tr>\n",
       "      <th>4</th>\n",
       "      <td>2015101280032506</td>\n",
       "      <td>1000000527305664</td>\n",
       "      <td>3</td>\n",
       "      <td>1.0</td>\n",
       "      <td>3340101</td>\n",
       "      <td>2015/10/12 9:14:48</td>\n",
       "      <td>【咨询总户号】通过地址（户名、表号）查询户号信息，已告知</td>\n",
       "      <td>NaN</td>\n",
       "      <td>1433592.0</td>\n",
       "      <td>NaN</td>\n",
       "      <td>...</td>\n",
       "      <td>1</td>\n",
       "      <td>0.0</td>\n",
       "      <td>0</td>\n",
       "      <td>NaN</td>\n",
       "      <td>NaN</td>\n",
       "      <td>3340150.0</td>\n",
       "      <td>121.936250</td>\n",
       "      <td>0.0</td>\n",
       "      <td>0</td>\n",
       "      <td>NaN</td>\n",
       "    </tr>\n",
       "  </tbody>\n",
       "</table>\n",
       "<p>5 rows × 47 columns</p>\n",
       "</div>"
      ],
      "text/plain": [
       "             APP_NO                ID  BUSI_TYPE_CODE  URBAN_RURAL_FLAG  \\\n",
       "0  2015101280016722  1000000527203612               3               2.0   \n",
       "1  2015101280031388  1000000527304861               3               1.0   \n",
       "2  2015101280031424  1000000527305097               3               2.0   \n",
       "3  2015101280031680  1000000527300870               3               2.0   \n",
       "4  2015101280032506  1000000527305664               3               1.0   \n",
       "\n",
       "      ORG_NO         HANDLE_TIME                ACCEPT_CONTENT HANDLE_OPINION  \\\n",
       "0    3341020  2015/10/12 7:31:50              【银行代扣】客户咨询银行代扣事宜            NaN   \n",
       "1    3340901  2015/10/12 9:14:03  【咨询总户号】通过地址（户名、表号）查询户号信息，已告知            NaN   \n",
       "2      33401  2015/10/12 9:14:16             【查询电费】客户查询电费，已告知。            NaN   \n",
       "3  334020106  2015/10/12 9:11:37        【咨询总户号】通过地址（户名）查询户号信息。            NaN   \n",
       "4    3340101  2015/10/12 9:14:48  【咨询总户号】通过地址（户名、表号）查询户号信息，已告知            NaN   \n",
       "\n",
       "   CALLING_NO  ELEC_TYPE    ...     IS_CONNECT_TO_08TABLE  \\\n",
       "0   1196922.0      202.0    ...                         0   \n",
       "1   1005636.0        NaN    ...                         0   \n",
       "2   1007513.0      405.0    ...                         1   \n",
       "3   1073266.0      202.0    ...                         1   \n",
       "4   1433592.0        NaN    ...                         1   \n",
       "\n",
       "   NUM_OF_RCVBL_PENALTY  IS_CONNECT_TO_07TABLE  CONS_STATUS  RCA_FLAG  \\\n",
       "0                   NaN                      0          NaN       NaN   \n",
       "1                   NaN                      0          NaN       NaN   \n",
       "2                   0.0                      0          NaN       NaN   \n",
       "3                   0.0                      0          NaN       NaN   \n",
       "4                   0.0                      0          NaN       NaN   \n",
       "\n",
       "  ORG_NO_7bit  AVERAGE_RCVBL_AMT  IS_EXCEEDING_RCVBL_YM_GE_1MON  \\\n",
       "0         NaN                NaN                            2.0   \n",
       "1         NaN                NaN                            2.0   \n",
       "2   3340101.0        1652.304167                            0.0   \n",
       "3   3340201.0          51.961667                            0.0   \n",
       "4   3340150.0         121.936250                            0.0   \n",
       "\n",
       "   IS_CONNECT_TO_06TABLE  CONT_TYPE  \n",
       "0                      0        NaN  \n",
       "1                      0        NaN  \n",
       "2                      0        NaN  \n",
       "3                      0        NaN  \n",
       "4                      0        NaN  \n",
       "\n",
       "[5 rows x 47 columns]"
      ]
     },
     "execution_count": 21,
     "metadata": {},
     "output_type": "execute_result"
    }
   ],
   "source": [
    "train_data01_a_worker_per_user.head()"
   ]
  },
  {
   "cell_type": "markdown",
   "metadata": {},
   "source": [
    "#### 2-1-1 测试集"
   ]
  },
  {
   "cell_type": "markdown",
   "metadata": {},
   "source": [
    "##### 2-1-1-1  加载数据 test/06_cont_info_test.tsv"
   ]
  },
  {
   "cell_type": "code",
   "execution_count": 4,
   "metadata": {
    "collapsed": false
   },
   "outputs": [
    {
     "name": "stdout",
     "output_type": "stream",
     "text": [
      "(1505, 4)\n",
      "用户数：1505\n"
     ]
    }
   ],
   "source": [
    "# 要特别注意 统一设置 converters={0:unicode}，\n",
    "# 避免后面连接错误\n",
    "test_data06_df = load_data(file_name = 'Data_Update/test/06_cont_info_test.tsv',\n",
    "                                 converters={0:unicode}\n",
    "                                )\n",
    "print(test_data06_df.shape)\n",
    "print '用户数：%d'%len(test_data06_df['CONS_NO'].unique())"
   ]
  },
  {
   "cell_type": "markdown",
   "metadata": {},
   "source": [
    "##### 增加特征 - 是否连接上表6"
   ]
  },
  {
   "cell_type": "code",
   "execution_count": 16,
   "metadata": {
    "collapsed": true
   },
   "outputs": [],
   "source": [
    "test_data01_a_worker_per_user = test_data01_a_worker_per_user.drop('STATUS',axis=1)"
   ]
  },
  {
   "cell_type": "code",
   "execution_count": 13,
   "metadata": {
    "collapsed": true
   },
   "outputs": [
    {
     "name": "stdout",
     "output_type": "stream",
     "text": [
      "1505\n",
      "             APP_NO                ID  BUSI_TYPE_CODE  URBAN_RURAL_FLAG  \\\n",
      "0  2015101280019632  1000000527215943               3               1.0   \n",
      "1  2015101280019648  1000000527216033              10               2.0   \n",
      "2  2015101280019680  1000000527216202               3               2.0   \n",
      "3  2015101280019873  1000000527218491               3               1.0   \n",
      "4  2015101280020130  1000000527221199               1               1.0   \n",
      "\n",
      "      ORG_NO         HANDLE_TIME  \\\n",
      "0    3340780  2015/10/12 7:58:04   \n",
      "1  334066001  2015/10/12 7:58:26   \n",
      "2    3340690  2015/10/12 7:58:52   \n",
      "3    3340810  2015/10/12 8:02:53   \n",
      "4    3340501  2015/10/12 8:07:10   \n",
      "\n",
      "                                      ACCEPT_CONTENT HANDLE_OPINION  \\\n",
      "0   【客户咨询一户无电】建议先自行联系有资质电工排查是否为内部故障，客户接受并表示有其他情况再致电。            NaN   \n",
      "1  【退订】#2061584501；【退订】#2061584602；【退订】#406091928...            NaN   \n",
      "2                                【查询电费】客户查询本月电费，已告知。            NaN   \n",
      "3                           【咨询总户号】通过地址、户名查询户号信息，已告知            NaN   \n",
      "4  【设备故障】客户报修此处线路打火，请处理。客户只能提供此地址，烦请电话联系057486581...            NaN   \n",
      "\n",
      "   CALLING_NO  ELEC_TYPE          ...           IS_CONNECT_TO_07TABLE  \\\n",
      "0   1628699.0      202.0          ...                               0   \n",
      "1   1260775.0      201.0          ...                               0   \n",
      "2   1536321.0      201.0          ...                               0   \n",
      "3   1576698.0        NaN          ...                               0   \n",
      "4   1089990.0      201.0          ...                               0   \n",
      "\n",
      "   CONS_STATUS  STATUS  RCA_FLAG ORG_NO_7bit  AVERAGE_RCVBL_AMT  \\\n",
      "0          NaN     NaN       NaN   3340780.0          68.573333   \n",
      "1          NaN     NaN       NaN   3340660.0          34.745833   \n",
      "2          NaN     NaN       NaN   3340690.0         207.431667   \n",
      "3          NaN     NaN       NaN   3340801.0          20.694444   \n",
      "4          NaN     NaN       NaN         NaN                NaN   \n",
      "\n",
      "   IS_EXCEEDING_RCVBL_YM_GE_1MON  CONS_NO  CONT_TYPE  IS_CONNECT_TO_06TABLE  \n",
      "0                            0.0      NaN        NaN                      0  \n",
      "1                            0.0      NaN        NaN                      0  \n",
      "2                            0.0      NaN        NaN                      0  \n",
      "3                            0.0      NaN        NaN                      0  \n",
      "4                            2.0      NaN        NaN                      0  \n",
      "\n",
      "[5 rows x 48 columns]\n"
     ]
    }
   ],
   "source": [
    "temp = test_data01_a_worker_per_user.merge(\n",
    "    test_data06_df[['CONS_NO','CONT_TYPE']].drop_duplicates(),\n",
    "    how='left', left_on='CUST_NO', right_on='CONS_NO', \n",
    ")\n",
    "# 全部先设置 为 0\n",
    "temp['IS_CONNECT_TO_06TABLE'] = 1\n",
    "temp.loc[temp['CONS_NO'].isnull(),'IS_CONNECT_TO_06TABLE']=0\n",
    "print sum(temp['CONS_NO'].notnull())\n",
    "print temp.head(),temp.shape"
   ]
  },
  {
   "cell_type": "code",
   "execution_count": 17,
   "metadata": {
    "collapsed": true
   },
   "outputs": [
    {
     "data": {
      "text/html": [
       "<div>\n",
       "<table border=\"1\" class=\"dataframe\">\n",
       "  <thead>\n",
       "    <tr style=\"text-align: right;\">\n",
       "      <th></th>\n",
       "      <th>APP_NO</th>\n",
       "      <th>ID</th>\n",
       "      <th>BUSI_TYPE_CODE</th>\n",
       "      <th>URBAN_RURAL_FLAG</th>\n",
       "      <th>ORG_NO</th>\n",
       "      <th>HANDLE_TIME</th>\n",
       "      <th>ACCEPT_CONTENT</th>\n",
       "      <th>HANDLE_OPINION</th>\n",
       "      <th>CALLING_NO</th>\n",
       "      <th>ELEC_TYPE</th>\n",
       "      <th>...</th>\n",
       "      <th>IS_CONNECT_TO_08TABLE</th>\n",
       "      <th>NUM_OF_RCVBL_PENALTY</th>\n",
       "      <th>IS_CONNECT_TO_07TABLE</th>\n",
       "      <th>CONS_STATUS</th>\n",
       "      <th>RCA_FLAG</th>\n",
       "      <th>ORG_NO_7bit</th>\n",
       "      <th>AVERAGE_RCVBL_AMT</th>\n",
       "      <th>IS_EXCEEDING_RCVBL_YM_GE_1MON</th>\n",
       "      <th>IS_CONNECT_TO_06TABLE</th>\n",
       "      <th>CONT_TYPE</th>\n",
       "    </tr>\n",
       "  </thead>\n",
       "  <tbody>\n",
       "    <tr>\n",
       "      <th>0</th>\n",
       "      <td>2015101280019632</td>\n",
       "      <td>1000000527215943</td>\n",
       "      <td>3</td>\n",
       "      <td>1.0</td>\n",
       "      <td>3340780</td>\n",
       "      <td>2015/10/12 7:58:04</td>\n",
       "      <td>【客户咨询一户无电】建议先自行联系有资质电工排查是否为内部故障，客户接受并表示有其他情况再致电。</td>\n",
       "      <td>NaN</td>\n",
       "      <td>1628699.0</td>\n",
       "      <td>202.0</td>\n",
       "      <td>...</td>\n",
       "      <td>1</td>\n",
       "      <td>0.0</td>\n",
       "      <td>0</td>\n",
       "      <td>NaN</td>\n",
       "      <td>NaN</td>\n",
       "      <td>3340780.0</td>\n",
       "      <td>68.573333</td>\n",
       "      <td>0.0</td>\n",
       "      <td>0</td>\n",
       "      <td>NaN</td>\n",
       "    </tr>\n",
       "    <tr>\n",
       "      <th>1</th>\n",
       "      <td>2015101280019648</td>\n",
       "      <td>1000000527216033</td>\n",
       "      <td>10</td>\n",
       "      <td>2.0</td>\n",
       "      <td>334066001</td>\n",
       "      <td>2015/10/12 7:58:26</td>\n",
       "      <td>【退订】#2061584501；【退订】#2061584602；【退订】#406091928...</td>\n",
       "      <td>NaN</td>\n",
       "      <td>1260775.0</td>\n",
       "      <td>201.0</td>\n",
       "      <td>...</td>\n",
       "      <td>1</td>\n",
       "      <td>0.0</td>\n",
       "      <td>0</td>\n",
       "      <td>NaN</td>\n",
       "      <td>NaN</td>\n",
       "      <td>3340660.0</td>\n",
       "      <td>34.745833</td>\n",
       "      <td>0.0</td>\n",
       "      <td>0</td>\n",
       "      <td>NaN</td>\n",
       "    </tr>\n",
       "    <tr>\n",
       "      <th>2</th>\n",
       "      <td>2015101280019680</td>\n",
       "      <td>1000000527216202</td>\n",
       "      <td>3</td>\n",
       "      <td>2.0</td>\n",
       "      <td>3340690</td>\n",
       "      <td>2015/10/12 7:58:52</td>\n",
       "      <td>【查询电费】客户查询本月电费，已告知。</td>\n",
       "      <td>NaN</td>\n",
       "      <td>1536321.0</td>\n",
       "      <td>201.0</td>\n",
       "      <td>...</td>\n",
       "      <td>1</td>\n",
       "      <td>0.0</td>\n",
       "      <td>0</td>\n",
       "      <td>NaN</td>\n",
       "      <td>NaN</td>\n",
       "      <td>3340690.0</td>\n",
       "      <td>207.431667</td>\n",
       "      <td>0.0</td>\n",
       "      <td>0</td>\n",
       "      <td>NaN</td>\n",
       "    </tr>\n",
       "    <tr>\n",
       "      <th>3</th>\n",
       "      <td>2015101280019873</td>\n",
       "      <td>1000000527218491</td>\n",
       "      <td>3</td>\n",
       "      <td>1.0</td>\n",
       "      <td>3340810</td>\n",
       "      <td>2015/10/12 8:02:53</td>\n",
       "      <td>【咨询总户号】通过地址、户名查询户号信息，已告知</td>\n",
       "      <td>NaN</td>\n",
       "      <td>1576698.0</td>\n",
       "      <td>NaN</td>\n",
       "      <td>...</td>\n",
       "      <td>1</td>\n",
       "      <td>0.0</td>\n",
       "      <td>0</td>\n",
       "      <td>NaN</td>\n",
       "      <td>NaN</td>\n",
       "      <td>3340801.0</td>\n",
       "      <td>20.694444</td>\n",
       "      <td>0.0</td>\n",
       "      <td>0</td>\n",
       "      <td>NaN</td>\n",
       "    </tr>\n",
       "    <tr>\n",
       "      <th>4</th>\n",
       "      <td>2015101280020130</td>\n",
       "      <td>1000000527221199</td>\n",
       "      <td>1</td>\n",
       "      <td>1.0</td>\n",
       "      <td>3340501</td>\n",
       "      <td>2015/10/12 8:07:10</td>\n",
       "      <td>【设备故障】客户报修此处线路打火，请处理。客户只能提供此地址，烦请电话联系057486581...</td>\n",
       "      <td>NaN</td>\n",
       "      <td>1089990.0</td>\n",
       "      <td>201.0</td>\n",
       "      <td>...</td>\n",
       "      <td>0</td>\n",
       "      <td>NaN</td>\n",
       "      <td>0</td>\n",
       "      <td>NaN</td>\n",
       "      <td>NaN</td>\n",
       "      <td>NaN</td>\n",
       "      <td>NaN</td>\n",
       "      <td>2.0</td>\n",
       "      <td>0</td>\n",
       "      <td>NaN</td>\n",
       "    </tr>\n",
       "  </tbody>\n",
       "</table>\n",
       "<p>5 rows × 46 columns</p>\n",
       "</div>"
      ],
      "text/plain": [
       "             APP_NO                ID  BUSI_TYPE_CODE  URBAN_RURAL_FLAG  \\\n",
       "0  2015101280019632  1000000527215943               3               1.0   \n",
       "1  2015101280019648  1000000527216033              10               2.0   \n",
       "2  2015101280019680  1000000527216202               3               2.0   \n",
       "3  2015101280019873  1000000527218491               3               1.0   \n",
       "4  2015101280020130  1000000527221199               1               1.0   \n",
       "\n",
       "      ORG_NO         HANDLE_TIME  \\\n",
       "0    3340780  2015/10/12 7:58:04   \n",
       "1  334066001  2015/10/12 7:58:26   \n",
       "2    3340690  2015/10/12 7:58:52   \n",
       "3    3340810  2015/10/12 8:02:53   \n",
       "4    3340501  2015/10/12 8:07:10   \n",
       "\n",
       "                                      ACCEPT_CONTENT HANDLE_OPINION  \\\n",
       "0   【客户咨询一户无电】建议先自行联系有资质电工排查是否为内部故障，客户接受并表示有其他情况再致电。            NaN   \n",
       "1  【退订】#2061584501；【退订】#2061584602；【退订】#406091928...            NaN   \n",
       "2                                【查询电费】客户查询本月电费，已告知。            NaN   \n",
       "3                           【咨询总户号】通过地址、户名查询户号信息，已告知            NaN   \n",
       "4  【设备故障】客户报修此处线路打火，请处理。客户只能提供此地址，烦请电话联系057486581...            NaN   \n",
       "\n",
       "   CALLING_NO  ELEC_TYPE    ...     IS_CONNECT_TO_08TABLE  \\\n",
       "0   1628699.0      202.0    ...                         1   \n",
       "1   1260775.0      201.0    ...                         1   \n",
       "2   1536321.0      201.0    ...                         1   \n",
       "3   1576698.0        NaN    ...                         1   \n",
       "4   1089990.0      201.0    ...                         0   \n",
       "\n",
       "   NUM_OF_RCVBL_PENALTY  IS_CONNECT_TO_07TABLE  CONS_STATUS RCA_FLAG  \\\n",
       "0                   0.0                      0          NaN      NaN   \n",
       "1                   0.0                      0          NaN      NaN   \n",
       "2                   0.0                      0          NaN      NaN   \n",
       "3                   0.0                      0          NaN      NaN   \n",
       "4                   NaN                      0          NaN      NaN   \n",
       "\n",
       "   ORG_NO_7bit  AVERAGE_RCVBL_AMT  IS_EXCEEDING_RCVBL_YM_GE_1MON  \\\n",
       "0    3340780.0          68.573333                            0.0   \n",
       "1    3340660.0          34.745833                            0.0   \n",
       "2    3340690.0         207.431667                            0.0   \n",
       "3    3340801.0          20.694444                            0.0   \n",
       "4          NaN                NaN                            2.0   \n",
       "\n",
       "   IS_CONNECT_TO_06TABLE  CONT_TYPE  \n",
       "0                      0        NaN  \n",
       "1                      0        NaN  \n",
       "2                      0        NaN  \n",
       "3                      0        NaN  \n",
       "4                      0        NaN  \n",
       "\n",
       "[5 rows x 46 columns]"
      ]
     },
     "execution_count": 17,
     "metadata": {},
     "output_type": "execute_result"
    }
   ],
   "source": [
    "test_data01_a_worker_per_user.head()"
   ]
  },
  {
   "cell_type": "code",
   "execution_count": 14,
   "metadata": {
    "collapsed": true
   },
   "outputs": [],
   "source": [
    "test_data01_a_worker_per_user['IS_CONNECT_TO_06TABLE'] = temp['IS_CONNECT_TO_06TABLE']"
   ]
  },
  {
   "cell_type": "code",
   "execution_count": 15,
   "metadata": {
    "collapsed": false
   },
   "outputs": [],
   "source": [
    "test_data01_a_worker_per_user['CONT_TYPE'] = temp['CONT_TYPE']"
   ]
  },
  {
   "cell_type": "code",
   "execution_count": 42,
   "metadata": {
    "collapsed": false
   },
   "outputs": [],
   "source": [
    "test_data01_a_worker_per_user['STATUS'] = temp['STATUS']"
   ]
  },
  {
   "cell_type": "markdown",
   "metadata": {},
   "source": [
    "### 3-15 07表 费控用户信息表 07_C_RCA_CONS 部分特征"
   ]
  },
  {
   "cell_type": "markdown",
   "metadata": {},
   "source": [
    "#### 2-1-1 训练集"
   ]
  },
  {
   "cell_type": "markdown",
   "metadata": {},
   "source": [
    "##### 2-1-1-1  加载数据 train/07_c_rca_cons.tsv"
   ]
  },
  {
   "cell_type": "code",
   "execution_count": 18,
   "metadata": {
    "collapsed": false
   },
   "outputs": [
    {
     "name": "stdout",
     "output_type": "stream",
     "text": [
      "(22192, 4)\n"
     ]
    }
   ],
   "source": [
    "# 要特别注意 统一设置 converters={0:unicode}，\n",
    "# 避免后面连接错误\n",
    "train_data07_df = load_data(file_name = 'Data_Update/train/07_c_rca_cons.tsv',\n",
    "                                 converters={0:unicode}\n",
    "                                )\n",
    "print(train_data07_df.shape)"
   ]
  },
  {
   "cell_type": "code",
   "execution_count": 24,
   "metadata": {
    "collapsed": true
   },
   "outputs": [],
   "source": [
    "temp = train_data01_a_worker_per_user.merge(\n",
    "    train_data07_df,\n",
    "    how='left', left_on='CUST_NO', right_on='CONS_NO', \n",
    ")\n",
    "# 全部先设置 为 0\n",
    "temp['IS_CONNECT_TO_07TABLE'] = 1\n",
    "temp.loc[temp['CONS_NO'].isnull(),'IS_CONNECT_TO_07TABLE']=0\n",
    "print sum(temp['CONS_NO'].notnull())\n",
    "print temp.head()"
   ]
  },
  {
   "cell_type": "code",
   "execution_count": 35,
   "metadata": {
    "collapsed": true
   },
   "outputs": [
    {
     "data": {
      "text/html": [
       "<div>\n",
       "<table border=\"1\" class=\"dataframe\">\n",
       "  <thead>\n",
       "    <tr style=\"text-align: right;\">\n",
       "      <th></th>\n",
       "      <th>CONS_NO</th>\n",
       "      <th>ORG_NO</th>\n",
       "      <th>RCA_FLAG</th>\n",
       "      <th>CONS_STATUS</th>\n",
       "    </tr>\n",
       "  </thead>\n",
       "  <tbody>\n",
       "    <tr>\n",
       "      <th>0</th>\n",
       "      <td>1316020607</td>\n",
       "      <td>3340101</td>\n",
       "      <td>0</td>\n",
       "      <td>NaN</td>\n",
       "    </tr>\n",
       "    <tr>\n",
       "      <th>1</th>\n",
       "      <td>1316023683</td>\n",
       "      <td>3340101</td>\n",
       "      <td>0</td>\n",
       "      <td>NaN</td>\n",
       "    </tr>\n",
       "    <tr>\n",
       "      <th>2</th>\n",
       "      <td>1316032110</td>\n",
       "      <td>3340101</td>\n",
       "      <td>0</td>\n",
       "      <td>NaN</td>\n",
       "    </tr>\n",
       "    <tr>\n",
       "      <th>3</th>\n",
       "      <td>1316078898</td>\n",
       "      <td>3340101</td>\n",
       "      <td>0</td>\n",
       "      <td>NaN</td>\n",
       "    </tr>\n",
       "    <tr>\n",
       "      <th>4</th>\n",
       "      <td>1316090581</td>\n",
       "      <td>3340101</td>\n",
       "      <td>0</td>\n",
       "      <td>NaN</td>\n",
       "    </tr>\n",
       "  </tbody>\n",
       "</table>\n",
       "</div>"
      ],
      "text/plain": [
       "      CONS_NO   ORG_NO  RCA_FLAG  CONS_STATUS\n",
       "0  1316020607  3340101         0          NaN\n",
       "1  1316023683  3340101         0          NaN\n",
       "2  1316032110  3340101         0          NaN\n",
       "3  1316078898  3340101         0          NaN\n",
       "4  1316090581  3340101         0          NaN"
      ]
     },
     "execution_count": 35,
     "metadata": {},
     "output_type": "execute_result"
    }
   ],
   "source": [
    "train_data07_df.head()"
   ]
  },
  {
   "cell_type": "code",
   "execution_count": 37,
   "metadata": {
    "collapsed": false
   },
   "outputs": [],
   "source": [
    "train_data01_a_worker_per_user['IS_CONNECT_TO_07TABLE'] = temp['IS_CONNECT_TO_07TABLE']"
   ]
  },
  {
   "cell_type": "code",
   "execution_count": 38,
   "metadata": {
    "collapsed": true
   },
   "outputs": [],
   "source": [
    "train_data01_a_worker_per_user['CONS_STATUS'] = temp['CONS_STATUS']"
   ]
  },
  {
   "cell_type": "code",
   "execution_count": 26,
   "metadata": {
    "collapsed": true
   },
   "outputs": [],
   "source": [
    "train_data01_a_worker_per_user['RCA_FLAG'] = temp['RCA_FLAG']"
   ]
  },
  {
   "cell_type": "markdown",
   "metadata": {},
   "source": [
    "#### 2-1-1 测试集"
   ]
  },
  {
   "cell_type": "markdown",
   "metadata": {},
   "source": [
    "##### 2-1-1-1  加载数据 test/07_c_rca_cons_test.tsv"
   ]
  },
  {
   "cell_type": "code",
   "execution_count": 29,
   "metadata": {
    "collapsed": false
   },
   "outputs": [
    {
     "name": "stdout",
     "output_type": "stream",
     "text": [
      "(10954, 4)\n"
     ]
    }
   ],
   "source": [
    "# 要特别注意 统一设置 converters={0:unicode}，\n",
    "# 避免后面连接错误\n",
    "test_data07_df = load_data(file_name = 'Data_Update/test/07_c_rca_cons_test.tsv',\n",
    "                                 converters={0:unicode}\n",
    "                                )\n",
    "print(test_data07_df.shape)"
   ]
  },
  {
   "cell_type": "code",
   "execution_count": 43,
   "metadata": {
    "collapsed": true
   },
   "outputs": [],
   "source": [
    "temp = test_data01_a_worker_per_user.merge(\n",
    "    test_data07_df,\n",
    "    how='left', left_on='CUST_NO', right_on='CONS_NO', \n",
    ")\n",
    "# 全部先设置 为 0\n",
    "temp['IS_CONNECT_TO_07TABLE'] = 1\n",
    "temp.loc[temp['CONS_NO'].isnull(),'IS_CONNECT_TO_07TABLE']=0\n",
    "print sum(temp['CONS_NO'].notnull())\n",
    "print temp.head()"
   ]
  },
  {
   "cell_type": "code",
   "execution_count": 46,
   "metadata": {
    "collapsed": true
   },
   "outputs": [],
   "source": [
    "test_data01_a_worker_per_user['IS_CONNECT_TO_07TABLE'] = temp['IS_CONNECT_TO_07TABLE']"
   ]
  },
  {
   "cell_type": "code",
   "execution_count": 38,
   "metadata": {
    "collapsed": true
   },
   "outputs": [],
   "source": [
    "test_data01_a_worker_per_user['CONS_STATUS'] = temp['CONS_STATUS']"
   ]
  },
  {
   "cell_type": "code",
   "execution_count": 44,
   "metadata": {
    "collapsed": true
   },
   "outputs": [],
   "source": [
    "test_data01_a_worker_per_user['RCA_FLAG'] = temp['RCA_FLAG']"
   ]
  }
 ],
 "metadata": {
  "kernelspec": {
   "display_name": "Python 2",
   "language": "python",
   "name": "python2"
  },
  "language_info": {
   "codemirror_mode": {
    "name": "ipython",
    "version": 2
   },
   "file_extension": ".py",
   "mimetype": "text/x-python",
   "name": "python",
   "nbconvert_exporter": "python",
   "pygments_lexer": "ipython2",
   "version": "2.7.6"
  }
 },
 "nbformat": 4,
 "nbformat_minor": 1
}
