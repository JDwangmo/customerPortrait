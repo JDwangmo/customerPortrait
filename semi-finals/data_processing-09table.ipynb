{
 "cells": [
  {
   "cell_type": "markdown",
   "metadata": {
    "collapsed": false
   },
   "source": [
    "# 客户画像复赛 数据处理---09表（应收电费信息表）特征提取"
   ]
  },
  {
   "cell_type": "code",
   "execution_count": 1,
   "metadata": {
    "collapsed": true
   },
   "outputs": [
    {
     "name": "stdout",
     "output_type": "stream",
     "text": [
      "01_arc_s_95598_wkst_train.tsv  06_cont_info.tsv\t\t11_c_meter.tsv\r\n",
      "02_s_comm_rec.tsv\t       07_c_rca_cons.tsv\t12_a_pay_flow.tsv\r\n",
      "03_s_info_oversee.tsv\t       08_a_rcved_flow.tsv\tout\r\n",
      "04_c_cons.tsv\t\t       09_arc_a_rcvbl_flow.tsv\ttrain_label.csv\r\n",
      "05_c_cons_prc.tsv\t       10_c_meter_read.tsv\r\n"
     ]
    }
   ],
   "source": [
    "!ls Data_Update/train/"
   ]
  },
  {
   "cell_type": "markdown",
   "metadata": {},
   "source": [
    "## 1 导入必要的包和函数"
   ]
  },
  {
   "cell_type": "code",
   "execution_count": 1,
   "metadata": {
    "collapsed": false
   },
   "outputs": [
    {
     "name": "stdout",
     "output_type": "stream",
     "text": [
      "Automatic pdb calling has been turned ON\n",
      "RF_N_ESTIMATORS:100\n"
     ]
    }
   ],
   "source": [
    "%pdb 1\n",
    "debug = 1\n",
    "import pandas as pd\n",
    "import numpy as np\n",
    "import pickle\n",
    "import re\n",
    "import io \n",
    "import matplotlib.pyplot as plt\n",
    "%matplotlib inline\n",
    "\n",
    "# 加载预定义好的函数\n",
    "# 预定义好的函数：\n",
    "#    - load_data(file_name, header=0): 加载数据\n",
    "#    - def show_attribute_detail( data=None, attribute_name=None): 显示数据某个属性的详情\n",
    "%run helper/data_util_func.py\n",
    "# 选择过滤方案\n",
    "PLAN_TYPE = 3"
   ]
  },
  {
   "cell_type": "code",
   "execution_count": 2,
   "metadata": {
    "collapsed": true
   },
   "outputs": [
    {
     "name": "stdout",
     "output_type": "stream",
     "text": [
      "CPU times: user 5.95 s, sys: 7.18 s, total: 13.1 s\n",
      "Wall time: 17.3 s\n"
     ]
    }
   ],
   "source": [
    "%%time\n",
    "# 训练集敏感用户 和待预测用户列表\n",
    "# train_data_labels_df\n",
    "# test_data_labels_df\n",
    "# 01表\n",
    "# train_data01_merge_label_df\n",
    "# test_data01_merge_label_df\n",
    "# 代表工单数据\n",
    "# train_data01_a_worker_per_user\n",
    "# test_data01_a_worker_per_user\n",
    "# 09表\n",
    "# train_data09_merge_label_df\n",
    "# test_data09_merge_label_df\n",
    "%store -r train_data09_merge_label_df \n",
    "%store -r test_data09_merge_label_df\n",
    "# %store -r train_data01_a_worker_per_user\n",
    "# test_data01_a_worker_per_user"
   ]
  },
  {
   "cell_type": "code",
   "execution_count": 19,
   "metadata": {
    "collapsed": true
   },
   "outputs": [
    {
     "name": "stdout",
     "output_type": "stream",
     "text": [
      "Stored 'train_data01_a_worker_per_user' (DataFrame)\n",
      "Stored 'test_data01_a_worker_per_user' (DataFrame)\n"
     ]
    }
   ],
   "source": [
    "%store train_data01_a_worker_per_user \n",
    "%store test_data01_a_worker_per_user"
   ]
  },
  {
   "cell_type": "code",
   "execution_count": 4,
   "metadata": {
    "collapsed": true
   },
   "outputs": [
    {
     "data": {
      "text/plain": [
       "['ACCEPT_CONTENT_TYPE_EXTRA_PARAM',\n",
       " 'ACCEPT_CONTENT_TYPE_NONSENSITIVE_RATE',\n",
       " 'Counter',\n",
       " 'FeatureEncoder',\n",
       " 'PLAN_TYPE',\n",
       " 'RF_N_ESTIMATORS',\n",
       " 'data_feature_encoder',\n",
       " 'debug',\n",
       " 'extend_train_data',\n",
       " 'get_accept_content_type',\n",
       " 'get_highest_sensitive_workerid',\n",
       " 'get_metrics',\n",
       " 'get_metrics2',\n",
       " 'io',\n",
       " 'load_data',\n",
       " 'model_predict',\n",
       " 'model_train',\n",
       " 'np',\n",
       " 'pd',\n",
       " 'pickle',\n",
       " 'plt',\n",
       " 'print_function',\n",
       " 're',\n",
       " 'save_data',\n",
       " 'seperate_data_to_classifier',\n",
       " 'seperate_data_to_classifier_plan1',\n",
       " 'seperate_data_to_classifier_plan2',\n",
       " 'seperate_data_to_classifier_plan3',\n",
       " 'seperate_data_to_classifier_plan4',\n",
       " 'show_attribute_detail',\n",
       " 'show_df_info',\n",
       " u'test_data_labels_df',\n",
       " u'train_data_labels_df',\n",
       " 'train_test_split',\n",
       " 'truncate_org_no']"
      ]
     },
     "execution_count": 4,
     "metadata": {},
     "output_type": "execute_result"
    }
   ],
   "source": [
    "%who_ls"
   ]
  },
  {
   "cell_type": "markdown",
   "metadata": {},
   "source": [
    "##  2 加载数据 "
   ]
  },
  {
   "cell_type": "markdown",
   "metadata": {},
   "source": [
    "### 2-1 应收电费信息表  09_ARC_A_RCVBL_FLOW"
   ]
  },
  {
   "cell_type": "markdown",
   "metadata": {},
   "source": [
    "#### 2-1-1 训练集 "
   ]
  },
  {
   "cell_type": "markdown",
   "metadata": {},
   "source": [
    "##### 2-1-1-1 加载数据  train/09_arc_a_rcvbl_flow.tsv"
   ]
  },
  {
   "cell_type": "code",
   "execution_count": 5,
   "metadata": {
    "collapsed": true
   },
   "outputs": [
    {
     "name": "stdout",
     "output_type": "stream",
     "text": [
      "(6466654, 15)\n",
      "555748\n",
      "CPU times: user 21.7 s, sys: 3.02 s, total: 24.7 s\n",
      "Wall time: 28.7 s\n"
     ]
    }
   ],
   "source": [
    "%%time\n",
    "# 这个类型转换非常重要，因为发现在和 train_label.csv表 的 CUST_NO 连接时 ，如果不全部转为 字符串 ，会连接 不对，因为\n",
    "# 在这个表里的 CUST_NO 字段出现 部分 字段是字符串，部分字段是整形，所以全部转为字符串\n",
    "train_data09_df = load_data('Data_Update/train/09_arc_a_rcvbl_flow.tsv',\n",
    "                           converters={'CONS_NO':unicode,'PAY_MODE':unicode,'ORG_NO':unicode}) \n",
    "\n",
    "print(train_data09_df.shape)\n",
    "# 555,748 个用户\n",
    "print len(train_data09_df['CONS_NO'].unique())"
   ]
  },
  {
   "cell_type": "markdown",
   "metadata": {},
   "source": [
    "##### 2-1-1-2 数据摘要"
   ]
  },
  {
   "cell_type": "code",
   "execution_count": 8,
   "metadata": {
    "collapsed": true
   },
   "outputs": [
    {
     "name": "stdout",
     "output_type": "stream",
     "text": [
      "      CONS_NO  RCVBL_YM       ORG_NO  PAY_MODE  T_PQ  RCVBL_AMT  RCVED_AMT  \\\n",
      "0  6010969031    201502  33401010130   10101.0  1869    1768.07    1768.07   \n",
      "1  6010811670    201502  33401010130   10101.0  2791    2640.29    2640.29   \n",
      "2  6010777305    201502  33401010130   20311.0  1883    1058.25    1058.25   \n",
      "3  6010777296    201502  33401010130   20311.0  4279    3585.80    3585.80   \n",
      "4  6010777190    201502  33401010130   20311.0  2514    1561.93    1561.93   \n",
      "\n",
      "   STATUS_CODE  RCVBL_PENALTY  RCVED_PENALTY  RISK_LEVEL_CODE  OWE_AMT  \\\n",
      "0            1           0.00           0.00              NaN  1768.07   \n",
      "1            1           0.00           0.00              NaN  2640.29   \n",
      "2            1           2.12           2.12              NaN  1058.25   \n",
      "3            1           0.00           0.00              NaN  3585.80   \n",
      "4            1           0.00           0.00              NaN  1561.93   \n",
      "\n",
      "   CONS_SORT_CODE  ELEC_TYPE_CODE  CTL_MODE  \n",
      "0             2.0           403.0       NaN  \n",
      "1             2.0           403.0       NaN  \n",
      "2             3.0           202.0       NaN  \n",
      "3             3.0           201.0       NaN  \n",
      "4             3.0           202.0       NaN  \n",
      "<class 'pandas.core.frame.DataFrame'>\n",
      "RangeIndex: 6466654 entries, 0 to 6466653\n",
      "Data columns (total 15 columns):\n",
      "CONS_NO            object\n",
      "RCVBL_YM           int64\n",
      "ORG_NO             int64\n",
      "PAY_MODE           float64\n",
      "T_PQ               int64\n",
      "RCVBL_AMT          float64\n",
      "RCVED_AMT          float64\n",
      "STATUS_CODE        int64\n",
      "RCVBL_PENALTY      float64\n",
      "RCVED_PENALTY      float64\n",
      "RISK_LEVEL_CODE    float64\n",
      "OWE_AMT            float64\n",
      "CONS_SORT_CODE     float64\n",
      "ELEC_TYPE_CODE     float64\n",
      "CTL_MODE           float64\n",
      "dtypes: float64(10), int64(4), object(1)\n",
      "memory usage: 740.0+ MB\n",
      "None\n"
     ]
    }
   ],
   "source": [
    "# 6,466,654条记录\n",
    "show_df_info(train_data09_df)"
   ]
  },
  {
   "cell_type": "code",
   "execution_count": 192,
   "metadata": {
    "collapsed": true
   },
   "outputs": [
    {
     "data": {
      "text/html": [
       "<div>\n",
       "<table border=\"1\" class=\"dataframe\">\n",
       "  <thead>\n",
       "    <tr style=\"text-align: right;\">\n",
       "      <th></th>\n",
       "      <th>CONS_NO</th>\n",
       "      <th>RCVBL_YM</th>\n",
       "      <th>ORG_NO</th>\n",
       "      <th>PAY_MODE</th>\n",
       "      <th>T_PQ</th>\n",
       "      <th>RCVBL_AMT</th>\n",
       "      <th>RCVED_AMT</th>\n",
       "      <th>STATUS_CODE</th>\n",
       "      <th>RCVBL_PENALTY</th>\n",
       "      <th>RCVED_PENALTY</th>\n",
       "      <th>RISK_LEVEL_CODE</th>\n",
       "      <th>OWE_AMT</th>\n",
       "      <th>CONS_SORT_CODE</th>\n",
       "      <th>ELEC_TYPE_CODE</th>\n",
       "      <th>CTL_MODE</th>\n",
       "    </tr>\n",
       "  </thead>\n",
       "  <tbody>\n",
       "    <tr>\n",
       "      <th>0</th>\n",
       "      <td>6010969031</td>\n",
       "      <td>201502</td>\n",
       "      <td>33401010130</td>\n",
       "      <td>10101.0</td>\n",
       "      <td>1869</td>\n",
       "      <td>1768.07</td>\n",
       "      <td>1768.07</td>\n",
       "      <td>1</td>\n",
       "      <td>0.00</td>\n",
       "      <td>0.00</td>\n",
       "      <td>NaN</td>\n",
       "      <td>1768.07</td>\n",
       "      <td>2.0</td>\n",
       "      <td>403.0</td>\n",
       "      <td>NaN</td>\n",
       "    </tr>\n",
       "    <tr>\n",
       "      <th>1</th>\n",
       "      <td>6010811670</td>\n",
       "      <td>201502</td>\n",
       "      <td>33401010130</td>\n",
       "      <td>10101.0</td>\n",
       "      <td>2791</td>\n",
       "      <td>2640.29</td>\n",
       "      <td>2640.29</td>\n",
       "      <td>1</td>\n",
       "      <td>0.00</td>\n",
       "      <td>0.00</td>\n",
       "      <td>NaN</td>\n",
       "      <td>2640.29</td>\n",
       "      <td>2.0</td>\n",
       "      <td>403.0</td>\n",
       "      <td>NaN</td>\n",
       "    </tr>\n",
       "    <tr>\n",
       "      <th>2</th>\n",
       "      <td>6010777305</td>\n",
       "      <td>201502</td>\n",
       "      <td>33401010130</td>\n",
       "      <td>20311.0</td>\n",
       "      <td>1883</td>\n",
       "      <td>1058.25</td>\n",
       "      <td>1058.25</td>\n",
       "      <td>1</td>\n",
       "      <td>2.12</td>\n",
       "      <td>2.12</td>\n",
       "      <td>NaN</td>\n",
       "      <td>1058.25</td>\n",
       "      <td>3.0</td>\n",
       "      <td>202.0</td>\n",
       "      <td>NaN</td>\n",
       "    </tr>\n",
       "    <tr>\n",
       "      <th>3</th>\n",
       "      <td>6010777296</td>\n",
       "      <td>201502</td>\n",
       "      <td>33401010130</td>\n",
       "      <td>20311.0</td>\n",
       "      <td>4279</td>\n",
       "      <td>3585.80</td>\n",
       "      <td>3585.80</td>\n",
       "      <td>1</td>\n",
       "      <td>0.00</td>\n",
       "      <td>0.00</td>\n",
       "      <td>NaN</td>\n",
       "      <td>3585.80</td>\n",
       "      <td>3.0</td>\n",
       "      <td>201.0</td>\n",
       "      <td>NaN</td>\n",
       "    </tr>\n",
       "    <tr>\n",
       "      <th>4</th>\n",
       "      <td>6010777190</td>\n",
       "      <td>201502</td>\n",
       "      <td>33401010130</td>\n",
       "      <td>20311.0</td>\n",
       "      <td>2514</td>\n",
       "      <td>1561.93</td>\n",
       "      <td>1561.93</td>\n",
       "      <td>1</td>\n",
       "      <td>0.00</td>\n",
       "      <td>0.00</td>\n",
       "      <td>NaN</td>\n",
       "      <td>1561.93</td>\n",
       "      <td>3.0</td>\n",
       "      <td>202.0</td>\n",
       "      <td>NaN</td>\n",
       "    </tr>\n",
       "  </tbody>\n",
       "</table>\n",
       "</div>"
      ],
      "text/plain": [
       "      CONS_NO  RCVBL_YM       ORG_NO  PAY_MODE  T_PQ  RCVBL_AMT  RCVED_AMT  \\\n",
       "0  6010969031    201502  33401010130   10101.0  1869    1768.07    1768.07   \n",
       "1  6010811670    201502  33401010130   10101.0  2791    2640.29    2640.29   \n",
       "2  6010777305    201502  33401010130   20311.0  1883    1058.25    1058.25   \n",
       "3  6010777296    201502  33401010130   20311.0  4279    3585.80    3585.80   \n",
       "4  6010777190    201502  33401010130   20311.0  2514    1561.93    1561.93   \n",
       "\n",
       "   STATUS_CODE  RCVBL_PENALTY  RCVED_PENALTY  RISK_LEVEL_CODE  OWE_AMT  \\\n",
       "0            1           0.00           0.00              NaN  1768.07   \n",
       "1            1           0.00           0.00              NaN  2640.29   \n",
       "2            1           2.12           2.12              NaN  1058.25   \n",
       "3            1           0.00           0.00              NaN  3585.80   \n",
       "4            1           0.00           0.00              NaN  1561.93   \n",
       "\n",
       "   CONS_SORT_CODE  ELEC_TYPE_CODE  CTL_MODE  \n",
       "0             2.0           403.0       NaN  \n",
       "1             2.0           403.0       NaN  \n",
       "2             3.0           202.0       NaN  \n",
       "3             3.0           201.0       NaN  \n",
       "4             3.0           202.0       NaN  "
      ]
     },
     "execution_count": 192,
     "metadata": {},
     "output_type": "execute_result"
    }
   ],
   "source": [
    "train_data09_df.head()"
   ]
  },
  {
   "cell_type": "markdown",
   "metadata": {},
   "source": [
    "##### 2-1-1-3 将数据连接上标签 "
   ]
  },
  {
   "cell_type": "code",
   "execution_count": 6,
   "metadata": {
    "collapsed": true
   },
   "outputs": [
    {
     "name": "stdout",
     "output_type": "stream",
     "text": [
      "(6466654, 17)\n",
      "CPU times: user 4.13 s, sys: 2.19 s, total: 6.32 s\n",
      "Wall time: 6.33 s\n"
     ]
    }
   ],
   "source": [
    "%%time\n",
    "# 连接上的用户都是敏感的 ，置为1，有 5,531,189 个 data09记录， 47,5723个用户\n",
    "train_data09_merge_label_df = train_data09_df.merge(\n",
    "    train_data_labels_df,\n",
    "    how='left',\n",
    "    left_on='CONS_NO',\n",
    "    right_on='CUST_NO'\n",
    ")\n",
    "# 将没有连接上的工单设置为不敏感用户，  935,465 个 data09记录,80,025个用户\n",
    "train_data09_merge_label_df['TAG'] = train_data09_merge_label_df['TAG'].fillna(0)\n",
    "train_data09_merge_label_df['TAG'] = train_data09_merge_label_df['TAG'].astype(int)\n",
    "# 6,466,654条记录\n",
    "print train_data09_merge_label_df.shape"
   ]
  },
  {
   "cell_type": "code",
   "execution_count": 7,
   "metadata": {
    "collapsed": false
   },
   "outputs": [
    {
     "name": "stdout",
     "output_type": "stream",
     "text": [
      "Stored 'train_data09_merge_label_df' (DataFrame)\n"
     ]
    }
   ],
   "source": [
    "%store train_data09_merge_label_df"
   ]
  },
  {
   "cell_type": "code",
   "execution_count": 74,
   "metadata": {
    "collapsed": true
   },
   "outputs": [
    {
     "name": "stdout",
     "output_type": "stream",
     "text": [
      "      CONS_NO  RCVBL_YM       ORG_NO  PAY_MODE  T_PQ  RCVBL_AMT  RCVED_AMT  \\\n",
      "0  6010969031    201502  33401010130   10101.0  1869    1768.07    1768.07   \n",
      "1  6010811670    201502  33401010130   10101.0  2791    2640.29    2640.29   \n",
      "2  6010777305    201502  33401010130   20311.0  1883    1058.25    1058.25   \n",
      "3  6010777296    201502  33401010130   20311.0  4279    3585.80    3585.80   \n",
      "4  6010777190    201502  33401010130   20311.0  2514    1561.93    1561.93   \n",
      "\n",
      "   STATUS_CODE  RCVBL_PENALTY  RCVED_PENALTY  RISK_LEVEL_CODE  OWE_AMT  \\\n",
      "0            1           0.00           0.00              NaN  1768.07   \n",
      "1            1           0.00           0.00              NaN  2640.29   \n",
      "2            1           2.12           2.12              NaN  1058.25   \n",
      "3            1           0.00           0.00              NaN  3585.80   \n",
      "4            1           0.00           0.00              NaN  1561.93   \n",
      "\n",
      "   CONS_SORT_CODE  ELEC_TYPE_CODE  CTL_MODE CUST_NO  TAG  \n",
      "0             2.0           403.0       NaN     NaN    0  \n",
      "1             2.0           403.0       NaN     NaN    0  \n",
      "2             3.0           202.0       NaN     NaN    0  \n",
      "3             3.0           201.0       NaN     NaN    0  \n",
      "4             3.0           202.0       NaN     NaN    0  \n",
      "<class 'pandas.core.frame.DataFrame'>\n",
      "Int64Index: 6466654 entries, 0 to 6466653\n",
      "Data columns (total 17 columns):\n",
      "CONS_NO            object\n",
      "RCVBL_YM           int64\n",
      "ORG_NO             int64\n",
      "PAY_MODE           float64\n",
      "T_PQ               int64\n",
      "RCVBL_AMT          float64\n",
      "RCVED_AMT          float64\n",
      "STATUS_CODE        int64\n",
      "RCVBL_PENALTY      float64\n",
      "RCVED_PENALTY      float64\n",
      "RISK_LEVEL_CODE    float64\n",
      "OWE_AMT            float64\n",
      "CONS_SORT_CODE     float64\n",
      "ELEC_TYPE_CODE     float64\n",
      "CTL_MODE           float64\n",
      "CUST_NO            object\n",
      "TAG                int64\n",
      "dtypes: float64(10), int64(5), object(2)\n",
      "memory usage: 888.1+ MB\n",
      "None\n"
     ]
    }
   ],
   "source": [
    "# 6,466,654条记录\n",
    "show_df_info(train_data09_merge_label_df)"
   ]
  },
  {
   "cell_type": "markdown",
   "metadata": {},
   "source": [
    "###### 输出 训练集中 所有用户和标签，共 555,748个用户"
   ]
  },
  {
   "cell_type": "code",
   "execution_count": 7,
   "metadata": {
    "collapsed": true
   },
   "outputs": [
    {
     "data": {
      "text/plain": [
       "(555748, 2)"
      ]
     },
     "execution_count": 7,
     "metadata": {},
     "output_type": "execute_result"
    }
   ],
   "source": [
    "train_data09_cust_no_tag_df = \\\n",
    "    train_data09_merge_label_df[['CONS_NO','TAG']].drop_duplicates().sort_values(by='TAG')\n",
    "save_data(\n",
    "    train_data09_cust_no_tag_df,\n",
    "    'train_data09_cust_no_tag_df.csv'\n",
    ")\n",
    "train_data09_cust_no_tag_df.shape"
   ]
  },
  {
   "cell_type": "markdown",
   "metadata": {},
   "source": [
    "###### 从文件中恢复"
   ]
  },
  {
   "cell_type": "code",
   "execution_count": 4,
   "metadata": {
    "collapsed": false
   },
   "outputs": [],
   "source": [
    "# 全部转为字符串，否则在连接表的时候会出问题\n",
    "train_data09_cust_no_tag_df = load_data('train_data09_cust_no_tag_df.csv',\n",
    "                                        encoding='utf8',\n",
    "                                        converters={'CONS_NO':unicode}\n",
    "                                       )\n"
   ]
  },
  {
   "cell_type": "markdown",
   "metadata": {},
   "source": [
    "##### 2-5-1-4 统计敏感和不敏感的情况"
   ]
  },
  {
   "cell_type": "code",
   "execution_count": 50,
   "metadata": {
    "collapsed": true
   },
   "outputs": [
    {
     "name": "stdout",
     "output_type": "stream",
     "text": [
      "(2,)\n"
     ]
    },
    {
     "data": {
      "text/plain": [
       "0    5531189\n",
       "1     935465\n",
       "Name: TAG, dtype: int64"
      ]
     },
     "execution_count": 50,
     "metadata": {},
     "output_type": "execute_result"
    },
    {
     "data": {
      "image/png": "[encoded data removed]",
      "text/plain": [
       "<matplotlib.figure.Figure at 0x7f3e97c1fa50>"
      ]
     },
     "metadata": {},
     "output_type": "display_data"
    }
   ],
   "source": [
    "# 所有工单的统计\n",
    "# 0    5,531,189\n",
    "# 1     935,465\n",
    "# 1/0   0.16912548\n",
    "show_attribute_detail(train_data09_merge_label_df,'TAG')"
   ]
  },
  {
   "cell_type": "code",
   "execution_count": 51,
   "metadata": {
    "collapsed": true
   },
   "outputs": [
    {
     "name": "stdout",
     "output_type": "stream",
     "text": [
      "(2,)\n"
     ]
    },
    {
     "data": {
      "text/plain": [
       "0    475723\n",
       "1     80025\n",
       "Name: TAG, dtype: int64"
      ]
     },
     "execution_count": 51,
     "metadata": {},
     "output_type": "execute_result"
    },
    {
     "data": {
      "image/png": "[encoded data removed]",
      "text/plain": [
       "<matplotlib.figure.Figure at 0x7f3e22213110>"
      ]
     },
     "metadata": {},
     "output_type": "display_data"
    }
   ],
   "source": [
    "# 所有用户的统计\n",
    "# 0    475,723\n",
    "# 1     80,025   ---- 跟表1-data01 的敏感用户一样\n",
    "# 1/0   0.1682176392\n",
    "show_attribute_detail(train_data09_merge_label_df[['CONS_NO','TAG']].drop_duplicates(),'TAG')"
   ]
  },
  {
   "cell_type": "markdown",
   "metadata": {},
   "source": [
    "##### 和data01数据的用户列表比较"
   ]
  },
  {
   "cell_type": "code",
   "execution_count": 13,
   "metadata": {
    "collapsed": false
   },
   "outputs": [
    {
     "name": "stdout",
     "output_type": "stream",
     "text": [
      "合并所有用户有：658374\n",
      "在data09数据中，而不在data01数据中的用户数有：0\n",
      "在data01数据中，而不在data09数据中的用户数有：102626\n"
     ]
    }
   ],
   "source": [
    "train_data01_data09_cust_no_tag_df = train_data01_cust_no_tag_df.merge(\n",
    "    train_data09_cust_no_tag_df,\n",
    "    how='outer',\n",
    "    left_on='CUST_NO',\n",
    "    right_on='CONS_NO'\n",
    ")\n",
    "# 合并所有用户有：658,374   ----  跟表1一样，即 表8和表9中所有用户都在表1中\n",
    "# 在data01数据中，而不在data09数据中的用户数有：0\n",
    "# 在data09数据中，而不在data01数据中的用户数有：102,626\n",
    "print '合并所有用户有：%d'%train_data01_data09_cust_no_tag_df.shape[0]\n",
    "print '在data09数据中，而不在data01数据中的用户数有：%d'%sum(train_data01_data09_cust_no_tag_df['CUST_NO'].isnull())\n",
    "print '在data01数据中，而不在data09数据中的用户数有：%d'%sum(train_data01_data09_cust_no_tag_df['CONS_NO'].isnull())\n"
   ]
  },
  {
   "cell_type": "code",
   "execution_count": 54,
   "metadata": {
    "collapsed": true
   },
   "outputs": [
    {
     "name": "stdout",
     "output_type": "stream",
     "text": [
      "(658374, 4)\n",
      "(2,)\n",
      "0    578349\n",
      "1     80025\n",
      "Name: TAG_x, dtype: int64\n",
      "(102626, 4)\n",
      "(1,)\n",
      "0    102626\n",
      "Name: TAG_x, dtype: int64\n",
      "(555748, 4)\n",
      "(2,)\n",
      "0    475723\n",
      "1     80025\n",
      "Name: TAG_x, dtype: int64\n"
     ]
    },
    {
     "data": {
      "image/png": "[encoded data removed]",
      "text/plain": [
       "<matplotlib.figure.Figure at 0x7f3e97b68590>"
      ]
     },
     "metadata": {},
     "output_type": "display_data"
    }
   ],
   "source": [
    "# 在data01数据中用户数有：658,374 ,其中不敏感有： 578,349，敏感有：80,025，1/0 比例为 0.138367\n",
    "print train_data01_data09_cust_no_tag_df[train_data01_data09_cust_no_tag_df['CUST_NO'].notnull()].shape\n",
    "print show_attribute_detail(\n",
    "    train_data01_data09_cust_no_tag_df[train_data01_data09_cust_no_tag_df['CUST_NO'].notnull()],\n",
    "    'TAG_x'\n",
    ")\n",
    "\n",
    "# 在data01数据中，而不在data09数据中的用户数有：102,626,其中不敏感有： 102,626，敏感有：0，1/0 比例为 \n",
    "# 这是个关键信息，意味着连接不上 09表 的01表用户 都是非敏感的用户，可以拿去直接过滤测试数据\n",
    "print train_data01_data09_cust_no_tag_df[train_data01_data09_cust_no_tag_df['CONS_NO'].isnull()].shape\n",
    "print show_attribute_detail(\n",
    "    train_data01_data09_cust_no_tag_df[train_data01_data09_cust_no_tag_df['CONS_NO'].isnull()],\n",
    "    'TAG_x'\n",
    ")\n",
    "# 在data01数据中，也在data09数据中的用户数有：555,748,其中不敏感有： 475,723，敏感有：80,025，1/0 比例为 0.168217639\n",
    "print train_data01_data09_cust_no_tag_df[train_data01_data09_cust_no_tag_df['CONS_NO'].notnull()].shape\n",
    "print show_attribute_detail(\n",
    "    train_data01_data09_cust_no_tag_df[train_data01_data09_cust_no_tag_df['CONS_NO'].notnull()],\n",
    "    'TAG_x'\n",
    ")"
   ]
  },
  {
   "cell_type": "markdown",
   "metadata": {},
   "source": [
    "##### 和data08数据的用户列表比较"
   ]
  },
  {
   "cell_type": "code",
   "execution_count": 58,
   "metadata": {
    "collapsed": true
   },
   "outputs": [
    {
     "name": "stdout",
     "output_type": "stream",
     "text": [
      "合并所有用户有：556844\n",
      "在data08数据中，而不在data09数据中的用户数有：274692\n",
      "在data09数据中，而不在data08数据中的用户数有：1096\n"
     ]
    }
   ],
   "source": [
    "train_data08_data09_cust_no_tag_df = train_data08_cust_no_tag_df.merge(\n",
    "    train_data09_cust_no_tag_df,\n",
    "    how='outer',\n",
    "    on='CONS_NO',\n",
    ")\n",
    "# 08表和09表合并后，所有用户有：556,844   ----  表8和表9的用户不一致，即各有自己的用户\n",
    "# 在data01数据中，而不在data09数据中的用户数有：1\n",
    "# 在data09数据中，而不在data01数据中的用户数有：376223\n",
    "print '合并所有用户有：%d'%train_data08_data09_cust_no_tag_df.shape[0]\n",
    "print '在data08数据中，而不在data09数据中的用户数有：%d'%sum(train_data08_data09_cust_no_tag_df['TAG_x'].isnull())\n",
    "print '在data09数据中，而不在data08数据中的用户数有：%d'%sum(train_data08_data09_cust_no_tag_df['TAG_y'].isnull())\n"
   ]
  },
  {
   "cell_type": "code",
   "execution_count": 92,
   "metadata": {
    "collapsed": true
   },
   "outputs": [
    {
     "data": {
      "text/html": [
       "<div>\n",
       "<table border=\"1\" class=\"dataframe\">\n",
       "  <thead>\n",
       "    <tr style=\"text-align: right;\">\n",
       "      <th></th>\n",
       "      <th>CONS_NO</th>\n",
       "      <th>TAG_x</th>\n",
       "      <th>TAG_y</th>\n",
       "    </tr>\n",
       "  </thead>\n",
       "  <tbody>\n",
       "    <tr>\n",
       "      <th>0</th>\n",
       "      <td>6011035199</td>\n",
       "      <td>0.0</td>\n",
       "      <td>0.0</td>\n",
       "    </tr>\n",
       "    <tr>\n",
       "      <th>1</th>\n",
       "      <td>6120351106</td>\n",
       "      <td>0.0</td>\n",
       "      <td>0.0</td>\n",
       "    </tr>\n",
       "    <tr>\n",
       "      <th>2</th>\n",
       "      <td>6120116008</td>\n",
       "      <td>0.0</td>\n",
       "      <td>0.0</td>\n",
       "    </tr>\n",
       "    <tr>\n",
       "      <th>3</th>\n",
       "      <td>6118024684</td>\n",
       "      <td>0.0</td>\n",
       "      <td>0.0</td>\n",
       "    </tr>\n",
       "    <tr>\n",
       "      <th>4</th>\n",
       "      <td>6111023661</td>\n",
       "      <td>0.0</td>\n",
       "      <td>0.0</td>\n",
       "    </tr>\n",
       "  </tbody>\n",
       "</table>\n",
       "</div>"
      ],
      "text/plain": [
       "      CONS_NO  TAG_x  TAG_y\n",
       "0  6011035199    0.0    0.0\n",
       "1  6120351106    0.0    0.0\n",
       "2  6120116008    0.0    0.0\n",
       "3  6118024684    0.0    0.0\n",
       "4  6111023661    0.0    0.0"
      ]
     },
     "execution_count": 92,
     "metadata": {},
     "output_type": "execute_result"
    }
   ],
   "source": [
    "train_data08_data09_cust_no_tag_df.head()"
   ]
  },
  {
   "cell_type": "markdown",
   "metadata": {},
   "source": [
    "#### 2-5-2 测试集 "
   ]
  },
  {
   "cell_type": "markdown",
   "metadata": {},
   "source": [
    "##### 2-5-1-1 加载数据  test/09_arc_a_rcvbl_flow_test.tsv"
   ]
  },
  {
   "cell_type": "code",
   "execution_count": 8,
   "metadata": {
    "collapsed": true
   },
   "outputs": [
    {
     "name": "stdout",
     "output_type": "stream",
     "text": [
      "(2479469, 15)\n",
      "CPU times: user 7.92 s, sys: 644 ms, total: 8.56 s\n",
      "Wall time: 8.98 s\n"
     ]
    }
   ],
   "source": [
    "%%time\n",
    "# 这个类型转换非常重要，因为发现在和 test_to_predict.csv表 的 CUST_NO 连接时 ，如果不全部转为 字符串 ，会连接 不对，因为\n",
    "# 在这个表里的 CUST_NO 字段出现 部分 字段是字符串，部分字段是整形，所以全部转为字符串\n",
    "test_data09_df = load_data('Data_Update/test/09_arc_a_rcvbl_flow_test.tsv',\n",
    "                           converters={'CONS_NO':unicode,'PAY_MODE':unicode,'ORG_NO':unicode}) \n",
    "# 记录数 2479469\n",
    "print(test_data09_df.shape)\n",
    "# 201,702 个用户\n",
    "len(test_data09_df['CONS_NO'].unique())"
   ]
  },
  {
   "cell_type": "markdown",
   "metadata": {},
   "source": [
    "##### 2-5-1-2 数据摘要"
   ]
  },
  {
   "cell_type": "code",
   "execution_count": 49,
   "metadata": {
    "collapsed": true
   },
   "outputs": [
    {
     "name": "stdout",
     "output_type": "stream",
     "text": [
      "      CONS_NO  RCVBL_YM       ORG_NO  PAY_MODE  T_PQ  RCVBL_AMT  RCVED_AMT  \\\n",
      "0  8602008462    201509    334019001   20311.0   169      90.92      90.92   \n",
      "1  8664221007    201509  33401900101   20311.0   290     156.02     156.02   \n",
      "2  8664221012    201509  33401900101   20311.0   110      59.18      59.18   \n",
      "3  8602060747    201509    334019001   20311.0    25      13.64      13.64   \n",
      "4  8660041104    201509  33401900101   20311.0    44      23.67      23.67   \n",
      "\n",
      "   STATUS_CODE  RCVBL_PENALTY  RCVED_PENALTY  RISK_LEVEL_CODE  OWE_AMT  \\\n",
      "0            1            0.0            0.0              NaN    90.92   \n",
      "1            1            0.0            0.0              NaN   156.02   \n",
      "2            1            0.0            0.0              NaN    59.18   \n",
      "3            1            0.0            0.0              NaN    13.64   \n",
      "4            1            0.0            0.0              NaN    23.67   \n",
      "\n",
      "   CONS_SORT_CODE  ELEC_TYPE_CODE  CTL_MODE  \n",
      "0             3.0           201.0       NaN  \n",
      "1             3.0           201.0       NaN  \n",
      "2             3.0           201.0       NaN  \n",
      "3             3.0           202.0       NaN  \n",
      "4             3.0           201.0       NaN  \n",
      "<class 'pandas.core.frame.DataFrame'>\n",
      "RangeIndex: 2479469 entries, 0 to 2479468\n",
      "Data columns (total 15 columns):\n",
      "CONS_NO            object\n",
      "RCVBL_YM           int64\n",
      "ORG_NO             int64\n",
      "PAY_MODE           float64\n",
      "T_PQ               int64\n",
      "RCVBL_AMT          float64\n",
      "RCVED_AMT          float64\n",
      "STATUS_CODE        int64\n",
      "RCVBL_PENALTY      float64\n",
      "RCVED_PENALTY      float64\n",
      "RISK_LEVEL_CODE    float64\n",
      "OWE_AMT            float64\n",
      "CONS_SORT_CODE     float64\n",
      "ELEC_TYPE_CODE     float64\n",
      "CTL_MODE           float64\n",
      "dtypes: float64(10), int64(4), object(1)\n",
      "memory usage: 283.8+ MB\n",
      "None\n"
     ]
    }
   ],
   "source": [
    "# 2,479,469条记录\n",
    "show_df_info(test_data09_df)"
   ]
  },
  {
   "cell_type": "code",
   "execution_count": 192,
   "metadata": {
    "collapsed": true
   },
   "outputs": [
    {
     "data": {
      "text/html": [
       "<div>\n",
       "<table border=\"1\" class=\"dataframe\">\n",
       "  <thead>\n",
       "    <tr style=\"text-align: right;\">\n",
       "      <th></th>\n",
       "      <th>CONS_NO</th>\n",
       "      <th>RCVBL_YM</th>\n",
       "      <th>ORG_NO</th>\n",
       "      <th>PAY_MODE</th>\n",
       "      <th>T_PQ</th>\n",
       "      <th>RCVBL_AMT</th>\n",
       "      <th>RCVED_AMT</th>\n",
       "      <th>STATUS_CODE</th>\n",
       "      <th>RCVBL_PENALTY</th>\n",
       "      <th>RCVED_PENALTY</th>\n",
       "      <th>RISK_LEVEL_CODE</th>\n",
       "      <th>OWE_AMT</th>\n",
       "      <th>CONS_SORT_CODE</th>\n",
       "      <th>ELEC_TYPE_CODE</th>\n",
       "      <th>CTL_MODE</th>\n",
       "    </tr>\n",
       "  </thead>\n",
       "  <tbody>\n",
       "    <tr>\n",
       "      <th>0</th>\n",
       "      <td>6010969031</td>\n",
       "      <td>201502</td>\n",
       "      <td>33401010130</td>\n",
       "      <td>10101.0</td>\n",
       "      <td>1869</td>\n",
       "      <td>1768.07</td>\n",
       "      <td>1768.07</td>\n",
       "      <td>1</td>\n",
       "      <td>0.00</td>\n",
       "      <td>0.00</td>\n",
       "      <td>NaN</td>\n",
       "      <td>1768.07</td>\n",
       "      <td>2.0</td>\n",
       "      <td>403.0</td>\n",
       "      <td>NaN</td>\n",
       "    </tr>\n",
       "    <tr>\n",
       "      <th>1</th>\n",
       "      <td>6010811670</td>\n",
       "      <td>201502</td>\n",
       "      <td>33401010130</td>\n",
       "      <td>10101.0</td>\n",
       "      <td>2791</td>\n",
       "      <td>2640.29</td>\n",
       "      <td>2640.29</td>\n",
       "      <td>1</td>\n",
       "      <td>0.00</td>\n",
       "      <td>0.00</td>\n",
       "      <td>NaN</td>\n",
       "      <td>2640.29</td>\n",
       "      <td>2.0</td>\n",
       "      <td>403.0</td>\n",
       "      <td>NaN</td>\n",
       "    </tr>\n",
       "    <tr>\n",
       "      <th>2</th>\n",
       "      <td>6010777305</td>\n",
       "      <td>201502</td>\n",
       "      <td>33401010130</td>\n",
       "      <td>20311.0</td>\n",
       "      <td>1883</td>\n",
       "      <td>1058.25</td>\n",
       "      <td>1058.25</td>\n",
       "      <td>1</td>\n",
       "      <td>2.12</td>\n",
       "      <td>2.12</td>\n",
       "      <td>NaN</td>\n",
       "      <td>1058.25</td>\n",
       "      <td>3.0</td>\n",
       "      <td>202.0</td>\n",
       "      <td>NaN</td>\n",
       "    </tr>\n",
       "    <tr>\n",
       "      <th>3</th>\n",
       "      <td>6010777296</td>\n",
       "      <td>201502</td>\n",
       "      <td>33401010130</td>\n",
       "      <td>20311.0</td>\n",
       "      <td>4279</td>\n",
       "      <td>3585.80</td>\n",
       "      <td>3585.80</td>\n",
       "      <td>1</td>\n",
       "      <td>0.00</td>\n",
       "      <td>0.00</td>\n",
       "      <td>NaN</td>\n",
       "      <td>3585.80</td>\n",
       "      <td>3.0</td>\n",
       "      <td>201.0</td>\n",
       "      <td>NaN</td>\n",
       "    </tr>\n",
       "    <tr>\n",
       "      <th>4</th>\n",
       "      <td>6010777190</td>\n",
       "      <td>201502</td>\n",
       "      <td>33401010130</td>\n",
       "      <td>20311.0</td>\n",
       "      <td>2514</td>\n",
       "      <td>1561.93</td>\n",
       "      <td>1561.93</td>\n",
       "      <td>1</td>\n",
       "      <td>0.00</td>\n",
       "      <td>0.00</td>\n",
       "      <td>NaN</td>\n",
       "      <td>1561.93</td>\n",
       "      <td>3.0</td>\n",
       "      <td>202.0</td>\n",
       "      <td>NaN</td>\n",
       "    </tr>\n",
       "  </tbody>\n",
       "</table>\n",
       "</div>"
      ],
      "text/plain": [
       "      CONS_NO  RCVBL_YM       ORG_NO  PAY_MODE  T_PQ  RCVBL_AMT  RCVED_AMT  \\\n",
       "0  6010969031    201502  33401010130   10101.0  1869    1768.07    1768.07   \n",
       "1  6010811670    201502  33401010130   10101.0  2791    2640.29    2640.29   \n",
       "2  6010777305    201502  33401010130   20311.0  1883    1058.25    1058.25   \n",
       "3  6010777296    201502  33401010130   20311.0  4279    3585.80    3585.80   \n",
       "4  6010777190    201502  33401010130   20311.0  2514    1561.93    1561.93   \n",
       "\n",
       "   STATUS_CODE  RCVBL_PENALTY  RCVED_PENALTY  RISK_LEVEL_CODE  OWE_AMT  \\\n",
       "0            1           0.00           0.00              NaN  1768.07   \n",
       "1            1           0.00           0.00              NaN  2640.29   \n",
       "2            1           2.12           2.12              NaN  1058.25   \n",
       "3            1           0.00           0.00              NaN  3585.80   \n",
       "4            1           0.00           0.00              NaN  1561.93   \n",
       "\n",
       "   CONS_SORT_CODE  ELEC_TYPE_CODE  CTL_MODE  \n",
       "0             2.0           403.0       NaN  \n",
       "1             2.0           403.0       NaN  \n",
       "2             3.0           202.0       NaN  \n",
       "3             3.0           201.0       NaN  \n",
       "4             3.0           202.0       NaN  "
      ]
     },
     "execution_count": 192,
     "metadata": {},
     "output_type": "execute_result"
    }
   ],
   "source": [
    "test_data09_df.head()"
   ]
  },
  {
   "cell_type": "markdown",
   "metadata": {},
   "source": [
    "###### 输出 测试集中 所有用户，共 201,702个用户"
   ]
  },
  {
   "cell_type": "code",
   "execution_count": 61,
   "metadata": {
    "collapsed": true
   },
   "outputs": [
    {
     "data": {
      "text/plain": [
       "(201702,)"
      ]
     },
     "execution_count": 61,
     "metadata": {},
     "output_type": "execute_result"
    }
   ],
   "source": [
    "test_data09_cust_no_df = \\\n",
    "    test_data09_df['CONS_NO'].drop_duplicates()\n",
    "save_data(\n",
    "    test_data09_cust_no_df,\n",
    "    'test_data09_cust_no_df.csv'\n",
    ")\n",
    "test_data09_cust_no_df.shape"
   ]
  },
  {
   "cell_type": "markdown",
   "metadata": {},
   "source": [
    "###### 从文件中恢复"
   ]
  },
  {
   "cell_type": "code",
   "execution_count": 13,
   "metadata": {
    "collapsed": false
   },
   "outputs": [],
   "source": [
    "test_data09_cust_no_df = load_data('test_data09_cust_no_df.csv',\n",
    "                                   encoding='utf8',\n",
    "                                   converters={'CONS_NO':unicode}\n",
    "                                   )\n",
    "# 全部转为字符串，否则在连接表的时候会出问题\n"
   ]
  },
  {
   "cell_type": "markdown",
   "metadata": {},
   "source": [
    "##### 2-5-2-2 将数据连接上待预测用户列表"
   ]
  },
  {
   "cell_type": "code",
   "execution_count": 9,
   "metadata": {
    "collapsed": true
   },
   "outputs": [
    {
     "name": "stdout",
     "output_type": "stream",
     "text": [
      "(2479469, 16)\n",
      "CPU times: user 2.06 s, sys: 384 ms, total: 2.44 s\n",
      "Wall time: 2.88 s\n"
     ]
    }
   ],
   "source": [
    "%%time\n",
    "test_data09_merge_label_df = test_data09_df.merge(\n",
    "    test_data_labels_df,\n",
    "    left_on='CONS_NO',\n",
    "    right_on='CUST_NO',\n",
    "    how='left'\n",
    ")\n",
    "print test_data09_merge_label_df.shape"
   ]
  },
  {
   "cell_type": "code",
   "execution_count": 10,
   "metadata": {
    "collapsed": false
   },
   "outputs": [
    {
     "name": "stdout",
     "output_type": "stream",
     "text": [
      "Stored 'test_data09_merge_label_df' (DataFrame)\n"
     ]
    }
   ],
   "source": [
    "%store test_data09_merge_label_df"
   ]
  },
  {
   "cell_type": "code",
   "execution_count": 64,
   "metadata": {
    "collapsed": true
   },
   "outputs": [
    {
     "name": "stdout",
     "output_type": "stream",
     "text": [
      "0\n",
      "201702\n",
      "169169\n"
     ]
    }
   ],
   "source": [
    "# 没在测试集中的数据有0,即全部都在测试集合\n",
    "print sum(test_data09_merge_label_df['CUST_NO'].isnull())\n",
    "# 总共用户数： 201,702\n",
    "print len(test_data09_merge_label_df['CONS_NO'].unique()) \n",
    "# data01中用户 无 data09数据的 用户有 169,169 --- 根据训练集，连接不上09表的01表用户是否直接判为 非敏感\n",
    "print 370871-len(test_data09_merge_label_df['CONS_NO'].unique())"
   ]
  },
  {
   "cell_type": "markdown",
   "metadata": {},
   "source": [
    "#### 2-5-3 小结：\n",
    "- 训练集有：6,466,654个 应收电费信息表 数据\n",
    "       不敏感：5,531,189;敏感：935,465,不敏感/敏感:0.16912548\n",
    "    - 将训练集客户编号提取并去重，发现训练集只有 555,748 个用户编号\n",
    "       不敏感：475,723; 敏感：80,025（跟train_label.csv中敏感用户一样，意味着所有训练集中敏感用户都有表9）, 不敏感/敏感: 0.16912548\n",
    "\n",
    "        - 合并所有用户有：658,374(跟表1一样，即表8和表9中所有用户都在表1中)\n",
    "        - 在data09数据中，而不在data01数据中的用户数有：0\n",
    "        - 在data01数据中，而不在data09数据中的用户数有：102,626\n",
    "            \n",
    "    - 在data01数据中用户数有：658,374 ,其中不敏感有： 578,349，敏感有：80,025，1/0 比例为 0.138367\n",
    "    - 在data01数据中，而不在data09数据中的用户数有：102,626,其中不敏感有： 102,626，敏感有：0，1/0 比例为 *（这是个关键信息，意味着连接不上 09表 的01表用户 都是非敏感的用户，可以拿去直接过滤测试数据）\n",
    "    - 在data01数据中，也在data09数据中的用户数有：555,748,其中不敏感有： 475,723，敏感有：80,025，1/0 比例为 0.168217639\n",
    "\n",
    "\n",
    "- 08表和09表合并后，所有用户有：556,844   ----  表8和表9的用户不一致，即各有自己的用户\t\n",
    "    - 在data08数据中，而不在data09数据中的用户数有：274692\t\n",
    "    - 在data09数据中，而不在data08数据中的用户数有：1096\t\n",
    "\n",
    "\n",
    "- 测试集有：  2,479,469 个工单数据\n",
    "- 将测试集客户编号提取并去重，发现训练集只有 201,702 用户编号，全部都在test_to_predict.csv（370871个用户）中，\n",
    "    - 而 test_to_predict.csv 中有 169,169 个不在该表中  --- **根据训练集，连接不上09表的01表用户是否直接判为 非敏感**\n",
    "\n"
   ]
  },
  {
   "cell_type": "markdown",
   "metadata": {},
   "source": [
    "## 3 进行不同特征的探索"
   ]
  },
  {
   "cell_type": "markdown",
   "metadata": {},
   "source": [
    "### 3-1 表1用户能否连接上09表"
   ]
  },
  {
   "cell_type": "markdown",
   "metadata": {},
   "source": [
    "#### 3-1-1 训练集"
   ]
  },
  {
   "cell_type": "code",
   "execution_count": 5,
   "metadata": {
    "collapsed": true
   },
   "outputs": [
    {
     "name": "stdout",
     "output_type": "stream",
     "text": [
      "CPU times: user 1.14 s, sys: 160 ms, total: 1.3 s\n",
      "Wall time: 1.3 s\n"
     ]
    }
   ],
   "source": [
    "%%time\n",
    "temp = train_data01_a_worker_per_user.merge(\n",
    "    train_data09_cust_no_tag_df,\n",
    "    how='left',\n",
    "    left_on='CUST_NO', \n",
    "    right_on='CONS_NO'\n",
    ")\n",
    "# 全部先设置 为 0\n",
    "temp['IS_CONNECT_TO_09TABLE'] = 1\n",
    "temp.loc[temp['CONS_NO'].isnull(),'IS_CONNECT_TO_09TABLE']=0\n"
   ]
  },
  {
   "cell_type": "code",
   "execution_count": 8,
   "metadata": {
    "collapsed": false
   },
   "outputs": [],
   "source": [
    "# 修改\n",
    "train_data01_a_worker_per_user['IS_CONNECT_TO_09TABLE'] = temp['IS_CONNECT_TO_09TABLE']"
   ]
  },
  {
   "cell_type": "code",
   "execution_count": 28,
   "metadata": {
    "collapsed": true
   },
   "outputs": [
    {
     "ename": "NameError",
     "evalue": "name 'temp' is not defined",
     "output_type": "error",
     "traceback": [
      "\u001b[0;31m---------------------------------------\u001b[0m",
      "\u001b[0;31mNameError\u001b[0mTraceback (most recent call last)",
      "\u001b[0;32m<ipython-input-28-cd28c9f1fd8a>\u001b[0m in \u001b[0;36m<module>\u001b[0;34m()\u001b[0m\n\u001b[0;32m----> 1\u001b[0;31m \u001b[0msum\u001b[0m\u001b[0;34m(\u001b[0m\u001b[0mtemp\u001b[0m\u001b[0;34m[\u001b[0m\u001b[0;34m'CONS_NO'\u001b[0m\u001b[0;34m]\u001b[0m\u001b[0;34m.\u001b[0m\u001b[0misnull\u001b[0m\u001b[0;34m(\u001b[0m\u001b[0;34m)\u001b[0m\u001b[0;34m)\u001b[0m \u001b[0;34m==\u001b[0m \u001b[0;36m102626\u001b[0m\u001b[0;34m,\u001b[0m\u001b[0msum\u001b[0m\u001b[0;34m(\u001b[0m\u001b[0mtrain_data01_a_worker_per_user\u001b[0m\u001b[0;34m[\u001b[0m\u001b[0;34m'IS_CONNECT_TO_09TABLE'\u001b[0m\u001b[0;34m]\u001b[0m\u001b[0;34m==\u001b[0m\u001b[0;36m0\u001b[0m\u001b[0;34m)\u001b[0m \u001b[0;34m==\u001b[0m \u001b[0;36m102626\u001b[0m\u001b[0;34m\u001b[0m\u001b[0m\n\u001b[0m",
      "\u001b[0;31mNameError\u001b[0m: name 'temp' is not defined"
     ]
    },
    {
     "name": "stdout",
     "output_type": "stream",
     "text": [
      "> \u001b[0;32m<ipython-input-28-cd28c9f1fd8a>\u001b[0m(1)\u001b[0;36m<module>\u001b[0;34m()\u001b[0m\n",
      "\u001b[0;32m----> 1 \u001b[0;31m\u001b[0msum\u001b[0m\u001b[0;34m(\u001b[0m\u001b[0mtemp\u001b[0m\u001b[0;34m[\u001b[0m\u001b[0;34m'CONS_NO'\u001b[0m\u001b[0;34m]\u001b[0m\u001b[0;34m.\u001b[0m\u001b[0misnull\u001b[0m\u001b[0;34m(\u001b[0m\u001b[0;34m)\u001b[0m\u001b[0;34m)\u001b[0m \u001b[0;34m==\u001b[0m \u001b[0;36m102626\u001b[0m\u001b[0;34m,\u001b[0m\u001b[0msum\u001b[0m\u001b[0;34m(\u001b[0m\u001b[0mtrain_data01_a_worker_per_user\u001b[0m\u001b[0;34m[\u001b[0m\u001b[0;34m'IS_CONNECT_TO_09TABLE'\u001b[0m\u001b[0;34m]\u001b[0m\u001b[0;34m==\u001b[0m\u001b[0;36m0\u001b[0m\u001b[0;34m)\u001b[0m \u001b[0;34m==\u001b[0m \u001b[0;36m102626\u001b[0m\u001b[0;34m\u001b[0m\u001b[0m\n",
      "\u001b[0m\n",
      "ipdb> q\n"
     ]
    }
   ],
   "source": [
    "sum(temp['CONS_NO'].isnull()) == 102626,sum(train_data01_a_worker_per_user['IS_CONNECT_TO_09TABLE']==0) == 102626"
   ]
  },
  {
   "cell_type": "markdown",
   "metadata": {},
   "source": [
    "#### 3-1-2 测试集"
   ]
  },
  {
   "cell_type": "code",
   "execution_count": 14,
   "metadata": {
    "collapsed": true
   },
   "outputs": [
    {
     "name": "stdout",
     "output_type": "stream",
     "text": [
      "CPU times: user 620 ms, sys: 156 ms, total: 776 ms\n",
      "Wall time: 777 ms\n"
     ]
    }
   ],
   "source": [
    "%%time\n",
    "temp = test_data01_a_worker_per_user.merge(\n",
    "    test_data09_cust_no_df,\n",
    "    how='left',\n",
    "    left_on='CUST_NO', \n",
    "    right_on='CONS_NO'\n",
    ")\n",
    "\n",
    "# 全部先设置 为 0\n",
    "temp['IS_CONNECT_TO_09TABLE'] = 1\n",
    "temp.loc[temp['CONS_NO'].isnull(),'IS_CONNECT_TO_09TABLE']=0"
   ]
  },
  {
   "cell_type": "code",
   "execution_count": 15,
   "metadata": {
    "collapsed": false
   },
   "outputs": [],
   "source": [
    "# 修改\n",
    "test_data01_a_worker_per_user['IS_CONNECT_TO_09TABLE'] = temp['IS_CONNECT_TO_09TABLE']"
   ]
  },
  {
   "cell_type": "code",
   "execution_count": 18,
   "metadata": {
    "collapsed": true
   },
   "outputs": [
    {
     "data": {
      "text/plain": [
       "True"
      ]
     },
     "execution_count": 18,
     "metadata": {},
     "output_type": "execute_result"
    }
   ],
   "source": [
    "sum(test_data01_a_worker_per_user['IS_CONNECT_TO_09TABLE']==0) ==169169"
   ]
  },
  {
   "cell_type": "markdown",
   "metadata": {},
   "source": [
    "### 3-2 供电单位编号 ORG_NO     "
   ]
  },
  {
   "cell_type": "markdown",
   "metadata": {},
   "source": [
    "#### 3-2-1 所有记录统计"
   ]
  },
  {
   "cell_type": "markdown",
   "metadata": {},
   "source": [
    "##### 3-2-1-1 训练集"
   ]
  },
  {
   "cell_type": "code",
   "execution_count": 9,
   "metadata": {
    "collapsed": true
   },
   "outputs": [
    {
     "name": "stdout",
     "output_type": "stream",
     "text": [
      "(754, 5)\n"
     ]
    },
    {
     "data": {
      "text/plain": [
       "(754, 5)"
      ]
     },
     "execution_count": 9,
     "metadata": {},
     "output_type": "execute_result"
    }
   ],
   "source": [
    "train_data09_merge_label_df_org_no_count_df = show_attribute_detail(\n",
    "    train_data09_merge_label_df,\n",
    "    'ORG_NO',\n",
    "    split_by_tag=True, \n",
    "    tag_name='TAG', \n",
    "    show_pic=False\n",
    ")\n",
    "train_data09_merge_label_df_org_no_count_df.shape"
   ]
  },
  {
   "cell_type": "markdown",
   "metadata": {},
   "source": [
    "##### 3-2-1-2 测试集"
   ]
  },
  {
   "cell_type": "code",
   "execution_count": 10,
   "metadata": {
    "collapsed": true
   },
   "outputs": [
    {
     "name": "stdout",
     "output_type": "stream",
     "text": [
      "(621,)\n"
     ]
    }
   ],
   "source": [
    "test_data09_merge_label_df_org_no_count_df = show_attribute_detail(\n",
    "    test_data09_merge_label_df,\n",
    "    'ORG_NO',\n",
    "    show_pic=False\n",
    ")"
   ]
  },
  {
   "cell_type": "markdown",
   "metadata": {},
   "source": [
    "##### 3-2-1-3 合并结果"
   ]
  },
  {
   "cell_type": "code",
   "execution_count": 16,
   "metadata": {
    "collapsed": true
   },
   "outputs": [
    {
     "name": "stdout",
     "output_type": "stream",
     "text": [
      "所有data09 -供电单位编号 ORG_NO\n",
      "              total    tag0  tag0/total    tag1  tag1/total  test_total\n",
      "33406800136    49.0     0.0    0.000000    49.0    1.000000        66.0\n",
      "3340901        20.0     7.0    0.350000    13.0    0.650000        13.0\n",
      "33406600107   561.0   290.0    0.516934   271.0    0.483066       212.0\n",
      "3340201       483.0   267.0    0.552795   216.0    0.447205        95.0\n",
      "33401010911  6017.0  3357.0    0.557919  2660.0    0.442081         0.0\n",
      "3340601        75.0    43.0    0.573333    32.0    0.426667        24.0\n",
      "33406600130  4223.0  2436.0    0.576841  1787.0    0.423159      2165.0\n",
      "3340501       884.0   512.0    0.579186   372.0    0.420814       487.0\n",
      "33401010912  1911.0  1168.0    0.611198   743.0    0.388802         0.0\n",
      "33410400160    34.0    21.0    0.617647    13.0    0.382353         5.0\n",
      "33406600190  1030.0   637.0    0.618447   393.0    0.381553       543.0\n",
      "33406600180  1615.0  1012.0    0.626625   603.0    0.373375       588.0\n",
      "33401010530  3022.0  1904.0    0.630046  1118.0    0.369954         0.0\n",
      "334040103      72.0    48.0    0.666667    24.0    0.333333        48.0\n",
      "3340101      1009.0   673.0    0.666997   336.0    0.333003         0.0\n",
      "33406200164   713.0   476.0    0.667602   237.0    0.332398       326.0\n",
      "33405600153   408.0   276.0    0.676471   132.0    0.323529       204.0\n",
      "33406100108  1725.0  1188.0    0.688696   537.0    0.311304       695.0\n",
      "33401010140  3895.0  2738.0    0.702953  1157.0    0.297047         0.0\n",
      "33401010830  3728.0  2636.0    0.707082  1092.0    0.292918         0.0\n",
      "33406600170  1038.0   738.0    0.710983   300.0    0.289017       354.0\n",
      "334041001    4573.0  3253.0    0.711349  1320.0    0.288651      1301.0\n",
      "33406700133  9533.0  6798.0    0.713102  2735.0    0.286898      3800.0\n",
      "33407400108    84.0    60.0    0.714286    24.0    0.285714        96.0\n",
      "334040101     513.0   368.0    0.717349   145.0    0.282651        72.0\n",
      "33401010913  1119.0   805.0    0.719392   314.0    0.280608         0.0\n",
      "33406600140  3360.0  2435.0    0.724702   925.0    0.275298      1625.0\n",
      "33406800142   201.0   146.0    0.726368    55.0    0.273632        24.0\n",
      "334046001    7530.0  5508.0    0.731474  2022.0    0.268526      3059.0\n",
      "33406500141  1770.0  1307.0    0.738418   463.0    0.261582      1002.0\n",
      "...             ...     ...         ...     ...         ...         ...\n",
      "33407900111   592.0   580.0    0.979730    12.0    0.020270       504.0\n",
      "33407300103   476.0   470.0    0.987395     6.0    0.012605       244.0\n",
      "33410010230    54.0    54.0    1.000000     0.0    0.000000        25.0\n",
      "3340801       317.0   317.0    1.000000     0.0    0.000000       176.0\n",
      "33410010130    60.0    60.0    1.000000     0.0    0.000000        21.0\n",
      "33409010140    16.0    16.0    1.000000     0.0    0.000000         0.0\n",
      "33409010160     8.0     8.0    1.000000     0.0    0.000000         0.0\n",
      "33410200111    14.0    14.0    1.000000     0.0    0.000000        33.0\n",
      "33409100141     0.0     0.0    0.000000     0.0    0.000000         3.0\n",
      "33409300140    31.0    31.0    1.000000     0.0    0.000000        22.0\n",
      "33410600130    18.0    18.0    1.000000     0.0    0.000000        22.0\n",
      "334108001      29.0    29.0    1.000000     0.0    0.000000        13.0\n",
      "33407800104   156.0   156.0    1.000000     0.0    0.000000       144.0\n",
      "33407600139    96.0    96.0    1.000000     0.0    0.000000        60.0\n",
      "334112001      13.0    13.0    1.000000     0.0    0.000000         9.0\n",
      "334091001       2.0     2.0    1.000000     0.0    0.000000         4.0\n",
      "33401600119   350.0   350.0    1.000000     0.0    0.000000         0.0\n",
      "334111001      12.0    12.0    1.000000     0.0    0.000000         0.0\n",
      "33406100130   112.0   112.0    1.000000     0.0    0.000000        52.0\n",
      "33406800135   240.0   240.0    1.000000     0.0    0.000000        48.0\n",
      "33406800151    36.0    36.0    1.000000     0.0    0.000000        36.0\n",
      "33406900140   226.0   226.0    1.000000     0.0    0.000000        95.0\n",
      "33406900180   292.0   292.0    1.000000     0.0    0.000000       314.0\n",
      "33407200135   550.0   550.0    1.000000     0.0    0.000000       416.0\n",
      "33407300102   375.0   375.0    1.000000     0.0    0.000000       232.0\n",
      "33407300104    77.0    77.0    1.000000     0.0    0.000000        37.0\n",
      "33407300106    36.0    36.0    1.000000     0.0    0.000000        24.0\n",
      "33407300107   180.0   180.0    1.000000     0.0    0.000000        70.0\n",
      "33407400107   377.0   377.0    1.000000     0.0    0.000000       253.0\n",
      "33411010201     3.0     3.0    1.000000     0.0    0.000000         0.0\n",
      "\n",
      "[755 rows x 6 columns]\n"
     ]
    }
   ],
   "source": [
    "temp = train_data09_merge_label_df_org_no_count_df.join(\n",
    "    test_data09_merge_label_df_org_no_count_df,\n",
    "    how='outer'\n",
    ").fillna(0).sort_values(by='tag1/total',ascending=False)\n",
    "temp['test_total'] = temp['ORG_NO']\n",
    "temp = temp.drop(labels = [u'ORG_NO'],axis=1)\n",
    "print '所有data09 -供电单位编号 ORG_NO'\n",
    "print temp\n",
    "# 数据太多了，输出分析\n",
    "save_data(\n",
    "    temp,\n",
    "    'train&test_data09_merge_label_df_org_no_count.csv',\n",
    "    index=True\n",
    ")"
   ]
  },
  {
   "cell_type": "markdown",
   "metadata": {},
   "source": [
    "#### 3-2-2 按用户统计 (因为 一个用户会有多个org_no，所以这里做截断处理，剩下7位，保证 用户org_no种类减少)"
   ]
  },
  {
   "cell_type": "markdown",
   "metadata": {},
   "source": [
    "##### 3-2-2-1 训练集"
   ]
  },
  {
   "cell_type": "code",
   "execution_count": 6,
   "metadata": {
    "collapsed": false
   },
   "outputs": [
    {
     "name": "stdout",
     "output_type": "stream",
     "text": [
      "(2,)\n",
      "CPU times: user 29.7 s, sys: 404 ms, total: 30.1 s\n",
      "Wall time: 29.8 s\n"
     ]
    }
   ],
   "source": [
    "%%time\n",
    "# 尝试\n",
    "\n",
    "truncate_len = 7\n",
    "temp = train_data09_merge_label_df.groupby(\n",
    "    by='CONS_NO',axis=0)['ORG_NO'].apply(\n",
    "    lambda x :len(set([item[:truncate_len] for item in x \n",
    "                      ]))\n",
    ")\n",
    "\n",
    "# 7-仍然有两个 \n",
    "print temp[temp>1].shape"
   ]
  },
  {
   "cell_type": "code",
   "execution_count": 8,
   "metadata": {
    "collapsed": false
   },
   "outputs": [
    {
     "name": "stdout",
     "output_type": "stream",
     "text": [
      "CPU times: user 1.34 s, sys: 116 ms, total: 1.45 s\n",
      "Wall time: 1.73 s\n"
     ]
    }
   ],
   "source": [
    "%%time\n",
    "truncate_len = 9\n",
    "train_data09_merge_label_df['ORG_NO_%dbit'%truncate_len] = \\\n",
    "    train_data09_merge_label_df['ORG_NO'].str.slice(0,truncate_len)"
   ]
  },
  {
   "cell_type": "code",
   "execution_count": 10,
   "metadata": {
    "collapsed": true
   },
   "outputs": [
    {
     "name": "stdout",
     "output_type": "stream",
     "text": [
      "CPU times: user 29 s, sys: 256 ms, total: 29.3 s\n",
      "Wall time: 29.2 s\n"
     ]
    }
   ],
   "source": [
    "%%time\n",
    "temp = train_data09_merge_label_df.groupby('CONS_NO')['ORG_NO_9bit'].apply(lambda x :len(set(x)))\n",
    "temp[temp>1].head()"
   ]
  },
  {
   "cell_type": "markdown",
   "metadata": {},
   "source": [
    "##### 增加字段 ORG_NO_7/9bit"
   ]
  },
  {
   "cell_type": "code",
   "execution_count": 3,
   "metadata": {
    "collapsed": false
   },
   "outputs": [
    {
     "name": "stdout",
     "output_type": "stream",
     "text": [
      "CPU times: user 35.8 s, sys: 588 ms, total: 36.4 s\n",
      "Wall time: 37.6 s\n"
     ]
    }
   ],
   "source": [
    "%%time\n",
    "truncate_len = 100\n",
    "train_data09_cons_no_truncate_org_no_series = train_data09_merge_label_df.groupby(\n",
    "        by='CONS_NO',axis=0)['ORG_NO'].apply(lambda x : truncate_org_no(x, truncate_len=truncate_len))"
   ]
  },
  {
   "cell_type": "code",
   "execution_count": 4,
   "metadata": {
    "collapsed": true
   },
   "outputs": [],
   "source": [
    "train_data09_merge_label_df['ORG_NO_%dbit'%truncate_len] = \\\n",
    "    train_data09_merge_label_df['CONS_NO'].map(train_data09_cons_no_truncate_org_no_series)"
   ]
  },
  {
   "cell_type": "code",
   "execution_count": 7,
   "metadata": {
    "collapsed": true
   },
   "outputs": [
    {
     "data": {
      "text/html": [
       "<div>\n",
       "<table border=\"1\" class=\"dataframe\">\n",
       "  <thead>\n",
       "    <tr style=\"text-align: right;\">\n",
       "      <th></th>\n",
       "      <th>CONS_NO</th>\n",
       "      <th>RCVBL_YM</th>\n",
       "      <th>ORG_NO</th>\n",
       "      <th>PAY_MODE</th>\n",
       "      <th>T_PQ</th>\n",
       "      <th>RCVBL_AMT</th>\n",
       "      <th>RCVED_AMT</th>\n",
       "      <th>STATUS_CODE</th>\n",
       "      <th>RCVBL_PENALTY</th>\n",
       "      <th>RCVED_PENALTY</th>\n",
       "      <th>RISK_LEVEL_CODE</th>\n",
       "      <th>OWE_AMT</th>\n",
       "      <th>CONS_SORT_CODE</th>\n",
       "      <th>ELEC_TYPE_CODE</th>\n",
       "      <th>CTL_MODE</th>\n",
       "      <th>CUST_NO</th>\n",
       "      <th>TAG</th>\n",
       "      <th>MONEY_PER_DEGREE</th>\n",
       "      <th>ORG_NO_100bit</th>\n",
       "    </tr>\n",
       "  </thead>\n",
       "  <tbody>\n",
       "    <tr>\n",
       "      <th>6466644</th>\n",
       "      <td>3514546948</td>\n",
       "      <td>201502</td>\n",
       "      <td>334083001</td>\n",
       "      <td>020311</td>\n",
       "      <td>80</td>\n",
       "      <td>38.44</td>\n",
       "      <td>38.44</td>\n",
       "      <td>1</td>\n",
       "      <td>0.0</td>\n",
       "      <td>0.0</td>\n",
       "      <td>NaN</td>\n",
       "      <td>38.44</td>\n",
       "      <td>3.0</td>\n",
       "      <td>201.0</td>\n",
       "      <td>NaN</td>\n",
       "      <td>NaN</td>\n",
       "      <td>0</td>\n",
       "      <td>0.480500</td>\n",
       "      <td>334083001</td>\n",
       "    </tr>\n",
       "    <tr>\n",
       "      <th>6466645</th>\n",
       "      <td>3514446958</td>\n",
       "      <td>201502</td>\n",
       "      <td>334083001</td>\n",
       "      <td>010101</td>\n",
       "      <td>1085</td>\n",
       "      <td>1026.41</td>\n",
       "      <td>1026.41</td>\n",
       "      <td>1</td>\n",
       "      <td>0.0</td>\n",
       "      <td>0.0</td>\n",
       "      <td>NaN</td>\n",
       "      <td>1026.41</td>\n",
       "      <td>2.0</td>\n",
       "      <td>405.0</td>\n",
       "      <td>NaN</td>\n",
       "      <td>NaN</td>\n",
       "      <td>0</td>\n",
       "      <td>0.946000</td>\n",
       "      <td>334083001</td>\n",
       "    </tr>\n",
       "    <tr>\n",
       "      <th>6466646</th>\n",
       "      <td>3520025396</td>\n",
       "      <td>201502</td>\n",
       "      <td>334083001</td>\n",
       "      <td>010101</td>\n",
       "      <td>0</td>\n",
       "      <td>0.00</td>\n",
       "      <td>0.00</td>\n",
       "      <td>1</td>\n",
       "      <td>0.0</td>\n",
       "      <td>0.0</td>\n",
       "      <td>NaN</td>\n",
       "      <td>0.00</td>\n",
       "      <td>2.0</td>\n",
       "      <td>202.0</td>\n",
       "      <td>NaN</td>\n",
       "      <td>NaN</td>\n",
       "      <td>0</td>\n",
       "      <td>0.000000</td>\n",
       "      <td>334083001</td>\n",
       "    </tr>\n",
       "    <tr>\n",
       "      <th>6466647</th>\n",
       "      <td>3516001447</td>\n",
       "      <td>201502</td>\n",
       "      <td>334083001</td>\n",
       "      <td>020311</td>\n",
       "      <td>795</td>\n",
       "      <td>380.72</td>\n",
       "      <td>380.72</td>\n",
       "      <td>1</td>\n",
       "      <td>0.0</td>\n",
       "      <td>0.0</td>\n",
       "      <td>NaN</td>\n",
       "      <td>380.72</td>\n",
       "      <td>3.0</td>\n",
       "      <td>201.0</td>\n",
       "      <td>NaN</td>\n",
       "      <td>NaN</td>\n",
       "      <td>0</td>\n",
       "      <td>0.478893</td>\n",
       "      <td>334083001</td>\n",
       "    </tr>\n",
       "    <tr>\n",
       "      <th>6466648</th>\n",
       "      <td>3516001531</td>\n",
       "      <td>201502</td>\n",
       "      <td>334083001</td>\n",
       "      <td>020311</td>\n",
       "      <td>1374</td>\n",
       "      <td>1299.80</td>\n",
       "      <td>1299.80</td>\n",
       "      <td>1</td>\n",
       "      <td>0.0</td>\n",
       "      <td>0.0</td>\n",
       "      <td>NaN</td>\n",
       "      <td>1299.80</td>\n",
       "      <td>2.0</td>\n",
       "      <td>405.0</td>\n",
       "      <td>NaN</td>\n",
       "      <td>NaN</td>\n",
       "      <td>0</td>\n",
       "      <td>0.945997</td>\n",
       "      <td>334083001</td>\n",
       "    </tr>\n",
       "    <tr>\n",
       "      <th>6466649</th>\n",
       "      <td>3516000956</td>\n",
       "      <td>201502</td>\n",
       "      <td>334083001</td>\n",
       "      <td>020311</td>\n",
       "      <td>22</td>\n",
       "      <td>9.42</td>\n",
       "      <td>9.42</td>\n",
       "      <td>1</td>\n",
       "      <td>0.0</td>\n",
       "      <td>0.0</td>\n",
       "      <td>NaN</td>\n",
       "      <td>9.42</td>\n",
       "      <td>3.0</td>\n",
       "      <td>201.0</td>\n",
       "      <td>NaN</td>\n",
       "      <td>NaN</td>\n",
       "      <td>0</td>\n",
       "      <td>0.428182</td>\n",
       "      <td>334083001</td>\n",
       "    </tr>\n",
       "    <tr>\n",
       "      <th>6466650</th>\n",
       "      <td>3514518123</td>\n",
       "      <td>201502</td>\n",
       "      <td>334083001</td>\n",
       "      <td>020311</td>\n",
       "      <td>0</td>\n",
       "      <td>50.00</td>\n",
       "      <td>50.00</td>\n",
       "      <td>1</td>\n",
       "      <td>0.0</td>\n",
       "      <td>0.0</td>\n",
       "      <td>NaN</td>\n",
       "      <td>50.00</td>\n",
       "      <td>NaN</td>\n",
       "      <td>NaN</td>\n",
       "      <td>NaN</td>\n",
       "      <td>NaN</td>\n",
       "      <td>0</td>\n",
       "      <td>inf</td>\n",
       "      <td>334083001</td>\n",
       "    </tr>\n",
       "    <tr>\n",
       "      <th>6466651</th>\n",
       "      <td>3514518123</td>\n",
       "      <td>201502</td>\n",
       "      <td>334083001</td>\n",
       "      <td>020311</td>\n",
       "      <td>0</td>\n",
       "      <td>50.00</td>\n",
       "      <td>50.00</td>\n",
       "      <td>1</td>\n",
       "      <td>0.0</td>\n",
       "      <td>0.0</td>\n",
       "      <td>NaN</td>\n",
       "      <td>50.00</td>\n",
       "      <td>NaN</td>\n",
       "      <td>NaN</td>\n",
       "      <td>NaN</td>\n",
       "      <td>NaN</td>\n",
       "      <td>0</td>\n",
       "      <td>inf</td>\n",
       "      <td>334083001</td>\n",
       "    </tr>\n",
       "    <tr>\n",
       "      <th>6466652</th>\n",
       "      <td>3514518123</td>\n",
       "      <td>201502</td>\n",
       "      <td>334083001</td>\n",
       "      <td>020311</td>\n",
       "      <td>0</td>\n",
       "      <td>50.00</td>\n",
       "      <td>50.00</td>\n",
       "      <td>1</td>\n",
       "      <td>0.0</td>\n",
       "      <td>0.0</td>\n",
       "      <td>NaN</td>\n",
       "      <td>50.00</td>\n",
       "      <td>NaN</td>\n",
       "      <td>NaN</td>\n",
       "      <td>NaN</td>\n",
       "      <td>NaN</td>\n",
       "      <td>0</td>\n",
       "      <td>inf</td>\n",
       "      <td>334083001</td>\n",
       "    </tr>\n",
       "    <tr>\n",
       "      <th>6466653</th>\n",
       "      <td>3514518123</td>\n",
       "      <td>201502</td>\n",
       "      <td>334083001</td>\n",
       "      <td>020311</td>\n",
       "      <td>0</td>\n",
       "      <td>50.00</td>\n",
       "      <td>50.00</td>\n",
       "      <td>1</td>\n",
       "      <td>0.0</td>\n",
       "      <td>0.0</td>\n",
       "      <td>NaN</td>\n",
       "      <td>50.00</td>\n",
       "      <td>NaN</td>\n",
       "      <td>NaN</td>\n",
       "      <td>NaN</td>\n",
       "      <td>NaN</td>\n",
       "      <td>0</td>\n",
       "      <td>inf</td>\n",
       "      <td>334083001</td>\n",
       "    </tr>\n",
       "  </tbody>\n",
       "</table>\n",
       "</div>"
      ],
      "text/plain": [
       "            CONS_NO  RCVBL_YM     ORG_NO PAY_MODE  T_PQ  RCVBL_AMT  RCVED_AMT  \\\n",
       "6466644  3514546948    201502  334083001   020311    80      38.44      38.44   \n",
       "6466645  3514446958    201502  334083001   010101  1085    1026.41    1026.41   \n",
       "6466646  3520025396    201502  334083001   010101     0       0.00       0.00   \n",
       "6466647  3516001447    201502  334083001   020311   795     380.72     380.72   \n",
       "6466648  3516001531    201502  334083001   020311  1374    1299.80    1299.80   \n",
       "6466649  3516000956    201502  334083001   020311    22       9.42       9.42   \n",
       "6466650  3514518123    201502  334083001   020311     0      50.00      50.00   \n",
       "6466651  3514518123    201502  334083001   020311     0      50.00      50.00   \n",
       "6466652  3514518123    201502  334083001   020311     0      50.00      50.00   \n",
       "6466653  3514518123    201502  334083001   020311     0      50.00      50.00   \n",
       "\n",
       "         STATUS_CODE  RCVBL_PENALTY  RCVED_PENALTY  RISK_LEVEL_CODE  OWE_AMT  \\\n",
       "6466644            1            0.0            0.0              NaN    38.44   \n",
       "6466645            1            0.0            0.0              NaN  1026.41   \n",
       "6466646            1            0.0            0.0              NaN     0.00   \n",
       "6466647            1            0.0            0.0              NaN   380.72   \n",
       "6466648            1            0.0            0.0              NaN  1299.80   \n",
       "6466649            1            0.0            0.0              NaN     9.42   \n",
       "6466650            1            0.0            0.0              NaN    50.00   \n",
       "6466651            1            0.0            0.0              NaN    50.00   \n",
       "6466652            1            0.0            0.0              NaN    50.00   \n",
       "6466653            1            0.0            0.0              NaN    50.00   \n",
       "\n",
       "         CONS_SORT_CODE  ELEC_TYPE_CODE  CTL_MODE CUST_NO  TAG  \\\n",
       "6466644             3.0           201.0       NaN     NaN    0   \n",
       "6466645             2.0           405.0       NaN     NaN    0   \n",
       "6466646             2.0           202.0       NaN     NaN    0   \n",
       "6466647             3.0           201.0       NaN     NaN    0   \n",
       "6466648             2.0           405.0       NaN     NaN    0   \n",
       "6466649             3.0           201.0       NaN     NaN    0   \n",
       "6466650             NaN             NaN       NaN     NaN    0   \n",
       "6466651             NaN             NaN       NaN     NaN    0   \n",
       "6466652             NaN             NaN       NaN     NaN    0   \n",
       "6466653             NaN             NaN       NaN     NaN    0   \n",
       "\n",
       "         MONEY_PER_DEGREE ORG_NO_100bit  \n",
       "6466644          0.480500     334083001  \n",
       "6466645          0.946000     334083001  \n",
       "6466646          0.000000     334083001  \n",
       "6466647          0.478893     334083001  \n",
       "6466648          0.945997     334083001  \n",
       "6466649          0.428182     334083001  \n",
       "6466650               inf     334083001  \n",
       "6466651               inf     334083001  \n",
       "6466652               inf     334083001  \n",
       "6466653               inf     334083001  "
      ]
     },
     "execution_count": 7,
     "metadata": {},
     "output_type": "execute_result"
    }
   ],
   "source": [
    "train_data09_merge_label_df[-10:]"
   ]
  },
  {
   "cell_type": "code",
   "execution_count": 8,
   "metadata": {
    "collapsed": false
   },
   "outputs": [
    {
     "data": {
      "text/plain": [
       "(555748, 3)"
      ]
     },
     "execution_count": 8,
     "metadata": {},
     "output_type": "execute_result"
    }
   ],
   "source": [
    "# 输出是 555748 才是正确\n",
    "train_data09_merge_label_df[['CONS_NO','ORG_NO_100bit','TAG']].drop_duplicates().shape"
   ]
  },
  {
   "cell_type": "markdown",
   "metadata": {},
   "source": [
    "###### 统计"
   ]
  },
  {
   "cell_type": "code",
   "execution_count": 28,
   "metadata": {
    "collapsed": true
   },
   "outputs": [
    {
     "name": "stdout",
     "output_type": "stream",
     "text": [
      "(105, 5)\n"
     ]
    },
    {
     "data": {
      "text/html": [
       "<div>\n",
       "<table border=\"1\" class=\"dataframe\">\n",
       "  <thead>\n",
       "    <tr style=\"text-align: right;\">\n",
       "      <th></th>\n",
       "      <th>total</th>\n",
       "      <th>tag0</th>\n",
       "      <th>tag0/total</th>\n",
       "      <th>tag1</th>\n",
       "      <th>tag1/total</th>\n",
       "    </tr>\n",
       "  </thead>\n",
       "  <tbody>\n",
       "    <tr>\n",
       "      <th>3340101</th>\n",
       "      <td>36</td>\n",
       "      <td>25</td>\n",
       "      <td>0.694444</td>\n",
       "      <td>11.0</td>\n",
       "      <td>0.305556</td>\n",
       "    </tr>\n",
       "    <tr>\n",
       "      <th>334010101</th>\n",
       "      <td>19189</td>\n",
       "      <td>15612</td>\n",
       "      <td>0.813591</td>\n",
       "      <td>3577.0</td>\n",
       "      <td>0.186409</td>\n",
       "    </tr>\n",
       "    <tr>\n",
       "      <th>334010102</th>\n",
       "      <td>20234</td>\n",
       "      <td>15505</td>\n",
       "      <td>0.766284</td>\n",
       "      <td>4729.0</td>\n",
       "      <td>0.233716</td>\n",
       "    </tr>\n",
       "    <tr>\n",
       "      <th>334010103</th>\n",
       "      <td>9703</td>\n",
       "      <td>7540</td>\n",
       "      <td>0.777079</td>\n",
       "      <td>2163.0</td>\n",
       "      <td>0.222921</td>\n",
       "    </tr>\n",
       "    <tr>\n",
       "      <th>334010104</th>\n",
       "      <td>34956</td>\n",
       "      <td>27809</td>\n",
       "      <td>0.795543</td>\n",
       "      <td>7147.0</td>\n",
       "      <td>0.204457</td>\n",
       "    </tr>\n",
       "    <tr>\n",
       "      <th>334010105</th>\n",
       "      <td>14832</td>\n",
       "      <td>11832</td>\n",
       "      <td>0.797735</td>\n",
       "      <td>3000.0</td>\n",
       "      <td>0.202265</td>\n",
       "    </tr>\n",
       "    <tr>\n",
       "      <th>334010106</th>\n",
       "      <td>18000</td>\n",
       "      <td>14507</td>\n",
       "      <td>0.805944</td>\n",
       "      <td>3493.0</td>\n",
       "      <td>0.194056</td>\n",
       "    </tr>\n",
       "    <tr>\n",
       "      <th>334010107</th>\n",
       "      <td>1507</td>\n",
       "      <td>1320</td>\n",
       "      <td>0.875912</td>\n",
       "      <td>187.0</td>\n",
       "      <td>0.124088</td>\n",
       "    </tr>\n",
       "    <tr>\n",
       "      <th>334010108</th>\n",
       "      <td>12000</td>\n",
       "      <td>10189</td>\n",
       "      <td>0.849083</td>\n",
       "      <td>1811.0</td>\n",
       "      <td>0.150917</td>\n",
       "    </tr>\n",
       "    <tr>\n",
       "      <th>334010109</th>\n",
       "      <td>692</td>\n",
       "      <td>392</td>\n",
       "      <td>0.566474</td>\n",
       "      <td>300.0</td>\n",
       "      <td>0.433526</td>\n",
       "    </tr>\n",
       "    <tr>\n",
       "      <th>334010110</th>\n",
       "      <td>17335</td>\n",
       "      <td>13159</td>\n",
       "      <td>0.759100</td>\n",
       "      <td>4176.0</td>\n",
       "      <td>0.240900</td>\n",
       "    </tr>\n",
       "    <tr>\n",
       "      <th>334013001</th>\n",
       "      <td>19044</td>\n",
       "      <td>16768</td>\n",
       "      <td>0.880487</td>\n",
       "      <td>2276.0</td>\n",
       "      <td>0.119513</td>\n",
       "    </tr>\n",
       "    <tr>\n",
       "      <th>334014001</th>\n",
       "      <td>21607</td>\n",
       "      <td>18997</td>\n",
       "      <td>0.879206</td>\n",
       "      <td>2610.0</td>\n",
       "      <td>0.120794</td>\n",
       "    </tr>\n",
       "    <tr>\n",
       "      <th>334015001</th>\n",
       "      <td>3521</td>\n",
       "      <td>3222</td>\n",
       "      <td>0.915081</td>\n",
       "      <td>299.0</td>\n",
       "      <td>0.084919</td>\n",
       "    </tr>\n",
       "    <tr>\n",
       "      <th>334016001</th>\n",
       "      <td>5022</td>\n",
       "      <td>4516</td>\n",
       "      <td>0.899243</td>\n",
       "      <td>506.0</td>\n",
       "      <td>0.100757</td>\n",
       "    </tr>\n",
       "    <tr>\n",
       "      <th>334017001</th>\n",
       "      <td>7242</td>\n",
       "      <td>6503</td>\n",
       "      <td>0.897956</td>\n",
       "      <td>739.0</td>\n",
       "      <td>0.102044</td>\n",
       "    </tr>\n",
       "    <tr>\n",
       "      <th>334018001</th>\n",
       "      <td>3019</td>\n",
       "      <td>2764</td>\n",
       "      <td>0.915535</td>\n",
       "      <td>255.0</td>\n",
       "      <td>0.084465</td>\n",
       "    </tr>\n",
       "    <tr>\n",
       "      <th>334019001</th>\n",
       "      <td>2756</td>\n",
       "      <td>2497</td>\n",
       "      <td>0.906023</td>\n",
       "      <td>259.0</td>\n",
       "      <td>0.093977</td>\n",
       "    </tr>\n",
       "    <tr>\n",
       "      <th>3340201</th>\n",
       "      <td>14</td>\n",
       "      <td>8</td>\n",
       "      <td>0.571429</td>\n",
       "      <td>6.0</td>\n",
       "      <td>0.428571</td>\n",
       "    </tr>\n",
       "    <tr>\n",
       "      <th>334020102</th>\n",
       "      <td>1359</td>\n",
       "      <td>1233</td>\n",
       "      <td>0.907285</td>\n",
       "      <td>126.0</td>\n",
       "      <td>0.092715</td>\n",
       "    </tr>\n",
       "    <tr>\n",
       "      <th>334020106</th>\n",
       "      <td>11580</td>\n",
       "      <td>9980</td>\n",
       "      <td>0.861831</td>\n",
       "      <td>1600.0</td>\n",
       "      <td>0.138169</td>\n",
       "    </tr>\n",
       "    <tr>\n",
       "      <th>334020108</th>\n",
       "      <td>7002</td>\n",
       "      <td>6285</td>\n",
       "      <td>0.897601</td>\n",
       "      <td>717.0</td>\n",
       "      <td>0.102399</td>\n",
       "    </tr>\n",
       "    <tr>\n",
       "      <th>334021001</th>\n",
       "      <td>5347</td>\n",
       "      <td>4747</td>\n",
       "      <td>0.887788</td>\n",
       "      <td>600.0</td>\n",
       "      <td>0.112212</td>\n",
       "    </tr>\n",
       "    <tr>\n",
       "      <th>334022001</th>\n",
       "      <td>7029</td>\n",
       "      <td>6256</td>\n",
       "      <td>0.890027</td>\n",
       "      <td>773.0</td>\n",
       "      <td>0.109973</td>\n",
       "    </tr>\n",
       "    <tr>\n",
       "      <th>334023001</th>\n",
       "      <td>4382</td>\n",
       "      <td>3951</td>\n",
       "      <td>0.901643</td>\n",
       "      <td>431.0</td>\n",
       "      <td>0.098357</td>\n",
       "    </tr>\n",
       "    <tr>\n",
       "      <th>334024001</th>\n",
       "      <td>2556</td>\n",
       "      <td>2352</td>\n",
       "      <td>0.920188</td>\n",
       "      <td>204.0</td>\n",
       "      <td>0.079812</td>\n",
       "    </tr>\n",
       "    <tr>\n",
       "      <th>334025001</th>\n",
       "      <td>2582</td>\n",
       "      <td>2346</td>\n",
       "      <td>0.908598</td>\n",
       "      <td>236.0</td>\n",
       "      <td>0.091402</td>\n",
       "    </tr>\n",
       "    <tr>\n",
       "      <th>334030101</th>\n",
       "      <td>16084</td>\n",
       "      <td>14199</td>\n",
       "      <td>0.882803</td>\n",
       "      <td>1885.0</td>\n",
       "      <td>0.117197</td>\n",
       "    </tr>\n",
       "    <tr>\n",
       "      <th>334030102</th>\n",
       "      <td>7988</td>\n",
       "      <td>7044</td>\n",
       "      <td>0.881823</td>\n",
       "      <td>944.0</td>\n",
       "      <td>0.118177</td>\n",
       "    </tr>\n",
       "    <tr>\n",
       "      <th>334030103</th>\n",
       "      <td>3167</td>\n",
       "      <td>2796</td>\n",
       "      <td>0.882854</td>\n",
       "      <td>371.0</td>\n",
       "      <td>0.117146</td>\n",
       "    </tr>\n",
       "    <tr>\n",
       "      <th>...</th>\n",
       "      <td>...</td>\n",
       "      <td>...</td>\n",
       "      <td>...</td>\n",
       "      <td>...</td>\n",
       "      <td>...</td>\n",
       "    </tr>\n",
       "    <tr>\n",
       "      <th>334077001</th>\n",
       "      <td>477</td>\n",
       "      <td>444</td>\n",
       "      <td>0.930818</td>\n",
       "      <td>33.0</td>\n",
       "      <td>0.069182</td>\n",
       "    </tr>\n",
       "    <tr>\n",
       "      <th>334078001</th>\n",
       "      <td>2239</td>\n",
       "      <td>2064</td>\n",
       "      <td>0.921840</td>\n",
       "      <td>175.0</td>\n",
       "      <td>0.078160</td>\n",
       "    </tr>\n",
       "    <tr>\n",
       "      <th>334079001</th>\n",
       "      <td>1909</td>\n",
       "      <td>1706</td>\n",
       "      <td>0.893662</td>\n",
       "      <td>203.0</td>\n",
       "      <td>0.106338</td>\n",
       "    </tr>\n",
       "    <tr>\n",
       "      <th>3340801</th>\n",
       "      <td>9</td>\n",
       "      <td>9</td>\n",
       "      <td>1.000000</td>\n",
       "      <td>0.0</td>\n",
       "      <td>0.000000</td>\n",
       "    </tr>\n",
       "    <tr>\n",
       "      <th>334080101</th>\n",
       "      <td>18233</td>\n",
       "      <td>16077</td>\n",
       "      <td>0.881753</td>\n",
       "      <td>2156.0</td>\n",
       "      <td>0.118247</td>\n",
       "    </tr>\n",
       "    <tr>\n",
       "      <th>334080102</th>\n",
       "      <td>4093</td>\n",
       "      <td>3691</td>\n",
       "      <td>0.901784</td>\n",
       "      <td>402.0</td>\n",
       "      <td>0.098216</td>\n",
       "    </tr>\n",
       "    <tr>\n",
       "      <th>334081001</th>\n",
       "      <td>4245</td>\n",
       "      <td>3763</td>\n",
       "      <td>0.886455</td>\n",
       "      <td>482.0</td>\n",
       "      <td>0.113545</td>\n",
       "    </tr>\n",
       "    <tr>\n",
       "      <th>334082001</th>\n",
       "      <td>6038</td>\n",
       "      <td>5272</td>\n",
       "      <td>0.873137</td>\n",
       "      <td>766.0</td>\n",
       "      <td>0.126863</td>\n",
       "    </tr>\n",
       "    <tr>\n",
       "      <th>334083001</th>\n",
       "      <td>4876</td>\n",
       "      <td>4427</td>\n",
       "      <td>0.907916</td>\n",
       "      <td>449.0</td>\n",
       "      <td>0.092084</td>\n",
       "    </tr>\n",
       "    <tr>\n",
       "      <th>3340901</th>\n",
       "      <td>10</td>\n",
       "      <td>4</td>\n",
       "      <td>0.400000</td>\n",
       "      <td>6.0</td>\n",
       "      <td>0.600000</td>\n",
       "    </tr>\n",
       "    <tr>\n",
       "      <th>334090101</th>\n",
       "      <td>3</td>\n",
       "      <td>3</td>\n",
       "      <td>1.000000</td>\n",
       "      <td>0.0</td>\n",
       "      <td>0.000000</td>\n",
       "    </tr>\n",
       "    <tr>\n",
       "      <th>334091001</th>\n",
       "      <td>7</td>\n",
       "      <td>6</td>\n",
       "      <td>0.857143</td>\n",
       "      <td>1.0</td>\n",
       "      <td>0.142857</td>\n",
       "    </tr>\n",
       "    <tr>\n",
       "      <th>334092001</th>\n",
       "      <td>11</td>\n",
       "      <td>10</td>\n",
       "      <td>0.909091</td>\n",
       "      <td>1.0</td>\n",
       "      <td>0.090909</td>\n",
       "    </tr>\n",
       "    <tr>\n",
       "      <th>334093001</th>\n",
       "      <td>6</td>\n",
       "      <td>6</td>\n",
       "      <td>1.000000</td>\n",
       "      <td>0.0</td>\n",
       "      <td>0.000000</td>\n",
       "    </tr>\n",
       "    <tr>\n",
       "      <th>334094001</th>\n",
       "      <td>8</td>\n",
       "      <td>6</td>\n",
       "      <td>0.750000</td>\n",
       "      <td>2.0</td>\n",
       "      <td>0.250000</td>\n",
       "    </tr>\n",
       "    <tr>\n",
       "      <th>334100101</th>\n",
       "      <td>13</td>\n",
       "      <td>13</td>\n",
       "      <td>1.000000</td>\n",
       "      <td>0.0</td>\n",
       "      <td>0.000000</td>\n",
       "    </tr>\n",
       "    <tr>\n",
       "      <th>334100102</th>\n",
       "      <td>12</td>\n",
       "      <td>12</td>\n",
       "      <td>1.000000</td>\n",
       "      <td>0.0</td>\n",
       "      <td>0.000000</td>\n",
       "    </tr>\n",
       "    <tr>\n",
       "      <th>334100103</th>\n",
       "      <td>31</td>\n",
       "      <td>26</td>\n",
       "      <td>0.838710</td>\n",
       "      <td>5.0</td>\n",
       "      <td>0.161290</td>\n",
       "    </tr>\n",
       "    <tr>\n",
       "      <th>334101001</th>\n",
       "      <td>5</td>\n",
       "      <td>4</td>\n",
       "      <td>0.800000</td>\n",
       "      <td>1.0</td>\n",
       "      <td>0.200000</td>\n",
       "    </tr>\n",
       "    <tr>\n",
       "      <th>334102001</th>\n",
       "      <td>3</td>\n",
       "      <td>3</td>\n",
       "      <td>1.000000</td>\n",
       "      <td>0.0</td>\n",
       "      <td>0.000000</td>\n",
       "    </tr>\n",
       "    <tr>\n",
       "      <th>334103001</th>\n",
       "      <td>7</td>\n",
       "      <td>5</td>\n",
       "      <td>0.714286</td>\n",
       "      <td>2.0</td>\n",
       "      <td>0.285714</td>\n",
       "    </tr>\n",
       "    <tr>\n",
       "      <th>334104001</th>\n",
       "      <td>6</td>\n",
       "      <td>4</td>\n",
       "      <td>0.666667</td>\n",
       "      <td>2.0</td>\n",
       "      <td>0.333333</td>\n",
       "    </tr>\n",
       "    <tr>\n",
       "      <th>334105001</th>\n",
       "      <td>4</td>\n",
       "      <td>3</td>\n",
       "      <td>0.750000</td>\n",
       "      <td>1.0</td>\n",
       "      <td>0.250000</td>\n",
       "    </tr>\n",
       "    <tr>\n",
       "      <th>334106001</th>\n",
       "      <td>4</td>\n",
       "      <td>4</td>\n",
       "      <td>1.000000</td>\n",
       "      <td>0.0</td>\n",
       "      <td>0.000000</td>\n",
       "    </tr>\n",
       "    <tr>\n",
       "      <th>334107001</th>\n",
       "      <td>12</td>\n",
       "      <td>11</td>\n",
       "      <td>0.916667</td>\n",
       "      <td>1.0</td>\n",
       "      <td>0.083333</td>\n",
       "    </tr>\n",
       "    <tr>\n",
       "      <th>334108001</th>\n",
       "      <td>2</td>\n",
       "      <td>2</td>\n",
       "      <td>1.000000</td>\n",
       "      <td>0.0</td>\n",
       "      <td>0.000000</td>\n",
       "    </tr>\n",
       "    <tr>\n",
       "      <th>334110101</th>\n",
       "      <td>9</td>\n",
       "      <td>8</td>\n",
       "      <td>0.888889</td>\n",
       "      <td>1.0</td>\n",
       "      <td>0.111111</td>\n",
       "    </tr>\n",
       "    <tr>\n",
       "      <th>334110102</th>\n",
       "      <td>2</td>\n",
       "      <td>2</td>\n",
       "      <td>1.000000</td>\n",
       "      <td>0.0</td>\n",
       "      <td>0.000000</td>\n",
       "    </tr>\n",
       "    <tr>\n",
       "      <th>334111001</th>\n",
       "      <td>4</td>\n",
       "      <td>4</td>\n",
       "      <td>1.000000</td>\n",
       "      <td>0.0</td>\n",
       "      <td>0.000000</td>\n",
       "    </tr>\n",
       "    <tr>\n",
       "      <th>334112001</th>\n",
       "      <td>3</td>\n",
       "      <td>3</td>\n",
       "      <td>1.000000</td>\n",
       "      <td>0.0</td>\n",
       "      <td>0.000000</td>\n",
       "    </tr>\n",
       "  </tbody>\n",
       "</table>\n",
       "<p>105 rows × 5 columns</p>\n",
       "</div>"
      ],
      "text/plain": [
       "           total   tag0  tag0/total    tag1  tag1/total\n",
       "3340101       36     25    0.694444    11.0    0.305556\n",
       "334010101  19189  15612    0.813591  3577.0    0.186409\n",
       "334010102  20234  15505    0.766284  4729.0    0.233716\n",
       "334010103   9703   7540    0.777079  2163.0    0.222921\n",
       "334010104  34956  27809    0.795543  7147.0    0.204457\n",
       "334010105  14832  11832    0.797735  3000.0    0.202265\n",
       "334010106  18000  14507    0.805944  3493.0    0.194056\n",
       "334010107   1507   1320    0.875912   187.0    0.124088\n",
       "334010108  12000  10189    0.849083  1811.0    0.150917\n",
       "334010109    692    392    0.566474   300.0    0.433526\n",
       "334010110  17335  13159    0.759100  4176.0    0.240900\n",
       "334013001  19044  16768    0.880487  2276.0    0.119513\n",
       "334014001  21607  18997    0.879206  2610.0    0.120794\n",
       "334015001   3521   3222    0.915081   299.0    0.084919\n",
       "334016001   5022   4516    0.899243   506.0    0.100757\n",
       "334017001   7242   6503    0.897956   739.0    0.102044\n",
       "334018001   3019   2764    0.915535   255.0    0.084465\n",
       "334019001   2756   2497    0.906023   259.0    0.093977\n",
       "3340201       14      8    0.571429     6.0    0.428571\n",
       "334020102   1359   1233    0.907285   126.0    0.092715\n",
       "334020106  11580   9980    0.861831  1600.0    0.138169\n",
       "334020108   7002   6285    0.897601   717.0    0.102399\n",
       "334021001   5347   4747    0.887788   600.0    0.112212\n",
       "334022001   7029   6256    0.890027   773.0    0.109973\n",
       "334023001   4382   3951    0.901643   431.0    0.098357\n",
       "334024001   2556   2352    0.920188   204.0    0.079812\n",
       "334025001   2582   2346    0.908598   236.0    0.091402\n",
       "334030101  16084  14199    0.882803  1885.0    0.117197\n",
       "334030102   7988   7044    0.881823   944.0    0.118177\n",
       "334030103   3167   2796    0.882854   371.0    0.117146\n",
       "...          ...    ...         ...     ...         ...\n",
       "334077001    477    444    0.930818    33.0    0.069182\n",
       "334078001   2239   2064    0.921840   175.0    0.078160\n",
       "334079001   1909   1706    0.893662   203.0    0.106338\n",
       "3340801        9      9    1.000000     0.0    0.000000\n",
       "334080101  18233  16077    0.881753  2156.0    0.118247\n",
       "334080102   4093   3691    0.901784   402.0    0.098216\n",
       "334081001   4245   3763    0.886455   482.0    0.113545\n",
       "334082001   6038   5272    0.873137   766.0    0.126863\n",
       "334083001   4876   4427    0.907916   449.0    0.092084\n",
       "3340901       10      4    0.400000     6.0    0.600000\n",
       "334090101      3      3    1.000000     0.0    0.000000\n",
       "334091001      7      6    0.857143     1.0    0.142857\n",
       "334092001     11     10    0.909091     1.0    0.090909\n",
       "334093001      6      6    1.000000     0.0    0.000000\n",
       "334094001      8      6    0.750000     2.0    0.250000\n",
       "334100101     13     13    1.000000     0.0    0.000000\n",
       "334100102     12     12    1.000000     0.0    0.000000\n",
       "334100103     31     26    0.838710     5.0    0.161290\n",
       "334101001      5      4    0.800000     1.0    0.200000\n",
       "334102001      3      3    1.000000     0.0    0.000000\n",
       "334103001      7      5    0.714286     2.0    0.285714\n",
       "334104001      6      4    0.666667     2.0    0.333333\n",
       "334105001      4      3    0.750000     1.0    0.250000\n",
       "334106001      4      4    1.000000     0.0    0.000000\n",
       "334107001     12     11    0.916667     1.0    0.083333\n",
       "334108001      2      2    1.000000     0.0    0.000000\n",
       "334110101      9      8    0.888889     1.0    0.111111\n",
       "334110102      2      2    1.000000     0.0    0.000000\n",
       "334111001      4      4    1.000000     0.0    0.000000\n",
       "334112001      3      3    1.000000     0.0    0.000000\n",
       "\n",
       "[105 rows x 5 columns]"
      ]
     },
     "execution_count": 28,
     "metadata": {},
     "output_type": "execute_result"
    }
   ],
   "source": [
    "train_a_worker_per_user_org_no_count_df = show_attribute_detail(\n",
    "    train_data09_merge_label_df[['ORG_NO_%dbit'%truncate_len,'CONS_NO','TAG']].drop_duplicates(),\n",
    "    'ORG_NO_%dbit'%truncate_len,\n",
    "    split_by_tag=True, \n",
    "    tag_name='TAG', \n",
    "    show_pic=False\n",
    ")\n",
    "train_a_worker_per_user_org_no_count_df"
   ]
  },
  {
   "cell_type": "markdown",
   "metadata": {},
   "source": [
    "##### 添加到 train_data01_a_worker_per_user中"
   ]
  },
  {
   "cell_type": "code",
   "execution_count": 9,
   "metadata": {
    "collapsed": false
   },
   "outputs": [
    {
     "name": "stdout",
     "output_type": "stream",
     "text": [
      "(658374, 62) 102626\n",
      "CPU times: user 4.13 s, sys: 380 ms, total: 4.51 s\n",
      "Wall time: 5.09 s\n"
     ]
    }
   ],
   "source": [
    "%%time\n",
    "temp = train_data01_a_worker_per_user.merge(\n",
    "    train_data09_merge_label_df[['ORG_NO_%dbit'%truncate_len,'CONS_NO']].drop_duplicates(),\n",
    "    how='left', \n",
    "    left_on='CUST_NO',\n",
    "    right_on='CONS_NO',\n",
    ")\n",
    "print temp.shape,sum(temp['ORG_NO_%dbit'%truncate_len].isnull())"
   ]
  },
  {
   "cell_type": "code",
   "execution_count": 10,
   "metadata": {
    "collapsed": false
   },
   "outputs": [],
   "source": [
    "train_data01_a_worker_per_user['ORG_NO_%dbit'%truncate_len] = temp['ORG_NO_%dbit'%truncate_len]"
   ]
  },
  {
   "cell_type": "markdown",
   "metadata": {},
   "source": [
    "##### 3-2-2-2 测试集"
   ]
  },
  {
   "cell_type": "code",
   "execution_count": 11,
   "metadata": {
    "collapsed": false
   },
   "outputs": [
    {
     "name": "stdout",
     "output_type": "stream",
     "text": [
      "(720,)\n"
     ]
    }
   ],
   "source": [
    "temp = test_data09_merge_label_df.groupby(\n",
    "    by='CONS_NO',axis=0)['ORG_NO'].apply(\n",
    "    lambda x :len(set([unicode(item)[:truncate_len] for item in x \n",
    "                      ]))\n",
    ")\n",
    "# 7 - 无，全部用户都可以截断成功，且对应一个org_no\n",
    "# 9 - 有 4个用户\n",
    "print temp[temp>1].shape"
   ]
  },
  {
   "cell_type": "markdown",
   "metadata": {},
   "source": [
    "##### 增加字段 ORG_NO_7bit"
   ]
  },
  {
   "cell_type": "code",
   "execution_count": 13,
   "metadata": {
    "collapsed": false
   },
   "outputs": [
    {
     "name": "stdout",
     "output_type": "stream",
     "text": [
      "CPU times: user 12.9 s, sys: 40 ms, total: 13 s\n",
      "Wall time: 12.9 s\n"
     ]
    }
   ],
   "source": [
    "%%time\n",
    "test_data09_cons_no_truncate_org_no_series = test_data09_merge_label_df.groupby(\n",
    "        by='CONS_NO',axis=0)['ORG_NO'].apply(lambda x : truncate_org_no(x, truncate_len=truncate_len))\n"
   ]
  },
  {
   "cell_type": "code",
   "execution_count": 14,
   "metadata": {
    "collapsed": true
   },
   "outputs": [],
   "source": [
    "test_data09_merge_label_df['ORG_NO_%dbit'%truncate_len] = \\\n",
    "    test_data09_merge_label_df['CONS_NO'].map(test_data09_cons_no_truncate_org_no_series)"
   ]
  },
  {
   "cell_type": "code",
   "execution_count": 15,
   "metadata": {
    "collapsed": false
   },
   "outputs": [
    {
     "data": {
      "text/plain": [
       "(201702, 2)"
      ]
     },
     "execution_count": 15,
     "metadata": {},
     "output_type": "execute_result"
    }
   ],
   "source": [
    "test_data09_merge_label_df[['CONS_NO','ORG_NO_%dbit'%truncate_len]].drop_duplicates().shape"
   ]
  },
  {
   "cell_type": "code",
   "execution_count": 40,
   "metadata": {
    "collapsed": true
   },
   "outputs": [
    {
     "name": "stdout",
     "output_type": "stream",
     "text": [
      "(85,)\n"
     ]
    },
    {
     "data": {
      "text/plain": [
       "334019001    1744\n",
       "3340201         5\n",
       "334020102     816\n",
       "334020106    6458\n",
       "334020108    4077\n",
       "Name: ORG_NO_9bit, dtype: int64"
      ]
     },
     "execution_count": 40,
     "metadata": {},
     "output_type": "execute_result"
    }
   ],
   "source": [
    "test_a_worker_per_user_org_no_count_df = show_attribute_detail(\n",
    "    test_data09_merge_label_df[['ORG_NO_%dbit'%truncate_len,'CONS_NO']].drop_duplicates(),\n",
    "    'ORG_NO_%dbit'%truncate_len,\n",
    "    show_pic=False\n",
    ")\n",
    "test_a_worker_per_user_org_no_count_df.head()"
   ]
  },
  {
   "cell_type": "markdown",
   "metadata": {},
   "source": [
    "##### 添加到 test_data01_a_worker_per_user中"
   ]
  },
  {
   "cell_type": "code",
   "execution_count": 16,
   "metadata": {
    "collapsed": false
   },
   "outputs": [
    {
     "name": "stdout",
     "output_type": "stream",
     "text": [
      "(370871, 61) 169169\n",
      "CPU times: user 1.72 s, sys: 0 ns, total: 1.72 s\n",
      "Wall time: 1.72 s\n"
     ]
    }
   ],
   "source": [
    "%%time\n",
    "temp = test_data01_a_worker_per_user.merge(\n",
    "    test_data09_merge_label_df[['ORG_NO_%dbit'%truncate_len,'CONS_NO']].drop_duplicates(),\n",
    "    how='left', \n",
    "    left_on='CUST_NO',\n",
    "    right_on='CONS_NO',\n",
    ")\n",
    "print temp.shape,sum(temp['ORG_NO_%dbit'%truncate_len].isnull())"
   ]
  },
  {
   "cell_type": "code",
   "execution_count": 17,
   "metadata": {
    "collapsed": false
   },
   "outputs": [],
   "source": [
    "test_data01_a_worker_per_user['ORG_NO_%dbit'%truncate_len] = temp['ORG_NO_%dbit'%truncate_len]"
   ]
  },
  {
   "cell_type": "markdown",
   "metadata": {},
   "source": [
    "##### 结果统计"
   ]
  },
  {
   "cell_type": "code",
   "execution_count": 47,
   "metadata": {
    "collapsed": true
   },
   "outputs": [
    {
     "name": "stdout",
     "output_type": "stream",
     "text": [
      "(105, 5)\n"
     ]
    }
   ],
   "source": [
    "train_a_worker_per_user_org_no_count_df = show_attribute_detail(\n",
    "    train_data01_a_worker_per_user[train_data01_a_worker_per_user['IS_CONNECT_TO_09TABLE']==1],\n",
    "    'ORG_NO_9bit',\n",
    "    True,\n",
    "    'TAG',\n",
    "    False\n",
    ")"
   ]
  },
  {
   "cell_type": "code",
   "execution_count": 48,
   "metadata": {
    "collapsed": true
   },
   "outputs": [
    {
     "name": "stdout",
     "output_type": "stream",
     "text": [
      "(85,)\n"
     ]
    }
   ],
   "source": [
    "test_a_worker_per_user_org_no_count_df = show_attribute_detail(\n",
    "    test_data01_a_worker_per_user[test_data01_a_worker_per_user['IS_CONNECT_TO_09TABLE']==1],\n",
    "    'ORG_NO_9bit',\n",
    "    show_pic=False\n",
    ")"
   ]
  },
  {
   "cell_type": "markdown",
   "metadata": {},
   "source": [
    "##### 3-2-2-3 合并结果"
   ]
  },
  {
   "cell_type": "code",
   "execution_count": 50,
   "metadata": {
    "collapsed": true
   },
   "outputs": [
    {
     "name": "stdout",
     "output_type": "stream",
     "text": [
      "所有连接上9表的用户 -供电单位编号 ORG_NO_9bit\n",
      "           total    tag1  tag1/total   tag0  tag0/total  test_total\n",
      "3340901       10     6.0    0.600000      4    0.400000         4.0\n",
      "334010109    692   300.0    0.433526    392    0.566474         0.0\n",
      "3340201       14     6.0    0.428571      8    0.571429         5.0\n",
      "3340501       31    12.0    0.387097     19    0.612903        16.0\n",
      "3340601        3     1.0    0.333333      2    0.666667         1.0\n",
      "334104001      6     2.0    0.333333      4    0.666667         2.0\n",
      "3340101       36    11.0    0.305556     25    0.694444         0.0\n",
      "334103001      7     2.0    0.285714      5    0.714286         4.0\n",
      "334094001      8     2.0    0.250000      6    0.750000         7.0\n",
      "3340401        4     1.0    0.250000      3    0.750000         1.0\n",
      "334105001      4     1.0    0.250000      3    0.750000         4.0\n",
      "334010110  17335  4176.0    0.240900  13159    0.759100         0.0\n",
      "334010102  20234  4729.0    0.233716  15505    0.766284         0.0\n",
      "334010103   9703  2163.0    0.222921   7540    0.777079         0.0\n",
      "334010104  34956  7147.0    0.204457  27809    0.795543         0.0\n",
      "334010105  14832  3000.0    0.202265  11832    0.797735         0.0\n",
      "334101001      5     1.0    0.200000      4    0.800000         4.0\n",
      "334010106  18000  3493.0    0.194056  14507    0.805944         0.0\n",
      "334010101  19189  3577.0    0.186409  15612    0.813591         0.0\n",
      "334067001   4724   776.0    0.164268   3948    0.835732      2609.0\n",
      "334050102  14707  2414.0    0.164140  12293    0.835860      7980.0\n",
      "334100103     31     5.0    0.161290     26    0.838710        12.0\n",
      "334053001  19311  3106.0    0.160841  16205    0.839159     10787.0\n",
      "334050101  11136  1717.0    0.154185   9419    0.845815      6007.0\n",
      "334050130   1451   221.0    0.152309   1230    0.847691       766.0\n",
      "334010108  12000  1811.0    0.150917  10189    0.849083         0.0\n",
      "334050103   8539  1265.0    0.148144   7274    0.851856      4578.0\n",
      "334066001   8880  1315.0    0.148086   7565    0.851914      5286.0\n",
      "334050110   5008   717.0    0.143171   4291    0.856829      2901.0\n",
      "334091001      7     1.0    0.142857      6    0.857143         3.0\n",
      "...          ...     ...         ...    ...         ...         ...\n",
      "334071001   4366   402.0    0.092075   3964    0.907925      2600.0\n",
      "334025001   2582   236.0    0.091402   2346    0.908598      1582.0\n",
      "334092001     11     1.0    0.090909     10    0.909091         9.0\n",
      "334044001   5027   449.0    0.089318   4578    0.910682      3189.0\n",
      "334070101    687    60.0    0.087336    627    0.912664       392.0\n",
      "334015001   3521   299.0    0.084919   3222    0.915081         0.0\n",
      "334043001   3251   276.0    0.084897   2975    0.915103      1959.0\n",
      "334045001   1585   134.0    0.084543   1451    0.915457       971.0\n",
      "334018001   3019   255.0    0.084465   2764    0.915535         0.0\n",
      "334107001     12     1.0    0.083333     11    0.916667         4.0\n",
      "334072001    874    71.0    0.081236    803    0.918764       511.0\n",
      "334024001   2556   204.0    0.079812   2352    0.920188      1471.0\n",
      "334075001   1214    95.0    0.078254   1119    0.921746       869.0\n",
      "334078001   2239   175.0    0.078160   2064    0.921840      1579.0\n",
      "334068001   2479   183.0    0.073820   2296    0.926180      1599.0\n",
      "334076001   1433   103.0    0.071877   1330    0.928123       989.0\n",
      "334077001    477    33.0    0.069182    444    0.930818       310.0\n",
      "334074001   1146    73.0    0.063700   1073    0.936300       761.0\n",
      "334073001    378    14.0    0.037037    364    0.962963       249.0\n",
      "334108001      2     0.0    0.000000      2    1.000000         1.0\n",
      "334110102      2     0.0    0.000000      2    1.000000         0.0\n",
      "334111001      4     0.0    0.000000      4    1.000000         0.0\n",
      "334106001      4     0.0    0.000000      4    1.000000         4.0\n",
      "3340801        9     0.0    0.000000      9    1.000000         5.0\n",
      "334102001      3     0.0    0.000000      3    1.000000         8.0\n",
      "334100102     12     0.0    0.000000     12    1.000000         6.0\n",
      "334100101     13     0.0    0.000000     13    1.000000         5.0\n",
      "334093001      6     0.0    0.000000      6    1.000000         5.0\n",
      "334090101      3     0.0    0.000000      3    1.000000         0.0\n",
      "334112001      3     0.0    0.000000      3    1.000000         2.0\n",
      "\n",
      "[105 rows x 6 columns]\n"
     ]
    }
   ],
   "source": [
    "temp = train_a_worker_per_user_org_no_count_df.join(\n",
    "    test_a_worker_per_user_org_no_count_df,\n",
    "    how='outer'\n",
    ").fillna(0).sort_values(by='tag1/total',ascending=False)\n",
    "temp['test_total'] = temp['ORG_NO_9bit']\n",
    "temp = temp.drop(labels = [u'ORG_NO_9bit'],axis=1)\n",
    "print '所有连接上9表的用户 -供电单位编号 ORG_NO_9bit'\n",
    "print temp\n",
    "# 数据太多了，输出分析\n",
    "save_data(\n",
    "    temp,\n",
    "    'train&test_data09_merge_label_df_org_no_9bit_count.csv',\n",
    "    index=True\n",
    ")"
   ]
  },
  {
   "cell_type": "markdown",
   "metadata": {},
   "source": [
    "#### 3-2-3 小结\n",
    "- 不同供电单位，敏感度差异挺大，可以考虑进一步研究"
   ]
  },
  {
   "cell_type": "markdown",
   "metadata": {},
   "source": [
    "### 3-3 应收金额 RCVBL_AMT  ---- > 月平均电费"
   ]
  },
  {
   "cell_type": "markdown",
   "metadata": {},
   "source": [
    "#### 3-3-1 训练集"
   ]
  },
  {
   "cell_type": "code",
   "execution_count": 3,
   "metadata": {
    "collapsed": true
   },
   "outputs": [
    {
     "data": {
      "text/html": [
       "<div>\n",
       "<table border=\"1\" class=\"dataframe\">\n",
       "  <thead>\n",
       "    <tr style=\"text-align: right;\">\n",
       "      <th></th>\n",
       "      <th>CONS_NO</th>\n",
       "      <th>RCVBL_YM</th>\n",
       "      <th>ORG_NO</th>\n",
       "      <th>PAY_MODE</th>\n",
       "      <th>T_PQ</th>\n",
       "      <th>RCVBL_AMT</th>\n",
       "      <th>RCVED_AMT</th>\n",
       "      <th>STATUS_CODE</th>\n",
       "      <th>RCVBL_PENALTY</th>\n",
       "      <th>RCVED_PENALTY</th>\n",
       "      <th>RISK_LEVEL_CODE</th>\n",
       "      <th>OWE_AMT</th>\n",
       "      <th>CONS_SORT_CODE</th>\n",
       "      <th>ELEC_TYPE_CODE</th>\n",
       "      <th>CTL_MODE</th>\n",
       "      <th>CUST_NO</th>\n",
       "      <th>TAG</th>\n",
       "      <th>MONEY_PER_DEGREE</th>\n",
       "    </tr>\n",
       "  </thead>\n",
       "  <tbody>\n",
       "    <tr>\n",
       "      <th>13650</th>\n",
       "      <td>6023211298</td>\n",
       "      <td>201501</td>\n",
       "      <td>334010101</td>\n",
       "      <td>010101</td>\n",
       "      <td>45</td>\n",
       "      <td>24.21</td>\n",
       "      <td>24.21</td>\n",
       "      <td>1</td>\n",
       "      <td>0.22</td>\n",
       "      <td>1.0</td>\n",
       "      <td>NaN</td>\n",
       "      <td>24.21</td>\n",
       "      <td>3.0</td>\n",
       "      <td>202.0</td>\n",
       "      <td>NaN</td>\n",
       "      <td>NaN</td>\n",
       "      <td>0</td>\n",
       "      <td>0.538000</td>\n",
       "    </tr>\n",
       "    <tr>\n",
       "      <th>4710</th>\n",
       "      <td>6023211298</td>\n",
       "      <td>201502</td>\n",
       "      <td>334010101</td>\n",
       "      <td>010101</td>\n",
       "      <td>44</td>\n",
       "      <td>23.67</td>\n",
       "      <td>23.67</td>\n",
       "      <td>1</td>\n",
       "      <td>0.00</td>\n",
       "      <td>0.0</td>\n",
       "      <td>NaN</td>\n",
       "      <td>23.67</td>\n",
       "      <td>3.0</td>\n",
       "      <td>202.0</td>\n",
       "      <td>NaN</td>\n",
       "      <td>NaN</td>\n",
       "      <td>0</td>\n",
       "      <td>0.537955</td>\n",
       "    </tr>\n",
       "    <tr>\n",
       "      <th>29279</th>\n",
       "      <td>6023211298</td>\n",
       "      <td>201503</td>\n",
       "      <td>334010101</td>\n",
       "      <td>010101</td>\n",
       "      <td>12</td>\n",
       "      <td>6.46</td>\n",
       "      <td>6.46</td>\n",
       "      <td>1</td>\n",
       "      <td>0.00</td>\n",
       "      <td>0.0</td>\n",
       "      <td>NaN</td>\n",
       "      <td>6.46</td>\n",
       "      <td>3.0</td>\n",
       "      <td>202.0</td>\n",
       "      <td>NaN</td>\n",
       "      <td>NaN</td>\n",
       "      <td>0</td>\n",
       "      <td>0.538333</td>\n",
       "    </tr>\n",
       "    <tr>\n",
       "      <th>29497</th>\n",
       "      <td>6023211298</td>\n",
       "      <td>201503</td>\n",
       "      <td>334010101</td>\n",
       "      <td>010101</td>\n",
       "      <td>-262</td>\n",
       "      <td>-140.96</td>\n",
       "      <td>-140.96</td>\n",
       "      <td>1</td>\n",
       "      <td>0.00</td>\n",
       "      <td>0.0</td>\n",
       "      <td>NaN</td>\n",
       "      <td>-140.96</td>\n",
       "      <td>3.0</td>\n",
       "      <td>202.0</td>\n",
       "      <td>NaN</td>\n",
       "      <td>NaN</td>\n",
       "      <td>0</td>\n",
       "      <td>0.538015</td>\n",
       "    </tr>\n",
       "    <tr>\n",
       "      <th>29498</th>\n",
       "      <td>6023211298</td>\n",
       "      <td>201503</td>\n",
       "      <td>334010101</td>\n",
       "      <td>010101</td>\n",
       "      <td>-101</td>\n",
       "      <td>-54.34</td>\n",
       "      <td>-54.34</td>\n",
       "      <td>1</td>\n",
       "      <td>0.00</td>\n",
       "      <td>0.0</td>\n",
       "      <td>NaN</td>\n",
       "      <td>-54.34</td>\n",
       "      <td>3.0</td>\n",
       "      <td>202.0</td>\n",
       "      <td>NaN</td>\n",
       "      <td>NaN</td>\n",
       "      <td>0</td>\n",
       "      <td>0.538020</td>\n",
       "    </tr>\n",
       "    <tr>\n",
       "      <th>48499</th>\n",
       "      <td>6023211298</td>\n",
       "      <td>201504</td>\n",
       "      <td>334010101</td>\n",
       "      <td>010101</td>\n",
       "      <td>-36</td>\n",
       "      <td>-19.37</td>\n",
       "      <td>-19.37</td>\n",
       "      <td>1</td>\n",
       "      <td>0.00</td>\n",
       "      <td>0.0</td>\n",
       "      <td>NaN</td>\n",
       "      <td>-19.37</td>\n",
       "      <td>3.0</td>\n",
       "      <td>202.0</td>\n",
       "      <td>NaN</td>\n",
       "      <td>NaN</td>\n",
       "      <td>0</td>\n",
       "      <td>0.538056</td>\n",
       "    </tr>\n",
       "    <tr>\n",
       "      <th>72900</th>\n",
       "      <td>6023211298</td>\n",
       "      <td>201504</td>\n",
       "      <td>334010101</td>\n",
       "      <td>010101</td>\n",
       "      <td>0</td>\n",
       "      <td>0.00</td>\n",
       "      <td>0.00</td>\n",
       "      <td>1</td>\n",
       "      <td>0.00</td>\n",
       "      <td>0.0</td>\n",
       "      <td>NaN</td>\n",
       "      <td>0.00</td>\n",
       "      <td>3.0</td>\n",
       "      <td>202.0</td>\n",
       "      <td>NaN</td>\n",
       "      <td>NaN</td>\n",
       "      <td>0</td>\n",
       "      <td>0.000000</td>\n",
       "    </tr>\n",
       "    <tr>\n",
       "      <th>93890</th>\n",
       "      <td>6023211298</td>\n",
       "      <td>201505</td>\n",
       "      <td>334010101</td>\n",
       "      <td>010101</td>\n",
       "      <td>0</td>\n",
       "      <td>0.00</td>\n",
       "      <td>0.00</td>\n",
       "      <td>1</td>\n",
       "      <td>0.00</td>\n",
       "      <td>0.0</td>\n",
       "      <td>NaN</td>\n",
       "      <td>0.00</td>\n",
       "      <td>3.0</td>\n",
       "      <td>202.0</td>\n",
       "      <td>NaN</td>\n",
       "      <td>NaN</td>\n",
       "      <td>0</td>\n",
       "      <td>0.000000</td>\n",
       "    </tr>\n",
       "    <tr>\n",
       "      <th>87031</th>\n",
       "      <td>6023211298</td>\n",
       "      <td>201506</td>\n",
       "      <td>334010101</td>\n",
       "      <td>010101</td>\n",
       "      <td>0</td>\n",
       "      <td>0.00</td>\n",
       "      <td>0.00</td>\n",
       "      <td>1</td>\n",
       "      <td>0.00</td>\n",
       "      <td>0.0</td>\n",
       "      <td>NaN</td>\n",
       "      <td>0.00</td>\n",
       "      <td>3.0</td>\n",
       "      <td>202.0</td>\n",
       "      <td>NaN</td>\n",
       "      <td>NaN</td>\n",
       "      <td>0</td>\n",
       "      <td>0.000000</td>\n",
       "    </tr>\n",
       "    <tr>\n",
       "      <th>114294</th>\n",
       "      <td>6023211298</td>\n",
       "      <td>201507</td>\n",
       "      <td>33401010141</td>\n",
       "      <td>010101</td>\n",
       "      <td>0</td>\n",
       "      <td>0.00</td>\n",
       "      <td>0.00</td>\n",
       "      <td>1</td>\n",
       "      <td>0.00</td>\n",
       "      <td>0.0</td>\n",
       "      <td>NaN</td>\n",
       "      <td>0.00</td>\n",
       "      <td>3.0</td>\n",
       "      <td>202.0</td>\n",
       "      <td>NaN</td>\n",
       "      <td>NaN</td>\n",
       "      <td>0</td>\n",
       "      <td>0.000000</td>\n",
       "    </tr>\n",
       "    <tr>\n",
       "      <th>134038</th>\n",
       "      <td>6023211298</td>\n",
       "      <td>201508</td>\n",
       "      <td>33401010141</td>\n",
       "      <td>010101</td>\n",
       "      <td>0</td>\n",
       "      <td>0.00</td>\n",
       "      <td>0.00</td>\n",
       "      <td>1</td>\n",
       "      <td>0.00</td>\n",
       "      <td>0.0</td>\n",
       "      <td>NaN</td>\n",
       "      <td>0.00</td>\n",
       "      <td>3.0</td>\n",
       "      <td>202.0</td>\n",
       "      <td>NaN</td>\n",
       "      <td>NaN</td>\n",
       "      <td>0</td>\n",
       "      <td>0.000000</td>\n",
       "    </tr>\n",
       "    <tr>\n",
       "      <th>153418</th>\n",
       "      <td>6023211298</td>\n",
       "      <td>201509</td>\n",
       "      <td>33401010141</td>\n",
       "      <td>010101</td>\n",
       "      <td>0</td>\n",
       "      <td>0.00</td>\n",
       "      <td>0.00</td>\n",
       "      <td>1</td>\n",
       "      <td>0.00</td>\n",
       "      <td>0.0</td>\n",
       "      <td>NaN</td>\n",
       "      <td>0.00</td>\n",
       "      <td>3.0</td>\n",
       "      <td>202.0</td>\n",
       "      <td>NaN</td>\n",
       "      <td>NaN</td>\n",
       "      <td>0</td>\n",
       "      <td>0.000000</td>\n",
       "    </tr>\n",
       "    <tr>\n",
       "      <th>197318</th>\n",
       "      <td>6023211298</td>\n",
       "      <td>201510</td>\n",
       "      <td>33401010141</td>\n",
       "      <td>010101</td>\n",
       "      <td>0</td>\n",
       "      <td>0.00</td>\n",
       "      <td>0.00</td>\n",
       "      <td>1</td>\n",
       "      <td>0.00</td>\n",
       "      <td>0.0</td>\n",
       "      <td>NaN</td>\n",
       "      <td>0.00</td>\n",
       "      <td>3.0</td>\n",
       "      <td>202.0</td>\n",
       "      <td>NaN</td>\n",
       "      <td>NaN</td>\n",
       "      <td>0</td>\n",
       "      <td>0.000000</td>\n",
       "    </tr>\n",
       "    <tr>\n",
       "      <th>189432</th>\n",
       "      <td>6023211298</td>\n",
       "      <td>201511</td>\n",
       "      <td>33401010141</td>\n",
       "      <td>010101</td>\n",
       "      <td>0</td>\n",
       "      <td>0.00</td>\n",
       "      <td>0.00</td>\n",
       "      <td>1</td>\n",
       "      <td>0.00</td>\n",
       "      <td>0.0</td>\n",
       "      <td>NaN</td>\n",
       "      <td>0.00</td>\n",
       "      <td>3.0</td>\n",
       "      <td>202.0</td>\n",
       "      <td>NaN</td>\n",
       "      <td>NaN</td>\n",
       "      <td>0</td>\n",
       "      <td>0.000000</td>\n",
       "    </tr>\n",
       "    <tr>\n",
       "      <th>207676</th>\n",
       "      <td>6023211298</td>\n",
       "      <td>201512</td>\n",
       "      <td>33401010141</td>\n",
       "      <td>010101</td>\n",
       "      <td>0</td>\n",
       "      <td>0.00</td>\n",
       "      <td>0.00</td>\n",
       "      <td>1</td>\n",
       "      <td>0.00</td>\n",
       "      <td>0.0</td>\n",
       "      <td>NaN</td>\n",
       "      <td>0.00</td>\n",
       "      <td>3.0</td>\n",
       "      <td>202.0</td>\n",
       "      <td>NaN</td>\n",
       "      <td>NaN</td>\n",
       "      <td>0</td>\n",
       "      <td>0.000000</td>\n",
       "    </tr>\n",
       "  </tbody>\n",
       "</table>\n",
       "</div>"
      ],
      "text/plain": [
       "           CONS_NO  RCVBL_YM       ORG_NO PAY_MODE  T_PQ  RCVBL_AMT  \\\n",
       "13650   6023211298    201501    334010101   010101    45      24.21   \n",
       "4710    6023211298    201502    334010101   010101    44      23.67   \n",
       "29279   6023211298    201503    334010101   010101    12       6.46   \n",
       "29497   6023211298    201503    334010101   010101  -262    -140.96   \n",
       "29498   6023211298    201503    334010101   010101  -101     -54.34   \n",
       "48499   6023211298    201504    334010101   010101   -36     -19.37   \n",
       "72900   6023211298    201504    334010101   010101     0       0.00   \n",
       "93890   6023211298    201505    334010101   010101     0       0.00   \n",
       "87031   6023211298    201506    334010101   010101     0       0.00   \n",
       "114294  6023211298    201507  33401010141   010101     0       0.00   \n",
       "134038  6023211298    201508  33401010141   010101     0       0.00   \n",
       "153418  6023211298    201509  33401010141   010101     0       0.00   \n",
       "197318  6023211298    201510  33401010141   010101     0       0.00   \n",
       "189432  6023211298    201511  33401010141   010101     0       0.00   \n",
       "207676  6023211298    201512  33401010141   010101     0       0.00   \n",
       "\n",
       "        RCVED_AMT  STATUS_CODE  RCVBL_PENALTY  RCVED_PENALTY  RISK_LEVEL_CODE  \\\n",
       "13650       24.21            1           0.22            1.0              NaN   \n",
       "4710        23.67            1           0.00            0.0              NaN   \n",
       "29279        6.46            1           0.00            0.0              NaN   \n",
       "29497     -140.96            1           0.00            0.0              NaN   \n",
       "29498      -54.34            1           0.00            0.0              NaN   \n",
       "48499      -19.37            1           0.00            0.0              NaN   \n",
       "72900        0.00            1           0.00            0.0              NaN   \n",
       "93890        0.00            1           0.00            0.0              NaN   \n",
       "87031        0.00            1           0.00            0.0              NaN   \n",
       "114294       0.00            1           0.00            0.0              NaN   \n",
       "134038       0.00            1           0.00            0.0              NaN   \n",
       "153418       0.00            1           0.00            0.0              NaN   \n",
       "197318       0.00            1           0.00            0.0              NaN   \n",
       "189432       0.00            1           0.00            0.0              NaN   \n",
       "207676       0.00            1           0.00            0.0              NaN   \n",
       "\n",
       "        OWE_AMT  CONS_SORT_CODE  ELEC_TYPE_CODE  CTL_MODE CUST_NO  TAG  \\\n",
       "13650     24.21             3.0           202.0       NaN     NaN    0   \n",
       "4710      23.67             3.0           202.0       NaN     NaN    0   \n",
       "29279      6.46             3.0           202.0       NaN     NaN    0   \n",
       "29497   -140.96             3.0           202.0       NaN     NaN    0   \n",
       "29498    -54.34             3.0           202.0       NaN     NaN    0   \n",
       "48499    -19.37             3.0           202.0       NaN     NaN    0   \n",
       "72900      0.00             3.0           202.0       NaN     NaN    0   \n",
       "93890      0.00             3.0           202.0       NaN     NaN    0   \n",
       "87031      0.00             3.0           202.0       NaN     NaN    0   \n",
       "114294     0.00             3.0           202.0       NaN     NaN    0   \n",
       "134038     0.00             3.0           202.0       NaN     NaN    0   \n",
       "153418     0.00             3.0           202.0       NaN     NaN    0   \n",
       "197318     0.00             3.0           202.0       NaN     NaN    0   \n",
       "189432     0.00             3.0           202.0       NaN     NaN    0   \n",
       "207676     0.00             3.0           202.0       NaN     NaN    0   \n",
       "\n",
       "        MONEY_PER_DEGREE  \n",
       "13650           0.538000  \n",
       "4710            0.537955  \n",
       "29279           0.538333  \n",
       "29497           0.538015  \n",
       "29498           0.538020  \n",
       "48499           0.538056  \n",
       "72900           0.000000  \n",
       "93890           0.000000  \n",
       "87031           0.000000  \n",
       "114294          0.000000  \n",
       "134038          0.000000  \n",
       "153418          0.000000  \n",
       "197318          0.000000  \n",
       "189432          0.000000  \n",
       "207676          0.000000  "
      ]
     },
     "execution_count": 3,
     "metadata": {},
     "output_type": "execute_result"
    }
   ],
   "source": [
    "train_data09_merge_label_df[train_data09_merge_label_df['CONS_NO']=='6023211298'].sort_values(by='RCVBL_YM')"
   ]
  },
  {
   "cell_type": "code",
   "execution_count": 85,
   "metadata": {
    "collapsed": true
   },
   "outputs": [
    {
     "data": {
      "text/html": [
       "<div>\n",
       "<table border=\"1\" class=\"dataframe\">\n",
       "  <thead>\n",
       "    <tr style=\"text-align: right;\">\n",
       "      <th></th>\n",
       "      <th>ORG_NO</th>\n",
       "      <th>CONS_NO</th>\n",
       "      <th>RCVED_YM</th>\n",
       "      <th>RCVED_DATE</th>\n",
       "      <th>THIS_RCVED_AMT</th>\n",
       "      <th>THIS_PENALTY</th>\n",
       "      <th>OWE_AMT</th>\n",
       "      <th>RCVBL_YM</th>\n",
       "      <th>RCVBL_PENALTY</th>\n",
       "    </tr>\n",
       "  </thead>\n",
       "  <tbody>\n",
       "    <tr>\n",
       "      <th>20025</th>\n",
       "      <td>334010101</td>\n",
       "      <td>6023211298</td>\n",
       "      <td>201502</td>\n",
       "      <td>20150210</td>\n",
       "      <td>24.21</td>\n",
       "      <td>1.0</td>\n",
       "      <td>24.21</td>\n",
       "      <td>201501</td>\n",
       "      <td>0.22</td>\n",
       "    </tr>\n",
       "    <tr>\n",
       "      <th>20026</th>\n",
       "      <td>334010101</td>\n",
       "      <td>6023211298</td>\n",
       "      <td>201502</td>\n",
       "      <td>20150210</td>\n",
       "      <td>23.67</td>\n",
       "      <td>0.0</td>\n",
       "      <td>23.67</td>\n",
       "      <td>201502</td>\n",
       "      <td>0.00</td>\n",
       "    </tr>\n",
       "    <tr>\n",
       "      <th>31230</th>\n",
       "      <td>334010101</td>\n",
       "      <td>6023211298</td>\n",
       "      <td>201503</td>\n",
       "      <td>20150313</td>\n",
       "      <td>-54.34</td>\n",
       "      <td>0.0</td>\n",
       "      <td>-54.34</td>\n",
       "      <td>201503</td>\n",
       "      <td>0.00</td>\n",
       "    </tr>\n",
       "    <tr>\n",
       "      <th>33187</th>\n",
       "      <td>334010101</td>\n",
       "      <td>6023211298</td>\n",
       "      <td>201503</td>\n",
       "      <td>20150313</td>\n",
       "      <td>6.46</td>\n",
       "      <td>0.0</td>\n",
       "      <td>6.46</td>\n",
       "      <td>201503</td>\n",
       "      <td>0.00</td>\n",
       "    </tr>\n",
       "    <tr>\n",
       "      <th>44644</th>\n",
       "      <td>334010101</td>\n",
       "      <td>6023211298</td>\n",
       "      <td>201503</td>\n",
       "      <td>20150324</td>\n",
       "      <td>-140.96</td>\n",
       "      <td>0.0</td>\n",
       "      <td>-140.96</td>\n",
       "      <td>201503</td>\n",
       "      <td>0.00</td>\n",
       "    </tr>\n",
       "    <tr>\n",
       "      <th>58002</th>\n",
       "      <td>334010101</td>\n",
       "      <td>6023211298</td>\n",
       "      <td>201504</td>\n",
       "      <td>20150423</td>\n",
       "      <td>-19.37</td>\n",
       "      <td>0.0</td>\n",
       "      <td>-19.37</td>\n",
       "      <td>201504</td>\n",
       "      <td>0.00</td>\n",
       "    </tr>\n",
       "  </tbody>\n",
       "</table>\n",
       "</div>"
      ],
      "text/plain": [
       "          ORG_NO     CONS_NO  RCVED_YM  RCVED_DATE  THIS_RCVED_AMT  \\\n",
       "20025  334010101  6023211298    201502    20150210           24.21   \n",
       "20026  334010101  6023211298    201502    20150210           23.67   \n",
       "31230  334010101  6023211298    201503    20150313          -54.34   \n",
       "33187  334010101  6023211298    201503    20150313            6.46   \n",
       "44644  334010101  6023211298    201503    20150324         -140.96   \n",
       "58002  334010101  6023211298    201504    20150423          -19.37   \n",
       "\n",
       "       THIS_PENALTY  OWE_AMT  RCVBL_YM  RCVBL_PENALTY  \n",
       "20025           1.0    24.21    201501           0.22  \n",
       "20026           0.0    23.67    201502           0.00  \n",
       "31230           0.0   -54.34    201503           0.00  \n",
       "33187           0.0     6.46    201503           0.00  \n",
       "44644           0.0  -140.96    201503           0.00  \n",
       "58002           0.0   -19.37    201504           0.00  "
      ]
     },
     "execution_count": 85,
     "metadata": {},
     "output_type": "execute_result"
    }
   ],
   "source": [
    "train_data08_df[train_data08_df['CONS_NO']=='6023211298']"
   ]
  },
  {
   "cell_type": "code",
   "execution_count": 73,
   "metadata": {
    "collapsed": false
   },
   "outputs": [
    {
     "name": "stdout",
     "output_type": "stream",
     "text": [
      "CPU times: user 26.2 s, sys: 1.64 s, total: 27.9 s\n",
      "Wall time: 35.1 s\n"
     ]
    }
   ],
   "source": [
    "%%time\n",
    "# 统计每个用户的 月份数\n",
    "train_data09_cons_no_rcvbl_ym_count_series = \\\n",
    "    train_data09_merge_label_df.groupby(by='CONS_NO')['RCVBL_YM'].apply(lambda x: len(set(x)))"
   ]
  },
  {
   "cell_type": "code",
   "execution_count": 74,
   "metadata": {
    "collapsed": false
   },
   "outputs": [
    {
     "name": "stdout",
     "output_type": "stream",
     "text": [
      "CPU times: user 2.14 s, sys: 144 ms, total: 2.29 s\n",
      "Wall time: 2.45 s\n"
     ]
    }
   ],
   "source": [
    "%%time\n",
    "# 统计每个用户的所有 电费总额\n",
    "train_data09_cons_no_rcvbl_amt_sum_series = train_data09_merge_label_df.groupby(by='CONS_NO')['RCVBL_AMT'].sum()"
   ]
  },
  {
   "cell_type": "code",
   "execution_count": 75,
   "metadata": {
    "collapsed": false
   },
   "outputs": [
    {
     "name": "stdout",
     "output_type": "stream",
     "text": [
      "CPU times: user 5.26 s, sys: 44 ms, total: 5.3 s\n",
      "Wall time: 5.34 s\n"
     ]
    }
   ],
   "source": [
    "%%time\n",
    "# 添加字段 交了多少个月 的电费\n",
    "train_data09_merge_label_df['NUM_OF_MONTHS'] = \\\n",
    "    train_data09_merge_label_df['CONS_NO'].map(train_data09_cons_no_rcvbl_ym_count_series)\n",
    "# 添加字段 总电量\n",
    "train_data09_merge_label_df['RCVBL_AMT_SUM'] = \\\n",
    "    train_data09_merge_label_df['CONS_NO'].map(train_data09_cons_no_rcvbl_amt_sum_series)"
   ]
  },
  {
   "cell_type": "code",
   "execution_count": 78,
   "metadata": {
    "collapsed": true
   },
   "outputs": [
    {
     "data": {
      "text/html": [
       "<div>\n",
       "<table border=\"1\" class=\"dataframe\">\n",
       "  <thead>\n",
       "    <tr style=\"text-align: right;\">\n",
       "      <th></th>\n",
       "      <th>CONS_NO</th>\n",
       "      <th>RCVBL_YM</th>\n",
       "      <th>ORG_NO</th>\n",
       "      <th>PAY_MODE</th>\n",
       "      <th>T_PQ</th>\n",
       "      <th>RCVBL_AMT</th>\n",
       "      <th>RCVED_AMT</th>\n",
       "      <th>STATUS_CODE</th>\n",
       "      <th>RCVBL_PENALTY</th>\n",
       "      <th>RCVED_PENALTY</th>\n",
       "      <th>...</th>\n",
       "      <th>OWE_AMT</th>\n",
       "      <th>CONS_SORT_CODE</th>\n",
       "      <th>ELEC_TYPE_CODE</th>\n",
       "      <th>CTL_MODE</th>\n",
       "      <th>CUST_NO</th>\n",
       "      <th>TAG</th>\n",
       "      <th>ORG_NO_7bit</th>\n",
       "      <th>NUM_OF_MONTHS</th>\n",
       "      <th>RCVBL_AMT_SUM</th>\n",
       "      <th>AVERAGE_RCVBL_AMT</th>\n",
       "    </tr>\n",
       "  </thead>\n",
       "  <tbody>\n",
       "    <tr>\n",
       "      <th>0</th>\n",
       "      <td>6010969031</td>\n",
       "      <td>201502</td>\n",
       "      <td>33401010130</td>\n",
       "      <td>10101.0</td>\n",
       "      <td>1869</td>\n",
       "      <td>1768.07</td>\n",
       "      <td>1768.07</td>\n",
       "      <td>1</td>\n",
       "      <td>0.00</td>\n",
       "      <td>0.00</td>\n",
       "      <td>...</td>\n",
       "      <td>1768.07</td>\n",
       "      <td>2.0</td>\n",
       "      <td>403.0</td>\n",
       "      <td>NaN</td>\n",
       "      <td>NaN</td>\n",
       "      <td>0</td>\n",
       "      <td>3340101</td>\n",
       "      <td>8</td>\n",
       "      <td>21116.31</td>\n",
       "      <td>2639.53875</td>\n",
       "    </tr>\n",
       "    <tr>\n",
       "      <th>1</th>\n",
       "      <td>6010811670</td>\n",
       "      <td>201502</td>\n",
       "      <td>33401010130</td>\n",
       "      <td>10101.0</td>\n",
       "      <td>2791</td>\n",
       "      <td>2640.29</td>\n",
       "      <td>2640.29</td>\n",
       "      <td>1</td>\n",
       "      <td>0.00</td>\n",
       "      <td>0.00</td>\n",
       "      <td>...</td>\n",
       "      <td>2640.29</td>\n",
       "      <td>2.0</td>\n",
       "      <td>403.0</td>\n",
       "      <td>NaN</td>\n",
       "      <td>NaN</td>\n",
       "      <td>0</td>\n",
       "      <td>3340101</td>\n",
       "      <td>8</td>\n",
       "      <td>16806.61</td>\n",
       "      <td>2100.82625</td>\n",
       "    </tr>\n",
       "    <tr>\n",
       "      <th>2</th>\n",
       "      <td>6010777305</td>\n",
       "      <td>201502</td>\n",
       "      <td>33401010130</td>\n",
       "      <td>20311.0</td>\n",
       "      <td>1883</td>\n",
       "      <td>1058.25</td>\n",
       "      <td>1058.25</td>\n",
       "      <td>1</td>\n",
       "      <td>2.12</td>\n",
       "      <td>2.12</td>\n",
       "      <td>...</td>\n",
       "      <td>1058.25</td>\n",
       "      <td>3.0</td>\n",
       "      <td>202.0</td>\n",
       "      <td>NaN</td>\n",
       "      <td>NaN</td>\n",
       "      <td>0</td>\n",
       "      <td>3340101</td>\n",
       "      <td>8</td>\n",
       "      <td>9416.90</td>\n",
       "      <td>1177.11250</td>\n",
       "    </tr>\n",
       "    <tr>\n",
       "      <th>3</th>\n",
       "      <td>6010777296</td>\n",
       "      <td>201502</td>\n",
       "      <td>33401010130</td>\n",
       "      <td>20311.0</td>\n",
       "      <td>4279</td>\n",
       "      <td>3585.80</td>\n",
       "      <td>3585.80</td>\n",
       "      <td>1</td>\n",
       "      <td>0.00</td>\n",
       "      <td>0.00</td>\n",
       "      <td>...</td>\n",
       "      <td>3585.80</td>\n",
       "      <td>3.0</td>\n",
       "      <td>201.0</td>\n",
       "      <td>NaN</td>\n",
       "      <td>NaN</td>\n",
       "      <td>0</td>\n",
       "      <td>3340101</td>\n",
       "      <td>8</td>\n",
       "      <td>27228.58</td>\n",
       "      <td>3403.57250</td>\n",
       "    </tr>\n",
       "    <tr>\n",
       "      <th>4</th>\n",
       "      <td>6010777190</td>\n",
       "      <td>201502</td>\n",
       "      <td>33401010130</td>\n",
       "      <td>20311.0</td>\n",
       "      <td>2514</td>\n",
       "      <td>1561.93</td>\n",
       "      <td>1561.93</td>\n",
       "      <td>1</td>\n",
       "      <td>0.00</td>\n",
       "      <td>0.00</td>\n",
       "      <td>...</td>\n",
       "      <td>1561.93</td>\n",
       "      <td>3.0</td>\n",
       "      <td>202.0</td>\n",
       "      <td>NaN</td>\n",
       "      <td>NaN</td>\n",
       "      <td>0</td>\n",
       "      <td>3340101</td>\n",
       "      <td>8</td>\n",
       "      <td>15037.73</td>\n",
       "      <td>1879.71625</td>\n",
       "    </tr>\n",
       "  </tbody>\n",
       "</table>\n",
       "<p>5 rows × 21 columns</p>\n",
       "</div>"
      ],
      "text/plain": [
       "      CONS_NO  RCVBL_YM       ORG_NO  PAY_MODE  T_PQ  RCVBL_AMT  RCVED_AMT  \\\n",
       "0  6010969031    201502  33401010130   10101.0  1869    1768.07    1768.07   \n",
       "1  6010811670    201502  33401010130   10101.0  2791    2640.29    2640.29   \n",
       "2  6010777305    201502  33401010130   20311.0  1883    1058.25    1058.25   \n",
       "3  6010777296    201502  33401010130   20311.0  4279    3585.80    3585.80   \n",
       "4  6010777190    201502  33401010130   20311.0  2514    1561.93    1561.93   \n",
       "\n",
       "   STATUS_CODE  RCVBL_PENALTY  RCVED_PENALTY        ...          OWE_AMT  \\\n",
       "0            1           0.00           0.00        ...          1768.07   \n",
       "1            1           0.00           0.00        ...          2640.29   \n",
       "2            1           2.12           2.12        ...          1058.25   \n",
       "3            1           0.00           0.00        ...          3585.80   \n",
       "4            1           0.00           0.00        ...          1561.93   \n",
       "\n",
       "   CONS_SORT_CODE  ELEC_TYPE_CODE  CTL_MODE  CUST_NO  TAG  ORG_NO_7bit  \\\n",
       "0             2.0           403.0       NaN      NaN    0      3340101   \n",
       "1             2.0           403.0       NaN      NaN    0      3340101   \n",
       "2             3.0           202.0       NaN      NaN    0      3340101   \n",
       "3             3.0           201.0       NaN      NaN    0      3340101   \n",
       "4             3.0           202.0       NaN      NaN    0      3340101   \n",
       "\n",
       "   NUM_OF_MONTHS  RCVBL_AMT_SUM  AVERAGE_RCVBL_AMT  \n",
       "0              8       21116.31         2639.53875  \n",
       "1              8       16806.61         2100.82625  \n",
       "2              8        9416.90         1177.11250  \n",
       "3              8       27228.58         3403.57250  \n",
       "4              8       15037.73         1879.71625  \n",
       "\n",
       "[5 rows x 21 columns]"
      ]
     },
     "execution_count": 78,
     "metadata": {},
     "output_type": "execute_result"
    }
   ],
   "source": [
    "# 添加字段 用户的平均电费 AVERAGE_OWE_AMT\n",
    "train_data09_merge_label_df['AVERAGE_RCVBL_AMT'] = \\\n",
    "    train_data09_merge_label_df['RCVBL_AMT_SUM']/train_data09_merge_label_df['NUM_OF_MONTHS']\n",
    "train_data09_merge_label_df.head()"
   ]
  },
  {
   "cell_type": "code",
   "execution_count": 86,
   "metadata": {
    "collapsed": true
   },
   "outputs": [
    {
     "name": "stdout",
     "output_type": "stream",
     "text": [
      "(2,)\n"
     ]
    },
    {
     "data": {
      "text/plain": [
       "0    71819\n",
       "1     8544\n",
       "Name: TAG, dtype: int64"
      ]
     },
     "execution_count": 86,
     "metadata": {},
     "output_type": "execute_result"
    },
    {
     "data": {
      "image/png": "[encoded data removed]",
      "text/plain": [
       "<matplotlib.figure.Figure at 0x7f2f1a5b1210>"
      ]
     },
     "metadata": {},
     "output_type": "display_data"
    }
   ],
   "source": [
    "show_attribute_detail(\n",
    "        train_data09_merge_label_df[train_data09_merge_label_df['AVERAGE_RCVBL_AMT']==0],\n",
    "    'TAG'\n",
    "    )"
   ]
  },
  {
   "cell_type": "code",
   "execution_count": 97,
   "metadata": {
    "collapsed": true
   },
   "outputs": [
    {
     "data": {
      "text/html": [
       "<div>\n",
       "<table border=\"1\" class=\"dataframe\">\n",
       "  <thead>\n",
       "    <tr style=\"text-align: right;\">\n",
       "      <th></th>\n",
       "      <th>APP_NO</th>\n",
       "      <th>ID</th>\n",
       "      <th>BUSI_TYPE_CODE</th>\n",
       "      <th>URBAN_RURAL_FLAG</th>\n",
       "      <th>ORG_NO</th>\n",
       "      <th>HANDLE_TIME</th>\n",
       "      <th>ACCEPT_CONTENT</th>\n",
       "      <th>HANDLE_OPINION</th>\n",
       "      <th>CALLING_NO</th>\n",
       "      <th>ELEC_TYPE</th>\n",
       "      <th>...</th>\n",
       "      <th>IS_CONNECT_TO_08TABLE</th>\n",
       "      <th>NUM_OF_RCVBL_PENALTY</th>\n",
       "      <th>IS_CONNECT_TO_06TABLE</th>\n",
       "      <th>CONT_TYPE</th>\n",
       "      <th>IS_CONNECT_TO_07TABLE</th>\n",
       "      <th>CONS_STATUS</th>\n",
       "      <th>STATUS</th>\n",
       "      <th>RCA_FLAG</th>\n",
       "      <th>ORG_NO_7bit</th>\n",
       "      <th>AVERAGE_RCVBL_AMT</th>\n",
       "    </tr>\n",
       "  </thead>\n",
       "  <tbody>\n",
       "    <tr>\n",
       "      <th>0</th>\n",
       "      <td>2015101280016722</td>\n",
       "      <td>1000000527203612</td>\n",
       "      <td>3</td>\n",
       "      <td>2.0</td>\n",
       "      <td>3341020</td>\n",
       "      <td>2015/10/12 7:31:50</td>\n",
       "      <td>【银行代扣】客户咨询银行代扣事宜</td>\n",
       "      <td>NaN</td>\n",
       "      <td>1196922.0</td>\n",
       "      <td>202.0</td>\n",
       "      <td>...</td>\n",
       "      <td>0</td>\n",
       "      <td>NaN</td>\n",
       "      <td>0</td>\n",
       "      <td>NaN</td>\n",
       "      <td>0</td>\n",
       "      <td>NaN</td>\n",
       "      <td>NaN</td>\n",
       "      <td>NaN</td>\n",
       "      <td>NaN</td>\n",
       "      <td>NaN</td>\n",
       "    </tr>\n",
       "    <tr>\n",
       "      <th>1</th>\n",
       "      <td>2015101280031388</td>\n",
       "      <td>1000000527304861</td>\n",
       "      <td>3</td>\n",
       "      <td>1.0</td>\n",
       "      <td>3340901</td>\n",
       "      <td>2015/10/12 9:14:03</td>\n",
       "      <td>【咨询总户号】通过地址（户名、表号）查询户号信息，已告知</td>\n",
       "      <td>NaN</td>\n",
       "      <td>1005636.0</td>\n",
       "      <td>NaN</td>\n",
       "      <td>...</td>\n",
       "      <td>0</td>\n",
       "      <td>NaN</td>\n",
       "      <td>0</td>\n",
       "      <td>NaN</td>\n",
       "      <td>0</td>\n",
       "      <td>NaN</td>\n",
       "      <td>NaN</td>\n",
       "      <td>NaN</td>\n",
       "      <td>NaN</td>\n",
       "      <td>NaN</td>\n",
       "    </tr>\n",
       "    <tr>\n",
       "      <th>2</th>\n",
       "      <td>2015101280031424</td>\n",
       "      <td>1000000527305097</td>\n",
       "      <td>3</td>\n",
       "      <td>2.0</td>\n",
       "      <td>33401</td>\n",
       "      <td>2015/10/12 9:14:16</td>\n",
       "      <td>【查询电费】客户查询电费，已告知。</td>\n",
       "      <td>NaN</td>\n",
       "      <td>1007513.0</td>\n",
       "      <td>405.0</td>\n",
       "      <td>...</td>\n",
       "      <td>1</td>\n",
       "      <td>0.0</td>\n",
       "      <td>0</td>\n",
       "      <td>NaN</td>\n",
       "      <td>0</td>\n",
       "      <td>NaN</td>\n",
       "      <td>NaN</td>\n",
       "      <td>NaN</td>\n",
       "      <td>3340101.0</td>\n",
       "      <td>1652.304167</td>\n",
       "    </tr>\n",
       "    <tr>\n",
       "      <th>3</th>\n",
       "      <td>2015101280031680</td>\n",
       "      <td>1000000527300870</td>\n",
       "      <td>3</td>\n",
       "      <td>2.0</td>\n",
       "      <td>334020106</td>\n",
       "      <td>2015/10/12 9:11:37</td>\n",
       "      <td>【咨询总户号】通过地址（户名）查询户号信息。</td>\n",
       "      <td>NaN</td>\n",
       "      <td>1073266.0</td>\n",
       "      <td>202.0</td>\n",
       "      <td>...</td>\n",
       "      <td>1</td>\n",
       "      <td>0.0</td>\n",
       "      <td>0</td>\n",
       "      <td>NaN</td>\n",
       "      <td>0</td>\n",
       "      <td>NaN</td>\n",
       "      <td>NaN</td>\n",
       "      <td>NaN</td>\n",
       "      <td>3340201.0</td>\n",
       "      <td>51.961667</td>\n",
       "    </tr>\n",
       "    <tr>\n",
       "      <th>4</th>\n",
       "      <td>2015101280032506</td>\n",
       "      <td>1000000527305664</td>\n",
       "      <td>3</td>\n",
       "      <td>1.0</td>\n",
       "      <td>3340101</td>\n",
       "      <td>2015/10/12 9:14:48</td>\n",
       "      <td>【咨询总户号】通过地址（户名、表号）查询户号信息，已告知</td>\n",
       "      <td>NaN</td>\n",
       "      <td>1433592.0</td>\n",
       "      <td>NaN</td>\n",
       "      <td>...</td>\n",
       "      <td>1</td>\n",
       "      <td>0.0</td>\n",
       "      <td>0</td>\n",
       "      <td>NaN</td>\n",
       "      <td>0</td>\n",
       "      <td>NaN</td>\n",
       "      <td>NaN</td>\n",
       "      <td>NaN</td>\n",
       "      <td>3340150.0</td>\n",
       "      <td>121.936250</td>\n",
       "    </tr>\n",
       "  </tbody>\n",
       "</table>\n",
       "<p>5 rows × 47 columns</p>\n",
       "</div>"
      ],
      "text/plain": [
       "             APP_NO                ID  BUSI_TYPE_CODE  URBAN_RURAL_FLAG  \\\n",
       "0  2015101280016722  1000000527203612               3               2.0   \n",
       "1  2015101280031388  1000000527304861               3               1.0   \n",
       "2  2015101280031424  1000000527305097               3               2.0   \n",
       "3  2015101280031680  1000000527300870               3               2.0   \n",
       "4  2015101280032506  1000000527305664               3               1.0   \n",
       "\n",
       "      ORG_NO         HANDLE_TIME                ACCEPT_CONTENT HANDLE_OPINION  \\\n",
       "0    3341020  2015/10/12 7:31:50              【银行代扣】客户咨询银行代扣事宜            NaN   \n",
       "1    3340901  2015/10/12 9:14:03  【咨询总户号】通过地址（户名、表号）查询户号信息，已告知            NaN   \n",
       "2      33401  2015/10/12 9:14:16             【查询电费】客户查询电费，已告知。            NaN   \n",
       "3  334020106  2015/10/12 9:11:37        【咨询总户号】通过地址（户名）查询户号信息。            NaN   \n",
       "4    3340101  2015/10/12 9:14:48  【咨询总户号】通过地址（户名、表号）查询户号信息，已告知            NaN   \n",
       "\n",
       "   CALLING_NO  ELEC_TYPE        ...         IS_CONNECT_TO_08TABLE  \\\n",
       "0   1196922.0      202.0        ...                             0   \n",
       "1   1005636.0        NaN        ...                             0   \n",
       "2   1007513.0      405.0        ...                             1   \n",
       "3   1073266.0      202.0        ...                             1   \n",
       "4   1433592.0        NaN        ...                             1   \n",
       "\n",
       "   NUM_OF_RCVBL_PENALTY  IS_CONNECT_TO_06TABLE  CONT_TYPE  \\\n",
       "0                   NaN                      0        NaN   \n",
       "1                   NaN                      0        NaN   \n",
       "2                   0.0                      0        NaN   \n",
       "3                   0.0                      0        NaN   \n",
       "4                   0.0                      0        NaN   \n",
       "\n",
       "   IS_CONNECT_TO_07TABLE CONS_STATUS  STATUS  RCA_FLAG  ORG_NO_7bit  \\\n",
       "0                      0         NaN     NaN       NaN          NaN   \n",
       "1                      0         NaN     NaN       NaN          NaN   \n",
       "2                      0         NaN     NaN       NaN    3340101.0   \n",
       "3                      0         NaN     NaN       NaN    3340201.0   \n",
       "4                      0         NaN     NaN       NaN    3340150.0   \n",
       "\n",
       "   AVERAGE_RCVBL_AMT  \n",
       "0                NaN  \n",
       "1                NaN  \n",
       "2        1652.304167  \n",
       "3          51.961667  \n",
       "4         121.936250  \n",
       "\n",
       "[5 rows x 47 columns]"
      ]
     },
     "execution_count": 97,
     "metadata": {},
     "output_type": "execute_result"
    }
   ],
   "source": [
    "train_data01_a_worker_per_user.head()"
   ]
  },
  {
   "cell_type": "markdown",
   "metadata": {},
   "source": [
    "##### 添加到 train_data01_a_worker_per_user中"
   ]
  },
  {
   "cell_type": "code",
   "execution_count": 94,
   "metadata": {
    "collapsed": false
   },
   "outputs": [
    {
     "name": "stdout",
     "output_type": "stream",
     "text": [
      "(658374, 48) 102626\n",
      "CPU times: user 6.32 s, sys: 376 ms, total: 6.69 s\n",
      "Wall time: 7.16 s\n"
     ]
    }
   ],
   "source": [
    "%%time\n",
    "temp = train_data01_a_worker_per_user.merge(\n",
    "    train_data09_merge_label_df[['AVERAGE_RCVBL_AMT','CONS_NO']].drop_duplicates(),\n",
    "    how='left', \n",
    "    left_on='CUST_NO',\n",
    "    right_on='CONS_NO',\n",
    ")\n",
    "print temp.shape,sum(temp['AVERAGE_RCVBL_AMT'].isnull())"
   ]
  },
  {
   "cell_type": "code",
   "execution_count": 96,
   "metadata": {
    "collapsed": false
   },
   "outputs": [],
   "source": [
    "train_data01_a_worker_per_user['AVERAGE_RCVBL_AMT'] = temp['AVERAGE_RCVBL_AMT']"
   ]
  },
  {
   "cell_type": "code",
   "execution_count": 98,
   "metadata": {
    "collapsed": true
   },
   "outputs": [
    {
     "data": {
      "text/plain": [
       "<matplotlib.axes._subplots.AxesSubplot at 0x7f2f1af25890>"
      ]
     },
     "execution_count": 98,
     "metadata": {},
     "output_type": "execute_result"
    },
    {
     "data": {
      "image/png": "[encoded data removed]",
      "text/plain": [
       "<matplotlib.figure.Figure at 0x7f2f1aef03d0>"
      ]
     },
     "metadata": {},
     "output_type": "display_data"
    }
   ],
   "source": [
    "train_data01_a_worker_per_user[train_data01_a_worker_per_user['TAG']==1]['AVERAGE_RCVBL_AMT'].plot.line()"
   ]
  },
  {
   "cell_type": "code",
   "execution_count": 99,
   "metadata": {
    "collapsed": true
   },
   "outputs": [
    {
     "data": {
      "text/plain": [
       "<matplotlib.axes._subplots.AxesSubplot at 0x7f2f2e187d50>"
      ]
     },
     "execution_count": 99,
     "metadata": {},
     "output_type": "execute_result"
    },
    {
     "data": {
      "image/png": "[encoded data removed]",
      "text/plain": [
       "<matplotlib.figure.Figure at 0x7f2f2e18a9d0>"
      ]
     },
     "metadata": {},
     "output_type": "display_data"
    }
   ],
   "source": [
    "train_data01_a_worker_per_user[train_data01_a_worker_per_user['TAG']==0]['AVERAGE_RCVBL_AMT'].plot.line()"
   ]
  },
  {
   "cell_type": "markdown",
   "metadata": {},
   "source": [
    "#### 3-13-1 测试集"
   ]
  },
  {
   "cell_type": "code",
   "execution_count": 71,
   "metadata": {
    "collapsed": true
   },
   "outputs": [
    {
     "data": {
      "text/html": [
       "<div>\n",
       "<table border=\"1\" class=\"dataframe\">\n",
       "  <thead>\n",
       "    <tr style=\"text-align: right;\">\n",
       "      <th></th>\n",
       "      <th>CONS_NO</th>\n",
       "      <th>RCVBL_YM</th>\n",
       "      <th>ORG_NO</th>\n",
       "      <th>PAY_MODE</th>\n",
       "      <th>T_PQ</th>\n",
       "      <th>RCVBL_AMT</th>\n",
       "      <th>RCVED_AMT</th>\n",
       "      <th>STATUS_CODE</th>\n",
       "      <th>RCVBL_PENALTY</th>\n",
       "      <th>RCVED_PENALTY</th>\n",
       "      <th>RISK_LEVEL_CODE</th>\n",
       "      <th>OWE_AMT</th>\n",
       "      <th>CONS_SORT_CODE</th>\n",
       "      <th>ELEC_TYPE_CODE</th>\n",
       "      <th>CTL_MODE</th>\n",
       "      <th>CUST_NO</th>\n",
       "      <th>ORG_NO_7bit</th>\n",
       "    </tr>\n",
       "  </thead>\n",
       "  <tbody>\n",
       "    <tr>\n",
       "      <th>0</th>\n",
       "      <td>8602008462</td>\n",
       "      <td>201509</td>\n",
       "      <td>334019001</td>\n",
       "      <td>20311.0</td>\n",
       "      <td>169</td>\n",
       "      <td>90.92</td>\n",
       "      <td>90.92</td>\n",
       "      <td>1</td>\n",
       "      <td>0.0</td>\n",
       "      <td>0.0</td>\n",
       "      <td>NaN</td>\n",
       "      <td>90.92</td>\n",
       "      <td>3.0</td>\n",
       "      <td>201.0</td>\n",
       "      <td>NaN</td>\n",
       "      <td>8602008462</td>\n",
       "      <td>3340190</td>\n",
       "    </tr>\n",
       "    <tr>\n",
       "      <th>1</th>\n",
       "      <td>8664221007</td>\n",
       "      <td>201509</td>\n",
       "      <td>33401900101</td>\n",
       "      <td>20311.0</td>\n",
       "      <td>290</td>\n",
       "      <td>156.02</td>\n",
       "      <td>156.02</td>\n",
       "      <td>1</td>\n",
       "      <td>0.0</td>\n",
       "      <td>0.0</td>\n",
       "      <td>NaN</td>\n",
       "      <td>156.02</td>\n",
       "      <td>3.0</td>\n",
       "      <td>201.0</td>\n",
       "      <td>NaN</td>\n",
       "      <td>8664221007</td>\n",
       "      <td>3340190</td>\n",
       "    </tr>\n",
       "    <tr>\n",
       "      <th>2</th>\n",
       "      <td>8664221012</td>\n",
       "      <td>201509</td>\n",
       "      <td>33401900101</td>\n",
       "      <td>20311.0</td>\n",
       "      <td>110</td>\n",
       "      <td>59.18</td>\n",
       "      <td>59.18</td>\n",
       "      <td>1</td>\n",
       "      <td>0.0</td>\n",
       "      <td>0.0</td>\n",
       "      <td>NaN</td>\n",
       "      <td>59.18</td>\n",
       "      <td>3.0</td>\n",
       "      <td>201.0</td>\n",
       "      <td>NaN</td>\n",
       "      <td>8664221012</td>\n",
       "      <td>3340190</td>\n",
       "    </tr>\n",
       "    <tr>\n",
       "      <th>3</th>\n",
       "      <td>8602060747</td>\n",
       "      <td>201509</td>\n",
       "      <td>334019001</td>\n",
       "      <td>20311.0</td>\n",
       "      <td>25</td>\n",
       "      <td>13.64</td>\n",
       "      <td>13.64</td>\n",
       "      <td>1</td>\n",
       "      <td>0.0</td>\n",
       "      <td>0.0</td>\n",
       "      <td>NaN</td>\n",
       "      <td>13.64</td>\n",
       "      <td>3.0</td>\n",
       "      <td>202.0</td>\n",
       "      <td>NaN</td>\n",
       "      <td>8602060747</td>\n",
       "      <td>3340190</td>\n",
       "    </tr>\n",
       "    <tr>\n",
       "      <th>4</th>\n",
       "      <td>8660041104</td>\n",
       "      <td>201509</td>\n",
       "      <td>33401900101</td>\n",
       "      <td>20311.0</td>\n",
       "      <td>44</td>\n",
       "      <td>23.67</td>\n",
       "      <td>23.67</td>\n",
       "      <td>1</td>\n",
       "      <td>0.0</td>\n",
       "      <td>0.0</td>\n",
       "      <td>NaN</td>\n",
       "      <td>23.67</td>\n",
       "      <td>3.0</td>\n",
       "      <td>201.0</td>\n",
       "      <td>NaN</td>\n",
       "      <td>8660041104</td>\n",
       "      <td>3340190</td>\n",
       "    </tr>\n",
       "  </tbody>\n",
       "</table>\n",
       "</div>"
      ],
      "text/plain": [
       "      CONS_NO  RCVBL_YM       ORG_NO  PAY_MODE  T_PQ  RCVBL_AMT  RCVED_AMT  \\\n",
       "0  8602008462    201509    334019001   20311.0   169      90.92      90.92   \n",
       "1  8664221007    201509  33401900101   20311.0   290     156.02     156.02   \n",
       "2  8664221012    201509  33401900101   20311.0   110      59.18      59.18   \n",
       "3  8602060747    201509    334019001   20311.0    25      13.64      13.64   \n",
       "4  8660041104    201509  33401900101   20311.0    44      23.67      23.67   \n",
       "\n",
       "   STATUS_CODE  RCVBL_PENALTY  RCVED_PENALTY  RISK_LEVEL_CODE  OWE_AMT  \\\n",
       "0            1            0.0            0.0              NaN    90.92   \n",
       "1            1            0.0            0.0              NaN   156.02   \n",
       "2            1            0.0            0.0              NaN    59.18   \n",
       "3            1            0.0            0.0              NaN    13.64   \n",
       "4            1            0.0            0.0              NaN    23.67   \n",
       "\n",
       "   CONS_SORT_CODE  ELEC_TYPE_CODE  CTL_MODE     CUST_NO ORG_NO_7bit  \n",
       "0             3.0           201.0       NaN  8602008462     3340190  \n",
       "1             3.0           201.0       NaN  8664221007     3340190  \n",
       "2             3.0           201.0       NaN  8664221012     3340190  \n",
       "3             3.0           202.0       NaN  8602060747     3340190  \n",
       "4             3.0           201.0       NaN  8660041104     3340190  "
      ]
     },
     "execution_count": 71,
     "metadata": {},
     "output_type": "execute_result"
    }
   ],
   "source": [
    "test_data09_merge_label_df.head()"
   ]
  },
  {
   "cell_type": "code",
   "execution_count": 100,
   "metadata": {
    "collapsed": false
   },
   "outputs": [
    {
     "name": "stdout",
     "output_type": "stream",
     "text": [
      "CPU times: user 10.4 s, sys: 580 ms, total: 10.9 s\n",
      "Wall time: 16.5 s\n"
     ]
    }
   ],
   "source": [
    "%%time\n",
    "# 统计每个用户的 月份数\n",
    "test_data09_cons_no_rcvbl_ym_count_series = \\\n",
    "    test_data09_merge_label_df.groupby(by='CONS_NO')['RCVBL_YM'].apply(lambda x: len(set(x)))"
   ]
  },
  {
   "cell_type": "code",
   "execution_count": 101,
   "metadata": {
    "collapsed": false
   },
   "outputs": [
    {
     "name": "stdout",
     "output_type": "stream",
     "text": [
      "CPU times: user 708 ms, sys: 16 ms, total: 724 ms\n",
      "Wall time: 949 ms\n"
     ]
    }
   ],
   "source": [
    "%%time\n",
    "# 统计每个用户的所有 电费总额\n",
    "test_data09_cons_no_rcvbl_amt_sum_series = test_data09_merge_label_df.groupby(by='CONS_NO')['RCVBL_AMT'].sum()"
   ]
  },
  {
   "cell_type": "code",
   "execution_count": 102,
   "metadata": {
    "collapsed": false
   },
   "outputs": [
    {
     "name": "stdout",
     "output_type": "stream",
     "text": [
      "CPU times: user 2.07 s, sys: 0 ns, total: 2.07 s\n",
      "Wall time: 2.07 s\n"
     ]
    }
   ],
   "source": [
    "%%time\n",
    "# 添加字段 交了多少个月 的电费\n",
    "test_data09_merge_label_df['NUM_OF_MONTHS'] = \\\n",
    "    test_data09_merge_label_df['CONS_NO'].map(test_data09_cons_no_rcvbl_ym_count_series)\n",
    "# 添加字段 总电量\n",
    "test_data09_merge_label_df['RCVBL_AMT_SUM'] = \\\n",
    "    test_data09_merge_label_df['CONS_NO'].map(test_data09_cons_no_rcvbl_amt_sum_series)"
   ]
  },
  {
   "cell_type": "code",
   "execution_count": 103,
   "metadata": {
    "collapsed": true
   },
   "outputs": [
    {
     "data": {
      "text/html": [
       "<div>\n",
       "<table border=\"1\" class=\"dataframe\">\n",
       "  <thead>\n",
       "    <tr style=\"text-align: right;\">\n",
       "      <th></th>\n",
       "      <th>CONS_NO</th>\n",
       "      <th>RCVBL_YM</th>\n",
       "      <th>ORG_NO</th>\n",
       "      <th>PAY_MODE</th>\n",
       "      <th>T_PQ</th>\n",
       "      <th>RCVBL_AMT</th>\n",
       "      <th>RCVED_AMT</th>\n",
       "      <th>STATUS_CODE</th>\n",
       "      <th>RCVBL_PENALTY</th>\n",
       "      <th>RCVED_PENALTY</th>\n",
       "      <th>RISK_LEVEL_CODE</th>\n",
       "      <th>OWE_AMT</th>\n",
       "      <th>CONS_SORT_CODE</th>\n",
       "      <th>ELEC_TYPE_CODE</th>\n",
       "      <th>CTL_MODE</th>\n",
       "      <th>CUST_NO</th>\n",
       "      <th>ORG_NO_7bit</th>\n",
       "      <th>NUM_OF_MONTHS</th>\n",
       "      <th>RCVBL_AMT_SUM</th>\n",
       "      <th>AVERAGE_RCVBL_AMT</th>\n",
       "    </tr>\n",
       "  </thead>\n",
       "  <tbody>\n",
       "    <tr>\n",
       "      <th>0</th>\n",
       "      <td>8602008462</td>\n",
       "      <td>201509</td>\n",
       "      <td>334019001</td>\n",
       "      <td>20311.0</td>\n",
       "      <td>169</td>\n",
       "      <td>90.92</td>\n",
       "      <td>90.92</td>\n",
       "      <td>1</td>\n",
       "      <td>0.0</td>\n",
       "      <td>0.0</td>\n",
       "      <td>NaN</td>\n",
       "      <td>90.92</td>\n",
       "      <td>3.0</td>\n",
       "      <td>201.0</td>\n",
       "      <td>NaN</td>\n",
       "      <td>8602008462</td>\n",
       "      <td>3340190</td>\n",
       "      <td>6</td>\n",
       "      <td>451.39</td>\n",
       "      <td>75.231667</td>\n",
       "    </tr>\n",
       "    <tr>\n",
       "      <th>1</th>\n",
       "      <td>8664221007</td>\n",
       "      <td>201509</td>\n",
       "      <td>33401900101</td>\n",
       "      <td>20311.0</td>\n",
       "      <td>290</td>\n",
       "      <td>156.02</td>\n",
       "      <td>156.02</td>\n",
       "      <td>1</td>\n",
       "      <td>0.0</td>\n",
       "      <td>0.0</td>\n",
       "      <td>NaN</td>\n",
       "      <td>156.02</td>\n",
       "      <td>3.0</td>\n",
       "      <td>201.0</td>\n",
       "      <td>NaN</td>\n",
       "      <td>8664221007</td>\n",
       "      <td>3340190</td>\n",
       "      <td>7</td>\n",
       "      <td>704.77</td>\n",
       "      <td>100.681429</td>\n",
       "    </tr>\n",
       "    <tr>\n",
       "      <th>2</th>\n",
       "      <td>8664221012</td>\n",
       "      <td>201509</td>\n",
       "      <td>33401900101</td>\n",
       "      <td>20311.0</td>\n",
       "      <td>110</td>\n",
       "      <td>59.18</td>\n",
       "      <td>59.18</td>\n",
       "      <td>1</td>\n",
       "      <td>0.0</td>\n",
       "      <td>0.0</td>\n",
       "      <td>NaN</td>\n",
       "      <td>59.18</td>\n",
       "      <td>3.0</td>\n",
       "      <td>201.0</td>\n",
       "      <td>NaN</td>\n",
       "      <td>8664221012</td>\n",
       "      <td>3340190</td>\n",
       "      <td>7</td>\n",
       "      <td>463.21</td>\n",
       "      <td>66.172857</td>\n",
       "    </tr>\n",
       "    <tr>\n",
       "      <th>3</th>\n",
       "      <td>8602060747</td>\n",
       "      <td>201509</td>\n",
       "      <td>334019001</td>\n",
       "      <td>20311.0</td>\n",
       "      <td>25</td>\n",
       "      <td>13.64</td>\n",
       "      <td>13.64</td>\n",
       "      <td>1</td>\n",
       "      <td>0.0</td>\n",
       "      <td>0.0</td>\n",
       "      <td>NaN</td>\n",
       "      <td>13.64</td>\n",
       "      <td>3.0</td>\n",
       "      <td>202.0</td>\n",
       "      <td>NaN</td>\n",
       "      <td>8602060747</td>\n",
       "      <td>3340190</td>\n",
       "      <td>5</td>\n",
       "      <td>82.97</td>\n",
       "      <td>16.594000</td>\n",
       "    </tr>\n",
       "    <tr>\n",
       "      <th>4</th>\n",
       "      <td>8660041104</td>\n",
       "      <td>201509</td>\n",
       "      <td>33401900101</td>\n",
       "      <td>20311.0</td>\n",
       "      <td>44</td>\n",
       "      <td>23.67</td>\n",
       "      <td>23.67</td>\n",
       "      <td>1</td>\n",
       "      <td>0.0</td>\n",
       "      <td>0.0</td>\n",
       "      <td>NaN</td>\n",
       "      <td>23.67</td>\n",
       "      <td>3.0</td>\n",
       "      <td>201.0</td>\n",
       "      <td>NaN</td>\n",
       "      <td>8660041104</td>\n",
       "      <td>3340190</td>\n",
       "      <td>7</td>\n",
       "      <td>153.86</td>\n",
       "      <td>21.980000</td>\n",
       "    </tr>\n",
       "  </tbody>\n",
       "</table>\n",
       "</div>"
      ],
      "text/plain": [
       "      CONS_NO  RCVBL_YM       ORG_NO  PAY_MODE  T_PQ  RCVBL_AMT  RCVED_AMT  \\\n",
       "0  8602008462    201509    334019001   20311.0   169      90.92      90.92   \n",
       "1  8664221007    201509  33401900101   20311.0   290     156.02     156.02   \n",
       "2  8664221012    201509  33401900101   20311.0   110      59.18      59.18   \n",
       "3  8602060747    201509    334019001   20311.0    25      13.64      13.64   \n",
       "4  8660041104    201509  33401900101   20311.0    44      23.67      23.67   \n",
       "\n",
       "   STATUS_CODE  RCVBL_PENALTY  RCVED_PENALTY  RISK_LEVEL_CODE  OWE_AMT  \\\n",
       "0            1            0.0            0.0              NaN    90.92   \n",
       "1            1            0.0            0.0              NaN   156.02   \n",
       "2            1            0.0            0.0              NaN    59.18   \n",
       "3            1            0.0            0.0              NaN    13.64   \n",
       "4            1            0.0            0.0              NaN    23.67   \n",
       "\n",
       "   CONS_SORT_CODE  ELEC_TYPE_CODE  CTL_MODE     CUST_NO  ORG_NO_7bit  \\\n",
       "0             3.0           201.0       NaN  8602008462      3340190   \n",
       "1             3.0           201.0       NaN  8664221007      3340190   \n",
       "2             3.0           201.0       NaN  8664221012      3340190   \n",
       "3             3.0           202.0       NaN  8602060747      3340190   \n",
       "4             3.0           201.0       NaN  8660041104      3340190   \n",
       "\n",
       "   NUM_OF_MONTHS  RCVBL_AMT_SUM  AVERAGE_RCVBL_AMT  \n",
       "0              6         451.39          75.231667  \n",
       "1              7         704.77         100.681429  \n",
       "2              7         463.21          66.172857  \n",
       "3              5          82.97          16.594000  \n",
       "4              7         153.86          21.980000  "
      ]
     },
     "execution_count": 103,
     "metadata": {},
     "output_type": "execute_result"
    }
   ],
   "source": [
    "# 添加字段 用户的平均电量 AVERAGE_OWE_AMT\n",
    "test_data09_merge_label_df['AVERAGE_RCVBL_AMT'] = \\\n",
    "    test_data09_merge_label_df['RCVBL_AMT_SUM']/test_data09_merge_label_df['NUM_OF_MONTHS']\n",
    "test_data09_merge_label_df.head()"
   ]
  },
  {
   "cell_type": "markdown",
   "metadata": {},
   "source": [
    "##### 添加到 test_data01_a_worker_per_user中"
   ]
  },
  {
   "cell_type": "code",
   "execution_count": 104,
   "metadata": {
    "collapsed": false
   },
   "outputs": [
    {
     "name": "stdout",
     "output_type": "stream",
     "text": [
      "(370871, 48) 169169\n",
      "CPU times: user 2.83 s, sys: 1.26 s, total: 4.09 s\n",
      "Wall time: 11.6 s\n"
     ]
    }
   ],
   "source": [
    "%%time\n",
    "temp = test_data01_a_worker_per_user.merge(\n",
    "    test_data09_merge_label_df[['AVERAGE_RCVBL_AMT','CONS_NO']].drop_duplicates(),\n",
    "    how='left', \n",
    "    left_on='CUST_NO',\n",
    "    right_on='CONS_NO',\n",
    ")\n",
    "print temp.shape,sum(temp['AVERAGE_RCVBL_AMT'].isnull())"
   ]
  },
  {
   "cell_type": "code",
   "execution_count": 105,
   "metadata": {
    "collapsed": false
   },
   "outputs": [],
   "source": [
    "test_data01_a_worker_per_user['AVERAGE_RCVBL_AMT'] = temp['AVERAGE_RCVBL_AMT']"
   ]
  },
  {
   "cell_type": "code",
   "execution_count": 106,
   "metadata": {
    "collapsed": true
   },
   "outputs": [
    {
     "data": {
      "text/plain": [
       "<matplotlib.axes._subplots.AxesSubplot at 0x7f2f214c0d10>"
      ]
     },
     "execution_count": 106,
     "metadata": {},
     "output_type": "execute_result"
    },
    {
     "data": {
      "image/png": "[encoded data removed]",
      "text/plain": [
       "<matplotlib.figure.Figure at 0x7f2f1ee03f90>"
      ]
     },
     "metadata": {},
     "output_type": "display_data"
    }
   ],
   "source": [
    "test_data01_a_worker_per_user['AVERAGE_RCVBL_AMT'].plot.line()"
   ]
  },
  {
   "cell_type": "markdown",
   "metadata": {},
   "source": [
    "### 3-4 09表 应收违约金 RCVBL_PENALTY 的次数"
   ]
  },
  {
   "cell_type": "markdown",
   "metadata": {},
   "source": [
    "#### 3-4-1 训练集"
   ]
  },
  {
   "cell_type": "code",
   "execution_count": 19,
   "metadata": {
    "collapsed": true
   },
   "outputs": [
    {
     "data": {
      "text/html": [
       "<div>\n",
       "<table border=\"1\" class=\"dataframe\">\n",
       "  <thead>\n",
       "    <tr style=\"text-align: right;\">\n",
       "      <th></th>\n",
       "      <th>CONS_NO</th>\n",
       "      <th>RCVBL_YM</th>\n",
       "      <th>ORG_NO</th>\n",
       "      <th>PAY_MODE</th>\n",
       "      <th>T_PQ</th>\n",
       "      <th>RCVBL_AMT</th>\n",
       "      <th>RCVED_AMT</th>\n",
       "      <th>STATUS_CODE</th>\n",
       "      <th>RCVBL_PENALTY</th>\n",
       "      <th>RCVED_PENALTY</th>\n",
       "      <th>RISK_LEVEL_CODE</th>\n",
       "      <th>OWE_AMT</th>\n",
       "      <th>CONS_SORT_CODE</th>\n",
       "      <th>ELEC_TYPE_CODE</th>\n",
       "      <th>CTL_MODE</th>\n",
       "      <th>CUST_NO</th>\n",
       "      <th>TAG</th>\n",
       "      <th>ORG_NO_7bit</th>\n",
       "    </tr>\n",
       "  </thead>\n",
       "  <tbody>\n",
       "    <tr>\n",
       "      <th>524654</th>\n",
       "      <td>0002476706</td>\n",
       "      <td>201501</td>\n",
       "      <td>33401010428</td>\n",
       "      <td>10101.0</td>\n",
       "      <td>0</td>\n",
       "      <td>0.00</td>\n",
       "      <td>0.00</td>\n",
       "      <td>1</td>\n",
       "      <td>0.00</td>\n",
       "      <td>0.00</td>\n",
       "      <td>NaN</td>\n",
       "      <td>0.00</td>\n",
       "      <td>2.0</td>\n",
       "      <td>405.0</td>\n",
       "      <td>NaN</td>\n",
       "      <td>NaN</td>\n",
       "      <td>0</td>\n",
       "      <td>3340101</td>\n",
       "    </tr>\n",
       "    <tr>\n",
       "      <th>536370</th>\n",
       "      <td>0002476706</td>\n",
       "      <td>201502</td>\n",
       "      <td>33401010428</td>\n",
       "      <td>10101.0</td>\n",
       "      <td>0</td>\n",
       "      <td>0.00</td>\n",
       "      <td>0.00</td>\n",
       "      <td>1</td>\n",
       "      <td>0.00</td>\n",
       "      <td>0.00</td>\n",
       "      <td>NaN</td>\n",
       "      <td>0.00</td>\n",
       "      <td>2.0</td>\n",
       "      <td>405.0</td>\n",
       "      <td>NaN</td>\n",
       "      <td>NaN</td>\n",
       "      <td>0</td>\n",
       "      <td>3340101</td>\n",
       "    </tr>\n",
       "    <tr>\n",
       "      <th>571758</th>\n",
       "      <td>0002476706</td>\n",
       "      <td>201503</td>\n",
       "      <td>33401010428</td>\n",
       "      <td>10101.0</td>\n",
       "      <td>0</td>\n",
       "      <td>0.00</td>\n",
       "      <td>0.00</td>\n",
       "      <td>1</td>\n",
       "      <td>0.00</td>\n",
       "      <td>0.00</td>\n",
       "      <td>NaN</td>\n",
       "      <td>0.00</td>\n",
       "      <td>2.0</td>\n",
       "      <td>405.0</td>\n",
       "      <td>NaN</td>\n",
       "      <td>NaN</td>\n",
       "      <td>0</td>\n",
       "      <td>3340101</td>\n",
       "    </tr>\n",
       "    <tr>\n",
       "      <th>632733</th>\n",
       "      <td>0002476706</td>\n",
       "      <td>201504</td>\n",
       "      <td>33401010428</td>\n",
       "      <td>10101.0</td>\n",
       "      <td>86</td>\n",
       "      <td>81.36</td>\n",
       "      <td>81.36</td>\n",
       "      <td>1</td>\n",
       "      <td>0.00</td>\n",
       "      <td>0.00</td>\n",
       "      <td>NaN</td>\n",
       "      <td>81.36</td>\n",
       "      <td>2.0</td>\n",
       "      <td>405.0</td>\n",
       "      <td>NaN</td>\n",
       "      <td>NaN</td>\n",
       "      <td>0</td>\n",
       "      <td>3340101</td>\n",
       "    </tr>\n",
       "    <tr>\n",
       "      <th>644199</th>\n",
       "      <td>0002476706</td>\n",
       "      <td>201505</td>\n",
       "      <td>33401010428</td>\n",
       "      <td>10101.0</td>\n",
       "      <td>88</td>\n",
       "      <td>82.92</td>\n",
       "      <td>82.92</td>\n",
       "      <td>1</td>\n",
       "      <td>0.00</td>\n",
       "      <td>0.00</td>\n",
       "      <td>NaN</td>\n",
       "      <td>82.92</td>\n",
       "      <td>2.0</td>\n",
       "      <td>405.0</td>\n",
       "      <td>NaN</td>\n",
       "      <td>NaN</td>\n",
       "      <td>0</td>\n",
       "      <td>3340101</td>\n",
       "    </tr>\n",
       "    <tr>\n",
       "      <th>679047</th>\n",
       "      <td>0002476706</td>\n",
       "      <td>201506</td>\n",
       "      <td>33401010428</td>\n",
       "      <td>10101.0</td>\n",
       "      <td>46</td>\n",
       "      <td>43.13</td>\n",
       "      <td>43.13</td>\n",
       "      <td>1</td>\n",
       "      <td>1.38</td>\n",
       "      <td>1.38</td>\n",
       "      <td>NaN</td>\n",
       "      <td>43.13</td>\n",
       "      <td>2.0</td>\n",
       "      <td>405.0</td>\n",
       "      <td>NaN</td>\n",
       "      <td>NaN</td>\n",
       "      <td>0</td>\n",
       "      <td>3340101</td>\n",
       "    </tr>\n",
       "    <tr>\n",
       "      <th>1149332</th>\n",
       "      <td>0002476706</td>\n",
       "      <td>201507</td>\n",
       "      <td>33401011025</td>\n",
       "      <td>10101.0</td>\n",
       "      <td>31</td>\n",
       "      <td>29.07</td>\n",
       "      <td>29.07</td>\n",
       "      <td>1</td>\n",
       "      <td>0.00</td>\n",
       "      <td>0.00</td>\n",
       "      <td>NaN</td>\n",
       "      <td>29.07</td>\n",
       "      <td>2.0</td>\n",
       "      <td>405.0</td>\n",
       "      <td>NaN</td>\n",
       "      <td>NaN</td>\n",
       "      <td>0</td>\n",
       "      <td>3340101</td>\n",
       "    </tr>\n",
       "  </tbody>\n",
       "</table>\n",
       "</div>"
      ],
      "text/plain": [
       "            CONS_NO  RCVBL_YM       ORG_NO  PAY_MODE  T_PQ  RCVBL_AMT  \\\n",
       "524654   0002476706    201501  33401010428   10101.0     0       0.00   \n",
       "536370   0002476706    201502  33401010428   10101.0     0       0.00   \n",
       "571758   0002476706    201503  33401010428   10101.0     0       0.00   \n",
       "632733   0002476706    201504  33401010428   10101.0    86      81.36   \n",
       "644199   0002476706    201505  33401010428   10101.0    88      82.92   \n",
       "679047   0002476706    201506  33401010428   10101.0    46      43.13   \n",
       "1149332  0002476706    201507  33401011025   10101.0    31      29.07   \n",
       "\n",
       "         RCVED_AMT  STATUS_CODE  RCVBL_PENALTY  RCVED_PENALTY  \\\n",
       "524654        0.00            1           0.00           0.00   \n",
       "536370        0.00            1           0.00           0.00   \n",
       "571758        0.00            1           0.00           0.00   \n",
       "632733       81.36            1           0.00           0.00   \n",
       "644199       82.92            1           0.00           0.00   \n",
       "679047       43.13            1           1.38           1.38   \n",
       "1149332      29.07            1           0.00           0.00   \n",
       "\n",
       "         RISK_LEVEL_CODE  OWE_AMT  CONS_SORT_CODE  ELEC_TYPE_CODE  CTL_MODE  \\\n",
       "524654               NaN     0.00             2.0           405.0       NaN   \n",
       "536370               NaN     0.00             2.0           405.0       NaN   \n",
       "571758               NaN     0.00             2.0           405.0       NaN   \n",
       "632733               NaN    81.36             2.0           405.0       NaN   \n",
       "644199               NaN    82.92             2.0           405.0       NaN   \n",
       "679047               NaN    43.13             2.0           405.0       NaN   \n",
       "1149332              NaN    29.07             2.0           405.0       NaN   \n",
       "\n",
       "         CUST_NO  TAG  ORG_NO_7bit  \n",
       "524654       NaN    0      3340101  \n",
       "536370       NaN    0      3340101  \n",
       "571758       NaN    0      3340101  \n",
       "632733       NaN    0      3340101  \n",
       "644199       NaN    0      3340101  \n",
       "679047       NaN    0      3340101  \n",
       "1149332      NaN    0      3340101  "
      ]
     },
     "execution_count": 19,
     "metadata": {},
     "output_type": "execute_result"
    }
   ],
   "source": [
    "train_data09_merge_label_df[train_data09_merge_label_df['CONS_NO']=='0002476706']"
   ]
  },
  {
   "cell_type": "code",
   "execution_count": 14,
   "metadata": {
    "collapsed": true
   },
   "outputs": [
    {
     "name": "stdout",
     "output_type": "stream",
     "text": [
      "CPU times: user 1min 34s, sys: 808 ms, total: 1min 35s\n",
      "Wall time: 1min 35s\n"
     ]
    }
   ],
   "source": [
    "%%time\n",
    "def count_num_of_rcvbl_amt(x):\n",
    "    ym_set=set()\n",
    "    for item in x.values:\n",
    "        if item[0]>0:\n",
    "            if not ym_set.__contains__(item[1]):\n",
    "                ym_set.add(item[1])\n",
    "    \n",
    "#     print len(ym_set)\n",
    "\n",
    "\n",
    "    return pd.Series(len(ym_set))\n",
    "\n",
    "# 计算应收违约金 RCVBL_PENALTY 的次数\n",
    "train_data09_rcvbl_amt_count_series = \\\n",
    "    train_data09_merge_label_df.groupby(by='CONS_NO')['RCVBL_PENALTY','RCVBL_YM'].apply(count_num_of_rcvbl_amt)"
   ]
  },
  {
   "cell_type": "code",
   "execution_count": 36,
   "metadata": {
    "collapsed": false
   },
   "outputs": [],
   "source": [
    "train_data09_rcvbl_amt_count_dict = {i:j[0] for i,j in zip(train_data09_rcvbl_amt_count_series.index,train_data09_rcvbl_amt_count_series.values)}"
   ]
  },
  {
   "cell_type": "code",
   "execution_count": 37,
   "metadata": {
    "collapsed": false
   },
   "outputs": [
    {
     "data": {
      "text/plain": [
       "1"
      ]
     },
     "execution_count": 37,
     "metadata": {},
     "output_type": "execute_result"
    }
   ],
   "source": [
    "train_data09_rcvbl_amt_count_dict['0002476706']"
   ]
  },
  {
   "cell_type": "code",
   "execution_count": 43,
   "metadata": {
    "collapsed": false
   },
   "outputs": [],
   "source": [
    "train_data01_a_worker_per_user['NUM_OF_RCVBL_PENALTY'] = \\\n",
    "    train_data01_a_worker_per_user['CUST_NO'].map(train_data09_rcvbl_amt_count_dict)"
   ]
  },
  {
   "cell_type": "code",
   "execution_count": 44,
   "metadata": {
    "collapsed": true
   },
   "outputs": [
    {
     "name": "stdout",
     "output_type": "stream",
     "text": [
      "(13, 5)\n"
     ]
    },
    {
     "data": {
      "image/png": "[encoded data removed]",
      "text/plain": [
       "<matplotlib.figure.Figure at 0x7f2f9f65b050>"
      ]
     },
     "metadata": {},
     "output_type": "display_data"
    }
   ],
   "source": [
    "train_data01_a_worker_per_user_num_of_rcvbl_count_df = show_attribute_detail(\n",
    "    train_data01_a_worker_per_user[train_data01_a_worker_per_user['IS_CONNECT_TO_09TABLE']==1],\n",
    "    'NUM_OF_RCVBL_PENALTY',\n",
    "    split_by_tag=True, tag_name='TAG'\n",
    ").sort_values(by='tag1/total',ascending=False)"
   ]
  },
  {
   "cell_type": "markdown",
   "metadata": {},
   "source": [
    "#### 3-13-1 测试集"
   ]
  },
  {
   "cell_type": "code",
   "execution_count": 45,
   "metadata": {
    "collapsed": false
   },
   "outputs": [
    {
     "name": "stdout",
     "output_type": "stream",
     "text": [
      "CPU times: user 48.4 s, sys: 480 ms, total: 48.9 s\n",
      "Wall time: 48.8 s\n",
      "CPU times: user 48.4 s, sys: 484 ms, total: 48.9 s\n",
      "Wall time: 48.8 s\n"
     ]
    }
   ],
   "source": [
    "%%time\n",
    "def count_num_of_rcvbl_amt(x):\n",
    "    ym_set=set()\n",
    "    for item in x.values:\n",
    "        if item[0]>0:\n",
    "            if not ym_set.__contains__(item[1]):\n",
    "                ym_set.add(item[1])\n",
    "    \n",
    "#     print len(ym_set)\n",
    "\n",
    "\n",
    "    return pd.Series(len(ym_set))\n",
    "\n",
    "# 计算应收违约金 RCVBL_PENALTY 的次数\n",
    "test_data09_rcvbl_amt_count_series = \\\n",
    "    test_data09_merge_label_df.groupby(by='CONS_NO')['RCVBL_PENALTY','RCVBL_YM'].apply(count_num_of_rcvbl_amt)\n",
    "    \n",
    "test_rcvbl_amt_count_series = test_data09_merge_label_df.groupby(by='CONS_NO')['RCVBL_AMT'].apply(lambda x : sum([item>0 for item in x]))"
   ]
  },
  {
   "cell_type": "code",
   "execution_count": 46,
   "metadata": {
    "collapsed": false
   },
   "outputs": [],
   "source": [
    "test_data09_rcvbl_amt_count_dict = {i:j[0] for i,j in zip(test_data09_rcvbl_amt_count_series.index,test_data09_rcvbl_amt_count_series.values)}"
   ]
  },
  {
   "cell_type": "markdown",
   "metadata": {},
   "source": [
    "##### 添加到 test_data01_a_worker_per_user中"
   ]
  },
  {
   "cell_type": "code",
   "execution_count": 51,
   "metadata": {
    "collapsed": false
   },
   "outputs": [],
   "source": [
    "test_data01_a_worker_per_user['NUM_OF_RCVBL_PENALTY'] = test_data01_a_worker_per_user['CUST_NO'].map(test_data09_rcvbl_amt_count_dict)"
   ]
  },
  {
   "cell_type": "code",
   "execution_count": 48,
   "metadata": {
    "collapsed": true
   },
   "outputs": [
    {
     "name": "stdout",
     "output_type": "stream",
     "text": [
      "(13,)\n"
     ]
    },
    {
     "data": {
      "image/png": "[encoded data removed]",
      "text/plain": [
       "<matplotlib.figure.Figure at 0x7f2f9f65bed0>"
      ]
     },
     "metadata": {},
     "output_type": "display_data"
    }
   ],
   "source": [
    "test_data01_a_worker_per_user_num_of_rcvbl_count_df = show_attribute_detail(\n",
    "    test_data01_a_worker_per_user[test_data01_a_worker_per_user['IS_CONNECT_TO_09TABLE']==1],\n",
    "    'NUM_OF_RCVBL_PENALTY',\n",
    ")"
   ]
  },
  {
   "cell_type": "code",
   "execution_count": 43,
   "metadata": {
    "collapsed": false
   },
   "outputs": [],
   "source": [
    "test_data01_a_worker_per_user['NUM_OF_RCVBL_PENALTY'] = temp['NUM_OF_RCVBL_PENALTY']"
   ]
  },
  {
   "cell_type": "markdown",
   "metadata": {},
   "source": [
    "##### 3-12-1-3 合并结果"
   ]
  },
  {
   "cell_type": "code",
   "execution_count": 49,
   "metadata": {
    "collapsed": true
   },
   "outputs": [
    {
     "name": "stdout",
     "output_type": "stream",
     "text": [
      "代表工单 -应收违约金 RCVBL_PENALTY 的次数\n",
      "       total   tag1  tag1/total    tag0  tag0/total  test_total\n",
      "4.0     4775   1168    0.244607    3607    0.755393        1151\n",
      "3.0     9806   2382    0.242913    7424    0.757087        2088\n",
      "2.0    22187   5313    0.239465   16874    0.760535        4506\n",
      "5.0     2429    558    0.229724    1871    0.770276         750\n",
      "11.0     408     92    0.225490     316    0.774510         143\n",
      "6.0     1381    296    0.214337    1085    0.785663         471\n",
      "9.0      479    101    0.210856     378    0.789144         213\n",
      "12.0     295     62    0.210169     233    0.789831         119\n",
      "8.0      731    142    0.194254     589    0.805746         303\n",
      "10.0     416     77    0.185096     339    0.814904         207\n",
      "7.0      922    169    0.183297     753    0.816703         382\n",
      "1.0    78203  13749    0.175812   64454    0.824188       22049\n",
      "0.0   433716  55916    0.128923  377800    0.871077      169320\n"
     ]
    }
   ],
   "source": [
    "temp = train_data01_a_worker_per_user_num_of_rcvbl_count_df.join(\n",
    "    test_data01_a_worker_per_user_num_of_rcvbl_count_df,\n",
    "    how='outer'\n",
    ").fillna(0).sort_values(by='tag1/total',ascending=False)\n",
    "temp['test_total'] = temp['NUM_OF_RCVBL_PENALTY']\n",
    "temp = temp.drop(labels = [u'NUM_OF_RCVBL_PENALTY'],axis=1)\n",
    "print '代表工单 -应收违约金 RCVBL_PENALTY 的次数'\n",
    "print temp\n",
    "# 数据太多了，输出分析\n",
    "save_data(\n",
    "    temp,\n",
    "    'train&test_data01_a_worker_per_user_num_of_rcvbl_count_df.csv',\n",
    "    index=True\n",
    ")"
   ]
  },
  {
   "cell_type": "markdown",
   "metadata": {
    "collapsed": true
   },
   "source": [
    "### 3-5 09表 电价的研究"
   ]
  },
  {
   "cell_type": "code",
   "execution_count": 87,
   "metadata": {
    "collapsed": true
   },
   "outputs": [
    {
     "data": {
      "text/html": [
       "<div>\n",
       "<table border=\"1\" class=\"dataframe\">\n",
       "  <thead>\n",
       "    <tr style=\"text-align: right;\">\n",
       "      <th></th>\n",
       "      <th>CONS_NO</th>\n",
       "      <th>RCVBL_YM</th>\n",
       "      <th>ORG_NO</th>\n",
       "      <th>PAY_MODE</th>\n",
       "      <th>T_PQ</th>\n",
       "      <th>RCVBL_AMT</th>\n",
       "      <th>RCVED_AMT</th>\n",
       "      <th>STATUS_CODE</th>\n",
       "      <th>RCVBL_PENALTY</th>\n",
       "      <th>RCVED_PENALTY</th>\n",
       "      <th>RISK_LEVEL_CODE</th>\n",
       "      <th>OWE_AMT</th>\n",
       "      <th>CONS_SORT_CODE</th>\n",
       "      <th>ELEC_TYPE_CODE</th>\n",
       "      <th>CTL_MODE</th>\n",
       "      <th>CUST_NO</th>\n",
       "      <th>TAG</th>\n",
       "      <th>ORG_NO_9bit</th>\n",
       "    </tr>\n",
       "  </thead>\n",
       "  <tbody>\n",
       "    <tr>\n",
       "      <th>6047267</th>\n",
       "      <td>3330137341</td>\n",
       "      <td>201502</td>\n",
       "      <td>334080101</td>\n",
       "      <td>010101</td>\n",
       "      <td>9270</td>\n",
       "      <td>8076.78</td>\n",
       "      <td>8076.78</td>\n",
       "      <td>1</td>\n",
       "      <td>113.07</td>\n",
       "      <td>113.07</td>\n",
       "      <td>NaN</td>\n",
       "      <td>8076.78</td>\n",
       "      <td>1.0</td>\n",
       "      <td>405.0</td>\n",
       "      <td>NaN</td>\n",
       "      <td>3330137341</td>\n",
       "      <td>1</td>\n",
       "      <td>334080101</td>\n",
       "    </tr>\n",
       "    <tr>\n",
       "      <th>6071463</th>\n",
       "      <td>3330137341</td>\n",
       "      <td>201503</td>\n",
       "      <td>334080101</td>\n",
       "      <td>010101</td>\n",
       "      <td>11820</td>\n",
       "      <td>10388.51</td>\n",
       "      <td>10388.51</td>\n",
       "      <td>1</td>\n",
       "      <td>0.00</td>\n",
       "      <td>0.00</td>\n",
       "      <td>NaN</td>\n",
       "      <td>10388.51</td>\n",
       "      <td>1.0</td>\n",
       "      <td>405.0</td>\n",
       "      <td>NaN</td>\n",
       "      <td>3330137341</td>\n",
       "      <td>1</td>\n",
       "      <td>334080101</td>\n",
       "    </tr>\n",
       "    <tr>\n",
       "      <th>6079122</th>\n",
       "      <td>3330137341</td>\n",
       "      <td>201503</td>\n",
       "      <td>334080101</td>\n",
       "      <td>010101</td>\n",
       "      <td>8370</td>\n",
       "      <td>7089.60</td>\n",
       "      <td>7089.60</td>\n",
       "      <td>1</td>\n",
       "      <td>0.00</td>\n",
       "      <td>0.00</td>\n",
       "      <td>NaN</td>\n",
       "      <td>7089.60</td>\n",
       "      <td>1.0</td>\n",
       "      <td>405.0</td>\n",
       "      <td>NaN</td>\n",
       "      <td>3330137341</td>\n",
       "      <td>1</td>\n",
       "      <td>334080101</td>\n",
       "    </tr>\n",
       "    <tr>\n",
       "      <th>6110161</th>\n",
       "      <td>3330137341</td>\n",
       "      <td>201504</td>\n",
       "      <td>334080101</td>\n",
       "      <td>010101</td>\n",
       "      <td>5400</td>\n",
       "      <td>4622.89</td>\n",
       "      <td>4622.89</td>\n",
       "      <td>1</td>\n",
       "      <td>0.00</td>\n",
       "      <td>0.00</td>\n",
       "      <td>NaN</td>\n",
       "      <td>4622.89</td>\n",
       "      <td>1.0</td>\n",
       "      <td>405.0</td>\n",
       "      <td>NaN</td>\n",
       "      <td>3330137341</td>\n",
       "      <td>1</td>\n",
       "      <td>334080101</td>\n",
       "    </tr>\n",
       "    <tr>\n",
       "      <th>6121040</th>\n",
       "      <td>3330137341</td>\n",
       "      <td>201504</td>\n",
       "      <td>334080101</td>\n",
       "      <td>010101</td>\n",
       "      <td>13665</td>\n",
       "      <td>12474.25</td>\n",
       "      <td>12474.25</td>\n",
       "      <td>1</td>\n",
       "      <td>0.00</td>\n",
       "      <td>0.00</td>\n",
       "      <td>NaN</td>\n",
       "      <td>12474.25</td>\n",
       "      <td>1.0</td>\n",
       "      <td>405.0</td>\n",
       "      <td>NaN</td>\n",
       "      <td>3330137341</td>\n",
       "      <td>1</td>\n",
       "      <td>334080101</td>\n",
       "    </tr>\n",
       "    <tr>\n",
       "      <th>6111178</th>\n",
       "      <td>3330137341</td>\n",
       "      <td>201505</td>\n",
       "      <td>334080101</td>\n",
       "      <td>020331</td>\n",
       "      <td>7275</td>\n",
       "      <td>6596.34</td>\n",
       "      <td>6596.34</td>\n",
       "      <td>1</td>\n",
       "      <td>0.00</td>\n",
       "      <td>0.00</td>\n",
       "      <td>NaN</td>\n",
       "      <td>6596.34</td>\n",
       "      <td>1.0</td>\n",
       "      <td>405.0</td>\n",
       "      <td>NaN</td>\n",
       "      <td>3330137341</td>\n",
       "      <td>1</td>\n",
       "      <td>334080101</td>\n",
       "    </tr>\n",
       "    <tr>\n",
       "      <th>6120728</th>\n",
       "      <td>3330137341</td>\n",
       "      <td>201505</td>\n",
       "      <td>334080101</td>\n",
       "      <td>020331</td>\n",
       "      <td>12465</td>\n",
       "      <td>11336.49</td>\n",
       "      <td>11336.49</td>\n",
       "      <td>1</td>\n",
       "      <td>0.00</td>\n",
       "      <td>0.00</td>\n",
       "      <td>NaN</td>\n",
       "      <td>4101.59</td>\n",
       "      <td>1.0</td>\n",
       "      <td>405.0</td>\n",
       "      <td>NaN</td>\n",
       "      <td>3330137341</td>\n",
       "      <td>1</td>\n",
       "      <td>334080101</td>\n",
       "    </tr>\n",
       "    <tr>\n",
       "      <th>6124915</th>\n",
       "      <td>3330137341</td>\n",
       "      <td>201506</td>\n",
       "      <td>334080101</td>\n",
       "      <td>020331</td>\n",
       "      <td>19695</td>\n",
       "      <td>16636.51</td>\n",
       "      <td>16636.51</td>\n",
       "      <td>1</td>\n",
       "      <td>0.00</td>\n",
       "      <td>0.00</td>\n",
       "      <td>NaN</td>\n",
       "      <td>16636.51</td>\n",
       "      <td>1.0</td>\n",
       "      <td>405.0</td>\n",
       "      <td>NaN</td>\n",
       "      <td>3330137341</td>\n",
       "      <td>1</td>\n",
       "      <td>334080101</td>\n",
       "    </tr>\n",
       "    <tr>\n",
       "      <th>6145563</th>\n",
       "      <td>3330137341</td>\n",
       "      <td>201506</td>\n",
       "      <td>334080101</td>\n",
       "      <td>020331</td>\n",
       "      <td>25095</td>\n",
       "      <td>22190.95</td>\n",
       "      <td>22190.95</td>\n",
       "      <td>1</td>\n",
       "      <td>0.00</td>\n",
       "      <td>0.00</td>\n",
       "      <td>NaN</td>\n",
       "      <td>22190.95</td>\n",
       "      <td>1.0</td>\n",
       "      <td>405.0</td>\n",
       "      <td>NaN</td>\n",
       "      <td>3330137341</td>\n",
       "      <td>1</td>\n",
       "      <td>334080101</td>\n",
       "    </tr>\n",
       "    <tr>\n",
       "      <th>6167463</th>\n",
       "      <td>3330137341</td>\n",
       "      <td>201507</td>\n",
       "      <td>334080101</td>\n",
       "      <td>020331</td>\n",
       "      <td>22605</td>\n",
       "      <td>19144.02</td>\n",
       "      <td>19144.02</td>\n",
       "      <td>1</td>\n",
       "      <td>0.00</td>\n",
       "      <td>0.00</td>\n",
       "      <td>NaN</td>\n",
       "      <td>19144.02</td>\n",
       "      <td>1.0</td>\n",
       "      <td>405.0</td>\n",
       "      <td>NaN</td>\n",
       "      <td>3330137341</td>\n",
       "      <td>1</td>\n",
       "      <td>334080101</td>\n",
       "    </tr>\n",
       "    <tr>\n",
       "      <th>6170668</th>\n",
       "      <td>3330137341</td>\n",
       "      <td>201507</td>\n",
       "      <td>334080101</td>\n",
       "      <td>020331</td>\n",
       "      <td>30675</td>\n",
       "      <td>26437.61</td>\n",
       "      <td>26437.61</td>\n",
       "      <td>1</td>\n",
       "      <td>0.00</td>\n",
       "      <td>0.00</td>\n",
       "      <td>NaN</td>\n",
       "      <td>26437.61</td>\n",
       "      <td>1.0</td>\n",
       "      <td>405.0</td>\n",
       "      <td>NaN</td>\n",
       "      <td>3330137341</td>\n",
       "      <td>1</td>\n",
       "      <td>334080101</td>\n",
       "    </tr>\n",
       "    <tr>\n",
       "      <th>6191796</th>\n",
       "      <td>3330137341</td>\n",
       "      <td>201508</td>\n",
       "      <td>334080101</td>\n",
       "      <td>020331</td>\n",
       "      <td>43455</td>\n",
       "      <td>37597.91</td>\n",
       "      <td>37597.91</td>\n",
       "      <td>1</td>\n",
       "      <td>0.00</td>\n",
       "      <td>0.00</td>\n",
       "      <td>NaN</td>\n",
       "      <td>37597.91</td>\n",
       "      <td>1.0</td>\n",
       "      <td>405.0</td>\n",
       "      <td>NaN</td>\n",
       "      <td>3330137341</td>\n",
       "      <td>1</td>\n",
       "      <td>334080101</td>\n",
       "    </tr>\n",
       "    <tr>\n",
       "      <th>6183862</th>\n",
       "      <td>3330137341</td>\n",
       "      <td>201508</td>\n",
       "      <td>334080101</td>\n",
       "      <td>020331</td>\n",
       "      <td>25725</td>\n",
       "      <td>21669.95</td>\n",
       "      <td>21669.95</td>\n",
       "      <td>1</td>\n",
       "      <td>0.00</td>\n",
       "      <td>0.00</td>\n",
       "      <td>NaN</td>\n",
       "      <td>21669.95</td>\n",
       "      <td>1.0</td>\n",
       "      <td>405.0</td>\n",
       "      <td>NaN</td>\n",
       "      <td>3330137341</td>\n",
       "      <td>1</td>\n",
       "      <td>334080101</td>\n",
       "    </tr>\n",
       "    <tr>\n",
       "      <th>6186703</th>\n",
       "      <td>3330137341</td>\n",
       "      <td>201509</td>\n",
       "      <td>334080101</td>\n",
       "      <td>020331</td>\n",
       "      <td>22365</td>\n",
       "      <td>18759.06</td>\n",
       "      <td>18759.06</td>\n",
       "      <td>1</td>\n",
       "      <td>0.00</td>\n",
       "      <td>0.00</td>\n",
       "      <td>NaN</td>\n",
       "      <td>18759.06</td>\n",
       "      <td>1.0</td>\n",
       "      <td>405.0</td>\n",
       "      <td>NaN</td>\n",
       "      <td>3330137341</td>\n",
       "      <td>1</td>\n",
       "      <td>334080101</td>\n",
       "    </tr>\n",
       "    <tr>\n",
       "      <th>6177401</th>\n",
       "      <td>3330137341</td>\n",
       "      <td>201509</td>\n",
       "      <td>334080101</td>\n",
       "      <td>020331</td>\n",
       "      <td>0</td>\n",
       "      <td>50000.00</td>\n",
       "      <td>50000.00</td>\n",
       "      <td>1</td>\n",
       "      <td>0.00</td>\n",
       "      <td>0.00</td>\n",
       "      <td>NaN</td>\n",
       "      <td>50000.00</td>\n",
       "      <td>NaN</td>\n",
       "      <td>NaN</td>\n",
       "      <td>NaN</td>\n",
       "      <td>3330137341</td>\n",
       "      <td>1</td>\n",
       "      <td>334080101</td>\n",
       "    </tr>\n",
       "    <tr>\n",
       "      <th>6172733</th>\n",
       "      <td>3330137341</td>\n",
       "      <td>201509</td>\n",
       "      <td>334080101</td>\n",
       "      <td>020331</td>\n",
       "      <td>38550</td>\n",
       "      <td>33380.22</td>\n",
       "      <td>33380.22</td>\n",
       "      <td>1</td>\n",
       "      <td>0.00</td>\n",
       "      <td>0.00</td>\n",
       "      <td>NaN</td>\n",
       "      <td>33380.22</td>\n",
       "      <td>1.0</td>\n",
       "      <td>405.0</td>\n",
       "      <td>NaN</td>\n",
       "      <td>3330137341</td>\n",
       "      <td>1</td>\n",
       "      <td>334080101</td>\n",
       "    </tr>\n",
       "    <tr>\n",
       "      <th>6202830</th>\n",
       "      <td>3330137341</td>\n",
       "      <td>201510</td>\n",
       "      <td>334080101</td>\n",
       "      <td>020331</td>\n",
       "      <td>28935</td>\n",
       "      <td>25214.94</td>\n",
       "      <td>25214.94</td>\n",
       "      <td>1</td>\n",
       "      <td>0.00</td>\n",
       "      <td>0.00</td>\n",
       "      <td>NaN</td>\n",
       "      <td>25214.94</td>\n",
       "      <td>1.0</td>\n",
       "      <td>405.0</td>\n",
       "      <td>NaN</td>\n",
       "      <td>3330137341</td>\n",
       "      <td>1</td>\n",
       "      <td>334080101</td>\n",
       "    </tr>\n",
       "    <tr>\n",
       "      <th>6204253</th>\n",
       "      <td>3330137341</td>\n",
       "      <td>201510</td>\n",
       "      <td>334080101</td>\n",
       "      <td>020331</td>\n",
       "      <td>21210</td>\n",
       "      <td>17979.45</td>\n",
       "      <td>17979.45</td>\n",
       "      <td>1</td>\n",
       "      <td>0.00</td>\n",
       "      <td>0.00</td>\n",
       "      <td>NaN</td>\n",
       "      <td>17979.45</td>\n",
       "      <td>1.0</td>\n",
       "      <td>405.0</td>\n",
       "      <td>NaN</td>\n",
       "      <td>3330137341</td>\n",
       "      <td>1</td>\n",
       "      <td>334080101</td>\n",
       "    </tr>\n",
       "    <tr>\n",
       "      <th>6204263</th>\n",
       "      <td>3330137341</td>\n",
       "      <td>201510</td>\n",
       "      <td>334080101</td>\n",
       "      <td>020331</td>\n",
       "      <td>0</td>\n",
       "      <td>50000.00</td>\n",
       "      <td>50000.00</td>\n",
       "      <td>1</td>\n",
       "      <td>0.00</td>\n",
       "      <td>0.00</td>\n",
       "      <td>NaN</td>\n",
       "      <td>50000.00</td>\n",
       "      <td>NaN</td>\n",
       "      <td>NaN</td>\n",
       "      <td>NaN</td>\n",
       "      <td>3330137341</td>\n",
       "      <td>1</td>\n",
       "      <td>334080101</td>\n",
       "    </tr>\n",
       "    <tr>\n",
       "      <th>6236505</th>\n",
       "      <td>3330137341</td>\n",
       "      <td>201511</td>\n",
       "      <td>334080101</td>\n",
       "      <td>020331</td>\n",
       "      <td>35490</td>\n",
       "      <td>31068.12</td>\n",
       "      <td>31068.12</td>\n",
       "      <td>1</td>\n",
       "      <td>0.00</td>\n",
       "      <td>0.00</td>\n",
       "      <td>NaN</td>\n",
       "      <td>31068.12</td>\n",
       "      <td>1.0</td>\n",
       "      <td>405.0</td>\n",
       "      <td>NaN</td>\n",
       "      <td>3330137341</td>\n",
       "      <td>1</td>\n",
       "      <td>334080101</td>\n",
       "    </tr>\n",
       "    <tr>\n",
       "      <th>6242930</th>\n",
       "      <td>3330137341</td>\n",
       "      <td>201511</td>\n",
       "      <td>334080101</td>\n",
       "      <td>020331</td>\n",
       "      <td>0</td>\n",
       "      <td>50000.00</td>\n",
       "      <td>50000.00</td>\n",
       "      <td>1</td>\n",
       "      <td>0.00</td>\n",
       "      <td>0.00</td>\n",
       "      <td>NaN</td>\n",
       "      <td>50000.00</td>\n",
       "      <td>NaN</td>\n",
       "      <td>NaN</td>\n",
       "      <td>NaN</td>\n",
       "      <td>3330137341</td>\n",
       "      <td>1</td>\n",
       "      <td>334080101</td>\n",
       "    </tr>\n",
       "    <tr>\n",
       "      <th>6247632</th>\n",
       "      <td>3330137341</td>\n",
       "      <td>201511</td>\n",
       "      <td>334080101</td>\n",
       "      <td>020331</td>\n",
       "      <td>20730</td>\n",
       "      <td>17724.43</td>\n",
       "      <td>17724.43</td>\n",
       "      <td>1</td>\n",
       "      <td>0.00</td>\n",
       "      <td>0.00</td>\n",
       "      <td>NaN</td>\n",
       "      <td>17724.43</td>\n",
       "      <td>1.0</td>\n",
       "      <td>405.0</td>\n",
       "      <td>NaN</td>\n",
       "      <td>3330137341</td>\n",
       "      <td>1</td>\n",
       "      <td>334080101</td>\n",
       "    </tr>\n",
       "    <tr>\n",
       "      <th>6223836</th>\n",
       "      <td>3330137341</td>\n",
       "      <td>201512</td>\n",
       "      <td>334080101</td>\n",
       "      <td>020331</td>\n",
       "      <td>17310</td>\n",
       "      <td>14529.34</td>\n",
       "      <td>14529.34</td>\n",
       "      <td>1</td>\n",
       "      <td>0.00</td>\n",
       "      <td>0.00</td>\n",
       "      <td>NaN</td>\n",
       "      <td>14529.34</td>\n",
       "      <td>1.0</td>\n",
       "      <td>405.0</td>\n",
       "      <td>NaN</td>\n",
       "      <td>3330137341</td>\n",
       "      <td>1</td>\n",
       "      <td>334080101</td>\n",
       "    </tr>\n",
       "    <tr>\n",
       "      <th>6223838</th>\n",
       "      <td>3330137341</td>\n",
       "      <td>201512</td>\n",
       "      <td>334080101</td>\n",
       "      <td>020331</td>\n",
       "      <td>0</td>\n",
       "      <td>50000.00</td>\n",
       "      <td>50000.00</td>\n",
       "      <td>1</td>\n",
       "      <td>0.00</td>\n",
       "      <td>0.00</td>\n",
       "      <td>NaN</td>\n",
       "      <td>50000.00</td>\n",
       "      <td>NaN</td>\n",
       "      <td>NaN</td>\n",
       "      <td>NaN</td>\n",
       "      <td>3330137341</td>\n",
       "      <td>1</td>\n",
       "      <td>334080101</td>\n",
       "    </tr>\n",
       "    <tr>\n",
       "      <th>6226787</th>\n",
       "      <td>3330137341</td>\n",
       "      <td>201512</td>\n",
       "      <td>334080101</td>\n",
       "      <td>020331</td>\n",
       "      <td>49560</td>\n",
       "      <td>43239.76</td>\n",
       "      <td>43239.76</td>\n",
       "      <td>1</td>\n",
       "      <td>0.00</td>\n",
       "      <td>0.00</td>\n",
       "      <td>NaN</td>\n",
       "      <td>43239.76</td>\n",
       "      <td>1.0</td>\n",
       "      <td>405.0</td>\n",
       "      <td>NaN</td>\n",
       "      <td>3330137341</td>\n",
       "      <td>1</td>\n",
       "      <td>334080101</td>\n",
       "    </tr>\n",
       "  </tbody>\n",
       "</table>\n",
       "</div>"
      ],
      "text/plain": [
       "            CONS_NO  RCVBL_YM     ORG_NO PAY_MODE   T_PQ  RCVBL_AMT  \\\n",
       "6047267  3330137341    201502  334080101   010101   9270    8076.78   \n",
       "6071463  3330137341    201503  334080101   010101  11820   10388.51   \n",
       "6079122  3330137341    201503  334080101   010101   8370    7089.60   \n",
       "6110161  3330137341    201504  334080101   010101   5400    4622.89   \n",
       "6121040  3330137341    201504  334080101   010101  13665   12474.25   \n",
       "6111178  3330137341    201505  334080101   020331   7275    6596.34   \n",
       "6120728  3330137341    201505  334080101   020331  12465   11336.49   \n",
       "6124915  3330137341    201506  334080101   020331  19695   16636.51   \n",
       "6145563  3330137341    201506  334080101   020331  25095   22190.95   \n",
       "6167463  3330137341    201507  334080101   020331  22605   19144.02   \n",
       "6170668  3330137341    201507  334080101   020331  30675   26437.61   \n",
       "6191796  3330137341    201508  334080101   020331  43455   37597.91   \n",
       "6183862  3330137341    201508  334080101   020331  25725   21669.95   \n",
       "6186703  3330137341    201509  334080101   020331  22365   18759.06   \n",
       "6177401  3330137341    201509  334080101   020331      0   50000.00   \n",
       "6172733  3330137341    201509  334080101   020331  38550   33380.22   \n",
       "6202830  3330137341    201510  334080101   020331  28935   25214.94   \n",
       "6204253  3330137341    201510  334080101   020331  21210   17979.45   \n",
       "6204263  3330137341    201510  334080101   020331      0   50000.00   \n",
       "6236505  3330137341    201511  334080101   020331  35490   31068.12   \n",
       "6242930  3330137341    201511  334080101   020331      0   50000.00   \n",
       "6247632  3330137341    201511  334080101   020331  20730   17724.43   \n",
       "6223836  3330137341    201512  334080101   020331  17310   14529.34   \n",
       "6223838  3330137341    201512  334080101   020331      0   50000.00   \n",
       "6226787  3330137341    201512  334080101   020331  49560   43239.76   \n",
       "\n",
       "         RCVED_AMT  STATUS_CODE  RCVBL_PENALTY  RCVED_PENALTY  \\\n",
       "6047267    8076.78            1         113.07         113.07   \n",
       "6071463   10388.51            1           0.00           0.00   \n",
       "6079122    7089.60            1           0.00           0.00   \n",
       "6110161    4622.89            1           0.00           0.00   \n",
       "6121040   12474.25            1           0.00           0.00   \n",
       "6111178    6596.34            1           0.00           0.00   \n",
       "6120728   11336.49            1           0.00           0.00   \n",
       "6124915   16636.51            1           0.00           0.00   \n",
       "6145563   22190.95            1           0.00           0.00   \n",
       "6167463   19144.02            1           0.00           0.00   \n",
       "6170668   26437.61            1           0.00           0.00   \n",
       "6191796   37597.91            1           0.00           0.00   \n",
       "6183862   21669.95            1           0.00           0.00   \n",
       "6186703   18759.06            1           0.00           0.00   \n",
       "6177401   50000.00            1           0.00           0.00   \n",
       "6172733   33380.22            1           0.00           0.00   \n",
       "6202830   25214.94            1           0.00           0.00   \n",
       "6204253   17979.45            1           0.00           0.00   \n",
       "6204263   50000.00            1           0.00           0.00   \n",
       "6236505   31068.12            1           0.00           0.00   \n",
       "6242930   50000.00            1           0.00           0.00   \n",
       "6247632   17724.43            1           0.00           0.00   \n",
       "6223836   14529.34            1           0.00           0.00   \n",
       "6223838   50000.00            1           0.00           0.00   \n",
       "6226787   43239.76            1           0.00           0.00   \n",
       "\n",
       "         RISK_LEVEL_CODE   OWE_AMT  CONS_SORT_CODE  ELEC_TYPE_CODE  CTL_MODE  \\\n",
       "6047267              NaN   8076.78             1.0           405.0       NaN   \n",
       "6071463              NaN  10388.51             1.0           405.0       NaN   \n",
       "6079122              NaN   7089.60             1.0           405.0       NaN   \n",
       "6110161              NaN   4622.89             1.0           405.0       NaN   \n",
       "6121040              NaN  12474.25             1.0           405.0       NaN   \n",
       "6111178              NaN   6596.34             1.0           405.0       NaN   \n",
       "6120728              NaN   4101.59             1.0           405.0       NaN   \n",
       "6124915              NaN  16636.51             1.0           405.0       NaN   \n",
       "6145563              NaN  22190.95             1.0           405.0       NaN   \n",
       "6167463              NaN  19144.02             1.0           405.0       NaN   \n",
       "6170668              NaN  26437.61             1.0           405.0       NaN   \n",
       "6191796              NaN  37597.91             1.0           405.0       NaN   \n",
       "6183862              NaN  21669.95             1.0           405.0       NaN   \n",
       "6186703              NaN  18759.06             1.0           405.0       NaN   \n",
       "6177401              NaN  50000.00             NaN             NaN       NaN   \n",
       "6172733              NaN  33380.22             1.0           405.0       NaN   \n",
       "6202830              NaN  25214.94             1.0           405.0       NaN   \n",
       "6204253              NaN  17979.45             1.0           405.0       NaN   \n",
       "6204263              NaN  50000.00             NaN             NaN       NaN   \n",
       "6236505              NaN  31068.12             1.0           405.0       NaN   \n",
       "6242930              NaN  50000.00             NaN             NaN       NaN   \n",
       "6247632              NaN  17724.43             1.0           405.0       NaN   \n",
       "6223836              NaN  14529.34             1.0           405.0       NaN   \n",
       "6223838              NaN  50000.00             NaN             NaN       NaN   \n",
       "6226787              NaN  43239.76             1.0           405.0       NaN   \n",
       "\n",
       "            CUST_NO  TAG ORG_NO_9bit  \n",
       "6047267  3330137341    1   334080101  \n",
       "6071463  3330137341    1   334080101  \n",
       "6079122  3330137341    1   334080101  \n",
       "6110161  3330137341    1   334080101  \n",
       "6121040  3330137341    1   334080101  \n",
       "6111178  3330137341    1   334080101  \n",
       "6120728  3330137341    1   334080101  \n",
       "6124915  3330137341    1   334080101  \n",
       "6145563  3330137341    1   334080101  \n",
       "6167463  3330137341    1   334080101  \n",
       "6170668  3330137341    1   334080101  \n",
       "6191796  3330137341    1   334080101  \n",
       "6183862  3330137341    1   334080101  \n",
       "6186703  3330137341    1   334080101  \n",
       "6177401  3330137341    1   334080101  \n",
       "6172733  3330137341    1   334080101  \n",
       "6202830  3330137341    1   334080101  \n",
       "6204253  3330137341    1   334080101  \n",
       "6204263  3330137341    1   334080101  \n",
       "6236505  3330137341    1   334080101  \n",
       "6242930  3330137341    1   334080101  \n",
       "6247632  3330137341    1   334080101  \n",
       "6223836  3330137341    1   334080101  \n",
       "6223838  3330137341    1   334080101  \n",
       "6226787  3330137341    1   334080101  "
      ]
     },
     "execution_count": 87,
     "metadata": {},
     "output_type": "execute_result"
    }
   ],
   "source": [
    "train_data09_merge_label_df[train_data09_merge_label_df['CONS_NO']=='3330137341'].sort_values('RCVBL_YM')"
   ]
  },
  {
   "cell_type": "code",
   "execution_count": 60,
   "metadata": {
    "collapsed": false
   },
   "outputs": [
    {
     "name": "stdout",
     "output_type": "stream",
     "text": [
      "CPU times: user 13min 50s, sys: 7.85 s, total: 13min 58s\n",
      "Wall time: 14min 42s\n"
     ]
    }
   ],
   "source": [
    "%%time\n",
    "def count_money_per_degree(x):\n",
    "    # 计算每度的电价\n",
    "#     print x\n",
    "    money = x.groupby('RCVBL_YM')['T_PQ'].sum().sort_index()\n",
    "    electricity = x.groupby('RCVBL_YM')['RCVBL_AMT'].sum().sort_index()\n",
    "    return (money/electricity).fillna(0)\n",
    "    \n",
    "temp = train_data09_merge_label_df.groupby('CONS_NO').apply(count_money_per_degree)"
   ]
  },
  {
   "cell_type": "code",
   "execution_count": null,
   "metadata": {
    "collapsed": false,
    "scrolled": true
   },
   "outputs": [],
   "source": [
    "temp[temp<0.558]"
   ]
  },
  {
   "cell_type": "code",
   "execution_count": 94,
   "metadata": {
    "collapsed": true
   },
   "outputs": [
    {
     "ename": "TypeError",
     "evalue": "index() takes at least 1 argument (0 given)",
     "output_type": "error",
     "traceback": [
      "\u001b[0;31m---------------------------------------------------------------------------\u001b[0m",
      "\u001b[0;31mTypeError\u001b[0m                                 Traceback (most recent call last)",
      "\u001b[0;32m<ipython-input-94-5ebefcf2ecba>\u001b[0m in \u001b[0;36m<module>\u001b[0;34m()\u001b[0m\n\u001b[0;32m----> 1\u001b[0;31m \u001b[0mt\u001b[0m \u001b[0;34m=\u001b[0m \u001b[0;34m[\u001b[0m\u001b[0;34m(\u001b[0m\u001b[0mtemp\u001b[0m\u001b[0;34m>=\u001b[0m\u001b[0;36m0.5\u001b[0m\u001b[0;34m)\u001b[0m \u001b[0;34m&\u001b[0m \u001b[0;34m(\u001b[0m\u001b[0mtemp\u001b[0m\u001b[0;34m<=\u001b[0m\u001b[0;36m0.6\u001b[0m\u001b[0;34m)\u001b[0m\u001b[0;34m]\u001b[0m\u001b[0;34m.\u001b[0m\u001b[0mindex\u001b[0m\u001b[0;34m(\u001b[0m\u001b[0;34m)\u001b[0m\u001b[0;34m\u001b[0m\u001b[0m\n\u001b[0m",
      "\u001b[0;31mTypeError\u001b[0m: index() takes at least 1 argument (0 given)"
     ]
    },
    {
     "name": "stdout",
     "output_type": "stream",
     "text": [
      "> \u001b[0;32m<ipython-input-94-5ebefcf2ecba>\u001b[0m(1)\u001b[0;36m<module>\u001b[0;34m()\u001b[0m\n",
      "\u001b[0;32m----> 1 \u001b[0;31m\u001b[0mt\u001b[0m \u001b[0;34m=\u001b[0m \u001b[0;34m[\u001b[0m\u001b[0;34m(\u001b[0m\u001b[0mtemp\u001b[0m\u001b[0;34m>=\u001b[0m\u001b[0;36m0.5\u001b[0m\u001b[0;34m)\u001b[0m \u001b[0;34m&\u001b[0m \u001b[0;34m(\u001b[0m\u001b[0mtemp\u001b[0m\u001b[0;34m<=\u001b[0m\u001b[0;36m0.6\u001b[0m\u001b[0;34m)\u001b[0m\u001b[0;34m]\u001b[0m\u001b[0;34m.\u001b[0m\u001b[0mindex\u001b[0m\u001b[0;34m(\u001b[0m\u001b[0;34m)\u001b[0m\u001b[0;34m\u001b[0m\u001b[0m\n",
      "\u001b[0m\n",
      "ipdb> q\n"
     ]
    }
   ],
   "source": [
    "temp[(temp>=0.5) & (temp<=0.6)]"
   ]
  },
  {
   "cell_type": "code",
   "execution_count": null,
   "metadata": {
    "collapsed": false
   },
   "outputs": [],
   "source": [
    "%%time\n",
    "def count_money_per_degree(x):\n",
    "    # 计算每度的电价\n",
    "#     print x\n",
    "    money = x.groupby('RCVBL_YM')['T_PQ'].sum().sort_index()\n",
    "    electricity = x.groupby('RCVBL_YM')['RCVBL_AMT'].sum().sort_index()\n",
    "    return (money/electricity).fillna(0)\n",
    "    \n",
    "temp = test_data09_merge_label_df.groupby('CONS_NO').apply(count_money_per_degree)"
   ]
  },
  {
   "cell_type": "markdown",
   "metadata": {},
   "source": [
    "#### 3-5-1 计算 电价、电量方差"
   ]
  },
  {
   "cell_type": "code",
   "execution_count": 2,
   "metadata": {
    "collapsed": true
   },
   "outputs": [],
   "source": [
    "%store -r train_data01_a_worker_per_user\n",
    "%store -r test_data01_a_worker_per_user"
   ]
  },
  {
   "cell_type": "code",
   "execution_count": null,
   "metadata": {
    "collapsed": true
   },
   "outputs": [],
   "source": [
    "test_data01_a_worker_per_user"
   ]
  },
  {
   "cell_type": "markdown",
   "metadata": {},
   "source": [
    "##### 3-5-1-1 训练集"
   ]
  },
  {
   "cell_type": "code",
   "execution_count": 3,
   "metadata": {
    "collapsed": false
   },
   "outputs": [
    {
     "name": "stdout",
     "output_type": "stream",
     "text": [
      "CPU times: user 96 ms, sys: 260 ms, total: 356 ms\n",
      "Wall time: 1.17 s\n"
     ]
    }
   ],
   "source": [
    "%%time\n",
    "# 计算 每条记录的电价\n",
    "train_data09_merge_label_df['MONEY_PER_DEGREE'] = \\\n",
    "    train_data09_merge_label_df['RCVBL_AMT']/train_data09_merge_label_df['T_PQ']\n",
    "\n",
    "train_data09_merge_label_df['MONEY_PER_DEGREE'] = train_data09_merge_label_df['MONEY_PER_DEGREE'].fillna(0)"
   ]
  },
  {
   "cell_type": "code",
   "execution_count": 9,
   "metadata": {
    "collapsed": false
   },
   "outputs": [
    {
     "name": "stdout",
     "output_type": "stream",
     "text": [
      "CPU times: user 1min, sys: 592 ms, total: 1min 1s\n",
      "Wall time: 1min 2s\n"
     ]
    }
   ],
   "source": [
    "%%time\n",
    "# 保存到本地，因为操作比较繁琐，使用本地脚本来处理\n",
    "save_data(\n",
    "    train_data09_merge_label_df[['CONS_NO','RCVBL_YM','T_PQ','RCVBL_AMT','MONEY_PER_DEGREE']],\n",
    "    'train_data09_merge_label_df.csv',\n",
    "    index=True\n",
    ")"
   ]
  },
  {
   "cell_type": "code",
   "execution_count": null,
   "metadata": {
    "collapsed": true
   },
   "outputs": [],
   "source": [
    "# 运行脚本处理\n",
    "%run processing_table09_elec_std.py"
   ]
  },
  {
   "cell_type": "code",
   "execution_count": 3,
   "metadata": {
    "collapsed": true
   },
   "outputs": [],
   "source": [
    "# 取回数据\n",
    "train_data09_cons_elec_std_df = load_data(\n",
    "    'train_data09_cons_elec_std_series.csv',\n",
    "    encoding='utf8', converters={'CONS_NO':unicode}\n",
    ")\n"
   ]
  },
  {
   "cell_type": "code",
   "execution_count": 10,
   "metadata": {
    "collapsed": false
   },
   "outputs": [
    {
     "data": {
      "text/plain": [
       "(555748, 2)"
      ]
     },
     "execution_count": 10,
     "metadata": {},
     "output_type": "execute_result"
    }
   ],
   "source": [
    "train_data09_cons_elec_std_df.shape"
   ]
  },
  {
   "cell_type": "code",
   "execution_count": 4,
   "metadata": {
    "collapsed": false
   },
   "outputs": [],
   "source": [
    "temp = train_data01_a_worker_per_user.merge(\n",
    "    train_data09_cons_elec_std_df,\n",
    "    left_on='CUST_NO',\n",
    "    right_on='CONS_NO',\n",
    "    how='left'\n",
    ")"
   ]
  },
  {
   "cell_type": "code",
   "execution_count": 5,
   "metadata": {
    "collapsed": false
   },
   "outputs": [],
   "source": [
    "temp['0'] = temp['0'].fillna('0,0')"
   ]
  },
  {
   "cell_type": "code",
   "execution_count": 21,
   "metadata": {
    "collapsed": true
   },
   "outputs": [
    {
     "data": {
      "text/plain": [
       "0                   0\n",
       "1                   0\n",
       "2         1149.741888\n",
       "3           34.608425\n",
       "4           55.578211\n",
       "5                   0\n",
       "6                   0\n",
       "7          491.392833\n",
       "8          177.288117\n",
       "9           42.395869\n",
       "10          62.712915\n",
       "11          42.683730\n",
       "12                  0\n",
       "13          75.096003\n",
       "14          78.060371\n",
       "15          84.309079\n",
       "16           5.000000\n",
       "17          61.883403\n",
       "18         126.858490\n",
       "19          25.460618\n",
       "20           8.096358\n",
       "21         195.299698\n",
       "22          60.630656\n",
       "23          55.719287\n",
       "24          41.761705\n",
       "25                  0\n",
       "26          37.037894\n",
       "27          66.786767\n",
       "28         155.055075\n",
       "29         120.381425\n",
       "             ...     \n",
       "658344      64.500431\n",
       "658345     812.502765\n",
       "658346     130.410889\n",
       "658347     282.536576\n",
       "658348     168.991782\n",
       "658349     107.078753\n",
       "658350     288.381499\n",
       "658351     161.754009\n",
       "658352     193.376496\n",
       "658353      54.938184\n",
       "658354              0\n",
       "658355     103.648813\n",
       "658356      53.263692\n",
       "658357      84.013350\n",
       "658358    7878.931636\n",
       "658359      22.795589\n",
       "658360      90.485112\n",
       "658361      92.100602\n",
       "658362     213.317215\n",
       "658363       0.000000\n",
       "658364     150.324833\n",
       "658365      66.275257\n",
       "658366      57.087000\n",
       "658367      75.217591\n",
       "658368     139.971957\n",
       "658369      40.325412\n",
       "658370              0\n",
       "658371      51.156826\n",
       "658372    3751.214211\n",
       "658373     217.702618\n",
       "Name: 0, dtype: object"
      ]
     },
     "execution_count": 21,
     "metadata": {},
     "output_type": "execute_result"
    }
   ],
   "source": [
    "temp['0'].str.split(',').str[0]"
   ]
  },
  {
   "cell_type": "code",
   "execution_count": 6,
   "metadata": {
    "collapsed": true
   },
   "outputs": [],
   "source": [
    "# 电量方差\n",
    "train_data01_a_worker_per_user['MONEY_PQ_STD'] = temp['0'].str.split(',').str[0]\n",
    "train_data01_a_worker_per_user['MONEY_PQ_STD'] = \\\n",
    "    train_data01_a_worker_per_user['MONEY_PQ_STD'].fillna(0).astype(float)"
   ]
  },
  {
   "cell_type": "code",
   "execution_count": 7,
   "metadata": {
    "collapsed": true
   },
   "outputs": [],
   "source": [
    "# 电价方差\n",
    "train_data01_a_worker_per_user['MONEY_PER_DEGREE_STD'] = temp['0'].str.split(',').str[1]\n",
    "train_data01_a_worker_per_user['MONEY_PER_DEGREE_STD'] = \\\n",
    "    train_data01_a_worker_per_user['MONEY_PER_DEGREE_STD'].fillna(0).astype(float)"
   ]
  },
  {
   "cell_type": "code",
   "execution_count": 30,
   "metadata": {
    "collapsed": true
   },
   "outputs": [
    {
     "data": {
      "text/html": [
       "<div>\n",
       "<table border=\"1\" class=\"dataframe\">\n",
       "  <thead>\n",
       "    <tr style=\"text-align: right;\">\n",
       "      <th></th>\n",
       "      <th>APP_NO</th>\n",
       "      <th>ID</th>\n",
       "      <th>BUSI_TYPE_CODE</th>\n",
       "      <th>URBAN_RURAL_FLAG</th>\n",
       "      <th>ORG_NO</th>\n",
       "      <th>HANDLE_TIME</th>\n",
       "      <th>ACCEPT_CONTENT</th>\n",
       "      <th>HANDLE_OPINION</th>\n",
       "      <th>CALLING_NO</th>\n",
       "      <th>ELEC_TYPE</th>\n",
       "      <th>...</th>\n",
       "      <th>PAY_MODE_4bit_CHANGE_CLUE</th>\n",
       "      <th>MONEY_PER_DEGREE_STD</th>\n",
       "      <th>MULTI_ACCEPT_CONTENT_TYPE</th>\n",
       "      <th>ORG_NO_100bit</th>\n",
       "      <th>IS_HEBIAO_USER</th>\n",
       "      <th>IS_ELEC_EQ_ZERO</th>\n",
       "      <th>IS_SEPERATE_TIME</th>\n",
       "      <th>IS_MID_CHANGE</th>\n",
       "      <th>ELEC_DEGREE</th>\n",
       "      <th>MONEY_PQ_STD</th>\n",
       "    </tr>\n",
       "  </thead>\n",
       "  <tbody>\n",
       "    <tr>\n",
       "      <th>0</th>\n",
       "      <td>2015101280016722</td>\n",
       "      <td>1000000527203612</td>\n",
       "      <td>3</td>\n",
       "      <td>2.0</td>\n",
       "      <td>3341020</td>\n",
       "      <td>2015/10/12 7:31:50</td>\n",
       "      <td>【银行代扣】客户咨询银行代扣事宜</td>\n",
       "      <td>NaN</td>\n",
       "      <td>1196922.0</td>\n",
       "      <td>202.0</td>\n",
       "      <td>...</td>\n",
       "      <td>NaN</td>\n",
       "      <td>0.000000</td>\n",
       "      <td>银行代扣</td>\n",
       "      <td>NaN</td>\n",
       "      <td>0</td>\n",
       "      <td>NaN</td>\n",
       "      <td>0</td>\n",
       "      <td>0</td>\n",
       "      <td>0</td>\n",
       "      <td>0.000000</td>\n",
       "    </tr>\n",
       "    <tr>\n",
       "      <th>1</th>\n",
       "      <td>2015101280031388</td>\n",
       "      <td>1000000527304861</td>\n",
       "      <td>3</td>\n",
       "      <td>1.0</td>\n",
       "      <td>3340901</td>\n",
       "      <td>2015/10/12 9:14:03</td>\n",
       "      <td>【咨询总户号】通过地址（户名、表号）查询户号信息，已告知</td>\n",
       "      <td>NaN</td>\n",
       "      <td>1005636.0</td>\n",
       "      <td>NaN</td>\n",
       "      <td>...</td>\n",
       "      <td>NaN</td>\n",
       "      <td>0.000000</td>\n",
       "      <td>咨询总户号+密码初始化</td>\n",
       "      <td>NaN</td>\n",
       "      <td>0</td>\n",
       "      <td>NaN</td>\n",
       "      <td>0</td>\n",
       "      <td>0</td>\n",
       "      <td>0</td>\n",
       "      <td>0.000000</td>\n",
       "    </tr>\n",
       "    <tr>\n",
       "      <th>2</th>\n",
       "      <td>2015101280031424</td>\n",
       "      <td>1000000527305097</td>\n",
       "      <td>3</td>\n",
       "      <td>2.0</td>\n",
       "      <td>33401</td>\n",
       "      <td>2015/10/12 9:14:16</td>\n",
       "      <td>【查询电费】客户查询电费，已告知。</td>\n",
       "      <td>NaN</td>\n",
       "      <td>1007513.0</td>\n",
       "      <td>405.0</td>\n",
       "      <td>...</td>\n",
       "      <td>0202</td>\n",
       "      <td>0.003988</td>\n",
       "      <td>查询电费+电力短信</td>\n",
       "      <td>3.340101e+08</td>\n",
       "      <td>0</td>\n",
       "      <td>NaN</td>\n",
       "      <td>0</td>\n",
       "      <td>0</td>\n",
       "      <td>0</td>\n",
       "      <td>1149.741888</td>\n",
       "    </tr>\n",
       "    <tr>\n",
       "      <th>3</th>\n",
       "      <td>2015101280031680</td>\n",
       "      <td>1000000527300870</td>\n",
       "      <td>3</td>\n",
       "      <td>2.0</td>\n",
       "      <td>334020106</td>\n",
       "      <td>2015/10/12 9:11:37</td>\n",
       "      <td>【咨询总户号】通过地址（户名）查询户号信息。</td>\n",
       "      <td>NaN</td>\n",
       "      <td>1073266.0</td>\n",
       "      <td>202.0</td>\n",
       "      <td>...</td>\n",
       "      <td>0203</td>\n",
       "      <td>0.000032</td>\n",
       "      <td>咨询总户号</td>\n",
       "      <td>3.340201e+10</td>\n",
       "      <td>0</td>\n",
       "      <td>False</td>\n",
       "      <td>0</td>\n",
       "      <td>0</td>\n",
       "      <td>1</td>\n",
       "      <td>34.608425</td>\n",
       "    </tr>\n",
       "    <tr>\n",
       "      <th>4</th>\n",
       "      <td>2015101280032506</td>\n",
       "      <td>1000000527305664</td>\n",
       "      <td>3</td>\n",
       "      <td>1.0</td>\n",
       "      <td>3340101</td>\n",
       "      <td>2015/10/12 9:14:48</td>\n",
       "      <td>【咨询总户号】通过地址（户名、表号）查询户号信息，已告知</td>\n",
       "      <td>NaN</td>\n",
       "      <td>1433592.0</td>\n",
       "      <td>NaN</td>\n",
       "      <td>...</td>\n",
       "      <td>0203</td>\n",
       "      <td>0.020308</td>\n",
       "      <td>咨询总户号</td>\n",
       "      <td>3.340150e+10</td>\n",
       "      <td>0</td>\n",
       "      <td>False</td>\n",
       "      <td>1</td>\n",
       "      <td>0</td>\n",
       "      <td>1</td>\n",
       "      <td>55.578211</td>\n",
       "    </tr>\n",
       "  </tbody>\n",
       "</table>\n",
       "<p>5 rows × 67 columns</p>\n",
       "</div>"
      ],
      "text/plain": [
       "             APP_NO                ID  BUSI_TYPE_CODE  URBAN_RURAL_FLAG  \\\n",
       "0  2015101280016722  1000000527203612               3               2.0   \n",
       "1  2015101280031388  1000000527304861               3               1.0   \n",
       "2  2015101280031424  1000000527305097               3               2.0   \n",
       "3  2015101280031680  1000000527300870               3               2.0   \n",
       "4  2015101280032506  1000000527305664               3               1.0   \n",
       "\n",
       "      ORG_NO         HANDLE_TIME                ACCEPT_CONTENT HANDLE_OPINION  \\\n",
       "0    3341020  2015/10/12 7:31:50              【银行代扣】客户咨询银行代扣事宜            NaN   \n",
       "1    3340901  2015/10/12 9:14:03  【咨询总户号】通过地址（户名、表号）查询户号信息，已告知            NaN   \n",
       "2      33401  2015/10/12 9:14:16             【查询电费】客户查询电费，已告知。            NaN   \n",
       "3  334020106  2015/10/12 9:11:37        【咨询总户号】通过地址（户名）查询户号信息。            NaN   \n",
       "4    3340101  2015/10/12 9:14:48  【咨询总户号】通过地址（户名、表号）查询户号信息，已告知            NaN   \n",
       "\n",
       "   CALLING_NO  ELEC_TYPE      ...      PAY_MODE_4bit_CHANGE_CLUE  \\\n",
       "0   1196922.0      202.0      ...                            NaN   \n",
       "1   1005636.0        NaN      ...                            NaN   \n",
       "2   1007513.0      405.0      ...                           0202   \n",
       "3   1073266.0      202.0      ...                           0203   \n",
       "4   1433592.0        NaN      ...                           0203   \n",
       "\n",
       "   MONEY_PER_DEGREE_STD  MULTI_ACCEPT_CONTENT_TYPE  ORG_NO_100bit  \\\n",
       "0              0.000000                       银行代扣            NaN   \n",
       "1              0.000000                咨询总户号+密码初始化            NaN   \n",
       "2              0.003988                  查询电费+电力短信   3.340101e+08   \n",
       "3              0.000032                      咨询总户号   3.340201e+10   \n",
       "4              0.020308                      咨询总户号   3.340150e+10   \n",
       "\n",
       "   IS_HEBIAO_USER IS_ELEC_EQ_ZERO  IS_SEPERATE_TIME  IS_MID_CHANGE  \\\n",
       "0               0             NaN                 0              0   \n",
       "1               0             NaN                 0              0   \n",
       "2               0             NaN                 0              0   \n",
       "3               0           False                 0              0   \n",
       "4               0           False                 1              0   \n",
       "\n",
       "   ELEC_DEGREE  MONEY_PQ_STD  \n",
       "0            0      0.000000  \n",
       "1            0      0.000000  \n",
       "2            0   1149.741888  \n",
       "3            1     34.608425  \n",
       "4            1     55.578211  \n",
       "\n",
       "[5 rows x 67 columns]"
      ]
     },
     "execution_count": 30,
     "metadata": {},
     "output_type": "execute_result"
    }
   ],
   "source": [
    "train_data01_a_worker_per_user.head()"
   ]
  },
  {
   "cell_type": "code",
   "execution_count": 8,
   "metadata": {
    "collapsed": false
   },
   "outputs": [
    {
     "name": "stdout",
     "output_type": "stream",
     "text": [
      "Stored 'train_data01_a_worker_per_user' (DataFrame)\n"
     ]
    }
   ],
   "source": [
    "%store train_data01_a_worker_per_user"
   ]
  },
  {
   "cell_type": "markdown",
   "metadata": {},
   "source": [
    "##### 3-5-1-2 测试集"
   ]
  },
  {
   "cell_type": "code",
   "execution_count": 1,
   "metadata": {
    "collapsed": false
   },
   "outputs": [
    {
     "name": "stdout",
     "output_type": "stream",
     "text": [
      "CPU times: user 1.69 s, sys: 1.24 s, total: 2.92 s\n",
      "Wall time: 3.38 s\n"
     ]
    }
   ],
   "source": [
    "%%time\n",
    "%store -r test_data09_merge_label_df"
   ]
  },
  {
   "cell_type": "code",
   "execution_count": 4,
   "metadata": {
    "collapsed": true
   },
   "outputs": [],
   "source": [
    "test_data09_merge_label_df['MONEY_PER_DEGREE'] = \\\n",
    "    test_data09_merge_label_df['RCVBL_AMT']/test_data09_merge_label_df['T_PQ']\n",
    "\n",
    "test_data09_merge_label_df['MONEY_PER_DEGREE'] = test_data09_merge_label_df['MONEY_PER_DEGREE'].fillna(0)"
   ]
  },
  {
   "cell_type": "code",
   "execution_count": 4,
   "metadata": {
    "collapsed": false
   },
   "outputs": [
    {
     "name": "stdout",
     "output_type": "stream",
     "text": [
      "CPU times: user 25.5 s, sys: 320 ms, total: 25.8 s\n",
      "Wall time: 26 s\n"
     ]
    }
   ],
   "source": [
    "%%time\n",
    "# 保存到本地，因为操作比较繁琐，使用本地脚本来处理\n",
    "save_data(\n",
    "    test_data09_merge_label_df[['CONS_NO','RCVBL_YM','T_PQ','RCVBL_AMT','MONEY_PER_DEGREE']],\n",
    "    'test_data09_merge_label_df.csv',\n",
    "    index=True\n",
    ")"
   ]
  },
  {
   "cell_type": "code",
   "execution_count": null,
   "metadata": {
    "collapsed": true
   },
   "outputs": [],
   "source": [
    "# 运行脚本处理\n",
    "%run processing_table09_elec_std.py"
   ]
  },
  {
   "cell_type": "code",
   "execution_count": 9,
   "metadata": {
    "collapsed": true
   },
   "outputs": [],
   "source": [
    "# 取回数据\n",
    "test_data09_cons_elec_std_df = load_data(\n",
    "    'test_data09_cons_elec_std_series.csv',\n",
    "    encoding='utf8', converters={'CONS_NO':unicode}\n",
    ")\n"
   ]
  },
  {
   "cell_type": "code",
   "execution_count": 10,
   "metadata": {
    "collapsed": false
   },
   "outputs": [],
   "source": [
    "temp = test_data01_a_worker_per_user.merge(\n",
    "    test_data09_cons_elec_std_df,\n",
    "    left_on='CUST_NO',\n",
    "    right_on='CONS_NO',\n",
    "    how='left'\n",
    ")"
   ]
  },
  {
   "cell_type": "code",
   "execution_count": 11,
   "metadata": {
    "collapsed": false
   },
   "outputs": [],
   "source": [
    "temp['0'] = temp['0'].fillna('0,0')"
   ]
  },
  {
   "cell_type": "code",
   "execution_count": 36,
   "metadata": {
    "collapsed": true
   },
   "outputs": [
    {
     "data": {
      "text/plain": [
       "0            29.472680\n",
       "1             6.356864\n",
       "2            69.674641\n",
       "3            26.009614\n",
       "4                    0\n",
       "5                    0\n",
       "6             8.993825\n",
       "7                    0\n",
       "8                    0\n",
       "9           126.076696\n",
       "10           69.753403\n",
       "11                   0\n",
       "12                   0\n",
       "13          106.086803\n",
       "14           69.654576\n",
       "15           82.327429\n",
       "16            2.645751\n",
       "17                   0\n",
       "18                   0\n",
       "19                   0\n",
       "20          151.166207\n",
       "21           76.632239\n",
       "22                   0\n",
       "23           11.172884\n",
       "24           25.649886\n",
       "25                   0\n",
       "26           61.591847\n",
       "27                   0\n",
       "28                   0\n",
       "29                   0\n",
       "              ...     \n",
       "370841               0\n",
       "370842               0\n",
       "370843               0\n",
       "370844       26.158937\n",
       "370845        9.809293\n",
       "370846       60.065416\n",
       "370847    20804.255389\n",
       "370848      177.447234\n",
       "370849      291.759271\n",
       "370850      152.075365\n",
       "370851     1876.953175\n",
       "370852       20.969555\n",
       "370853               0\n",
       "370854      147.500282\n",
       "370855       60.997894\n",
       "370856               0\n",
       "370857               0\n",
       "370858               0\n",
       "370859      129.256850\n",
       "370860               0\n",
       "370861               0\n",
       "370862               0\n",
       "370863               0\n",
       "370864               0\n",
       "370865               0\n",
       "370866       19.518197\n",
       "370867               0\n",
       "370868       12.543258\n",
       "370869               0\n",
       "370870      257.458573\n",
       "Name: 0, dtype: object"
      ]
     },
     "execution_count": 36,
     "metadata": {},
     "output_type": "execute_result"
    }
   ],
   "source": [
    "temp['0'].str.split(',').str[0]"
   ]
  },
  {
   "cell_type": "code",
   "execution_count": 12,
   "metadata": {
    "collapsed": true
   },
   "outputs": [],
   "source": [
    "# 电量方差\n",
    "test_data01_a_worker_per_user['MONEY_PQ_STD'] = temp['0'].str.split(',').str[0]\n",
    "test_data01_a_worker_per_user['MONEY_PQ_STD'] = \\\n",
    "    test_data01_a_worker_per_user['MONEY_PQ_STD'].fillna(0).astype(float)"
   ]
  },
  {
   "cell_type": "code",
   "execution_count": 13,
   "metadata": {
    "collapsed": true
   },
   "outputs": [],
   "source": [
    "# 电价方差\n",
    "test_data01_a_worker_per_user['MONEY_PER_DEGREE_STD'] = temp['0'].str.split(',').str[1]\n",
    "test_data01_a_worker_per_user['MONEY_PER_DEGREE_STD'] = \\\n",
    "    test_data01_a_worker_per_user['MONEY_PER_DEGREE_STD'].fillna(0).astype(float)"
   ]
  },
  {
   "cell_type": "code",
   "execution_count": 40,
   "metadata": {
    "collapsed": true
   },
   "outputs": [
    {
     "data": {
      "text/html": [
       "<div>\n",
       "<table border=\"1\" class=\"dataframe\">\n",
       "  <thead>\n",
       "    <tr style=\"text-align: right;\">\n",
       "      <th></th>\n",
       "      <th>APP_NO</th>\n",
       "      <th>ID</th>\n",
       "      <th>BUSI_TYPE_CODE</th>\n",
       "      <th>URBAN_RURAL_FLAG</th>\n",
       "      <th>ORG_NO</th>\n",
       "      <th>HANDLE_TIME</th>\n",
       "      <th>ACCEPT_CONTENT</th>\n",
       "      <th>HANDLE_OPINION</th>\n",
       "      <th>CALLING_NO</th>\n",
       "      <th>ELEC_TYPE</th>\n",
       "      <th>...</th>\n",
       "      <th>PAY_MODE_4bit_CHANGE_CLUE</th>\n",
       "      <th>MONEY_PER_DEGREE_STD</th>\n",
       "      <th>MULTI_ACCEPT_CONTENT_TYPE</th>\n",
       "      <th>ORG_NO_100bit</th>\n",
       "      <th>IS_HEBIAO_USER</th>\n",
       "      <th>IS_ELEC_EQ_ZERO</th>\n",
       "      <th>IS_SEPERATE_TIME</th>\n",
       "      <th>IS_MID_CHANGE</th>\n",
       "      <th>ELEC_DEGREE</th>\n",
       "      <th>MONEY_PQ_STD</th>\n",
       "    </tr>\n",
       "  </thead>\n",
       "  <tbody>\n",
       "    <tr>\n",
       "      <th>0</th>\n",
       "      <td>2015101280019632</td>\n",
       "      <td>1000000527215943</td>\n",
       "      <td>3</td>\n",
       "      <td>1.0</td>\n",
       "      <td>3340780</td>\n",
       "      <td>2015/10/12 7:58:04</td>\n",
       "      <td>【客户咨询一户无电】建议先自行联系有资质电工排查是否为内部故障，客户接受并表示有其他情况再致电。</td>\n",
       "      <td>NaN</td>\n",
       "      <td>1628699.0</td>\n",
       "      <td>202.0</td>\n",
       "      <td>...</td>\n",
       "      <td>0203-0101</td>\n",
       "      <td>0.023941</td>\n",
       "      <td>客户咨询一户无电</td>\n",
       "      <td>3.340780e+08</td>\n",
       "      <td>0</td>\n",
       "      <td>False</td>\n",
       "      <td>1</td>\n",
       "      <td>0</td>\n",
       "      <td>1</td>\n",
       "      <td>29.472680</td>\n",
       "    </tr>\n",
       "    <tr>\n",
       "      <th>1</th>\n",
       "      <td>2015101280019648</td>\n",
       "      <td>1000000527216033</td>\n",
       "      <td>10</td>\n",
       "      <td>2.0</td>\n",
       "      <td>334066001</td>\n",
       "      <td>2015/10/12 7:58:26</td>\n",
       "      <td>【退订】#2061584501；【退订】#2061584602；【退订】#406091928...</td>\n",
       "      <td>NaN</td>\n",
       "      <td>1260775.0</td>\n",
       "      <td>201.0</td>\n",
       "      <td>...</td>\n",
       "      <td>0203</td>\n",
       "      <td>0.000044</td>\n",
       "      <td>退订</td>\n",
       "      <td>3.340660e+10</td>\n",
       "      <td>0</td>\n",
       "      <td>False</td>\n",
       "      <td>0</td>\n",
       "      <td>0</td>\n",
       "      <td>1</td>\n",
       "      <td>6.356864</td>\n",
       "    </tr>\n",
       "    <tr>\n",
       "      <th>2</th>\n",
       "      <td>2015101280019680</td>\n",
       "      <td>1000000527216202</td>\n",
       "      <td>3</td>\n",
       "      <td>2.0</td>\n",
       "      <td>3340690</td>\n",
       "      <td>2015/10/12 7:58:52</td>\n",
       "      <td>【查询电费】客户查询本月电费，已告知。</td>\n",
       "      <td>NaN</td>\n",
       "      <td>1536321.0</td>\n",
       "      <td>201.0</td>\n",
       "      <td>...</td>\n",
       "      <td>0203</td>\n",
       "      <td>0.023635</td>\n",
       "      <td>查询电费+回呼电话</td>\n",
       "      <td>3.340690e+10</td>\n",
       "      <td>0</td>\n",
       "      <td>False</td>\n",
       "      <td>0</td>\n",
       "      <td>0</td>\n",
       "      <td>2</td>\n",
       "      <td>69.674641</td>\n",
       "    </tr>\n",
       "    <tr>\n",
       "      <th>3</th>\n",
       "      <td>2015101280019873</td>\n",
       "      <td>1000000527218491</td>\n",
       "      <td>3</td>\n",
       "      <td>1.0</td>\n",
       "      <td>3340810</td>\n",
       "      <td>2015/10/12 8:02:53</td>\n",
       "      <td>【咨询总户号】通过地址、户名查询户号信息，已告知</td>\n",
       "      <td>NaN</td>\n",
       "      <td>1576698.0</td>\n",
       "      <td>NaN</td>\n",
       "      <td>...</td>\n",
       "      <td>0101</td>\n",
       "      <td>0.036850</td>\n",
       "      <td>咨询总户号</td>\n",
       "      <td>3.340801e+10</td>\n",
       "      <td>0</td>\n",
       "      <td>False</td>\n",
       "      <td>1</td>\n",
       "      <td>0</td>\n",
       "      <td>1</td>\n",
       "      <td>26.009614</td>\n",
       "    </tr>\n",
       "    <tr>\n",
       "      <th>4</th>\n",
       "      <td>2015101280020130</td>\n",
       "      <td>1000000527221199</td>\n",
       "      <td>1</td>\n",
       "      <td>1.0</td>\n",
       "      <td>3340501</td>\n",
       "      <td>2015/10/12 8:07:10</td>\n",
       "      <td>【设备故障】客户报修此处线路打火，请处理。客户只能提供此地址，烦请电话联系057486581...</td>\n",
       "      <td>NaN</td>\n",
       "      <td>1089990.0</td>\n",
       "      <td>201.0</td>\n",
       "      <td>...</td>\n",
       "      <td>NaN</td>\n",
       "      <td>0.000000</td>\n",
       "      <td>设备故障</td>\n",
       "      <td>NaN</td>\n",
       "      <td>0</td>\n",
       "      <td>NaN</td>\n",
       "      <td>0</td>\n",
       "      <td>0</td>\n",
       "      <td>0</td>\n",
       "      <td>0.000000</td>\n",
       "    </tr>\n",
       "  </tbody>\n",
       "</table>\n",
       "<p>5 rows × 66 columns</p>\n",
       "</div>"
      ],
      "text/plain": [
       "             APP_NO                ID  BUSI_TYPE_CODE  URBAN_RURAL_FLAG  \\\n",
       "0  2015101280019632  1000000527215943               3               1.0   \n",
       "1  2015101280019648  1000000527216033              10               2.0   \n",
       "2  2015101280019680  1000000527216202               3               2.0   \n",
       "3  2015101280019873  1000000527218491               3               1.0   \n",
       "4  2015101280020130  1000000527221199               1               1.0   \n",
       "\n",
       "      ORG_NO         HANDLE_TIME  \\\n",
       "0    3340780  2015/10/12 7:58:04   \n",
       "1  334066001  2015/10/12 7:58:26   \n",
       "2    3340690  2015/10/12 7:58:52   \n",
       "3    3340810  2015/10/12 8:02:53   \n",
       "4    3340501  2015/10/12 8:07:10   \n",
       "\n",
       "                                      ACCEPT_CONTENT HANDLE_OPINION  \\\n",
       "0   【客户咨询一户无电】建议先自行联系有资质电工排查是否为内部故障，客户接受并表示有其他情况再致电。            NaN   \n",
       "1  【退订】#2061584501；【退订】#2061584602；【退订】#406091928...            NaN   \n",
       "2                                【查询电费】客户查询本月电费，已告知。            NaN   \n",
       "3                           【咨询总户号】通过地址、户名查询户号信息，已告知            NaN   \n",
       "4  【设备故障】客户报修此处线路打火，请处理。客户只能提供此地址，烦请电话联系057486581...            NaN   \n",
       "\n",
       "   CALLING_NO  ELEC_TYPE      ...      PAY_MODE_4bit_CHANGE_CLUE  \\\n",
       "0   1628699.0      202.0      ...                      0203-0101   \n",
       "1   1260775.0      201.0      ...                           0203   \n",
       "2   1536321.0      201.0      ...                           0203   \n",
       "3   1576698.0        NaN      ...                           0101   \n",
       "4   1089990.0      201.0      ...                            NaN   \n",
       "\n",
       "   MONEY_PER_DEGREE_STD  MULTI_ACCEPT_CONTENT_TYPE  ORG_NO_100bit  \\\n",
       "0              0.023941                   客户咨询一户无电   3.340780e+08   \n",
       "1              0.000044                         退订   3.340660e+10   \n",
       "2              0.023635                  查询电费+回呼电话   3.340690e+10   \n",
       "3              0.036850                      咨询总户号   3.340801e+10   \n",
       "4              0.000000                       设备故障            NaN   \n",
       "\n",
       "  IS_HEBIAO_USER  IS_ELEC_EQ_ZERO  IS_SEPERATE_TIME  IS_MID_CHANGE  \\\n",
       "0              0            False                 1              0   \n",
       "1              0            False                 0              0   \n",
       "2              0            False                 0              0   \n",
       "3              0            False                 1              0   \n",
       "4              0              NaN                 0              0   \n",
       "\n",
       "   ELEC_DEGREE  MONEY_PQ_STD  \n",
       "0            1     29.472680  \n",
       "1            1      6.356864  \n",
       "2            2     69.674641  \n",
       "3            1     26.009614  \n",
       "4            0      0.000000  \n",
       "\n",
       "[5 rows x 66 columns]"
      ]
     },
     "execution_count": 40,
     "metadata": {},
     "output_type": "execute_result"
    }
   ],
   "source": [
    "test_data01_a_worker_per_user.head()"
   ]
  },
  {
   "cell_type": "code",
   "execution_count": 14,
   "metadata": {
    "collapsed": false
   },
   "outputs": [
    {
     "name": "stdout",
     "output_type": "stream",
     "text": [
      "Stored 'test_data01_a_worker_per_user' (DataFrame)\n"
     ]
    }
   ],
   "source": [
    "%store test_data01_a_worker_per_user"
   ]
  },
  {
   "cell_type": "markdown",
   "metadata": {},
   "source": [
    "#### 3-5-2 分时电价/合表等的研究"
   ]
  },
  {
   "cell_type": "code",
   "execution_count": 8,
   "metadata": {
    "collapsed": true
   },
   "outputs": [],
   "source": [
    "%store -r train_data09_merge_label_df \n",
    "%store -r test_data09_merge_label_df"
   ]
  },
  {
   "cell_type": "markdown",
   "metadata": {},
   "source": [
    "---\n",
    "取出居民用电类型(20*)的数据"
   ]
  },
  {
   "cell_type": "markdown",
   "metadata": {},
   "source": [
    "##### 3-5-2-1 训练集"
   ]
  },
  {
   "cell_type": "code",
   "execution_count": 44,
   "metadata": {
    "collapsed": false
   },
   "outputs": [
    {
     "name": "stdout",
     "output_type": "stream",
     "text": [
      "(5171615, 18) 474806\n"
     ]
    }
   ],
   "source": [
    "# 取出居民用电类型(20*)的数据\n",
    "train_data09_resident_df = train_data09_merge_label_df[train_data09_merge_label_df['ELEC_TYPE_CODE'].isin([200,201,202,203,204,205])]\n",
    "# 5,171,615 条记录，474,806个用户\n",
    "print train_data09_resident_df.shape,len(train_data09_resident_df['CONS_NO'].unique())"
   ]
  },
  {
   "cell_type": "code",
   "execution_count": 45,
   "metadata": {
    "collapsed": true
   },
   "outputs": [],
   "source": [
    "train_data09_resident_df = \\\n",
    "    train_data09_resident_df.filter(regex='CONS_NO|RCVBL_YM|T_PQ|RCVBL_AMT|TAG|MONEY_PER_DEGREE',)"
   ]
  },
  {
   "cell_type": "code",
   "execution_count": 47,
   "metadata": {
    "collapsed": true
   },
   "outputs": [],
   "source": [
    "# 计算电价信息\n",
    "train_data09_resident_df.loc[:,'MONEY_508'] = (train_data09_resident_df['T_PQ']*0.508).round(2)\n",
    "train_data09_resident_df.loc[:,'MONEY_538'] = (train_data09_resident_df['T_PQ']*0.538).round(2)\n",
    "train_data09_resident_df.loc[:,'MONEY_558'] = (train_data09_resident_df['T_PQ']*0.558).round(2)\n",
    "train_data09_resident_df.loc[:,'MONEY_588'] = (train_data09_resident_df['T_PQ']*0.588).round(2)\n",
    "train_data09_resident_df.loc[:,'MONEY_838'] = (train_data09_resident_df['T_PQ']*0.838).round(2)"
   ]
  },
  {
   "cell_type": "code",
   "execution_count": 48,
   "metadata": {
    "collapsed": false
   },
   "outputs": [],
   "source": [
    "train_data09_resident_df['MONEY_PER_DEGREE'] = train_data09_resident_df['MONEY_PER_DEGREE'].round(3)"
   ]
  },
  {
   "cell_type": "code",
   "execution_count": 49,
   "metadata": {
    "collapsed": true
   },
   "outputs": [
    {
     "data": {
      "text/html": [
       "<div>\n",
       "<table border=\"1\" class=\"dataframe\">\n",
       "  <thead>\n",
       "    <tr style=\"text-align: right;\">\n",
       "      <th></th>\n",
       "      <th>CONS_NO</th>\n",
       "      <th>RCVBL_YM</th>\n",
       "      <th>T_PQ</th>\n",
       "      <th>RCVBL_AMT</th>\n",
       "      <th>TAG</th>\n",
       "      <th>MONEY_PER_DEGREE</th>\n",
       "      <th>MONEY_508</th>\n",
       "      <th>MONEY_538</th>\n",
       "      <th>MONEY_558</th>\n",
       "      <th>MONEY_588</th>\n",
       "      <th>MONEY_838</th>\n",
       "    </tr>\n",
       "  </thead>\n",
       "  <tbody>\n",
       "    <tr>\n",
       "      <th>2</th>\n",
       "      <td>6010777305</td>\n",
       "      <td>201502</td>\n",
       "      <td>1883</td>\n",
       "      <td>1058.25</td>\n",
       "      <td>0</td>\n",
       "      <td>0.562</td>\n",
       "      <td>956.56</td>\n",
       "      <td>1013.05</td>\n",
       "      <td>1050.71</td>\n",
       "      <td>1107.20</td>\n",
       "      <td>1577.95</td>\n",
       "    </tr>\n",
       "    <tr>\n",
       "      <th>3</th>\n",
       "      <td>6010777296</td>\n",
       "      <td>201502</td>\n",
       "      <td>4279</td>\n",
       "      <td>3585.80</td>\n",
       "      <td>0</td>\n",
       "      <td>0.838</td>\n",
       "      <td>2173.73</td>\n",
       "      <td>2302.10</td>\n",
       "      <td>2387.68</td>\n",
       "      <td>2516.05</td>\n",
       "      <td>3585.80</td>\n",
       "    </tr>\n",
       "    <tr>\n",
       "      <th>4</th>\n",
       "      <td>6010777190</td>\n",
       "      <td>201502</td>\n",
       "      <td>2514</td>\n",
       "      <td>1561.93</td>\n",
       "      <td>0</td>\n",
       "      <td>0.621</td>\n",
       "      <td>1277.11</td>\n",
       "      <td>1352.53</td>\n",
       "      <td>1402.81</td>\n",
       "      <td>1478.23</td>\n",
       "      <td>2106.73</td>\n",
       "    </tr>\n",
       "    <tr>\n",
       "      <th>6</th>\n",
       "      <td>6023144188</td>\n",
       "      <td>201502</td>\n",
       "      <td>531</td>\n",
       "      <td>285.68</td>\n",
       "      <td>0</td>\n",
       "      <td>0.538</td>\n",
       "      <td>269.75</td>\n",
       "      <td>285.68</td>\n",
       "      <td>296.30</td>\n",
       "      <td>312.23</td>\n",
       "      <td>444.98</td>\n",
       "    </tr>\n",
       "    <tr>\n",
       "      <th>8</th>\n",
       "      <td>6010777310</td>\n",
       "      <td>201502</td>\n",
       "      <td>2166</td>\n",
       "      <td>1080.84</td>\n",
       "      <td>0</td>\n",
       "      <td>0.499</td>\n",
       "      <td>1100.33</td>\n",
       "      <td>1165.31</td>\n",
       "      <td>1208.63</td>\n",
       "      <td>1273.61</td>\n",
       "      <td>1815.11</td>\n",
       "    </tr>\n",
       "  </tbody>\n",
       "</table>\n",
       "</div>"
      ],
      "text/plain": [
       "      CONS_NO  RCVBL_YM  T_PQ  RCVBL_AMT  TAG  MONEY_PER_DEGREE  MONEY_508  \\\n",
       "2  6010777305    201502  1883    1058.25    0             0.562     956.56   \n",
       "3  6010777296    201502  4279    3585.80    0             0.838    2173.73   \n",
       "4  6010777190    201502  2514    1561.93    0             0.621    1277.11   \n",
       "6  6023144188    201502   531     285.68    0             0.538     269.75   \n",
       "8  6010777310    201502  2166    1080.84    0             0.499    1100.33   \n",
       "\n",
       "   MONEY_538  MONEY_558  MONEY_588  MONEY_838  \n",
       "2    1013.05    1050.71    1107.20    1577.95  \n",
       "3    2302.10    2387.68    2516.05    3585.80  \n",
       "4    1352.53    1402.81    1478.23    2106.73  \n",
       "6     285.68     296.30     312.23     444.98  \n",
       "8    1165.31    1208.63    1273.61    1815.11  "
      ]
     },
     "execution_count": 49,
     "metadata": {},
     "output_type": "execute_result"
    }
   ],
   "source": [
    "train_data09_resident_df.head()"
   ]
  },
  {
   "cell_type": "code",
   "execution_count": 50,
   "metadata": {
    "collapsed": true
   },
   "outputs": [
    {
     "name": "stdout",
     "output_type": "stream",
     "text": [
      "CPU times: user 1min 32s, sys: 592 ms, total: 1min 32s\n",
      "Wall time: 1min 32s\n"
     ]
    }
   ],
   "source": [
    "%%time\n",
    "# 保存到本地，因为操作比较繁琐，使用本地脚本来处理\n",
    "save_data(\n",
    "    train_data09_resident_df,\n",
    "    'train_data09_resident_df.csv',\n",
    "    index=True\n",
    ")"
   ]
  },
  {
   "cell_type": "code",
   "execution_count": 7,
   "metadata": {
    "collapsed": false
   },
   "outputs": [],
   "source": [
    "train_data09_resident_df = load_data(\n",
    "    'train_data09_resident_df.csv',\n",
    "    encoding='utf8',\n",
    "    converters={'CONS_NO':unicode,'PAY_MODE':unicode,'ORG_NO':unicode},\n",
    ")"
   ]
  },
  {
   "cell_type": "code",
   "execution_count": 36,
   "metadata": {
    "collapsed": true
   },
   "outputs": [
    {
     "name": "stdout",
     "output_type": "stream",
     "text": [
      "RF_N_ESTIMATORS:100\n",
      "   Unnamed: 0     CONS_NO  RCVBL_YM       ORG_NO  PAY_MODE  T_PQ  RCVBL_AMT  \\\n",
      "0           2  6010777305    201502  33401010130   20311.0  1883    1058.25   \n",
      "1           3  6010777296    201502  33401010130   20311.0  4279    3585.80   \n",
      "2           4  6010777190    201502  33401010130   20311.0  2514    1561.93   \n",
      "3           6  6023144188    201502  33401010130   20311.0   531     285.68   \n",
      "4           8  6010777310    201502  33401010130   10101.0  2166    1080.84   \n",
      "\n",
      "   RCVED_AMT  STATUS_CODE  RCVBL_PENALTY    ...      ELEC_TYPE_CODE  CTL_MODE  \\\n",
      "0    1058.25            1           2.12    ...               202.0       NaN   \n",
      "1    3585.80            1           0.00    ...               201.0       NaN   \n",
      "2    1561.93            1           0.00    ...               202.0       NaN   \n",
      "3     285.68            1           0.00    ...               202.0       NaN   \n",
      "4    1080.84            1           0.00    ...               201.0       NaN   \n",
      "\n",
      "   CUST_NO  TAG  MONEY_PER_DEGREE  MONEY_508  MONEY_538  MONEY_558  MONEY_588  \\\n",
      "0      NaN    0          0.562002     956.56    1013.05    1050.71    1107.20   \n",
      "1      NaN    0          0.838000    2173.73    2302.10    2387.68    2516.05   \n",
      "2      NaN    0          0.621293    1277.11    1352.53    1402.81    1478.23   \n",
      "3      NaN    0          0.538004     269.75     285.68     296.30     312.23   \n",
      "4      NaN    0          0.499003    1100.33    1165.31    1208.63    1273.61   \n",
      "\n",
      "   MONEY_838  \n",
      "0    1577.95  \n",
      "1    3585.80  \n",
      "2    2106.73  \n",
      "3     444.98  \n",
      "4    1815.11  \n",
      "\n",
      "[5 rows x 24 columns]\n"
     ]
    }
   ],
   "source": [
    "# 本地处理...\n",
    "%%time\n",
    "%run processing_table09_elec_money.py"
   ]
  },
  {
   "cell_type": "code",
   "execution_count": 29,
   "metadata": {
    "collapsed": true
   },
   "outputs": [
    {
     "name": "stdout",
     "output_type": "stream",
     "text": [
      "CPU times: user 388 ms, sys: 16 ms, total: 404 ms\n",
      "Wall time: 417 ms\n"
     ]
    }
   ],
   "source": [
    "%%time\n",
    "# 读取后处理的数据  CONS_NO - 电价信息\n",
    "train_data09_resident_cons_elec_money_type_series = load_data(\n",
    "    'train_data09_resident_cons_elec_money_type_series.csv',\n",
    "    converters={'CONS_NO': unicode,}\n",
    ")"
   ]
  },
  {
   "cell_type": "code",
   "execution_count": 20,
   "metadata": {
    "collapsed": true
   },
   "outputs": [
    {
     "data": {
      "text/html": [
       "<div>\n",
       "<table border=\"1\" class=\"dataframe\">\n",
       "  <thead>\n",
       "    <tr style=\"text-align: right;\">\n",
       "      <th></th>\n",
       "      <th>CONS_NO</th>\n",
       "      <th>0</th>\n",
       "    </tr>\n",
       "  </thead>\n",
       "  <tbody>\n",
       "    <tr>\n",
       "      <th>0</th>\n",
       "      <td>2506278</td>\n",
       "      <td>0,0,0,1</td>\n",
       "    </tr>\n",
       "    <tr>\n",
       "      <th>1</th>\n",
       "      <td>2507444</td>\n",
       "      <td>0,0,0,1</td>\n",
       "    </tr>\n",
       "    <tr>\n",
       "      <th>2</th>\n",
       "      <td>2557351</td>\n",
       "      <td>0,0,1,2</td>\n",
       "    </tr>\n",
       "    <tr>\n",
       "      <th>3</th>\n",
       "      <td>2576549</td>\n",
       "      <td>0,0,0,1</td>\n",
       "    </tr>\n",
       "    <tr>\n",
       "      <th>4</th>\n",
       "      <td>2581705</td>\n",
       "      <td>0,1,0,1</td>\n",
       "    </tr>\n",
       "  </tbody>\n",
       "</table>\n",
       "</div>"
      ],
      "text/plain": [
       "   CONS_NO        0\n",
       "0  2506278  0,0,0,1\n",
       "1  2507444  0,0,0,1\n",
       "2  2557351  0,0,1,2\n",
       "3  2576549  0,0,0,1\n",
       "4  2581705  0,1,0,1"
      ]
     },
     "execution_count": 20,
     "metadata": {},
     "output_type": "execute_result"
    }
   ],
   "source": [
    "train_data09_resident_cons_elec_money_type_series.head()"
   ]
  },
  {
   "cell_type": "markdown",
   "metadata": {},
   "source": [
    "###### train_data01_a_worker_per_user 增加字段 IS_HEBIAO_USER、IS_SEPERATE_TIME、IS_MID_CHANGE、ELEC_DEGREE"
   ]
  },
  {
   "cell_type": "code",
   "execution_count": 9,
   "metadata": {
    "collapsed": true
   },
   "outputs": [],
   "source": [
    "%store -r train_data01_a_worker_per_user"
   ]
  },
  {
   "cell_type": "code",
   "execution_count": 30,
   "metadata": {
    "collapsed": false
   },
   "outputs": [],
   "source": [
    "# 连接结果\n",
    "temp = train_data01_a_worker_per_user.merge(\n",
    "    train_data09_resident_cons_elec_money_type_series,\n",
    "    how='left',  left_on='CUST_NO', right_on='CONS_NO'\n",
    ")"
   ]
  },
  {
   "cell_type": "code",
   "execution_count": 54,
   "metadata": {
    "collapsed": false
   },
   "outputs": [],
   "source": [
    "# 空的填充上 全0\n",
    "temp['0'] = temp['0'].fillna('0,0,0,0')"
   ]
  },
  {
   "cell_type": "code",
   "execution_count": 44,
   "metadata": {
    "collapsed": false
   },
   "outputs": [],
   "source": [
    "train_data01_a_worker_per_user['IS_HEBIAO_USER'] = temp['0'].str.split(',').str[0]"
   ]
  },
  {
   "cell_type": "code",
   "execution_count": 45,
   "metadata": {
    "collapsed": false
   },
   "outputs": [],
   "source": [
    "train_data01_a_worker_per_user['IS_SEPERATE_TIME'] = temp['0'].str.split(',').str[1]"
   ]
  },
  {
   "cell_type": "code",
   "execution_count": 46,
   "metadata": {
    "collapsed": false
   },
   "outputs": [],
   "source": [
    "train_data01_a_worker_per_user['IS_MID_CHANGE'] = temp['0'].str.split(',').str[2]"
   ]
  },
  {
   "cell_type": "code",
   "execution_count": 47,
   "metadata": {
    "collapsed": true
   },
   "outputs": [],
   "source": [
    "train_data01_a_worker_per_user['ELEC_DEGREE'] = temp['0'].str.split(',').str[3]"
   ]
  },
  {
   "cell_type": "code",
   "execution_count": 53,
   "metadata": {
    "collapsed": true
   },
   "outputs": [
    {
     "data": {
      "text/html": [
       "<div>\n",
       "<table border=\"1\" class=\"dataframe\">\n",
       "  <thead>\n",
       "    <tr style=\"text-align: right;\">\n",
       "      <th></th>\n",
       "      <th>APP_NO</th>\n",
       "      <th>ID</th>\n",
       "      <th>BUSI_TYPE_CODE</th>\n",
       "      <th>URBAN_RURAL_FLAG</th>\n",
       "      <th>ORG_NO</th>\n",
       "      <th>HANDLE_TIME</th>\n",
       "      <th>ACCEPT_CONTENT</th>\n",
       "      <th>HANDLE_OPINION</th>\n",
       "      <th>CALLING_NO</th>\n",
       "      <th>ELEC_TYPE</th>\n",
       "      <th>...</th>\n",
       "      <th>ORG_NO_9bit</th>\n",
       "      <th>LAST_MONTH_PAY_MODE_4bit</th>\n",
       "      <th>PAY_MODE_4bit_CHANGE_CLUE</th>\n",
       "      <th>MONEY_PER_DEGREE_STD</th>\n",
       "      <th>MULTI_ACCEPT_CONTENT_TYPE</th>\n",
       "      <th>ORG_NO_100bit</th>\n",
       "      <th>IS_HEBIAO_USER</th>\n",
       "      <th>IS_ELEC_EQ_ZERO</th>\n",
       "      <th>MULTI_ELEC_DEGREE</th>\n",
       "      <th>MULTI_IS_SEPERATE_TIME</th>\n",
       "    </tr>\n",
       "  </thead>\n",
       "  <tbody>\n",
       "    <tr>\n",
       "      <th>0</th>\n",
       "      <td>2015101280016722</td>\n",
       "      <td>1000000527203612</td>\n",
       "      <td>3</td>\n",
       "      <td>2.0</td>\n",
       "      <td>3341020</td>\n",
       "      <td>2015/10/12 7:31:50</td>\n",
       "      <td>【银行代扣】客户咨询银行代扣事宜</td>\n",
       "      <td>NaN</td>\n",
       "      <td>1196922.0</td>\n",
       "      <td>202.0</td>\n",
       "      <td>...</td>\n",
       "      <td>NaN</td>\n",
       "      <td></td>\n",
       "      <td>NaN</td>\n",
       "      <td>0.000000</td>\n",
       "      <td>银行代扣</td>\n",
       "      <td>NaN</td>\n",
       "      <td>NaN</td>\n",
       "      <td>NaN</td>\n",
       "      <td>NaN</td>\n",
       "      <td>NaN</td>\n",
       "    </tr>\n",
       "    <tr>\n",
       "      <th>1</th>\n",
       "      <td>2015101280031388</td>\n",
       "      <td>1000000527304861</td>\n",
       "      <td>3</td>\n",
       "      <td>1.0</td>\n",
       "      <td>3340901</td>\n",
       "      <td>2015/10/12 9:14:03</td>\n",
       "      <td>【咨询总户号】通过地址（户名、表号）查询户号信息，已告知</td>\n",
       "      <td>NaN</td>\n",
       "      <td>1005636.0</td>\n",
       "      <td>NaN</td>\n",
       "      <td>...</td>\n",
       "      <td>NaN</td>\n",
       "      <td></td>\n",
       "      <td>NaN</td>\n",
       "      <td>0.000000</td>\n",
       "      <td>咨询总户号+密码初始化</td>\n",
       "      <td>NaN</td>\n",
       "      <td>NaN</td>\n",
       "      <td>NaN</td>\n",
       "      <td>NaN</td>\n",
       "      <td>NaN</td>\n",
       "    </tr>\n",
       "    <tr>\n",
       "      <th>2</th>\n",
       "      <td>2015101280031424</td>\n",
       "      <td>1000000527305097</td>\n",
       "      <td>3</td>\n",
       "      <td>2.0</td>\n",
       "      <td>33401</td>\n",
       "      <td>2015/10/12 9:14:16</td>\n",
       "      <td>【查询电费】客户查询电费，已告知。</td>\n",
       "      <td>NaN</td>\n",
       "      <td>1007513.0</td>\n",
       "      <td>405.0</td>\n",
       "      <td>...</td>\n",
       "      <td>334010103</td>\n",
       "      <td>0202</td>\n",
       "      <td>0202</td>\n",
       "      <td>0.003929</td>\n",
       "      <td>查询电费+电力短信</td>\n",
       "      <td>334010103</td>\n",
       "      <td>NaN</td>\n",
       "      <td>NaN</td>\n",
       "      <td>NaN</td>\n",
       "      <td>NaN</td>\n",
       "    </tr>\n",
       "    <tr>\n",
       "      <th>3</th>\n",
       "      <td>2015101280031680</td>\n",
       "      <td>1000000527300870</td>\n",
       "      <td>3</td>\n",
       "      <td>2.0</td>\n",
       "      <td>334020106</td>\n",
       "      <td>2015/10/12 9:11:37</td>\n",
       "      <td>【咨询总户号】通过地址（户名）查询户号信息。</td>\n",
       "      <td>NaN</td>\n",
       "      <td>1073266.0</td>\n",
       "      <td>202.0</td>\n",
       "      <td>...</td>\n",
       "      <td>334020106</td>\n",
       "      <td>0203</td>\n",
       "      <td>0203</td>\n",
       "      <td>0.000027</td>\n",
       "      <td>咨询总户号</td>\n",
       "      <td>33402010608</td>\n",
       "      <td>True</td>\n",
       "      <td>False</td>\n",
       "      <td>538</td>\n",
       "      <td>False</td>\n",
       "    </tr>\n",
       "    <tr>\n",
       "      <th>4</th>\n",
       "      <td>2015101280032506</td>\n",
       "      <td>1000000527305664</td>\n",
       "      <td>3</td>\n",
       "      <td>1.0</td>\n",
       "      <td>3340101</td>\n",
       "      <td>2015/10/12 9:14:48</td>\n",
       "      <td>【咨询总户号】通过地址（户名、表号）查询户号信息，已告知</td>\n",
       "      <td>NaN</td>\n",
       "      <td>1433592.0</td>\n",
       "      <td>NaN</td>\n",
       "      <td>...</td>\n",
       "      <td>334015001</td>\n",
       "      <td>0203</td>\n",
       "      <td>0203</td>\n",
       "      <td>0.014547</td>\n",
       "      <td>咨询总户号</td>\n",
       "      <td>33401500132</td>\n",
       "      <td>False</td>\n",
       "      <td>False</td>\n",
       "      <td>538</td>\n",
       "      <td>True</td>\n",
       "    </tr>\n",
       "  </tbody>\n",
       "</table>\n",
       "<p>5 rows × 65 columns</p>\n",
       "</div>"
      ],
      "text/plain": [
       "             APP_NO                ID  BUSI_TYPE_CODE  URBAN_RURAL_FLAG  \\\n",
       "0  2015101280016722  1000000527203612               3               2.0   \n",
       "1  2015101280031388  1000000527304861               3               1.0   \n",
       "2  2015101280031424  1000000527305097               3               2.0   \n",
       "3  2015101280031680  1000000527300870               3               2.0   \n",
       "4  2015101280032506  1000000527305664               3               1.0   \n",
       "\n",
       "      ORG_NO         HANDLE_TIME                ACCEPT_CONTENT HANDLE_OPINION  \\\n",
       "0    3341020  2015/10/12 7:31:50              【银行代扣】客户咨询银行代扣事宜            NaN   \n",
       "1    3340901  2015/10/12 9:14:03  【咨询总户号】通过地址（户名、表号）查询户号信息，已告知            NaN   \n",
       "2      33401  2015/10/12 9:14:16             【查询电费】客户查询电费，已告知。            NaN   \n",
       "3  334020106  2015/10/12 9:11:37        【咨询总户号】通过地址（户名）查询户号信息。            NaN   \n",
       "4    3340101  2015/10/12 9:14:48  【咨询总户号】通过地址（户名、表号）查询户号信息，已告知            NaN   \n",
       "\n",
       "   CALLING_NO  ELEC_TYPE           ...           ORG_NO_9bit  \\\n",
       "0   1196922.0      202.0           ...                   NaN   \n",
       "1   1005636.0        NaN           ...                   NaN   \n",
       "2   1007513.0      405.0           ...             334010103   \n",
       "3   1073266.0      202.0           ...             334020106   \n",
       "4   1433592.0        NaN           ...             334015001   \n",
       "\n",
       "   LAST_MONTH_PAY_MODE_4bit  PAY_MODE_4bit_CHANGE_CLUE  MONEY_PER_DEGREE_STD  \\\n",
       "0                                                  NaN              0.000000   \n",
       "1                                                  NaN              0.000000   \n",
       "2                      0202                       0202              0.003929   \n",
       "3                      0203                       0203              0.000027   \n",
       "4                      0203                       0203              0.014547   \n",
       "\n",
       "   MULTI_ACCEPT_CONTENT_TYPE ORG_NO_100bit  IS_HEBIAO_USER  IS_ELEC_EQ_ZERO  \\\n",
       "0                       银行代扣           NaN             NaN              NaN   \n",
       "1                咨询总户号+密码初始化           NaN             NaN              NaN   \n",
       "2                  查询电费+电力短信     334010103             NaN              NaN   \n",
       "3                      咨询总户号   33402010608            True            False   \n",
       "4                      咨询总户号   33401500132           False            False   \n",
       "\n",
       "   MULTI_ELEC_DEGREE  MULTI_IS_SEPERATE_TIME  \n",
       "0                NaN                     NaN  \n",
       "1                NaN                     NaN  \n",
       "2                NaN                     NaN  \n",
       "3                538                   False  \n",
       "4                538                    True  \n",
       "\n",
       "[5 rows x 65 columns]"
      ]
     },
     "execution_count": 53,
     "metadata": {},
     "output_type": "execute_result"
    }
   ],
   "source": [
    "train_data01_a_worker_per_user.head()"
   ]
  },
  {
   "cell_type": "markdown",
   "metadata": {},
   "source": [
    "##### 3-5-2-1 测试集"
   ]
  },
  {
   "cell_type": "code",
   "execution_count": 4,
   "metadata": {
    "collapsed": false
   },
   "outputs": [
    {
     "name": "stdout",
     "output_type": "stream",
     "text": [
      "(1963047, 17) 168516\n"
     ]
    }
   ],
   "source": [
    "# 取出居民用电类型(20*)的数据\n",
    "test_data09_resident_df = \\\n",
    "    test_data09_merge_label_df[test_data09_merge_label_df['ELEC_TYPE_CODE'].isin([200,201,202,203,204,205])]\n",
    "# 1,963,047 条记录，168,516个用户\n",
    "print test_data09_resident_df.shape,len(test_data09_resident_df['CONS_NO'].unique())"
   ]
  },
  {
   "cell_type": "code",
   "execution_count": 5,
   "metadata": {
    "collapsed": true
   },
   "outputs": [],
   "source": [
    "test_data09_resident_df = \\\n",
    "    test_data09_resident_df.filter(regex='CONS_NO|RCVBL_YM|T_PQ|RCVBL_AMT|TAG|MONEY_PER_DEGREE',)"
   ]
  },
  {
   "cell_type": "code",
   "execution_count": 6,
   "metadata": {
    "collapsed": true
   },
   "outputs": [],
   "source": [
    "test_data09_resident_df.loc[:,'MONEY_508'] = (test_data09_resident_df['T_PQ']*0.508).round(2)\n",
    "test_data09_resident_df.loc[:,'MONEY_538'] = (test_data09_resident_df['T_PQ']*0.538).round(2)\n",
    "test_data09_resident_df.loc[:,'MONEY_558'] = (test_data09_resident_df['T_PQ']*0.558).round(2)\n",
    "test_data09_resident_df.loc[:,'MONEY_588'] = (test_data09_resident_df['T_PQ']*0.588).round(2)\n",
    "test_data09_resident_df.loc[:,'MONEY_838'] = (test_data09_resident_df['T_PQ']*0.838).round(2)"
   ]
  },
  {
   "cell_type": "code",
   "execution_count": 7,
   "metadata": {
    "collapsed": false
   },
   "outputs": [],
   "source": [
    "test_data09_resident_df['MONEY_PER_DEGREE'] = test_data09_resident_df['MONEY_PER_DEGREE'].round(3)"
   ]
  },
  {
   "cell_type": "code",
   "execution_count": 8,
   "metadata": {
    "collapsed": true
   },
   "outputs": [
    {
     "data": {
      "text/html": [
       "<div>\n",
       "<table border=\"1\" class=\"dataframe\">\n",
       "  <thead>\n",
       "    <tr style=\"text-align: right;\">\n",
       "      <th></th>\n",
       "      <th>CONS_NO</th>\n",
       "      <th>RCVBL_YM</th>\n",
       "      <th>T_PQ</th>\n",
       "      <th>RCVBL_AMT</th>\n",
       "      <th>MONEY_PER_DEGREE</th>\n",
       "      <th>MONEY_508</th>\n",
       "      <th>MONEY_538</th>\n",
       "      <th>MONEY_558</th>\n",
       "      <th>MONEY_588</th>\n",
       "      <th>MONEY_838</th>\n",
       "    </tr>\n",
       "  </thead>\n",
       "  <tbody>\n",
       "    <tr>\n",
       "      <th>0</th>\n",
       "      <td>8602008462</td>\n",
       "      <td>201509</td>\n",
       "      <td>169</td>\n",
       "      <td>90.92</td>\n",
       "      <td>0.538</td>\n",
       "      <td>85.85</td>\n",
       "      <td>90.92</td>\n",
       "      <td>94.30</td>\n",
       "      <td>99.37</td>\n",
       "      <td>141.62</td>\n",
       "    </tr>\n",
       "    <tr>\n",
       "      <th>1</th>\n",
       "      <td>8664221007</td>\n",
       "      <td>201509</td>\n",
       "      <td>290</td>\n",
       "      <td>156.02</td>\n",
       "      <td>0.538</td>\n",
       "      <td>147.32</td>\n",
       "      <td>156.02</td>\n",
       "      <td>161.82</td>\n",
       "      <td>170.52</td>\n",
       "      <td>243.02</td>\n",
       "    </tr>\n",
       "    <tr>\n",
       "      <th>2</th>\n",
       "      <td>8664221012</td>\n",
       "      <td>201509</td>\n",
       "      <td>110</td>\n",
       "      <td>59.18</td>\n",
       "      <td>0.538</td>\n",
       "      <td>55.88</td>\n",
       "      <td>59.18</td>\n",
       "      <td>61.38</td>\n",
       "      <td>64.68</td>\n",
       "      <td>92.18</td>\n",
       "    </tr>\n",
       "    <tr>\n",
       "      <th>3</th>\n",
       "      <td>8602060747</td>\n",
       "      <td>201509</td>\n",
       "      <td>25</td>\n",
       "      <td>13.64</td>\n",
       "      <td>0.546</td>\n",
       "      <td>12.70</td>\n",
       "      <td>13.45</td>\n",
       "      <td>13.95</td>\n",
       "      <td>14.70</td>\n",
       "      <td>20.95</td>\n",
       "    </tr>\n",
       "    <tr>\n",
       "      <th>4</th>\n",
       "      <td>8660041104</td>\n",
       "      <td>201509</td>\n",
       "      <td>44</td>\n",
       "      <td>23.67</td>\n",
       "      <td>0.538</td>\n",
       "      <td>22.35</td>\n",
       "      <td>23.67</td>\n",
       "      <td>24.55</td>\n",
       "      <td>25.87</td>\n",
       "      <td>36.87</td>\n",
       "    </tr>\n",
       "  </tbody>\n",
       "</table>\n",
       "</div>"
      ],
      "text/plain": [
       "      CONS_NO  RCVBL_YM  T_PQ  RCVBL_AMT  MONEY_PER_DEGREE  MONEY_508  \\\n",
       "0  8602008462    201509   169      90.92             0.538      85.85   \n",
       "1  8664221007    201509   290     156.02             0.538     147.32   \n",
       "2  8664221012    201509   110      59.18             0.538      55.88   \n",
       "3  8602060747    201509    25      13.64             0.546      12.70   \n",
       "4  8660041104    201509    44      23.67             0.538      22.35   \n",
       "\n",
       "   MONEY_538  MONEY_558  MONEY_588  MONEY_838  \n",
       "0      90.92      94.30      99.37     141.62  \n",
       "1     156.02     161.82     170.52     243.02  \n",
       "2      59.18      61.38      64.68      92.18  \n",
       "3      13.45      13.95      14.70      20.95  \n",
       "4      23.67      24.55      25.87      36.87  "
      ]
     },
     "execution_count": 8,
     "metadata": {},
     "output_type": "execute_result"
    }
   ],
   "source": [
    "test_data09_resident_df.head()"
   ]
  },
  {
   "cell_type": "code",
   "execution_count": 11,
   "metadata": {
    "collapsed": true
   },
   "outputs": [
    {
     "name": "stdout",
     "output_type": "stream",
     "text": [
      "CPU times: user 32.7 s, sys: 264 ms, total: 32.9 s\n",
      "Wall time: 32.9 s\n"
     ]
    }
   ],
   "source": [
    "%%time\n",
    "# 保存到本地，因为操作比较繁琐，使用本地脚本来处理\n",
    "save_data(\n",
    "    test_data09_resident_df,\n",
    "    'test_data09_resident_df.csv',\n",
    "    index=True\n",
    ")"
   ]
  },
  {
   "cell_type": "code",
   "execution_count": 3,
   "metadata": {
    "collapsed": false
   },
   "outputs": [],
   "source": [
    "test_data09_resident_df = load_data(\n",
    "    'test_data09_resident_df.csv',\n",
    "    encoding='utf8',\n",
    "    converters={'CONS_NO':unicode,'PAY_MODE':unicode,'ORG_NO':unicode},\n",
    ")"
   ]
  },
  {
   "cell_type": "code",
   "execution_count": 5,
   "metadata": {
    "collapsed": true
   },
   "outputs": [
    {
     "name": "stdout",
     "output_type": "stream",
     "text": [
      "Stored 'test_data09_resident_df' (DataFrame)\n"
     ]
    }
   ],
   "source": [
    "%store test_data09_resident_df"
   ]
  },
  {
   "cell_type": "code",
   "execution_count": 36,
   "metadata": {
    "collapsed": true
   },
   "outputs": [
    {
     "name": "stdout",
     "output_type": "stream",
     "text": [
      "RF_N_ESTIMATORS:100\n",
      "   Unnamed: 0     CONS_NO  RCVBL_YM       ORG_NO  PAY_MODE  T_PQ  RCVBL_AMT  \\\n",
      "0           2  6010777305    201502  33401010130   20311.0  1883    1058.25   \n",
      "1           3  6010777296    201502  33401010130   20311.0  4279    3585.80   \n",
      "2           4  6010777190    201502  33401010130   20311.0  2514    1561.93   \n",
      "3           6  6023144188    201502  33401010130   20311.0   531     285.68   \n",
      "4           8  6010777310    201502  33401010130   10101.0  2166    1080.84   \n",
      "\n",
      "   RCVED_AMT  STATUS_CODE  RCVBL_PENALTY    ...      ELEC_TYPE_CODE  CTL_MODE  \\\n",
      "0    1058.25            1           2.12    ...               202.0       NaN   \n",
      "1    3585.80            1           0.00    ...               201.0       NaN   \n",
      "2    1561.93            1           0.00    ...               202.0       NaN   \n",
      "3     285.68            1           0.00    ...               202.0       NaN   \n",
      "4    1080.84            1           0.00    ...               201.0       NaN   \n",
      "\n",
      "   CUST_NO  TAG  MONEY_PER_DEGREE  MONEY_508  MONEY_538  MONEY_558  MONEY_588  \\\n",
      "0      NaN    0          0.562002     956.56    1013.05    1050.71    1107.20   \n",
      "1      NaN    0          0.838000    2173.73    2302.10    2387.68    2516.05   \n",
      "2      NaN    0          0.621293    1277.11    1352.53    1402.81    1478.23   \n",
      "3      NaN    0          0.538004     269.75     285.68     296.30     312.23   \n",
      "4      NaN    0          0.499003    1100.33    1165.31    1208.63    1273.61   \n",
      "\n",
      "   MONEY_838  \n",
      "0    1577.95  \n",
      "1    3585.80  \n",
      "2    2106.73  \n",
      "3     444.98  \n",
      "4    1815.11  \n",
      "\n",
      "[5 rows x 24 columns]\n"
     ]
    }
   ],
   "source": [
    "# 本地处理...\n",
    "%%time\n",
    "%run processing_table09_elec_money.py"
   ]
  },
  {
   "cell_type": "code",
   "execution_count": 52,
   "metadata": {
    "collapsed": true
   },
   "outputs": [
    {
     "name": "stdout",
     "output_type": "stream",
     "text": [
      "CPU times: user 124 ms, sys: 0 ns, total: 124 ms\n",
      "Wall time: 166 ms\n"
     ]
    }
   ],
   "source": [
    "%%time\n",
    "# 读取处理的数据\n",
    "test_data09_resident_cons_elec_money_type_series = load_data(\n",
    "    'test_data09_resident_cons_elec_money_type_series.csv',\n",
    "    converters={'CONS_NO': unicode,}\n",
    ")"
   ]
  },
  {
   "cell_type": "markdown",
   "metadata": {},
   "source": [
    "###### test_data01_a_worker_per_user 增加字段 IS_HEBIAO_USER、IS_SEPERATE_TIME、IS_MID_CHANGE、ELEC_DEGREE"
   ]
  },
  {
   "cell_type": "code",
   "execution_count": 4,
   "metadata": {
    "collapsed": true
   },
   "outputs": [],
   "source": [
    "%store -r test_data01_a_worker_per_user"
   ]
  },
  {
   "cell_type": "code",
   "execution_count": 53,
   "metadata": {
    "collapsed": false
   },
   "outputs": [],
   "source": [
    "temp = test_data01_a_worker_per_user.merge(\n",
    "    test_data09_resident_cons_elec_money_type_series,\n",
    "    how='left',  left_on='CUST_NO', right_on='CONS_NO'\n",
    ")"
   ]
  },
  {
   "cell_type": "code",
   "execution_count": 35,
   "metadata": {
    "collapsed": true
   },
   "outputs": [
    {
     "data": {
      "text/html": [
       "<div>\n",
       "<table border=\"1\" class=\"dataframe\">\n",
       "  <thead>\n",
       "    <tr style=\"text-align: right;\">\n",
       "      <th></th>\n",
       "      <th>APP_NO</th>\n",
       "      <th>ID</th>\n",
       "      <th>BUSI_TYPE_CODE</th>\n",
       "      <th>URBAN_RURAL_FLAG</th>\n",
       "      <th>ORG_NO</th>\n",
       "      <th>HANDLE_TIME</th>\n",
       "      <th>ACCEPT_CONTENT</th>\n",
       "      <th>HANDLE_OPINION</th>\n",
       "      <th>CALLING_NO</th>\n",
       "      <th>ELEC_TYPE</th>\n",
       "      <th>...</th>\n",
       "      <th>PAY_MODE_4bit_CHANGE_CLUE</th>\n",
       "      <th>MONEY_PER_DEGREE_STD</th>\n",
       "      <th>MULTI_ACCEPT_CONTENT_TYPE</th>\n",
       "      <th>ORG_NO_100bit</th>\n",
       "      <th>IS_HEBIAO_USER</th>\n",
       "      <th>IS_ELEC_EQ_ZERO</th>\n",
       "      <th>MULTI_ELEC_DEGREE</th>\n",
       "      <th>MULTI_IS_SEPERATE_TIME</th>\n",
       "      <th>CONS_NO</th>\n",
       "      <th>0</th>\n",
       "    </tr>\n",
       "  </thead>\n",
       "  <tbody>\n",
       "    <tr>\n",
       "      <th>0</th>\n",
       "      <td>2015101280016722</td>\n",
       "      <td>1000000527203612</td>\n",
       "      <td>3</td>\n",
       "      <td>2.0</td>\n",
       "      <td>3341020</td>\n",
       "      <td>2015/10/12 7:31:50</td>\n",
       "      <td>【银行代扣】客户咨询银行代扣事宜</td>\n",
       "      <td>NaN</td>\n",
       "      <td>1196922.0</td>\n",
       "      <td>202.0</td>\n",
       "      <td>...</td>\n",
       "      <td>NaN</td>\n",
       "      <td>0.000000</td>\n",
       "      <td>银行代扣</td>\n",
       "      <td>NaN</td>\n",
       "      <td>NaN</td>\n",
       "      <td>NaN</td>\n",
       "      <td>NaN</td>\n",
       "      <td>NaN</td>\n",
       "      <td>NaN</td>\n",
       "      <td>NaN</td>\n",
       "    </tr>\n",
       "    <tr>\n",
       "      <th>1</th>\n",
       "      <td>2015101280031388</td>\n",
       "      <td>1000000527304861</td>\n",
       "      <td>3</td>\n",
       "      <td>1.0</td>\n",
       "      <td>3340901</td>\n",
       "      <td>2015/10/12 9:14:03</td>\n",
       "      <td>【咨询总户号】通过地址（户名、表号）查询户号信息，已告知</td>\n",
       "      <td>NaN</td>\n",
       "      <td>1005636.0</td>\n",
       "      <td>NaN</td>\n",
       "      <td>...</td>\n",
       "      <td>NaN</td>\n",
       "      <td>0.000000</td>\n",
       "      <td>咨询总户号+密码初始化</td>\n",
       "      <td>NaN</td>\n",
       "      <td>NaN</td>\n",
       "      <td>NaN</td>\n",
       "      <td>NaN</td>\n",
       "      <td>NaN</td>\n",
       "      <td>NaN</td>\n",
       "      <td>NaN</td>\n",
       "    </tr>\n",
       "    <tr>\n",
       "      <th>2</th>\n",
       "      <td>2015101280031424</td>\n",
       "      <td>1000000527305097</td>\n",
       "      <td>3</td>\n",
       "      <td>2.0</td>\n",
       "      <td>33401</td>\n",
       "      <td>2015/10/12 9:14:16</td>\n",
       "      <td>【查询电费】客户查询电费，已告知。</td>\n",
       "      <td>NaN</td>\n",
       "      <td>1007513.0</td>\n",
       "      <td>405.0</td>\n",
       "      <td>...</td>\n",
       "      <td>0202</td>\n",
       "      <td>0.003929</td>\n",
       "      <td>查询电费+电力短信</td>\n",
       "      <td>334010103</td>\n",
       "      <td>NaN</td>\n",
       "      <td>NaN</td>\n",
       "      <td>NaN</td>\n",
       "      <td>NaN</td>\n",
       "      <td>NaN</td>\n",
       "      <td>NaN</td>\n",
       "    </tr>\n",
       "    <tr>\n",
       "      <th>3</th>\n",
       "      <td>2015101280031680</td>\n",
       "      <td>1000000527300870</td>\n",
       "      <td>3</td>\n",
       "      <td>2.0</td>\n",
       "      <td>334020106</td>\n",
       "      <td>2015/10/12 9:11:37</td>\n",
       "      <td>【咨询总户号】通过地址（户名）查询户号信息。</td>\n",
       "      <td>NaN</td>\n",
       "      <td>1073266.0</td>\n",
       "      <td>202.0</td>\n",
       "      <td>...</td>\n",
       "      <td>0203</td>\n",
       "      <td>0.000027</td>\n",
       "      <td>咨询总户号</td>\n",
       "      <td>33402010608</td>\n",
       "      <td>True</td>\n",
       "      <td>False</td>\n",
       "      <td>538</td>\n",
       "      <td>False</td>\n",
       "      <td>1658156188</td>\n",
       "      <td>0,0,0,1</td>\n",
       "    </tr>\n",
       "    <tr>\n",
       "      <th>4</th>\n",
       "      <td>2015101280032506</td>\n",
       "      <td>1000000527305664</td>\n",
       "      <td>3</td>\n",
       "      <td>1.0</td>\n",
       "      <td>3340101</td>\n",
       "      <td>2015/10/12 9:14:48</td>\n",
       "      <td>【咨询总户号】通过地址（户名、表号）查询户号信息，已告知</td>\n",
       "      <td>NaN</td>\n",
       "      <td>1433592.0</td>\n",
       "      <td>NaN</td>\n",
       "      <td>...</td>\n",
       "      <td>0203</td>\n",
       "      <td>0.014547</td>\n",
       "      <td>咨询总户号</td>\n",
       "      <td>33401500132</td>\n",
       "      <td>False</td>\n",
       "      <td>False</td>\n",
       "      <td>538</td>\n",
       "      <td>True</td>\n",
       "      <td>3168134368</td>\n",
       "      <td>0,1,0,1</td>\n",
       "    </tr>\n",
       "  </tbody>\n",
       "</table>\n",
       "<p>5 rows × 67 columns</p>\n",
       "</div>"
      ],
      "text/plain": [
       "             APP_NO                ID  BUSI_TYPE_CODE  URBAN_RURAL_FLAG  \\\n",
       "0  2015101280016722  1000000527203612               3               2.0   \n",
       "1  2015101280031388  1000000527304861               3               1.0   \n",
       "2  2015101280031424  1000000527305097               3               2.0   \n",
       "3  2015101280031680  1000000527300870               3               2.0   \n",
       "4  2015101280032506  1000000527305664               3               1.0   \n",
       "\n",
       "      ORG_NO         HANDLE_TIME                ACCEPT_CONTENT HANDLE_OPINION  \\\n",
       "0    3341020  2015/10/12 7:31:50              【银行代扣】客户咨询银行代扣事宜            NaN   \n",
       "1    3340901  2015/10/12 9:14:03  【咨询总户号】通过地址（户名、表号）查询户号信息，已告知            NaN   \n",
       "2      33401  2015/10/12 9:14:16             【查询电费】客户查询电费，已告知。            NaN   \n",
       "3  334020106  2015/10/12 9:11:37        【咨询总户号】通过地址（户名）查询户号信息。            NaN   \n",
       "4    3340101  2015/10/12 9:14:48  【咨询总户号】通过地址（户名、表号）查询户号信息，已告知            NaN   \n",
       "\n",
       "   CALLING_NO  ELEC_TYPE   ...    PAY_MODE_4bit_CHANGE_CLUE  \\\n",
       "0   1196922.0      202.0   ...                          NaN   \n",
       "1   1005636.0        NaN   ...                          NaN   \n",
       "2   1007513.0      405.0   ...                         0202   \n",
       "3   1073266.0      202.0   ...                         0203   \n",
       "4   1433592.0        NaN   ...                         0203   \n",
       "\n",
       "   MONEY_PER_DEGREE_STD  MULTI_ACCEPT_CONTENT_TYPE  ORG_NO_100bit  \\\n",
       "0              0.000000                       银行代扣            NaN   \n",
       "1              0.000000                咨询总户号+密码初始化            NaN   \n",
       "2              0.003929                  查询电费+电力短信      334010103   \n",
       "3              0.000027                      咨询总户号    33402010608   \n",
       "4              0.014547                      咨询总户号    33401500132   \n",
       "\n",
       "   IS_HEBIAO_USER IS_ELEC_EQ_ZERO  MULTI_ELEC_DEGREE  MULTI_IS_SEPERATE_TIME  \\\n",
       "0             NaN             NaN                NaN                     NaN   \n",
       "1             NaN             NaN                NaN                     NaN   \n",
       "2             NaN             NaN                NaN                     NaN   \n",
       "3            True           False                538                   False   \n",
       "4           False           False                538                    True   \n",
       "\n",
       "      CONS_NO        0  \n",
       "0         NaN      NaN  \n",
       "1         NaN      NaN  \n",
       "2         NaN      NaN  \n",
       "3  1658156188  0,0,0,1  \n",
       "4  3168134368  0,1,0,1  \n",
       "\n",
       "[5 rows x 67 columns]"
      ]
     },
     "execution_count": 35,
     "metadata": {},
     "output_type": "execute_result"
    }
   ],
   "source": [
    "temp.head()"
   ]
  },
  {
   "cell_type": "code",
   "execution_count": 43,
   "metadata": {
    "collapsed": true
   },
   "outputs": [
    {
     "data": {
      "text/plain": [
       "0         0\n",
       "1         0\n",
       "2         0\n",
       "3         0\n",
       "4         0\n",
       "5         0\n",
       "6         0\n",
       "7         0\n",
       "8         0\n",
       "9         0\n",
       "10        0\n",
       "11        0\n",
       "12        0\n",
       "13        0\n",
       "14        0\n",
       "15        0\n",
       "16        0\n",
       "17        0\n",
       "18        0\n",
       "19        0\n",
       "20        0\n",
       "21        0\n",
       "22        0\n",
       "23        0\n",
       "24        0\n",
       "25        0\n",
       "26        0\n",
       "27        0\n",
       "28        0\n",
       "29        0\n",
       "         ..\n",
       "658344    0\n",
       "658345    0\n",
       "658346    0\n",
       "658347    0\n",
       "658348    0\n",
       "658349    0\n",
       "658350    0\n",
       "658351    0\n",
       "658352    0\n",
       "658353    0\n",
       "658354    0\n",
       "658355    0\n",
       "658356    0\n",
       "658357    0\n",
       "658358    0\n",
       "658359    0\n",
       "658360    0\n",
       "658361    0\n",
       "658362    0\n",
       "658363    0\n",
       "658364    0\n",
       "658365    0\n",
       "658366    0\n",
       "658367    0\n",
       "658368    0\n",
       "658369    0\n",
       "658370    0\n",
       "658371    0\n",
       "658372    0\n",
       "658373    0\n",
       "Name: 0, dtype: object"
      ]
     },
     "execution_count": 43,
     "metadata": {},
     "output_type": "execute_result"
    }
   ],
   "source": [
    "temp['0'].str.split(',').str[0]"
   ]
  },
  {
   "cell_type": "code",
   "execution_count": 55,
   "metadata": {
    "collapsed": false
   },
   "outputs": [],
   "source": [
    "test_data01_a_worker_per_user['IS_HEBIAO_USER'] = temp['0'].str.split(',').str[0]"
   ]
  },
  {
   "cell_type": "code",
   "execution_count": 56,
   "metadata": {
    "collapsed": false
   },
   "outputs": [],
   "source": [
    "test_data01_a_worker_per_user['IS_SEPERATE_TIME'] = temp['0'].str.split(',').str[1]"
   ]
  },
  {
   "cell_type": "code",
   "execution_count": 57,
   "metadata": {
    "collapsed": false
   },
   "outputs": [],
   "source": [
    "test_data01_a_worker_per_user['IS_MID_CHANGE'] = temp['0'].str.split(',').str[2]"
   ]
  },
  {
   "cell_type": "code",
   "execution_count": 58,
   "metadata": {
    "collapsed": true
   },
   "outputs": [],
   "source": [
    "test_data01_a_worker_per_user['ELEC_DEGREE'] = temp['0'].str.split(',').str[3]"
   ]
  },
  {
   "cell_type": "code",
   "execution_count": 60,
   "metadata": {
    "collapsed": true
   },
   "outputs": [
    {
     "name": "stdout",
     "output_type": "stream",
     "text": [
      "Stored 'test_data01_a_worker_per_user' (DataFrame)\n"
     ]
    }
   ],
   "source": [
    "%store test_data01_a_worker_per_user"
   ]
  },
  {
   "cell_type": "code",
   "execution_count": 5,
   "metadata": {
    "collapsed": true
   },
   "outputs": [
    {
     "data": {
      "text/html": [
       "<div>\n",
       "<table border=\"1\" class=\"dataframe\">\n",
       "  <thead>\n",
       "    <tr style=\"text-align: right;\">\n",
       "      <th></th>\n",
       "      <th>APP_NO</th>\n",
       "      <th>ID</th>\n",
       "      <th>BUSI_TYPE_CODE</th>\n",
       "      <th>URBAN_RURAL_FLAG</th>\n",
       "      <th>ORG_NO</th>\n",
       "      <th>HANDLE_TIME</th>\n",
       "      <th>ACCEPT_CONTENT</th>\n",
       "      <th>HANDLE_OPINION</th>\n",
       "      <th>CALLING_NO</th>\n",
       "      <th>ELEC_TYPE</th>\n",
       "      <th>...</th>\n",
       "      <th>LAST_MONTH_PAY_MODE_4bit</th>\n",
       "      <th>PAY_MODE_4bit_CHANGE_CLUE</th>\n",
       "      <th>MONEY_PER_DEGREE_STD</th>\n",
       "      <th>MULTI_ACCEPT_CONTENT_TYPE</th>\n",
       "      <th>ORG_NO_100bit</th>\n",
       "      <th>IS_HEBIAO_USER</th>\n",
       "      <th>IS_ELEC_EQ_ZERO</th>\n",
       "      <th>IS_SEPERATE_TIME</th>\n",
       "      <th>IS_MID_CHANGE</th>\n",
       "      <th>ELEC_DEGREE</th>\n",
       "    </tr>\n",
       "  </thead>\n",
       "  <tbody>\n",
       "    <tr>\n",
       "      <th>0</th>\n",
       "      <td>2015101280019632</td>\n",
       "      <td>1000000527215943</td>\n",
       "      <td>3</td>\n",
       "      <td>1.0</td>\n",
       "      <td>3340780</td>\n",
       "      <td>2015/10/12 7:58:04</td>\n",
       "      <td>【客户咨询一户无电】建议先自行联系有资质电工排查是否为内部故障，客户接受并表示有其他情况再致电。</td>\n",
       "      <td>NaN</td>\n",
       "      <td>1628699.0</td>\n",
       "      <td>202.0</td>\n",
       "      <td>...</td>\n",
       "      <td>101.0</td>\n",
       "      <td>0203-0101</td>\n",
       "      <td>0.025006</td>\n",
       "      <td>客户咨询一户无电</td>\n",
       "      <td>3.340780e+08</td>\n",
       "      <td>0</td>\n",
       "      <td>False</td>\n",
       "      <td>1</td>\n",
       "      <td>0</td>\n",
       "      <td>1</td>\n",
       "    </tr>\n",
       "    <tr>\n",
       "      <th>1</th>\n",
       "      <td>2015101280019648</td>\n",
       "      <td>1000000527216033</td>\n",
       "      <td>10</td>\n",
       "      <td>2.0</td>\n",
       "      <td>334066001</td>\n",
       "      <td>2015/10/12 7:58:26</td>\n",
       "      <td>【退订】#2061584501；【退订】#2061584602；【退订】#406091928...</td>\n",
       "      <td>NaN</td>\n",
       "      <td>1260775.0</td>\n",
       "      <td>201.0</td>\n",
       "      <td>...</td>\n",
       "      <td>203.0</td>\n",
       "      <td>0203</td>\n",
       "      <td>0.000046</td>\n",
       "      <td>退订</td>\n",
       "      <td>3.340660e+10</td>\n",
       "      <td>0</td>\n",
       "      <td>False</td>\n",
       "      <td>0</td>\n",
       "      <td>0</td>\n",
       "      <td>1</td>\n",
       "    </tr>\n",
       "    <tr>\n",
       "      <th>2</th>\n",
       "      <td>2015101280019680</td>\n",
       "      <td>1000000527216202</td>\n",
       "      <td>3</td>\n",
       "      <td>2.0</td>\n",
       "      <td>3340690</td>\n",
       "      <td>2015/10/12 7:58:52</td>\n",
       "      <td>【查询电费】客户查询本月电费，已告知。</td>\n",
       "      <td>NaN</td>\n",
       "      <td>1536321.0</td>\n",
       "      <td>201.0</td>\n",
       "      <td>...</td>\n",
       "      <td>203.0</td>\n",
       "      <td>0203</td>\n",
       "      <td>0.024686</td>\n",
       "      <td>查询电费+回呼电话</td>\n",
       "      <td>3.340690e+10</td>\n",
       "      <td>0</td>\n",
       "      <td>False</td>\n",
       "      <td>0</td>\n",
       "      <td>0</td>\n",
       "      <td>2</td>\n",
       "    </tr>\n",
       "    <tr>\n",
       "      <th>3</th>\n",
       "      <td>2015101280019873</td>\n",
       "      <td>1000000527218491</td>\n",
       "      <td>3</td>\n",
       "      <td>1.0</td>\n",
       "      <td>3340810</td>\n",
       "      <td>2015/10/12 8:02:53</td>\n",
       "      <td>【咨询总户号】通过地址、户名查询户号信息，已告知</td>\n",
       "      <td>NaN</td>\n",
       "      <td>1576698.0</td>\n",
       "      <td>NaN</td>\n",
       "      <td>...</td>\n",
       "      <td>101.0</td>\n",
       "      <td>0101</td>\n",
       "      <td>0.167792</td>\n",
       "      <td>咨询总户号</td>\n",
       "      <td>3.340801e+10</td>\n",
       "      <td>0</td>\n",
       "      <td>False</td>\n",
       "      <td>1</td>\n",
       "      <td>0</td>\n",
       "      <td>1</td>\n",
       "    </tr>\n",
       "    <tr>\n",
       "      <th>4</th>\n",
       "      <td>2015101280020130</td>\n",
       "      <td>1000000527221199</td>\n",
       "      <td>1</td>\n",
       "      <td>1.0</td>\n",
       "      <td>3340501</td>\n",
       "      <td>2015/10/12 8:07:10</td>\n",
       "      <td>【设备故障】客户报修此处线路打火，请处理。客户只能提供此地址，烦请电话联系057486581...</td>\n",
       "      <td>NaN</td>\n",
       "      <td>1089990.0</td>\n",
       "      <td>201.0</td>\n",
       "      <td>...</td>\n",
       "      <td>NaN</td>\n",
       "      <td>NaN</td>\n",
       "      <td>0.000000</td>\n",
       "      <td>设备故障</td>\n",
       "      <td>NaN</td>\n",
       "      <td>0</td>\n",
       "      <td>NaN</td>\n",
       "      <td>0</td>\n",
       "      <td>0</td>\n",
       "      <td>0</td>\n",
       "    </tr>\n",
       "  </tbody>\n",
       "</table>\n",
       "<p>5 rows × 65 columns</p>\n",
       "</div>"
      ],
      "text/plain": [
       "             APP_NO                ID  BUSI_TYPE_CODE  URBAN_RURAL_FLAG  \\\n",
       "0  2015101280019632  1000000527215943               3               1.0   \n",
       "1  2015101280019648  1000000527216033              10               2.0   \n",
       "2  2015101280019680  1000000527216202               3               2.0   \n",
       "3  2015101280019873  1000000527218491               3               1.0   \n",
       "4  2015101280020130  1000000527221199               1               1.0   \n",
       "\n",
       "      ORG_NO         HANDLE_TIME  \\\n",
       "0    3340780  2015/10/12 7:58:04   \n",
       "1  334066001  2015/10/12 7:58:26   \n",
       "2    3340690  2015/10/12 7:58:52   \n",
       "3    3340810  2015/10/12 8:02:53   \n",
       "4    3340501  2015/10/12 8:07:10   \n",
       "\n",
       "                                      ACCEPT_CONTENT HANDLE_OPINION  \\\n",
       "0   【客户咨询一户无电】建议先自行联系有资质电工排查是否为内部故障，客户接受并表示有其他情况再致电。            NaN   \n",
       "1  【退订】#2061584501；【退订】#2061584602；【退订】#406091928...            NaN   \n",
       "2                                【查询电费】客户查询本月电费，已告知。            NaN   \n",
       "3                           【咨询总户号】通过地址、户名查询户号信息，已告知            NaN   \n",
       "4  【设备故障】客户报修此处线路打火，请处理。客户只能提供此地址，烦请电话联系057486581...            NaN   \n",
       "\n",
       "   CALLING_NO  ELEC_TYPE     ...      LAST_MONTH_PAY_MODE_4bit  \\\n",
       "0   1628699.0      202.0     ...                         101.0   \n",
       "1   1260775.0      201.0     ...                         203.0   \n",
       "2   1536321.0      201.0     ...                         203.0   \n",
       "3   1576698.0        NaN     ...                         101.0   \n",
       "4   1089990.0      201.0     ...                           NaN   \n",
       "\n",
       "   PAY_MODE_4bit_CHANGE_CLUE  MONEY_PER_DEGREE_STD  MULTI_ACCEPT_CONTENT_TYPE  \\\n",
       "0                  0203-0101              0.025006                   客户咨询一户无电   \n",
       "1                       0203              0.000046                         退订   \n",
       "2                       0203              0.024686                  查询电费+回呼电话   \n",
       "3                       0101              0.167792                      咨询总户号   \n",
       "4                        NaN              0.000000                       设备故障   \n",
       "\n",
       "  ORG_NO_100bit  IS_HEBIAO_USER  IS_ELEC_EQ_ZERO  IS_SEPERATE_TIME  \\\n",
       "0  3.340780e+08               0            False                 1   \n",
       "1  3.340660e+10               0            False                 0   \n",
       "2  3.340690e+10               0            False                 0   \n",
       "3  3.340801e+10               0            False                 1   \n",
       "4           NaN               0              NaN                 0   \n",
       "\n",
       "   IS_MID_CHANGE  ELEC_DEGREE  \n",
       "0              0            1  \n",
       "1              0            1  \n",
       "2              0            2  \n",
       "3              0            1  \n",
       "4              0            0  \n",
       "\n",
       "[5 rows x 65 columns]"
      ]
     },
     "execution_count": 5,
     "metadata": {},
     "output_type": "execute_result"
    }
   ],
   "source": [
    "test_data01_a_worker_per_user.head()"
   ]
  },
  {
   "cell_type": "code",
   "execution_count": 7,
   "metadata": {
    "collapsed": true
   },
   "outputs": [
    {
     "name": "stdout",
     "output_type": "stream",
     "text": [
      "(2,)\n"
     ]
    },
    {
     "data": {
      "text/plain": [
       "0    311060\n",
       "1     59811\n",
       "Name: IS_SEPERATE_TIME, dtype: int64"
      ]
     },
     "execution_count": 7,
     "metadata": {},
     "output_type": "execute_result"
    },
    {
     "data": {
      "image/png": "[encoded data removed]",
      "text/plain": [
       "<matplotlib.figure.Figure at 0x7f6b621e8950>"
      ]
     },
     "metadata": {},
     "output_type": "display_data"
    }
   ],
   "source": [
    "show_attribute_detail(\n",
    "    test_data01_a_worker_per_user,\n",
    "    'IS_SEPERATE_TIME',\n",
    ")"
   ]
  },
  {
   "cell_type": "markdown",
   "metadata": {},
   "source": [
    "---\n",
    "#### 3-5-3 特殊 电费和电量 研究"
   ]
  },
  {
   "cell_type": "code",
   "execution_count": 7,
   "metadata": {
    "collapsed": true
   },
   "outputs": [],
   "source": [
    "%store -r train_data09_merge_label_df"
   ]
  },
  {
   "cell_type": "markdown",
   "metadata": {},
   "source": [
    "###### 3-5-3-1 训练集"
   ]
  },
  {
   "cell_type": "code",
   "execution_count": 6,
   "metadata": {
    "collapsed": true
   },
   "outputs": [
    {
     "ename": "NameError",
     "evalue": "name 'train_data09_merge_label_df' is not defined",
     "output_type": "error",
     "traceback": [
      "\u001b[0;31m---------------------------------------------------------------------------\u001b[0m",
      "\u001b[0;31mNameError\u001b[0m                                 Traceback (most recent call last)",
      "\u001b[0;32m<ipython-input-6-dfe1a31c4fa8>\u001b[0m in \u001b[0;36m<module>\u001b[0;34m()\u001b[0m\n\u001b[0;32m----> 1\u001b[0;31m \u001b[0mtrain_data09_merge_label_df\u001b[0m\u001b[0;34m.\u001b[0m\u001b[0mhead\u001b[0m\u001b[0;34m(\u001b[0m\u001b[0;34m)\u001b[0m\u001b[0;34m\u001b[0m\u001b[0m\n\u001b[0m",
      "\u001b[0;31mNameError\u001b[0m: name 'train_data09_merge_label_df' is not defined"
     ]
    },
    {
     "name": "stdout",
     "output_type": "stream",
     "text": [
      "> \u001b[0;32m<ipython-input-6-dfe1a31c4fa8>\u001b[0m(1)\u001b[0;36m<module>\u001b[0;34m()\u001b[0m\n",
      "\u001b[0;32m----> 1 \u001b[0;31m\u001b[0mtrain_data09_merge_label_df\u001b[0m\u001b[0;34m.\u001b[0m\u001b[0mhead\u001b[0m\u001b[0;34m(\u001b[0m\u001b[0;34m)\u001b[0m\u001b[0;34m\u001b[0m\u001b[0m\n",
      "\u001b[0m\n",
      "ipdb> q\n"
     ]
    }
   ],
   "source": [
    "train_data09_merge_label_df.head()"
   ]
  },
  {
   "cell_type": "code",
   "execution_count": 22,
   "metadata": {
    "collapsed": true
   },
   "outputs": [],
   "source": [
    "train_RCVBL_AMT_T_PQ = load_data(\n",
    "    'train_RCVBL_AMT&T_PQ.csv',\n",
    "    encoding='utf8', converters={'CUST_NO':unicode}\n",
    ")"
   ]
  },
  {
   "cell_type": "code",
   "execution_count": 18,
   "metadata": {
    "collapsed": true
   },
   "outputs": [
    {
     "data": {
      "text/html": [
       "<div>\n",
       "<table border=\"1\" class=\"dataframe\">\n",
       "  <thead>\n",
       "    <tr style=\"text-align: right;\">\n",
       "      <th></th>\n",
       "      <th>CUST_NO</th>\n",
       "      <th>RCVBL_AMT_T_PQ_equal0</th>\n",
       "      <th>RCVBL_AMT_equal0_T_PQ_grater0</th>\n",
       "      <th>RCVBL_AMT_lower0</th>\n",
       "    </tr>\n",
       "  </thead>\n",
       "  <tbody>\n",
       "    <tr>\n",
       "      <th>0</th>\n",
       "      <td>6010466106</td>\n",
       "      <td>0</td>\n",
       "      <td>0</td>\n",
       "      <td>0</td>\n",
       "    </tr>\n",
       "    <tr>\n",
       "      <th>1</th>\n",
       "      <td>1610543109</td>\n",
       "      <td>0</td>\n",
       "      <td>0</td>\n",
       "      <td>0</td>\n",
       "    </tr>\n",
       "    <tr>\n",
       "      <th>2</th>\n",
       "      <td>7030007666</td>\n",
       "      <td>0</td>\n",
       "      <td>0</td>\n",
       "      <td>0</td>\n",
       "    </tr>\n",
       "    <tr>\n",
       "      <th>3</th>\n",
       "      <td>1722061956</td>\n",
       "      <td>0</td>\n",
       "      <td>0</td>\n",
       "      <td>0</td>\n",
       "    </tr>\n",
       "    <tr>\n",
       "      <th>4</th>\n",
       "      <td>5005018967</td>\n",
       "      <td>0</td>\n",
       "      <td>0</td>\n",
       "      <td>0</td>\n",
       "    </tr>\n",
       "  </tbody>\n",
       "</table>\n",
       "</div>"
      ],
      "text/plain": [
       "      CUST_NO  RCVBL_AMT_T_PQ_equal0  RCVBL_AMT_equal0_T_PQ_grater0  \\\n",
       "0  6010466106                      0                              0   \n",
       "1  1610543109                      0                              0   \n",
       "2  7030007666                      0                              0   \n",
       "3  1722061956                      0                              0   \n",
       "4  5005018967                      0                              0   \n",
       "\n",
       "   RCVBL_AMT_lower0  \n",
       "0                 0  \n",
       "1                 0  \n",
       "2                 0  \n",
       "3                 0  \n",
       "4                 0  "
      ]
     },
     "execution_count": 18,
     "metadata": {},
     "output_type": "execute_result"
    }
   ],
   "source": [
    "train_RCVBL_AMT_T_PQ.head()"
   ]
  },
  {
   "cell_type": "code",
   "execution_count": 23,
   "metadata": {
    "collapsed": false
   },
   "outputs": [
    {
     "data": {
      "text/plain": [
       "380542"
      ]
     },
     "execution_count": 23,
     "metadata": {},
     "output_type": "execute_result"
    }
   ],
   "source": [
    "temp = train_data01_a_worker_per_user.merge(\n",
    "    train_RCVBL_AMT_T_PQ,\n",
    "    how='left', on='CUST_NO'\n",
    ")\n",
    "sum(temp['RCVBL_AMT_T_PQ_equal0'].notnull())"
   ]
  },
  {
   "cell_type": "code",
   "execution_count": 24,
   "metadata": {
    "collapsed": true
   },
   "outputs": [],
   "source": [
    "train_data01_a_worker_per_user['RCVBL_AMT_T_PQ_equal0'] = temp['RCVBL_AMT_T_PQ_equal0']\n",
    "train_data01_a_worker_per_user['RCVBL_AMT_T_PQ_equal0'] = \\\n",
    "    train_data01_a_worker_per_user['RCVBL_AMT_T_PQ_equal0'].fillna(0)"
   ]
  },
  {
   "cell_type": "code",
   "execution_count": 25,
   "metadata": {
    "collapsed": true
   },
   "outputs": [],
   "source": [
    "train_data01_a_worker_per_user['RCVBL_AMT_equal0_T_PQ_grater0'] = temp['RCVBL_AMT_equal0_T_PQ_grater0']\n",
    "train_data01_a_worker_per_user['RCVBL_AMT_equal0_T_PQ_grater0'] = \\\n",
    "    train_data01_a_worker_per_user['RCVBL_AMT_equal0_T_PQ_grater0'].fillna(0)"
   ]
  },
  {
   "cell_type": "code",
   "execution_count": 26,
   "metadata": {
    "collapsed": true
   },
   "outputs": [],
   "source": [
    "train_data01_a_worker_per_user['RCVBL_AMT_lower0'] = temp['RCVBL_AMT_lower0']\n",
    "train_data01_a_worker_per_user['RCVBL_AMT_lower0'] = \\\n",
    "    train_data01_a_worker_per_user['RCVBL_AMT_lower0'].fillna(0)"
   ]
  },
  {
   "cell_type": "code",
   "execution_count": 27,
   "metadata": {
    "collapsed": true
   },
   "outputs": [
    {
     "data": {
      "text/html": [
       "<div>\n",
       "<table border=\"1\" class=\"dataframe\">\n",
       "  <thead>\n",
       "    <tr style=\"text-align: right;\">\n",
       "      <th></th>\n",
       "      <th>APP_NO</th>\n",
       "      <th>ID</th>\n",
       "      <th>BUSI_TYPE_CODE</th>\n",
       "      <th>URBAN_RURAL_FLAG</th>\n",
       "      <th>ORG_NO</th>\n",
       "      <th>HANDLE_TIME</th>\n",
       "      <th>ACCEPT_CONTENT</th>\n",
       "      <th>HANDLE_OPINION</th>\n",
       "      <th>CALLING_NO</th>\n",
       "      <th>ELEC_TYPE</th>\n",
       "      <th>...</th>\n",
       "      <th>IS_ELEC_EQ_ZERO</th>\n",
       "      <th>IS_SEPERATE_TIME</th>\n",
       "      <th>IS_MID_CHANGE</th>\n",
       "      <th>ELEC_DEGREE</th>\n",
       "      <th>MONTH_PQ_STD</th>\n",
       "      <th>NUM_OF_SENSITIVE_WORKERS</th>\n",
       "      <th>MONEY_PQ_STD</th>\n",
       "      <th>RCVBL_AMT_T_PQ_equal0</th>\n",
       "      <th>RCVBL_AMT_equal0_T_PQ_grater0</th>\n",
       "      <th>RCVBL_AMT_lower0</th>\n",
       "    </tr>\n",
       "  </thead>\n",
       "  <tbody>\n",
       "    <tr>\n",
       "      <th>0</th>\n",
       "      <td>2015101280016722</td>\n",
       "      <td>1000000527203612</td>\n",
       "      <td>3</td>\n",
       "      <td>2.0</td>\n",
       "      <td>3341020</td>\n",
       "      <td>2015/10/12 7:31:50</td>\n",
       "      <td>【银行代扣】客户咨询银行代扣事宜</td>\n",
       "      <td>NaN</td>\n",
       "      <td>1196922.0</td>\n",
       "      <td>202.0</td>\n",
       "      <td>...</td>\n",
       "      <td>NaN</td>\n",
       "      <td>0</td>\n",
       "      <td>0</td>\n",
       "      <td>0</td>\n",
       "      <td>0.000000</td>\n",
       "      <td>0.0</td>\n",
       "      <td>0.000000</td>\n",
       "      <td>0.0</td>\n",
       "      <td>0.0</td>\n",
       "      <td>0.0</td>\n",
       "    </tr>\n",
       "    <tr>\n",
       "      <th>1</th>\n",
       "      <td>2015101280031388</td>\n",
       "      <td>1000000527304861</td>\n",
       "      <td>3</td>\n",
       "      <td>1.0</td>\n",
       "      <td>3340901</td>\n",
       "      <td>2015/10/12 9:14:03</td>\n",
       "      <td>【咨询总户号】通过地址（户名、表号）查询户号信息，已告知</td>\n",
       "      <td>NaN</td>\n",
       "      <td>1005636.0</td>\n",
       "      <td>NaN</td>\n",
       "      <td>...</td>\n",
       "      <td>NaN</td>\n",
       "      <td>0</td>\n",
       "      <td>0</td>\n",
       "      <td>0</td>\n",
       "      <td>0.000000</td>\n",
       "      <td>0.0</td>\n",
       "      <td>0.000000</td>\n",
       "      <td>0.0</td>\n",
       "      <td>0.0</td>\n",
       "      <td>0.0</td>\n",
       "    </tr>\n",
       "    <tr>\n",
       "      <th>2</th>\n",
       "      <td>2015101280031424</td>\n",
       "      <td>1000000527305097</td>\n",
       "      <td>3</td>\n",
       "      <td>2.0</td>\n",
       "      <td>33401</td>\n",
       "      <td>2015/10/12 9:14:16</td>\n",
       "      <td>【查询电费】客户查询电费，已告知。</td>\n",
       "      <td>NaN</td>\n",
       "      <td>1007513.0</td>\n",
       "      <td>405.0</td>\n",
       "      <td>...</td>\n",
       "      <td>NaN</td>\n",
       "      <td>0</td>\n",
       "      <td>0</td>\n",
       "      <td>0</td>\n",
       "      <td>1149.741888</td>\n",
       "      <td>1.0</td>\n",
       "      <td>1149.741888</td>\n",
       "      <td>0.0</td>\n",
       "      <td>0.0</td>\n",
       "      <td>0.0</td>\n",
       "    </tr>\n",
       "    <tr>\n",
       "      <th>3</th>\n",
       "      <td>2015101280031680</td>\n",
       "      <td>1000000527300870</td>\n",
       "      <td>3</td>\n",
       "      <td>2.0</td>\n",
       "      <td>334020106</td>\n",
       "      <td>2015/10/12 9:11:37</td>\n",
       "      <td>【咨询总户号】通过地址（户名）查询户号信息。</td>\n",
       "      <td>NaN</td>\n",
       "      <td>1073266.0</td>\n",
       "      <td>202.0</td>\n",
       "      <td>...</td>\n",
       "      <td>False</td>\n",
       "      <td>0</td>\n",
       "      <td>0</td>\n",
       "      <td>1</td>\n",
       "      <td>34.608425</td>\n",
       "      <td>0.0</td>\n",
       "      <td>34.608425</td>\n",
       "      <td>0.0</td>\n",
       "      <td>0.0</td>\n",
       "      <td>0.0</td>\n",
       "    </tr>\n",
       "    <tr>\n",
       "      <th>4</th>\n",
       "      <td>2015101280032506</td>\n",
       "      <td>1000000527305664</td>\n",
       "      <td>3</td>\n",
       "      <td>1.0</td>\n",
       "      <td>3340101</td>\n",
       "      <td>2015/10/12 9:14:48</td>\n",
       "      <td>【咨询总户号】通过地址（户名、表号）查询户号信息，已告知</td>\n",
       "      <td>NaN</td>\n",
       "      <td>1433592.0</td>\n",
       "      <td>NaN</td>\n",
       "      <td>...</td>\n",
       "      <td>False</td>\n",
       "      <td>1</td>\n",
       "      <td>0</td>\n",
       "      <td>1</td>\n",
       "      <td>55.578211</td>\n",
       "      <td>0.0</td>\n",
       "      <td>55.578211</td>\n",
       "      <td>0.0</td>\n",
       "      <td>0.0</td>\n",
       "      <td>0.0</td>\n",
       "    </tr>\n",
       "  </tbody>\n",
       "</table>\n",
       "<p>5 rows × 72 columns</p>\n",
       "</div>"
      ],
      "text/plain": [
       "             APP_NO                ID  BUSI_TYPE_CODE  URBAN_RURAL_FLAG  \\\n",
       "0  2015101280016722  1000000527203612               3               2.0   \n",
       "1  2015101280031388  1000000527304861               3               1.0   \n",
       "2  2015101280031424  1000000527305097               3               2.0   \n",
       "3  2015101280031680  1000000527300870               3               2.0   \n",
       "4  2015101280032506  1000000527305664               3               1.0   \n",
       "\n",
       "      ORG_NO         HANDLE_TIME                ACCEPT_CONTENT HANDLE_OPINION  \\\n",
       "0    3341020  2015/10/12 7:31:50              【银行代扣】客户咨询银行代扣事宜            NaN   \n",
       "1    3340901  2015/10/12 9:14:03  【咨询总户号】通过地址（户名、表号）查询户号信息，已告知            NaN   \n",
       "2      33401  2015/10/12 9:14:16             【查询电费】客户查询电费，已告知。            NaN   \n",
       "3  334020106  2015/10/12 9:11:37        【咨询总户号】通过地址（户名）查询户号信息。            NaN   \n",
       "4    3340101  2015/10/12 9:14:48  【咨询总户号】通过地址（户名、表号）查询户号信息，已告知            NaN   \n",
       "\n",
       "   CALLING_NO  ELEC_TYPE        ...        IS_ELEC_EQ_ZERO  IS_SEPERATE_TIME  \\\n",
       "0   1196922.0      202.0        ...                    NaN                 0   \n",
       "1   1005636.0        NaN        ...                    NaN                 0   \n",
       "2   1007513.0      405.0        ...                    NaN                 0   \n",
       "3   1073266.0      202.0        ...                  False                 0   \n",
       "4   1433592.0        NaN        ...                  False                 1   \n",
       "\n",
       "   IS_MID_CHANGE  ELEC_DEGREE  MONTH_PQ_STD NUM_OF_SENSITIVE_WORKERS  \\\n",
       "0              0            0      0.000000                      0.0   \n",
       "1              0            0      0.000000                      0.0   \n",
       "2              0            0   1149.741888                      1.0   \n",
       "3              0            1     34.608425                      0.0   \n",
       "4              0            1     55.578211                      0.0   \n",
       "\n",
       "   MONEY_PQ_STD  RCVBL_AMT_T_PQ_equal0  RCVBL_AMT_equal0_T_PQ_grater0  \\\n",
       "0      0.000000                    0.0                            0.0   \n",
       "1      0.000000                    0.0                            0.0   \n",
       "2   1149.741888                    0.0                            0.0   \n",
       "3     34.608425                    0.0                            0.0   \n",
       "4     55.578211                    0.0                            0.0   \n",
       "\n",
       "   RCVBL_AMT_lower0  \n",
       "0               0.0  \n",
       "1               0.0  \n",
       "2               0.0  \n",
       "3               0.0  \n",
       "4               0.0  \n",
       "\n",
       "[5 rows x 72 columns]"
      ]
     },
     "execution_count": 27,
     "metadata": {},
     "output_type": "execute_result"
    }
   ],
   "source": [
    "train_data01_a_worker_per_user.head()"
   ]
  },
  {
   "cell_type": "markdown",
   "metadata": {},
   "source": [
    "###### 3-5-3-1 测试集"
   ]
  },
  {
   "cell_type": "code",
   "execution_count": 28,
   "metadata": {
    "collapsed": true
   },
   "outputs": [],
   "source": [
    "test_RCVBL_AMT_T_PQ = load_data(\n",
    "    'test_RCVBL_AMT&T_PQ.csv',\n",
    "    encoding='utf8', converters={'CUST_NO':unicode}\n",
    ")"
   ]
  },
  {
   "cell_type": "code",
   "execution_count": 29,
   "metadata": {
    "collapsed": true
   },
   "outputs": [
    {
     "data": {
      "text/html": [
       "<div>\n",
       "<table border=\"1\" class=\"dataframe\">\n",
       "  <thead>\n",
       "    <tr style=\"text-align: right;\">\n",
       "      <th></th>\n",
       "      <th>CUST_NO</th>\n",
       "      <th>RCVBL_AMT_T_PQ_equal0</th>\n",
       "      <th>RCVBL_AMT_equal0_T_PQ_grater0</th>\n",
       "      <th>RCVBL_AMT_lower0</th>\n",
       "    </tr>\n",
       "  </thead>\n",
       "  <tbody>\n",
       "    <tr>\n",
       "      <th>0</th>\n",
       "      <td>6851831254</td>\n",
       "      <td>0</td>\n",
       "      <td>0</td>\n",
       "      <td>0</td>\n",
       "    </tr>\n",
       "    <tr>\n",
       "      <th>1</th>\n",
       "      <td>7312218251</td>\n",
       "      <td>0</td>\n",
       "      <td>0</td>\n",
       "      <td>0</td>\n",
       "    </tr>\n",
       "    <tr>\n",
       "      <th>2</th>\n",
       "      <td>3360046120</td>\n",
       "      <td>1</td>\n",
       "      <td>0</td>\n",
       "      <td>0</td>\n",
       "    </tr>\n",
       "    <tr>\n",
       "      <th>3</th>\n",
       "      <td>4513507108</td>\n",
       "      <td>0</td>\n",
       "      <td>0</td>\n",
       "      <td>0</td>\n",
       "    </tr>\n",
       "    <tr>\n",
       "      <th>4</th>\n",
       "      <td>5001326090</td>\n",
       "      <td>0</td>\n",
       "      <td>0</td>\n",
       "      <td>0</td>\n",
       "    </tr>\n",
       "  </tbody>\n",
       "</table>\n",
       "</div>"
      ],
      "text/plain": [
       "      CUST_NO  RCVBL_AMT_T_PQ_equal0  RCVBL_AMT_equal0_T_PQ_grater0  \\\n",
       "0  6851831254                      0                              0   \n",
       "1  7312218251                      0                              0   \n",
       "2  3360046120                      1                              0   \n",
       "3  4513507108                      0                              0   \n",
       "4  5001326090                      0                              0   \n",
       "\n",
       "   RCVBL_AMT_lower0  \n",
       "0                 0  \n",
       "1                 0  \n",
       "2                 0  \n",
       "3                 0  \n",
       "4                 0  "
      ]
     },
     "execution_count": 29,
     "metadata": {},
     "output_type": "execute_result"
    }
   ],
   "source": [
    "test_RCVBL_AMT_T_PQ.head()"
   ]
  },
  {
   "cell_type": "code",
   "execution_count": 30,
   "metadata": {
    "collapsed": false
   },
   "outputs": [
    {
     "data": {
      "text/plain": [
       "115500"
      ]
     },
     "execution_count": 30,
     "metadata": {},
     "output_type": "execute_result"
    }
   ],
   "source": [
    "temp = test_data01_a_worker_per_user.merge(\n",
    "    test_RCVBL_AMT_T_PQ,\n",
    "    how='left', on='CUST_NO'\n",
    ")\n",
    "sum(temp['RCVBL_AMT_T_PQ_equal0'].notnull())"
   ]
  },
  {
   "cell_type": "code",
   "execution_count": 31,
   "metadata": {
    "collapsed": true
   },
   "outputs": [],
   "source": [
    "test_data01_a_worker_per_user['RCVBL_AMT_T_PQ_equal0'] = temp['RCVBL_AMT_T_PQ_equal0']\n",
    "test_data01_a_worker_per_user['RCVBL_AMT_T_PQ_equal0'] = \\\n",
    "    test_data01_a_worker_per_user['RCVBL_AMT_T_PQ_equal0'].fillna(0)"
   ]
  },
  {
   "cell_type": "code",
   "execution_count": 32,
   "metadata": {
    "collapsed": true
   },
   "outputs": [],
   "source": [
    "test_data01_a_worker_per_user['RCVBL_AMT_equal0_T_PQ_grater0'] = temp['RCVBL_AMT_equal0_T_PQ_grater0']\n",
    "test_data01_a_worker_per_user['RCVBL_AMT_equal0_T_PQ_grater0'] = \\\n",
    "    test_data01_a_worker_per_user['RCVBL_AMT_equal0_T_PQ_grater0'].fillna(0)"
   ]
  },
  {
   "cell_type": "code",
   "execution_count": 33,
   "metadata": {
    "collapsed": true
   },
   "outputs": [],
   "source": [
    "test_data01_a_worker_per_user['RCVBL_AMT_lower0'] = temp['RCVBL_AMT_lower0']\n",
    "test_data01_a_worker_per_user['RCVBL_AMT_lower0'] = \\\n",
    "    test_data01_a_worker_per_user['RCVBL_AMT_lower0'].fillna(0)"
   ]
  },
  {
   "cell_type": "code",
   "execution_count": 34,
   "metadata": {
    "collapsed": true
   },
   "outputs": [
    {
     "data": {
      "text/html": [
       "<div>\n",
       "<table border=\"1\" class=\"dataframe\">\n",
       "  <thead>\n",
       "    <tr style=\"text-align: right;\">\n",
       "      <th></th>\n",
       "      <th>APP_NO</th>\n",
       "      <th>ID</th>\n",
       "      <th>BUSI_TYPE_CODE</th>\n",
       "      <th>URBAN_RURAL_FLAG</th>\n",
       "      <th>ORG_NO</th>\n",
       "      <th>HANDLE_TIME</th>\n",
       "      <th>ACCEPT_CONTENT</th>\n",
       "      <th>HANDLE_OPINION</th>\n",
       "      <th>CALLING_NO</th>\n",
       "      <th>ELEC_TYPE</th>\n",
       "      <th>...</th>\n",
       "      <th>IS_ELEC_EQ_ZERO</th>\n",
       "      <th>IS_SEPERATE_TIME</th>\n",
       "      <th>IS_MID_CHANGE</th>\n",
       "      <th>ELEC_DEGREE</th>\n",
       "      <th>MONTH_PQ_STD</th>\n",
       "      <th>NUM_OF_SENSITIVE_WORKERS</th>\n",
       "      <th>MONEY_PQ_STD</th>\n",
       "      <th>RCVBL_AMT_T_PQ_equal0</th>\n",
       "      <th>RCVBL_AMT_equal0_T_PQ_grater0</th>\n",
       "      <th>RCVBL_AMT_lower0</th>\n",
       "    </tr>\n",
       "  </thead>\n",
       "  <tbody>\n",
       "    <tr>\n",
       "      <th>0</th>\n",
       "      <td>2015101280019632</td>\n",
       "      <td>1000000527215943</td>\n",
       "      <td>3</td>\n",
       "      <td>1.0</td>\n",
       "      <td>3340780</td>\n",
       "      <td>2015/10/12 7:58:04</td>\n",
       "      <td>【客户咨询一户无电】建议先自行联系有资质电工排查是否为内部故障，客户接受并表示有其他情况再致电。</td>\n",
       "      <td>NaN</td>\n",
       "      <td>1628699.0</td>\n",
       "      <td>202.0</td>\n",
       "      <td>...</td>\n",
       "      <td>False</td>\n",
       "      <td>1</td>\n",
       "      <td>0</td>\n",
       "      <td>1</td>\n",
       "      <td>29.472680</td>\n",
       "      <td>0.0</td>\n",
       "      <td>29.472680</td>\n",
       "      <td>0.0</td>\n",
       "      <td>0.0</td>\n",
       "      <td>0.0</td>\n",
       "    </tr>\n",
       "    <tr>\n",
       "      <th>1</th>\n",
       "      <td>2015101280019648</td>\n",
       "      <td>1000000527216033</td>\n",
       "      <td>10</td>\n",
       "      <td>2.0</td>\n",
       "      <td>334066001</td>\n",
       "      <td>2015/10/12 7:58:26</td>\n",
       "      <td>【退订】#2061584501；【退订】#2061584602；【退订】#406091928...</td>\n",
       "      <td>NaN</td>\n",
       "      <td>1260775.0</td>\n",
       "      <td>201.0</td>\n",
       "      <td>...</td>\n",
       "      <td>False</td>\n",
       "      <td>0</td>\n",
       "      <td>0</td>\n",
       "      <td>1</td>\n",
       "      <td>6.356864</td>\n",
       "      <td>0.0</td>\n",
       "      <td>6.356864</td>\n",
       "      <td>0.0</td>\n",
       "      <td>0.0</td>\n",
       "      <td>0.0</td>\n",
       "    </tr>\n",
       "    <tr>\n",
       "      <th>2</th>\n",
       "      <td>2015101280019680</td>\n",
       "      <td>1000000527216202</td>\n",
       "      <td>3</td>\n",
       "      <td>2.0</td>\n",
       "      <td>3340690</td>\n",
       "      <td>2015/10/12 7:58:52</td>\n",
       "      <td>【查询电费】客户查询本月电费，已告知。</td>\n",
       "      <td>NaN</td>\n",
       "      <td>1536321.0</td>\n",
       "      <td>201.0</td>\n",
       "      <td>...</td>\n",
       "      <td>False</td>\n",
       "      <td>0</td>\n",
       "      <td>0</td>\n",
       "      <td>2</td>\n",
       "      <td>69.674641</td>\n",
       "      <td>1.0</td>\n",
       "      <td>69.674641</td>\n",
       "      <td>0.0</td>\n",
       "      <td>0.0</td>\n",
       "      <td>0.0</td>\n",
       "    </tr>\n",
       "    <tr>\n",
       "      <th>3</th>\n",
       "      <td>2015101280019873</td>\n",
       "      <td>1000000527218491</td>\n",
       "      <td>3</td>\n",
       "      <td>1.0</td>\n",
       "      <td>3340810</td>\n",
       "      <td>2015/10/12 8:02:53</td>\n",
       "      <td>【咨询总户号】通过地址、户名查询户号信息，已告知</td>\n",
       "      <td>NaN</td>\n",
       "      <td>1576698.0</td>\n",
       "      <td>NaN</td>\n",
       "      <td>...</td>\n",
       "      <td>False</td>\n",
       "      <td>1</td>\n",
       "      <td>0</td>\n",
       "      <td>1</td>\n",
       "      <td>26.009614</td>\n",
       "      <td>0.0</td>\n",
       "      <td>26.009614</td>\n",
       "      <td>0.0</td>\n",
       "      <td>0.0</td>\n",
       "      <td>0.0</td>\n",
       "    </tr>\n",
       "    <tr>\n",
       "      <th>4</th>\n",
       "      <td>2015101280020130</td>\n",
       "      <td>1000000527221199</td>\n",
       "      <td>1</td>\n",
       "      <td>1.0</td>\n",
       "      <td>3340501</td>\n",
       "      <td>2015/10/12 8:07:10</td>\n",
       "      <td>【设备故障】客户报修此处线路打火，请处理。客户只能提供此地址，烦请电话联系057486581...</td>\n",
       "      <td>NaN</td>\n",
       "      <td>1089990.0</td>\n",
       "      <td>201.0</td>\n",
       "      <td>...</td>\n",
       "      <td>NaN</td>\n",
       "      <td>0</td>\n",
       "      <td>0</td>\n",
       "      <td>0</td>\n",
       "      <td>0.000000</td>\n",
       "      <td>0.0</td>\n",
       "      <td>0.000000</td>\n",
       "      <td>0.0</td>\n",
       "      <td>0.0</td>\n",
       "      <td>0.0</td>\n",
       "    </tr>\n",
       "  </tbody>\n",
       "</table>\n",
       "<p>5 rows × 71 columns</p>\n",
       "</div>"
      ],
      "text/plain": [
       "             APP_NO                ID  BUSI_TYPE_CODE  URBAN_RURAL_FLAG  \\\n",
       "0  2015101280019632  1000000527215943               3               1.0   \n",
       "1  2015101280019648  1000000527216033              10               2.0   \n",
       "2  2015101280019680  1000000527216202               3               2.0   \n",
       "3  2015101280019873  1000000527218491               3               1.0   \n",
       "4  2015101280020130  1000000527221199               1               1.0   \n",
       "\n",
       "      ORG_NO         HANDLE_TIME  \\\n",
       "0    3340780  2015/10/12 7:58:04   \n",
       "1  334066001  2015/10/12 7:58:26   \n",
       "2    3340690  2015/10/12 7:58:52   \n",
       "3    3340810  2015/10/12 8:02:53   \n",
       "4    3340501  2015/10/12 8:07:10   \n",
       "\n",
       "                                      ACCEPT_CONTENT HANDLE_OPINION  \\\n",
       "0   【客户咨询一户无电】建议先自行联系有资质电工排查是否为内部故障，客户接受并表示有其他情况再致电。            NaN   \n",
       "1  【退订】#2061584501；【退订】#2061584602；【退订】#406091928...            NaN   \n",
       "2                                【查询电费】客户查询本月电费，已告知。            NaN   \n",
       "3                           【咨询总户号】通过地址、户名查询户号信息，已告知            NaN   \n",
       "4  【设备故障】客户报修此处线路打火，请处理。客户只能提供此地址，烦请电话联系057486581...            NaN   \n",
       "\n",
       "   CALLING_NO  ELEC_TYPE        ...        IS_ELEC_EQ_ZERO  IS_SEPERATE_TIME  \\\n",
       "0   1628699.0      202.0        ...                  False                 1   \n",
       "1   1260775.0      201.0        ...                  False                 0   \n",
       "2   1536321.0      201.0        ...                  False                 0   \n",
       "3   1576698.0        NaN        ...                  False                 1   \n",
       "4   1089990.0      201.0        ...                    NaN                 0   \n",
       "\n",
       "   IS_MID_CHANGE  ELEC_DEGREE MONTH_PQ_STD  NUM_OF_SENSITIVE_WORKERS  \\\n",
       "0              0            1    29.472680                       0.0   \n",
       "1              0            1     6.356864                       0.0   \n",
       "2              0            2    69.674641                       1.0   \n",
       "3              0            1    26.009614                       0.0   \n",
       "4              0            0     0.000000                       0.0   \n",
       "\n",
       "   MONEY_PQ_STD  RCVBL_AMT_T_PQ_equal0  RCVBL_AMT_equal0_T_PQ_grater0  \\\n",
       "0     29.472680                    0.0                            0.0   \n",
       "1      6.356864                    0.0                            0.0   \n",
       "2     69.674641                    0.0                            0.0   \n",
       "3     26.009614                    0.0                            0.0   \n",
       "4      0.000000                    0.0                            0.0   \n",
       "\n",
       "   RCVBL_AMT_lower0  \n",
       "0               0.0  \n",
       "1               0.0  \n",
       "2               0.0  \n",
       "3               0.0  \n",
       "4               0.0  \n",
       "\n",
       "[5 rows x 71 columns]"
      ]
     },
     "execution_count": 34,
     "metadata": {},
     "output_type": "execute_result"
    }
   ],
   "source": [
    "test_data01_a_worker_per_user.head()"
   ]
  },
  {
   "cell_type": "code",
   "execution_count": 35,
   "metadata": {
    "collapsed": true
   },
   "outputs": [
    {
     "name": "stdout",
     "output_type": "stream",
     "text": [
      "Stored 'test_data01_a_worker_per_user' (DataFrame)\n",
      "Stored 'train_data01_a_worker_per_user' (DataFrame)\n"
     ]
    }
   ],
   "source": [
    "%store test_data01_a_worker_per_user\n",
    "%store train_data01_a_worker_per_user"
   ]
  },
  {
   "cell_type": "markdown",
   "metadata": {},
   "source": [
    "----"
   ]
  },
  {
   "cell_type": "markdown",
   "metadata": {
    "collapsed": true
   },
   "source": [
    "### 3-6 09表 缴费方式的研究"
   ]
  },
  {
   "cell_type": "code",
   "execution_count": 3,
   "metadata": {
    "collapsed": false
   },
   "outputs": [
    {
     "data": {
      "text/html": [
       "<div>\n",
       "<table border=\"1\" class=\"dataframe\">\n",
       "  <thead>\n",
       "    <tr style=\"text-align: right;\">\n",
       "      <th></th>\n",
       "      <th>CONS_NO</th>\n",
       "      <th>RCVBL_YM</th>\n",
       "      <th>ORG_NO</th>\n",
       "      <th>PAY_MODE</th>\n",
       "      <th>T_PQ</th>\n",
       "      <th>RCVBL_AMT</th>\n",
       "      <th>RCVED_AMT</th>\n",
       "      <th>STATUS_CODE</th>\n",
       "      <th>RCVBL_PENALTY</th>\n",
       "      <th>RCVED_PENALTY</th>\n",
       "      <th>RISK_LEVEL_CODE</th>\n",
       "      <th>OWE_AMT</th>\n",
       "      <th>CONS_SORT_CODE</th>\n",
       "      <th>ELEC_TYPE_CODE</th>\n",
       "      <th>CTL_MODE</th>\n",
       "      <th>CUST_NO</th>\n",
       "      <th>TAG</th>\n",
       "    </tr>\n",
       "  </thead>\n",
       "  <tbody>\n",
       "    <tr>\n",
       "      <th>0</th>\n",
       "      <td>6010969031</td>\n",
       "      <td>201502</td>\n",
       "      <td>33401010130</td>\n",
       "      <td>010101</td>\n",
       "      <td>1869</td>\n",
       "      <td>1768.07</td>\n",
       "      <td>1768.07</td>\n",
       "      <td>1</td>\n",
       "      <td>0.00</td>\n",
       "      <td>0.00</td>\n",
       "      <td>NaN</td>\n",
       "      <td>1768.07</td>\n",
       "      <td>2.0</td>\n",
       "      <td>403.0</td>\n",
       "      <td>NaN</td>\n",
       "      <td>NaN</td>\n",
       "      <td>0</td>\n",
       "    </tr>\n",
       "    <tr>\n",
       "      <th>1</th>\n",
       "      <td>6010811670</td>\n",
       "      <td>201502</td>\n",
       "      <td>33401010130</td>\n",
       "      <td>010101</td>\n",
       "      <td>2791</td>\n",
       "      <td>2640.29</td>\n",
       "      <td>2640.29</td>\n",
       "      <td>1</td>\n",
       "      <td>0.00</td>\n",
       "      <td>0.00</td>\n",
       "      <td>NaN</td>\n",
       "      <td>2640.29</td>\n",
       "      <td>2.0</td>\n",
       "      <td>403.0</td>\n",
       "      <td>NaN</td>\n",
       "      <td>NaN</td>\n",
       "      <td>0</td>\n",
       "    </tr>\n",
       "    <tr>\n",
       "      <th>2</th>\n",
       "      <td>6010777305</td>\n",
       "      <td>201502</td>\n",
       "      <td>33401010130</td>\n",
       "      <td>020311</td>\n",
       "      <td>1883</td>\n",
       "      <td>1058.25</td>\n",
       "      <td>1058.25</td>\n",
       "      <td>1</td>\n",
       "      <td>2.12</td>\n",
       "      <td>2.12</td>\n",
       "      <td>NaN</td>\n",
       "      <td>1058.25</td>\n",
       "      <td>3.0</td>\n",
       "      <td>202.0</td>\n",
       "      <td>NaN</td>\n",
       "      <td>NaN</td>\n",
       "      <td>0</td>\n",
       "    </tr>\n",
       "    <tr>\n",
       "      <th>3</th>\n",
       "      <td>6010777296</td>\n",
       "      <td>201502</td>\n",
       "      <td>33401010130</td>\n",
       "      <td>020311</td>\n",
       "      <td>4279</td>\n",
       "      <td>3585.80</td>\n",
       "      <td>3585.80</td>\n",
       "      <td>1</td>\n",
       "      <td>0.00</td>\n",
       "      <td>0.00</td>\n",
       "      <td>NaN</td>\n",
       "      <td>3585.80</td>\n",
       "      <td>3.0</td>\n",
       "      <td>201.0</td>\n",
       "      <td>NaN</td>\n",
       "      <td>NaN</td>\n",
       "      <td>0</td>\n",
       "    </tr>\n",
       "    <tr>\n",
       "      <th>4</th>\n",
       "      <td>6010777190</td>\n",
       "      <td>201502</td>\n",
       "      <td>33401010130</td>\n",
       "      <td>020311</td>\n",
       "      <td>2514</td>\n",
       "      <td>1561.93</td>\n",
       "      <td>1561.93</td>\n",
       "      <td>1</td>\n",
       "      <td>0.00</td>\n",
       "      <td>0.00</td>\n",
       "      <td>NaN</td>\n",
       "      <td>1561.93</td>\n",
       "      <td>3.0</td>\n",
       "      <td>202.0</td>\n",
       "      <td>NaN</td>\n",
       "      <td>NaN</td>\n",
       "      <td>0</td>\n",
       "    </tr>\n",
       "  </tbody>\n",
       "</table>\n",
       "</div>"
      ],
      "text/plain": [
       "      CONS_NO  RCVBL_YM       ORG_NO PAY_MODE  T_PQ  RCVBL_AMT  RCVED_AMT  \\\n",
       "0  6010969031    201502  33401010130   010101  1869    1768.07    1768.07   \n",
       "1  6010811670    201502  33401010130   010101  2791    2640.29    2640.29   \n",
       "2  6010777305    201502  33401010130   020311  1883    1058.25    1058.25   \n",
       "3  6010777296    201502  33401010130   020311  4279    3585.80    3585.80   \n",
       "4  6010777190    201502  33401010130   020311  2514    1561.93    1561.93   \n",
       "\n",
       "   STATUS_CODE  RCVBL_PENALTY  RCVED_PENALTY  RISK_LEVEL_CODE  OWE_AMT  \\\n",
       "0            1           0.00           0.00              NaN  1768.07   \n",
       "1            1           0.00           0.00              NaN  2640.29   \n",
       "2            1           2.12           2.12              NaN  1058.25   \n",
       "3            1           0.00           0.00              NaN  3585.80   \n",
       "4            1           0.00           0.00              NaN  1561.93   \n",
       "\n",
       "   CONS_SORT_CODE  ELEC_TYPE_CODE  CTL_MODE CUST_NO  TAG  \n",
       "0             2.0           403.0       NaN     NaN    0  \n",
       "1             2.0           403.0       NaN     NaN    0  \n",
       "2             3.0           202.0       NaN     NaN    0  \n",
       "3             3.0           201.0       NaN     NaN    0  \n",
       "4             3.0           202.0       NaN     NaN    0  "
      ]
     },
     "execution_count": 3,
     "metadata": {},
     "output_type": "execute_result"
    }
   ],
   "source": [
    "train_data09_merge_label_df.head()"
   ]
  },
  {
   "cell_type": "markdown",
   "metadata": {},
   "source": [
    "#### 3-6-1 统计缴费方式在所有记录下的分布情况"
   ]
  },
  {
   "cell_type": "code",
   "execution_count": 28,
   "metadata": {
    "collapsed": true
   },
   "outputs": [
    {
     "name": "stdout",
     "output_type": "stream",
     "text": [
      "所有工单 - 缴费方式 PAY_MODE\n",
      "(10, 5)\n"
     ]
    },
    {
     "data": {
      "image/png": "[encoded data removed]",
      "text/plain": [
       "<matplotlib.figure.Figure at 0x7fd41bfce610>"
      ]
     },
     "metadata": {},
     "output_type": "display_data"
    }
   ],
   "source": [
    "print '所有记录 - 缴费方式 PAY_MODE'\n",
    "train_data09_pay_mode_count_df = show_attribute_detail(\n",
    "    train_data09_merge_label_df,\n",
    "    'PAY_MODE',\n",
    "    True,\n",
    "    'TAG'\n",
    ")"
   ]
  },
  {
   "cell_type": "code",
   "execution_count": 30,
   "metadata": {
    "collapsed": true
   },
   "outputs": [
    {
     "name": "stdout",
     "output_type": "stream",
     "text": [
      "所有工单 - 缴费方式 PAY_MODE\n",
      "(8,)\n"
     ]
    },
    {
     "data": {
      "image/png": "[encoded data removed]",
      "text/plain": [
       "<matplotlib.figure.Figure at 0x7fd41bfa3c10>"
      ]
     },
     "metadata": {},
     "output_type": "display_data"
    }
   ],
   "source": [
    "print '所有记录 - 缴费方式 PAY_MODE'\n",
    "test_data09_pay_mode_count_df = show_attribute_detail(\n",
    "    test_data09_merge_label_df,\n",
    "    'PAY_MODE',\n",
    ")"
   ]
  },
  {
   "cell_type": "code",
   "execution_count": 32,
   "metadata": {
    "collapsed": true
   },
   "outputs": [
    {
     "name": "stdout",
     "output_type": "stream",
     "text": [
      "代表工单 - 缴费方式 PAY_MODE\n",
      "          total     tag0  tag0/total      tag1  tag1/total  test_total\n",
      "020271    85040    65234    0.767098   19806.0    0.232902         0.0\n",
      "             28       22    0.785714       6.0    0.214286         1.0\n",
      "010102       63       51    0.809524      12.0    0.190476        18.0\n",
      "020261   109152    89146    0.816714   20006.0    0.183286     50297.0\n",
      "010101  2193015  1804004    0.822614  389011.0    0.177386    561957.0\n",
      "020311  3540736  3099758    0.875456  440978.0    0.124544   1576987.0\n",
      "020331   536279   470879    0.878049   65400.0    0.121951    289140.0\n",
      "010106     2323     2077    0.894102     246.0    0.105898      1057.0\n",
      "010201        5        5    1.000000       0.0    0.000000        12.0\n",
      "020101       13       13    1.000000       0.0    0.000000         0.0\n"
     ]
    }
   ],
   "source": [
    "# 合并\n",
    "temp = train_data09_pay_mode_count_df.join(\n",
    "    test_data09_pay_mode_count_df,\n",
    "    how='outer'\n",
    ").fillna(0).sort_values(by='tag1/total',ascending=False)\n",
    "temp['test_total'] = temp['PAY_MODE']\n",
    "temp = temp.drop(labels = [u'PAY_MODE'],axis=1)\n",
    "print '所有记录 - 缴费方式 PAY_MODE'\n",
    "print temp"
   ]
  },
  {
   "cell_type": "markdown",
   "metadata": {},
   "source": [
    "#### 3-6-2 用户使用过的支付方式的种类 NUM_OF_USED_PAY_MODE"
   ]
  },
  {
   "cell_type": "code",
   "execution_count": 12,
   "metadata": {
    "collapsed": false
   },
   "outputs": [
    {
     "data": {
      "text/plain": [
       "(610133, 3)"
      ]
     },
     "execution_count": 12,
     "metadata": {},
     "output_type": "execute_result"
    }
   ],
   "source": [
    "# 比用户数多，说明有部分用户 是 有多种类型的 支付方式 \n",
    "train_data09_merge_label_df[['CONS_NO','PAY_MODE','TAG']].drop_duplicates().shape"
   ]
  },
  {
   "cell_type": "markdown",
   "metadata": {},
   "source": [
    "##### 训练集"
   ]
  },
  {
   "cell_type": "code",
   "execution_count": 10,
   "metadata": {
    "collapsed": false
   },
   "outputs": [
    {
     "name": "stdout",
     "output_type": "stream",
     "text": [
      "CPU times: user 39.4 s, sys: 148 ms, total: 39.5 s\n",
      "Wall time: 39.4 s\n"
     ]
    }
   ],
   "source": [
    "%%time\n",
    "train_data09_pay_mode_count_series = train_data09_merge_label_df.groupby('CONS_NO')['PAY_MODE'].apply(\n",
    "    lambda x:len(set([item for item in x if len(x)!=0]))\n",
    ")"
   ]
  },
  {
   "cell_type": "code",
   "execution_count": 27,
   "metadata": {
    "collapsed": true
   },
   "outputs": [
    {
     "name": "stdout",
     "output_type": "stream",
     "text": [
      "102626\n",
      "CPU times: user 1.32 s, sys: 0 ns, total: 1.32 s\n",
      "Wall time: 1.32 s\n"
     ]
    }
   ],
   "source": [
    "%%time\n",
    "# 增加字段，使用过的 支付方式 样式\n",
    "train_data01_a_worker_per_user['NUM_OF_USED_PAY_MODE'] = \\\n",
    "    train_data01_a_worker_per_user['CUST_NO'].map(train_data09_pay_mode_count_series)\n",
    "print sum(train_data01_a_worker_per_user['NUM_OF_USED_PAY_MODE'].isnull())"
   ]
  },
  {
   "cell_type": "code",
   "execution_count": 28,
   "metadata": {
    "collapsed": true
   },
   "outputs": [
    {
     "name": "stdout",
     "output_type": "stream",
     "text": [
      "(3, 5)\n"
     ]
    },
    {
     "data": {
      "text/html": [
       "<div>\n",
       "<table border=\"1\" class=\"dataframe\">\n",
       "  <thead>\n",
       "    <tr style=\"text-align: right;\">\n",
       "      <th></th>\n",
       "      <th>total</th>\n",
       "      <th>tag0</th>\n",
       "      <th>tag0/total</th>\n",
       "      <th>tag1</th>\n",
       "      <th>tag1/total</th>\n",
       "    </tr>\n",
       "  </thead>\n",
       "  <tbody>\n",
       "    <tr>\n",
       "      <th>1.0</th>\n",
       "      <td>501868</td>\n",
       "      <td>429320</td>\n",
       "      <td>0.855444</td>\n",
       "      <td>72548</td>\n",
       "      <td>0.144556</td>\n",
       "    </tr>\n",
       "    <tr>\n",
       "      <th>2.0</th>\n",
       "      <td>53375</td>\n",
       "      <td>45955</td>\n",
       "      <td>0.860984</td>\n",
       "      <td>7420</td>\n",
       "      <td>0.139016</td>\n",
       "    </tr>\n",
       "    <tr>\n",
       "      <th>3.0</th>\n",
       "      <td>505</td>\n",
       "      <td>448</td>\n",
       "      <td>0.887129</td>\n",
       "      <td>57</td>\n",
       "      <td>0.112871</td>\n",
       "    </tr>\n",
       "  </tbody>\n",
       "</table>\n",
       "</div>"
      ],
      "text/plain": [
       "      total    tag0  tag0/total   tag1  tag1/total\n",
       "1.0  501868  429320    0.855444  72548    0.144556\n",
       "2.0   53375   45955    0.860984   7420    0.139016\n",
       "3.0     505     448    0.887129     57    0.112871"
      ]
     },
     "execution_count": 28,
     "metadata": {},
     "output_type": "execute_result"
    },
    {
     "data": {
      "image/png": "[encoded data removed]",
      "text/plain": [
       "<matplotlib.figure.Figure at 0x7fa606b5c650>"
      ]
     },
     "metadata": {},
     "output_type": "display_data"
    }
   ],
   "source": [
    "# 分布比较均匀，暂时发现不出价值\n",
    "show_attribute_detail(\n",
    "    train_data01_a_worker_per_user,\n",
    "    'NUM_OF_USED_PAY_MODE',\n",
    "    True,\n",
    "    'TAG',\n",
    ")\n"
   ]
  },
  {
   "cell_type": "markdown",
   "metadata": {},
   "source": [
    "##### 测试集"
   ]
  },
  {
   "cell_type": "code",
   "execution_count": 33,
   "metadata": {
    "collapsed": false
   },
   "outputs": [
    {
     "name": "stdout",
     "output_type": "stream",
     "text": [
      "CPU times: user 15.2 s, sys: 732 ms, total: 15.9 s\n",
      "Wall time: 17.3 s\n"
     ]
    }
   ],
   "source": [
    "%%time\n",
    "test_data09_pay_mode_count_series = test_data09_merge_label_df.groupby('CONS_NO')['PAY_MODE'].apply(\n",
    "    lambda x:len(set([item for item in x if len(x)!=0]))\n",
    ")"
   ]
  },
  {
   "cell_type": "code",
   "execution_count": 17,
   "metadata": {
    "collapsed": false
   },
   "outputs": [
    {
     "data": {
      "text/plain": [
       "501868"
      ]
     },
     "execution_count": 17,
     "metadata": {},
     "output_type": "execute_result"
    }
   ],
   "source": [
    "sum(train_data09_pay_mode_count_series<2)"
   ]
  },
  {
   "cell_type": "code",
   "execution_count": 34,
   "metadata": {
    "collapsed": true
   },
   "outputs": [
    {
     "name": "stdout",
     "output_type": "stream",
     "text": [
      "169169\n",
      "CPU times: user 1.25 s, sys: 52 ms, total: 1.3 s\n",
      "Wall time: 1.44 s\n"
     ]
    }
   ],
   "source": [
    "%%time\n",
    "# 增加字段，使用过的 支付方式 样式\n",
    "test_data01_a_worker_per_user['NUM_OF_USED_PAY_MODE'] = \\\n",
    "    test_data01_a_worker_per_user['CUST_NO'].map(test_data09_pay_mode_count_series)\n",
    "print sum(test_data01_a_worker_per_user['NUM_OF_USED_PAY_MODE'].isnull())"
   ]
  },
  {
   "cell_type": "code",
   "execution_count": 35,
   "metadata": {
    "collapsed": true
   },
   "outputs": [
    {
     "name": "stdout",
     "output_type": "stream",
     "text": [
      "(3,)\n"
     ]
    },
    {
     "data": {
      "text/plain": [
       "1.0    185047\n",
       "2.0     16511\n",
       "3.0       144\n",
       "Name: NUM_OF_USED_PAY_MODE, dtype: int64"
      ]
     },
     "execution_count": 35,
     "metadata": {},
     "output_type": "execute_result"
    },
    {
     "data": {
      "image/png": "[encoded data removed]",
      "text/plain": [
       "<matplotlib.figure.Figure at 0x7fa606becfd0>"
      ]
     },
     "metadata": {},
     "output_type": "display_data"
    }
   ],
   "source": [
    "show_attribute_detail(\n",
    "    test_data01_a_worker_per_user,\n",
    "    'NUM_OF_USED_PAY_MODE',\n",
    ")\n"
   ]
  },
  {
   "cell_type": "markdown",
   "metadata": {},
   "source": [
    "#### 3-6-3 用户是否含有该 支付方式 010102等"
   ]
  },
  {
   "cell_type": "code",
   "execution_count": 49,
   "metadata": {
    "collapsed": true
   },
   "outputs": [
    {
     "data": {
      "text/plain": [
       "array([u'010101', u'020311', u'020271', u'020331', u'', u'010106',\n",
       "       u'010102', u'020261', u'010201', u'020101'], dtype=object)"
      ]
     },
     "execution_count": 49,
     "metadata": {},
     "output_type": "execute_result"
    }
   ],
   "source": [
    "# 支付方式列表 010101（）\n",
    "# 0101-坐收    0101 01、0101 06、\n",
    "train_data09_merge_label_df['PAY_MODE'].unique()"
   ]
  },
  {
   "cell_type": "code",
   "execution_count": 36,
   "metadata": {
    "collapsed": true
   },
   "outputs": [
    {
     "data": {
      "text/html": [
       "<div>\n",
       "<table border=\"1\" class=\"dataframe\">\n",
       "  <thead>\n",
       "    <tr style=\"text-align: right;\">\n",
       "      <th></th>\n",
       "      <th>CONS_NO</th>\n",
       "      <th>RCVBL_YM</th>\n",
       "      <th>ORG_NO</th>\n",
       "      <th>PAY_MODE</th>\n",
       "      <th>T_PQ</th>\n",
       "      <th>RCVBL_AMT</th>\n",
       "      <th>RCVED_AMT</th>\n",
       "      <th>STATUS_CODE</th>\n",
       "      <th>RCVBL_PENALTY</th>\n",
       "      <th>RCVED_PENALTY</th>\n",
       "      <th>RISK_LEVEL_CODE</th>\n",
       "      <th>OWE_AMT</th>\n",
       "      <th>CONS_SORT_CODE</th>\n",
       "      <th>ELEC_TYPE_CODE</th>\n",
       "      <th>CTL_MODE</th>\n",
       "      <th>CUST_NO</th>\n",
       "    </tr>\n",
       "  </thead>\n",
       "  <tbody>\n",
       "    <tr>\n",
       "      <th>331566</th>\n",
       "      <td>1701860262</td>\n",
       "      <td>201501</td>\n",
       "      <td>334030101</td>\n",
       "      <td>010201</td>\n",
       "      <td>243</td>\n",
       "      <td>104.98</td>\n",
       "      <td>104.98</td>\n",
       "      <td>1</td>\n",
       "      <td>0.0</td>\n",
       "      <td>0.0</td>\n",
       "      <td>NaN</td>\n",
       "      <td>104.98</td>\n",
       "      <td>3.0</td>\n",
       "      <td>202.0</td>\n",
       "      <td>NaN</td>\n",
       "      <td>1701860262</td>\n",
       "    </tr>\n",
       "    <tr>\n",
       "      <th>338714</th>\n",
       "      <td>1701860262</td>\n",
       "      <td>201502</td>\n",
       "      <td>334030101</td>\n",
       "      <td>010201</td>\n",
       "      <td>185</td>\n",
       "      <td>86.60</td>\n",
       "      <td>86.60</td>\n",
       "      <td>1</td>\n",
       "      <td>0.0</td>\n",
       "      <td>0.0</td>\n",
       "      <td>NaN</td>\n",
       "      <td>86.60</td>\n",
       "      <td>3.0</td>\n",
       "      <td>202.0</td>\n",
       "      <td>NaN</td>\n",
       "      <td>1701860262</td>\n",
       "    </tr>\n",
       "    <tr>\n",
       "      <th>340812</th>\n",
       "      <td>1701860262</td>\n",
       "      <td>201503</td>\n",
       "      <td>334030101</td>\n",
       "      <td>010201</td>\n",
       "      <td>135</td>\n",
       "      <td>61.28</td>\n",
       "      <td>61.28</td>\n",
       "      <td>1</td>\n",
       "      <td>0.0</td>\n",
       "      <td>0.0</td>\n",
       "      <td>NaN</td>\n",
       "      <td>61.28</td>\n",
       "      <td>3.0</td>\n",
       "      <td>202.0</td>\n",
       "      <td>NaN</td>\n",
       "      <td>1701860262</td>\n",
       "    </tr>\n",
       "    <tr>\n",
       "      <th>363434</th>\n",
       "      <td>1701860262</td>\n",
       "      <td>201504</td>\n",
       "      <td>334030101</td>\n",
       "      <td>010201</td>\n",
       "      <td>96</td>\n",
       "      <td>40.25</td>\n",
       "      <td>40.25</td>\n",
       "      <td>1</td>\n",
       "      <td>0.0</td>\n",
       "      <td>0.0</td>\n",
       "      <td>NaN</td>\n",
       "      <td>40.25</td>\n",
       "      <td>3.0</td>\n",
       "      <td>202.0</td>\n",
       "      <td>NaN</td>\n",
       "      <td>1701860262</td>\n",
       "    </tr>\n",
       "    <tr>\n",
       "      <th>364788</th>\n",
       "      <td>1701860262</td>\n",
       "      <td>201505</td>\n",
       "      <td>334030101</td>\n",
       "      <td>010201</td>\n",
       "      <td>76</td>\n",
       "      <td>31.13</td>\n",
       "      <td>31.13</td>\n",
       "      <td>1</td>\n",
       "      <td>0.0</td>\n",
       "      <td>0.0</td>\n",
       "      <td>NaN</td>\n",
       "      <td>31.13</td>\n",
       "      <td>3.0</td>\n",
       "      <td>202.0</td>\n",
       "      <td>NaN</td>\n",
       "      <td>1701860262</td>\n",
       "    </tr>\n",
       "    <tr>\n",
       "      <th>383436</th>\n",
       "      <td>1701860262</td>\n",
       "      <td>201506</td>\n",
       "      <td>334030101</td>\n",
       "      <td>010201</td>\n",
       "      <td>75</td>\n",
       "      <td>30.56</td>\n",
       "      <td>30.56</td>\n",
       "      <td>1</td>\n",
       "      <td>0.0</td>\n",
       "      <td>0.0</td>\n",
       "      <td>NaN</td>\n",
       "      <td>30.56</td>\n",
       "      <td>3.0</td>\n",
       "      <td>202.0</td>\n",
       "      <td>NaN</td>\n",
       "      <td>1701860262</td>\n",
       "    </tr>\n",
       "    <tr>\n",
       "      <th>387178</th>\n",
       "      <td>1701860262</td>\n",
       "      <td>201507</td>\n",
       "      <td>334030101</td>\n",
       "      <td>010201</td>\n",
       "      <td>119</td>\n",
       "      <td>51.63</td>\n",
       "      <td>51.63</td>\n",
       "      <td>1</td>\n",
       "      <td>0.0</td>\n",
       "      <td>0.0</td>\n",
       "      <td>NaN</td>\n",
       "      <td>51.63</td>\n",
       "      <td>3.0</td>\n",
       "      <td>202.0</td>\n",
       "      <td>NaN</td>\n",
       "      <td>1701860262</td>\n",
       "    </tr>\n",
       "    <tr>\n",
       "      <th>394362</th>\n",
       "      <td>1701860262</td>\n",
       "      <td>201508</td>\n",
       "      <td>334030101</td>\n",
       "      <td>010201</td>\n",
       "      <td>219</td>\n",
       "      <td>96.39</td>\n",
       "      <td>96.39</td>\n",
       "      <td>1</td>\n",
       "      <td>0.0</td>\n",
       "      <td>0.0</td>\n",
       "      <td>NaN</td>\n",
       "      <td>96.39</td>\n",
       "      <td>3.0</td>\n",
       "      <td>202.0</td>\n",
       "      <td>NaN</td>\n",
       "      <td>1701860262</td>\n",
       "    </tr>\n",
       "    <tr>\n",
       "      <th>405341</th>\n",
       "      <td>1701860262</td>\n",
       "      <td>201509</td>\n",
       "      <td>334030101</td>\n",
       "      <td>010201</td>\n",
       "      <td>238</td>\n",
       "      <td>105.78</td>\n",
       "      <td>105.78</td>\n",
       "      <td>1</td>\n",
       "      <td>0.0</td>\n",
       "      <td>0.0</td>\n",
       "      <td>NaN</td>\n",
       "      <td>105.78</td>\n",
       "      <td>3.0</td>\n",
       "      <td>202.0</td>\n",
       "      <td>NaN</td>\n",
       "      <td>1701860262</td>\n",
       "    </tr>\n",
       "    <tr>\n",
       "      <th>419114</th>\n",
       "      <td>1701860262</td>\n",
       "      <td>201510</td>\n",
       "      <td>334030101</td>\n",
       "      <td>010201</td>\n",
       "      <td>86</td>\n",
       "      <td>36.25</td>\n",
       "      <td>36.25</td>\n",
       "      <td>1</td>\n",
       "      <td>0.0</td>\n",
       "      <td>0.0</td>\n",
       "      <td>NaN</td>\n",
       "      <td>36.25</td>\n",
       "      <td>3.0</td>\n",
       "      <td>202.0</td>\n",
       "      <td>NaN</td>\n",
       "      <td>1701860262</td>\n",
       "    </tr>\n",
       "    <tr>\n",
       "      <th>422125</th>\n",
       "      <td>1701860262</td>\n",
       "      <td>201511</td>\n",
       "      <td>334030101</td>\n",
       "      <td>010201</td>\n",
       "      <td>66</td>\n",
       "      <td>27.69</td>\n",
       "      <td>27.69</td>\n",
       "      <td>1</td>\n",
       "      <td>0.0</td>\n",
       "      <td>0.0</td>\n",
       "      <td>NaN</td>\n",
       "      <td>27.69</td>\n",
       "      <td>3.0</td>\n",
       "      <td>202.0</td>\n",
       "      <td>NaN</td>\n",
       "      <td>1701860262</td>\n",
       "    </tr>\n",
       "    <tr>\n",
       "      <th>438127</th>\n",
       "      <td>1701860262</td>\n",
       "      <td>201512</td>\n",
       "      <td>334030101</td>\n",
       "      <td>010201</td>\n",
       "      <td>84</td>\n",
       "      <td>34.83</td>\n",
       "      <td>34.83</td>\n",
       "      <td>1</td>\n",
       "      <td>0.0</td>\n",
       "      <td>0.0</td>\n",
       "      <td>NaN</td>\n",
       "      <td>34.83</td>\n",
       "      <td>3.0</td>\n",
       "      <td>202.0</td>\n",
       "      <td>NaN</td>\n",
       "      <td>1701860262</td>\n",
       "    </tr>\n",
       "  </tbody>\n",
       "</table>\n",
       "</div>"
      ],
      "text/plain": [
       "           CONS_NO  RCVBL_YM     ORG_NO PAY_MODE  T_PQ  RCVBL_AMT  RCVED_AMT  \\\n",
       "331566  1701860262    201501  334030101   010201   243     104.98     104.98   \n",
       "338714  1701860262    201502  334030101   010201   185      86.60      86.60   \n",
       "340812  1701860262    201503  334030101   010201   135      61.28      61.28   \n",
       "363434  1701860262    201504  334030101   010201    96      40.25      40.25   \n",
       "364788  1701860262    201505  334030101   010201    76      31.13      31.13   \n",
       "383436  1701860262    201506  334030101   010201    75      30.56      30.56   \n",
       "387178  1701860262    201507  334030101   010201   119      51.63      51.63   \n",
       "394362  1701860262    201508  334030101   010201   219      96.39      96.39   \n",
       "405341  1701860262    201509  334030101   010201   238     105.78     105.78   \n",
       "419114  1701860262    201510  334030101   010201    86      36.25      36.25   \n",
       "422125  1701860262    201511  334030101   010201    66      27.69      27.69   \n",
       "438127  1701860262    201512  334030101   010201    84      34.83      34.83   \n",
       "\n",
       "        STATUS_CODE  RCVBL_PENALTY  RCVED_PENALTY  RISK_LEVEL_CODE  OWE_AMT  \\\n",
       "331566            1            0.0            0.0              NaN   104.98   \n",
       "338714            1            0.0            0.0              NaN    86.60   \n",
       "340812            1            0.0            0.0              NaN    61.28   \n",
       "363434            1            0.0            0.0              NaN    40.25   \n",
       "364788            1            0.0            0.0              NaN    31.13   \n",
       "383436            1            0.0            0.0              NaN    30.56   \n",
       "387178            1            0.0            0.0              NaN    51.63   \n",
       "394362            1            0.0            0.0              NaN    96.39   \n",
       "405341            1            0.0            0.0              NaN   105.78   \n",
       "419114            1            0.0            0.0              NaN    36.25   \n",
       "422125            1            0.0            0.0              NaN    27.69   \n",
       "438127            1            0.0            0.0              NaN    34.83   \n",
       "\n",
       "        CONS_SORT_CODE  ELEC_TYPE_CODE  CTL_MODE     CUST_NO  \n",
       "331566             3.0           202.0       NaN  1701860262  \n",
       "338714             3.0           202.0       NaN  1701860262  \n",
       "340812             3.0           202.0       NaN  1701860262  \n",
       "363434             3.0           202.0       NaN  1701860262  \n",
       "364788             3.0           202.0       NaN  1701860262  \n",
       "383436             3.0           202.0       NaN  1701860262  \n",
       "387178             3.0           202.0       NaN  1701860262  \n",
       "394362             3.0           202.0       NaN  1701860262  \n",
       "405341             3.0           202.0       NaN  1701860262  \n",
       "419114             3.0           202.0       NaN  1701860262  \n",
       "422125             3.0           202.0       NaN  1701860262  \n",
       "438127             3.0           202.0       NaN  1701860262  "
      ]
     },
     "execution_count": 36,
     "metadata": {},
     "output_type": "execute_result"
    }
   ],
   "source": [
    "test_data09_merge_label_df[test_data09_merge_label_df['PAY_MODE']=='010201']"
   ]
  },
  {
   "cell_type": "code",
   "execution_count": 38,
   "metadata": {
    "collapsed": true
   },
   "outputs": [
    {
     "name": "stdout",
     "output_type": "stream",
     "text": [
      "(2,)\n"
     ]
    },
    {
     "data": {
      "text/plain": [
       "0    89146\n",
       "1    20006\n",
       "Name: TAG, dtype: int64"
      ]
     },
     "execution_count": 38,
     "metadata": {},
     "output_type": "execute_result"
    },
    {
     "data": {
      "image/png": "[encoded data removed]",
      "text/plain": [
       "<matplotlib.figure.Figure at 0x7fd41bedb190>"
      ]
     },
     "metadata": {},
     "output_type": "display_data"
    }
   ],
   "source": [
    "show_attribute_detail(\n",
    "    train_data09_merge_label_df[train_data09_merge_label_df['PAY_MODE']=='020261'],\n",
    "    'TAG'\n",
    ")"
   ]
  },
  {
   "cell_type": "markdown",
   "metadata": {},
   "source": [
    "#### 3-6-4 增加字段，是否包含支付方式 - 020311（代扣）"
   ]
  },
  {
   "cell_type": "code",
   "execution_count": 29,
   "metadata": {
    "collapsed": true
   },
   "outputs": [
    {
     "name": "stdout",
     "output_type": "stream",
     "text": [
      "CPU times: user 2min 37s, sys: 696 ms, total: 2min 37s\n",
      "Wall time: 2min 38s\n"
     ]
    }
   ],
   "source": [
    "%%time\n",
    "train_data09_pay_mode_contain020311_series = train_data09_merge_label_df.groupby('CONS_NO')['PAY_MODE'].apply(\n",
    "    lambda x : int(sum(x.str.contains('020311'))>0)\n",
    ")"
   ]
  },
  {
   "cell_type": "code",
   "execution_count": 39,
   "metadata": {
    "collapsed": false
   },
   "outputs": [
    {
     "name": "stdout",
     "output_type": "stream",
     "text": [
      "102626\n",
      "CPU times: user 1.72 s, sys: 32 ms, total: 1.75 s\n",
      "Wall time: 1.95 s\n"
     ]
    }
   ],
   "source": [
    "%%time\n",
    "# 增加字段，是否包含支付方式 - 020311\n",
    "train_data01_a_worker_per_user['IS_PAY_MODE_CONTAINS_020311'] = \\\n",
    "    train_data01_a_worker_per_user['CUST_NO'].map(train_data09_pay_mode_contain020311_series)\n",
    "print sum(train_data01_a_worker_per_user['IS_PAY_MODE_CONTAINS_020311'].isnull())"
   ]
  },
  {
   "cell_type": "code",
   "execution_count": 15,
   "metadata": {
    "collapsed": false
   },
   "outputs": [
    {
     "name": "stdout",
     "output_type": "stream",
     "text": [
      "CPU times: user 45.6 s, sys: 196 ms, total: 45.8 s\n",
      "Wall time: 45.8 s\n"
     ]
    }
   ],
   "source": [
    "%%time\n",
    "test_data09_pay_mode_contain020311_series = test_data09_merge_label_df.groupby('CONS_NO')['PAY_MODE'].apply(\n",
    "    lambda x : int(sum(x.str.contains('020311'))>0)\n",
    ")"
   ]
  },
  {
   "cell_type": "code",
   "execution_count": 40,
   "metadata": {
    "collapsed": false
   },
   "outputs": [
    {
     "name": "stdout",
     "output_type": "stream",
     "text": [
      "169169\n",
      "CPU times: user 868 ms, sys: 292 ms, total: 1.16 s\n",
      "Wall time: 3.25 s\n"
     ]
    }
   ],
   "source": [
    "%%time\n",
    "# 增加字段，是否包含支付方式 - 020311\n",
    "test_data01_a_worker_per_user['IS_PAY_MODE_CONTAINS_020311'] = \\\n",
    "    test_data01_a_worker_per_user['CUST_NO'].map(test_data09_pay_mode_contain020311_series)\n",
    "print sum(test_data01_a_worker_per_user['IS_PAY_MODE_CONTAINS_020311'].isnull())"
   ]
  },
  {
   "cell_type": "code",
   "execution_count": 43,
   "metadata": {
    "collapsed": true
   },
   "outputs": [
    {
     "name": "stdout",
     "output_type": "stream",
     "text": [
      "(2, 5)\n"
     ]
    },
    {
     "data": {
      "text/html": [
       "<div>\n",
       "<table border=\"1\" class=\"dataframe\">\n",
       "  <thead>\n",
       "    <tr style=\"text-align: right;\">\n",
       "      <th></th>\n",
       "      <th>total</th>\n",
       "      <th>tag0</th>\n",
       "      <th>tag0/total</th>\n",
       "      <th>tag1</th>\n",
       "      <th>tag1/total</th>\n",
       "    </tr>\n",
       "  </thead>\n",
       "  <tbody>\n",
       "    <tr>\n",
       "      <th>0.0</th>\n",
       "      <td>228439</td>\n",
       "      <td>188896</td>\n",
       "      <td>0.826899</td>\n",
       "      <td>39543</td>\n",
       "      <td>0.173101</td>\n",
       "    </tr>\n",
       "    <tr>\n",
       "      <th>1.0</th>\n",
       "      <td>327309</td>\n",
       "      <td>286827</td>\n",
       "      <td>0.876319</td>\n",
       "      <td>40482</td>\n",
       "      <td>0.123681</td>\n",
       "    </tr>\n",
       "  </tbody>\n",
       "</table>\n",
       "</div>"
      ],
      "text/plain": [
       "      total    tag0  tag0/total   tag1  tag1/total\n",
       "0.0  228439  188896    0.826899  39543    0.173101\n",
       "1.0  327309  286827    0.876319  40482    0.123681"
      ]
     },
     "execution_count": 43,
     "metadata": {},
     "output_type": "execute_result"
    },
    {
     "data": {
      "image/png": "[encoded data removed]",
      "text/plain": [
       "<matplotlib.figure.Figure at 0x7fd41c6a9c10>"
      ]
     },
     "metadata": {},
     "output_type": "display_data"
    }
   ],
   "source": [
    "show_attribute_detail(\n",
    "    train_data01_a_worker_per_user,\n",
    "    'IS_PAY_MODE_CONTAINS_020311',\n",
    "    True,\n",
    "    'TAG'\n",
    ")"
   ]
  },
  {
   "cell_type": "markdown",
   "metadata": {},
   "source": [
    "#### 3-6-5 增加字段，是否包含支付方式 - 010101(坐收)"
   ]
  },
  {
   "cell_type": "code",
   "execution_count": 44,
   "metadata": {
    "collapsed": true
   },
   "outputs": [
    {
     "name": "stdout",
     "output_type": "stream",
     "text": [
      "CPU times: user 2min 19s, sys: 716 ms, total: 2min 20s\n",
      "Wall time: 2min 20s\n"
     ]
    }
   ],
   "source": [
    "%%time\n",
    "train_data09_pay_mode_contain010101_series = train_data09_merge_label_df.groupby('CONS_NO')['PAY_MODE'].apply(\n",
    "    lambda x : int(sum(x.str.contains('010101'))>0)\n",
    ")"
   ]
  },
  {
   "cell_type": "code",
   "execution_count": 45,
   "metadata": {
    "collapsed": true
   },
   "outputs": [
    {
     "name": "stdout",
     "output_type": "stream",
     "text": [
      "102626\n",
      "CPU times: user 1.43 s, sys: 52 ms, total: 1.48 s\n",
      "Wall time: 1.71 s\n"
     ]
    }
   ],
   "source": [
    "%%time\n",
    "# 增加字段，是否包含支付方式 - 010101\n",
    "train_data01_a_worker_per_user['IS_PAY_MODE_CONTAINS_010101'] = \\\n",
    "    train_data01_a_worker_per_user['CUST_NO'].map(train_data09_pay_mode_contain010101_series)\n",
    "print sum(train_data01_a_worker_per_user['IS_PAY_MODE_CONTAINS_010101'].isnull())"
   ]
  },
  {
   "cell_type": "code",
   "execution_count": 47,
   "metadata": {
    "collapsed": true
   },
   "outputs": [
    {
     "name": "stdout",
     "output_type": "stream",
     "text": [
      "CPU times: user 53.7 s, sys: 296 ms, total: 54 s\n",
      "Wall time: 55.4 s\n"
     ]
    }
   ],
   "source": [
    "%%time\n",
    "test_data09_pay_mode_contain010101_series = test_data09_merge_label_df.groupby('CONS_NO')['PAY_MODE'].apply(\n",
    "    lambda x : int(sum(x.str.contains('010101'))>0)\n",
    ")"
   ]
  },
  {
   "cell_type": "code",
   "execution_count": 48,
   "metadata": {
    "collapsed": true
   },
   "outputs": [
    {
     "name": "stdout",
     "output_type": "stream",
     "text": [
      "169169\n",
      "CPU times: user 932 ms, sys: 4 ms, total: 936 ms\n",
      "Wall time: 932 ms\n"
     ]
    }
   ],
   "source": [
    "%%time\n",
    "# 增加字段，是否包含支付方式 - 010101\n",
    "test_data01_a_worker_per_user['IS_PAY_MODE_CONTAINS_010101'] = \\\n",
    "    test_data01_a_worker_per_user['CUST_NO'].map(test_data09_pay_mode_contain010101_series)\n",
    "print sum(test_data01_a_worker_per_user['IS_PAY_MODE_CONTAINS_010101'].isnull())"
   ]
  },
  {
   "cell_type": "code",
   "execution_count": 49,
   "metadata": {
    "collapsed": true
   },
   "outputs": [
    {
     "name": "stdout",
     "output_type": "stream",
     "text": [
      "(2, 5)\n"
     ]
    },
    {
     "data": {
      "text/html": [
       "<div>\n",
       "<table border=\"1\" class=\"dataframe\">\n",
       "  <thead>\n",
       "    <tr style=\"text-align: right;\">\n",
       "      <th></th>\n",
       "      <th>total</th>\n",
       "      <th>tag0</th>\n",
       "      <th>tag0/total</th>\n",
       "      <th>tag1</th>\n",
       "      <th>tag1/total</th>\n",
       "    </tr>\n",
       "  </thead>\n",
       "  <tbody>\n",
       "    <tr>\n",
       "      <th>0.0</th>\n",
       "      <td>327204</td>\n",
       "      <td>287051</td>\n",
       "      <td>0.877285</td>\n",
       "      <td>40153</td>\n",
       "      <td>0.122715</td>\n",
       "    </tr>\n",
       "    <tr>\n",
       "      <th>1.0</th>\n",
       "      <td>228544</td>\n",
       "      <td>188672</td>\n",
       "      <td>0.825539</td>\n",
       "      <td>39872</td>\n",
       "      <td>0.174461</td>\n",
       "    </tr>\n",
       "  </tbody>\n",
       "</table>\n",
       "</div>"
      ],
      "text/plain": [
       "      total    tag0  tag0/total   tag1  tag1/total\n",
       "0.0  327204  287051    0.877285  40153    0.122715\n",
       "1.0  228544  188672    0.825539  39872    0.174461"
      ]
     },
     "execution_count": 49,
     "metadata": {},
     "output_type": "execute_result"
    },
    {
     "data": {
      "image/png": "[encoded data removed]",
      "text/plain": [
       "<matplotlib.figure.Figure at 0x7fd41c187410>"
      ]
     },
     "metadata": {},
     "output_type": "display_data"
    }
   ],
   "source": [
    "show_attribute_detail(\n",
    "    train_data01_a_worker_per_user,\n",
    "    'IS_PAY_MODE_CONTAINS_010101',\n",
    "    True,\n",
    "    'TAG'\n",
    ")"
   ]
  },
  {
   "cell_type": "markdown",
   "metadata": {},
   "source": [
    "#### 3-6-6 增加字段，是否包含支付方式 - 020261(委托特约)"
   ]
  },
  {
   "cell_type": "code",
   "execution_count": 50,
   "metadata": {
    "collapsed": false
   },
   "outputs": [
    {
     "name": "stdout",
     "output_type": "stream",
     "text": [
      "CPU times: user 2min 21s, sys: 652 ms, total: 2min 22s\n",
      "Wall time: 2min 21s\n"
     ]
    }
   ],
   "source": [
    "%%time\n",
    "train_data09_pay_mode_contain020261_series = train_data09_merge_label_df.groupby('CONS_NO')['PAY_MODE'].apply(\n",
    "    lambda x : int(sum(x.str.contains('020261'))>0)\n",
    ")"
   ]
  },
  {
   "cell_type": "code",
   "execution_count": 51,
   "metadata": {
    "collapsed": false
   },
   "outputs": [
    {
     "name": "stdout",
     "output_type": "stream",
     "text": [
      "102626\n",
      "CPU times: user 1.96 s, sys: 12 ms, total: 1.98 s\n",
      "Wall time: 2.12 s\n"
     ]
    }
   ],
   "source": [
    "%%time\n",
    "# 增加字段，是否包含支付方式 - 020261\n",
    "train_data01_a_worker_per_user['IS_PAY_MODE_CONTAINS_020261'] = \\\n",
    "    train_data01_a_worker_per_user['CUST_NO'].map(train_data09_pay_mode_contain020261_series)\n",
    "print sum(train_data01_a_worker_per_user['IS_PAY_MODE_CONTAINS_020261'].isnull())"
   ]
  },
  {
   "cell_type": "code",
   "execution_count": 52,
   "metadata": {
    "collapsed": false
   },
   "outputs": [
    {
     "name": "stdout",
     "output_type": "stream",
     "text": [
      "CPU times: user 46.2 s, sys: 96 ms, total: 46.3 s\n",
      "Wall time: 46.2 s\n"
     ]
    }
   ],
   "source": [
    "%%time\n",
    "test_data09_pay_mode_contain020261_series = test_data09_merge_label_df.groupby('CONS_NO')['PAY_MODE'].apply(\n",
    "    lambda x : int(sum(x.str.contains('020261'))>0)\n",
    ")"
   ]
  },
  {
   "cell_type": "code",
   "execution_count": 53,
   "metadata": {
    "collapsed": true
   },
   "outputs": [
    {
     "name": "stdout",
     "output_type": "stream",
     "text": [
      "169169\n",
      "CPU times: user 944 ms, sys: 16 ms, total: 960 ms\n",
      "Wall time: 1.01 s\n"
     ]
    }
   ],
   "source": [
    "%%time\n",
    "# 增加字段，是否包含支付方式 - 020261\n",
    "test_data01_a_worker_per_user['IS_PAY_MODE_CONTAINS_020261'] = \\\n",
    "    test_data01_a_worker_per_user['CUST_NO'].map(test_data09_pay_mode_contain020261_series)\n",
    "print sum(test_data01_a_worker_per_user['IS_PAY_MODE_CONTAINS_020261'].isnull())"
   ]
  },
  {
   "cell_type": "code",
   "execution_count": 55,
   "metadata": {
    "collapsed": true
   },
   "outputs": [
    {
     "name": "stdout",
     "output_type": "stream",
     "text": [
      "(2, 5)\n",
      "      total    tag0  tag0/total   tag1  tag1/total\n",
      "0.0  549737  470790    0.856391  78947    0.143609\n",
      "1.0    6011    4933    0.820662   1078    0.179338\n"
     ]
    },
    {
     "data": {
      "image/png": "[encoded data removed]",
      "text/plain": [
       "<matplotlib.figure.Figure at 0x7fd41c4cf2d0>"
      ]
     },
     "metadata": {},
     "output_type": "display_data"
    }
   ],
   "source": [
    "print show_attribute_detail(\n",
    "    train_data01_a_worker_per_user,\n",
    "    'IS_PAY_MODE_CONTAINS_020261',\n",
    "    True,\n",
    "    'TAG'\n",
    ")"
   ]
  },
  {
   "cell_type": "code",
   "execution_count": 56,
   "metadata": {
    "collapsed": true
   },
   "outputs": [
    {
     "name": "stdout",
     "output_type": "stream",
     "text": [
      "(2,)\n",
      "0.0    198837\n",
      "1.0      2865\n",
      "Name: IS_PAY_MODE_CONTAINS_020261, dtype: int64\n"
     ]
    },
    {
     "data": {
      "image/png": "[encoded data removed]",
      "text/plain": [
       "<matplotlib.figure.Figure at 0x7fd41c43d090>"
      ]
     },
     "metadata": {},
     "output_type": "display_data"
    }
   ],
   "source": [
    "print show_attribute_detail(\n",
    "    test_data01_a_worker_per_user,\n",
    "    'IS_PAY_MODE_CONTAINS_020261',\n",
    ")"
   ]
  },
  {
   "cell_type": "markdown",
   "metadata": {},
   "source": [
    "#### 3-6-7 最后一个月的支付方式"
   ]
  },
  {
   "cell_type": "markdown",
   "metadata": {},
   "source": [
    "##### 3-6-7-1 训练集"
   ]
  },
  {
   "cell_type": "code",
   "execution_count": 29,
   "metadata": {
    "collapsed": false
   },
   "outputs": [
    {
     "name": "stdout",
     "output_type": "stream",
     "text": [
      "CPU times: user 4min 57s, sys: 3.52 s, total: 5min\n",
      "Wall time: 5min 15s\n"
     ]
    }
   ],
   "source": [
    "%%time\n",
    "# 获取最后一个月 的缴费方式\n",
    "def get_last_month_pay_mode(x):\n",
    "    last_month_pay_mode = x.sort_values(by='RCVBL_YM')['PAY_MODE'].iloc[-1]\n",
    "    return last_month_pay_mode\n",
    "\n",
    "train_data09_last_month_pay_mode_series = \\\n",
    "    train_data09_merge_label_df.groupby('CONS_NO').apply(get_last_month_pay_mode)"
   ]
  },
  {
   "cell_type": "markdown",
   "metadata": {},
   "source": [
    "##### 增加字段，最后一个月 的缴费方式"
   ]
  },
  {
   "cell_type": "code",
   "execution_count": 32,
   "metadata": {
    "collapsed": true
   },
   "outputs": [
    {
     "name": "stdout",
     "output_type": "stream",
     "text": [
      "102626\n",
      "CPU times: user 1.92 s, sys: 16 ms, total: 1.94 s\n",
      "Wall time: 2.07 s\n"
     ]
    }
   ],
   "source": [
    "%%time\n",
    "# 增加字段，最后一个月 的缴费方式\n",
    "train_data01_a_worker_per_user['LAST_MONTH_PAY_MODE'] = \\\n",
    "    train_data01_a_worker_per_user['CUST_NO'].map(train_data09_last_month_pay_mode_series)\n",
    "print sum(train_data01_a_worker_per_user['LAST_MONTH_PAY_MODE'].isnull())"
   ]
  },
  {
   "cell_type": "markdown",
   "metadata": {},
   "source": [
    "#### 增加字段，最后一个月 的缴费方式前4位"
   ]
  },
  {
   "cell_type": "code",
   "execution_count": 5,
   "metadata": {
    "collapsed": false
   },
   "outputs": [],
   "source": [
    "train_data01_a_worker_per_user['LAST_MONTH_PAY_MODE_4bit'] = \\\n",
    "    train_data01_a_worker_per_user['LAST_MONTH_PAY_MODE'].str.slice(0,4)"
   ]
  },
  {
   "cell_type": "markdown",
   "metadata": {},
   "source": [
    "##### 3-6-7-2 测试集"
   ]
  },
  {
   "cell_type": "code",
   "execution_count": 30,
   "metadata": {
    "collapsed": true
   },
   "outputs": [
    {
     "name": "stdout",
     "output_type": "stream",
     "text": [
      "CPU times: user 1min 58s, sys: 1.68 s, total: 1min 59s\n",
      "Wall time: 2min 5s\n"
     ]
    }
   ],
   "source": [
    "%%time\n",
    "# 获取最后一个月 的缴费方式\n",
    "def get_last_month_pay_mode(x):\n",
    "    last_month_pay_mode = x.sort_values(by='RCVBL_YM')['PAY_MODE'].iloc[-1]\n",
    "    return last_month_pay_mode\n",
    "\n",
    "test_data09_last_month_pay_mode_series = \\\n",
    "    test_data09_merge_label_df.groupby('CONS_NO').apply(get_last_month_pay_mode)"
   ]
  },
  {
   "cell_type": "markdown",
   "metadata": {},
   "source": [
    "##### 增加字段，最后一个月 的缴费方式"
   ]
  },
  {
   "cell_type": "code",
   "execution_count": 34,
   "metadata": {
    "collapsed": false
   },
   "outputs": [
    {
     "name": "stdout",
     "output_type": "stream",
     "text": [
      "169169\n",
      "CPU times: user 964 ms, sys: 0 ns, total: 964 ms\n",
      "Wall time: 963 ms\n"
     ]
    }
   ],
   "source": [
    "%%time\n",
    "# 增加字段，最后一个月 的缴费方式\n",
    "test_data01_a_worker_per_user['LAST_MONTH_PAY_MODE'] = \\\n",
    "    test_data01_a_worker_per_user['CUST_NO'].map(test_data09_last_month_pay_mode_series)\n",
    "print sum(test_data01_a_worker_per_user['LAST_MONTH_PAY_MODE'].isnull())"
   ]
  },
  {
   "cell_type": "markdown",
   "metadata": {},
   "source": [
    "#### 增加字段，最后一个月 的缴费方式前4位"
   ]
  },
  {
   "cell_type": "code",
   "execution_count": 6,
   "metadata": {
    "collapsed": false
   },
   "outputs": [],
   "source": [
    "test_data01_a_worker_per_user['LAST_MONTH_PAY_MODE_4bit'] = \\\n",
    "    test_data01_a_worker_per_user['LAST_MONTH_PAY_MODE'].str.slice(0,4)"
   ]
  },
  {
   "cell_type": "markdown",
   "metadata": {},
   "source": [
    "##### 3-6-7-3 统计结果"
   ]
  },
  {
   "cell_type": "markdown",
   "metadata": {},
   "source": [
    "##### 最后一个月 的缴费方式"
   ]
  },
  {
   "cell_type": "code",
   "execution_count": 15,
   "metadata": {
    "collapsed": true
   },
   "outputs": [
    {
     "name": "stdout",
     "output_type": "stream",
     "text": [
      "(9, 5)\n"
     ]
    },
    {
     "data": {
      "image/png": "[encoded data removed]",
      "text/plain": [
       "<matplotlib.figure.Figure at 0x7fd94b1d8550>"
      ]
     },
     "metadata": {},
     "output_type": "display_data"
    }
   ],
   "source": [
    "train_data09_last_month_pay_mode_count_df =  show_attribute_detail(\n",
    "    train_data01_a_worker_per_user[train_data01_a_worker_per_user['IS_CONNECT_TO_09TABLE']==1],\n",
    "    'LAST_MONTH_PAY_MODE',\n",
    "    True,\n",
    "    'TAG'\n",
    ")"
   ]
  },
  {
   "cell_type": "code",
   "execution_count": 16,
   "metadata": {
    "collapsed": true
   },
   "outputs": [
    {
     "name": "stdout",
     "output_type": "stream",
     "text": [
      "(7,)\n"
     ]
    },
    {
     "data": {
      "image/png": "[encoded data removed]",
      "text/plain": [
       "<matplotlib.figure.Figure at 0x7fd94b067b50>"
      ]
     },
     "metadata": {},
     "output_type": "display_data"
    }
   ],
   "source": [
    "test_data09_last_month_pay_mode_count_df = show_attribute_detail(\n",
    "    test_data01_a_worker_per_user[test_data01_a_worker_per_user['IS_CONNECT_TO_09TABLE']==1],\n",
    "    'LAST_MONTH_PAY_MODE',\n",
    ")"
   ]
  },
  {
   "cell_type": "code",
   "execution_count": 17,
   "metadata": {
    "collapsed": true
   },
   "outputs": [
    {
     "name": "stdout",
     "output_type": "stream",
     "text": [
      "所有用户 - 最后一个缴费方式 PAY_MODE\n",
      "           total     tag1  tag1/total      tag0  tag0/total  test_total\n",
      "010102       4.0      1.0    0.250000       3.0    0.750000         1.0\n",
      "020271    4857.0   1129.0    0.232448    3728.0    0.767552         0.0\n",
      "010101  191966.0  35323.0    0.184007  156643.0    0.815993     43949.0\n",
      "020261    5471.0    978.0    0.178761    4493.0    0.821239      2627.0\n",
      "020311  312338.0  37922.0    0.121413  274416.0    0.878587    131989.0\n",
      "020331   40960.0   4657.0    0.113696   36303.0    0.886304     23066.0\n",
      "010106     150.0     15.0    0.100000     135.0    0.900000        69.0\n",
      "             1.0      0.0    0.000000       1.0    1.000000         0.0\n",
      "010201       0.0      0.0    0.000000       0.0    0.000000         1.0\n",
      "020101       1.0      0.0    0.000000       1.0    1.000000         0.0\n"
     ]
    }
   ],
   "source": [
    "# 合并\n",
    "temp = train_data09_last_month_pay_mode_count_df.join(\n",
    "    test_data09_last_month_pay_mode_count_df,\n",
    "    how='outer'\n",
    ").fillna(0).sort_values(by='tag1/total',ascending=False)\n",
    "temp['test_total'] = temp['LAST_MONTH_PAY_MODE']\n",
    "temp = temp.drop(labels = [u'LAST_MONTH_PAY_MODE'],axis=1)\n",
    "print '所有用户 - 最后一个缴费方式 PAY_MODE'\n",
    "print temp"
   ]
  },
  {
   "cell_type": "markdown",
   "metadata": {},
   "source": [
    "##### 最后一个月 的缴费方式前4位"
   ]
  },
  {
   "cell_type": "code",
   "execution_count": 12,
   "metadata": {
    "collapsed": true
   },
   "outputs": [
    {
     "name": "stdout",
     "output_type": "stream",
     "text": [
      "(5, 5)\n"
     ]
    },
    {
     "data": {
      "image/png": "[encoded data removed]",
      "text/plain": [
       "<matplotlib.figure.Figure at 0x7fd94b2dca50>"
      ]
     },
     "metadata": {},
     "output_type": "display_data"
    }
   ],
   "source": [
    "train_data09_last_month_pay_mode_count_df =  show_attribute_detail(\n",
    "    train_data01_a_worker_per_user[train_data01_a_worker_per_user['IS_CONNECT_TO_09TABLE']==1],\n",
    "    'LAST_MONTH_PAY_MODE_4bit',\n",
    "    True,\n",
    "    'TAG'\n",
    ")"
   ]
  },
  {
   "cell_type": "code",
   "execution_count": 13,
   "metadata": {
    "collapsed": true
   },
   "outputs": [
    {
     "name": "stdout",
     "output_type": "stream",
     "text": [
      "(4,)\n"
     ]
    },
    {
     "data": {
      "image/png": "[encoded data removed]",
      "text/plain": [
       "<matplotlib.figure.Figure at 0x7fd94b1ced10>"
      ]
     },
     "metadata": {},
     "output_type": "display_data"
    }
   ],
   "source": [
    "test_data09_last_month_pay_mode_count_df = show_attribute_detail(\n",
    "    test_data01_a_worker_per_user[test_data01_a_worker_per_user['IS_CONNECT_TO_09TABLE']==1],\n",
    "    'LAST_MONTH_PAY_MODE_4bit',\n",
    ")"
   ]
  },
  {
   "cell_type": "code",
   "execution_count": 14,
   "metadata": {
    "collapsed": true
   },
   "outputs": [
    {
     "name": "stdout",
     "output_type": "stream",
     "text": [
      "所有用户 - 最后一个缴费方式前4位 PAY_MODE\n",
      "         total     tag1  tag1/total      tag0  tag0/total  test_total\n",
      "0202   10328.0   2107.0    0.204009    8221.0    0.795991      2627.0\n",
      "0101  192120.0  35339.0    0.183942  156781.0    0.816058     44019.0\n",
      "0203  353298.0  42579.0    0.120519  310719.0    0.879481    155055.0\n",
      "           1.0      0.0    0.000000       1.0    1.000000         0.0\n",
      "0102       0.0      0.0    0.000000       0.0    0.000000         1.0\n",
      "0201       1.0      0.0    0.000000       1.0    1.000000         0.0\n"
     ]
    }
   ],
   "source": [
    "# 合并\n",
    "temp = train_data09_last_month_pay_mode_count_df.join(\n",
    "    test_data09_last_month_pay_mode_count_df,\n",
    "    how='outer'\n",
    ").fillna(0).sort_values(by='tag1/total',ascending=False)\n",
    "temp['test_total'] = temp['LAST_MONTH_PAY_MODE_4bit']\n",
    "temp = temp.drop(labels = [u'LAST_MONTH_PAY_MODE_4bit'],axis=1)\n",
    "print '所有用户 - 最后一个缴费方式前4位 PAY_MODE'\n",
    "print temp"
   ]
  },
  {
   "cell_type": "markdown",
   "metadata": {},
   "source": [
    "#### 3-6-8 缴费方式(4bit)的转变"
   ]
  },
  {
   "cell_type": "code",
   "execution_count": 9,
   "metadata": {
    "collapsed": true
   },
   "outputs": [],
   "source": [
    "train_data09_merge_label_df['PAY_MODE_4bit'] = train_data09_merge_label_df['PAY_MODE'].str.slice(0,4)"
   ]
  },
  {
   "cell_type": "markdown",
   "metadata": {},
   "source": [
    "##### 训练集"
   ]
  },
  {
   "cell_type": "code",
   "execution_count": 10,
   "metadata": {
    "collapsed": true
   },
   "outputs": [
    {
     "name": "stdout",
     "output_type": "stream",
     "text": [
      "CPU times: user 5min 1s, sys: 10.9 s, total: 5min 12s\n",
      "Wall time: 6min 46s\n"
     ]
    }
   ],
   "source": [
    "%%time\n",
    "# 缴费方式的变化线索\n",
    "def get_pay_mode_change_clue(x):\n",
    "    result = []\n",
    "    for item in x.sort_values(by='RCVBL_YM')['PAY_MODE_4bit'].values:\n",
    "        if len(result)==0 or result[-1]!=item:\n",
    "            result.append(item)\n",
    "    return '-'.join(result)\n",
    "    \n",
    "train_data09_pay_mode_change_clue_series = \\\n",
    "    train_data09_merge_label_df.groupby('CONS_NO').apply(get_pay_mode_change_clue)"
   ]
  },
  {
   "cell_type": "code",
   "execution_count": 15,
   "metadata": {
    "collapsed": false
   },
   "outputs": [
    {
     "name": "stdout",
     "output_type": "stream",
     "text": [
      "102626\n",
      "CPU times: user 1.77 s, sys: 180 ms, total: 1.95 s\n",
      "Wall time: 4.5 s\n"
     ]
    }
   ],
   "source": [
    "%%time\n",
    "# 增加字段，缴费方式的转变路径\n",
    "train_data01_a_worker_per_user['PAY_MODE_4bit_CHANGE_CLUE'] = \\\n",
    "    train_data01_a_worker_per_user['CUST_NO'].map(train_data09_pay_mode_change_clue_series)\n",
    "print sum(train_data01_a_worker_per_user['PAY_MODE_4bit_CHANGE_CLUE'].isnull())"
   ]
  },
  {
   "cell_type": "markdown",
   "metadata": {},
   "source": [
    "##### 测试集"
   ]
  },
  {
   "cell_type": "code",
   "execution_count": 13,
   "metadata": {
    "collapsed": true
   },
   "outputs": [],
   "source": [
    "test_data09_merge_label_df['PAY_MODE_4bit'] = test_data09_merge_label_df['PAY_MODE'].str.slice(0,4)"
   ]
  },
  {
   "cell_type": "code",
   "execution_count": 14,
   "metadata": {
    "collapsed": false
   },
   "outputs": [
    {
     "name": "stdout",
     "output_type": "stream",
     "text": [
      "CPU times: user 1min 31s, sys: 500 ms, total: 1min 31s\n",
      "Wall time: 1min 33s\n"
     ]
    }
   ],
   "source": [
    "%%time\n",
    "# 缴费方式的变化线索\n",
    "test_data09_pay_mode_change_clue_series = \\\n",
    "    test_data09_merge_label_df.groupby('CONS_NO').apply(get_pay_mode_change_clue)"
   ]
  },
  {
   "cell_type": "code",
   "execution_count": 16,
   "metadata": {
    "collapsed": false
   },
   "outputs": [
    {
     "name": "stdout",
     "output_type": "stream",
     "text": [
      "169169\n",
      "CPU times: user 976 ms, sys: 64 ms, total: 1.04 s\n",
      "Wall time: 2.31 s\n"
     ]
    }
   ],
   "source": [
    "%%time\n",
    "# 增加字段，缴费方式的转变路径\n",
    "test_data01_a_worker_per_user['PAY_MODE_4bit_CHANGE_CLUE'] = \\\n",
    "    test_data01_a_worker_per_user['CUST_NO'].map(test_data09_pay_mode_change_clue_series)\n",
    "print sum(test_data01_a_worker_per_user['PAY_MODE_4bit_CHANGE_CLUE'].isnull())"
   ]
  },
  {
   "cell_type": "markdown",
   "metadata": {},
   "source": [
    "##### 统计结果"
   ]
  },
  {
   "cell_type": "code",
   "execution_count": 17,
   "metadata": {
    "collapsed": true
   },
   "outputs": [
    {
     "name": "stdout",
     "output_type": "stream",
     "text": [
      "(65, 5)\n"
     ]
    },
    {
     "data": {
      "image/png": "[encoded data removed]",
      "text/plain": [
       "<matplotlib.figure.Figure at 0x7f3690356910>"
      ]
     },
     "metadata": {},
     "output_type": "display_data"
    }
   ],
   "source": [
    "train_data09_pay_mode_change_clue_count_df =  show_attribute_detail(\n",
    "    train_data01_a_worker_per_user,\n",
    "    'PAY_MODE_4bit_CHANGE_CLUE',\n",
    "    True,\n",
    "    'TAG'\n",
    ")"
   ]
  },
  {
   "cell_type": "code",
   "execution_count": 18,
   "metadata": {
    "collapsed": true
   },
   "outputs": [
    {
     "name": "stdout",
     "output_type": "stream",
     "text": [
      "(42,)\n"
     ]
    },
    {
     "data": {
      "image/png": "[encoded data removed]",
      "text/plain": [
       "<matplotlib.figure.Figure at 0x7f369011da10>"
      ]
     },
     "metadata": {},
     "output_type": "display_data"
    }
   ],
   "source": [
    "test_data09_pay_mode_change_clue_count_df = show_attribute_detail(\n",
    "    test_data01_a_worker_per_user,\n",
    "    'PAY_MODE_4bit_CHANGE_CLUE',\n",
    ")"
   ]
  },
  {
   "cell_type": "code",
   "execution_count": 21,
   "metadata": {
    "collapsed": true
   },
   "outputs": [
    {
     "name": "stdout",
     "output_type": "stream",
     "text": [
      "所有用户 - 缴费方式(4bit)的转变线索 PAY_MODE_4bit_CHANGE_CLUE\n",
      "                                                       total      tag0  \\\n",
      "0203-0202-0101-0202                                      2.0       0.0   \n",
      "-0203                                                    1.0       0.0   \n",
      "0101-0202-0101-0203-0101                                 1.0       0.0   \n",
      "0203--0203                                               2.0       1.0   \n",
      "0101-0203-0101-0203-0101-0203-0101-0203                  2.0       1.0   \n",
      "0101-0202-0101-0202-0101                                 2.0       1.0   \n",
      "0101-0202-0101-0202-0101-0202                            6.0       3.0   \n",
      "0101--0101                                               5.0       3.0   \n",
      "0101-0203-0101-0202                                      3.0       2.0   \n",
      "0202-0101-0202-0101-0203                                 3.0       2.0   \n",
      "0203-0101-0203-0101-0203-0101-0203                      11.0       8.0   \n",
      "0202-0101-0202-0101                                     41.0      30.0   \n",
      "0101-0203-0101-0203-0101-0203-0101                      16.0      12.0   \n",
      "0202-0101-0202                                         149.0     112.0   \n",
      "0203-0202                                               78.0      59.0   \n",
      "0202-0101                                              625.0     478.0   \n",
      "0101-0202-0101-0202                                     84.0      65.0   \n",
      "0202-0101-0202-0101-0202                                31.0      24.0   \n",
      "0101-0203-0101                                        2059.0    1620.0   \n",
      "0202                                                  9139.0    7285.0   \n",
      "0101-0202                                              794.0     633.0   \n",
      "0202-0101-0202-0101-0202-0101-0202                       5.0       4.0   \n",
      "0101                                                176163.0  143629.0   \n",
      "0203-0101                                            12650.0   10534.0   \n",
      "0202-0203-0202                                           6.0       5.0   \n",
      "0203-0101-0203-0101                                    378.0     317.0   \n",
      "0101-0203-0101-0203-0101                                57.0      48.0   \n",
      "0203-0101-0203-0101-0203-0101                            7.0       6.0   \n",
      "0202-0101-0203-0101                                      7.0       6.0   \n",
      "0101-0203-0101-0203                                   1048.0     902.0   \n",
      "...                                                      ...       ...   \n",
      "0101-0202-0101-0203                                     24.0      23.0   \n",
      "0203-0101-0203-0101-0202-0101                            1.0       1.0   \n",
      "0203-0101-0203-0101-0203-0101-0203-0101                  1.0       1.0   \n",
      "0203-0101-0203-0101-0203-0101-0203-0101-0203-01...       1.0       1.0   \n",
      "0203--0101                                               1.0       1.0   \n",
      "0203-0202-0101                                           2.0       2.0   \n",
      "0203-0101-0202-0101-0203                                 1.0       1.0   \n",
      "0203-0101--0101                                          1.0       1.0   \n",
      "0203-0202-0203                                           4.0       4.0   \n",
      "0203-0101-0203-0202                                      4.0       4.0   \n",
      "                                                         1.0       1.0   \n",
      "0202-0203-0202-0203                                      3.0       3.0   \n",
      "0102                                                     0.0       0.0   \n",
      "0101--0101-0203                                          2.0       2.0   \n",
      "0101-0202-0101-0202-0203-0202-0203-0202                  1.0       1.0   \n",
      "0101-0203-0101-0203-0101-0203-0101-0203-0101             1.0       1.0   \n",
      "0101-0203-0101-0203-0101-0203-0101-0203-0101-0203        0.0       0.0   \n",
      "0101-0203-0101-0203-0101-0203-0101-0203-0101-02...       0.0       0.0   \n",
      "0101-0203-0202                                           1.0       1.0   \n",
      "0101-0203-0202-0101-0202                                 0.0       0.0   \n",
      "0102-0203                                                1.0       1.0   \n",
      "0202-0203-0101-0203                                      2.0       2.0   \n",
      "0201                                                     1.0       1.0   \n",
      "-0101-0203                                               1.0       1.0   \n",
      "0202-0101-0202-0101-0202-0101                            1.0       1.0   \n",
      "0202-0101-0202-0203                                      2.0       2.0   \n",
      "0202-0101-0203-0101-0203                                 4.0       4.0   \n",
      "0202-0101-0203-0202                                      1.0       1.0   \n",
      "0202-0203-0101-0202-0203                                 0.0       0.0   \n",
      "0203-0202-0203-0202                                      8.0       8.0   \n",
      "\n",
      "                                                    tag0/total     tag1  \\\n",
      "0203-0202-0101-0202                                   0.000000      2.0   \n",
      "-0203                                                 0.000000      1.0   \n",
      "0101-0202-0101-0203-0101                              0.000000      1.0   \n",
      "0203--0203                                            0.500000      1.0   \n",
      "0101-0203-0101-0203-0101-0203-0101-0203               0.500000      1.0   \n",
      "0101-0202-0101-0202-0101                              0.500000      1.0   \n",
      "0101-0202-0101-0202-0101-0202                         0.500000      3.0   \n",
      "0101--0101                                            0.600000      2.0   \n",
      "0101-0203-0101-0202                                   0.666667      1.0   \n",
      "0202-0101-0202-0101-0203                              0.666667      1.0   \n",
      "0203-0101-0203-0101-0203-0101-0203                    0.727273      3.0   \n",
      "0202-0101-0202-0101                                   0.731707     11.0   \n",
      "0101-0203-0101-0203-0101-0203-0101                    0.750000      4.0   \n",
      "0202-0101-0202                                        0.751678     37.0   \n",
      "0203-0202                                             0.756410     19.0   \n",
      "0202-0101                                             0.764800    147.0   \n",
      "0101-0202-0101-0202                                   0.773810     19.0   \n",
      "0202-0101-0202-0101-0202                              0.774194      7.0   \n",
      "0101-0203-0101                                        0.786790    439.0   \n",
      "0202                                                  0.797133   1854.0   \n",
      "0101-0202                                             0.797229    161.0   \n",
      "0202-0101-0202-0101-0202-0101-0202                    0.800000      1.0   \n",
      "0101                                                  0.815319  32534.0   \n",
      "0203-0101                                             0.832727   2116.0   \n",
      "0202-0203-0202                                        0.833333      1.0   \n",
      "0203-0101-0203-0101                                   0.838624     61.0   \n",
      "0101-0203-0101-0203-0101                              0.842105      9.0   \n",
      "0203-0101-0203-0101-0203-0101                         0.857143      1.0   \n",
      "0202-0101-0203-0101                                   0.857143      1.0   \n",
      "0101-0203-0101-0203                                   0.860687    146.0   \n",
      "...                                                        ...      ...   \n",
      "0101-0202-0101-0203                                   0.958333      1.0   \n",
      "0203-0101-0203-0101-0202-0101                         1.000000      0.0   \n",
      "0203-0101-0203-0101-0203-0101-0203-0101               1.000000      0.0   \n",
      "0203-0101-0203-0101-0203-0101-0203-0101-0203-01...    1.000000      0.0   \n",
      "0203--0101                                            1.000000      0.0   \n",
      "0203-0202-0101                                        1.000000      0.0   \n",
      "0203-0101-0202-0101-0203                              1.000000      0.0   \n",
      "0203-0101--0101                                       1.000000      0.0   \n",
      "0203-0202-0203                                        1.000000      0.0   \n",
      "0203-0101-0203-0202                                   1.000000      0.0   \n",
      "                                                      1.000000      0.0   \n",
      "0202-0203-0202-0203                                   1.000000      0.0   \n",
      "0102                                                  0.000000      0.0   \n",
      "0101--0101-0203                                       1.000000      0.0   \n",
      "0101-0202-0101-0202-0203-0202-0203-0202               1.000000      0.0   \n",
      "0101-0203-0101-0203-0101-0203-0101-0203-0101          1.000000      0.0   \n",
      "0101-0203-0101-0203-0101-0203-0101-0203-0101-0203     0.000000      0.0   \n",
      "0101-0203-0101-0203-0101-0203-0101-0203-0101-02...    0.000000      0.0   \n",
      "0101-0203-0202                                        1.000000      0.0   \n",
      "0101-0203-0202-0101-0202                              0.000000      0.0   \n",
      "0102-0203                                             1.000000      0.0   \n",
      "0202-0203-0101-0203                                   1.000000      0.0   \n",
      "0201                                                  1.000000      0.0   \n",
      "-0101-0203                                            1.000000      0.0   \n",
      "0202-0101-0202-0101-0202-0101                         1.000000      0.0   \n",
      "0202-0101-0202-0203                                   1.000000      0.0   \n",
      "0202-0101-0203-0101-0203                              1.000000      0.0   \n",
      "0202-0101-0203-0202                                   1.000000      0.0   \n",
      "0202-0203-0101-0202-0203                              0.000000      0.0   \n",
      "0203-0202-0203-0202                                   1.000000      0.0   \n",
      "\n",
      "                                                    tag1/total  test_total  \n",
      "0203-0202-0101-0202                                   1.000000         0.0  \n",
      "-0203                                                 1.000000         1.0  \n",
      "0101-0202-0101-0203-0101                              1.000000         0.0  \n",
      "0203--0203                                            0.500000         0.0  \n",
      "0101-0203-0101-0203-0101-0203-0101-0203               0.500000         0.0  \n",
      "0101-0202-0101-0202-0101                              0.500000         1.0  \n",
      "0101-0202-0101-0202-0101-0202                         0.500000         0.0  \n",
      "0101--0101                                            0.400000         0.0  \n",
      "0101-0203-0101-0202                                   0.333333         0.0  \n",
      "0202-0101-0202-0101-0203                              0.333333         1.0  \n",
      "0203-0101-0203-0101-0203-0101-0203                    0.272727         1.0  \n",
      "0202-0101-0202-0101                                   0.268293         8.0  \n",
      "0101-0203-0101-0203-0101-0203-0101                    0.250000         4.0  \n",
      "0202-0101-0202                                        0.248322        46.0  \n",
      "0203-0202                                             0.243590        27.0  \n",
      "0202-0101                                             0.235200       163.0  \n",
      "0101-0202-0101-0202                                   0.226190        19.0  \n",
      "0202-0101-0202-0101-0202                              0.225806         3.0  \n",
      "0101-0203-0101                                        0.213210       532.0  \n",
      "0202                                                  0.202867      2322.0  \n",
      "0101-0202                                             0.202771       200.0  \n",
      "0202-0101-0202-0101-0202-0101-0202                    0.200000         0.0  \n",
      "0101                                                  0.184681     39992.0  \n",
      "0203-0101                                             0.167273      3170.0  \n",
      "0202-0203-0202                                        0.166667         0.0  \n",
      "0203-0101-0203-0101                                   0.161376       116.0  \n",
      "0101-0203-0101-0203-0101                              0.157895        11.0  \n",
      "0203-0101-0203-0101-0203-0101                         0.142857         5.0  \n",
      "0202-0101-0203-0101                                   0.142857         1.0  \n",
      "0101-0203-0101-0203                                   0.139313       375.0  \n",
      "...                                                        ...         ...  \n",
      "0101-0202-0101-0203                                   0.041667         2.0  \n",
      "0203-0101-0203-0101-0202-0101                         0.000000         0.0  \n",
      "0203-0101-0203-0101-0203-0101-0203-0101               0.000000         1.0  \n",
      "0203-0101-0203-0101-0203-0101-0203-0101-0203-01...    0.000000         0.0  \n",
      "0203--0101                                            0.000000         0.0  \n",
      "0203-0202-0101                                        0.000000         0.0  \n",
      "0203-0101-0202-0101-0203                              0.000000         0.0  \n",
      "0203-0101--0101                                       0.000000         0.0  \n",
      "0203-0202-0203                                        0.000000         0.0  \n",
      "0203-0101-0203-0202                                   0.000000         0.0  \n",
      "                                                      0.000000         0.0  \n",
      "0202-0203-0202-0203                                   0.000000         0.0  \n",
      "0102                                                  0.000000         1.0  \n",
      "0101--0101-0203                                       0.000000         0.0  \n",
      "0101-0202-0101-0202-0203-0202-0203-0202               0.000000         0.0  \n",
      "0101-0203-0101-0203-0101-0203-0101-0203-0101          0.000000         2.0  \n",
      "0101-0203-0101-0203-0101-0203-0101-0203-0101-0203     0.000000         1.0  \n",
      "0101-0203-0101-0203-0101-0203-0101-0203-0101-02...    0.000000         1.0  \n",
      "0101-0203-0202                                        0.000000         1.0  \n",
      "0101-0203-0202-0101-0202                              0.000000         1.0  \n",
      "0102-0203                                             0.000000         0.0  \n",
      "0202-0203-0101-0203                                   0.000000         0.0  \n",
      "0201                                                  0.000000         0.0  \n",
      "-0101-0203                                            0.000000         0.0  \n",
      "0202-0101-0202-0101-0202-0101                         0.000000         0.0  \n",
      "0202-0101-0202-0203                                   0.000000         1.0  \n",
      "0202-0101-0203-0101-0203                              0.000000         0.0  \n",
      "0202-0101-0203-0202                                   0.000000         0.0  \n",
      "0202-0203-0101-0202-0203                              0.000000         1.0  \n",
      "0203-0202-0203-0202                                   0.000000         4.0  \n",
      "\n",
      "[70 rows x 6 columns]\n"
     ]
    },
    {
     "ename": "AttributeError",
     "evalue": "'Index' object has no attribute 'to_csv'",
     "output_type": "error",
     "traceback": [
      "\u001b[0;31m---------------------------------------------------------------------------\u001b[0m",
      "\u001b[0;31mAttributeError\u001b[0m                            Traceback (most recent call last)",
      "\u001b[0;32m<ipython-input-21-4440828175e0>\u001b[0m in \u001b[0;36m<module>\u001b[0;34m()\u001b[0m\n\u001b[1;32m     12\u001b[0m     \u001b[0mtemp\u001b[0m\u001b[0;34m.\u001b[0m\u001b[0mindex\u001b[0m\u001b[0;34m,\u001b[0m\u001b[0;34m\u001b[0m\u001b[0m\n\u001b[1;32m     13\u001b[0m     \u001b[0;34m'train&test_data09_pay_mode_change_clue_count_df.csv'\u001b[0m\u001b[0;34m,\u001b[0m\u001b[0;34m\u001b[0m\u001b[0m\n\u001b[0;32m---> 14\u001b[0;31m     \u001b[0mindex\u001b[0m\u001b[0;34m=\u001b[0m\u001b[0mTrue\u001b[0m\u001b[0;34m\u001b[0m\u001b[0m\n\u001b[0m\u001b[1;32m     15\u001b[0m )\n",
      "\u001b[0;32m/home/jdwang/PycharmProjects/customerPortrait/semi-finals/data_util_func.py\u001b[0m in \u001b[0;36msave_data\u001b[0;34m(data, file_name, header, index)\u001b[0m\n\u001b[1;32m    109\u001b[0m     \u001b[0;34m:\u001b[0m\u001b[0;32mreturn\u001b[0m\u001b[0;34m:\u001b[0m\u001b[0;34m\u001b[0m\u001b[0m\n\u001b[1;32m    110\u001b[0m     \"\"\"\n\u001b[0;32m--> 111\u001b[0;31m     data.to_csv(file_name, sep='\\t',\n\u001b[0m\u001b[1;32m    112\u001b[0m                 \u001b[0mindex\u001b[0m\u001b[0;34m=\u001b[0m\u001b[0mindex\u001b[0m\u001b[0;34m,\u001b[0m\u001b[0;34m\u001b[0m\u001b[0m\n\u001b[1;32m    113\u001b[0m                 \u001b[0mheader\u001b[0m\u001b[0;34m=\u001b[0m\u001b[0mheader\u001b[0m\u001b[0;34m,\u001b[0m\u001b[0;34m\u001b[0m\u001b[0m\n",
      "\u001b[0;31mAttributeError\u001b[0m: 'Index' object has no attribute 'to_csv'"
     ]
    },
    {
     "name": "stdout",
     "output_type": "stream",
     "text": [
      "> \u001b[0;32m/home/jdwang/PycharmProjects/customerPortrait/semi-finals/data_util_func.py\u001b[0m(111)\u001b[0;36msave_data\u001b[0;34m()\u001b[0m\n",
      "\u001b[0;32m    109 \u001b[0;31m    \u001b[0;34m:\u001b[0m\u001b[0;32mreturn\u001b[0m\u001b[0;34m:\u001b[0m\u001b[0;34m\u001b[0m\u001b[0m\n",
      "\u001b[0m\u001b[0;32m    110 \u001b[0;31m    \"\"\"\n",
      "\u001b[0m\u001b[0;32m--> 111 \u001b[0;31m    data.to_csv(file_name, sep='\\t',\n",
      "\u001b[0m\u001b[0;32m    112 \u001b[0;31m                \u001b[0mindex\u001b[0m\u001b[0;34m=\u001b[0m\u001b[0mindex\u001b[0m\u001b[0;34m,\u001b[0m\u001b[0;34m\u001b[0m\u001b[0m\n",
      "\u001b[0m\u001b[0;32m    113 \u001b[0;31m                \u001b[0mheader\u001b[0m\u001b[0;34m=\u001b[0m\u001b[0mheader\u001b[0m\u001b[0;34m,\u001b[0m\u001b[0;34m\u001b[0m\u001b[0m\n",
      "\u001b[0m\n",
      "ipdb> q\n"
     ]
    }
   ],
   "source": [
    "# 合并\n",
    "temp = train_data09_pay_mode_change_clue_count_df.join(\n",
    "    test_data09_pay_mode_change_clue_count_df,\n",
    "    how='outer'\n",
    ").fillna(0).sort_values(by='tag1/total',ascending=False)\n",
    "temp['test_total'] = temp['PAY_MODE_4bit_CHANGE_CLUE']\n",
    "temp = temp.drop(labels = [u'PAY_MODE_4bit_CHANGE_CLUE'],axis=1)\n",
    "print '所有用户 - 缴费方式(4bit)的转变线索 PAY_MODE_4bit_CHANGE_CLUE'\n",
    "print temp\n",
    "# 数据太多了，输出分析\n",
    "save_data(\n",
    "    temp,\n",
    "    'train&test_data09_pay_mode_change_clue_count_df.csv',\n",
    "    index=True\n",
    ")"
   ]
  }
 ],
 "metadata": {
  "kernelspec": {
   "display_name": "Python 2",
   "language": "python",
   "name": "python2"
  },
  "language_info": {
   "codemirror_mode": {
    "name": "ipython",
    "version": 2
   },
   "file_extension": ".py",
   "mimetype": "text/x-python",
   "name": "python",
   "nbconvert_exporter": "python",
   "pygments_lexer": "ipython2",
   "version": "2.7.6"
  }
 },
 "nbformat": 4,
 "nbformat_minor": 1
}
