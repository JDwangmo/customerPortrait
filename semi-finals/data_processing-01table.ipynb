{
 "cells": [
  {
   "cell_type": "markdown",
   "metadata": {
    "collapsed": false
   },
   "source": [
    "# 客户画像复赛 数据处理 - 01表（工单信息）特征提取"
   ]
  },
  {
   "cell_type": "code",
   "execution_count": 1,
   "metadata": {
    "collapsed": true
   },
   "outputs": [
    {
     "name": "stdout",
     "output_type": "stream",
     "text": [
      "01_arc_s_95598_wkst_train.tsv  06_cont_info.tsv\t\t11_c_meter.tsv\r\n",
      "02_s_comm_rec.tsv\t       07_c_rca_cons.tsv\t12_a_pay_flow.tsv\r\n",
      "03_s_info_oversee.tsv\t       08_a_rcved_flow.tsv\tout\r\n",
      "04_c_cons.tsv\t\t       09_arc_a_rcvbl_flow.tsv\ttrain_label.csv\r\n",
      "05_c_cons_prc.tsv\t       10_c_meter_read.tsv\r\n"
     ]
    }
   ],
   "source": [
    "!ls Data_Update/train/"
   ]
  },
  {
   "cell_type": "markdown",
   "metadata": {},
   "source": [
    "## 1 导入必要的包和函数"
   ]
  },
  {
   "cell_type": "code",
   "execution_count": 1,
   "metadata": {
    "collapsed": false
   },
   "outputs": [
    {
     "name": "stdout",
     "output_type": "stream",
     "text": [
      "Automatic pdb calling has been turned ON\n"
     ]
    }
   ],
   "source": [
    "%pdb 1\n",
    "debug = 1\n",
    "import pandas as pd\n",
    "import numpy as np\n",
    "import pickle\n",
    "import re\n",
    "import io \n",
    "import matplotlib.pyplot as plt\n",
    "%matplotlib inline\n",
    "\n",
    "# 加载预定义好的函数\n",
    "# 预定义好的函数：\n",
    "#    - load_data(file_name, header=0): 加载数据\n",
    "#    - def show_attribute_detail( data=None, attribute_name=None): 显示数据某个属性的详情\n",
    "%run data_util_func.py\n",
    "# 选择过滤方案\n",
    "PLAN_TYPE = 3"
   ]
  },
  {
   "cell_type": "markdown",
   "metadata": {},
   "source": [
    "##  2 加载数据 "
   ]
  },
  {
   "cell_type": "markdown",
   "metadata": {},
   "source": [
    "### 2-1 用户列表 和 工单数据"
   ]
  },
  {
   "cell_type": "code",
   "execution_count": 2,
   "metadata": {
    "collapsed": true
   },
   "outputs": [],
   "source": [
    "%store -r train_data01_merge_label_df test_data01_merge_label_df\n",
    "%store -r train_data01_a_worker_per_user test_data01_a_worker_per_user"
   ]
  },
  {
   "cell_type": "code",
   "execution_count": 34,
   "metadata": {
    "collapsed": true
   },
   "outputs": [
    {
     "data": {
      "text/plain": [
       "['FeatureEncoder',\n",
       " 'data01_appno_contenttype_rdd',\n",
       " 'data_feature_encoder',\n",
       " 'debug',\n",
       " 'extend_train_data',\n",
       " 'get_accept_content_type',\n",
       " 'get_highest_sensitive_workerid',\n",
       " 'get_metrics',\n",
       " 'io',\n",
       " 'is_highest_sensitive_worker_dict',\n",
       " 'load_data',\n",
       " 'model_predict',\n",
       " 'model_train',\n",
       " 'np',\n",
       " 'pd',\n",
       " 'pickle',\n",
       " 'plt',\n",
       " 'print_function',\n",
       " 're',\n",
       " 'save_data',\n",
       " 'seperate_data_to_classifier',\n",
       " 'show_attribute_detail',\n",
       " 'show_df_info',\n",
       " 'test_data01_df',\n",
       " 'test_data01_merge_label_df',\n",
       " 'test_data_labels_df',\n",
       " 'train_accept_content_type_count_df',\n",
       " 'train_accept_content_type_sensitive_rate_series',\n",
       " 'train_custno_in_season4_count_dict',\n",
       " 'train_custno_in_season4_count_rdd',\n",
       " 'train_custno_search_action_count_dict',\n",
       " 'train_custno_search_action_count_rdd',\n",
       " 'train_data01_a_worker_per_user',\n",
       " 'train_data01_a_worker_per_user_accept_content_type_count_df',\n",
       " 'train_data01_custno_handle_month_rdd',\n",
       " 'train_data01_custno_issearchaction_rdd',\n",
       " 'train_data01_merge_label_df',\n",
       " 'train_data01_user_worker_count_series',\n",
       " 'train_test_split',\n",
       " 'user_highest_sensitive_worker_rdd']"
      ]
     },
     "execution_count": 34,
     "metadata": {},
     "output_type": "execute_result"
    }
   ],
   "source": [
    "%who_ls"
   ]
  },
  {
   "cell_type": "markdown",
   "metadata": {},
   "source": [
    "## 3 进行不同特征的探索"
   ]
  },
  {
   "cell_type": "markdown",
   "metadata": {
    "collapsed": false
   },
   "source": [
    "### 3-1 统计每个用户的 工单数\n"
   ]
  },
  {
   "cell_type": "markdown",
   "metadata": {},
   "source": [
    "#### 3-1-1 训练集"
   ]
  },
  {
   "cell_type": "markdown",
   "metadata": {},
   "source": [
    "##### 3-1-1-1 统计每个用户的工单数"
   ]
  },
  {
   "cell_type": "code",
   "execution_count": 6,
   "metadata": {
    "collapsed": false
   },
   "outputs": [
    {
     "name": "stdout",
     "output_type": "stream",
     "text": [
      "CPU times: user 1.04 s, sys: 4 ms, total: 1.04 s\n",
      "Wall time: 1.04 s\n"
     ]
    }
   ],
   "source": [
    "%%time\n",
    "# 统计每个用户的工单数\n",
    "train_data01_user_worker_count_series = train_data01_merge_label_df['CUST_NO'].value_counts()"
   ]
  },
  {
   "cell_type": "code",
   "execution_count": 66,
   "metadata": {
    "collapsed": false
   },
   "outputs": [
    {
     "data": {
      "text/plain": [
       "83"
      ]
     },
     "execution_count": 66,
     "metadata": {},
     "output_type": "execute_result"
    }
   ],
   "source": [
    "train_data01_user_worker_count_series['6010052424']"
   ]
  },
  {
   "cell_type": "code",
   "execution_count": 68,
   "metadata": {
    "collapsed": false
   },
   "outputs": [
    {
     "data": {
      "text/plain": [
       "True"
      ]
     },
     "execution_count": 68,
     "metadata": {},
     "output_type": "execute_result"
    }
   ],
   "source": [
    "# 检验总用户数是不是这个数字\n",
    "len(train_data01_user_worker_count_series) ==  658374"
   ]
  },
  {
   "cell_type": "markdown",
   "metadata": {},
   "source": [
    "##### 3-1-1-2 添加一个字段 工单数"
   ]
  },
  {
   "cell_type": "code",
   "execution_count": 7,
   "metadata": {
    "collapsed": false
   },
   "outputs": [
    {
     "name": "stdout",
     "output_type": "stream",
     "text": [
      "CPU times: user 756 ms, sys: 0 ns, total: 756 ms\n",
      "Wall time: 755 ms\n"
     ]
    }
   ],
   "source": [
    "%%time\n",
    "# 添加一个字段 工单数\n",
    "train_data01_merge_label_df['NUM_OF_WORKER'] = \\\n",
    "    train_data01_merge_label_df['CUST_NO'].map(train_data01_user_worker_count_series)"
   ]
  },
  {
   "cell_type": "code",
   "execution_count": 24,
   "metadata": {
    "collapsed": false
   },
   "outputs": [
    {
     "name": "stdout",
     "output_type": "stream",
     "text": [
      "(658377, 3)\n"
     ]
    }
   ],
   "source": [
    "# 取出  'NUM_OF_WORKER','CUST_NO','TAGG' 这三个字段进行 统计\n",
    "temp = train_data01_merge_label_df[['NUM_OF_WORKER','CUST_NO','TAG']].drop_duplicates()\n",
    "print temp.shape"
   ]
  },
  {
   "cell_type": "code",
   "execution_count": 11,
   "metadata": {
    "collapsed": true
   },
   "outputs": [
    {
     "name": "stdout",
     "output_type": "stream",
     "text": [
      "工单数分布情况\n",
      "(59, 5)\n",
      "      total      tag0  tag0/total     tag1  tag1/total\n",
      "61       61       0.0    0.000000     61.0    1.000000\n",
      "37      259       0.0    0.000000    259.0    1.000000\n",
      "66       66       0.0    0.000000     66.0    1.000000\n",
      "29      464       0.0    0.000000    464.0    1.000000\n",
      "39      195       0.0    0.000000    195.0    1.000000\n",
      "41       41       0.0    0.000000     41.0    1.000000\n",
      "42       42       0.0    0.000000     42.0    1.000000\n",
      "83       83       0.0    0.000000     83.0    1.000000\n",
      "47       94       0.0    0.000000     94.0    1.000000\n",
      "50       50       0.0    0.000000     50.0    1.000000\n",
      "71      213       0.0    0.000000    213.0    1.000000\n",
      "70       70       0.0    0.000000     70.0    1.000000\n",
      "53      106       0.0    0.000000    106.0    1.000000\n",
      "60       60       0.0    0.000000     60.0    1.000000\n",
      "26      494      26.0    0.052632    468.0    0.947368\n",
      "22      748      44.0    0.058824    704.0    0.941176\n",
      "33      396      33.0    0.083333    363.0    0.916667\n",
      "31      372      31.0    0.083333    341.0    0.916667\n",
      "19     1539     133.0    0.086420   1406.0    0.913580\n",
      "25      500      50.0    0.100000    450.0    0.900000\n",
      "21     1197     126.0    0.105263   1071.0    0.894737\n",
      "32      288      32.0    0.111111    256.0    0.888889\n",
      "15     3540     420.0    0.118644   3120.0    0.881356\n",
      "17     2108     272.0    0.129032   1836.0    0.870968\n",
      "20     1100     160.0    0.145455    940.0    0.854545\n",
      "27      351      54.0    0.153846    297.0    0.846154\n",
      "13     5811     910.0    0.156600   4901.0    0.843400\n",
      "14     4158     672.0    0.161616   3486.0    0.838384\n",
      "23      506      92.0    0.181818    414.0    0.818182\n",
      "24      528      96.0    0.181818    432.0    0.818182\n",
      "16     2800     512.0    0.182857   2288.0    0.817143\n",
      "30      480      90.0    0.187500    390.0    0.812500\n",
      "18     1944     378.0    0.194444   1566.0    0.805556\n",
      "12     7644    1500.0    0.196232   6144.0    0.803768\n",
      "38      190      38.0    0.200000    152.0    0.800000\n",
      "40      200      40.0    0.200000    160.0    0.800000\n",
      "10    10940    2380.0    0.217550   8560.0    0.782450\n",
      "11     9317    2101.0    0.225502   7216.0    0.774498\n",
      "48      192      48.0    0.250000    144.0    0.750000\n",
      "9     14634    3906.0    0.266913  10728.0    0.733087\n",
      "28      308      84.0    0.272727    224.0    0.727273\n",
      "8     20184    5776.0    0.286167  14408.0    0.713833\n",
      "36      360     108.0    0.300000    252.0    0.700000\n",
      "7     29638    9947.0    0.335616  19691.0    0.664384\n",
      "34      170      68.0    0.400000    102.0    0.600000\n",
      "6     42456   17460.0    0.411249  24996.0    0.588751\n",
      "5     64540   31565.0    0.489077  32975.0    0.510923\n",
      "44       88      44.0    0.500000     44.0    0.500000\n",
      "49       98      49.0    0.500000     49.0    0.500000\n",
      "45       90      45.0    0.500000     45.0    0.500000\n",
      "35      140      70.0    0.500000     70.0    0.500000\n",
      "4    103772   62432.0    0.601627  41340.0    0.398373\n",
      "3    170031  123828.0    0.728267  46203.0    0.271733\n",
      "2    282652  240692.0    0.851549  41960.0    0.148451\n",
      "1    401630  388491.0    0.967286  13139.0    0.032714\n",
      "52       52      52.0    1.000000      0.0    0.000000\n",
      "51       51      51.0    1.000000      0.0    0.000000\n",
      "43       43      43.0    1.000000      0.0    0.000000\n",
      "114     114     114.0    1.000000      0.0    0.000000\n"
     ]
    },
    {
     "data": {
      "image/png": "[encoded data removed]",
      "text/plain": [
       "<matplotlib.figure.Figure at 0x7f3a2d97dcd0>"
      ]
     },
     "metadata": {},
     "output_type": "display_data"
    }
   ],
   "source": [
    "print '工单数分布情况'\n",
    "temp = show_attribute_detail(train_data01_merge_label_df,\n",
    "                      attribute_name='NUM_OF_WORKER',\n",
    "                      split_by_tag=True,\n",
    "                      tag_name='TAG').sort_values(by='tag1/total',ascending=False)\n",
    "print temp"
   ]
  },
  {
   "cell_type": "markdown",
   "metadata": {},
   "source": [
    "#### 3-1-2 测试集"
   ]
  },
  {
   "cell_type": "markdown",
   "metadata": {},
   "source": [
    "##### 3-1-2-1 统计每个用户的工单数"
   ]
  },
  {
   "cell_type": "code",
   "execution_count": 37,
   "metadata": {
    "collapsed": false
   },
   "outputs": [
    {
     "name": "stdout",
     "output_type": "stream",
     "text": [
      "CPU times: user 392 ms, sys: 4 ms, total: 396 ms\n",
      "Wall time: 393 ms\n"
     ]
    }
   ],
   "source": [
    "%%time\n",
    "# 统计每个用户的工单数\n",
    "test_data01_user_worker_count_series = test_data01_merge_label_df['CUST_NO'].value_counts()"
   ]
  },
  {
   "cell_type": "markdown",
   "metadata": {},
   "source": [
    "##### 3-1-2-2 添加一个字段 工单数"
   ]
  },
  {
   "cell_type": "code",
   "execution_count": 38,
   "metadata": {
    "collapsed": false
   },
   "outputs": [
    {
     "name": "stdout",
     "output_type": "stream",
     "text": [
      "CPU times: user 360 ms, sys: 4 ms, total: 364 ms\n",
      "Wall time: 366 ms\n"
     ]
    }
   ],
   "source": [
    "%%time\n",
    "# 添加一个字段 工单数\n",
    "test_data01_merge_label_df['NUM_OF_WORKER'] = \\\n",
    "    test_data01_merge_label_df['CUST_NO'].map(test_data01_user_worker_count_series)"
   ]
  },
  {
   "cell_type": "markdown",
   "metadata": {
    "collapsed": false
   },
   "source": [
    "#### 3-1-3 用户工单数初步结论\n",
    "- 从训练集得出：工单数越多，敏感读越高，但是不是很明显\n"
   ]
  },
  {
   "cell_type": "markdown",
   "metadata": {},
   "source": [
    "### 3-2 ACCEPT_CONTENT 工作单受理内容"
   ]
  },
  {
   "cell_type": "markdown",
   "metadata": {},
   "source": [
    "#### 3-2-1 训练集"
   ]
  },
  {
   "cell_type": "markdown",
   "metadata": {},
   "source": [
    "##### 3-2-1-1 增加字段 ACCEPT_CONTENT_TYPE"
   ]
  },
  {
   "cell_type": "code",
   "execution_count": 3,
   "metadata": {
    "collapsed": false
   },
   "outputs": [
    {
     "name": "stdout",
     "output_type": "stream",
     "text": [
      "0    一户无电\n",
      "1    银行代扣\n",
      "2    查询电费\n",
      "3    查询电费\n",
      "4    查询电费\n",
      "Name: ACCEPT_CONTENT_TYPE, dtype: object\n",
      "CPU times: user 4.06 s, sys: 104 ms, total: 4.16 s\n",
      "Wall time: 4.15 s\n"
     ]
    }
   ],
   "source": [
    "%%time\n",
    "train_data01_merge_label_df['ACCEPT_CONTENT_TYPE'] = \\\n",
    "        train_data01_merge_label_df['ACCEPT_CONTENT'].apply(lambda x : get_accept_content_type(x,return_first1=True))\n",
    "print train_data01_merge_label_df['ACCEPT_CONTENT_TYPE'][:5]"
   ]
  },
  {
   "cell_type": "markdown",
   "metadata": {},
   "source": [
    "##### 3-3-1-2 统计 工单类型为空的 记录 的 敏感 /不敏感分布情况"
   ]
  },
  {
   "cell_type": "code",
   "execution_count": 11,
   "metadata": {
    "collapsed": true
   },
   "outputs": [
    {
     "name": "stdout",
     "output_type": "stream",
     "text": [
      "(2,)\n"
     ]
    },
    {
     "data": {
      "text/plain": [
       "0    2155\n",
       "1     570\n",
       "Name: TAG, dtype: int64"
      ]
     },
     "execution_count": 11,
     "metadata": {},
     "output_type": "execute_result"
    },
    {
     "data": {
      "image/png": "[encoded data removed]",
      "text/plain": [
       "<matplotlib.figure.Figure at 0x7f424e9b4050>"
      ]
     },
     "metadata": {},
     "output_type": "display_data"
    }
   ],
   "source": [
    "show_attribute_detail(\n",
    "    train_data01_merge_label_df.loc[train_data01_merge_label_df['ACCEPT_CONTENT_TYPE'].isnull()],\n",
    "    attribute_name='TAG',\n",
    ")"
   ]
  },
  {
   "cell_type": "markdown",
   "metadata": {},
   "source": [
    "##### 3-3-1-3 统计所有工单类别的敏感度（每个工单类别 tag1数量/总数）"
   ]
  },
  {
   "cell_type": "code",
   "execution_count": 10,
   "metadata": {
    "collapsed": true
   },
   "outputs": [
    {
     "name": "stdout",
     "output_type": "stream",
     "text": [
      "(1135, 5)\n",
      "                total  tag0  tag0/total  tag1  tag1/total\n",
      "2户无电                3   3.0         1.0   0.0         0.0\n",
      "4404072760回呼电话      1   0.0         0.0   1.0         1.0\n",
      "APP                 2   2.0         1.0   0.0         0.0\n",
      "APP密码               1   1.0         1.0   0.0         0.0\n",
      "app                 1   1.0         1.0   0.0         0.0\n"
     ]
    }
   ],
   "source": [
    "# 在训练集上的所有工单上 统计\n",
    "train_accept_content_type_count_df = show_attribute_detail(\n",
    "    train_data01_merge_label_df,\n",
    "    'ACCEPT_CONTENT_TYPE',\n",
    "    split_by_tag=True, \n",
    "    tag_name='TAG',\n",
    "    show_pic=False,\n",
    ")\n",
    "print train_accept_content_type_count_df.head()\n",
    "\n",
    "# 取出敏感度统计量  tag1/total\n",
    "train_accept_content_type_sensitive_rate_series = train_accept_content_type_count_df['tag1/total']\n"
   ]
  },
  {
   "cell_type": "code",
   "execution_count": 32,
   "metadata": {
    "collapsed": false
   },
   "outputs": [],
   "source": [
    "# \n",
    "save_data(\n",
    "    train_accept_content_type_count_df,\n",
    "    'train_accept_content_type_sensitive_rate_first1.csv',\n",
    "    index=True\n",
    ")"
   ]
  },
  {
   "cell_type": "code",
   "execution_count": 33,
   "metadata": {
    "collapsed": false
   },
   "outputs": [
    {
     "data": {
      "text/plain": [
       "1.0"
      ]
     },
     "execution_count": 33,
     "metadata": {},
     "output_type": "execute_result"
    }
   ],
   "source": [
    "train_accept_content_type_sensitive_rate_series.get(u'4404072760回呼电话',0)"
   ]
  },
  {
   "cell_type": "code",
   "execution_count": 17,
   "metadata": {
    "collapsed": false
   },
   "outputs": [
    {
     "data": {
      "text/plain": [
       "(1135, 5)"
      ]
     },
     "execution_count": 17,
     "metadata": {},
     "output_type": "execute_result"
    }
   ],
   "source": [
    "train_accept_content_type_count_df.shape"
   ]
  },
  {
   "cell_type": "markdown",
   "metadata": {},
   "source": [
    "#### 3-3-2 测试集"
   ]
  },
  {
   "cell_type": "markdown",
   "metadata": {},
   "source": [
    "##### 3-3-2-1 增加字段 ACCEPT_CONTENT_TYPE"
   ]
  },
  {
   "cell_type": "code",
   "execution_count": 4,
   "metadata": {
    "collapsed": false
   },
   "outputs": [
    {
     "name": "stdout",
     "output_type": "stream",
     "text": [
      "0    客户咨询一户无电\n",
      "1          退订\n",
      "2        查询电费\n",
      "3       咨询总户号\n",
      "4        设备故障\n",
      "Name: ACCEPT_CONTENT_TYPE, dtype: object\n",
      "CPU times: user 1.67 s, sys: 4 ms, total: 1.67 s\n",
      "Wall time: 1.67 s\n"
     ]
    }
   ],
   "source": [
    "%%time\n",
    "test_data01_merge_label_df['ACCEPT_CONTENT_TYPE'] = \\\n",
    "        test_data01_merge_label_df['ACCEPT_CONTENT'].apply(lambda x : get_accept_content_type(x,return_first1=True))\n",
    "print test_data01_merge_label_df['ACCEPT_CONTENT_TYPE'][:5]"
   ]
  },
  {
   "cell_type": "code",
   "execution_count": 19,
   "metadata": {
    "collapsed": true
   },
   "outputs": [
    {
     "name": "stdout",
     "output_type": "stream",
     "text": [
      "(664,)\n"
     ]
    },
    {
     "data": {
      "text/plain": [
       "2户无电                1\n",
       "APP                 1\n",
       "一户无电            27336\n",
       "一户跳闸                4\n",
       "一户频繁跳闸              3\n",
       "三户无电                2\n",
       "专业咨询               15\n",
       "业务办理超时限             1\n",
       "业务变更                7\n",
       "业务超时                1\n",
       "业扩变更              252\n",
       "业扩报装              100\n",
       "业扩报装加速              1\n",
       "业扩超时               19\n",
       "两户无电               13\n",
       "中介                 11\n",
       "中介咨询总户号            50\n",
       "中介来电               92\n",
       "中介查户号               3\n",
       "中介查询电费              3\n",
       "临时停电信息              1\n",
       "临时用电                1\n",
       "二户无电                1\n",
       "交费售电网点             13\n",
       "交费差错更正             19\n",
       "交错费                 1\n",
       "人员态度               46\n",
       "人员违规               65\n",
       "人身伤亡                2\n",
       "代征电费                2\n",
       "                ...  \n",
       "错发短信               29\n",
       "闪断                  2\n",
       "阶梯电价             3057\n",
       "青苗赔偿               29\n",
       "非供企业维护              1\n",
       "非供电业务             656\n",
       "非供电业务咨询             1\n",
       "非供电公司业务             1\n",
       "非供电公司抢修范围           1\n",
       "非供电公司维护范围          11\n",
       "非供电维修               1\n",
       "非南方供电业务             1\n",
       "非家电设备损坏            11\n",
       "非居民内部故障             8\n",
       "非用电业务咨询             1\n",
       "非电力公司业务             1\n",
       "非电力公司咨询             1\n",
       "非电力公司检查范围           4\n",
       "非电力公司维护           145\n",
       "非电力公司维护/检查范围        4\n",
       "非电力公司维护检查范围         1\n",
       "非电力公司维护范围         588\n",
       "非电力咨询               1\n",
       "预约抄表              141\n",
       "预约收费                1\n",
       "频繁停电               21\n",
       "频繁跳闸               54\n",
       "验表                449\n",
       "验表事宜                1\n",
       "验表超时                9\n",
       "Name: ACCEPT_CONTENT_TYPE, dtype: int64"
      ]
     },
     "execution_count": 19,
     "metadata": {},
     "output_type": "execute_result"
    }
   ],
   "source": [
    "show_attribute_detail(\n",
    "    test_data01_merge_label_df,\n",
    "    'ACCEPT_CONTENT_TYPE',\n",
    "    show_pic=False\n",
    ")"
   ]
  },
  {
   "cell_type": "markdown",
   "metadata": {},
   "source": [
    "#### 3-3-3 小结\n",
    "- 在训练集所有工单上 总共 1,135 个 工单类型\n",
    "- 在测试集所有工单上 总共   664 个 工单类型\n",
    "- 回访类型相关的都敏感度不高，比如 网站回访等\n",
    "- 跟电量相关的敏感度高点"
   ]
  },
  {
   "cell_type": "markdown",
   "metadata": {},
   "source": [
    "### 3-3 用户查询次数"
   ]
  },
  {
   "cell_type": "markdown",
   "metadata": {},
   "source": [
    "#### 3-4-1 训练集"
   ]
  },
  {
   "cell_type": "markdown",
   "metadata": {},
   "source": [
    "##### 3-4-1-1 新增字段 IS_SEARCH_ACTION 标识 当前 小工单类型 是否 查询电费的动作"
   ]
  },
  {
   "cell_type": "code",
   "execution_count": 14,
   "metadata": {
    "collapsed": false
   },
   "outputs": [
    {
     "name": "stdout",
     "output_type": "stream",
     "text": [
      "CPU times: user 352 ms, sys: 36 ms, total: 388 ms\n",
      "Wall time: 394 ms\n"
     ]
    }
   ],
   "source": [
    "%%time\n",
    "# 是 查询电费 ，则设置为1\n",
    "train_data01_merge_label_df.loc[train_data01_merge_label_df['ACCEPT_CONTENT_TYPE'] == u'查询电费',\n",
    "                                'IS_SEARCH_ACTION'] = 1\n",
    "# 不是 查询电费 ，则设置为1\n",
    "train_data01_merge_label_df.loc[train_data01_merge_label_df['IS_SEARCH_ACTION'].isnull(),'IS_SEARCH_ACTION']=0\n"
   ]
  },
  {
   "cell_type": "code",
   "execution_count": 56,
   "metadata": {
    "collapsed": true
   },
   "outputs": [
    {
     "data": {
      "text/html": [
       "<div>\n",
       "<table border=\"1\" class=\"dataframe\">\n",
       "  <thead>\n",
       "    <tr style=\"text-align: right;\">\n",
       "      <th></th>\n",
       "      <th>APP_NO</th>\n",
       "      <th>ID</th>\n",
       "      <th>BUSI_TYPE_CODE</th>\n",
       "      <th>URBAN_RURAL_FLAG</th>\n",
       "      <th>ORG_NO</th>\n",
       "      <th>HANDLE_TIME</th>\n",
       "      <th>ACCEPT_CONTENT</th>\n",
       "      <th>HANDLE_OPINION</th>\n",
       "      <th>CALLING_NO</th>\n",
       "      <th>ELEC_TYPE</th>\n",
       "      <th>...</th>\n",
       "      <th>PROV_ORG_NO</th>\n",
       "      <th>CITY_ORG_NO</th>\n",
       "      <th>TAG</th>\n",
       "      <th>HANDLE_HOUR</th>\n",
       "      <th>HANDLE_YEAR</th>\n",
       "      <th>HANDLE_MONTH</th>\n",
       "      <th>HANDLE_DAY</th>\n",
       "      <th>ACCEPT_CONTENT_TYPE</th>\n",
       "      <th>IS_SEARCH_ACTION</th>\n",
       "      <th>NUM_OF_HANDLE_MONTH</th>\n",
       "    </tr>\n",
       "  </thead>\n",
       "  <tbody>\n",
       "    <tr>\n",
       "      <th>544330</th>\n",
       "      <td>2015090474784841</td>\n",
       "      <td>1000000491321402</td>\n",
       "      <td>3</td>\n",
       "      <td>2.0</td>\n",
       "      <td>3340140</td>\n",
       "      <td>2015/9/4 12:14:50</td>\n",
       "      <td>【查询电费】客户查询9月是否欠费</td>\n",
       "      <td>NaN</td>\n",
       "      <td>1701598.0</td>\n",
       "      <td>200.0</td>\n",
       "      <td>...</td>\n",
       "      <td>33101</td>\n",
       "      <td>33401</td>\n",
       "      <td>0</td>\n",
       "      <td>12</td>\n",
       "      <td>2015</td>\n",
       "      <td>9</td>\n",
       "      <td>4</td>\n",
       "      <td>查询电费</td>\n",
       "      <td>1.0</td>\n",
       "      <td>2</td>\n",
       "    </tr>\n",
       "    <tr>\n",
       "      <th>901508</th>\n",
       "      <td>2015031446543827</td>\n",
       "      <td>1000000298302237</td>\n",
       "      <td>3</td>\n",
       "      <td>2.0</td>\n",
       "      <td>3340101</td>\n",
       "      <td>2015/3/14 16:35:03</td>\n",
       "      <td>【查询电费】客户查询是否欠费，欠费金额，已告知</td>\n",
       "      <td>NaN</td>\n",
       "      <td>1701598.0</td>\n",
       "      <td>200.0</td>\n",
       "      <td>...</td>\n",
       "      <td>33101</td>\n",
       "      <td>33401</td>\n",
       "      <td>0</td>\n",
       "      <td>16</td>\n",
       "      <td>2015</td>\n",
       "      <td>3</td>\n",
       "      <td>14</td>\n",
       "      <td>查询电费</td>\n",
       "      <td>1.0</td>\n",
       "      <td>2</td>\n",
       "    </tr>\n",
       "    <tr>\n",
       "      <th>921891</th>\n",
       "      <td>2015031847091845</td>\n",
       "      <td>1000000302024005</td>\n",
       "      <td>1</td>\n",
       "      <td>1.0</td>\n",
       "      <td>3340140</td>\n",
       "      <td>2015/3/18 13:36:23</td>\n",
       "      <td>【一户无电】低压居民客户报修一户无电，经指导客户检查，无法判断设备故障及其资产归属，请现场查处</td>\n",
       "      <td>NaN</td>\n",
       "      <td>1701598.0</td>\n",
       "      <td>NaN</td>\n",
       "      <td>...</td>\n",
       "      <td>33101</td>\n",
       "      <td>33401</td>\n",
       "      <td>0</td>\n",
       "      <td>13</td>\n",
       "      <td>2015</td>\n",
       "      <td>3</td>\n",
       "      <td>18</td>\n",
       "      <td>一户无电</td>\n",
       "      <td>0.0</td>\n",
       "      <td>2</td>\n",
       "    </tr>\n",
       "    <tr>\n",
       "      <th>921906</th>\n",
       "      <td>2015031847093472</td>\n",
       "      <td>1000000302032462</td>\n",
       "      <td>3</td>\n",
       "      <td>2.0</td>\n",
       "      <td>334014001</td>\n",
       "      <td>2015/3/18 13:44:50</td>\n",
       "      <td>【客户咨询一户无电】建议先自行联系有资质电工排查是否为内部故障，客户接受并表示有其他情况再致电。</td>\n",
       "      <td>NaN</td>\n",
       "      <td>1701598.0</td>\n",
       "      <td>200.0</td>\n",
       "      <td>...</td>\n",
       "      <td>33101</td>\n",
       "      <td>33401</td>\n",
       "      <td>0</td>\n",
       "      <td>13</td>\n",
       "      <td>2015</td>\n",
       "      <td>3</td>\n",
       "      <td>18</td>\n",
       "      <td>客户咨询一户无电</td>\n",
       "      <td>0.0</td>\n",
       "      <td>2</td>\n",
       "    </tr>\n",
       "    <tr>\n",
       "      <th>930563</th>\n",
       "      <td>2015031346386197</td>\n",
       "      <td>1000000297252445</td>\n",
       "      <td>3</td>\n",
       "      <td>1.0</td>\n",
       "      <td>3340101</td>\n",
       "      <td>2015/3/13 12:44:00</td>\n",
       "      <td>【查询电费】客户查询电费相关信息，已告知。</td>\n",
       "      <td>NaN</td>\n",
       "      <td>1701598.0</td>\n",
       "      <td>NaN</td>\n",
       "      <td>...</td>\n",
       "      <td>33101</td>\n",
       "      <td>33401</td>\n",
       "      <td>0</td>\n",
       "      <td>12</td>\n",
       "      <td>2015</td>\n",
       "      <td>3</td>\n",
       "      <td>13</td>\n",
       "      <td>查询电费</td>\n",
       "      <td>1.0</td>\n",
       "      <td>2</td>\n",
       "    </tr>\n",
       "    <tr>\n",
       "      <th>933414</th>\n",
       "      <td>2015031346398822</td>\n",
       "      <td>1000000297335673</td>\n",
       "      <td>3</td>\n",
       "      <td>2.0</td>\n",
       "      <td>334014001</td>\n",
       "      <td>2015/3/13 14:13:34</td>\n",
       "      <td>【查询电费】客户查询电费，已告知</td>\n",
       "      <td>NaN</td>\n",
       "      <td>1701598.0</td>\n",
       "      <td>200.0</td>\n",
       "      <td>...</td>\n",
       "      <td>33101</td>\n",
       "      <td>33401</td>\n",
       "      <td>0</td>\n",
       "      <td>14</td>\n",
       "      <td>2015</td>\n",
       "      <td>3</td>\n",
       "      <td>13</td>\n",
       "      <td>查询电费</td>\n",
       "      <td>1.0</td>\n",
       "      <td>2</td>\n",
       "    </tr>\n",
       "  </tbody>\n",
       "</table>\n",
       "<p>6 rows × 21 columns</p>\n",
       "</div>"
      ],
      "text/plain": [
       "                  APP_NO                ID  BUSI_TYPE_CODE  URBAN_RURAL_FLAG  \\\n",
       "544330  2015090474784841  1000000491321402               3               2.0   \n",
       "901508  2015031446543827  1000000298302237               3               2.0   \n",
       "921891  2015031847091845  1000000302024005               1               1.0   \n",
       "921906  2015031847093472  1000000302032462               3               2.0   \n",
       "930563  2015031346386197  1000000297252445               3               1.0   \n",
       "933414  2015031346398822  1000000297335673               3               2.0   \n",
       "\n",
       "           ORG_NO         HANDLE_TIME  \\\n",
       "544330    3340140   2015/9/4 12:14:50   \n",
       "901508    3340101  2015/3/14 16:35:03   \n",
       "921891    3340140  2015/3/18 13:36:23   \n",
       "921906  334014001  2015/3/18 13:44:50   \n",
       "930563    3340101  2015/3/13 12:44:00   \n",
       "933414  334014001  2015/3/13 14:13:34   \n",
       "\n",
       "                                          ACCEPT_CONTENT HANDLE_OPINION  \\\n",
       "544330                                  【查询电费】客户查询9月是否欠费            NaN   \n",
       "901508                           【查询电费】客户查询是否欠费，欠费金额，已告知            NaN   \n",
       "921891   【一户无电】低压居民客户报修一户无电，经指导客户检查，无法判断设备故障及其资产归属，请现场查处            NaN   \n",
       "921906  【客户咨询一户无电】建议先自行联系有资质电工排查是否为内部故障，客户接受并表示有其他情况再致电。            NaN   \n",
       "930563                             【查询电费】客户查询电费相关信息，已告知。            NaN   \n",
       "933414                                  【查询电费】客户查询电费，已告知            NaN   \n",
       "\n",
       "        CALLING_NO  ELEC_TYPE         ...          PROV_ORG_NO  CITY_ORG_NO  \\\n",
       "544330   1701598.0      200.0         ...                33101        33401   \n",
       "901508   1701598.0      200.0         ...                33101        33401   \n",
       "921891   1701598.0        NaN         ...                33101        33401   \n",
       "921906   1701598.0      200.0         ...                33101        33401   \n",
       "930563   1701598.0        NaN         ...                33101        33401   \n",
       "933414   1701598.0      200.0         ...                33101        33401   \n",
       "\n",
       "        TAG  HANDLE_HOUR  HANDLE_YEAR  HANDLE_MONTH  HANDLE_DAY  \\\n",
       "544330    0           12         2015             9           4   \n",
       "901508    0           16         2015             3          14   \n",
       "921891    0           13         2015             3          18   \n",
       "921906    0           13         2015             3          18   \n",
       "930563    0           12         2015             3          13   \n",
       "933414    0           14         2015             3          13   \n",
       "\n",
       "        ACCEPT_CONTENT_TYPE IS_SEARCH_ACTION  NUM_OF_HANDLE_MONTH  \n",
       "544330                 查询电费              1.0                    2  \n",
       "901508                 查询电费              1.0                    2  \n",
       "921891                 一户无电              0.0                    2  \n",
       "921906             客户咨询一户无电              0.0                    2  \n",
       "930563                 查询电费              1.0                    2  \n",
       "933414                 查询电费              1.0                    2  \n",
       "\n",
       "[6 rows x 21 columns]"
      ]
     },
     "execution_count": 56,
     "metadata": {},
     "output_type": "execute_result"
    }
   ],
   "source": [
    "train_data01_merge_label_df[train_data01_merge_label_df['CUST_NO']=='0002582056']"
   ]
  },
  {
   "cell_type": "markdown",
   "metadata": {},
   "source": [
    "##### 3-4-1-2 统计 每个用户的查询电费次数"
   ]
  },
  {
   "cell_type": "code",
   "execution_count": 12,
   "metadata": {
    "collapsed": false
   },
   "outputs": [
    {
     "data": {
      "text/plain": [
       "ParallelCollectionRDD[0] at parallelize at PythonRDD.scala:475"
      ]
     },
     "execution_count": 12,
     "metadata": {},
     "output_type": "execute_result"
    }
   ],
   "source": [
    "train_data01_custno_issearchaction_rdd = \\\n",
    "    sc.parallelize(train_data01_merge_label_df[['CUST_NO','IS_SEARCH_ACTION']].as_matrix())\n",
    "train_data01_custno_issearchaction_rdd.cache()"
   ]
  },
  {
   "cell_type": "code",
   "execution_count": 13,
   "metadata": {
    "collapsed": false
   },
   "outputs": [
    {
     "name": "stdout",
     "output_type": "stream",
     "text": [
      "CPU times: user 456 ms, sys: 40 ms, total: 496 ms\n",
      "Wall time: 26 s\n"
     ]
    }
   ],
   "source": [
    "%%time\n",
    "train_custno_search_action_count_rdd = train_data01_custno_issearchaction_rdd.groupBy(lambda x:x[0]).mapValues(\n",
    "    lambda items: sum([x[1] for x in items ])\n",
    ")\n",
    "train_custno_search_action_count_dict = train_custno_search_action_count_rdd.collectAsMap()"
   ]
  },
  {
   "cell_type": "code",
   "execution_count": 19,
   "metadata": {
    "collapsed": false
   },
   "outputs": [
    {
     "data": {
      "text/plain": [
       "True"
      ]
     },
     "execution_count": 19,
     "metadata": {},
     "output_type": "execute_result"
    }
   ],
   "source": [
    "len(train_custno_search_action_count_dict) == 658374"
   ]
  },
  {
   "cell_type": "markdown",
   "metadata": {},
   "source": [
    "##### 3-4-1-3 新增字段 NUM_OF_SEARCH_ACTION 标识 用户 是否 查询电费的次数"
   ]
  },
  {
   "cell_type": "code",
   "execution_count": 14,
   "metadata": {
    "collapsed": false
   },
   "outputs": [],
   "source": [
    "train_data01_merge_label_df['NUM_OF_SEARCH_ACTION'] = \\\n",
    "    train_data01_merge_label_df['CUST_NO'].map(train_custno_search_action_count_dict)"
   ]
  },
  {
   "cell_type": "code",
   "execution_count": 26,
   "metadata": {
    "collapsed": true
   },
   "outputs": [
    {
     "data": {
      "text/html": [
       "<div>\n",
       "<table border=\"1\" class=\"dataframe\">\n",
       "  <thead>\n",
       "    <tr style=\"text-align: right;\">\n",
       "      <th></th>\n",
       "      <th>APP_NO</th>\n",
       "      <th>ID</th>\n",
       "      <th>BUSI_TYPE_CODE</th>\n",
       "      <th>URBAN_RURAL_FLAG</th>\n",
       "      <th>ORG_NO</th>\n",
       "      <th>HANDLE_TIME</th>\n",
       "      <th>ACCEPT_CONTENT</th>\n",
       "      <th>HANDLE_OPINION</th>\n",
       "      <th>CALLING_NO</th>\n",
       "      <th>ELEC_TYPE</th>\n",
       "      <th>CUST_NO</th>\n",
       "      <th>PROV_ORG_NO</th>\n",
       "      <th>CITY_ORG_NO</th>\n",
       "      <th>TAG</th>\n",
       "      <th>ACCEPT_CONTENT_TYPE</th>\n",
       "      <th>IS_SEARCH_ACTION</th>\n",
       "      <th>NUM_OF_SEARCH_ACTION</th>\n",
       "    </tr>\n",
       "  </thead>\n",
       "  <tbody>\n",
       "    <tr>\n",
       "      <th>0</th>\n",
       "      <td>2015101280016584</td>\n",
       "      <td>1000000527201688</td>\n",
       "      <td>1</td>\n",
       "      <td>2.0</td>\n",
       "      <td>3340501</td>\n",
       "      <td>2015/10/12 7:27:08</td>\n",
       "      <td>【一户无电】非居民客户报修一户无电，经指导客户检查，无法判断设备故障及其资产归属，请现场查处。</td>\n",
       "      <td>NaN</td>\n",
       "      <td>1625671.0</td>\n",
       "      <td>405.0</td>\n",
       "      <td>5115500151</td>\n",
       "      <td>33101</td>\n",
       "      <td>33405</td>\n",
       "      <td>0</td>\n",
       "      <td>一户无电</td>\n",
       "      <td>0.0</td>\n",
       "      <td>0.0</td>\n",
       "    </tr>\n",
       "    <tr>\n",
       "      <th>1</th>\n",
       "      <td>2015101280016722</td>\n",
       "      <td>1000000527203612</td>\n",
       "      <td>3</td>\n",
       "      <td>2.0</td>\n",
       "      <td>3341020</td>\n",
       "      <td>2015/10/12 7:31:50</td>\n",
       "      <td>【银行代扣】客户咨询银行代扣事宜</td>\n",
       "      <td>NaN</td>\n",
       "      <td>1196922.0</td>\n",
       "      <td>202.0</td>\n",
       "      <td>5720017228</td>\n",
       "      <td>33101</td>\n",
       "      <td>33410</td>\n",
       "      <td>0</td>\n",
       "      <td>银行代扣</td>\n",
       "      <td>0.0</td>\n",
       "      <td>0.0</td>\n",
       "    </tr>\n",
       "    <tr>\n",
       "      <th>2</th>\n",
       "      <td>2015101280016734</td>\n",
       "      <td>1000000527203685</td>\n",
       "      <td>3</td>\n",
       "      <td>2.0</td>\n",
       "      <td>3340670</td>\n",
       "      <td>2015/10/12 7:32:03</td>\n",
       "      <td>【查询电费】客户查询本月电费金额，已告知。</td>\n",
       "      <td>NaN</td>\n",
       "      <td>1378624.0</td>\n",
       "      <td>201.0</td>\n",
       "      <td>6911007734</td>\n",
       "      <td>33101</td>\n",
       "      <td>33406</td>\n",
       "      <td>0</td>\n",
       "      <td>查询电费</td>\n",
       "      <td>1.0</td>\n",
       "      <td>3.0</td>\n",
       "    </tr>\n",
       "    <tr>\n",
       "      <th>3</th>\n",
       "      <td>2015101280019989</td>\n",
       "      <td>1000000527220221</td>\n",
       "      <td>3</td>\n",
       "      <td>1.0</td>\n",
       "      <td>3340401</td>\n",
       "      <td>2015/10/12 8:04:42</td>\n",
       "      <td>【查询电费】客户查询本月电费金额。</td>\n",
       "      <td>NaN</td>\n",
       "      <td>1149071.0</td>\n",
       "      <td>202.0</td>\n",
       "      <td>4400013050</td>\n",
       "      <td>33101</td>\n",
       "      <td>33404</td>\n",
       "      <td>1</td>\n",
       "      <td>查询电费</td>\n",
       "      <td>1.0</td>\n",
       "      <td>12.0</td>\n",
       "    </tr>\n",
       "    <tr>\n",
       "      <th>4</th>\n",
       "      <td>2015101280020073</td>\n",
       "      <td>1000000527220797</td>\n",
       "      <td>3</td>\n",
       "      <td>1.0</td>\n",
       "      <td>334010101</td>\n",
       "      <td>2015/10/12 8:06:05</td>\n",
       "      <td>【查询电费】客户查询电费是否欠费，已告知。</td>\n",
       "      <td>NaN</td>\n",
       "      <td>1052032.0</td>\n",
       "      <td>100.0</td>\n",
       "      <td>6023002461</td>\n",
       "      <td>33101</td>\n",
       "      <td>33401</td>\n",
       "      <td>1</td>\n",
       "      <td>查询电费</td>\n",
       "      <td>1.0</td>\n",
       "      <td>31.0</td>\n",
       "    </tr>\n",
       "  </tbody>\n",
       "</table>\n",
       "</div>"
      ],
      "text/plain": [
       "             APP_NO                ID  BUSI_TYPE_CODE  URBAN_RURAL_FLAG  \\\n",
       "0  2015101280016584  1000000527201688               1               2.0   \n",
       "1  2015101280016722  1000000527203612               3               2.0   \n",
       "2  2015101280016734  1000000527203685               3               2.0   \n",
       "3  2015101280019989  1000000527220221               3               1.0   \n",
       "4  2015101280020073  1000000527220797               3               1.0   \n",
       "\n",
       "      ORG_NO         HANDLE_TIME  \\\n",
       "0    3340501  2015/10/12 7:27:08   \n",
       "1    3341020  2015/10/12 7:31:50   \n",
       "2    3340670  2015/10/12 7:32:03   \n",
       "3    3340401  2015/10/12 8:04:42   \n",
       "4  334010101  2015/10/12 8:06:05   \n",
       "\n",
       "                                    ACCEPT_CONTENT HANDLE_OPINION  CALLING_NO  \\\n",
       "0  【一户无电】非居民客户报修一户无电，经指导客户检查，无法判断设备故障及其资产归属，请现场查处。            NaN   1625671.0   \n",
       "1                                 【银行代扣】客户咨询银行代扣事宜            NaN   1196922.0   \n",
       "2                            【查询电费】客户查询本月电费金额，已告知。            NaN   1378624.0   \n",
       "3                                【查询电费】客户查询本月电费金额。            NaN   1149071.0   \n",
       "4                            【查询电费】客户查询电费是否欠费，已告知。            NaN   1052032.0   \n",
       "\n",
       "   ELEC_TYPE     CUST_NO  PROV_ORG_NO  CITY_ORG_NO  TAG ACCEPT_CONTENT_TYPE  \\\n",
       "0      405.0  5115500151        33101        33405    0                一户无电   \n",
       "1      202.0  5720017228        33101        33410    0                银行代扣   \n",
       "2      201.0  6911007734        33101        33406    0                查询电费   \n",
       "3      202.0  4400013050        33101        33404    1                查询电费   \n",
       "4      100.0  6023002461        33101        33401    1                查询电费   \n",
       "\n",
       "   IS_SEARCH_ACTION  NUM_OF_SEARCH_ACTION  \n",
       "0               0.0                   0.0  \n",
       "1               0.0                   0.0  \n",
       "2               1.0                   3.0  \n",
       "3               1.0                  12.0  \n",
       "4               1.0                  31.0  "
      ]
     },
     "execution_count": 26,
     "metadata": {},
     "output_type": "execute_result"
    }
   ],
   "source": [
    "train_data01_merge_label_df.head()"
   ]
  },
  {
   "cell_type": "markdown",
   "metadata": {},
   "source": [
    "##### 3-4-1-4 分布情况"
   ]
  },
  {
   "cell_type": "code",
   "execution_count": 43,
   "metadata": {
    "collapsed": true
   },
   "outputs": [
    {
     "name": "stdout",
     "output_type": "stream",
     "text": [
      "查询电费的次数\n",
      "(51, 5)\n",
      "       total      tag0  tag0/total   tag1  tag1/total\n",
      "25.0     336       0.0    0.000000    336    1.000000\n",
      "42.0      95       0.0    0.000000     95    1.000000\n",
      "34.0     110       0.0    0.000000    110    1.000000\n",
      "36.0      81       0.0    0.000000     81    1.000000\n",
      "37.0     109       0.0    0.000000    109    1.000000\n",
      "38.0     128       0.0    0.000000    128    1.000000\n",
      "39.0      40       0.0    0.000000     40    1.000000\n",
      "40.0      44       0.0    0.000000     44    1.000000\n",
      "45.0     102       0.0    0.000000    102    1.000000\n",
      "26.0     151       0.0    0.000000    151    1.000000\n",
      "48.0      71       0.0    0.000000     71    1.000000\n",
      "50.0     103       0.0    0.000000    103    1.000000\n",
      "60.0      70       0.0    0.000000     70    1.000000\n",
      "61.0      61       0.0    0.000000     61    1.000000\n",
      "64.0      66       0.0    0.000000     66    1.000000\n",
      "68.0      71       0.0    0.000000     71    1.000000\n",
      "29.0      65       0.0    0.000000     65    1.000000\n",
      "75.0      83       0.0    0.000000     83    1.000000\n",
      "15.0    1768      65.0    0.036765   1703    0.963235\n",
      "24.0     478      24.0    0.050209    454    0.949791\n",
      "20.0     437      23.0    0.052632    414    0.947368\n",
      "19.0     679      60.0    0.088365    619    0.911635\n",
      "13.0    2932     309.0    0.105389   2623    0.894611\n",
      "12.0    3833     428.0    0.111662   3405    0.888338\n",
      "18.0     894     101.0    0.112975    793    0.887025\n",
      "6.0    14038    1620.0    0.115401  12418    0.884599\n",
      "14.0    2031     242.0    0.119153   1789    0.880847\n",
      "22.0     385      50.0    0.129870    335    0.870130\n",
      "7.0     9868    1319.0    0.133664   8549    0.866336\n",
      "10.0    4853     656.0    0.135174   4197    0.864826\n",
      "9.0     5536     750.0    0.135477   4786    0.864523\n",
      "8.0     6394     879.0    0.137473   5515    0.862527\n",
      "23.0     517      73.0    0.141199    444    0.858801\n",
      "11.0    4475     657.0    0.146816   3818    0.853184\n",
      "33.0     241      36.0    0.149378    205    0.850622\n",
      "16.0    1289     196.0    0.152056   1093    0.847944\n",
      "5.0    22955    3520.0    0.153343  19435    0.846657\n",
      "17.0    1233     199.0    0.161395   1034    0.838605\n",
      "35.0     232      40.0    0.172414    192    0.827586\n",
      "28.0     311      58.0    0.186495    253    0.813505\n",
      "4.0    40268    9352.0    0.232244  30916    0.767756\n",
      "31.0     135      34.0    0.251852    101    0.748148\n",
      "21.0     602     167.0    0.277409    435    0.722591\n",
      "27.0     394     115.0    0.291878    279    0.708122\n",
      "44.0     141      45.0    0.319149     96    0.680851\n",
      "30.0     210      73.0    0.347619    137    0.652381\n",
      "3.0    72430   27800.0    0.383819  44630    0.616181\n",
      "32.0     173      77.0    0.445087     96    0.554913\n",
      "2.0   146040   84344.0    0.577540  61696    0.422460\n",
      "1.0   315343  266448.0    0.844947  48895    0.155053\n",
      "0.0   527297  495303.0    0.939325  31994    0.060675\n"
     ]
    },
    {
     "data": {
      "image/png": "[encoded data removed]",
      "text/plain": [
       "<matplotlib.figure.Figure at 0x7fb121290dd0>"
      ]
     },
     "metadata": {},
     "output_type": "display_data"
    }
   ],
   "source": [
    "print '查询电费的次数'\n",
    "train_data01_merge_label_num_of_search_action_count_df = show_attribute_detail(train_data01_merge_label_df,\n",
    "                      attribute_name='NUM_OF_SEARCH_ACTION',\n",
    "                      split_by_tag=True,\n",
    "                      tag_name='TAG').sort_values(by='tag1/total',ascending=False)\n",
    "print train_data01_merge_label_num_of_search_action_count_df"
   ]
  },
  {
   "cell_type": "markdown",
   "metadata": {},
   "source": [
    "##### 添加字段  用户 最高 月[查询电费]的数量"
   ]
  },
  {
   "cell_type": "code",
   "execution_count": 39,
   "metadata": {
    "collapsed": false
   },
   "outputs": [
    {
     "name": "stdout",
     "output_type": "stream",
     "text": [
      "CPU times: user 11min 59s, sys: 3.48 s, total: 12min 2s\n",
      "Wall time: 12min 2s\n"
     ]
    }
   ],
   "source": [
    "%%time\n",
    "def get_max_num_of_search_action(x):\n",
    "#     用户月最大查询电费次数\n",
    "    result = max(x.groupby('HANDLE_MONTH')['IS_SEARCH_ACTION'].apply(lambda x:sum(x)))\n",
    "    return pd.Series(result)\n",
    "\n",
    "\n",
    "train_data01_cust_no_max_num_of_search_action_df = \\\n",
    "    train_data01_merge_label_df.groupby('CUST_NO')['HANDLE_MONTH','IS_SEARCH_ACTION'].apply(get_max_num_of_search_action)"
   ]
  },
  {
   "cell_type": "code",
   "execution_count": 61,
   "metadata": {
    "collapsed": false,
    "scrolled": true
   },
   "outputs": [],
   "source": [
    "train_data01_cust_no_max_num_of_search_action_dict = \\\n",
    "    train_data01_cust_no_max_num_of_search_action_df[0].to_dict()"
   ]
  },
  {
   "cell_type": "code",
   "execution_count": 66,
   "metadata": {
    "collapsed": false
   },
   "outputs": [],
   "source": [
    "train_data01_a_worker_per_user['MAX_NUM_MONTH_SEARCH_ACTION'] = \\\n",
    "    train_data01_a_worker_per_user['CUST_NO'].map(train_data01_cust_no_max_num_of_search_action_dict)"
   ]
  },
  {
   "cell_type": "code",
   "execution_count": 4,
   "metadata": {
    "collapsed": true
   },
   "outputs": [
    {
     "name": "stdout",
     "output_type": "stream",
     "text": [
      "(18, 5)\n"
     ]
    },
    {
     "data": {
      "text/html": [
       "<div>\n",
       "<table border=\"1\" class=\"dataframe\">\n",
       "  <thead>\n",
       "    <tr style=\"text-align: right;\">\n",
       "      <th></th>\n",
       "      <th>total</th>\n",
       "      <th>tag0</th>\n",
       "      <th>tag0/total</th>\n",
       "      <th>tag1</th>\n",
       "      <th>tag1/total</th>\n",
       "    </tr>\n",
       "  </thead>\n",
       "  <tbody>\n",
       "    <tr>\n",
       "      <th>0.0</th>\n",
       "      <td>377156</td>\n",
       "      <td>362534.0</td>\n",
       "      <td>0.961231</td>\n",
       "      <td>14622</td>\n",
       "      <td>0.038769</td>\n",
       "    </tr>\n",
       "    <tr>\n",
       "      <th>1.0</th>\n",
       "      <td>234882</td>\n",
       "      <td>199186.0</td>\n",
       "      <td>0.848026</td>\n",
       "      <td>35696</td>\n",
       "      <td>0.151974</td>\n",
       "    </tr>\n",
       "    <tr>\n",
       "      <th>2.0</th>\n",
       "      <td>36480</td>\n",
       "      <td>14833.0</td>\n",
       "      <td>0.406606</td>\n",
       "      <td>21647</td>\n",
       "      <td>0.593394</td>\n",
       "    </tr>\n",
       "    <tr>\n",
       "      <th>3.0</th>\n",
       "      <td>7196</td>\n",
       "      <td>1516.0</td>\n",
       "      <td>0.210673</td>\n",
       "      <td>5680</td>\n",
       "      <td>0.789327</td>\n",
       "    </tr>\n",
       "    <tr>\n",
       "      <th>4.0</th>\n",
       "      <td>1797</td>\n",
       "      <td>211.0</td>\n",
       "      <td>0.117418</td>\n",
       "      <td>1586</td>\n",
       "      <td>0.882582</td>\n",
       "    </tr>\n",
       "    <tr>\n",
       "      <th>5.0</th>\n",
       "      <td>542</td>\n",
       "      <td>45.0</td>\n",
       "      <td>0.083026</td>\n",
       "      <td>497</td>\n",
       "      <td>0.916974</td>\n",
       "    </tr>\n",
       "    <tr>\n",
       "      <th>6.0</th>\n",
       "      <td>171</td>\n",
       "      <td>12.0</td>\n",
       "      <td>0.070175</td>\n",
       "      <td>159</td>\n",
       "      <td>0.929825</td>\n",
       "    </tr>\n",
       "    <tr>\n",
       "      <th>7.0</th>\n",
       "      <td>74</td>\n",
       "      <td>7.0</td>\n",
       "      <td>0.094595</td>\n",
       "      <td>67</td>\n",
       "      <td>0.905405</td>\n",
       "    </tr>\n",
       "    <tr>\n",
       "      <th>8.0</th>\n",
       "      <td>37</td>\n",
       "      <td>2.0</td>\n",
       "      <td>0.054054</td>\n",
       "      <td>35</td>\n",
       "      <td>0.945946</td>\n",
       "    </tr>\n",
       "    <tr>\n",
       "      <th>9.0</th>\n",
       "      <td>18</td>\n",
       "      <td>2.0</td>\n",
       "      <td>0.111111</td>\n",
       "      <td>16</td>\n",
       "      <td>0.888889</td>\n",
       "    </tr>\n",
       "    <tr>\n",
       "      <th>10.0</th>\n",
       "      <td>6</td>\n",
       "      <td>0.0</td>\n",
       "      <td>0.000000</td>\n",
       "      <td>6</td>\n",
       "      <td>1.000000</td>\n",
       "    </tr>\n",
       "    <tr>\n",
       "      <th>11.0</th>\n",
       "      <td>5</td>\n",
       "      <td>1.0</td>\n",
       "      <td>0.200000</td>\n",
       "      <td>4</td>\n",
       "      <td>0.800000</td>\n",
       "    </tr>\n",
       "    <tr>\n",
       "      <th>12.0</th>\n",
       "      <td>3</td>\n",
       "      <td>0.0</td>\n",
       "      <td>0.000000</td>\n",
       "      <td>3</td>\n",
       "      <td>1.000000</td>\n",
       "    </tr>\n",
       "    <tr>\n",
       "      <th>13.0</th>\n",
       "      <td>2</td>\n",
       "      <td>0.0</td>\n",
       "      <td>0.000000</td>\n",
       "      <td>2</td>\n",
       "      <td>1.000000</td>\n",
       "    </tr>\n",
       "    <tr>\n",
       "      <th>14.0</th>\n",
       "      <td>1</td>\n",
       "      <td>0.0</td>\n",
       "      <td>0.000000</td>\n",
       "      <td>1</td>\n",
       "      <td>1.000000</td>\n",
       "    </tr>\n",
       "    <tr>\n",
       "      <th>15.0</th>\n",
       "      <td>2</td>\n",
       "      <td>0.0</td>\n",
       "      <td>0.000000</td>\n",
       "      <td>2</td>\n",
       "      <td>1.000000</td>\n",
       "    </tr>\n",
       "    <tr>\n",
       "      <th>16.0</th>\n",
       "      <td>1</td>\n",
       "      <td>0.0</td>\n",
       "      <td>0.000000</td>\n",
       "      <td>1</td>\n",
       "      <td>1.000000</td>\n",
       "    </tr>\n",
       "    <tr>\n",
       "      <th>19.0</th>\n",
       "      <td>1</td>\n",
       "      <td>0.0</td>\n",
       "      <td>0.000000</td>\n",
       "      <td>1</td>\n",
       "      <td>1.000000</td>\n",
       "    </tr>\n",
       "  </tbody>\n",
       "</table>\n",
       "</div>"
      ],
      "text/plain": [
       "       total      tag0  tag0/total   tag1  tag1/total\n",
       "0.0   377156  362534.0    0.961231  14622    0.038769\n",
       "1.0   234882  199186.0    0.848026  35696    0.151974\n",
       "2.0    36480   14833.0    0.406606  21647    0.593394\n",
       "3.0     7196    1516.0    0.210673   5680    0.789327\n",
       "4.0     1797     211.0    0.117418   1586    0.882582\n",
       "5.0      542      45.0    0.083026    497    0.916974\n",
       "6.0      171      12.0    0.070175    159    0.929825\n",
       "7.0       74       7.0    0.094595     67    0.905405\n",
       "8.0       37       2.0    0.054054     35    0.945946\n",
       "9.0       18       2.0    0.111111     16    0.888889\n",
       "10.0       6       0.0    0.000000      6    1.000000\n",
       "11.0       5       1.0    0.200000      4    0.800000\n",
       "12.0       3       0.0    0.000000      3    1.000000\n",
       "13.0       2       0.0    0.000000      2    1.000000\n",
       "14.0       1       0.0    0.000000      1    1.000000\n",
       "15.0       2       0.0    0.000000      2    1.000000\n",
       "16.0       1       0.0    0.000000      1    1.000000\n",
       "19.0       1       0.0    0.000000      1    1.000000"
      ]
     },
     "execution_count": 4,
     "metadata": {},
     "output_type": "execute_result"
    },
    {
     "data": {
      "image/png": "[encoded data removed]",
      "text/plain": [
       "<matplotlib.figure.Figure at 0x7f27cdd9cb10>"
      ]
     },
     "metadata": {},
     "output_type": "display_data"
    }
   ],
   "source": [
    "show_attribute_detail(\n",
    "    train_data01_a_worker_per_user,\n",
    "    'MAX_NUM_MONTH_SEARCH_ACTION',\n",
    "    True,\n",
    "    'TAG'\n",
    ")"
   ]
  },
  {
   "cell_type": "code",
   "execution_count": 5,
   "metadata": {
    "collapsed": true
   },
   "outputs": [
    {
     "name": "stdout",
     "output_type": "stream",
     "text": [
      "(51, 5)\n"
     ]
    },
    {
     "data": {
      "text/html": [
       "<div>\n",
       "<table border=\"1\" class=\"dataframe\">\n",
       "  <thead>\n",
       "    <tr style=\"text-align: right;\">\n",
       "      <th></th>\n",
       "      <th>total</th>\n",
       "      <th>tag0</th>\n",
       "      <th>tag0/total</th>\n",
       "      <th>tag1</th>\n",
       "      <th>tag1/total</th>\n",
       "    </tr>\n",
       "  </thead>\n",
       "  <tbody>\n",
       "    <tr>\n",
       "      <th>0.0</th>\n",
       "      <td>377156</td>\n",
       "      <td>362534.0</td>\n",
       "      <td>0.961231</td>\n",
       "      <td>14622</td>\n",
       "      <td>0.038769</td>\n",
       "    </tr>\n",
       "    <tr>\n",
       "      <th>1.0</th>\n",
       "      <td>195872</td>\n",
       "      <td>174487.0</td>\n",
       "      <td>0.890822</td>\n",
       "      <td>21385</td>\n",
       "      <td>0.109178</td>\n",
       "    </tr>\n",
       "    <tr>\n",
       "      <th>2.0</th>\n",
       "      <td>50712</td>\n",
       "      <td>30836.0</td>\n",
       "      <td>0.608061</td>\n",
       "      <td>19876</td>\n",
       "      <td>0.391939</td>\n",
       "    </tr>\n",
       "    <tr>\n",
       "      <th>3.0</th>\n",
       "      <td>17657</td>\n",
       "      <td>7241.0</td>\n",
       "      <td>0.410092</td>\n",
       "      <td>10416</td>\n",
       "      <td>0.589908</td>\n",
       "    </tr>\n",
       "    <tr>\n",
       "      <th>4.0</th>\n",
       "      <td>7522</td>\n",
       "      <td>1888.0</td>\n",
       "      <td>0.250997</td>\n",
       "      <td>5634</td>\n",
       "      <td>0.749003</td>\n",
       "    </tr>\n",
       "    <tr>\n",
       "      <th>5.0</th>\n",
       "      <td>3488</td>\n",
       "      <td>578.0</td>\n",
       "      <td>0.165711</td>\n",
       "      <td>2910</td>\n",
       "      <td>0.834289</td>\n",
       "    </tr>\n",
       "    <tr>\n",
       "      <th>6.0</th>\n",
       "      <td>1809</td>\n",
       "      <td>226.0</td>\n",
       "      <td>0.124931</td>\n",
       "      <td>1583</td>\n",
       "      <td>0.875069</td>\n",
       "    </tr>\n",
       "    <tr>\n",
       "      <th>7.0</th>\n",
       "      <td>1124</td>\n",
       "      <td>163.0</td>\n",
       "      <td>0.145018</td>\n",
       "      <td>961</td>\n",
       "      <td>0.854982</td>\n",
       "    </tr>\n",
       "    <tr>\n",
       "      <th>8.0</th>\n",
       "      <td>651</td>\n",
       "      <td>93.0</td>\n",
       "      <td>0.142857</td>\n",
       "      <td>558</td>\n",
       "      <td>0.857143</td>\n",
       "    </tr>\n",
       "    <tr>\n",
       "      <th>9.0</th>\n",
       "      <td>509</td>\n",
       "      <td>69.0</td>\n",
       "      <td>0.135560</td>\n",
       "      <td>440</td>\n",
       "      <td>0.864440</td>\n",
       "    </tr>\n",
       "    <tr>\n",
       "      <th>10.0</th>\n",
       "      <td>411</td>\n",
       "      <td>55.0</td>\n",
       "      <td>0.133820</td>\n",
       "      <td>356</td>\n",
       "      <td>0.866180</td>\n",
       "    </tr>\n",
       "    <tr>\n",
       "      <th>11.0</th>\n",
       "      <td>356</td>\n",
       "      <td>54.0</td>\n",
       "      <td>0.151685</td>\n",
       "      <td>302</td>\n",
       "      <td>0.848315</td>\n",
       "    </tr>\n",
       "    <tr>\n",
       "      <th>12.0</th>\n",
       "      <td>287</td>\n",
       "      <td>32.0</td>\n",
       "      <td>0.111498</td>\n",
       "      <td>255</td>\n",
       "      <td>0.888502</td>\n",
       "    </tr>\n",
       "    <tr>\n",
       "      <th>13.0</th>\n",
       "      <td>196</td>\n",
       "      <td>21.0</td>\n",
       "      <td>0.107143</td>\n",
       "      <td>175</td>\n",
       "      <td>0.892857</td>\n",
       "    </tr>\n",
       "    <tr>\n",
       "      <th>14.0</th>\n",
       "      <td>126</td>\n",
       "      <td>13.0</td>\n",
       "      <td>0.103175</td>\n",
       "      <td>113</td>\n",
       "      <td>0.896825</td>\n",
       "    </tr>\n",
       "    <tr>\n",
       "      <th>15.0</th>\n",
       "      <td>102</td>\n",
       "      <td>4.0</td>\n",
       "      <td>0.039216</td>\n",
       "      <td>98</td>\n",
       "      <td>0.960784</td>\n",
       "    </tr>\n",
       "    <tr>\n",
       "      <th>16.0</th>\n",
       "      <td>69</td>\n",
       "      <td>11.0</td>\n",
       "      <td>0.159420</td>\n",
       "      <td>58</td>\n",
       "      <td>0.840580</td>\n",
       "    </tr>\n",
       "    <tr>\n",
       "      <th>17.0</th>\n",
       "      <td>61</td>\n",
       "      <td>11.0</td>\n",
       "      <td>0.180328</td>\n",
       "      <td>50</td>\n",
       "      <td>0.819672</td>\n",
       "    </tr>\n",
       "    <tr>\n",
       "      <th>18.0</th>\n",
       "      <td>44</td>\n",
       "      <td>5.0</td>\n",
       "      <td>0.113636</td>\n",
       "      <td>39</td>\n",
       "      <td>0.886364</td>\n",
       "    </tr>\n",
       "    <tr>\n",
       "      <th>19.0</th>\n",
       "      <td>31</td>\n",
       "      <td>3.0</td>\n",
       "      <td>0.096774</td>\n",
       "      <td>28</td>\n",
       "      <td>0.903226</td>\n",
       "    </tr>\n",
       "    <tr>\n",
       "      <th>20.0</th>\n",
       "      <td>20</td>\n",
       "      <td>1.0</td>\n",
       "      <td>0.050000</td>\n",
       "      <td>19</td>\n",
       "      <td>0.950000</td>\n",
       "    </tr>\n",
       "    <tr>\n",
       "      <th>21.0</th>\n",
       "      <td>23</td>\n",
       "      <td>5.0</td>\n",
       "      <td>0.217391</td>\n",
       "      <td>18</td>\n",
       "      <td>0.782609</td>\n",
       "    </tr>\n",
       "    <tr>\n",
       "      <th>22.0</th>\n",
       "      <td>16</td>\n",
       "      <td>2.0</td>\n",
       "      <td>0.125000</td>\n",
       "      <td>14</td>\n",
       "      <td>0.875000</td>\n",
       "    </tr>\n",
       "    <tr>\n",
       "      <th>23.0</th>\n",
       "      <td>20</td>\n",
       "      <td>3.0</td>\n",
       "      <td>0.150000</td>\n",
       "      <td>17</td>\n",
       "      <td>0.850000</td>\n",
       "    </tr>\n",
       "    <tr>\n",
       "      <th>24.0</th>\n",
       "      <td>18</td>\n",
       "      <td>1.0</td>\n",
       "      <td>0.055556</td>\n",
       "      <td>17</td>\n",
       "      <td>0.944444</td>\n",
       "    </tr>\n",
       "    <tr>\n",
       "      <th>25.0</th>\n",
       "      <td>11</td>\n",
       "      <td>0.0</td>\n",
       "      <td>0.000000</td>\n",
       "      <td>11</td>\n",
       "      <td>1.000000</td>\n",
       "    </tr>\n",
       "    <tr>\n",
       "      <th>26.0</th>\n",
       "      <td>5</td>\n",
       "      <td>0.0</td>\n",
       "      <td>0.000000</td>\n",
       "      <td>5</td>\n",
       "      <td>1.000000</td>\n",
       "    </tr>\n",
       "    <tr>\n",
       "      <th>27.0</th>\n",
       "      <td>12</td>\n",
       "      <td>3.0</td>\n",
       "      <td>0.250000</td>\n",
       "      <td>9</td>\n",
       "      <td>0.750000</td>\n",
       "    </tr>\n",
       "    <tr>\n",
       "      <th>28.0</th>\n",
       "      <td>10</td>\n",
       "      <td>2.0</td>\n",
       "      <td>0.200000</td>\n",
       "      <td>8</td>\n",
       "      <td>0.800000</td>\n",
       "    </tr>\n",
       "    <tr>\n",
       "      <th>29.0</th>\n",
       "      <td>2</td>\n",
       "      <td>0.0</td>\n",
       "      <td>0.000000</td>\n",
       "      <td>2</td>\n",
       "      <td>1.000000</td>\n",
       "    </tr>\n",
       "    <tr>\n",
       "      <th>30.0</th>\n",
       "      <td>6</td>\n",
       "      <td>2.0</td>\n",
       "      <td>0.333333</td>\n",
       "      <td>4</td>\n",
       "      <td>0.666667</td>\n",
       "    </tr>\n",
       "    <tr>\n",
       "      <th>31.0</th>\n",
       "      <td>4</td>\n",
       "      <td>1.0</td>\n",
       "      <td>0.250000</td>\n",
       "      <td>3</td>\n",
       "      <td>0.750000</td>\n",
       "    </tr>\n",
       "    <tr>\n",
       "      <th>32.0</th>\n",
       "      <td>4</td>\n",
       "      <td>2.0</td>\n",
       "      <td>0.500000</td>\n",
       "      <td>2</td>\n",
       "      <td>0.500000</td>\n",
       "    </tr>\n",
       "    <tr>\n",
       "      <th>33.0</th>\n",
       "      <td>7</td>\n",
       "      <td>1.0</td>\n",
       "      <td>0.142857</td>\n",
       "      <td>6</td>\n",
       "      <td>0.857143</td>\n",
       "    </tr>\n",
       "    <tr>\n",
       "      <th>34.0</th>\n",
       "      <td>3</td>\n",
       "      <td>0.0</td>\n",
       "      <td>0.000000</td>\n",
       "      <td>3</td>\n",
       "      <td>1.000000</td>\n",
       "    </tr>\n",
       "    <tr>\n",
       "      <th>35.0</th>\n",
       "      <td>6</td>\n",
       "      <td>1.0</td>\n",
       "      <td>0.166667</td>\n",
       "      <td>5</td>\n",
       "      <td>0.833333</td>\n",
       "    </tr>\n",
       "    <tr>\n",
       "      <th>36.0</th>\n",
       "      <td>2</td>\n",
       "      <td>0.0</td>\n",
       "      <td>0.000000</td>\n",
       "      <td>2</td>\n",
       "      <td>1.000000</td>\n",
       "    </tr>\n",
       "    <tr>\n",
       "      <th>37.0</th>\n",
       "      <td>2</td>\n",
       "      <td>0.0</td>\n",
       "      <td>0.000000</td>\n",
       "      <td>2</td>\n",
       "      <td>1.000000</td>\n",
       "    </tr>\n",
       "    <tr>\n",
       "      <th>38.0</th>\n",
       "      <td>3</td>\n",
       "      <td>0.0</td>\n",
       "      <td>0.000000</td>\n",
       "      <td>3</td>\n",
       "      <td>1.000000</td>\n",
       "    </tr>\n",
       "    <tr>\n",
       "      <th>39.0</th>\n",
       "      <td>1</td>\n",
       "      <td>0.0</td>\n",
       "      <td>0.000000</td>\n",
       "      <td>1</td>\n",
       "      <td>1.000000</td>\n",
       "    </tr>\n",
       "    <tr>\n",
       "      <th>40.0</th>\n",
       "      <td>1</td>\n",
       "      <td>0.0</td>\n",
       "      <td>0.000000</td>\n",
       "      <td>1</td>\n",
       "      <td>1.000000</td>\n",
       "    </tr>\n",
       "    <tr>\n",
       "      <th>42.0</th>\n",
       "      <td>2</td>\n",
       "      <td>0.0</td>\n",
       "      <td>0.000000</td>\n",
       "      <td>2</td>\n",
       "      <td>1.000000</td>\n",
       "    </tr>\n",
       "    <tr>\n",
       "      <th>44.0</th>\n",
       "      <td>3</td>\n",
       "      <td>1.0</td>\n",
       "      <td>0.333333</td>\n",
       "      <td>2</td>\n",
       "      <td>0.666667</td>\n",
       "    </tr>\n",
       "    <tr>\n",
       "      <th>45.0</th>\n",
       "      <td>2</td>\n",
       "      <td>0.0</td>\n",
       "      <td>0.000000</td>\n",
       "      <td>2</td>\n",
       "      <td>1.000000</td>\n",
       "    </tr>\n",
       "    <tr>\n",
       "      <th>48.0</th>\n",
       "      <td>1</td>\n",
       "      <td>0.0</td>\n",
       "      <td>0.000000</td>\n",
       "      <td>1</td>\n",
       "      <td>1.000000</td>\n",
       "    </tr>\n",
       "    <tr>\n",
       "      <th>50.0</th>\n",
       "      <td>2</td>\n",
       "      <td>0.0</td>\n",
       "      <td>0.000000</td>\n",
       "      <td>2</td>\n",
       "      <td>1.000000</td>\n",
       "    </tr>\n",
       "    <tr>\n",
       "      <th>60.0</th>\n",
       "      <td>1</td>\n",
       "      <td>0.0</td>\n",
       "      <td>0.000000</td>\n",
       "      <td>1</td>\n",
       "      <td>1.000000</td>\n",
       "    </tr>\n",
       "    <tr>\n",
       "      <th>61.0</th>\n",
       "      <td>1</td>\n",
       "      <td>0.0</td>\n",
       "      <td>0.000000</td>\n",
       "      <td>1</td>\n",
       "      <td>1.000000</td>\n",
       "    </tr>\n",
       "    <tr>\n",
       "      <th>64.0</th>\n",
       "      <td>1</td>\n",
       "      <td>0.0</td>\n",
       "      <td>0.000000</td>\n",
       "      <td>1</td>\n",
       "      <td>1.000000</td>\n",
       "    </tr>\n",
       "    <tr>\n",
       "      <th>68.0</th>\n",
       "      <td>1</td>\n",
       "      <td>0.0</td>\n",
       "      <td>0.000000</td>\n",
       "      <td>1</td>\n",
       "      <td>1.000000</td>\n",
       "    </tr>\n",
       "    <tr>\n",
       "      <th>75.0</th>\n",
       "      <td>1</td>\n",
       "      <td>0.0</td>\n",
       "      <td>0.000000</td>\n",
       "      <td>1</td>\n",
       "      <td>1.000000</td>\n",
       "    </tr>\n",
       "  </tbody>\n",
       "</table>\n",
       "</div>"
      ],
      "text/plain": [
       "       total      tag0  tag0/total   tag1  tag1/total\n",
       "0.0   377156  362534.0    0.961231  14622    0.038769\n",
       "1.0   195872  174487.0    0.890822  21385    0.109178\n",
       "2.0    50712   30836.0    0.608061  19876    0.391939\n",
       "3.0    17657    7241.0    0.410092  10416    0.589908\n",
       "4.0     7522    1888.0    0.250997   5634    0.749003\n",
       "5.0     3488     578.0    0.165711   2910    0.834289\n",
       "6.0     1809     226.0    0.124931   1583    0.875069\n",
       "7.0     1124     163.0    0.145018    961    0.854982\n",
       "8.0      651      93.0    0.142857    558    0.857143\n",
       "9.0      509      69.0    0.135560    440    0.864440\n",
       "10.0     411      55.0    0.133820    356    0.866180\n",
       "11.0     356      54.0    0.151685    302    0.848315\n",
       "12.0     287      32.0    0.111498    255    0.888502\n",
       "13.0     196      21.0    0.107143    175    0.892857\n",
       "14.0     126      13.0    0.103175    113    0.896825\n",
       "15.0     102       4.0    0.039216     98    0.960784\n",
       "16.0      69      11.0    0.159420     58    0.840580\n",
       "17.0      61      11.0    0.180328     50    0.819672\n",
       "18.0      44       5.0    0.113636     39    0.886364\n",
       "19.0      31       3.0    0.096774     28    0.903226\n",
       "20.0      20       1.0    0.050000     19    0.950000\n",
       "21.0      23       5.0    0.217391     18    0.782609\n",
       "22.0      16       2.0    0.125000     14    0.875000\n",
       "23.0      20       3.0    0.150000     17    0.850000\n",
       "24.0      18       1.0    0.055556     17    0.944444\n",
       "25.0      11       0.0    0.000000     11    1.000000\n",
       "26.0       5       0.0    0.000000      5    1.000000\n",
       "27.0      12       3.0    0.250000      9    0.750000\n",
       "28.0      10       2.0    0.200000      8    0.800000\n",
       "29.0       2       0.0    0.000000      2    1.000000\n",
       "30.0       6       2.0    0.333333      4    0.666667\n",
       "31.0       4       1.0    0.250000      3    0.750000\n",
       "32.0       4       2.0    0.500000      2    0.500000\n",
       "33.0       7       1.0    0.142857      6    0.857143\n",
       "34.0       3       0.0    0.000000      3    1.000000\n",
       "35.0       6       1.0    0.166667      5    0.833333\n",
       "36.0       2       0.0    0.000000      2    1.000000\n",
       "37.0       2       0.0    0.000000      2    1.000000\n",
       "38.0       3       0.0    0.000000      3    1.000000\n",
       "39.0       1       0.0    0.000000      1    1.000000\n",
       "40.0       1       0.0    0.000000      1    1.000000\n",
       "42.0       2       0.0    0.000000      2    1.000000\n",
       "44.0       3       1.0    0.333333      2    0.666667\n",
       "45.0       2       0.0    0.000000      2    1.000000\n",
       "48.0       1       0.0    0.000000      1    1.000000\n",
       "50.0       2       0.0    0.000000      2    1.000000\n",
       "60.0       1       0.0    0.000000      1    1.000000\n",
       "61.0       1       0.0    0.000000      1    1.000000\n",
       "64.0       1       0.0    0.000000      1    1.000000\n",
       "68.0       1       0.0    0.000000      1    1.000000\n",
       "75.0       1       0.0    0.000000      1    1.000000"
      ]
     },
     "execution_count": 5,
     "metadata": {},
     "output_type": "execute_result"
    },
    {
     "data": {
      "image/png": "[encoded data removed]",
      "text/plain": [
       "<matplotlib.figure.Figure at 0x7f27dd515bd0>"
      ]
     },
     "metadata": {},
     "output_type": "display_data"
    }
   ],
   "source": [
    "show_attribute_detail(\n",
    "    train_data01_a_worker_per_user,\n",
    "    'NUM_OF_SEARCH_ACTION',\n",
    "    True,\n",
    "    'TAG'\n",
    ")"
   ]
  },
  {
   "cell_type": "markdown",
   "metadata": {},
   "source": [
    "#### 3-4-2 测试集"
   ]
  },
  {
   "cell_type": "markdown",
   "metadata": {},
   "source": [
    "##### 3-4-2-1 新增字段 IS_SEARCH_ACTION 标识 当前 小工单类型 是否 查询电费的动作"
   ]
  },
  {
   "cell_type": "code",
   "execution_count": 74,
   "metadata": {
    "collapsed": false
   },
   "outputs": [
    {
     "name": "stdout",
     "output_type": "stream",
     "text": [
      "CPU times: user 156 ms, sys: 4 ms, total: 160 ms\n",
      "Wall time: 160 ms\n"
     ]
    }
   ],
   "source": [
    "%%time\n",
    "# 是 查询电费 ，则设置为1\n",
    "test_data01_merge_label_df.loc[test_data01_merge_label_df['ACCEPT_CONTENT_TYPE'] == u'查询电费',\n",
    "                                'IS_SEARCH_ACTION'] = 1\n",
    "# 不是 查询电费 ，则设置为1\n",
    "test_data01_merge_label_df.loc[test_data01_merge_label_df['IS_SEARCH_ACTION'].isnull(),'IS_SEARCH_ACTION']=0\n"
   ]
  },
  {
   "cell_type": "markdown",
   "metadata": {},
   "source": [
    "##### 3-4-2-2 统计 每个用户的查询电费次数"
   ]
  },
  {
   "cell_type": "code",
   "execution_count": 41,
   "metadata": {
    "collapsed": false
   },
   "outputs": [
    {
     "data": {
      "text/plain": [
       "ParallelCollectionRDD[18] at parallelize at PythonRDD.scala:475"
      ]
     },
     "execution_count": 41,
     "metadata": {},
     "output_type": "execute_result"
    }
   ],
   "source": [
    "test_data01_custno_issearchaction_rdd = \\\n",
    "    sc.parallelize(test_data01_merge_label_df[['CUST_NO','IS_SEARCH_ACTION']].as_matrix())\n",
    "test_data01_custno_issearchaction_rdd.cache()"
   ]
  },
  {
   "cell_type": "code",
   "execution_count": 42,
   "metadata": {
    "collapsed": false
   },
   "outputs": [
    {
     "name": "stdout",
     "output_type": "stream",
     "text": [
      "CPU times: user 248 ms, sys: 36 ms, total: 284 ms\n",
      "Wall time: 8.46 s\n"
     ]
    }
   ],
   "source": [
    "%%time\n",
    "test_custno_search_action_count_rdd = test_data01_custno_issearchaction_rdd.groupBy(lambda x:x[0]).mapValues(\n",
    "    lambda items: sum([x[1] for x in items ])\n",
    ")\n",
    "test_custno_search_action_count_dict = test_custno_search_action_count_rdd.collectAsMap()"
   ]
  },
  {
   "cell_type": "code",
   "execution_count": 39,
   "metadata": {
    "collapsed": false
   },
   "outputs": [
    {
     "data": {
      "text/plain": [
       "True"
      ]
     },
     "execution_count": 39,
     "metadata": {},
     "output_type": "execute_result"
    }
   ],
   "source": [
    "len(test_custno_search_action_count_dict) == 370871"
   ]
  },
  {
   "cell_type": "markdown",
   "metadata": {},
   "source": [
    "##### 3-4-2-3 新增字段 NUM_OF_SEARCH_ACTION 标识 用户 是否 查询电费的次数"
   ]
  },
  {
   "cell_type": "code",
   "execution_count": 43,
   "metadata": {
    "collapsed": true
   },
   "outputs": [],
   "source": [
    "test_data01_merge_label_df['NUM_OF_SEARCH_ACTION'] = \\\n",
    "    test_data01_merge_label_df['CUST_NO'].map(test_custno_search_action_count_dict)"
   ]
  },
  {
   "cell_type": "code",
   "execution_count": 41,
   "metadata": {
    "collapsed": true
   },
   "outputs": [
    {
     "data": {
      "text/html": [
       "<div>\n",
       "<table border=\"1\" class=\"dataframe\">\n",
       "  <thead>\n",
       "    <tr style=\"text-align: right;\">\n",
       "      <th></th>\n",
       "      <th>APP_NO</th>\n",
       "      <th>ID</th>\n",
       "      <th>BUSI_TYPE_CODE</th>\n",
       "      <th>URBAN_RURAL_FLAG</th>\n",
       "      <th>ORG_NO</th>\n",
       "      <th>HANDLE_TIME</th>\n",
       "      <th>ACCEPT_CONTENT</th>\n",
       "      <th>HANDLE_OPINION</th>\n",
       "      <th>CALLING_NO</th>\n",
       "      <th>ELEC_TYPE</th>\n",
       "      <th>CUST_NO</th>\n",
       "      <th>PROV_ORG_NO</th>\n",
       "      <th>CITY_ORG_NO</th>\n",
       "      <th>ACCEPT_CONTENT_TYPE</th>\n",
       "      <th>IS_SEARCH_ACTION</th>\n",
       "      <th>NUM_OF_SEARCH_ACTION</th>\n",
       "    </tr>\n",
       "  </thead>\n",
       "  <tbody>\n",
       "    <tr>\n",
       "      <th>0</th>\n",
       "      <td>2015101280019632</td>\n",
       "      <td>1000000527215943</td>\n",
       "      <td>3</td>\n",
       "      <td>1.0</td>\n",
       "      <td>3340780</td>\n",
       "      <td>2015/10/12 7:58:04</td>\n",
       "      <td>【客户咨询一户无电】建议先自行联系有资质电工排查是否为内部故障，客户接受并表示有其他情况再致电。</td>\n",
       "      <td>NaN</td>\n",
       "      <td>1628699.0</td>\n",
       "      <td>202.0</td>\n",
       "      <td>9400029736</td>\n",
       "      <td>33101</td>\n",
       "      <td>33407</td>\n",
       "      <td>客户咨询一户无电</td>\n",
       "      <td>0.0</td>\n",
       "      <td>0.0</td>\n",
       "    </tr>\n",
       "    <tr>\n",
       "      <th>1</th>\n",
       "      <td>2015101280019648</td>\n",
       "      <td>1000000527216033</td>\n",
       "      <td>10</td>\n",
       "      <td>2.0</td>\n",
       "      <td>334066001</td>\n",
       "      <td>2015/10/12 7:58:26</td>\n",
       "      <td>【退订】#2061584501；【退订】#2061584602；【退订】#406091928...</td>\n",
       "      <td>NaN</td>\n",
       "      <td>1260775.0</td>\n",
       "      <td>201.0</td>\n",
       "      <td>6851831254</td>\n",
       "      <td>33101</td>\n",
       "      <td>33406</td>\n",
       "      <td>退订</td>\n",
       "      <td>0.0</td>\n",
       "      <td>0.0</td>\n",
       "    </tr>\n",
       "    <tr>\n",
       "      <th>2</th>\n",
       "      <td>2015101280019680</td>\n",
       "      <td>1000000527216202</td>\n",
       "      <td>3</td>\n",
       "      <td>2.0</td>\n",
       "      <td>3340690</td>\n",
       "      <td>2015/10/12 7:58:52</td>\n",
       "      <td>【查询电费】客户查询本月电费，已告知。</td>\n",
       "      <td>NaN</td>\n",
       "      <td>1536321.0</td>\n",
       "      <td>201.0</td>\n",
       "      <td>7312218251</td>\n",
       "      <td>33101</td>\n",
       "      <td>33406</td>\n",
       "      <td>查询电费</td>\n",
       "      <td>1.0</td>\n",
       "      <td>1.0</td>\n",
       "    </tr>\n",
       "    <tr>\n",
       "      <th>3</th>\n",
       "      <td>2015101280019873</td>\n",
       "      <td>1000000527218491</td>\n",
       "      <td>3</td>\n",
       "      <td>1.0</td>\n",
       "      <td>3340810</td>\n",
       "      <td>2015/10/12 8:02:53</td>\n",
       "      <td>【咨询总户号】通过地址、户名查询户号信息，已告知</td>\n",
       "      <td>NaN</td>\n",
       "      <td>1576698.0</td>\n",
       "      <td>NaN</td>\n",
       "      <td>3330149860</td>\n",
       "      <td>33101</td>\n",
       "      <td>33408</td>\n",
       "      <td>咨询总户号</td>\n",
       "      <td>0.0</td>\n",
       "      <td>0.0</td>\n",
       "    </tr>\n",
       "    <tr>\n",
       "      <th>4</th>\n",
       "      <td>2015101280020130</td>\n",
       "      <td>1000000527221199</td>\n",
       "      <td>1</td>\n",
       "      <td>1.0</td>\n",
       "      <td>3340501</td>\n",
       "      <td>2015/10/12 8:07:10</td>\n",
       "      <td>【设备故障】客户报修此处线路打火，请处理。客户只能提供此地址，烦请电话联系057486581...</td>\n",
       "      <td>NaN</td>\n",
       "      <td>1089990.0</td>\n",
       "      <td>201.0</td>\n",
       "      <td>5210210735</td>\n",
       "      <td>33101</td>\n",
       "      <td>33405</td>\n",
       "      <td>设备故障</td>\n",
       "      <td>0.0</td>\n",
       "      <td>0.0</td>\n",
       "    </tr>\n",
       "  </tbody>\n",
       "</table>\n",
       "</div>"
      ],
      "text/plain": [
       "             APP_NO                ID  BUSI_TYPE_CODE  URBAN_RURAL_FLAG  \\\n",
       "0  2015101280019632  1000000527215943               3               1.0   \n",
       "1  2015101280019648  1000000527216033              10               2.0   \n",
       "2  2015101280019680  1000000527216202               3               2.0   \n",
       "3  2015101280019873  1000000527218491               3               1.0   \n",
       "4  2015101280020130  1000000527221199               1               1.0   \n",
       "\n",
       "      ORG_NO         HANDLE_TIME  \\\n",
       "0    3340780  2015/10/12 7:58:04   \n",
       "1  334066001  2015/10/12 7:58:26   \n",
       "2    3340690  2015/10/12 7:58:52   \n",
       "3    3340810  2015/10/12 8:02:53   \n",
       "4    3340501  2015/10/12 8:07:10   \n",
       "\n",
       "                                      ACCEPT_CONTENT HANDLE_OPINION  \\\n",
       "0   【客户咨询一户无电】建议先自行联系有资质电工排查是否为内部故障，客户接受并表示有其他情况再致电。            NaN   \n",
       "1  【退订】#2061584501；【退订】#2061584602；【退订】#406091928...            NaN   \n",
       "2                                【查询电费】客户查询本月电费，已告知。            NaN   \n",
       "3                           【咨询总户号】通过地址、户名查询户号信息，已告知            NaN   \n",
       "4  【设备故障】客户报修此处线路打火，请处理。客户只能提供此地址，烦请电话联系057486581...            NaN   \n",
       "\n",
       "   CALLING_NO  ELEC_TYPE     CUST_NO  PROV_ORG_NO  CITY_ORG_NO  \\\n",
       "0   1628699.0      202.0  9400029736        33101        33407   \n",
       "1   1260775.0      201.0  6851831254        33101        33406   \n",
       "2   1536321.0      201.0  7312218251        33101        33406   \n",
       "3   1576698.0        NaN  3330149860        33101        33408   \n",
       "4   1089990.0      201.0  5210210735        33101        33405   \n",
       "\n",
       "  ACCEPT_CONTENT_TYPE  IS_SEARCH_ACTION  NUM_OF_SEARCH_ACTION  \n",
       "0            客户咨询一户无电               0.0                   0.0  \n",
       "1                  退订               0.0                   0.0  \n",
       "2                查询电费               1.0                   1.0  \n",
       "3               咨询总户号               0.0                   0.0  \n",
       "4                设备故障               0.0                   0.0  "
      ]
     },
     "execution_count": 41,
     "metadata": {},
     "output_type": "execute_result"
    }
   ],
   "source": [
    "test_data01_merge_label_df.head()"
   ]
  },
  {
   "cell_type": "markdown",
   "metadata": {},
   "source": [
    "##### 3-4-2-4 分布情况"
   ]
  },
  {
   "cell_type": "code",
   "execution_count": 25,
   "metadata": {
    "collapsed": true
   },
   "outputs": [
    {
     "name": "stdout",
     "output_type": "stream",
     "text": [
      "查询电费的次数\n",
      "(9,)\n",
      "0.0    269135\n",
      "1.0    130555\n",
      "2.0     19173\n",
      "3.0      3753\n",
      "4.0       835\n",
      "5.0       219\n",
      "6.0        19\n",
      "7.0        29\n",
      "9.0        10\n",
      "Name: NUM_OF_SEARCH_ACTION, dtype: int64\n"
     ]
    },
    {
     "data": {
      "image/png": "[encoded data removed]",
      "text/plain": [
       "<matplotlib.figure.Figure at 0x7f9cd2f0cb90>"
      ]
     },
     "metadata": {},
     "output_type": "display_data"
    }
   ],
   "source": [
    "print '查询电费的次数'\n",
    "test_data01_merge_label_num_of_search_action_count_df = show_attribute_detail(test_data01_merge_label_df,\n",
    "                      attribute_name='NUM_OF_SEARCH_ACTION',\n",
    "                      )\n",
    "print test_data01_merge_label_num_of_search_action_count_df"
   ]
  },
  {
   "cell_type": "markdown",
   "metadata": {},
   "source": [
    "##### 添加字段  用户 最高 月[查询电费]的数量"
   ]
  },
  {
   "cell_type": "code",
   "execution_count": 92,
   "metadata": {
    "collapsed": false
   },
   "outputs": [
    {
     "name": "stdout",
     "output_type": "stream",
     "text": [
      "CPU times: user 13min 31s, sys: 3.59 s, total: 13min 35s\n",
      "Wall time: 13min 55s\n"
     ]
    }
   ],
   "source": [
    "%%time\n",
    "def get_max_num_of_search_action(x):\n",
    "#     用户月最大查询电费次数\n",
    "    result = max(x.groupby('HANDLE_MONTH').apply(lambda y:sum(y['IS_SEARCH_ACTION'])))\n",
    "    return result\n",
    "\n",
    "\n",
    "test_data01_cust_no_max_num_of_search_action_df = \\\n",
    "    test_data01_merge_label_df.groupby('CUST_NO').apply(get_max_num_of_search_action)"
   ]
  },
  {
   "cell_type": "code",
   "execution_count": 83,
   "metadata": {
    "collapsed": false,
    "scrolled": true
   },
   "outputs": [],
   "source": [
    "test_data01_cust_no_max_num_of_search_action_dict = \\\n",
    "    test_data01_cust_no_max_num_of_search_action_df[0].to_dict()"
   ]
  },
  {
   "cell_type": "code",
   "execution_count": 84,
   "metadata": {
    "collapsed": false
   },
   "outputs": [],
   "source": [
    "test_data01_a_worker_per_user['MAX_NUM_MONTH_SEARCH_ACTION'] = \\\n",
    "    test_data01_a_worker_per_user['CUST_NO'].map(test_data01_cust_no_max_num_of_search_action_dict)"
   ]
  },
  {
   "cell_type": "code",
   "execution_count": 88,
   "metadata": {
    "collapsed": true
   },
   "outputs": [
    {
     "name": "stdout",
     "output_type": "stream",
     "text": [
      "(6,)\n"
     ]
    },
    {
     "data": {
      "text/plain": [
       "0.0    246199\n",
       "1.0    119977\n",
       "2.0      4382\n",
       "3.0       284\n",
       "4.0        27\n",
       "5.0         2\n",
       "Name: MAX_NUM_MONTH_SEARCH_ACTION, dtype: int64"
      ]
     },
     "execution_count": 88,
     "metadata": {},
     "output_type": "execute_result"
    },
    {
     "data": {
      "image/png": "[encoded data removed]",
      "text/plain": [
       "<matplotlib.figure.Figure at 0x7f2a17383810>"
      ]
     },
     "metadata": {},
     "output_type": "display_data"
    }
   ],
   "source": [
    "show_attribute_detail(\n",
    "    test_data01_a_worker_per_user,\n",
    "    'MAX_NUM_MONTH_SEARCH_ACTION'\n",
    ")"
   ]
  },
  {
   "cell_type": "markdown",
   "metadata": {},
   "source": [
    "#### 3-4-3 合并结果"
   ]
  },
  {
   "cell_type": "code",
   "execution_count": 45,
   "metadata": {
    "collapsed": true
   },
   "outputs": [
    {
     "data": {
      "text/html": [
       "<div>\n",
       "<table border=\"1\" class=\"dataframe\">\n",
       "  <thead>\n",
       "    <tr style=\"text-align: right;\">\n",
       "      <th></th>\n",
       "      <th>total</th>\n",
       "      <th>tag0</th>\n",
       "      <th>tag0/total</th>\n",
       "      <th>tag1</th>\n",
       "      <th>tag1/total</th>\n",
       "      <th>test_total</th>\n",
       "    </tr>\n",
       "  </thead>\n",
       "  <tbody>\n",
       "    <tr>\n",
       "      <th>25.0</th>\n",
       "      <td>336</td>\n",
       "      <td>0.0</td>\n",
       "      <td>0.000000</td>\n",
       "      <td>336</td>\n",
       "      <td>1.000000</td>\n",
       "      <td>0.0</td>\n",
       "    </tr>\n",
       "    <tr>\n",
       "      <th>42.0</th>\n",
       "      <td>95</td>\n",
       "      <td>0.0</td>\n",
       "      <td>0.000000</td>\n",
       "      <td>95</td>\n",
       "      <td>1.000000</td>\n",
       "      <td>0.0</td>\n",
       "    </tr>\n",
       "    <tr>\n",
       "      <th>34.0</th>\n",
       "      <td>110</td>\n",
       "      <td>0.0</td>\n",
       "      <td>0.000000</td>\n",
       "      <td>110</td>\n",
       "      <td>1.000000</td>\n",
       "      <td>0.0</td>\n",
       "    </tr>\n",
       "    <tr>\n",
       "      <th>36.0</th>\n",
       "      <td>81</td>\n",
       "      <td>0.0</td>\n",
       "      <td>0.000000</td>\n",
       "      <td>81</td>\n",
       "      <td>1.000000</td>\n",
       "      <td>0.0</td>\n",
       "    </tr>\n",
       "    <tr>\n",
       "      <th>37.0</th>\n",
       "      <td>109</td>\n",
       "      <td>0.0</td>\n",
       "      <td>0.000000</td>\n",
       "      <td>109</td>\n",
       "      <td>1.000000</td>\n",
       "      <td>0.0</td>\n",
       "    </tr>\n",
       "    <tr>\n",
       "      <th>38.0</th>\n",
       "      <td>128</td>\n",
       "      <td>0.0</td>\n",
       "      <td>0.000000</td>\n",
       "      <td>128</td>\n",
       "      <td>1.000000</td>\n",
       "      <td>0.0</td>\n",
       "    </tr>\n",
       "    <tr>\n",
       "      <th>39.0</th>\n",
       "      <td>40</td>\n",
       "      <td>0.0</td>\n",
       "      <td>0.000000</td>\n",
       "      <td>40</td>\n",
       "      <td>1.000000</td>\n",
       "      <td>0.0</td>\n",
       "    </tr>\n",
       "    <tr>\n",
       "      <th>40.0</th>\n",
       "      <td>44</td>\n",
       "      <td>0.0</td>\n",
       "      <td>0.000000</td>\n",
       "      <td>44</td>\n",
       "      <td>1.000000</td>\n",
       "      <td>0.0</td>\n",
       "    </tr>\n",
       "    <tr>\n",
       "      <th>45.0</th>\n",
       "      <td>102</td>\n",
       "      <td>0.0</td>\n",
       "      <td>0.000000</td>\n",
       "      <td>102</td>\n",
       "      <td>1.000000</td>\n",
       "      <td>0.0</td>\n",
       "    </tr>\n",
       "    <tr>\n",
       "      <th>26.0</th>\n",
       "      <td>151</td>\n",
       "      <td>0.0</td>\n",
       "      <td>0.000000</td>\n",
       "      <td>151</td>\n",
       "      <td>1.000000</td>\n",
       "      <td>0.0</td>\n",
       "    </tr>\n",
       "    <tr>\n",
       "      <th>48.0</th>\n",
       "      <td>71</td>\n",
       "      <td>0.0</td>\n",
       "      <td>0.000000</td>\n",
       "      <td>71</td>\n",
       "      <td>1.000000</td>\n",
       "      <td>0.0</td>\n",
       "    </tr>\n",
       "    <tr>\n",
       "      <th>50.0</th>\n",
       "      <td>103</td>\n",
       "      <td>0.0</td>\n",
       "      <td>0.000000</td>\n",
       "      <td>103</td>\n",
       "      <td>1.000000</td>\n",
       "      <td>0.0</td>\n",
       "    </tr>\n",
       "    <tr>\n",
       "      <th>60.0</th>\n",
       "      <td>70</td>\n",
       "      <td>0.0</td>\n",
       "      <td>0.000000</td>\n",
       "      <td>70</td>\n",
       "      <td>1.000000</td>\n",
       "      <td>0.0</td>\n",
       "    </tr>\n",
       "    <tr>\n",
       "      <th>61.0</th>\n",
       "      <td>61</td>\n",
       "      <td>0.0</td>\n",
       "      <td>0.000000</td>\n",
       "      <td>61</td>\n",
       "      <td>1.000000</td>\n",
       "      <td>0.0</td>\n",
       "    </tr>\n",
       "    <tr>\n",
       "      <th>64.0</th>\n",
       "      <td>66</td>\n",
       "      <td>0.0</td>\n",
       "      <td>0.000000</td>\n",
       "      <td>66</td>\n",
       "      <td>1.000000</td>\n",
       "      <td>0.0</td>\n",
       "    </tr>\n",
       "    <tr>\n",
       "      <th>68.0</th>\n",
       "      <td>71</td>\n",
       "      <td>0.0</td>\n",
       "      <td>0.000000</td>\n",
       "      <td>71</td>\n",
       "      <td>1.000000</td>\n",
       "      <td>0.0</td>\n",
       "    </tr>\n",
       "    <tr>\n",
       "      <th>29.0</th>\n",
       "      <td>65</td>\n",
       "      <td>0.0</td>\n",
       "      <td>0.000000</td>\n",
       "      <td>65</td>\n",
       "      <td>1.000000</td>\n",
       "      <td>0.0</td>\n",
       "    </tr>\n",
       "    <tr>\n",
       "      <th>75.0</th>\n",
       "      <td>83</td>\n",
       "      <td>0.0</td>\n",
       "      <td>0.000000</td>\n",
       "      <td>83</td>\n",
       "      <td>1.000000</td>\n",
       "      <td>0.0</td>\n",
       "    </tr>\n",
       "    <tr>\n",
       "      <th>15.0</th>\n",
       "      <td>1768</td>\n",
       "      <td>65.0</td>\n",
       "      <td>0.036765</td>\n",
       "      <td>1703</td>\n",
       "      <td>0.963235</td>\n",
       "      <td>0.0</td>\n",
       "    </tr>\n",
       "    <tr>\n",
       "      <th>24.0</th>\n",
       "      <td>478</td>\n",
       "      <td>24.0</td>\n",
       "      <td>0.050209</td>\n",
       "      <td>454</td>\n",
       "      <td>0.949791</td>\n",
       "      <td>0.0</td>\n",
       "    </tr>\n",
       "    <tr>\n",
       "      <th>20.0</th>\n",
       "      <td>437</td>\n",
       "      <td>23.0</td>\n",
       "      <td>0.052632</td>\n",
       "      <td>414</td>\n",
       "      <td>0.947368</td>\n",
       "      <td>0.0</td>\n",
       "    </tr>\n",
       "    <tr>\n",
       "      <th>19.0</th>\n",
       "      <td>679</td>\n",
       "      <td>60.0</td>\n",
       "      <td>0.088365</td>\n",
       "      <td>619</td>\n",
       "      <td>0.911635</td>\n",
       "      <td>0.0</td>\n",
       "    </tr>\n",
       "    <tr>\n",
       "      <th>13.0</th>\n",
       "      <td>2932</td>\n",
       "      <td>309.0</td>\n",
       "      <td>0.105389</td>\n",
       "      <td>2623</td>\n",
       "      <td>0.894611</td>\n",
       "      <td>0.0</td>\n",
       "    </tr>\n",
       "    <tr>\n",
       "      <th>12.0</th>\n",
       "      <td>3833</td>\n",
       "      <td>428.0</td>\n",
       "      <td>0.111662</td>\n",
       "      <td>3405</td>\n",
       "      <td>0.888338</td>\n",
       "      <td>0.0</td>\n",
       "    </tr>\n",
       "    <tr>\n",
       "      <th>18.0</th>\n",
       "      <td>894</td>\n",
       "      <td>101.0</td>\n",
       "      <td>0.112975</td>\n",
       "      <td>793</td>\n",
       "      <td>0.887025</td>\n",
       "      <td>0.0</td>\n",
       "    </tr>\n",
       "    <tr>\n",
       "      <th>6.0</th>\n",
       "      <td>14038</td>\n",
       "      <td>1620.0</td>\n",
       "      <td>0.115401</td>\n",
       "      <td>12418</td>\n",
       "      <td>0.884599</td>\n",
       "      <td>19.0</td>\n",
       "    </tr>\n",
       "    <tr>\n",
       "      <th>14.0</th>\n",
       "      <td>2031</td>\n",
       "      <td>242.0</td>\n",
       "      <td>0.119153</td>\n",
       "      <td>1789</td>\n",
       "      <td>0.880847</td>\n",
       "      <td>0.0</td>\n",
       "    </tr>\n",
       "    <tr>\n",
       "      <th>22.0</th>\n",
       "      <td>385</td>\n",
       "      <td>50.0</td>\n",
       "      <td>0.129870</td>\n",
       "      <td>335</td>\n",
       "      <td>0.870130</td>\n",
       "      <td>0.0</td>\n",
       "    </tr>\n",
       "    <tr>\n",
       "      <th>7.0</th>\n",
       "      <td>9868</td>\n",
       "      <td>1319.0</td>\n",
       "      <td>0.133664</td>\n",
       "      <td>8549</td>\n",
       "      <td>0.866336</td>\n",
       "      <td>29.0</td>\n",
       "    </tr>\n",
       "    <tr>\n",
       "      <th>10.0</th>\n",
       "      <td>4853</td>\n",
       "      <td>656.0</td>\n",
       "      <td>0.135174</td>\n",
       "      <td>4197</td>\n",
       "      <td>0.864826</td>\n",
       "      <td>0.0</td>\n",
       "    </tr>\n",
       "    <tr>\n",
       "      <th>9.0</th>\n",
       "      <td>5536</td>\n",
       "      <td>750.0</td>\n",
       "      <td>0.135477</td>\n",
       "      <td>4786</td>\n",
       "      <td>0.864523</td>\n",
       "      <td>10.0</td>\n",
       "    </tr>\n",
       "    <tr>\n",
       "      <th>8.0</th>\n",
       "      <td>6394</td>\n",
       "      <td>879.0</td>\n",
       "      <td>0.137473</td>\n",
       "      <td>5515</td>\n",
       "      <td>0.862527</td>\n",
       "      <td>0.0</td>\n",
       "    </tr>\n",
       "    <tr>\n",
       "      <th>23.0</th>\n",
       "      <td>517</td>\n",
       "      <td>73.0</td>\n",
       "      <td>0.141199</td>\n",
       "      <td>444</td>\n",
       "      <td>0.858801</td>\n",
       "      <td>0.0</td>\n",
       "    </tr>\n",
       "    <tr>\n",
       "      <th>11.0</th>\n",
       "      <td>4475</td>\n",
       "      <td>657.0</td>\n",
       "      <td>0.146816</td>\n",
       "      <td>3818</td>\n",
       "      <td>0.853184</td>\n",
       "      <td>0.0</td>\n",
       "    </tr>\n",
       "    <tr>\n",
       "      <th>33.0</th>\n",
       "      <td>241</td>\n",
       "      <td>36.0</td>\n",
       "      <td>0.149378</td>\n",
       "      <td>205</td>\n",
       "      <td>0.850622</td>\n",
       "      <td>0.0</td>\n",
       "    </tr>\n",
       "    <tr>\n",
       "      <th>16.0</th>\n",
       "      <td>1289</td>\n",
       "      <td>196.0</td>\n",
       "      <td>0.152056</td>\n",
       "      <td>1093</td>\n",
       "      <td>0.847944</td>\n",
       "      <td>0.0</td>\n",
       "    </tr>\n",
       "    <tr>\n",
       "      <th>5.0</th>\n",
       "      <td>22955</td>\n",
       "      <td>3520.0</td>\n",
       "      <td>0.153343</td>\n",
       "      <td>19435</td>\n",
       "      <td>0.846657</td>\n",
       "      <td>219.0</td>\n",
       "    </tr>\n",
       "    <tr>\n",
       "      <th>17.0</th>\n",
       "      <td>1233</td>\n",
       "      <td>199.0</td>\n",
       "      <td>0.161395</td>\n",
       "      <td>1034</td>\n",
       "      <td>0.838605</td>\n",
       "      <td>0.0</td>\n",
       "    </tr>\n",
       "    <tr>\n",
       "      <th>35.0</th>\n",
       "      <td>232</td>\n",
       "      <td>40.0</td>\n",
       "      <td>0.172414</td>\n",
       "      <td>192</td>\n",
       "      <td>0.827586</td>\n",
       "      <td>0.0</td>\n",
       "    </tr>\n",
       "    <tr>\n",
       "      <th>28.0</th>\n",
       "      <td>311</td>\n",
       "      <td>58.0</td>\n",
       "      <td>0.186495</td>\n",
       "      <td>253</td>\n",
       "      <td>0.813505</td>\n",
       "      <td>0.0</td>\n",
       "    </tr>\n",
       "    <tr>\n",
       "      <th>4.0</th>\n",
       "      <td>40268</td>\n",
       "      <td>9352.0</td>\n",
       "      <td>0.232244</td>\n",
       "      <td>30916</td>\n",
       "      <td>0.767756</td>\n",
       "      <td>835.0</td>\n",
       "    </tr>\n",
       "    <tr>\n",
       "      <th>31.0</th>\n",
       "      <td>135</td>\n",
       "      <td>34.0</td>\n",
       "      <td>0.251852</td>\n",
       "      <td>101</td>\n",
       "      <td>0.748148</td>\n",
       "      <td>0.0</td>\n",
       "    </tr>\n",
       "    <tr>\n",
       "      <th>21.0</th>\n",
       "      <td>602</td>\n",
       "      <td>167.0</td>\n",
       "      <td>0.277409</td>\n",
       "      <td>435</td>\n",
       "      <td>0.722591</td>\n",
       "      <td>0.0</td>\n",
       "    </tr>\n",
       "    <tr>\n",
       "      <th>27.0</th>\n",
       "      <td>394</td>\n",
       "      <td>115.0</td>\n",
       "      <td>0.291878</td>\n",
       "      <td>279</td>\n",
       "      <td>0.708122</td>\n",
       "      <td>0.0</td>\n",
       "    </tr>\n",
       "    <tr>\n",
       "      <th>44.0</th>\n",
       "      <td>141</td>\n",
       "      <td>45.0</td>\n",
       "      <td>0.319149</td>\n",
       "      <td>96</td>\n",
       "      <td>0.680851</td>\n",
       "      <td>0.0</td>\n",
       "    </tr>\n",
       "    <tr>\n",
       "      <th>30.0</th>\n",
       "      <td>210</td>\n",
       "      <td>73.0</td>\n",
       "      <td>0.347619</td>\n",
       "      <td>137</td>\n",
       "      <td>0.652381</td>\n",
       "      <td>0.0</td>\n",
       "    </tr>\n",
       "    <tr>\n",
       "      <th>3.0</th>\n",
       "      <td>72430</td>\n",
       "      <td>27800.0</td>\n",
       "      <td>0.383819</td>\n",
       "      <td>44630</td>\n",
       "      <td>0.616181</td>\n",
       "      <td>3753.0</td>\n",
       "    </tr>\n",
       "    <tr>\n",
       "      <th>32.0</th>\n",
       "      <td>173</td>\n",
       "      <td>77.0</td>\n",
       "      <td>0.445087</td>\n",
       "      <td>96</td>\n",
       "      <td>0.554913</td>\n",
       "      <td>0.0</td>\n",
       "    </tr>\n",
       "    <tr>\n",
       "      <th>2.0</th>\n",
       "      <td>146040</td>\n",
       "      <td>84344.0</td>\n",
       "      <td>0.577540</td>\n",
       "      <td>61696</td>\n",
       "      <td>0.422460</td>\n",
       "      <td>19173.0</td>\n",
       "    </tr>\n",
       "    <tr>\n",
       "      <th>1.0</th>\n",
       "      <td>315343</td>\n",
       "      <td>266448.0</td>\n",
       "      <td>0.844947</td>\n",
       "      <td>48895</td>\n",
       "      <td>0.155053</td>\n",
       "      <td>130555.0</td>\n",
       "    </tr>\n",
       "    <tr>\n",
       "      <th>0.0</th>\n",
       "      <td>527297</td>\n",
       "      <td>495303.0</td>\n",
       "      <td>0.939325</td>\n",
       "      <td>31994</td>\n",
       "      <td>0.060675</td>\n",
       "      <td>269135.0</td>\n",
       "    </tr>\n",
       "  </tbody>\n",
       "</table>\n",
       "</div>"
      ],
      "text/plain": [
       "       total      tag0  tag0/total   tag1  tag1/total  test_total\n",
       "25.0     336       0.0    0.000000    336    1.000000         0.0\n",
       "42.0      95       0.0    0.000000     95    1.000000         0.0\n",
       "34.0     110       0.0    0.000000    110    1.000000         0.0\n",
       "36.0      81       0.0    0.000000     81    1.000000         0.0\n",
       "37.0     109       0.0    0.000000    109    1.000000         0.0\n",
       "38.0     128       0.0    0.000000    128    1.000000         0.0\n",
       "39.0      40       0.0    0.000000     40    1.000000         0.0\n",
       "40.0      44       0.0    0.000000     44    1.000000         0.0\n",
       "45.0     102       0.0    0.000000    102    1.000000         0.0\n",
       "26.0     151       0.0    0.000000    151    1.000000         0.0\n",
       "48.0      71       0.0    0.000000     71    1.000000         0.0\n",
       "50.0     103       0.0    0.000000    103    1.000000         0.0\n",
       "60.0      70       0.0    0.000000     70    1.000000         0.0\n",
       "61.0      61       0.0    0.000000     61    1.000000         0.0\n",
       "64.0      66       0.0    0.000000     66    1.000000         0.0\n",
       "68.0      71       0.0    0.000000     71    1.000000         0.0\n",
       "29.0      65       0.0    0.000000     65    1.000000         0.0\n",
       "75.0      83       0.0    0.000000     83    1.000000         0.0\n",
       "15.0    1768      65.0    0.036765   1703    0.963235         0.0\n",
       "24.0     478      24.0    0.050209    454    0.949791         0.0\n",
       "20.0     437      23.0    0.052632    414    0.947368         0.0\n",
       "19.0     679      60.0    0.088365    619    0.911635         0.0\n",
       "13.0    2932     309.0    0.105389   2623    0.894611         0.0\n",
       "12.0    3833     428.0    0.111662   3405    0.888338         0.0\n",
       "18.0     894     101.0    0.112975    793    0.887025         0.0\n",
       "6.0    14038    1620.0    0.115401  12418    0.884599        19.0\n",
       "14.0    2031     242.0    0.119153   1789    0.880847         0.0\n",
       "22.0     385      50.0    0.129870    335    0.870130         0.0\n",
       "7.0     9868    1319.0    0.133664   8549    0.866336        29.0\n",
       "10.0    4853     656.0    0.135174   4197    0.864826         0.0\n",
       "9.0     5536     750.0    0.135477   4786    0.864523        10.0\n",
       "8.0     6394     879.0    0.137473   5515    0.862527         0.0\n",
       "23.0     517      73.0    0.141199    444    0.858801         0.0\n",
       "11.0    4475     657.0    0.146816   3818    0.853184         0.0\n",
       "33.0     241      36.0    0.149378    205    0.850622         0.0\n",
       "16.0    1289     196.0    0.152056   1093    0.847944         0.0\n",
       "5.0    22955    3520.0    0.153343  19435    0.846657       219.0\n",
       "17.0    1233     199.0    0.161395   1034    0.838605         0.0\n",
       "35.0     232      40.0    0.172414    192    0.827586         0.0\n",
       "28.0     311      58.0    0.186495    253    0.813505         0.0\n",
       "4.0    40268    9352.0    0.232244  30916    0.767756       835.0\n",
       "31.0     135      34.0    0.251852    101    0.748148         0.0\n",
       "21.0     602     167.0    0.277409    435    0.722591         0.0\n",
       "27.0     394     115.0    0.291878    279    0.708122         0.0\n",
       "44.0     141      45.0    0.319149     96    0.680851         0.0\n",
       "30.0     210      73.0    0.347619    137    0.652381         0.0\n",
       "3.0    72430   27800.0    0.383819  44630    0.616181      3753.0\n",
       "32.0     173      77.0    0.445087     96    0.554913         0.0\n",
       "2.0   146040   84344.0    0.577540  61696    0.422460     19173.0\n",
       "1.0   315343  266448.0    0.844947  48895    0.155053    130555.0\n",
       "0.0   527297  495303.0    0.939325  31994    0.060675    269135.0"
      ]
     },
     "execution_count": 45,
     "metadata": {},
     "output_type": "execute_result"
    }
   ],
   "source": [
    "temp = train_data01_merge_label_num_of_search_action_count_df.join(\n",
    "    test_data01_merge_label_num_of_search_action_count_df,\n",
    "    how='outer',\n",
    ").fillna(0).sort_values(by='tag1/total',ascending=False)\n",
    "temp['test_total'] = temp['NUM_OF_SEARCH_ACTION']\n",
    "temp = temp.drop(labels = [u'NUM_OF_SEARCH_ACTION'],axis=1)\n",
    "temp"
   ]
  },
  {
   "cell_type": "markdown",
   "metadata": {},
   "source": [
    "### 3-4 代表工单(每个用户只取敏感度最高的订单作为代表工单) &&  添加新字段- ACCEPT_CONTENT_TYPE 的统计情况 添加到代表工单中"
   ]
  },
  {
   "cell_type": "markdown",
   "metadata": {},
   "source": [
    "#### 3-5-1 训练集"
   ]
  },
  {
   "cell_type": "markdown",
   "metadata": {},
   "source": [
    "#### 3-5-1-1 添加字段 IS_HIGHEST_SENSITIVE_ACCEPT_CONTENT_TYPE 是否高敏感工单类型 的工单"
   ]
  },
  {
   "cell_type": "code",
   "execution_count": 20,
   "metadata": {
    "collapsed": false
   },
   "outputs": [
    {
     "name": "stdout",
     "output_type": "stream",
     "text": [
      "CPU times: user 3.04 s, sys: 512 ms, total: 3.56 s\n",
      "Wall time: 31.5 s\n"
     ]
    }
   ],
   "source": [
    "%%time\n",
    "# 新增字段 - 是否高敏感工单\n",
    "data01_appno_contenttype_rdd = \\\n",
    "    sc.parallelize(train_data01_merge_label_df[['APP_NO','CUST_NO','ACCEPT_CONTENT_TYPE']].as_matrix())\n",
    "     \n",
    "user_highest_sensitive_worker_rdd = \\\n",
    "        data01_appno_contenttype_rdd.groupBy(lambda x : x[1]).mapValues(\n",
    "                                lambda x : get_highest_sensitive_workerid(x,\n",
    "                                                                          train_accept_content_type_sensitive_rate_series))\n",
    "\n",
    "user_highest_sensitive_worker_dict = user_highest_sensitive_worker_rdd.collectAsMap()\n",
    "\n",
    "# 新增字段 - 是否高敏感工单\n",
    "is_highest_sensitive_worker_dict = {i:1 for i in user_highest_sensitive_worker_dict.values()}\n",
    "\n",
    "train_data01_merge_label_df['IS_HIGHEST_SENSITIVE_ACCEPT_CONTENT_TYPE'] = \\\n",
    "        train_data01_merge_label_df['APP_NO'].map(is_highest_sensitive_worker_dict)"
   ]
  },
  {
   "cell_type": "markdown",
   "metadata": {},
   "source": [
    "##### 3-5-1-2 生成代表工单 train_data01_a_worker_per_user"
   ]
  },
  {
   "cell_type": "code",
   "execution_count": 21,
   "metadata": {
    "collapsed": false
   },
   "outputs": [
    {
     "data": {
      "text/plain": [
       "(658374, 24)"
      ]
     },
     "execution_count": 21,
     "metadata": {},
     "output_type": "execute_result"
    }
   ],
   "source": [
    "# data01数据的 只留下 每个用户一条最高敏感工单，剩下 658,377条\n",
    "train_data01_a_worker_per_user = \\\n",
    "    train_data01_merge_label_df.loc[train_data01_merge_label_df['IS_HIGHEST_SENSITIVE_ACCEPT_CONTENT_TYPE'].notnull()]\n",
    "train_data01_a_worker_per_user.shape"
   ]
  },
  {
   "cell_type": "code",
   "execution_count": 39,
   "metadata": {
    "collapsed": false
   },
   "outputs": [
    {
     "data": {
      "text/plain": [
       "True"
      ]
     },
     "execution_count": 39,
     "metadata": {},
     "output_type": "execute_result"
    }
   ],
   "source": [
    "len(train_data01_a_worker_per_user['CUST_NO'].unique()) == 658377"
   ]
  },
  {
   "cell_type": "code",
   "execution_count": 18,
   "metadata": {
    "collapsed": true
   },
   "outputs": [
    {
     "name": "stdout",
     "output_type": "stream",
     "text": [
      "              APP_NO                ID  BUSI_TYPE_CODE  URBAN_RURAL_FLAG  \\\n",
      "1   2015101280016722  1000000527203612               3               2.0   \n",
      "6   2015101280031388  1000000527304861               3               1.0   \n",
      "8   2015101280031680  1000000527300870               3               2.0   \n",
      "12  2015101280032506  1000000527305664               3               1.0   \n",
      "13  2015101280032529  1000000527305820               3               2.0   \n",
      "\n",
      "       ORG_NO         HANDLE_TIME                ACCEPT_CONTENT  \\\n",
      "1     3341020  2015/10/12 7:31:50              【银行代扣】客户咨询银行代扣事宜   \n",
      "6     3340901  2015/10/12 9:14:03  【咨询总户号】通过地址（户名、表号）查询户号信息，已告知   \n",
      "8   334020106  2015/10/12 9:11:37        【咨询总户号】通过地址（户名）查询户号信息。   \n",
      "12    3340101  2015/10/12 9:14:48  【咨询总户号】通过地址（户名、表号）查询户号信息，已告知   \n",
      "13  334104001  2015/10/12 9:14:58                  【咨询总户号】中介查户号   \n",
      "\n",
      "   HANDLE_OPINION  CALLING_NO  ELEC_TYPE     CUST_NO  PROV_ORG_NO  \\\n",
      "1             NaN   1196922.0      202.0  5720017228        33101   \n",
      "6             NaN   1005636.0        NaN  7618031763        33101   \n",
      "8             NaN   1073266.0      202.0  1658156188        33101   \n",
      "12            NaN   1433592.0        NaN  3168134368        33101   \n",
      "13            NaN   1058596.0      201.0  5812203341        33101   \n",
      "\n",
      "    CITY_ORG_NO  TAG  NUM_OF_WORKER ACCEPT_CONTENT_TYPE  \\\n",
      "1         33410    0              1                银行代扣   \n",
      "6         33409    0              3               咨询总户号   \n",
      "8         33402    0              1               咨询总户号   \n",
      "12        33401    0              2               咨询总户号   \n",
      "13        33410    0              1               咨询总户号   \n",
      "\n",
      "    IS_HIGHEST_SENSITIVE_ACCEPT_CONTENT_TYPE  \n",
      "1                                        1.0  \n",
      "6                                        1.0  \n",
      "8                                        1.0  \n",
      "12                                       1.0  \n",
      "13                                       1.0  \n",
      "<class 'pandas.core.frame.DataFrame'>\n",
      "Int64Index: 658377 entries, 1 to 1190197\n",
      "Data columns (total 17 columns):\n",
      "APP_NO                                      658377 non-null int64\n",
      "ID                                          658377 non-null int64\n",
      "BUSI_TYPE_CODE                              658377 non-null int64\n",
      "URBAN_RURAL_FLAG                            657794 non-null float64\n",
      "ORG_NO                                      658377 non-null int64\n",
      "HANDLE_TIME                                 658377 non-null object\n",
      "ACCEPT_CONTENT                              658377 non-null object\n",
      "HANDLE_OPINION                              3612 non-null object\n",
      "CALLING_NO                                  653057 non-null float64\n",
      "ELEC_TYPE                                   521153 non-null float64\n",
      "CUST_NO                                     658377 non-null object\n",
      "PROV_ORG_NO                                 658377 non-null int64\n",
      "CITY_ORG_NO                                 658377 non-null int64\n",
      "TAG                                         658377 non-null int64\n",
      "NUM_OF_WORKER                               658377 non-null int64\n",
      "ACCEPT_CONTENT_TYPE                         657662 non-null object\n",
      "IS_HIGHEST_SENSITIVE_ACCEPT_CONTENT_TYPE    658377 non-null float64\n",
      "dtypes: float64(4), int64(8), object(5)\n",
      "memory usage: 90.4+ MB\n",
      "None\n"
     ]
    }
   ],
   "source": [
    "show_df_info(train_data01_a_worker_per_user)"
   ]
  },
  {
   "cell_type": "code",
   "execution_count": 67,
   "metadata": {
    "collapsed": true
   },
   "outputs": [
    {
     "name": "stdout",
     "output_type": "stream",
     "text": [
      "(2,)\n"
     ]
    },
    {
     "data": {
      "text/plain": [
       "0    578352\n",
       "1     80025\n",
       "Name: TAG, dtype: int64"
      ]
     },
     "execution_count": 67,
     "metadata": {},
     "output_type": "execute_result"
    },
    {
     "data": {
      "image/png": "[encoded data removed]",
      "text/plain": [
       "<matplotlib.figure.Figure at 0x7f106a665d10>"
      ]
     },
     "metadata": {},
     "output_type": "display_data"
    }
   ],
   "source": [
    "show_attribute_detail(\n",
    "    train_data01_a_worker_per_user,\n",
    "    'TAG'\n",
    ")"
   ]
  },
  {
   "cell_type": "markdown",
   "metadata": {},
   "source": [
    "##### 3-5-1-3 统计 代表工单 上工单类别的情况"
   ]
  },
  {
   "cell_type": "markdown",
   "metadata": {},
   "source": [
    "###### 统计 代表工单 上所有工单类别的情况"
   ]
  },
  {
   "cell_type": "code",
   "execution_count": 4,
   "metadata": {
    "collapsed": false
   },
   "outputs": [
    {
     "name": "stdout",
     "output_type": "stream",
     "text": [
      "(799, 5)\n"
     ]
    }
   ],
   "source": [
    "# 训练集 代表工单 ACCEPT_CONTENT_TYPE\n",
    "# 有799条工单类型\n",
    "train_data01_a_worker_per_user_accept_content_type_count_df = show_attribute_detail(\n",
    "    train_data01_a_worker_per_user,\n",
    "    'ACCEPT_CONTENT_TYPE',\n",
    "    split_by_tag=True, \n",
    "    tag_name='TAG',\n",
    "    show_pic=False,\n",
    ")"
   ]
  },
  {
   "cell_type": "markdown",
   "metadata": {},
   "source": [
    "###### 统计 经过09表规则 过滤之后的 代表工单 上所有工单类别的情况"
   ]
  },
  {
   "cell_type": "code",
   "execution_count": 30,
   "metadata": {
    "collapsed": false
   },
   "outputs": [
    {
     "name": "stdout",
     "output_type": "stream",
     "text": [
      "(749, 5)\n"
     ]
    }
   ],
   "source": [
    "# 训练集 代表工单 ACCEPT_CONTENT_TYPE\n",
    "# 有749条工单类型\n",
    "train_data01_a_worker_per_user_after09table_accept_content_type_count_df = show_attribute_detail(\n",
    "    train_data01_a_worker_per_user[train_data01_a_worker_per_user['IS_CONNECT_TO_09TABLE']==1],\n",
    "    'ACCEPT_CONTENT_TYPE',\n",
    "    split_by_tag=True, \n",
    "    tag_name='TAG',\n",
    "    show_pic=False,\n",
    ")"
   ]
  },
  {
   "cell_type": "markdown",
   "metadata": {},
   "source": [
    "###### 空工单类型的 用户情况"
   ]
  },
  {
   "cell_type": "code",
   "execution_count": 31,
   "metadata": {
    "collapsed": true
   },
   "outputs": [
    {
     "name": "stdout",
     "output_type": "stream",
     "text": [
      "(2,)\n"
     ]
    },
    {
     "data": {
      "text/plain": [
       "0    495\n",
       "1     71\n",
       "Name: TAG, dtype: int64"
      ]
     },
     "execution_count": 31,
     "metadata": {},
     "output_type": "execute_result"
    },
    {
     "data": {
      "image/png": "[encoded data removed]",
      "text/plain": [
       "<matplotlib.figure.Figure at 0x7f4a34a43e90>"
      ]
     },
     "metadata": {},
     "output_type": "display_data"
    }
   ],
   "source": [
    "# 有715个记录无工单类型\n",
    "show_attribute_detail(\n",
    "    train_data01_a_worker_per_user[train_data01_a_worker_per_user['ACCEPT_CONTENT_TYPE'].isnull()],\n",
    "    'TAG',\n",
    ")"
   ]
  },
  {
   "cell_type": "code",
   "execution_count": 29,
   "metadata": {
    "collapsed": true
   },
   "outputs": [],
   "source": [
    "save_data(\n",
    "    train_data01_a_worker_per_user_accept_content_type_count_df,\n",
    "    'train_accept_content_type_first1.csv',\n",
    "    index=True\n",
    ")"
   ]
  },
  {
   "cell_type": "markdown",
   "metadata": {},
   "source": [
    "#### 3-5-2 测试集"
   ]
  },
  {
   "cell_type": "markdown",
   "metadata": {},
   "source": [
    "##### 3-5-2-1 添加字段 IS_HIGHEST_SENSITIVE_ACCEPT_CONTENT_TYPE 是否高敏感工单类型 的工单"
   ]
  },
  {
   "cell_type": "code",
   "execution_count": 48,
   "metadata": {
    "collapsed": false
   },
   "outputs": [
    {
     "name": "stdout",
     "output_type": "stream",
     "text": [
      "CPU times: user 1.51 s, sys: 176 ms, total: 1.68 s\n",
      "Wall time: 13 s\n"
     ]
    }
   ],
   "source": [
    "%%time\n",
    "# 新增字段 - 是否高敏感工单\n",
    "data01_appno_contenttype_rdd = \\\n",
    "    sc.parallelize(test_data01_merge_label_df[['APP_NO','CUST_NO','ACCEPT_CONTENT_TYPE']].as_matrix())\n",
    "     \n",
    "user_highest_sensitive_worker_rdd = \\\n",
    "        data01_appno_contenttype_rdd.groupBy(lambda x : x[1]).mapValues(\n",
    "                                lambda x : get_highest_sensitive_workerid(x,\n",
    "                                                                          train_accept_content_type_sensitive_rate_series))\n",
    "# is_leave = []\n",
    "user_highest_sensitive_worker_dict = user_highest_sensitive_worker_rdd.collectAsMap()\n",
    "\n",
    "# 新增字段 - 是否高敏感工单\n",
    "is_highest_sensitive_worker_dict = {i:1 for i in user_highest_sensitive_worker_dict.values()}\n",
    "\n",
    "test_data01_merge_label_df['IS_HIGHEST_SENSITIVE_ACCEPT_CONTENT_TYPE'] = \\\n",
    "        test_data01_merge_label_df['APP_NO'].map(is_highest_sensitive_worker_dict)"
   ]
  },
  {
   "cell_type": "markdown",
   "metadata": {},
   "source": [
    "##### 3-5-2-2 生成代表工单 test_data01_a_worker_per_user"
   ]
  },
  {
   "cell_type": "code",
   "execution_count": 49,
   "metadata": {
    "collapsed": false
   },
   "outputs": [
    {
     "data": {
      "text/plain": [
       "(370871, 23)"
      ]
     },
     "execution_count": 49,
     "metadata": {},
     "output_type": "execute_result"
    }
   ],
   "source": [
    "# data01数据的 只留下 每个用户一条最高敏感工单，剩下 370,871条\n",
    "test_data01_a_worker_per_user = \\\n",
    "    test_data01_merge_label_df.loc[test_data01_merge_label_df['IS_HIGHEST_SENSITIVE_ACCEPT_CONTENT_TYPE'].notnull()]\n",
    "test_data01_a_worker_per_user.shape"
   ]
  },
  {
   "cell_type": "code",
   "execution_count": 40,
   "metadata": {
    "collapsed": true
   },
   "outputs": [
    {
     "data": {
      "text/html": [
       "<div>\n",
       "<table border=\"1\" class=\"dataframe\">\n",
       "  <thead>\n",
       "    <tr style=\"text-align: right;\">\n",
       "      <th></th>\n",
       "      <th>APP_NO</th>\n",
       "      <th>ID</th>\n",
       "      <th>BUSI_TYPE_CODE</th>\n",
       "      <th>URBAN_RURAL_FLAG</th>\n",
       "      <th>ORG_NO</th>\n",
       "      <th>HANDLE_TIME</th>\n",
       "      <th>ACCEPT_CONTENT</th>\n",
       "      <th>HANDLE_OPINION</th>\n",
       "      <th>CALLING_NO</th>\n",
       "      <th>ELEC_TYPE</th>\n",
       "      <th>CUST_NO</th>\n",
       "      <th>PROV_ORG_NO</th>\n",
       "      <th>CITY_ORG_NO</th>\n",
       "      <th>ACCEPT_CONTENT_TYPE</th>\n",
       "      <th>IS_HIGHEST_SENSITIVE_ACCEPT_CONTENT_TYPE</th>\n",
       "      <th>HANDLE_HOUR</th>\n",
       "      <th>HANDLE_YEAR</th>\n",
       "      <th>HANDLE_MONTH</th>\n",
       "      <th>HANDLE_DAY</th>\n",
       "    </tr>\n",
       "  </thead>\n",
       "  <tbody>\n",
       "    <tr>\n",
       "      <th>0</th>\n",
       "      <td>2015101280019632</td>\n",
       "      <td>1000000527215943</td>\n",
       "      <td>3</td>\n",
       "      <td>1.0</td>\n",
       "      <td>3340780</td>\n",
       "      <td>2015/10/12 7:58:04</td>\n",
       "      <td>【客户咨询一户无电】建议先自行联系有资质电工排查是否为内部故障，客户接受并表示有其他情况再致电。</td>\n",
       "      <td>NaN</td>\n",
       "      <td>1628699.0</td>\n",
       "      <td>202.0</td>\n",
       "      <td>9400029736</td>\n",
       "      <td>33101</td>\n",
       "      <td>33407</td>\n",
       "      <td>客户咨询一户无电</td>\n",
       "      <td>1.0</td>\n",
       "      <td>7</td>\n",
       "      <td>2015</td>\n",
       "      <td>10</td>\n",
       "      <td>12</td>\n",
       "    </tr>\n",
       "    <tr>\n",
       "      <th>1</th>\n",
       "      <td>2015101280019648</td>\n",
       "      <td>1000000527216033</td>\n",
       "      <td>10</td>\n",
       "      <td>2.0</td>\n",
       "      <td>334066001</td>\n",
       "      <td>2015/10/12 7:58:26</td>\n",
       "      <td>【退订】#2061584501；【退订】#2061584602；【退订】#406091928...</td>\n",
       "      <td>NaN</td>\n",
       "      <td>1260775.0</td>\n",
       "      <td>201.0</td>\n",
       "      <td>6851831254</td>\n",
       "      <td>33101</td>\n",
       "      <td>33406</td>\n",
       "      <td>退订</td>\n",
       "      <td>1.0</td>\n",
       "      <td>7</td>\n",
       "      <td>2015</td>\n",
       "      <td>10</td>\n",
       "      <td>12</td>\n",
       "    </tr>\n",
       "    <tr>\n",
       "      <th>2</th>\n",
       "      <td>2015101280019680</td>\n",
       "      <td>1000000527216202</td>\n",
       "      <td>3</td>\n",
       "      <td>2.0</td>\n",
       "      <td>3340690</td>\n",
       "      <td>2015/10/12 7:58:52</td>\n",
       "      <td>【查询电费】客户查询本月电费，已告知。</td>\n",
       "      <td>NaN</td>\n",
       "      <td>1536321.0</td>\n",
       "      <td>201.0</td>\n",
       "      <td>7312218251</td>\n",
       "      <td>33101</td>\n",
       "      <td>33406</td>\n",
       "      <td>查询电费</td>\n",
       "      <td>1.0</td>\n",
       "      <td>7</td>\n",
       "      <td>2015</td>\n",
       "      <td>10</td>\n",
       "      <td>12</td>\n",
       "    </tr>\n",
       "    <tr>\n",
       "      <th>3</th>\n",
       "      <td>2015101280019873</td>\n",
       "      <td>1000000527218491</td>\n",
       "      <td>3</td>\n",
       "      <td>1.0</td>\n",
       "      <td>3340810</td>\n",
       "      <td>2015/10/12 8:02:53</td>\n",
       "      <td>【咨询总户号】通过地址、户名查询户号信息，已告知</td>\n",
       "      <td>NaN</td>\n",
       "      <td>1576698.0</td>\n",
       "      <td>NaN</td>\n",
       "      <td>3330149860</td>\n",
       "      <td>33101</td>\n",
       "      <td>33408</td>\n",
       "      <td>咨询总户号</td>\n",
       "      <td>1.0</td>\n",
       "      <td>8</td>\n",
       "      <td>2015</td>\n",
       "      <td>10</td>\n",
       "      <td>12</td>\n",
       "    </tr>\n",
       "    <tr>\n",
       "      <th>4</th>\n",
       "      <td>2015101280020130</td>\n",
       "      <td>1000000527221199</td>\n",
       "      <td>1</td>\n",
       "      <td>1.0</td>\n",
       "      <td>3340501</td>\n",
       "      <td>2015/10/12 8:07:10</td>\n",
       "      <td>【设备故障】客户报修此处线路打火，请处理。客户只能提供此地址，烦请电话联系057486581...</td>\n",
       "      <td>NaN</td>\n",
       "      <td>1089990.0</td>\n",
       "      <td>201.0</td>\n",
       "      <td>5210210735</td>\n",
       "      <td>33101</td>\n",
       "      <td>33405</td>\n",
       "      <td>设备故障</td>\n",
       "      <td>1.0</td>\n",
       "      <td>8</td>\n",
       "      <td>2015</td>\n",
       "      <td>10</td>\n",
       "      <td>12</td>\n",
       "    </tr>\n",
       "  </tbody>\n",
       "</table>\n",
       "</div>"
      ],
      "text/plain": [
       "             APP_NO                ID  BUSI_TYPE_CODE  URBAN_RURAL_FLAG  \\\n",
       "0  2015101280019632  1000000527215943               3               1.0   \n",
       "1  2015101280019648  1000000527216033              10               2.0   \n",
       "2  2015101280019680  1000000527216202               3               2.0   \n",
       "3  2015101280019873  1000000527218491               3               1.0   \n",
       "4  2015101280020130  1000000527221199               1               1.0   \n",
       "\n",
       "      ORG_NO         HANDLE_TIME  \\\n",
       "0    3340780  2015/10/12 7:58:04   \n",
       "1  334066001  2015/10/12 7:58:26   \n",
       "2    3340690  2015/10/12 7:58:52   \n",
       "3    3340810  2015/10/12 8:02:53   \n",
       "4    3340501  2015/10/12 8:07:10   \n",
       "\n",
       "                                      ACCEPT_CONTENT HANDLE_OPINION  \\\n",
       "0   【客户咨询一户无电】建议先自行联系有资质电工排查是否为内部故障，客户接受并表示有其他情况再致电。            NaN   \n",
       "1  【退订】#2061584501；【退订】#2061584602；【退订】#406091928...            NaN   \n",
       "2                                【查询电费】客户查询本月电费，已告知。            NaN   \n",
       "3                           【咨询总户号】通过地址、户名查询户号信息，已告知            NaN   \n",
       "4  【设备故障】客户报修此处线路打火，请处理。客户只能提供此地址，烦请电话联系057486581...            NaN   \n",
       "\n",
       "   CALLING_NO  ELEC_TYPE     CUST_NO  PROV_ORG_NO  CITY_ORG_NO  \\\n",
       "0   1628699.0      202.0  9400029736        33101        33407   \n",
       "1   1260775.0      201.0  6851831254        33101        33406   \n",
       "2   1536321.0      201.0  7312218251        33101        33406   \n",
       "3   1576698.0        NaN  3330149860        33101        33408   \n",
       "4   1089990.0      201.0  5210210735        33101        33405   \n",
       "\n",
       "  ACCEPT_CONTENT_TYPE  IS_HIGHEST_SENSITIVE_ACCEPT_CONTENT_TYPE  HANDLE_HOUR  \\\n",
       "0            客户咨询一户无电                                       1.0            7   \n",
       "1                  退订                                       1.0            7   \n",
       "2                查询电费                                       1.0            7   \n",
       "3               咨询总户号                                       1.0            8   \n",
       "4                设备故障                                       1.0            8   \n",
       "\n",
       "   HANDLE_YEAR  HANDLE_MONTH  HANDLE_DAY  \n",
       "0         2015            10          12  \n",
       "1         2015            10          12  \n",
       "2         2015            10          12  \n",
       "3         2015            10          12  \n",
       "4         2015            10          12  "
      ]
     },
     "execution_count": 40,
     "metadata": {},
     "output_type": "execute_result"
    }
   ],
   "source": [
    "test_data01_a_worker_per_user.head()"
   ]
  },
  {
   "cell_type": "markdown",
   "metadata": {},
   "source": [
    "##### 3-5-2-3 统计 代表工单 上所有工单类别的情况"
   ]
  },
  {
   "cell_type": "markdown",
   "metadata": {},
   "source": [
    "###### 统计 代表工单 上所有工单类别的情况"
   ]
  },
  {
   "cell_type": "code",
   "execution_count": 38,
   "metadata": {
    "collapsed": false
   },
   "outputs": [
    {
     "data": {
      "text/plain": [
       "(353, 30)"
      ]
     },
     "execution_count": 38,
     "metadata": {},
     "output_type": "execute_result"
    }
   ],
   "source": [
    "# 无工单类型用户数量有 578 个\n",
    "test_data01_a_worker_per_user[test_data01_a_worker_per_user['ACCEPT_CONTENT_TYPE'].isnull()].shape"
   ]
  },
  {
   "cell_type": "code",
   "execution_count": 35,
   "metadata": {
    "collapsed": false
   },
   "outputs": [
    {
     "name": "stdout",
     "output_type": "stream",
     "text": [
      "(450,)\n"
     ]
    }
   ],
   "source": [
    "# 测试集 代表工单 有工单类型 ACCEPT_CONTENT_TYPE 的统计情况\n",
    "# 总共有 591 个工单类型\n",
    "test_data01_a_worker_per_user_accept_content_type_count_df = show_attribute_detail(\n",
    "    test_data01_a_worker_per_user,\n",
    "    'ACCEPT_CONTENT_TYPE',\n",
    "    show_pic=False,\n",
    ")"
   ]
  },
  {
   "cell_type": "markdown",
   "metadata": {},
   "source": [
    "###### 统计 经过09表规则 过滤之后的 代表工单 上所有工单类别的情况"
   ]
  },
  {
   "cell_type": "code",
   "execution_count": 31,
   "metadata": {
    "collapsed": false
   },
   "outputs": [
    {
     "name": "stdout",
     "output_type": "stream",
     "text": [
      "(450,)\n"
     ]
    }
   ],
   "source": [
    "# 测试集 代表工单 ACCEPT_CONTENT_TYPE\n",
    "# 有450条工单类型\n",
    "\n",
    "test_data01_a_worker_per_user_after09table_accept_content_type_count_df = show_attribute_detail(\n",
    "    test_data01_a_worker_per_user[test_data01_a_worker_per_user['IS_CONNECT_TO_09TABLE']==1],\n",
    "    'ACCEPT_CONTENT_TYPE',\n",
    "    show_pic=False,\n",
    ")"
   ]
  },
  {
   "cell_type": "markdown",
   "metadata": {},
   "source": [
    "###### 保存"
   ]
  },
  {
   "cell_type": "code",
   "execution_count": 34,
   "metadata": {
    "collapsed": false
   },
   "outputs": [],
   "source": [
    "save_data(\n",
    "    test_data01_a_worker_per_user_accept_content_type_count_df,\n",
    "    'test_accept_content_type_first1.csv',\n",
    "    index=True\n",
    ")"
   ]
  },
  {
   "cell_type": "markdown",
   "metadata": {},
   "source": [
    "#### 3-5-3 小结\n",
    "- 在训练集代表工单上，不敏感工单数： 578,352，敏感工单数：80,025，比例为 7.227\n",
    "- 在训练集代表工单上 总共 799 个 工单类型，其余有 715条记录无工单类型（其中不敏感用户：644,敏感：71）\n",
    "- 在测试集代表工单上 总共 591 个 工单类型, 其余有 578条记录无工单类型\n"
   ]
  },
  {
   "cell_type": "markdown",
   "metadata": {},
   "source": [
    "#### 3-5-4 合并 训练集和测试集的 代表工单 的 工单处理内容类型 的 统计情况"
   ]
  },
  {
   "cell_type": "markdown",
   "metadata": {},
   "source": [
    "##### 3-5-4-1 训练集和测试集的 工单处理内容类型 连接"
   ]
  },
  {
   "cell_type": "code",
   "execution_count": 36,
   "metadata": {
    "collapsed": true
   },
   "outputs": [
    {
     "name": "stdout",
     "output_type": "stream",
     "text": [
      "                  total   tag1  tag1/total     tag0  tag0/total  test_total\n",
      "2户无电                1.0    0.0    0.000000      1.0    1.000000         1.0\n",
      "4404072760回呼电话      1.0    1.0    1.000000      0.0    0.000000         0.0\n",
      "APP                 1.0    0.0    0.000000      1.0    1.000000         0.0\n",
      "一户报修                1.0    1.0    1.000000      0.0    0.000000         0.0\n",
      "一户无电            23287.0  148.0    0.006355  23139.0    0.993645     13158.0\n",
      "<class 'pandas.core.frame.DataFrame'>\n",
      "Index: 827 entries, 2户无电 to 验表超时\n",
      "Data columns (total 6 columns):\n",
      "total         827 non-null float64\n",
      "tag1          827 non-null float64\n",
      "tag1/total    827 non-null float64\n",
      "tag0          827 non-null float64\n",
      "tag0/total    827 non-null float64\n",
      "test_total    827 non-null float64\n",
      "dtypes: float64(6)\n",
      "memory usage: 45.2+ KB\n",
      "None\n"
     ]
    }
   ],
   "source": [
    "# 训练集和测试集的 工单处理内容类型 连接\n",
    "train_test_a_worker_per_user_accept_content_type_count_df = \\\n",
    "    train_data01_a_worker_per_user_accept_content_type_count_df.join(\n",
    "        test_data01_a_worker_per_user_accept_content_type_count_df,\n",
    "        how='outer',\n",
    "    )\n",
    "# 更改字段名\n",
    "train_test_a_worker_per_user_accept_content_type_count_df['test_total'] = \\\n",
    "    train_test_a_worker_per_user_accept_content_type_count_df['ACCEPT_CONTENT_TYPE']\n",
    "train_test_a_worker_per_user_accept_content_type_count_df = \\\n",
    "    train_test_a_worker_per_user_accept_content_type_count_df.drop(['ACCEPT_CONTENT_TYPE'], axis=1)\n",
    "# 将空值 填充为 0\n",
    "train_test_a_worker_per_user_accept_content_type_count_df = \\\n",
    "    train_test_a_worker_per_user_accept_content_type_count_df.fillna(0)\n",
    "# 总共951个工单类型\n",
    "show_df_info(train_test_a_worker_per_user_accept_content_type_count_df)"
   ]
  },
  {
   "cell_type": "code",
   "execution_count": 32,
   "metadata": {
    "collapsed": false
   },
   "outputs": [
    {
     "name": "stdout",
     "output_type": "stream",
     "text": [
      "                  total   tag1  tag1/total     tag0  tag0/total  test_total\n",
      "2户无电                1.0    0.0    0.000000      1.0    1.000000         1.0\n",
      "4404072760回呼电话      1.0    1.0    1.000000      0.0    0.000000         0.0\n",
      "APP                 1.0    0.0    0.000000      1.0    1.000000         0.0\n",
      "一户报修                1.0    1.0    1.000000      0.0    0.000000         0.0\n",
      "一户无电            23287.0  148.0    0.006355  23139.0    0.993645     13158.0\n",
      "<class 'pandas.core.frame.DataFrame'>\n",
      "Index: 827 entries, 2户无电 to 验表超时\n",
      "Data columns (total 6 columns):\n",
      "total         827 non-null float64\n",
      "tag1          827 non-null float64\n",
      "tag1/total    827 non-null float64\n",
      "tag0          827 non-null float64\n",
      "tag0/total    827 non-null float64\n",
      "test_total    827 non-null float64\n",
      "dtypes: float64(6)\n",
      "memory usage: 45.2+ KB\n",
      "None\n"
     ]
    }
   ],
   "source": [
    "# 训练集和测试集的 工单处理内容类型 连接\n",
    "train_test_data01_a_worker_per_user_after09table_accept_content_type_count_df = \\\n",
    "    train_data01_a_worker_per_user_after09table_accept_content_type_count_df.join(\n",
    "        test_data01_a_worker_per_user_after09table_accept_content_type_count_df,\n",
    "        how='outer',\n",
    "    )\n",
    "# 更改字段名\n",
    "train_test_data01_a_worker_per_user_after09table_accept_content_type_count_df['test_total'] = \\\n",
    "    train_test_data01_a_worker_per_user_after09table_accept_content_type_count_df['ACCEPT_CONTENT_TYPE']\n",
    "train_test_data01_a_worker_per_user_after09table_accept_content_type_count_df = \\\n",
    "    train_test_data01_a_worker_per_user_after09table_accept_content_type_count_df.drop(['ACCEPT_CONTENT_TYPE'], axis=1)\n",
    "# 将空值 填充为 0\n",
    "train_test_data01_a_worker_per_user_after09table_accept_content_type_count_df = \\\n",
    "    train_test_data01_a_worker_per_user_after09table_accept_content_type_count_df.fillna(0)\n",
    "# 总共951个工单类型\n",
    "show_df_info(train_test_data01_a_worker_per_user_after09table_accept_content_type_count_df)"
   ]
  },
  {
   "cell_type": "code",
   "execution_count": 33,
   "metadata": {
    "collapsed": true
   },
   "outputs": [
    {
     "name": "stdout",
     "output_type": "stream",
     "text": [
      "                total  tag0  tag0/total  tag1  tag1/total  test_total\n",
      "2户无电              3.0   3.0         1.0   0.0         0.0         1.0\n",
      "4404072760回呼电话    1.0   0.0         0.0   1.0         1.0         0.0\n",
      "APP               1.0   1.0         1.0   0.0         0.0         1.0\n",
      "一户停电              1.0   1.0         1.0   0.0         0.0         0.0\n",
      "一户报修              1.0   0.0         0.0   1.0         1.0         0.0\n",
      "<class 'pandas.core.frame.DataFrame'>\n",
      "Index: 951 entries, 2户无电 to 验表超时\n",
      "Data columns (total 6 columns):\n",
      "total         951 non-null float64\n",
      "tag0          951 non-null float64\n",
      "tag0/total    951 non-null float64\n",
      "tag1          951 non-null float64\n",
      "tag1/total    951 non-null float64\n",
      "test_total    951 non-null float64\n",
      "dtypes: float64(6)\n",
      "memory usage: 52.0+ KB\n",
      "None\n"
     ]
    }
   ],
   "source": [
    "show_df_info(train_test_a_worker_per_user_accept_content_type_count_df)"
   ]
  },
  {
   "cell_type": "markdown",
   "metadata": {},
   "source": [
    "##### 3-5-4-2 保存到文件"
   ]
  },
  {
   "cell_type": "code",
   "execution_count": 22,
   "metadata": {
    "collapsed": true
   },
   "outputs": [
    {
     "ename": "NameError",
     "evalue": "name 'train_test_a_worker_per_user_accept_content_type_count_df' is not defined",
     "output_type": "error",
     "traceback": [
      "\u001b[0;31m---------------------------------------------------------------------------\u001b[0m",
      "\u001b[0;31mNameError\u001b[0m                                 Traceback (most recent call last)",
      "\u001b[0;32m<ipython-input-22-dd420e9e5966>\u001b[0m in \u001b[0;36m<module>\u001b[0;34m()\u001b[0m\n\u001b[0;32m----> 1\u001b[0;31m save_data(train_test_a_worker_per_user_accept_content_type_count_df,\n\u001b[0m\u001b[1;32m      2\u001b[0m           \u001b[0;34m'train&test_a_worker_per_user_accept_content_type_first1-20161206.csv'\u001b[0m\u001b[0;34m,\u001b[0m\u001b[0;34m\u001b[0m\u001b[0m\n\u001b[1;32m      3\u001b[0m           \u001b[0mindex\u001b[0m\u001b[0;34m=\u001b[0m\u001b[0mTrue\u001b[0m\u001b[0;34m\u001b[0m\u001b[0m\n\u001b[1;32m      4\u001b[0m          )\n",
      "\u001b[0;31mNameError\u001b[0m: name 'train_test_a_worker_per_user_accept_content_type_count_df' is not defined"
     ]
    },
    {
     "name": "stdout",
     "output_type": "stream",
     "text": [
      "> \u001b[0;32m<ipython-input-22-dd420e9e5966>\u001b[0m(1)\u001b[0;36m<module>\u001b[0;34m()\u001b[0m\n",
      "\u001b[0;32m----> 1 \u001b[0;31msave_data(train_test_a_worker_per_user_accept_content_type_count_df,\n",
      "\u001b[0m\u001b[0;32m      2 \u001b[0;31m          \u001b[0;34m'train&test_a_worker_per_user_accept_content_type_first1-20161206.csv'\u001b[0m\u001b[0;34m,\u001b[0m\u001b[0;34m\u001b[0m\u001b[0m\n",
      "\u001b[0m\u001b[0;32m      3 \u001b[0;31m          \u001b[0mindex\u001b[0m\u001b[0;34m=\u001b[0m\u001b[0mTrue\u001b[0m\u001b[0;34m\u001b[0m\u001b[0m\n",
      "\u001b[0m\u001b[0;32m      4 \u001b[0;31m         )\n",
      "\u001b[0m\n",
      "ipdb> q\n"
     ]
    }
   ],
   "source": [
    "save_data(train_test_a_worker_per_user_accept_content_type_count_df,\n",
    "          'train&test_a_worker_per_user_accept_content_type_first1-20161206.csv',\n",
    "          index=True\n",
    "         )"
   ]
  },
  {
   "cell_type": "code",
   "execution_count": 23,
   "metadata": {
    "collapsed": false
   },
   "outputs": [],
   "source": [
    "save_data(train_test_data01_a_worker_per_user_after09table_accept_content_type_count_df,\n",
    "          'train&test_a_worker_per_user_after09table_accept_content_type_first1-20161206.csv',\n",
    "          index=True\n",
    "         )"
   ]
  },
  {
   "cell_type": "code",
   "execution_count": 13,
   "metadata": {
    "collapsed": false
   },
   "outputs": [
    {
     "data": {
      "text/plain": [
       "(827, 6)"
      ]
     },
     "execution_count": 13,
     "metadata": {},
     "output_type": "execute_result"
    }
   ],
   "source": [
    "train_test_data01_a_worker_per_user_after09table_accept_content_type_count_df.shape"
   ]
  },
  {
   "cell_type": "markdown",
   "metadata": {},
   "source": [
    "##### 3-5-4-3 直接从文件中加载 ACCEPT_CONTENT_TYPE 的统计情况， train_test_a_worker_per_user_accept_content_type_count_df"
   ]
  },
  {
   "cell_type": "code",
   "execution_count": 52,
   "metadata": {
    "collapsed": true
   },
   "outputs": [],
   "source": [
    "train_test_a_worker_per_user_accept_content_type_count_df = \\\n",
    "    load_data(\n",
    "#         'train&test_a_worker_per_user_accept_content_type_first1-20161204.csv',\n",
    "        'train&test_a_worker_per_user_accept_content_type_first1-20161206.csv',\n",
    "        encoding='utf8')\n",
    "    \n",
    "train_test_a_worker_per_user_accept_content_type_count_df.columns = ['ACCEPT_CONTENT_TYPE',\n",
    "                                                                   'total',\n",
    "                                                                   'tag0',\n",
    "                                                                   'tag0/total',\n",
    "                                                                   'tag1',\n",
    "                                                                   'tag1/total',\n",
    "                                                                   'test_total'\n",
    "                                                                  ]"
   ]
  },
  {
   "cell_type": "code",
   "execution_count": 27,
   "metadata": {
    "collapsed": true
   },
   "outputs": [],
   "source": [
    "train_test_data01_a_worker_per_user_after09table_accept_content_type_count_df = \\\n",
    "    load_data(\n",
    "        'train&test_a_worker_per_user_after09table_accept_content_type_first1-20161206.csv',\n",
    "        encoding='utf8')\n",
    "\n",
    "train_test_data01_a_worker_per_user_after09table_accept_content_type_count_df.columns = ['ACCEPT_CONTENT_TYPE',\n",
    "                                                                   'total_after09table',\n",
    "                                                                   'tag1_after09table',\n",
    "                                                                   'tag1/total_after09table',\n",
    "                                                                   'tag0_after09table',\n",
    "                                                                   'tag0/total_after09table',\n",
    "                                                                   'test_total_after09table'\n",
    "                                                                  ]"
   ]
  },
  {
   "cell_type": "markdown",
   "metadata": {},
   "source": [
    "##### 3-5-4-4 添加新字段： ACCEPT_CONTENT_TYPE 的统计情况 添加到 train_data01_a_worker_per_user \n",
    "##### 以及 test_data01_a_worker_per_user 中"
   ]
  },
  {
   "cell_type": "code",
   "execution_count": 53,
   "metadata": {
    "collapsed": false
   },
   "outputs": [],
   "source": [
    "train_data01_a_worker_per_user = train_data01_a_worker_per_user.merge(\n",
    "                                train_test_a_worker_per_user_accept_content_type_count_df,\n",
    "                                how='left',\n",
    "                                on = 'ACCEPT_CONTENT_TYPE'\n",
    "                               )"
   ]
  },
  {
   "cell_type": "code",
   "execution_count": 54,
   "metadata": {
    "collapsed": false
   },
   "outputs": [],
   "source": [
    "test_data01_a_worker_per_user = test_data01_a_worker_per_user.merge(\n",
    "                                train_test_a_worker_per_user_accept_content_type_count_df,\n",
    "                                how='left',\n",
    "                                on = 'ACCEPT_CONTENT_TYPE'\n",
    "                               )"
   ]
  },
  {
   "cell_type": "code",
   "execution_count": 34,
   "metadata": {
    "collapsed": false
   },
   "outputs": [],
   "source": [
    "train_data01_a_worker_per_user = train_data01_a_worker_per_user.merge(\n",
    "                                train_test_data01_a_worker_per_user_after09table_accept_content_type_count_df,\n",
    "                                how='left',\n",
    "                                on = 'ACCEPT_CONTENT_TYPE'\n",
    "                               )"
   ]
  },
  {
   "cell_type": "code",
   "execution_count": 28,
   "metadata": {
    "collapsed": false
   },
   "outputs": [],
   "source": [
    "test_data01_a_worker_per_user = test_data01_a_worker_per_user.merge(\n",
    "                                train_test_data01_a_worker_per_user_after09table_accept_content_type_count_df,\n",
    "                                how='left',\n",
    "                                on = 'ACCEPT_CONTENT_TYPE'\n",
    "                               )"
   ]
  },
  {
   "cell_type": "code",
   "execution_count": 29,
   "metadata": {
    "collapsed": true
   },
   "outputs": [
    {
     "data": {
      "text/plain": [
       "APP_NO                                                                      2015101280019632\n",
       "ID                                                                          1000000527215943\n",
       "BUSI_TYPE_CODE                                                                             3\n",
       "URBAN_RURAL_FLAG                                                                           1\n",
       "ORG_NO                                                                               3340780\n",
       "HANDLE_TIME                                                               2015/10/12 7:58:04\n",
       "ACCEPT_CONTENT                              【客户咨询一户无电】建议先自行联系有资质电工排查是否为内部故障，客户接受并表示有其他情况再致电。\n",
       "HANDLE_OPINION                                                                           NaN\n",
       "CALLING_NO                                                                        1.6287e+06\n",
       "ELEC_TYPE                                                                                202\n",
       "CUST_NO                                                                           9400029736\n",
       "PROV_ORG_NO                                                                            33101\n",
       "CITY_ORG_NO                                                                            33407\n",
       "NUM_OF_WORKER                                                                              1\n",
       "ACCEPT_CONTENT_TYPE                                                                 客户咨询一户无电\n",
       "IS_SEARCH_ACTION                                                                           0\n",
       "NUM_OF_SEARCH_ACTION                                                                       0\n",
       "IS_HIGHEST_SENSITIVE_ACCEPT_CONTENT_TYPE                                                   1\n",
       "HANDLE_HOUR                                                                                7\n",
       "HANDLE_YEAR                                                                             2015\n",
       "HANDLE_MONTH                                                                              10\n",
       "HANDLE_DAY                                                                                12\n",
       "NUM_OF_IN_SEASON4                                                                          1\n",
       "total                                                                                  13683\n",
       "tag0                                                                                   13671\n",
       "tag0/total                                                                          0.999123\n",
       "tag1                                                                                      12\n",
       "tag1/total                                                                       0.000877001\n",
       "test_total                                                                              8419\n",
       "IS_CONNECT_TO_09TABLE                                                                      1\n",
       "total_after09table                                                                     10760\n",
       "tag1_after09table                                                                         12\n",
       "tag1/total_after09table                                                           0.00111524\n",
       "tag0_after09table                                                                      10748\n",
       "tag0/total_after09table                                                             0.998885\n",
       "test_total_after09table                                                                 4454\n",
       "Name: 0, dtype: object"
      ]
     },
     "execution_count": 29,
     "metadata": {},
     "output_type": "execute_result"
    }
   ],
   "source": [
    "test_data01_a_worker_per_user.iloc[0]"
   ]
  },
  {
   "cell_type": "markdown",
   "metadata": {
    "collapsed": false
   },
   "source": [
    "### 3-6 业务类型编码 BUSI_TYPE_CODE\n"
   ]
  },
  {
   "cell_type": "markdown",
   "metadata": {},
   "source": [
    "#### 3-7-1所有工单下"
   ]
  },
  {
   "cell_type": "markdown",
   "metadata": {},
   "source": [
    "#### 3-7-1-1 训练集"
   ]
  },
  {
   "cell_type": "code",
   "execution_count": 21,
   "metadata": {
    "collapsed": false
   },
   "outputs": [
    {
     "name": "stdout",
     "output_type": "stream",
     "text": [
      "(0, 16)\n"
     ]
    }
   ],
   "source": [
    "# 当该字段为空情况下，有 0个工单\n",
    "print train_data01_merge_label_df.loc[train_data01_merge_label_df['BUSI_TYPE_CODE'].isnull()].shape"
   ]
  },
  {
   "cell_type": "code",
   "execution_count": 24,
   "metadata": {
    "collapsed": false
   },
   "outputs": [
    {
     "data": {
      "text/plain": [
       "10"
      ]
     },
     "execution_count": 24,
     "metadata": {},
     "output_type": "execute_result"
    }
   ],
   "source": [
    "len(train_data01_merge_label_df['BUSI_TYPE_CODE'].unique())"
   ]
  },
  {
   "cell_type": "code",
   "execution_count": 30,
   "metadata": {
    "collapsed": true
   },
   "outputs": [
    {
     "name": "stdout",
     "output_type": "stream",
     "text": [
      "(10, 5)\n"
     ]
    },
    {
     "data": {
      "image/png": "[encoded data removed]",
      "text/plain": [
       "<matplotlib.figure.Figure at 0x7fee400fd1d0>"
      ]
     },
     "metadata": {},
     "output_type": "display_data"
    }
   ],
   "source": [
    "train_data01_merge_label_busi_type_code_count_df = \\\n",
    "    show_attribute_detail(train_data01_merge_label_df,'BUSI_TYPE_CODE',split_by_tag=True,tag_name='TAG')"
   ]
  },
  {
   "cell_type": "markdown",
   "metadata": {},
   "source": [
    "##### 3-7-1-2 测试集"
   ]
  },
  {
   "cell_type": "code",
   "execution_count": 26,
   "metadata": {
    "collapsed": true
   },
   "outputs": [
    {
     "name": "stdout",
     "output_type": "stream",
     "text": [
      "(0, 15)\n"
     ]
    }
   ],
   "source": [
    "# 当该字段为空情况下，有 0个工单\n",
    "print test_data01_merge_label_df.loc[test_data01_merge_label_df['BUSI_TYPE_CODE'].isnull()].shape"
   ]
  },
  {
   "cell_type": "code",
   "execution_count": 31,
   "metadata": {
    "collapsed": true
   },
   "outputs": [
    {
     "name": "stdout",
     "output_type": "stream",
     "text": [
      "(10,)\n"
     ]
    },
    {
     "data": {
      "image/png": "[encoded data removed]",
      "text/plain": [
       "<matplotlib.figure.Figure at 0x7fee6f074e50>"
      ]
     },
     "metadata": {},
     "output_type": "display_data"
    }
   ],
   "source": [
    "test_data01_merge_label_busi_type_code_count_df = \\\n",
    "    show_attribute_detail(test_data01_merge_label_df,'BUSI_TYPE_CODE')"
   ]
  },
  {
   "cell_type": "markdown",
   "metadata": {},
   "source": [
    "##### 3-7-1-3 合并结果"
   ]
  },
  {
   "cell_type": "code",
   "execution_count": 32,
   "metadata": {
    "collapsed": false
   },
   "outputs": [
    {
     "name": "stdout",
     "output_type": "stream",
     "text": [
      "所有工单 - 业务类型编码 BUSI_TYPE_CODE\n",
      "      total    tag0  tag0/total    tag1  tag1/total  test_total\n",
      "15     4286    1592    0.371442    2694    0.628558         506\n",
      "5      2339     943    0.403164    1396    0.596836         762\n",
      "18    12982    8923    0.687336    4059    0.312664        4857\n",
      "3   1027793  753862    0.733476  273931    0.266524      347084\n",
      "7        85      67    0.788235      18    0.211765          24\n",
      "8       147     121    0.823129      26    0.176871          50\n",
      "9     25230   21934    0.869362    3296    0.130638       10085\n",
      "6       187     167    0.893048      20    0.106952          80\n",
      "10    33498   30322    0.905188    3176    0.094812       18535\n",
      "1     83651   77132    0.922069    6519    0.077931       41745\n"
     ]
    }
   ],
   "source": [
    "temp = train_data01_merge_label_busi_type_code_count_df.join(\n",
    "    test_data01_merge_label_busi_type_code_count_df,\n",
    "    how='outer',\n",
    ").fillna(0).sort_values(by='tag1/total',ascending=False)\n",
    "temp['test_total'] = temp['BUSI_TYPE_CODE']\n",
    "temp = temp.drop(labels = [u'BUSI_TYPE_CODE'],axis=1)\n",
    "print '所有工单 - 业务类型编码 BUSI_TYPE_CODE'\n",
    "print temp"
   ]
  },
  {
   "cell_type": "markdown",
   "metadata": {},
   "source": [
    "#### 3-7-2 代表工单下"
   ]
  },
  {
   "cell_type": "markdown",
   "metadata": {},
   "source": [
    "##### 3-7-2-1 训练集"
   ]
  },
  {
   "cell_type": "code",
   "execution_count": 33,
   "metadata": {
    "collapsed": false
   },
   "outputs": [
    {
     "name": "stdout",
     "output_type": "stream",
     "text": [
      "(0, 16)\n"
     ]
    }
   ],
   "source": [
    "# 当该字段为空情况下，有 0个工单\n",
    "print train_data01_a_worker_per_user.loc[train_data01_a_worker_per_user['BUSI_TYPE_CODE'].isnull()].shape"
   ]
  },
  {
   "cell_type": "code",
   "execution_count": 39,
   "metadata": {
    "collapsed": true
   },
   "outputs": [
    {
     "name": "stdout",
     "output_type": "stream",
     "text": [
      "(10, 5)\n"
     ]
    },
    {
     "data": {
      "image/png": "[encoded data removed]",
      "text/plain": [
       "<matplotlib.figure.Figure at 0x7fee4b0f08d0>"
      ]
     },
     "metadata": {},
     "output_type": "display_data"
    }
   ],
   "source": [
    "# 当该字段为不空情况下\n",
    "train_data01_a_worker_per_user_busi_type_code_count_df = \\\n",
    "    show_attribute_detail(train_data01_a_worker_per_user,'BUSI_TYPE_CODE',split_by_tag=True,tag_name='TAG')"
   ]
  },
  {
   "cell_type": "markdown",
   "metadata": {},
   "source": [
    "##### 3-7-2-2 测试集"
   ]
  },
  {
   "cell_type": "code",
   "execution_count": 35,
   "metadata": {
    "collapsed": false
   },
   "outputs": [
    {
     "name": "stdout",
     "output_type": "stream",
     "text": [
      "(0, 15)\n"
     ]
    }
   ],
   "source": [
    "# 当该字段为空情况下，有 0个工单\n",
    "print test_data01_a_worker_per_user.loc[test_data01_a_worker_per_user['BUSI_TYPE_CODE'].isnull()].shape"
   ]
  },
  {
   "cell_type": "code",
   "execution_count": 40,
   "metadata": {
    "collapsed": true
   },
   "outputs": [
    {
     "name": "stdout",
     "output_type": "stream",
     "text": [
      "(10,)\n"
     ]
    },
    {
     "data": {
      "image/png": "[encoded data removed]",
      "text/plain": [
       "<matplotlib.figure.Figure at 0x7fee465bad90>"
      ]
     },
     "metadata": {},
     "output_type": "display_data"
    }
   ],
   "source": [
    "test_data01_a_worker_per_user_busi_type_code_count_df = \\\n",
    "    show_attribute_detail(test_data01_a_worker_per_user,'BUSI_TYPE_CODE')"
   ]
  },
  {
   "cell_type": "markdown",
   "metadata": {},
   "source": [
    "##### 3-7-2-3 合并结果"
   ]
  },
  {
   "cell_type": "code",
   "execution_count": 41,
   "metadata": {
    "collapsed": true
   },
   "outputs": [
    {
     "name": "stdout",
     "output_type": "stream",
     "text": [
      "代表工单 -业务类型编码 BUSI_TYPE_CODE\n",
      "     total    tag0  tag0/total   tag1  tag1/total  test_total\n",
      "15    3456    1245    0.360243   2211    0.639757         455\n",
      "5     1905     754    0.395801   1151    0.604199         724\n",
      "18    7838    5834    0.744323   2004    0.255677        4231\n",
      "3   560528  487620    0.869930  72908    0.130070      303447\n",
      "7       49      47    0.959184      2    0.040816          24\n",
      "8       75      72    0.960000      3    0.040000          40\n",
      "10   23261   22451    0.965178    810    0.034822       16979\n",
      "9    11771   11477    0.975023    294    0.024977        8242\n",
      "6       82      80    0.975610      2    0.024390          74\n",
      "1    49412   48772    0.987048    640    0.012952       36655\n"
     ]
    }
   ],
   "source": [
    "temp = train_data01_a_worker_per_user_busi_type_code_count_df.join(\n",
    "    test_data01_a_worker_per_user_busi_type_code_count_df,\n",
    "    how='outer',\n",
    ").fillna(0).sort_values(by='tag1/total',ascending=False)\n",
    "temp['test_total'] = temp['BUSI_TYPE_CODE']\n",
    "temp = temp.drop(labels = [u'BUSI_TYPE_CODE'],axis=1)\n",
    "print '代表工单 -业务类型编码 BUSI_TYPE_CODE'\n",
    "print temp"
   ]
  },
  {
   "cell_type": "markdown",
   "metadata": {
    "collapsed": false
   },
   "source": [
    "##### 业务类型编码 初步结论\n",
    "- 类型    15、5（投诉）               可能有价值，因为 敏感度最高\n",
    "- 类型    1（故障报修）、10（订阅信息）  可能有价值，因为 不敏感度最高\n"
   ]
  },
  {
   "cell_type": "markdown",
   "metadata": {},
   "source": [
    "### 3-6 所属省（市）公司供电单位编码 PROV_ORG_NO"
   ]
  },
  {
   "cell_type": "code",
   "execution_count": null,
   "metadata": {
    "collapsed": true
   },
   "outputs": [],
   "source": [
    "show_attribute_detail(data01_train_merge_label_df,'PROV_ORG_NO',split_by_tag=True,tag_name='TAG')"
   ]
  },
  {
   "cell_type": "code",
   "execution_count": null,
   "metadata": {
    "collapsed": true
   },
   "outputs": [],
   "source": [
    "len(data01_train_merge_label_df['PROV_ORG_NO'].unique())"
   ]
  },
  {
   "cell_type": "markdown",
   "metadata": {},
   "source": [
    "###### 小结\n",
    "- 所有工单都是一个单位编号，价值不大"
   ]
  },
  {
   "cell_type": "markdown",
   "metadata": {},
   "source": [
    "### 3-7 所属市（区）公司供电单位编码 CITY_ORG_NO"
   ]
  },
  {
   "cell_type": "markdown",
   "metadata": {},
   "source": [
    "#### 3-7-1所有工单下"
   ]
  },
  {
   "cell_type": "markdown",
   "metadata": {},
   "source": [
    "#### 3-7-1-1 训练集"
   ]
  },
  {
   "cell_type": "code",
   "execution_count": 80,
   "metadata": {
    "collapsed": false
   },
   "outputs": [
    {
     "name": "stdout",
     "output_type": "stream",
     "text": [
      "(0, 16)\n"
     ]
    }
   ],
   "source": [
    "# 当该字段为空情况下，有 0个工单\n",
    "print train_data01_merge_label_df.loc[train_data01_merge_label_df['CITY_ORG_NO'].isnull()].shape"
   ]
  },
  {
   "cell_type": "code",
   "execution_count": null,
   "metadata": {
    "collapsed": true
   },
   "outputs": [],
   "source": [
    "show_attribute_detail(data01_train_merge_label_df,'CITY_ORG_NO',split_by_tag=True,tag_name='TAG')"
   ]
  },
  {
   "cell_type": "code",
   "execution_count": null,
   "metadata": {
    "collapsed": false
   },
   "outputs": [],
   "source": [
    "len(data01_train_merge_label_df['CITY_ORG_NO'].unique())"
   ]
  },
  {
   "cell_type": "code",
   "execution_count": 81,
   "metadata": {
    "collapsed": true
   },
   "outputs": [
    {
     "name": "stdout",
     "output_type": "stream",
     "text": [
      "(12, 5)\n"
     ]
    },
    {
     "data": {
      "image/png": "[encoded data removed]",
      "text/plain": [
       "<matplotlib.figure.Figure at 0x7f420e366690>"
      ]
     },
     "metadata": {},
     "output_type": "display_data"
    }
   ],
   "source": [
    "train_data01_merge_label_city_org_no_count_df = \\\n",
    "    show_attribute_detail(train_data01_merge_label_df,'CITY_ORG_NO',split_by_tag=True,tag_name='TAG')"
   ]
  },
  {
   "cell_type": "markdown",
   "metadata": {},
   "source": [
    "##### 3-7-1-2 测试集"
   ]
  },
  {
   "cell_type": "code",
   "execution_count": 82,
   "metadata": {
    "collapsed": false
   },
   "outputs": [
    {
     "name": "stdout",
     "output_type": "stream",
     "text": [
      "(0, 15)\n"
     ]
    }
   ],
   "source": [
    "# 当该字段为空情况下，有 0个工单\n",
    "print test_data01_merge_label_df.loc[test_data01_merge_label_df['CITY_ORG_NO'].isnull()].shape"
   ]
  },
  {
   "cell_type": "code",
   "execution_count": 83,
   "metadata": {
    "collapsed": true
   },
   "outputs": [
    {
     "name": "stdout",
     "output_type": "stream",
     "text": [
      "(12,)\n"
     ]
    },
    {
     "data": {
      "image/png": "[encoded data removed]",
      "text/plain": [
       "<matplotlib.figure.Figure at 0x7f420e10f090>"
      ]
     },
     "metadata": {},
     "output_type": "display_data"
    }
   ],
   "source": [
    "test_data01_merge_label_city_org_no_count_df = \\\n",
    "    show_attribute_detail(test_data01_merge_label_df,'CITY_ORG_NO')"
   ]
  },
  {
   "cell_type": "markdown",
   "metadata": {},
   "source": [
    "##### 3-7-1-3 合并结果"
   ]
  },
  {
   "cell_type": "code",
   "execution_count": 86,
   "metadata": {
    "collapsed": true
   },
   "outputs": [
    {
     "name": "stdout",
     "output_type": "stream",
     "text": [
      "所有工单 - 所属市（区）公司供电单位编码 CITY_ORG_NO\n",
      "        total    tag0  tag0/total    tag1  tag1/total  test_total\n",
      "33401  432944  286104    0.660834  146840    0.339166      128475\n",
      "33405  203431  146238    0.718858   57193    0.281142       71736\n",
      "33406   84775   62893    0.741881   21882    0.258119       32190\n",
      "33403   86659   66633    0.768910   20026    0.231090       34724\n",
      "33408   65184   50703    0.777844   14481    0.222156       24574\n",
      "33404   67020   52413    0.782050   14607    0.217950       26752\n",
      "33402   72912   57393    0.787154   15519    0.212846       27700\n",
      "33407   21298   17806    0.836041    3492    0.163959       10360\n",
      "33420    5237    4500    0.859271     737    0.140729        1451\n",
      "33409   25903   25785    0.995445     118    0.004555       11754\n",
      "33411   17842   17804    0.997870      38    0.002130        7689\n",
      "33410  106993  106791    0.998112     202    0.001888       46323\n"
     ]
    }
   ],
   "source": [
    "temp = train_data01_merge_label_city_org_no_count_df.join(\n",
    "    test_data01_merge_label_city_org_no_count_df,\n",
    "    how='outer',\n",
    ").fillna(0).sort_values(by='tag1/total',ascending=False)\n",
    "temp['test_total'] = temp['CITY_ORG_NO']\n",
    "temp = temp.drop(labels = [u'CITY_ORG_NO'],axis=1)\n",
    "print '所有工单 - 所属市（区）公司供电单位编码 CITY_ORG_NO'\n",
    "print temp"
   ]
  },
  {
   "cell_type": "markdown",
   "metadata": {},
   "source": [
    "#### 3-7-2 代表工单下"
   ]
  },
  {
   "cell_type": "markdown",
   "metadata": {},
   "source": [
    "##### 3-7-2-1 训练集"
   ]
  },
  {
   "cell_type": "code",
   "execution_count": 101,
   "metadata": {
    "collapsed": false
   },
   "outputs": [
    {
     "name": "stdout",
     "output_type": "stream",
     "text": [
      "(0, 16)\n"
     ]
    }
   ],
   "source": [
    "# 当该字段为空情况下，有 0个工单\n",
    "print train_data01_a_worker_per_user.loc[train_data01_a_worker_per_user['CITY_ORG_NO'].isnull()].shape"
   ]
  },
  {
   "cell_type": "code",
   "execution_count": 106,
   "metadata": {
    "collapsed": true
   },
   "outputs": [
    {
     "name": "stdout",
     "output_type": "stream",
     "text": [
      "(12, 5)\n"
     ]
    },
    {
     "data": {
      "image/png": "[encoded data removed]",
      "text/plain": [
       "<matplotlib.figure.Figure at 0x7f42161ad650>"
      ]
     },
     "metadata": {},
     "output_type": "display_data"
    }
   ],
   "source": [
    "# 当该字段为不空情况下\n",
    "train_data01_a_worker_per_user_city_org_no_count_df = \\\n",
    "    show_attribute_detail(train_data01_a_worker_per_user,'CITY_ORG_NO',split_by_tag=True,tag_name='TAG')"
   ]
  },
  {
   "cell_type": "markdown",
   "metadata": {},
   "source": [
    "##### 3-7-2-2 测试集"
   ]
  },
  {
   "cell_type": "code",
   "execution_count": 103,
   "metadata": {
    "collapsed": false
   },
   "outputs": [
    {
     "name": "stdout",
     "output_type": "stream",
     "text": [
      "(0, 15)\n"
     ]
    }
   ],
   "source": [
    "# 当该字段为空情况下，有 0个工单\n",
    "print test_data01_a_worker_per_user.loc[test_data01_a_worker_per_user['CITY_ORG_NO'].isnull()].shape"
   ]
  },
  {
   "cell_type": "code",
   "execution_count": 104,
   "metadata": {
    "collapsed": true
   },
   "outputs": [
    {
     "name": "stdout",
     "output_type": "stream",
     "text": [
      "(12,)\n"
     ]
    },
    {
     "data": {
      "image/png": "[encoded data removed]",
      "text/plain": [
       "<matplotlib.figure.Figure at 0x7f420ec0cc90>"
      ]
     },
     "metadata": {},
     "output_type": "display_data"
    }
   ],
   "source": [
    "test_data01_a_worker_per_user_city_org_no_count_df = \\\n",
    "    show_attribute_detail(test_data01_a_worker_per_user,'CITY_ORG_NO')"
   ]
  },
  {
   "cell_type": "markdown",
   "metadata": {},
   "source": [
    "##### 3-7-2-3 合并结果"
   ]
  },
  {
   "cell_type": "code",
   "execution_count": 108,
   "metadata": {
    "collapsed": true
   },
   "outputs": [
    {
     "name": "stdout",
     "output_type": "stream",
     "text": [
      "代表工单 -所属市（区）公司供电单位编码 CITY_ORG_NO\n",
      "        total    tag0  tag0/total   tag1  tag1/total  test_total\n",
      "33401  213976  176303    0.823938  37673    0.176062      108752\n",
      "33405  112184   96258    0.858037  15926    0.141963       62553\n",
      "33406   48440   42314    0.873534   6126    0.126466       28622\n",
      "33403   51437   45701    0.888485   5736    0.111515       30863\n",
      "33408   38071   33826    0.888498   4245    0.111502       21720\n",
      "33402   42215   37563    0.889802   4652    0.110198       24545\n",
      "33404   40391   36062    0.892823   4329    0.107177       23953\n",
      "33407   14672   13464    0.917666   1208    0.082334        9452\n",
      "33420    1561    1534    0.982703     27    0.017297        1064\n",
      "33409   16785   16758    0.998391     27    0.001609       10615\n",
      "33410   67441   67375    0.999021     66    0.000979       41823\n",
      "33411   11204   11194    0.999107     10    0.000893        6909\n"
     ]
    }
   ],
   "source": [
    "temp = train_data01_a_worker_per_user_city_org_no_count_df.join(\n",
    "    test_data01_a_worker_per_user_city_org_no_count_df,\n",
    "    how='outer',\n",
    ").fillna(0).sort_values(by='tag1/total',ascending=False)\n",
    "temp['test_total'] = temp['CITY_ORG_NO']\n",
    "temp = temp.drop(labels = [u'CITY_ORG_NO'],axis=1)\n",
    "print '代表工单 -所属市（区）公司供电单位编码 CITY_ORG_NO'\n",
    "print temp"
   ]
  },
  {
   "cell_type": "markdown",
   "metadata": {},
   "source": [
    "###### 小结\n",
    "- 有价值\n",
    "- 比如 33410、33409、33411 -- 显然都是不敏感用户的关键信息"
   ]
  },
  {
   "cell_type": "markdown",
   "metadata": {},
   "source": [
    "### 3-8 受理意见 HANDLE_OPINION"
   ]
  },
  {
   "cell_type": "code",
   "execution_count": null,
   "metadata": {
    "collapsed": true
   },
   "outputs": [],
   "source": [
    "# 当该字段为空情况下\n",
    "show_attribute_detail(\n",
    "    data01_train_merge_label_df.loc[data01_train_merge_label_df['HANDLE_OPINION'].isnull()],\n",
    "    attribute_name='TAG',\n",
    ");"
   ]
  },
  {
   "cell_type": "code",
   "execution_count": null,
   "metadata": {
    "collapsed": false
   },
   "outputs": [],
   "source": [
    "# 数量比较多，导出分析\n",
    "save_data(\n",
    "    data01_train_merge_label_df.loc[data01_train_merge_label_df['HANDLE_OPINION'].notnull(),['HANDLE_OPINION','TAG']],\n",
    "    'handle_opinion.csv'\n",
    ")"
   ]
  },
  {
   "cell_type": "markdown",
   "metadata": {},
   "source": [
    "###### 小结\n",
    "- 经表格分析，没发现规律"
   ]
  },
  {
   "cell_type": "markdown",
   "metadata": {},
   "source": [
    "### 3-9 受理时间 HANDLE_TIME"
   ]
  },
  {
   "cell_type": "markdown",
   "metadata": {},
   "source": [
    "#### 3-9-1 所有工单下"
   ]
  },
  {
   "cell_type": "markdown",
   "metadata": {},
   "source": [
    "#### 3-9-1-1 训练集"
   ]
  },
  {
   "cell_type": "code",
   "execution_count": 10,
   "metadata": {
    "collapsed": true
   },
   "outputs": [
    {
     "name": "stdout",
     "output_type": "stream",
     "text": [
      "             APP_NO                ID  BUSI_TYPE_CODE  URBAN_RURAL_FLAG  \\\n",
      "0  2015101280016584  1000000527201688               1               2.0   \n",
      "1  2015101280016722  1000000527203612               3               2.0   \n",
      "2  2015101280016734  1000000527203685               3               2.0   \n",
      "3  2015101280019989  1000000527220221               3               1.0   \n",
      "4  2015101280020073  1000000527220797               3               1.0   \n",
      "\n",
      "      ORG_NO         HANDLE_TIME  \\\n",
      "0    3340501  2015/10/12 7:27:08   \n",
      "1    3341020  2015/10/12 7:31:50   \n",
      "2    3340670  2015/10/12 7:32:03   \n",
      "3    3340401  2015/10/12 8:04:42   \n",
      "4  334010101  2015/10/12 8:06:05   \n",
      "\n",
      "                                    ACCEPT_CONTENT HANDLE_OPINION  CALLING_NO  \\\n",
      "0  【一户无电】非居民客户报修一户无电，经指导客户检查，无法判断设备故障及其资产归属，请现场查处。            NaN   1625671.0   \n",
      "1                                 【银行代扣】客户咨询银行代扣事宜            NaN   1196922.0   \n",
      "2                            【查询电费】客户查询本月电费金额，已告知。            NaN   1378624.0   \n",
      "3                                【查询电费】客户查询本月电费金额。            NaN   1149071.0   \n",
      "4                            【查询电费】客户查询电费是否欠费，已告知。            NaN   1052032.0   \n",
      "\n",
      "   ELEC_TYPE     CUST_NO  PROV_ORG_NO  CITY_ORG_NO  TAG  HANDLE_HOUR  \\\n",
      "0      405.0  5115500151        33101        33405    0            7   \n",
      "1      202.0  5720017228        33101        33410    0            7   \n",
      "2      201.0  6911007734        33101        33406    0            7   \n",
      "3      202.0  4400013050        33101        33404    1            8   \n",
      "4      100.0  6023002461        33101        33401    1            8   \n",
      "\n",
      "   HANDLE_YEAR  HANDLE_MONTH  HANDLE_DAY  \n",
      "0         2015            10          12  \n",
      "1         2015            10          12  \n",
      "2         2015            10          12  \n",
      "3         2015            10          12  \n",
      "4         2015            10          12  \n",
      "CPU times: user 59.9 s, sys: 248 ms, total: 1min\n",
      "Wall time: 1min\n"
     ]
    }
   ],
   "source": [
    "%%time\n",
    "# 将受理时间进行编码，映射到 年 月 日 小时\n",
    "\n",
    "# 时\n",
    "train_data01_merge_label_df.loc[:,'HANDLE_HOUR'] = \\\n",
    "    train_data01_merge_label_df['HANDLE_TIME'].apply(lambda x: data_feature_encoder.get_date(x,type='hour'))\n",
    "# 年\n",
    "train_data01_merge_label_df.loc[:,'HANDLE_YEAR'] = \\\n",
    "    train_data01_merge_label_df['HANDLE_TIME'].apply(lambda x: data_feature_encoder.get_date(x,type='year'))\n",
    "# 月\n",
    "train_data01_merge_label_df.loc[:,'HANDLE_MONTH'] = \\\n",
    "    train_data01_merge_label_df['HANDLE_TIME'].apply(lambda x: data_feature_encoder.get_date(x,type='month'))\n",
    "# 日\n",
    "train_data01_merge_label_df.loc[:,'HANDLE_DAY'] = \\\n",
    "    train_data01_merge_label_df['HANDLE_TIME'].apply(lambda x: data_feature_encoder.get_date(x,type='day'))\n",
    "print train_data01_merge_label_df.head()"
   ]
  },
  {
   "cell_type": "code",
   "execution_count": null,
   "metadata": {
    "collapsed": true
   },
   "outputs": [],
   "source": [
    "show_attribute_detail(train_data01_merge_label_df,'HANDLE_HOUR',split_by_tag=True,tag_name='TAG')"
   ]
  },
  {
   "cell_type": "code",
   "execution_count": null,
   "metadata": {
    "collapsed": true
   },
   "outputs": [],
   "source": [
    "show_attribute_detail(train_data01_merge_label_df,'HANDLE_YEAR',split_by_tag=True,tag_name='TAG')"
   ]
  },
  {
   "cell_type": "code",
   "execution_count": 33,
   "metadata": {
    "collapsed": true
   },
   "outputs": [
    {
     "name": "stdout",
     "output_type": "stream",
     "text": [
      "(12, 5)\n"
     ]
    },
    {
     "data": {
      "image/png": "[encoded data removed]",
      "text/plain": [
       "<matplotlib.figure.Figure at 0x7f309a26ed90>"
      ]
     },
     "metadata": {},
     "output_type": "display_data"
    }
   ],
   "source": [
    "train_data01_merge_label_handle_month_count_df = \\\n",
    "    show_attribute_detail(train_data01_merge_label_df,'HANDLE_MONTH',split_by_tag=True,tag_name='TAG')"
   ]
  },
  {
   "cell_type": "code",
   "execution_count": null,
   "metadata": {
    "collapsed": true
   },
   "outputs": [],
   "source": [
    "show_attribute_detail(data01_train_merge_label_df,'HANDLE_DAY',split_by_tag=True,tag_name='TAG')"
   ]
  },
  {
   "cell_type": "markdown",
   "metadata": {},
   "source": [
    "##### 3-9-1-1-2 统计 每个用户的 出现在 第4季度（9-12） 的次数"
   ]
  },
  {
   "cell_type": "code",
   "execution_count": 17,
   "metadata": {
    "collapsed": false
   },
   "outputs": [
    {
     "data": {
      "text/plain": [
       "ParallelCollectionRDD[6] at parallelize at PythonRDD.scala:475"
      ]
     },
     "execution_count": 17,
     "metadata": {},
     "output_type": "execute_result"
    }
   ],
   "source": [
    "train_data01_custno_handle_month_rdd = \\\n",
    "    sc.parallelize(train_data01_merge_label_df[['CUST_NO','HANDLE_MONTH']].as_matrix())\n",
    "train_data01_custno_handle_month_rdd.cache()"
   ]
  },
  {
   "cell_type": "code",
   "execution_count": 18,
   "metadata": {
    "collapsed": false
   },
   "outputs": [
    {
     "name": "stdout",
     "output_type": "stream",
     "text": [
      "CPU times: user 448 ms, sys: 28 ms, total: 476 ms\n",
      "Wall time: 16.4 s\n"
     ]
    }
   ],
   "source": [
    "%%time\n",
    "train_custno_in_season4_count_rdd = train_data01_custno_handle_month_rdd.groupBy(lambda x:x[0]).mapValues(\n",
    "    lambda items: sum([x[1]>=9 for x in items ])\n",
    ")\n",
    "train_custno_in_season4_count_dict = train_custno_in_season4_count_rdd.collectAsMap()"
   ]
  },
  {
   "cell_type": "code",
   "execution_count": 54,
   "metadata": {
    "collapsed": true
   },
   "outputs": [
    {
     "data": {
      "text/plain": [
       "True"
      ]
     },
     "execution_count": 54,
     "metadata": {},
     "output_type": "execute_result"
    }
   ],
   "source": [
    "len(train_custno_in_season4_count_dict) == 658374"
   ]
  },
  {
   "cell_type": "markdown",
   "metadata": {},
   "source": [
    "##### 3-9-1-1-3 新增字段 NUM_OF_IN_SEASON4 标识 用户 第4季度（9-12） 的记录个数"
   ]
  },
  {
   "cell_type": "code",
   "execution_count": 19,
   "metadata": {
    "collapsed": true
   },
   "outputs": [],
   "source": [
    "train_data01_merge_label_df['NUM_OF_IN_SEASON4'] = \\\n",
    "    train_data01_merge_label_df['CUST_NO'].map(train_custno_in_season4_count_dict)"
   ]
  },
  {
   "cell_type": "markdown",
   "metadata": {},
   "source": [
    "###### 3-9-1-1-4 统计"
   ]
  },
  {
   "cell_type": "code",
   "execution_count": 45,
   "metadata": {
    "collapsed": true
   },
   "outputs": [
    {
     "name": "stdout",
     "output_type": "stream",
     "text": [
      "(31, 5)\n"
     ]
    },
    {
     "data": {
      "image/png": "[encoded data removed]",
      "text/plain": [
       "<matplotlib.figure.Figure at 0x7f9cae73ad50>"
      ]
     },
     "metadata": {},
     "output_type": "display_data"
    }
   ],
   "source": [
    "train_data01_merge_label_num_of_season4_count_df = \\\n",
    "    show_attribute_detail(train_data01_merge_label_df,'NUM_OF_IN_SEASON4',split_by_tag=True,tag_name='TAG').sort_values(by='tag1/total',ascending=False)"
   ]
  },
  {
   "cell_type": "code",
   "execution_count": 49,
   "metadata": {
    "collapsed": true
   },
   "outputs": [],
   "source": [
    "save_data(\n",
    "    train_data01_merge_label_df[train_data01_merge_label_df['TAG']==1][['APP_NO','CUST_NO','HANDLE_TIME','HANDLE_MONTH']].sort_values(by='CUST_NO')[:1000],\n",
    "    'handle_time.csv'\n",
    ")"
   ]
  },
  {
   "cell_type": "markdown",
   "metadata": {},
   "source": [
    "#### 3-9-1-2 测试集"
   ]
  },
  {
   "cell_type": "code",
   "execution_count": 76,
   "metadata": {
    "collapsed": true
   },
   "outputs": [
    {
     "name": "stdout",
     "output_type": "stream",
     "text": [
      "             APP_NO                ID  BUSI_TYPE_CODE  URBAN_RURAL_FLAG  \\\n",
      "0  2015101280019632  1000000527215943               3               1.0   \n",
      "1  2015101280019648  1000000527216033              10               2.0   \n",
      "2  2015101280019680  1000000527216202               3               2.0   \n",
      "3  2015101280019873  1000000527218491               3               1.0   \n",
      "4  2015101280020130  1000000527221199               1               1.0   \n",
      "\n",
      "      ORG_NO         HANDLE_TIME  \\\n",
      "0    3340780  2015/10/12 7:58:04   \n",
      "1  334066001  2015/10/12 7:58:26   \n",
      "2    3340690  2015/10/12 7:58:52   \n",
      "3    3340810  2015/10/12 8:02:53   \n",
      "4    3340501  2015/10/12 8:07:10   \n",
      "\n",
      "                                      ACCEPT_CONTENT HANDLE_OPINION  \\\n",
      "0   【客户咨询一户无电】建议先自行联系有资质电工排查是否为内部故障，客户接受并表示有其他情况再致电。            NaN   \n",
      "1  【退订】#2061584501；【退订】#2061584602；【退订】#406091928...            NaN   \n",
      "2                                【查询电费】客户查询本月电费，已告知。            NaN   \n",
      "3                           【咨询总户号】通过地址、户名查询户号信息，已告知            NaN   \n",
      "4  【设备故障】客户报修此处线路打火，请处理。客户只能提供此地址，烦请电话联系057486581...            NaN   \n",
      "\n",
      "   CALLING_NO  ELEC_TYPE     CUST_NO  PROV_ORG_NO  CITY_ORG_NO  \\\n",
      "0   1628699.0      202.0  9400029736        33101        33407   \n",
      "1   1260775.0      201.0  6851831254        33101        33406   \n",
      "2   1536321.0      201.0  7312218251        33101        33406   \n",
      "3   1576698.0        NaN  3330149860        33101        33408   \n",
      "4   1089990.0      201.0  5210210735        33101        33405   \n",
      "\n",
      "  ACCEPT_CONTENT_TYPE  IS_SEARCH_ACTION  HANDLE_HOUR  HANDLE_YEAR  \\\n",
      "0            客户咨询一户无电               0.0            7         2015   \n",
      "1                  退订               0.0            7         2015   \n",
      "2                查询电费               1.0            7         2015   \n",
      "3               咨询总户号               0.0            8         2015   \n",
      "4                设备故障               0.0            8         2015   \n",
      "\n",
      "   HANDLE_MONTH  HANDLE_DAY  \n",
      "0            10          12  \n",
      "1            10          12  \n",
      "2            10          12  \n",
      "3            10          12  \n",
      "4            10          12  \n",
      "CPU times: user 23.3 s, sys: 68 ms, total: 23.4 s\n",
      "Wall time: 23.4 s\n"
     ]
    }
   ],
   "source": [
    "%%time\n",
    "# 将受理时间进行编码，映射到 年 月 日 小时\n",
    "\n",
    "# 时\n",
    "test_data01_merge_label_df.loc[:,'HANDLE_HOUR'] = \\\n",
    "    test_data01_merge_label_df['HANDLE_TIME'].apply(lambda x: data_feature_encoder.get_date(x,type='hour'))\n",
    "# 年\n",
    "test_data01_merge_label_df.loc[:,'HANDLE_YEAR'] = \\\n",
    "    test_data01_merge_label_df['HANDLE_TIME'].apply(lambda x: data_feature_encoder.get_date(x,type='year'))\n",
    "# 月\n",
    "test_data01_merge_label_df.loc[:,'HANDLE_MONTH'] = \\\n",
    "    test_data01_merge_label_df['HANDLE_TIME'].apply(lambda x: data_feature_encoder.get_date(x,type='month'))\n",
    "# 日\n",
    "test_data01_merge_label_df.loc[:,'HANDLE_DAY'] = \\\n",
    "    test_data01_merge_label_df['HANDLE_TIME'].apply(lambda x: data_feature_encoder.get_date(x,type='day'))\n",
    "print test_data01_merge_label_df.head()"
   ]
  },
  {
   "cell_type": "code",
   "execution_count": 37,
   "metadata": {
    "collapsed": true
   },
   "outputs": [
    {
     "name": "stdout",
     "output_type": "stream",
     "text": [
      "(12,)\n"
     ]
    },
    {
     "data": {
      "image/png": "[encoded data removed]",
      "text/plain": [
       "<matplotlib.figure.Figure at 0x7f9ccd0353d0>"
      ]
     },
     "metadata": {},
     "output_type": "display_data"
    }
   ],
   "source": [
    "test_data01_merge_label_handle_month_count_df = \\\n",
    "    show_attribute_detail(test_data01_merge_label_df,'HANDLE_MONTH')"
   ]
  },
  {
   "cell_type": "markdown",
   "metadata": {},
   "source": [
    "##### 3-9-1-2-1 统计 每个用户的 出现在 第4季度（9-12） 的次数"
   ]
  },
  {
   "cell_type": "code",
   "execution_count": 45,
   "metadata": {
    "collapsed": false
   },
   "outputs": [
    {
     "data": {
      "text/plain": [
       "ParallelCollectionRDD[24] at parallelize at PythonRDD.scala:475"
      ]
     },
     "execution_count": 45,
     "metadata": {},
     "output_type": "execute_result"
    }
   ],
   "source": [
    "test_data01_custno_handle_month_rdd = \\\n",
    "    sc.parallelize(test_data01_merge_label_df[['CUST_NO','HANDLE_MONTH']].as_matrix())\n",
    "test_data01_custno_handle_month_rdd.cache()"
   ]
  },
  {
   "cell_type": "code",
   "execution_count": 46,
   "metadata": {
    "collapsed": false
   },
   "outputs": [
    {
     "name": "stdout",
     "output_type": "stream",
     "text": [
      "CPU times: user 312 ms, sys: 28 ms, total: 340 ms\n",
      "Wall time: 8.17 s\n"
     ]
    }
   ],
   "source": [
    "%%time\n",
    "test_custno_in_season4_count_rdd = test_data01_custno_handle_month_rdd.groupBy(lambda x:x[0]).mapValues(\n",
    "    lambda items: sum([x[1]>=9 for x in items ])\n",
    ")\n",
    "test_custno_in_season4_count_dict = test_custno_in_season4_count_rdd.collectAsMap()"
   ]
  },
  {
   "cell_type": "code",
   "execution_count": 62,
   "metadata": {
    "collapsed": false
   },
   "outputs": [
    {
     "data": {
      "text/plain": [
       "370871"
      ]
     },
     "execution_count": 62,
     "metadata": {},
     "output_type": "execute_result"
    }
   ],
   "source": [
    "len(test_custno_in_season4_count_dict)"
   ]
  },
  {
   "cell_type": "markdown",
   "metadata": {},
   "source": [
    "##### 3-9-1-2-3 新增字段 NUM_OF_IN_SEASON4 标识 用户 第4季度（9-12） 的记录个数"
   ]
  },
  {
   "cell_type": "code",
   "execution_count": 47,
   "metadata": {
    "collapsed": true
   },
   "outputs": [],
   "source": [
    "test_data01_merge_label_df['NUM_OF_IN_SEASON4'] = \\\n",
    "    test_data01_merge_label_df['CUST_NO'].map(test_custno_in_season4_count_dict)"
   ]
  },
  {
   "cell_type": "code",
   "execution_count": 66,
   "metadata": {
    "collapsed": true
   },
   "outputs": [
    {
     "name": "stdout",
     "output_type": "stream",
     "text": [
      "(8,)\n"
     ]
    },
    {
     "data": {
      "text/plain": [
       "0    262157\n",
       "1    135137\n",
       "2     21165\n",
       "3      4150\n",
       "4       829\n",
       "5       242\n",
       "6        33\n",
       "7        15\n",
       "Name: NUM_OF_IN_SEASON4, dtype: int64"
      ]
     },
     "execution_count": 66,
     "metadata": {},
     "output_type": "execute_result"
    },
    {
     "data": {
      "image/png": "[encoded data removed]",
      "text/plain": [
       "<matplotlib.figure.Figure at 0x7f30a8919c10>"
      ]
     },
     "metadata": {},
     "output_type": "display_data"
    }
   ],
   "source": [
    "show_attribute_detail(test_data01_merge_label_df,'NUM_OF_IN_SEASON4')"
   ]
  },
  {
   "cell_type": "code",
   "execution_count": 41,
   "metadata": {
    "collapsed": true
   },
   "outputs": [
    {
     "name": "stdout",
     "output_type": "stream",
     "text": [
      "(8,)\n"
     ]
    },
    {
     "data": {
      "image/png": "[encoded data removed]",
      "text/plain": [
       "<matplotlib.figure.Figure at 0x7f9cce45a190>"
      ]
     },
     "metadata": {},
     "output_type": "display_data"
    }
   ],
   "source": [
    "test_data01_merge_label_num_of_season4_count_df = \\\n",
    "    show_attribute_detail(test_data01_merge_label_df,'NUM_OF_IN_SEASON4')"
   ]
  },
  {
   "cell_type": "code",
   "execution_count": 46,
   "metadata": {
    "collapsed": true
   },
   "outputs": [
    {
     "name": "stdout",
     "output_type": "stream",
     "text": [
      "所有工单 -受理时间 NUM_OF_IN_SEASON4\n",
      "     total      tag0  tag0/total     tag1  tag1/total  test_total\n",
      "22      81       0.0    0.000000     81.0    1.000000         0.0\n",
      "23      82       0.0    0.000000     82.0    1.000000         0.0\n",
      "27     125       0.0    0.000000    125.0    1.000000         0.0\n",
      "26      90       0.0    0.000000     90.0    1.000000         0.0\n",
      "21      42       0.0    0.000000     42.0    1.000000         0.0\n",
      "18     139       0.0    0.000000    139.0    1.000000         0.0\n",
      "17     205       0.0    0.000000    205.0    1.000000         0.0\n",
      "25      70       0.0    0.000000     70.0    1.000000         0.0\n",
      "34      83       0.0    0.000000     83.0    1.000000         0.0\n",
      "14     562      74.0    0.131673    488.0    0.868327         0.0\n",
      "11    1535     235.0    0.153094   1300.0    0.846906         0.0\n",
      "16     362      57.0    0.157459    305.0    0.842541         0.0\n",
      "9     3149     510.0    0.161956   2639.0    0.838044         0.0\n",
      "13     818     155.0    0.189487    663.0    0.810513         0.0\n",
      "10    1868     371.0    0.198608   1497.0    0.801392         0.0\n",
      "7     7616    1562.0    0.205095   6054.0    0.794905        15.0\n",
      "8     5193    1073.0    0.206624   4120.0    0.793376         0.0\n",
      "6    12636    2944.0    0.232985   9692.0    0.767015        33.0\n",
      "19     123      30.0    0.243902     93.0    0.756098         0.0\n",
      "12    1019     269.0    0.263984    750.0    0.736016         0.0\n",
      "5    21652    5864.0    0.270829  15788.0    0.729171       242.0\n",
      "4    41507   13162.0    0.317103  28345.0    0.682897       829.0\n",
      "15     294     111.0    0.377551    183.0    0.622449         0.0\n",
      "28      64      28.0    0.437500     36.0    0.562500         0.0\n",
      "3    68462   30108.0    0.439777  38354.0    0.560223      4150.0\n",
      "24      99      51.0    0.515152     48.0    0.484848         0.0\n",
      "2   137906   80354.0    0.582672  57552.0    0.417328     21165.0\n",
      "1   276777  223806.0    0.808615  52971.0    0.191385    135137.0\n",
      "0   607477  534137.0    0.879271  73340.0    0.120729    262157.0\n",
      "33      48      48.0    1.000000      0.0    0.000000         0.0\n",
      "82     114     114.0    1.000000      0.0    0.000000         0.0\n"
     ]
    }
   ],
   "source": [
    "temp = train_data01_merge_label_num_of_season4_count_df.join(\n",
    "    test_data01_merge_label_num_of_season4_count_df,\n",
    "    how='outer',\n",
    ").fillna(0).sort_values(by='tag1/total',ascending=False)\n",
    "temp['test_total'] = temp['NUM_OF_IN_SEASON4']\n",
    "temp = temp.drop(labels = [u'NUM_OF_IN_SEASON4'],axis=1)\n",
    "print '所有工单 -受理时间 NUM_OF_IN_SEASON4'\n",
    "print temp"
   ]
  },
  {
   "cell_type": "markdown",
   "metadata": {},
   "source": [
    "#### 3-9-2 代表工单下"
   ]
  },
  {
   "cell_type": "markdown",
   "metadata": {},
   "source": [
    "#### 3-9-2-1 训练集"
   ]
  },
  {
   "cell_type": "markdown",
   "metadata": {},
   "source": [
    "###### 3-9-2-1-1 月份统计"
   ]
  },
  {
   "cell_type": "code",
   "execution_count": 43,
   "metadata": {
    "collapsed": true
   },
   "outputs": [
    {
     "name": "stdout",
     "output_type": "stream",
     "text": [
      "(12, 5)\n"
     ]
    },
    {
     "data": {
      "image/png": "[encoded data removed]",
      "text/plain": [
       "<matplotlib.figure.Figure at 0x7f309027c890>"
      ]
     },
     "metadata": {},
     "output_type": "display_data"
    }
   ],
   "source": [
    "train_data01_a_worker_per_user_handle_month_count_df = \\\n",
    "    show_attribute_detail(train_data01_a_worker_per_user,'HANDLE_MONTH',split_by_tag=True,tag_name='TAG')"
   ]
  },
  {
   "cell_type": "markdown",
   "metadata": {},
   "source": [
    "###### 3-9-2-1-1 第4季度记录数统计"
   ]
  },
  {
   "cell_type": "code",
   "execution_count": 51,
   "metadata": {
    "collapsed": true
   },
   "outputs": [
    {
     "name": "stdout",
     "output_type": "stream",
     "text": [
      "(31, 5)\n"
     ]
    },
    {
     "data": {
      "image/png": "[encoded data removed]",
      "text/plain": [
       "<matplotlib.figure.Figure at 0x7f9cac7e0990>"
      ]
     },
     "metadata": {},
     "output_type": "display_data"
    }
   ],
   "source": [
    "train_data01_a_worker_per_user_num_of_season4_count_df = \\\n",
    "    show_attribute_detail(train_data01_a_worker_per_user,'NUM_OF_IN_SEASON4',split_by_tag=True,tag_name='TAG')"
   ]
  },
  {
   "cell_type": "markdown",
   "metadata": {},
   "source": [
    "#### 3-9-2-2 测试集"
   ]
  },
  {
   "cell_type": "markdown",
   "metadata": {},
   "source": [
    "###### 3-9-2-2-1 月份统计"
   ]
  },
  {
   "cell_type": "code",
   "execution_count": 44,
   "metadata": {
    "collapsed": true
   },
   "outputs": [
    {
     "name": "stdout",
     "output_type": "stream",
     "text": [
      "(12,)\n"
     ]
    },
    {
     "data": {
      "image/png": "[encoded data removed]",
      "text/plain": [
       "<matplotlib.figure.Figure at 0x7f30a23fa150>"
      ]
     },
     "metadata": {},
     "output_type": "display_data"
    }
   ],
   "source": [
    "test_data01_a_worker_per_user_handle_month_count_df = \\\n",
    "    show_attribute_detail(test_data01_a_worker_per_user,'HANDLE_MONTH')"
   ]
  },
  {
   "cell_type": "markdown",
   "metadata": {},
   "source": [
    "###### 3-9-2-2-2 第4季度记录数统计"
   ]
  },
  {
   "cell_type": "code",
   "execution_count": 52,
   "metadata": {
    "collapsed": true
   },
   "outputs": [
    {
     "name": "stdout",
     "output_type": "stream",
     "text": [
      "(8,)\n"
     ]
    },
    {
     "data": {
      "image/png": "[encoded data removed]",
      "text/plain": [
       "<matplotlib.figure.Figure at 0x7f9cbc069a50>"
      ]
     },
     "metadata": {},
     "output_type": "display_data"
    }
   ],
   "source": [
    "test_data01_a_worker_per_user_num_of_season4_count_df = \\\n",
    "    show_attribute_detail(test_data01_a_worker_per_user,'NUM_OF_IN_SEASON4')"
   ]
  },
  {
   "cell_type": "markdown",
   "metadata": {},
   "source": [
    "##### 3-9-2-3 合并结果"
   ]
  },
  {
   "cell_type": "markdown",
   "metadata": {},
   "source": [
    "###### 3-9-2-3-1 月份统计"
   ]
  },
  {
   "cell_type": "code",
   "execution_count": 45,
   "metadata": {
    "collapsed": true
   },
   "outputs": [
    {
     "name": "stdout",
     "output_type": "stream",
     "text": [
      "代表工单 -受理时间 HANDLE_TIME\n",
      "    total   tag0  tag0/total   tag1  tag1/total  test_total\n",
      "12  73884  44933    0.608156  28951    0.391844       39385\n",
      "9   54781  48414    0.883774   6367    0.116226       32418\n",
      "11  53990  48108    0.891054   5882    0.108946       32415\n",
      "10  46807  41747    0.891897   5060    0.108103       28286\n",
      "7   61924  56591    0.913878   5333    0.086122       33410\n",
      "8   60301  55138    0.914380   5163    0.085620       34245\n",
      "3   62724  57373    0.914690   5351    0.085310       33674\n",
      "5   47590  43819    0.920761   3771    0.079239       25844\n",
      "4   49081  45192    0.920764   3889    0.079236       26645\n",
      "2   43026  39722    0.923209   3304    0.076791       23501\n",
      "6   48162  44716    0.928450   3446    0.071550       27730\n",
      "1   56107  52599    0.937477   3508    0.062523       33318\n"
     ]
    }
   ],
   "source": [
    "temp = train_data01_a_worker_per_user_handle_month_count_df.join(\n",
    "    test_data01_a_worker_per_user_handle_month_count_df,\n",
    "    how='outer',\n",
    ").fillna(0).sort_values(by='tag1/total',ascending=False)\n",
    "temp['test_total'] = temp['HANDLE_MONTH']\n",
    "temp = temp.drop(labels = [u'HANDLE_MONTH'],axis=1)\n",
    "print '代表工单 -受理时间 HANDLE_TIME'\n",
    "print temp"
   ]
  },
  {
   "cell_type": "markdown",
   "metadata": {},
   "source": [
    "###### 3-9-2-2-2 第4季度记录数统计"
   ]
  },
  {
   "cell_type": "code",
   "execution_count": 53,
   "metadata": {
    "collapsed": true
   },
   "outputs": [
    {
     "name": "stdout",
     "output_type": "stream",
     "text": [
      "代表工单 -受理时间 NUM_OF_IN_SEASON4\n",
      "     total      tag0  tag0/total     tag1  tag1/total  test_total\n",
      "17       8       0.0    0.000000      8.0    1.000000         0.0\n",
      "22       2       0.0    0.000000      2.0    1.000000         0.0\n",
      "27       3       0.0    0.000000      3.0    1.000000         0.0\n",
      "26       3       0.0    0.000000      3.0    1.000000         0.0\n",
      "25       1       0.0    0.000000      1.0    1.000000         0.0\n",
      "23       2       0.0    0.000000      2.0    1.000000         0.0\n",
      "21       1       0.0    0.000000      1.0    1.000000         0.0\n",
      "34       1       0.0    0.000000      1.0    1.000000         0.0\n",
      "18       4       0.0    0.000000      4.0    1.000000         0.0\n",
      "13      34       5.0    0.147059     29.0    0.852941         0.0\n",
      "11      85      14.0    0.164706     71.0    0.835294         0.0\n",
      "16      12       2.0    0.166667     10.0    0.833333         0.0\n",
      "14      22       4.0    0.181818     18.0    0.818182         0.0\n",
      "10     123      25.0    0.203252     98.0    0.796748         0.0\n",
      "9      230      48.0    0.208696    182.0    0.791304         0.0\n",
      "8      449     102.0    0.227171    347.0    0.772829         0.0\n",
      "7      763     180.0    0.235911    583.0    0.764089         2.0\n",
      "6     1497     376.0    0.251169   1121.0    0.748831         5.0\n",
      "15      11       3.0    0.272727      8.0    0.727273         0.0\n",
      "12      49      14.0    0.285714     35.0    0.714286         0.0\n",
      "5     3074     949.0    0.308718   2125.0    0.691282        46.0\n",
      "19       3       1.0    0.333333      2.0    0.666667         0.0\n",
      "4     7160    2648.0    0.369832   4512.0    0.630168       196.0\n",
      "3    16956    8325.0    0.490977   8631.0    0.509023      1319.0\n",
      "24       2       1.0    0.500000      1.0    0.500000         0.0\n",
      "28       2       1.0    0.500000      1.0    0.500000         0.0\n",
      "2    51295   33092.0    0.645131  18203.0    0.354869      9982.0\n",
      "1   189436  165871.0    0.875604  23565.0    0.124396    125383.0\n",
      "0   387147  366689.0    0.947157  20458.0    0.052843    233938.0\n",
      "33       1       1.0    1.000000      0.0    0.000000         0.0\n",
      "82       1       1.0    1.000000      0.0    0.000000         0.0\n"
     ]
    }
   ],
   "source": [
    "temp = train_data01_a_worker_per_user_num_of_season4_count_df.join(\n",
    "    test_data01_a_worker_per_user_num_of_season4_count_df,\n",
    "    how='outer',\n",
    ").fillna(0).sort_values(by='tag1/total',ascending=False)\n",
    "temp['test_total'] = temp['NUM_OF_IN_SEASON4']\n",
    "temp = temp.drop(labels = [u'NUM_OF_IN_SEASON4'],axis=1)\n",
    "print '代表工单 -受理时间 NUM_OF_IN_SEASON4'\n",
    "print temp"
   ]
  },
  {
   "cell_type": "markdown",
   "metadata": {},
   "source": [
    "###### 小结\n",
    "- 全部数据都是 2015 年\n",
    "- 第4季度的敏感度高很多，可能 HANDLE_MONTH 有价值\n",
    "- 每天的数据都很均匀，没有多大价值\n",
    "\n",
    "- 训练数据集上  月份的分布差异很大 ——> 所以可能月份是个非常重要的特征"
   ]
  },
  {
   "cell_type": "markdown",
   "metadata": {},
   "source": [
    "### 3-10 城乡类别标志 URBAN_RURAL_FLAG"
   ]
  },
  {
   "cell_type": "markdown",
   "metadata": {},
   "source": [
    "#### 3-10-1所有工单下"
   ]
  },
  {
   "cell_type": "markdown",
   "metadata": {},
   "source": [
    "#### 3-10-1-1 训练集"
   ]
  },
  {
   "cell_type": "code",
   "execution_count": 110,
   "metadata": {
    "collapsed": true
   },
   "outputs": [
    {
     "name": "stdout",
     "output_type": "stream",
     "text": [
      "(1004, 17)\n",
      "(2,)\n"
     ]
    },
    {
     "data": {
      "text/plain": [
       "0    570\n",
       "1     18\n",
       "Name: TAG, dtype: int64"
      ]
     },
     "execution_count": 110,
     "metadata": {},
     "output_type": "execute_result"
    },
    {
     "data": {
      "image/png": "[encoded data removed]",
      "text/plain": [
       "<matplotlib.figure.Figure at 0x7f421f89a250>"
      ]
     },
     "metadata": {},
     "output_type": "display_data"
    }
   ],
   "source": [
    "# 当该字段为空情况下，有 1004个工单，其中非敏感570,敏感 18\n",
    "print train_data01_merge_label_df.loc[train_data01_merge_label_df['URBAN_RURAL_FLAG'].isnull()].shape\n",
    "show_attribute_detail(\n",
    "    train_data01_a_worker_per_user.loc[train_data01_a_worker_per_user['URBAN_RURAL_FLAG'].isnull()],\n",
    "    attribute_name='TAG',\n",
    ")"
   ]
  },
  {
   "cell_type": "code",
   "execution_count": 112,
   "metadata": {
    "collapsed": true
   },
   "outputs": [
    {
     "name": "stdout",
     "output_type": "stream",
     "text": [
      "(3, 5)\n"
     ]
    },
    {
     "data": {
      "text/html": [
       "<div>\n",
       "<table border=\"1\" class=\"dataframe\">\n",
       "  <thead>\n",
       "    <tr style=\"text-align: right;\">\n",
       "      <th></th>\n",
       "      <th>total</th>\n",
       "      <th>tag0</th>\n",
       "      <th>tag0/total</th>\n",
       "      <th>tag1</th>\n",
       "      <th>tag1/total</th>\n",
       "    </tr>\n",
       "  </thead>\n",
       "  <tbody>\n",
       "    <tr>\n",
       "      <th>1.0</th>\n",
       "      <td>396883</td>\n",
       "      <td>343008</td>\n",
       "      <td>0.864255</td>\n",
       "      <td>53875</td>\n",
       "      <td>0.135745</td>\n",
       "    </tr>\n",
       "    <tr>\n",
       "      <th>2.0</th>\n",
       "      <td>259578</td>\n",
       "      <td>233488</td>\n",
       "      <td>0.899491</td>\n",
       "      <td>26090</td>\n",
       "      <td>0.100509</td>\n",
       "    </tr>\n",
       "    <tr>\n",
       "      <th>3.0</th>\n",
       "      <td>1328</td>\n",
       "      <td>1286</td>\n",
       "      <td>0.968373</td>\n",
       "      <td>42</td>\n",
       "      <td>0.031627</td>\n",
       "    </tr>\n",
       "  </tbody>\n",
       "</table>\n",
       "</div>"
      ],
      "text/plain": [
       "      total    tag0  tag0/total   tag1  tag1/total\n",
       "1.0  396883  343008    0.864255  53875    0.135745\n",
       "2.0  259578  233488    0.899491  26090    0.100509\n",
       "3.0    1328    1286    0.968373     42    0.031627"
      ]
     },
     "execution_count": 112,
     "metadata": {},
     "output_type": "execute_result"
    },
    {
     "data": {
      "image/png": "[encoded data removed]",
      "text/plain": [
       "<matplotlib.figure.Figure at 0x7f420ee89f90>"
      ]
     },
     "metadata": {},
     "output_type": "display_data"
    }
   ],
   "source": [
    "show_attribute_detail(train_data01_a_worker_per_user,'URBAN_RURAL_FLAG',split_by_tag=True,tag_name='TAG')"
   ]
  },
  {
   "cell_type": "code",
   "execution_count": null,
   "metadata": {
    "collapsed": false
   },
   "outputs": [],
   "source": [
    "len(data01_train_merge_label_df['URBAN_RURAL_FLAG'].unique())"
   ]
  },
  {
   "cell_type": "code",
   "execution_count": 113,
   "metadata": {
    "collapsed": true
   },
   "outputs": [
    {
     "name": "stdout",
     "output_type": "stream",
     "text": [
      "(3, 5)\n"
     ]
    },
    {
     "data": {
      "image/png": "[encoded data removed]",
      "text/plain": [
       "<matplotlib.figure.Figure at 0x7f42204502d0>"
      ]
     },
     "metadata": {},
     "output_type": "display_data"
    }
   ],
   "source": [
    "train_data01_merge_label_urban_rural_flag_count_df = \\\n",
    "    show_attribute_detail(train_data01_merge_label_df,'URBAN_RURAL_FLAG',split_by_tag=True,tag_name='TAG')"
   ]
  },
  {
   "cell_type": "markdown",
   "metadata": {},
   "source": [
    "##### 3-10-1-2 测试集"
   ]
  },
  {
   "cell_type": "code",
   "execution_count": 114,
   "metadata": {
    "collapsed": true
   },
   "outputs": [
    {
     "name": "stdout",
     "output_type": "stream",
     "text": [
      "(448, 15)\n"
     ]
    }
   ],
   "source": [
    "# 当该字段为空情况下，有 448个工单\n",
    "print test_data01_merge_label_df.loc[test_data01_merge_label_df['URBAN_RURAL_FLAG'].isnull()].shape"
   ]
  },
  {
   "cell_type": "code",
   "execution_count": 115,
   "metadata": {
    "collapsed": true
   },
   "outputs": [
    {
     "name": "stdout",
     "output_type": "stream",
     "text": [
      "(3,)\n"
     ]
    },
    {
     "data": {
      "image/png": "[encoded data removed]",
      "text/plain": [
       "<matplotlib.figure.Figure at 0x7f4211463750>"
      ]
     },
     "metadata": {},
     "output_type": "display_data"
    }
   ],
   "source": [
    "test_data01_merge_label_urban_rural_flag_count_df = \\\n",
    "    show_attribute_detail(test_data01_merge_label_df,'URBAN_RURAL_FLAG')"
   ]
  },
  {
   "cell_type": "markdown",
   "metadata": {},
   "source": [
    "##### 3-10-1-3 合并结果"
   ]
  },
  {
   "cell_type": "code",
   "execution_count": 118,
   "metadata": {
    "collapsed": true
   },
   "outputs": [
    {
     "name": "stdout",
     "output_type": "stream",
     "text": [
      "所有工单 - 城乡类别标志 URBAN_RURAL_FLAG\n",
      "      total    tag0  tag0/total    tag1  tag1/total  test_total\n",
      "1.0  745444  543091    0.728547  202353    0.271453      249416\n",
      "2.0  441830  349262    0.790490   92568    0.209510      172920\n",
      "3.0    1920    1824    0.950000      96    0.050000         944\n"
     ]
    }
   ],
   "source": [
    "temp = train_data01_merge_label_urban_rural_flag_count_df.join(\n",
    "    test_data01_merge_label_urban_rural_flag_count_df,\n",
    "    how='outer',\n",
    ").fillna(0).sort_values(by='tag1/total',ascending=False)\n",
    "temp['test_total'] = temp['URBAN_RURAL_FLAG']\n",
    "temp = temp.drop(labels = [u'URBAN_RURAL_FLAG'],axis=1)\n",
    "print '所有工单 - 城乡类别标志 URBAN_RURAL_FLAG'\n",
    "print temp"
   ]
  },
  {
   "cell_type": "markdown",
   "metadata": {},
   "source": [
    "#### 3-10-2 代表工单下"
   ]
  },
  {
   "cell_type": "markdown",
   "metadata": {},
   "source": [
    "##### 3-10-2-1 训练集"
   ]
  },
  {
   "cell_type": "code",
   "execution_count": 119,
   "metadata": {
    "collapsed": true
   },
   "outputs": [
    {
     "name": "stdout",
     "output_type": "stream",
     "text": [
      "(588, 16)\n",
      "(2,)\n"
     ]
    },
    {
     "data": {
      "text/plain": [
       "0    570\n",
       "1     18\n",
       "Name: TAG, dtype: int64"
      ]
     },
     "execution_count": 119,
     "metadata": {},
     "output_type": "execute_result"
    },
    {
     "data": {
      "image/png": "[encoded data removed]",
      "text/plain": [
       "<matplotlib.figure.Figure at 0x7f420e10fe10>"
      ]
     },
     "metadata": {},
     "output_type": "display_data"
    }
   ],
   "source": [
    "# 当该字段为空情况下，有 588个工单，不敏感570,敏感18\n",
    "print train_data01_a_worker_per_user.loc[train_data01_a_worker_per_user['URBAN_RURAL_FLAG'].isnull()].shape\n",
    "show_attribute_detail(\n",
    "    train_data01_a_worker_per_user.loc[train_data01_a_worker_per_user['URBAN_RURAL_FLAG'].isnull()],\n",
    "    attribute_name='TAG',\n",
    ")"
   ]
  },
  {
   "cell_type": "code",
   "execution_count": 120,
   "metadata": {
    "collapsed": true
   },
   "outputs": [
    {
     "name": "stdout",
     "output_type": "stream",
     "text": [
      "(3, 5)\n"
     ]
    },
    {
     "data": {
      "image/png": "[encoded data removed]",
      "text/plain": [
       "<matplotlib.figure.Figure at 0x7f420e5ed4d0>"
      ]
     },
     "metadata": {},
     "output_type": "display_data"
    }
   ],
   "source": [
    "# 当该字段为不空情况下\n",
    "train_data01_a_worker_per_user_urban_rural_flag_count_df = \\\n",
    "    show_attribute_detail(train_data01_a_worker_per_user,'URBAN_RURAL_FLAG',split_by_tag=True,tag_name='TAG')"
   ]
  },
  {
   "cell_type": "markdown",
   "metadata": {},
   "source": [
    "##### 3-10-2-2 测试集"
   ]
  },
  {
   "cell_type": "code",
   "execution_count": 121,
   "metadata": {
    "collapsed": false
   },
   "outputs": [
    {
     "name": "stdout",
     "output_type": "stream",
     "text": [
      "(401, 15)\n"
     ]
    }
   ],
   "source": [
    "# 当该字段为空情况下，有 401个工单\n",
    "print test_data01_a_worker_per_user.loc[test_data01_a_worker_per_user['URBAN_RURAL_FLAG'].isnull()].shape"
   ]
  },
  {
   "cell_type": "code",
   "execution_count": 122,
   "metadata": {
    "collapsed": true
   },
   "outputs": [
    {
     "name": "stdout",
     "output_type": "stream",
     "text": [
      "(3,)\n"
     ]
    },
    {
     "data": {
      "image/png": "[encoded data removed]",
      "text/plain": [
       "<matplotlib.figure.Figure at 0x7f422a457810>"
      ]
     },
     "metadata": {},
     "output_type": "display_data"
    }
   ],
   "source": [
    "test_data01_a_worker_per_user_urban_rural_flag_count_df = \\\n",
    "    show_attribute_detail(test_data01_a_worker_per_user,'URBAN_RURAL_FLAG')"
   ]
  },
  {
   "cell_type": "markdown",
   "metadata": {},
   "source": [
    "##### 3-10-2-3 合并结果"
   ]
  },
  {
   "cell_type": "code",
   "execution_count": 123,
   "metadata": {
    "collapsed": true
   },
   "outputs": [
    {
     "name": "stdout",
     "output_type": "stream",
     "text": [
      "代表工单 -城乡类别标志 URBAN_RURAL_FLAG\n",
      "      total    tag0  tag0/total   tag1  tag1/total  test_total\n",
      "1.0  396883  343008    0.864255  53875    0.135745      215343\n",
      "2.0  259578  233488    0.899491  26090    0.100509      154263\n",
      "3.0    1328    1286    0.968373     42    0.031627         864\n"
     ]
    }
   ],
   "source": [
    "temp = train_data01_a_worker_per_user_urban_rural_flag_count_df.join(\n",
    "    test_data01_a_worker_per_user_urban_rural_flag_count_df,\n",
    "    how='outer',\n",
    ").fillna(0).sort_values(by='tag1/total',ascending=False)\n",
    "temp['test_total'] = temp['URBAN_RURAL_FLAG']\n",
    "temp = temp.drop(labels = [u'URBAN_RURAL_FLAG'],axis=1)\n",
    "print '代表工单 -城乡类别标志 URBAN_RURAL_FLAG'\n",
    "print temp"
   ]
  },
  {
   "cell_type": "markdown",
   "metadata": {},
   "source": [
    "###### 小结\n",
    "- 类别3（特殊边远山区）  的敏感度最低 ， 有价值"
   ]
  },
  {
   "cell_type": "markdown",
   "metadata": {},
   "source": [
    "### 3-11 用电类别 ELEC_TYPE"
   ]
  },
  {
   "cell_type": "markdown",
   "metadata": {},
   "source": [
    "#### 3-11-1 所有工单下"
   ]
  },
  {
   "cell_type": "markdown",
   "metadata": {},
   "source": [
    "##### 3-11-1-1 训练集"
   ]
  },
  {
   "cell_type": "code",
   "execution_count": 60,
   "metadata": {
    "collapsed": true
   },
   "outputs": [
    {
     "name": "stdout",
     "output_type": "stream",
     "text": [
      "(254028, 16)\n",
      "(2,)\n"
     ]
    },
    {
     "data": {
      "image/png": "[encoded data removed]",
      "text/plain": [
       "<matplotlib.figure.Figure at 0x7f420e97b4d0>"
      ]
     },
     "metadata": {},
     "output_type": "display_data"
    }
   ],
   "source": [
    "# 当该字段为空情况下，有 254028个工单，其中 196990个不敏感，57038个敏感\n",
    "print train_data01_merge_label_df.loc[train_data01_merge_label_df['ELEC_TYPE'].isnull()].shape\n",
    "show_attribute_detail(\n",
    "    train_data01_merge_label_df.loc[train_data01_merge_label_df['ELEC_TYPE'].isnull()],\n",
    "    attribute_name='TAG',\n",
    ")"
   ]
  },
  {
   "cell_type": "code",
   "execution_count": 64,
   "metadata": {
    "collapsed": true
   },
   "outputs": [
    {
     "name": "stdout",
     "output_type": "stream",
     "text": [
      "(19, 5)\n"
     ]
    },
    {
     "data": {
      "image/png": "[encoded data removed]",
      "text/plain": [
       "<matplotlib.figure.Figure at 0x7f422a43af50>"
      ]
     },
     "metadata": {},
     "output_type": "display_data"
    }
   ],
   "source": [
    "train_data01_merge_label_elec_type_count_df = \\\n",
    "    show_attribute_detail(train_data01_merge_label_df,'ELEC_TYPE',split_by_tag=True,tag_name='TAG')"
   ]
  },
  {
   "cell_type": "markdown",
   "metadata": {},
   "source": [
    "##### 3-11-1-2 测试集"
   ]
  },
  {
   "cell_type": "code",
   "execution_count": 58,
   "metadata": {
    "collapsed": false
   },
   "outputs": [
    {
     "name": "stdout",
     "output_type": "stream",
     "text": [
      "(89812, 15)\n"
     ]
    }
   ],
   "source": [
    "# 当该字段为空情况下，有 89812个工单\n",
    "print test_data01_merge_label_df.loc[test_data01_merge_label_df['ELEC_TYPE'].isnull()].shape"
   ]
  },
  {
   "cell_type": "code",
   "execution_count": 62,
   "metadata": {
    "collapsed": true
   },
   "outputs": [
    {
     "name": "stdout",
     "output_type": "stream",
     "text": [
      "(18,)\n"
     ]
    },
    {
     "data": {
      "image/png": "[encoded data removed]",
      "text/plain": [
       "<matplotlib.figure.Figure at 0x7f420e45bb10>"
      ]
     },
     "metadata": {},
     "output_type": "display_data"
    }
   ],
   "source": [
    "test_data01_merge_label_elec_type_count_df = \\\n",
    "    show_attribute_detail(test_data01_merge_label_df,'ELEC_TYPE')"
   ]
  },
  {
   "cell_type": "markdown",
   "metadata": {},
   "source": [
    "##### 3-11-1-3 合并结果"
   ]
  },
  {
   "cell_type": "code",
   "execution_count": 78,
   "metadata": {
    "collapsed": true
   },
   "outputs": [
    {
     "data": {
      "text/html": [
       "<div>\n",
       "<table border=\"1\" class=\"dataframe\">\n",
       "  <thead>\n",
       "    <tr style=\"text-align: right;\">\n",
       "      <th></th>\n",
       "      <th>total</th>\n",
       "      <th>tag0</th>\n",
       "      <th>tag0/total</th>\n",
       "      <th>tag1</th>\n",
       "      <th>tag1/total</th>\n",
       "      <th>test_total</th>\n",
       "    </tr>\n",
       "  </thead>\n",
       "  <tbody>\n",
       "    <tr>\n",
       "      <th>100.0</th>\n",
       "      <td>26773.0</td>\n",
       "      <td>15820.0</td>\n",
       "      <td>0.590894</td>\n",
       "      <td>10953.0</td>\n",
       "      <td>0.409106</td>\n",
       "      <td>4372.0</td>\n",
       "    </tr>\n",
       "    <tr>\n",
       "      <th>400.0</th>\n",
       "      <td>186.0</td>\n",
       "      <td>110.0</td>\n",
       "      <td>0.591398</td>\n",
       "      <td>76.0</td>\n",
       "      <td>0.408602</td>\n",
       "      <td>42.0</td>\n",
       "    </tr>\n",
       "    <tr>\n",
       "      <th>405.0</th>\n",
       "      <td>72102.0</td>\n",
       "      <td>48535.0</td>\n",
       "      <td>0.673144</td>\n",
       "      <td>23567.0</td>\n",
       "      <td>0.326856</td>\n",
       "      <td>22276.0</td>\n",
       "    </tr>\n",
       "    <tr>\n",
       "      <th>402.0</th>\n",
       "      <td>20667.0</td>\n",
       "      <td>13922.0</td>\n",
       "      <td>0.673634</td>\n",
       "      <td>6745.0</td>\n",
       "      <td>0.326366</td>\n",
       "      <td>5989.0</td>\n",
       "    </tr>\n",
       "    <tr>\n",
       "      <th>200.0</th>\n",
       "      <td>42112.0</td>\n",
       "      <td>30525.0</td>\n",
       "      <td>0.724853</td>\n",
       "      <td>11587.0</td>\n",
       "      <td>0.275147</td>\n",
       "      <td>14576.0</td>\n",
       "    </tr>\n",
       "    <tr>\n",
       "      <th>202.0</th>\n",
       "      <td>519338.0</td>\n",
       "      <td>381384.0</td>\n",
       "      <td>0.734366</td>\n",
       "      <td>137954.0</td>\n",
       "      <td>0.265634</td>\n",
       "      <td>179996.0</td>\n",
       "    </tr>\n",
       "    <tr>\n",
       "      <th>403.0</th>\n",
       "      <td>55050.0</td>\n",
       "      <td>41404.0</td>\n",
       "      <td>0.752116</td>\n",
       "      <td>13646.0</td>\n",
       "      <td>0.247884</td>\n",
       "      <td>17291.0</td>\n",
       "    </tr>\n",
       "    <tr>\n",
       "      <th>203.0</th>\n",
       "      <td>407.0</td>\n",
       "      <td>313.0</td>\n",
       "      <td>0.769042</td>\n",
       "      <td>94.0</td>\n",
       "      <td>0.230958</td>\n",
       "      <td>162.0</td>\n",
       "    </tr>\n",
       "    <tr>\n",
       "      <th>300.0</th>\n",
       "      <td>2483.0</td>\n",
       "      <td>2014.0</td>\n",
       "      <td>0.811116</td>\n",
       "      <td>469.0</td>\n",
       "      <td>0.188884</td>\n",
       "      <td>1099.0</td>\n",
       "    </tr>\n",
       "    <tr>\n",
       "      <th>201.0</th>\n",
       "      <td>196417.0</td>\n",
       "      <td>163493.0</td>\n",
       "      <td>0.832377</td>\n",
       "      <td>32924.0</td>\n",
       "      <td>0.167623</td>\n",
       "      <td>87808.0</td>\n",
       "    </tr>\n",
       "    <tr>\n",
       "      <th>401.0</th>\n",
       "      <td>137.0</td>\n",
       "      <td>115.0</td>\n",
       "      <td>0.839416</td>\n",
       "      <td>22.0</td>\n",
       "      <td>0.160584</td>\n",
       "      <td>50.0</td>\n",
       "    </tr>\n",
       "    <tr>\n",
       "      <th>301.0</th>\n",
       "      <td>484.0</td>\n",
       "      <td>424.0</td>\n",
       "      <td>0.876033</td>\n",
       "      <td>60.0</td>\n",
       "      <td>0.123967</td>\n",
       "      <td>246.0</td>\n",
       "    </tr>\n",
       "    <tr>\n",
       "      <th>504.0</th>\n",
       "      <td>6.0</td>\n",
       "      <td>6.0</td>\n",
       "      <td>1.000000</td>\n",
       "      <td>0.0</td>\n",
       "      <td>0.000000</td>\n",
       "      <td>4.0</td>\n",
       "    </tr>\n",
       "    <tr>\n",
       "      <th>503.0</th>\n",
       "      <td>1.0</td>\n",
       "      <td>1.0</td>\n",
       "      <td>1.000000</td>\n",
       "      <td>0.0</td>\n",
       "      <td>0.000000</td>\n",
       "      <td>0.0</td>\n",
       "    </tr>\n",
       "    <tr>\n",
       "      <th>500.0</th>\n",
       "      <td>2.0</td>\n",
       "      <td>2.0</td>\n",
       "      <td>1.000000</td>\n",
       "      <td>0.0</td>\n",
       "      <td>0.000000</td>\n",
       "      <td>1.0</td>\n",
       "    </tr>\n",
       "    <tr>\n",
       "      <th>0.0</th>\n",
       "      <td>1.0</td>\n",
       "      <td>1.0</td>\n",
       "      <td>1.000000</td>\n",
       "      <td>0.0</td>\n",
       "      <td>0.000000</td>\n",
       "      <td>1.0</td>\n",
       "    </tr>\n",
       "    <tr>\n",
       "      <th>404.0</th>\n",
       "      <td>1.0</td>\n",
       "      <td>1.0</td>\n",
       "      <td>1.000000</td>\n",
       "      <td>0.0</td>\n",
       "      <td>0.000000</td>\n",
       "      <td>1.0</td>\n",
       "    </tr>\n",
       "    <tr>\n",
       "      <th>102.0</th>\n",
       "      <td>1.0</td>\n",
       "      <td>1.0</td>\n",
       "      <td>1.000000</td>\n",
       "      <td>0.0</td>\n",
       "      <td>0.000000</td>\n",
       "      <td>0.0</td>\n",
       "    </tr>\n",
       "    <tr>\n",
       "      <th>101.0</th>\n",
       "      <td>2.0</td>\n",
       "      <td>2.0</td>\n",
       "      <td>1.000000</td>\n",
       "      <td>0.0</td>\n",
       "      <td>0.000000</td>\n",
       "      <td>1.0</td>\n",
       "    </tr>\n",
       "    <tr>\n",
       "      <th>900.0</th>\n",
       "      <td>0.0</td>\n",
       "      <td>0.0</td>\n",
       "      <td>0.000000</td>\n",
       "      <td>0.0</td>\n",
       "      <td>0.000000</td>\n",
       "      <td>1.0</td>\n",
       "    </tr>\n",
       "  </tbody>\n",
       "</table>\n",
       "</div>"
      ],
      "text/plain": [
       "          total      tag0  tag0/total      tag1  tag1/total  test_total\n",
       "100.0   26773.0   15820.0    0.590894   10953.0    0.409106      4372.0\n",
       "400.0     186.0     110.0    0.591398      76.0    0.408602        42.0\n",
       "405.0   72102.0   48535.0    0.673144   23567.0    0.326856     22276.0\n",
       "402.0   20667.0   13922.0    0.673634    6745.0    0.326366      5989.0\n",
       "200.0   42112.0   30525.0    0.724853   11587.0    0.275147     14576.0\n",
       "202.0  519338.0  381384.0    0.734366  137954.0    0.265634    179996.0\n",
       "403.0   55050.0   41404.0    0.752116   13646.0    0.247884     17291.0\n",
       "203.0     407.0     313.0    0.769042      94.0    0.230958       162.0\n",
       "300.0    2483.0    2014.0    0.811116     469.0    0.188884      1099.0\n",
       "201.0  196417.0  163493.0    0.832377   32924.0    0.167623     87808.0\n",
       "401.0     137.0     115.0    0.839416      22.0    0.160584        50.0\n",
       "301.0     484.0     424.0    0.876033      60.0    0.123967       246.0\n",
       "504.0       6.0       6.0    1.000000       0.0    0.000000         4.0\n",
       "503.0       1.0       1.0    1.000000       0.0    0.000000         0.0\n",
       "500.0       2.0       2.0    1.000000       0.0    0.000000         1.0\n",
       "0.0         1.0       1.0    1.000000       0.0    0.000000         1.0\n",
       "404.0       1.0       1.0    1.000000       0.0    0.000000         1.0\n",
       "102.0       1.0       1.0    1.000000       0.0    0.000000         0.0\n",
       "101.0       2.0       2.0    1.000000       0.0    0.000000         1.0\n",
       "900.0       0.0       0.0    0.000000       0.0    0.000000         1.0"
      ]
     },
     "execution_count": 78,
     "metadata": {},
     "output_type": "execute_result"
    }
   ],
   "source": [
    "temp = train_data01_merge_label_elec_type_count_df.join(\n",
    "    test_data01_merge_label_elec_type_count_df,\n",
    "    how='outer',\n",
    ").fillna(0).sort_values(by='tag1/total',ascending=False)\n",
    "temp['test_total'] = temp['ELEC_TYPE']\n",
    "temp = temp.drop(labels = [u'ELEC_TYPE'],axis=1)\n",
    "temp"
   ]
  },
  {
   "cell_type": "markdown",
   "metadata": {},
   "source": [
    "#### 3-11-2 代表工单下"
   ]
  },
  {
   "cell_type": "markdown",
   "metadata": {},
   "source": [
    "##### 3-11-2-1 训练集"
   ]
  },
  {
   "cell_type": "code",
   "execution_count": 55,
   "metadata": {
    "collapsed": true
   },
   "outputs": [
    {
     "name": "stdout",
     "output_type": "stream",
     "text": [
      "(137439, 16)\n",
      "(2,)\n"
     ]
    },
    {
     "data": {
      "text/plain": [
       "0    122466\n",
       "1     14973\n",
       "Name: TAG, dtype: int64"
      ]
     },
     "execution_count": 55,
     "metadata": {},
     "output_type": "execute_result"
    },
    {
     "data": {
      "image/png": "[encoded data removed]",
      "text/plain": [
       "<matplotlib.figure.Figure at 0x7f420e9f45d0>"
      ]
     },
     "metadata": {},
     "output_type": "display_data"
    }
   ],
   "source": [
    "# 当该字段为空情况下，有 137439个工单，其中 122466个不敏感，14973个敏感\n",
    "print train_data01_a_worker_per_user.loc[train_data01_a_worker_per_user['ELEC_TYPE'].isnull()].shape\n",
    "show_attribute_detail(\n",
    "    train_data01_a_worker_per_user.loc[train_data01_a_worker_per_user['ELEC_TYPE'].isnull()],\n",
    "    attribute_name='TAG',\n",
    ")"
   ]
  },
  {
   "cell_type": "code",
   "execution_count": 61,
   "metadata": {
    "collapsed": true
   },
   "outputs": [
    {
     "name": "stdout",
     "output_type": "stream",
     "text": [
      "(19, 5)\n"
     ]
    },
    {
     "data": {
      "image/png": "[encoded data removed]",
      "text/plain": [
       "<matplotlib.figure.Figure at 0x7f420e45b590>"
      ]
     },
     "metadata": {},
     "output_type": "display_data"
    }
   ],
   "source": [
    "train_data01_a_worker_per_user_elec_type_count_df = \\\n",
    "    show_attribute_detail(train_data01_a_worker_per_user,'ELEC_TYPE',split_by_tag=True,tag_name='TAG')"
   ]
  },
  {
   "cell_type": "markdown",
   "metadata": {},
   "source": [
    "##### 3-11-2-2 测试集"
   ]
  },
  {
   "cell_type": "code",
   "execution_count": 95,
   "metadata": {
    "collapsed": false
   },
   "outputs": [
    {
     "name": "stdout",
     "output_type": "stream",
     "text": [
      "(78122, 15)\n"
     ]
    }
   ],
   "source": [
    "# 当该字段为空情况下，有 78122个工单\n",
    "print test_data01_a_worker_per_user.loc[test_data01_a_worker_per_user['ELEC_TYPE'].isnull()].shape"
   ]
  },
  {
   "cell_type": "code",
   "execution_count": 97,
   "metadata": {
    "collapsed": true
   },
   "outputs": [
    {
     "name": "stdout",
     "output_type": "stream",
     "text": [
      "(18,)\n"
     ]
    },
    {
     "data": {
      "image/png": "[encoded data removed]",
      "text/plain": [
       "<matplotlib.figure.Figure at 0x7f420ea9d9d0>"
      ]
     },
     "metadata": {},
     "output_type": "display_data"
    }
   ],
   "source": [
    "test_data01_a_worker_per_user_elec_type_count_df = \\\n",
    "    show_attribute_detail(test_data01_a_worker_per_user,'ELEC_TYPE')"
   ]
  },
  {
   "cell_type": "markdown",
   "metadata": {},
   "source": [
    "##### 3-11-2-3 合并结果"
   ]
  },
  {
   "cell_type": "code",
   "execution_count": 99,
   "metadata": {
    "collapsed": true
   },
   "outputs": [
    {
     "name": "stdout",
     "output_type": "stream",
     "text": [
      "代表工单 -用电类别 ELEC_TYPE\n",
      "          total      tag0  tag0/total     tag1  tag1/total  test_total\n",
      "100.0    8532.0    6920.0    0.811064   1612.0    0.188936      3459.0\n",
      "200.0   23228.0   19742.0    0.849923   3486.0    0.150077     12597.0\n",
      "202.0  286239.0  247094.0    0.863244  39145.0    0.136756    155912.0\n",
      "405.0   35136.0   30342.0    0.863559   4794.0    0.136441     19418.0\n",
      "402.0    9640.0    8379.0    0.869191   1261.0    0.130809      5174.0\n",
      "400.0      65.0      57.0    0.876923      8.0    0.123077        34.0\n",
      "401.0      84.0      74.0    0.880952     10.0    0.119048        47.0\n",
      "203.0     239.0     211.0    0.882845     28.0    0.117155       143.0\n",
      "403.0   28267.0   25171.0    0.890473   3096.0    0.109527     15188.0\n",
      "201.0  127640.0  116190.0    0.910295  11450.0    0.089705     79539.0\n",
      "300.0    1506.0    1371.0    0.910359    135.0    0.089641       995.0\n",
      "301.0     351.0     324.0    0.923077     27.0    0.076923       234.0\n",
      "504.0       4.0       4.0    1.000000      0.0    0.000000         4.0\n",
      "503.0       1.0       1.0    1.000000      0.0    0.000000         0.0\n",
      "500.0       2.0       2.0    1.000000      0.0    0.000000         1.0\n",
      "0.0         1.0       1.0    1.000000      0.0    0.000000         1.0\n",
      "404.0       1.0       1.0    1.000000      0.0    0.000000         1.0\n",
      "102.0       1.0       1.0    1.000000      0.0    0.000000         0.0\n",
      "101.0       1.0       1.0    1.000000      0.0    0.000000         1.0\n",
      "900.0       0.0       0.0    0.000000      0.0    0.000000         1.0\n"
     ]
    }
   ],
   "source": [
    "temp = train_data01_a_worker_per_user_elec_type_count_df.join(\n",
    "    test_data01_a_worker_per_user_elec_type_count_df,\n",
    "    how='outer',\n",
    ").fillna(0).sort_values(by='tag1/total',ascending=False)\n",
    "temp['test_total'] = temp['ELEC_TYPE']\n",
    "temp = temp.drop(labels = [u'ELEC_TYPE'],axis=1)\n",
    "print '代表工单 -用电类别 ELEC_TYPE'\n",
    "print temp"
   ]
  },
  {
   "cell_type": "markdown",
   "metadata": {},
   "source": [
    "###### 小结\n",
    "- 工业性的用电 敏感度高，比如 400（一般工商业）、100（大工业用电）、405（商业用电）、402（非工业）"
   ]
  },
  {
   "cell_type": "markdown",
   "metadata": {},
   "source": [
    "### 3-15 CUST_NO前缀"
   ]
  },
  {
   "cell_type": "code",
   "execution_count": null,
   "metadata": {
    "collapsed": true
   },
   "outputs": [],
   "source": [
    "%%time\n",
    "train_data01_a_worker_per_user['CUST_NO_3bit'] = train_data01_a_worker_per_user['CUST_NO'].str.slice(0,3)"
   ]
  },
  {
   "cell_type": "code",
   "execution_count": null,
   "metadata": {
    "collapsed": true
   },
   "outputs": [],
   "source": [
    "test_data01_a_worker_per_user = test_data01_a_worker_per_user.drop(['CUST_NO_8bit'],axis=1)"
   ]
  },
  {
   "cell_type": "code",
   "execution_count": null,
   "metadata": {
    "collapsed": true
   },
   "outputs": [],
   "source": [
    "%%time\n",
    "test_data01_a_worker_per_user['CUST_NO_3bit'] = test_data01_a_worker_per_user['CUST_NO'].str.slice(0,3)"
   ]
  },
  {
   "cell_type": "code",
   "execution_count": null,
   "metadata": {
    "collapsed": true
   },
   "outputs": [],
   "source": [
    "len(train_data01_a_worker_per_user[train_data01_a_worker_per_user['IS_CONNECT_TO_09TABLE']==1]['CUST_NO_8bit'].unique())"
   ]
  },
  {
   "cell_type": "code",
   "execution_count": null,
   "metadata": {
    "collapsed": true
   },
   "outputs": [],
   "source": [
    "train = show_attribute_detail(\n",
    "    train_data01_a_worker_per_user[train_data01_a_worker_per_user['IS_CONNECT_TO_09TABLE']==1],\n",
    "    'CUST_NO_8bit',\n",
    "    True,\n",
    "    'TAG',\n",
    "    False\n",
    ")\n"
   ]
  },
  {
   "cell_type": "code",
   "execution_count": null,
   "metadata": {
    "collapsed": true
   },
   "outputs": [],
   "source": [
    "test = show_attribute_detail(\n",
    "    test_data01_a_worker_per_user[test_data01_a_worker_per_user['IS_CONNECT_TO_09TABLE']==1],\n",
    "    'CUST_NO_8bit',\n",
    "    False,\n",
    "    'TAG',\n",
    "    False\n",
    ")\n"
   ]
  },
  {
   "cell_type": "code",
   "execution_count": 1,
   "metadata": {
    "collapsed": true
   },
   "outputs": [
    {
     "ename": "NameError",
     "evalue": "name 'train' is not defined",
     "output_type": "error",
     "traceback": [
      "\u001b[0;31m---------------------------------------------------------------------------\u001b[0m",
      "\u001b[0;31mNameError\u001b[0m                                 Traceback (most recent call last)",
      "\u001b[0;32m<ipython-input-1-0be5d1afb3a8>\u001b[0m in \u001b[0;36m<module>\u001b[0;34m()\u001b[0m\n\u001b[0;32m----> 1\u001b[0;31m \u001b[0mtemp\u001b[0m \u001b[0;34m=\u001b[0m \u001b[0mtrain\u001b[0m\u001b[0;34m.\u001b[0m\u001b[0mjoin\u001b[0m\u001b[0;34m(\u001b[0m\u001b[0mtest\u001b[0m\u001b[0;34m,\u001b[0m\u001b[0mhow\u001b[0m\u001b[0;34m=\u001b[0m\u001b[0;34m'outer'\u001b[0m\u001b[0;34m)\u001b[0m\u001b[0;34m\u001b[0m\u001b[0m\n\u001b[0m\u001b[1;32m      2\u001b[0m \u001b[0;34m\u001b[0m\u001b[0m\n\u001b[1;32m      3\u001b[0m \u001b[0msave_data\u001b[0m\u001b[0;34m(\u001b[0m\u001b[0mtemp\u001b[0m\u001b[0;34m,\u001b[0m\u001b[0;34m'temp.csv'\u001b[0m\u001b[0;34m,\u001b[0m\u001b[0mindex\u001b[0m\u001b[0;34m=\u001b[0m\u001b[0mTrue\u001b[0m\u001b[0;34m)\u001b[0m\u001b[0;34m\u001b[0m\u001b[0m\n",
      "\u001b[0;31mNameError\u001b[0m: name 'train' is not defined"
     ]
    }
   ],
   "source": [
    "temp = train.join(test,how='outer')\n",
    "\n",
    "save_data(temp,'temp.csv',index=True)"
   ]
  },
  {
   "cell_type": "markdown",
   "metadata": {},
   "source": [
    "### 3-16 ACCEPT_CONTENT_TYPE 取该用户所有记录工单"
   ]
  },
  {
   "cell_type": "code",
   "execution_count": 17,
   "metadata": {
    "collapsed": false
   },
   "outputs": [
    {
     "data": {
      "text/html": [
       "<div>\n",
       "<table border=\"1\" class=\"dataframe\">\n",
       "  <thead>\n",
       "    <tr style=\"text-align: right;\">\n",
       "      <th></th>\n",
       "      <th>APP_NO</th>\n",
       "      <th>ID</th>\n",
       "      <th>BUSI_TYPE_CODE</th>\n",
       "      <th>URBAN_RURAL_FLAG</th>\n",
       "      <th>ORG_NO</th>\n",
       "      <th>HANDLE_TIME</th>\n",
       "      <th>ACCEPT_CONTENT</th>\n",
       "      <th>HANDLE_OPINION</th>\n",
       "      <th>CALLING_NO</th>\n",
       "      <th>ELEC_TYPE</th>\n",
       "      <th>...</th>\n",
       "      <th>NUM_OF_USED_PAY_MODE</th>\n",
       "      <th>IS_PAY_MODE_CONTAINS_020311</th>\n",
       "      <th>IS_PAY_MODE_CONTAINS_010101</th>\n",
       "      <th>IS_PAY_MODE_CONTAINS_020261</th>\n",
       "      <th>LAST_MONTH_PAY_MODE</th>\n",
       "      <th>PAY_MODE_CHANGE_CLUE</th>\n",
       "      <th>CUST_NO_3bit</th>\n",
       "      <th>ORG_NO_9bit</th>\n",
       "      <th>LAST_MONTH_PAY_MODE_4bit</th>\n",
       "      <th>PAY_MODE_4bit_CHANGE_CLUE</th>\n",
       "    </tr>\n",
       "  </thead>\n",
       "  <tbody>\n",
       "    <tr>\n",
       "      <th>368850</th>\n",
       "      <td>2015010938116641</td>\n",
       "      <td>1000000240224233</td>\n",
       "      <td>3</td>\n",
       "      <td>1.0</td>\n",
       "      <td>3340201</td>\n",
       "      <td>2015/1/9 13:19:54</td>\n",
       "      <td>【信息咨询】客户来电反映0003408243户号有错发的短信</td>\n",
       "      <td>NaN</td>\n",
       "      <td>1754801.0</td>\n",
       "      <td>NaN</td>\n",
       "      <td>...</td>\n",
       "      <td>NaN</td>\n",
       "      <td>NaN</td>\n",
       "      <td>NaN</td>\n",
       "      <td>NaN</td>\n",
       "      <td></td>\n",
       "      <td>NaN</td>\n",
       "      <td>000</td>\n",
       "      <td>NaN</td>\n",
       "      <td></td>\n",
       "      <td>NaN</td>\n",
       "    </tr>\n",
       "  </tbody>\n",
       "</table>\n",
       "<p>1 rows × 58 columns</p>\n",
       "</div>"
      ],
      "text/plain": [
       "                  APP_NO                ID  BUSI_TYPE_CODE  URBAN_RURAL_FLAG  \\\n",
       "368850  2015010938116641  1000000240224233               3               1.0   \n",
       "\n",
       "         ORG_NO        HANDLE_TIME                  ACCEPT_CONTENT  \\\n",
       "368850  3340201  2015/1/9 13:19:54  【信息咨询】客户来电反映0003408243户号有错发的短信   \n",
       "\n",
       "       HANDLE_OPINION  CALLING_NO  ELEC_TYPE            ...              \\\n",
       "368850            NaN   1754801.0        NaN            ...               \n",
       "\n",
       "       NUM_OF_USED_PAY_MODE  IS_PAY_MODE_CONTAINS_020311  \\\n",
       "368850                  NaN                          NaN   \n",
       "\n",
       "        IS_PAY_MODE_CONTAINS_010101  IS_PAY_MODE_CONTAINS_020261  \\\n",
       "368850                          NaN                          NaN   \n",
       "\n",
       "        LAST_MONTH_PAY_MODE PAY_MODE_CHANGE_CLUE  CUST_NO_3bit  ORG_NO_9bit  \\\n",
       "368850                                       NaN           000          NaN   \n",
       "\n",
       "        LAST_MONTH_PAY_MODE_4bit  PAY_MODE_4bit_CHANGE_CLUE  \n",
       "368850                                                  NaN  \n",
       "\n",
       "[1 rows x 58 columns]"
      ]
     },
     "execution_count": 17,
     "metadata": {},
     "output_type": "execute_result"
    }
   ],
   "source": [
    "train_data01_a_worker_per_user[train_data01_a_worker_per_user['CUST_NO']=='0003408243']"
   ]
  },
  {
   "cell_type": "code",
   "execution_count": 19,
   "metadata": {
    "collapsed": false
   },
   "outputs": [
    {
     "data": {
      "text/html": [
       "<div>\n",
       "<table border=\"1\" class=\"dataframe\">\n",
       "  <thead>\n",
       "    <tr style=\"text-align: right;\">\n",
       "      <th></th>\n",
       "      <th>APP_NO</th>\n",
       "      <th>ID</th>\n",
       "      <th>BUSI_TYPE_CODE</th>\n",
       "      <th>URBAN_RURAL_FLAG</th>\n",
       "      <th>ORG_NO</th>\n",
       "      <th>HANDLE_TIME</th>\n",
       "      <th>ACCEPT_CONTENT</th>\n",
       "      <th>HANDLE_OPINION</th>\n",
       "      <th>CALLING_NO</th>\n",
       "      <th>ELEC_TYPE</th>\n",
       "      <th>CUST_NO</th>\n",
       "      <th>PROV_ORG_NO</th>\n",
       "      <th>CITY_ORG_NO</th>\n",
       "      <th>TAG</th>\n",
       "      <th>ACCEPT_CONTENT_TYPE</th>\n",
       "    </tr>\n",
       "  </thead>\n",
       "  <tbody>\n",
       "    <tr>\n",
       "      <th>650686</th>\n",
       "      <td>2015010938116641</td>\n",
       "      <td>1000000240224233</td>\n",
       "      <td>3</td>\n",
       "      <td>1.0</td>\n",
       "      <td>3340201</td>\n",
       "      <td>2015/1/9 13:19:54</td>\n",
       "      <td>【信息咨询】客户来电反映0003408243户号有错发的短信</td>\n",
       "      <td>NaN</td>\n",
       "      <td>1754801.0</td>\n",
       "      <td>NaN</td>\n",
       "      <td>0003408243</td>\n",
       "      <td>33101</td>\n",
       "      <td>33402</td>\n",
       "      <td>0</td>\n",
       "      <td>信息咨询</td>\n",
       "    </tr>\n",
       "    <tr>\n",
       "      <th>651331</th>\n",
       "      <td>2015010938117991</td>\n",
       "      <td>1000000240230826</td>\n",
       "      <td>3</td>\n",
       "      <td>1.0</td>\n",
       "      <td>3340201</td>\n",
       "      <td>2015/1/9 13:26:44</td>\n",
       "      <td>【非电力维护】贵州用户</td>\n",
       "      <td>NaN</td>\n",
       "      <td>1754801.0</td>\n",
       "      <td>NaN</td>\n",
       "      <td>0003408243</td>\n",
       "      <td>33101</td>\n",
       "      <td>33402</td>\n",
       "      <td>0</td>\n",
       "      <td>非电力维护</td>\n",
       "    </tr>\n",
       "  </tbody>\n",
       "</table>\n",
       "</div>"
      ],
      "text/plain": [
       "                  APP_NO                ID  BUSI_TYPE_CODE  URBAN_RURAL_FLAG  \\\n",
       "650686  2015010938116641  1000000240224233               3               1.0   \n",
       "651331  2015010938117991  1000000240230826               3               1.0   \n",
       "\n",
       "         ORG_NO        HANDLE_TIME                  ACCEPT_CONTENT  \\\n",
       "650686  3340201  2015/1/9 13:19:54  【信息咨询】客户来电反映0003408243户号有错发的短信   \n",
       "651331  3340201  2015/1/9 13:26:44                     【非电力维护】贵州用户   \n",
       "\n",
       "       HANDLE_OPINION  CALLING_NO  ELEC_TYPE     CUST_NO  PROV_ORG_NO  \\\n",
       "650686            NaN   1754801.0        NaN  0003408243        33101   \n",
       "651331            NaN   1754801.0        NaN  0003408243        33101   \n",
       "\n",
       "        CITY_ORG_NO  TAG ACCEPT_CONTENT_TYPE  \n",
       "650686        33402    0                信息咨询  \n",
       "651331        33402    0               非电力维护  "
      ]
     },
     "execution_count": 19,
     "metadata": {},
     "output_type": "execute_result"
    }
   ],
   "source": [
    "train_data01_merge_label_df[train_data01_merge_label_df['CUST_NO']=='0003408243']"
   ]
  },
  {
   "cell_type": "markdown",
   "metadata": {},
   "source": [
    "#### 训练集"
   ]
  },
  {
   "cell_type": "code",
   "execution_count": 13,
   "metadata": {
    "collapsed": false,
    "scrolled": true
   },
   "outputs": [
    {
     "name": "stdout",
     "output_type": "stream",
     "text": [
      "CPU times: user 36.6 s, sys: 192 ms, total: 36.8 s\n",
      "Wall time: 36.6 s\n"
     ]
    }
   ],
   "source": [
    "%%time\n",
    "train_data01_cust_no_mulit_accept_content_type_series = \\\n",
    "    train_data01_merge_label_df.groupby('CUST_NO')['ACCEPT_CONTENT_TYPE'].apply(\n",
    "        lambda x:'+'.join( [item for item in set(x) if item is not None])\n",
    "    )"
   ]
  },
  {
   "cell_type": "code",
   "execution_count": 16,
   "metadata": {
    "collapsed": true
   },
   "outputs": [
    {
     "data": {
      "text/plain": [
       "CUST_NO\n",
       "00000248                       咨询总户号\n",
       "0000048308                      重复缴费\n",
       "0000320298                     咨询总户号\n",
       "0000381811                      查询电费\n",
       "0000506327                      缴费方式\n",
       "0000656849                      缴费方式\n",
       "00010005573702                 咨询总户号\n",
       "0001649967                      异常来电\n",
       "0002164407                      银行代扣\n",
       "0002471802                      查询电费\n",
       "0002471815                 信息咨询+抄表示数\n",
       "0002476706               查询电费+欠费复电登记\n",
       "0002496069                      一户无电\n",
       "0002506278                咨询总户号+查询电费\n",
       "0002507444                咨询总户号+用户信息\n",
       "0002516497                     咨询总户号\n",
       "0002557351                      查询电费\n",
       "0002576549                     咨询总户号\n",
       "0002581705                     咨询总户号\n",
       "0002581851                     咨询总户号\n",
       "0002581877                      用户信息\n",
       "0002581949                 新增订阅+短信变更\n",
       "0002582056        客户咨询一户无电+查询电费+一户无电\n",
       "0002582098                     咨询总户号\n",
       "0002582160                      查询电费\n",
       "0002582199                     咨询总户号\n",
       "0002582232               查询电费+变更用电业务\n",
       "0002582258                      查询电费\n",
       "0002582261                      分时电价\n",
       "0002582320                      查询电费\n",
       "                         ...        \n",
       "0002606558                 信息咨询+查询电费\n",
       "0002606574                查询电费+回呼+协助\n",
       "0003080780               故障停电原因及修复时间\n",
       "0003243177                      查询电费\n",
       "0003408243                信息咨询+非电力维护\n",
       "0003833894                    跨分中心业务\n",
       "0003881617                     跨中心业务\n",
       "0004075048                      查询电费\n",
       "0004489142                    跨分中心业务\n",
       "0005140998                      查询电费\n",
       "0005675                         多户无电\n",
       "0005766958                     咨询总户号\n",
       "0005842433                     咨询总户号\n",
       "0006094805                      打错电话\n",
       "0006716030                     咨询总户号\n",
       "0007768880                     跨中心业务\n",
       "0008026897                      表计信息\n",
       "0008145347                     咨询总户号\n",
       "0008246989                   跨中心业务诉求\n",
       "0008444533                      电量异常\n",
       "0008725648                      查询电费\n",
       "0008927822                    跨分中心业务\n",
       "0008930996                     咨询总户号\n",
       "0009323868                     营业厅信息\n",
       "0009883807                     咨询总户号\n",
       "0010024437              欠费停复电+跨分部门业务\n",
       "0010192946                        回呼\n",
       "0010475561                     营业厅信息\n",
       "0011033801                     咨询总户号\n",
       "0011472025                      短信订阅\n",
       "Name: ACCEPT_CONTENT_TYPE, dtype: object"
      ]
     },
     "execution_count": 16,
     "metadata": {},
     "output_type": "execute_result"
    }
   ],
   "source": [
    "train_data01_cust_no_mulit_accept_content_type_series.head()"
   ]
  },
  {
   "cell_type": "code",
   "execution_count": 21,
   "metadata": {
    "collapsed": true
   },
   "outputs": [],
   "source": [
    "train_data01_a_worker_per_user['MULIT_ACCEPT_CONTENT_TYPE'] = \\\n",
    "    train_data01_a_worker_per_user['CUST_NO'].map(train_data01_cust_no_mulit_accept_content_type_series)"
   ]
  },
  {
   "cell_type": "markdown",
   "metadata": {},
   "source": [
    "#### 测试集"
   ]
  },
  {
   "cell_type": "code",
   "execution_count": 20,
   "metadata": {
    "collapsed": false,
    "scrolled": true
   },
   "outputs": [
    {
     "name": "stdout",
     "output_type": "stream",
     "text": [
      "CPU times: user 20.9 s, sys: 80 ms, total: 21 s\n",
      "Wall time: 20.9 s\n"
     ]
    }
   ],
   "source": [
    "%%time\n",
    "test_data01_cust_no_mulit_accept_content_type_series = \\\n",
    "    test_data01_merge_label_df.groupby('CUST_NO')['ACCEPT_CONTENT_TYPE'].apply(\n",
    "        lambda x:'+'.join( [item for item in set(x) if item is not None])\n",
    "    )"
   ]
  },
  {
   "cell_type": "code",
   "execution_count": 22,
   "metadata": {
    "collapsed": true
   },
   "outputs": [],
   "source": [
    "test_data01_a_worker_per_user['MULIT_ACCEPT_CONTENT_TYPE'] = \\\n",
    "    test_data01_a_worker_per_user['CUST_NO'].map(test_data01_cust_no_mulit_accept_content_type_series)"
   ]
  },
  {
   "cell_type": "code",
   "execution_count": 23,
   "metadata": {
    "collapsed": true
   },
   "outputs": [
    {
     "data": {
      "text/html": [
       "<div>\n",
       "<table border=\"1\" class=\"dataframe\">\n",
       "  <thead>\n",
       "    <tr style=\"text-align: right;\">\n",
       "      <th></th>\n",
       "      <th>APP_NO</th>\n",
       "      <th>ID</th>\n",
       "      <th>BUSI_TYPE_CODE</th>\n",
       "      <th>URBAN_RURAL_FLAG</th>\n",
       "      <th>ORG_NO</th>\n",
       "      <th>HANDLE_TIME</th>\n",
       "      <th>ACCEPT_CONTENT</th>\n",
       "      <th>HANDLE_OPINION</th>\n",
       "      <th>CALLING_NO</th>\n",
       "      <th>ELEC_TYPE</th>\n",
       "      <th>...</th>\n",
       "      <th>IS_PAY_MODE_CONTAINS_020311</th>\n",
       "      <th>IS_PAY_MODE_CONTAINS_010101</th>\n",
       "      <th>IS_PAY_MODE_CONTAINS_020261</th>\n",
       "      <th>LAST_MONTH_PAY_MODE</th>\n",
       "      <th>PAY_MODE_CHANGE_CLUE</th>\n",
       "      <th>CUST_NO_3bit</th>\n",
       "      <th>ORG_NO_9bit</th>\n",
       "      <th>LAST_MONTH_PAY_MODE_4bit</th>\n",
       "      <th>PAY_MODE_4bit_CHANGE_CLUE</th>\n",
       "      <th>MULIT_ACCEPT_CONTENT_TYPE</th>\n",
       "    </tr>\n",
       "  </thead>\n",
       "  <tbody>\n",
       "    <tr>\n",
       "      <th>0</th>\n",
       "      <td>2015101280019632</td>\n",
       "      <td>1000000527215943</td>\n",
       "      <td>3</td>\n",
       "      <td>1.0</td>\n",
       "      <td>3340780</td>\n",
       "      <td>2015/10/12 7:58:04</td>\n",
       "      <td>【客户咨询一户无电】建议先自行联系有资质电工排查是否为内部故障，客户接受并表示有其他情况再致电。</td>\n",
       "      <td>NaN</td>\n",
       "      <td>1628699.0</td>\n",
       "      <td>202.0</td>\n",
       "      <td>...</td>\n",
       "      <td>1.0</td>\n",
       "      <td>1.0</td>\n",
       "      <td>0.0</td>\n",
       "      <td>010101</td>\n",
       "      <td>020311-010101</td>\n",
       "      <td>940</td>\n",
       "      <td>334078001</td>\n",
       "      <td>0101</td>\n",
       "      <td>0203-0101</td>\n",
       "      <td>客户咨询一户无电</td>\n",
       "    </tr>\n",
       "    <tr>\n",
       "      <th>1</th>\n",
       "      <td>2015101280019648</td>\n",
       "      <td>1000000527216033</td>\n",
       "      <td>10</td>\n",
       "      <td>2.0</td>\n",
       "      <td>334066001</td>\n",
       "      <td>2015/10/12 7:58:26</td>\n",
       "      <td>【退订】#2061584501；【退订】#2061584602；【退订】#406091928...</td>\n",
       "      <td>NaN</td>\n",
       "      <td>1260775.0</td>\n",
       "      <td>201.0</td>\n",
       "      <td>...</td>\n",
       "      <td>1.0</td>\n",
       "      <td>0.0</td>\n",
       "      <td>0.0</td>\n",
       "      <td>020311</td>\n",
       "      <td>020311</td>\n",
       "      <td>685</td>\n",
       "      <td>334066001</td>\n",
       "      <td>0203</td>\n",
       "      <td>0203</td>\n",
       "      <td>退订</td>\n",
       "    </tr>\n",
       "    <tr>\n",
       "      <th>2</th>\n",
       "      <td>2015101280019680</td>\n",
       "      <td>1000000527216202</td>\n",
       "      <td>3</td>\n",
       "      <td>2.0</td>\n",
       "      <td>3340690</td>\n",
       "      <td>2015/10/12 7:58:52</td>\n",
       "      <td>【查询电费】客户查询本月电费，已告知。</td>\n",
       "      <td>NaN</td>\n",
       "      <td>1536321.0</td>\n",
       "      <td>201.0</td>\n",
       "      <td>...</td>\n",
       "      <td>1.0</td>\n",
       "      <td>0.0</td>\n",
       "      <td>0.0</td>\n",
       "      <td>020311</td>\n",
       "      <td>020311</td>\n",
       "      <td>731</td>\n",
       "      <td>334069001</td>\n",
       "      <td>0203</td>\n",
       "      <td>0203</td>\n",
       "      <td>查询电费+回呼电话</td>\n",
       "    </tr>\n",
       "    <tr>\n",
       "      <th>3</th>\n",
       "      <td>2015101280019873</td>\n",
       "      <td>1000000527218491</td>\n",
       "      <td>3</td>\n",
       "      <td>1.0</td>\n",
       "      <td>3340810</td>\n",
       "      <td>2015/10/12 8:02:53</td>\n",
       "      <td>【咨询总户号】通过地址、户名查询户号信息，已告知</td>\n",
       "      <td>NaN</td>\n",
       "      <td>1576698.0</td>\n",
       "      <td>NaN</td>\n",
       "      <td>...</td>\n",
       "      <td>0.0</td>\n",
       "      <td>1.0</td>\n",
       "      <td>0.0</td>\n",
       "      <td>010101</td>\n",
       "      <td>010101</td>\n",
       "      <td>333</td>\n",
       "      <td>334080101</td>\n",
       "      <td>0101</td>\n",
       "      <td>0101</td>\n",
       "      <td>咨询总户号</td>\n",
       "    </tr>\n",
       "    <tr>\n",
       "      <th>4</th>\n",
       "      <td>2015101280020130</td>\n",
       "      <td>1000000527221199</td>\n",
       "      <td>1</td>\n",
       "      <td>1.0</td>\n",
       "      <td>3340501</td>\n",
       "      <td>2015/10/12 8:07:10</td>\n",
       "      <td>【设备故障】客户报修此处线路打火，请处理。客户只能提供此地址，烦请电话联系057486581...</td>\n",
       "      <td>NaN</td>\n",
       "      <td>1089990.0</td>\n",
       "      <td>201.0</td>\n",
       "      <td>...</td>\n",
       "      <td>NaN</td>\n",
       "      <td>NaN</td>\n",
       "      <td>NaN</td>\n",
       "      <td></td>\n",
       "      <td>NaN</td>\n",
       "      <td>521</td>\n",
       "      <td>NaN</td>\n",
       "      <td></td>\n",
       "      <td>NaN</td>\n",
       "      <td>设备故障</td>\n",
       "    </tr>\n",
       "  </tbody>\n",
       "</table>\n",
       "<p>5 rows × 58 columns</p>\n",
       "</div>"
      ],
      "text/plain": [
       "             APP_NO                ID  BUSI_TYPE_CODE  URBAN_RURAL_FLAG  \\\n",
       "0  2015101280019632  1000000527215943               3               1.0   \n",
       "1  2015101280019648  1000000527216033              10               2.0   \n",
       "2  2015101280019680  1000000527216202               3               2.0   \n",
       "3  2015101280019873  1000000527218491               3               1.0   \n",
       "4  2015101280020130  1000000527221199               1               1.0   \n",
       "\n",
       "      ORG_NO         HANDLE_TIME  \\\n",
       "0    3340780  2015/10/12 7:58:04   \n",
       "1  334066001  2015/10/12 7:58:26   \n",
       "2    3340690  2015/10/12 7:58:52   \n",
       "3    3340810  2015/10/12 8:02:53   \n",
       "4    3340501  2015/10/12 8:07:10   \n",
       "\n",
       "                                      ACCEPT_CONTENT HANDLE_OPINION  \\\n",
       "0   【客户咨询一户无电】建议先自行联系有资质电工排查是否为内部故障，客户接受并表示有其他情况再致电。            NaN   \n",
       "1  【退订】#2061584501；【退订】#2061584602；【退订】#406091928...            NaN   \n",
       "2                                【查询电费】客户查询本月电费，已告知。            NaN   \n",
       "3                           【咨询总户号】通过地址、户名查询户号信息，已告知            NaN   \n",
       "4  【设备故障】客户报修此处线路打火，请处理。客户只能提供此地址，烦请电话联系057486581...            NaN   \n",
       "\n",
       "   CALLING_NO  ELEC_TYPE            ...              \\\n",
       "0   1628699.0      202.0            ...               \n",
       "1   1260775.0      201.0            ...               \n",
       "2   1536321.0      201.0            ...               \n",
       "3   1576698.0        NaN            ...               \n",
       "4   1089990.0      201.0            ...               \n",
       "\n",
       "  IS_PAY_MODE_CONTAINS_020311  IS_PAY_MODE_CONTAINS_010101  \\\n",
       "0                         1.0                          1.0   \n",
       "1                         1.0                          0.0   \n",
       "2                         1.0                          0.0   \n",
       "3                         0.0                          1.0   \n",
       "4                         NaN                          NaN   \n",
       "\n",
       "   IS_PAY_MODE_CONTAINS_020261  LAST_MONTH_PAY_MODE PAY_MODE_CHANGE_CLUE  \\\n",
       "0                          0.0               010101        020311-010101   \n",
       "1                          0.0               020311               020311   \n",
       "2                          0.0               020311               020311   \n",
       "3                          0.0               010101               010101   \n",
       "4                          NaN                                       NaN   \n",
       "\n",
       "   CUST_NO_3bit  ORG_NO_9bit  LAST_MONTH_PAY_MODE_4bit  \\\n",
       "0           940    334078001                      0101   \n",
       "1           685    334066001                      0203   \n",
       "2           731    334069001                      0203   \n",
       "3           333    334080101                      0101   \n",
       "4           521          NaN                             \n",
       "\n",
       "   PAY_MODE_4bit_CHANGE_CLUE  MULIT_ACCEPT_CONTENT_TYPE  \n",
       "0                  0203-0101                   客户咨询一户无电  \n",
       "1                       0203                         退订  \n",
       "2                       0203                  查询电费+回呼电话  \n",
       "3                       0101                      咨询总户号  \n",
       "4                        NaN                       设备故障  \n",
       "\n",
       "[5 rows x 58 columns]"
      ]
     },
     "execution_count": 23,
     "metadata": {},
     "output_type": "execute_result"
    }
   ],
   "source": [
    "test_data01_a_worker_per_user.head()"
   ]
  },
  {
   "cell_type": "markdown",
   "metadata": {},
   "source": [
    "------\n",
    "## 4 数据缓存和恢复"
   ]
  },
  {
   "cell_type": "markdown",
   "metadata": {},
   "source": [
    "### 4-1 保存"
   ]
  },
  {
   "cell_type": "code",
   "execution_count": 64,
   "metadata": {
    "collapsed": true
   },
   "outputs": [
    {
     "data": {
      "text/plain": [
       "((658374, 54), (370871, 53))"
      ]
     },
     "execution_count": 64,
     "metadata": {},
     "output_type": "execute_result"
    }
   ],
   "source": [
    "train_data01_a_worker_per_user.shape,test_data01_a_worker_per_user.shape"
   ]
  },
  {
   "cell_type": "markdown",
   "metadata": {},
   "source": [
    "#### 4-1-1 训练集"
   ]
  },
  {
   "cell_type": "code",
   "execution_count": 62,
   "metadata": {
    "collapsed": true
   },
   "outputs": [
    {
     "data": {
      "text/html": [
       "<div>\n",
       "<table border=\"1\" class=\"dataframe\">\n",
       "  <thead>\n",
       "    <tr style=\"text-align: right;\">\n",
       "      <th></th>\n",
       "      <th>APP_NO</th>\n",
       "      <th>ID</th>\n",
       "      <th>BUSI_TYPE_CODE</th>\n",
       "      <th>URBAN_RURAL_FLAG</th>\n",
       "      <th>ORG_NO</th>\n",
       "      <th>HANDLE_TIME</th>\n",
       "      <th>ACCEPT_CONTENT</th>\n",
       "      <th>HANDLE_OPINION</th>\n",
       "      <th>CALLING_NO</th>\n",
       "      <th>ELEC_TYPE</th>\n",
       "      <th>...</th>\n",
       "      <th>ORG_NO_7bit</th>\n",
       "      <th>AVERAGE_RCVBL_AMT</th>\n",
       "      <th>IS_EXCEEDING_RCVBL_YM_GE_1MON</th>\n",
       "      <th>IS_CONNECT_TO_06TABLE</th>\n",
       "      <th>CONT_TYPE</th>\n",
       "      <th>MAX_NUM_MONTH_SEARCH_ACTION</th>\n",
       "      <th>NUM_OF_USED_PAY_MODE</th>\n",
       "      <th>IS_PAY_MODE_CONTAINS_020311</th>\n",
       "      <th>IS_PAY_MODE_CONTAINS_010101</th>\n",
       "      <th>IS_PAY_MODE_CONTAINS_020261</th>\n",
       "    </tr>\n",
       "  </thead>\n",
       "  <tbody>\n",
       "    <tr>\n",
       "      <th>0</th>\n",
       "      <td>2015101280016722</td>\n",
       "      <td>1000000527203612</td>\n",
       "      <td>3</td>\n",
       "      <td>2.0</td>\n",
       "      <td>3341020</td>\n",
       "      <td>2015/10/12 7:31:50</td>\n",
       "      <td>【银行代扣】客户咨询银行代扣事宜</td>\n",
       "      <td>NaN</td>\n",
       "      <td>1196922.0</td>\n",
       "      <td>202.0</td>\n",
       "      <td>...</td>\n",
       "      <td>NaN</td>\n",
       "      <td>NaN</td>\n",
       "      <td>2.0</td>\n",
       "      <td>0</td>\n",
       "      <td>NaN</td>\n",
       "      <td>0.0</td>\n",
       "      <td>NaN</td>\n",
       "      <td>NaN</td>\n",
       "      <td>NaN</td>\n",
       "      <td>NaN</td>\n",
       "    </tr>\n",
       "    <tr>\n",
       "      <th>1</th>\n",
       "      <td>2015101280031388</td>\n",
       "      <td>1000000527304861</td>\n",
       "      <td>3</td>\n",
       "      <td>1.0</td>\n",
       "      <td>3340901</td>\n",
       "      <td>2015/10/12 9:14:03</td>\n",
       "      <td>【咨询总户号】通过地址（户名、表号）查询户号信息，已告知</td>\n",
       "      <td>NaN</td>\n",
       "      <td>1005636.0</td>\n",
       "      <td>NaN</td>\n",
       "      <td>...</td>\n",
       "      <td>NaN</td>\n",
       "      <td>NaN</td>\n",
       "      <td>2.0</td>\n",
       "      <td>0</td>\n",
       "      <td>NaN</td>\n",
       "      <td>0.0</td>\n",
       "      <td>NaN</td>\n",
       "      <td>NaN</td>\n",
       "      <td>NaN</td>\n",
       "      <td>NaN</td>\n",
       "    </tr>\n",
       "    <tr>\n",
       "      <th>2</th>\n",
       "      <td>2015101280031424</td>\n",
       "      <td>1000000527305097</td>\n",
       "      <td>3</td>\n",
       "      <td>2.0</td>\n",
       "      <td>33401</td>\n",
       "      <td>2015/10/12 9:14:16</td>\n",
       "      <td>【查询电费】客户查询电费，已告知。</td>\n",
       "      <td>NaN</td>\n",
       "      <td>1007513.0</td>\n",
       "      <td>405.0</td>\n",
       "      <td>...</td>\n",
       "      <td>3340101.0</td>\n",
       "      <td>1652.304167</td>\n",
       "      <td>0.0</td>\n",
       "      <td>0</td>\n",
       "      <td>NaN</td>\n",
       "      <td>3.0</td>\n",
       "      <td>1.0</td>\n",
       "      <td>0.0</td>\n",
       "      <td>0.0</td>\n",
       "      <td>0.0</td>\n",
       "    </tr>\n",
       "    <tr>\n",
       "      <th>3</th>\n",
       "      <td>2015101280031680</td>\n",
       "      <td>1000000527300870</td>\n",
       "      <td>3</td>\n",
       "      <td>2.0</td>\n",
       "      <td>334020106</td>\n",
       "      <td>2015/10/12 9:11:37</td>\n",
       "      <td>【咨询总户号】通过地址（户名）查询户号信息。</td>\n",
       "      <td>NaN</td>\n",
       "      <td>1073266.0</td>\n",
       "      <td>202.0</td>\n",
       "      <td>...</td>\n",
       "      <td>3340201.0</td>\n",
       "      <td>51.961667</td>\n",
       "      <td>0.0</td>\n",
       "      <td>0</td>\n",
       "      <td>NaN</td>\n",
       "      <td>0.0</td>\n",
       "      <td>1.0</td>\n",
       "      <td>0.0</td>\n",
       "      <td>0.0</td>\n",
       "      <td>0.0</td>\n",
       "    </tr>\n",
       "    <tr>\n",
       "      <th>4</th>\n",
       "      <td>2015101280032506</td>\n",
       "      <td>1000000527305664</td>\n",
       "      <td>3</td>\n",
       "      <td>1.0</td>\n",
       "      <td>3340101</td>\n",
       "      <td>2015/10/12 9:14:48</td>\n",
       "      <td>【咨询总户号】通过地址（户名、表号）查询户号信息，已告知</td>\n",
       "      <td>NaN</td>\n",
       "      <td>1433592.0</td>\n",
       "      <td>NaN</td>\n",
       "      <td>...</td>\n",
       "      <td>3340150.0</td>\n",
       "      <td>121.936250</td>\n",
       "      <td>0.0</td>\n",
       "      <td>0</td>\n",
       "      <td>NaN</td>\n",
       "      <td>0.0</td>\n",
       "      <td>1.0</td>\n",
       "      <td>1.0</td>\n",
       "      <td>0.0</td>\n",
       "      <td>0.0</td>\n",
       "    </tr>\n",
       "  </tbody>\n",
       "</table>\n",
       "<p>5 rows × 52 columns</p>\n",
       "</div>"
      ],
      "text/plain": [
       "             APP_NO                ID  BUSI_TYPE_CODE  URBAN_RURAL_FLAG  \\\n",
       "0  2015101280016722  1000000527203612               3               2.0   \n",
       "1  2015101280031388  1000000527304861               3               1.0   \n",
       "2  2015101280031424  1000000527305097               3               2.0   \n",
       "3  2015101280031680  1000000527300870               3               2.0   \n",
       "4  2015101280032506  1000000527305664               3               1.0   \n",
       "\n",
       "      ORG_NO         HANDLE_TIME                ACCEPT_CONTENT HANDLE_OPINION  \\\n",
       "0    3341020  2015/10/12 7:31:50              【银行代扣】客户咨询银行代扣事宜            NaN   \n",
       "1    3340901  2015/10/12 9:14:03  【咨询总户号】通过地址（户名、表号）查询户号信息，已告知            NaN   \n",
       "2      33401  2015/10/12 9:14:16             【查询电费】客户查询电费，已告知。            NaN   \n",
       "3  334020106  2015/10/12 9:11:37        【咨询总户号】通过地址（户名）查询户号信息。            NaN   \n",
       "4    3340101  2015/10/12 9:14:48  【咨询总户号】通过地址（户名、表号）查询户号信息，已告知            NaN   \n",
       "\n",
       "   CALLING_NO  ELEC_TYPE             ...              ORG_NO_7bit  \\\n",
       "0   1196922.0      202.0             ...                      NaN   \n",
       "1   1005636.0        NaN             ...                      NaN   \n",
       "2   1007513.0      405.0             ...                3340101.0   \n",
       "3   1073266.0      202.0             ...                3340201.0   \n",
       "4   1433592.0        NaN             ...                3340150.0   \n",
       "\n",
       "   AVERAGE_RCVBL_AMT  IS_EXCEEDING_RCVBL_YM_GE_1MON  IS_CONNECT_TO_06TABLE  \\\n",
       "0                NaN                            2.0                      0   \n",
       "1                NaN                            2.0                      0   \n",
       "2        1652.304167                            0.0                      0   \n",
       "3          51.961667                            0.0                      0   \n",
       "4         121.936250                            0.0                      0   \n",
       "\n",
       "   CONT_TYPE MAX_NUM_MONTH_SEARCH_ACTION  NUM_OF_USED_PAY_MODE  \\\n",
       "0        NaN                         0.0                   NaN   \n",
       "1        NaN                         0.0                   NaN   \n",
       "2        NaN                         3.0                   1.0   \n",
       "3        NaN                         0.0                   1.0   \n",
       "4        NaN                         0.0                   1.0   \n",
       "\n",
       "   IS_PAY_MODE_CONTAINS_020311  IS_PAY_MODE_CONTAINS_010101  \\\n",
       "0                          NaN                          NaN   \n",
       "1                          NaN                          NaN   \n",
       "2                          0.0                          0.0   \n",
       "3                          0.0                          0.0   \n",
       "4                          1.0                          0.0   \n",
       "\n",
       "   IS_PAY_MODE_CONTAINS_020261  \n",
       "0                          NaN  \n",
       "1                          NaN  \n",
       "2                          0.0  \n",
       "3                          0.0  \n",
       "4                          0.0  \n",
       "\n",
       "[5 rows x 52 columns]"
      ]
     },
     "execution_count": 62,
     "metadata": {},
     "output_type": "execute_result"
    }
   ],
   "source": [
    "train_data01_a_worker_per_user.head()"
   ]
  },
  {
   "cell_type": "code",
   "execution_count": 25,
   "metadata": {
    "collapsed": false
   },
   "outputs": [
    {
     "name": "stdout",
     "output_type": "stream",
     "text": [
      "Stored 'train_data01_a_worker_per_user' (DataFrame)\n",
      "CPU times: user 4.81 s, sys: 1.26 s, total: 6.07 s\n",
      "Wall time: 6.4 s\n"
     ]
    }
   ],
   "source": [
    "%%time\n",
    "%store train_data01_a_worker_per_user"
   ]
  },
  {
   "cell_type": "markdown",
   "metadata": {},
   "source": [
    "#### 4-1-2 测试集"
   ]
  },
  {
   "cell_type": "code",
   "execution_count": 89,
   "metadata": {
    "collapsed": true
   },
   "outputs": [
    {
     "data": {
      "text/html": [
       "<div>\n",
       "<table border=\"1\" class=\"dataframe\">\n",
       "  <thead>\n",
       "    <tr style=\"text-align: right;\">\n",
       "      <th></th>\n",
       "      <th>APP_NO</th>\n",
       "      <th>ID</th>\n",
       "      <th>BUSI_TYPE_CODE</th>\n",
       "      <th>URBAN_RURAL_FLAG</th>\n",
       "      <th>ORG_NO</th>\n",
       "      <th>HANDLE_TIME</th>\n",
       "      <th>ACCEPT_CONTENT</th>\n",
       "      <th>HANDLE_OPINION</th>\n",
       "      <th>CALLING_NO</th>\n",
       "      <th>ELEC_TYPE</th>\n",
       "      <th>...</th>\n",
       "      <th>NUM_OF_RCVBL_PENALTY</th>\n",
       "      <th>IS_CONNECT_TO_07TABLE</th>\n",
       "      <th>CONS_STATUS</th>\n",
       "      <th>RCA_FLAG</th>\n",
       "      <th>ORG_NO_7bit</th>\n",
       "      <th>AVERAGE_RCVBL_AMT</th>\n",
       "      <th>IS_EXCEEDING_RCVBL_YM_GE_1MON</th>\n",
       "      <th>IS_CONNECT_TO_06TABLE</th>\n",
       "      <th>CONT_TYPE</th>\n",
       "      <th>MAX_NUM_MONTH_SEARCH_ACTION</th>\n",
       "    </tr>\n",
       "  </thead>\n",
       "  <tbody>\n",
       "    <tr>\n",
       "      <th>0</th>\n",
       "      <td>2015101280019632</td>\n",
       "      <td>1000000527215943</td>\n",
       "      <td>3</td>\n",
       "      <td>1.0</td>\n",
       "      <td>3340780</td>\n",
       "      <td>2015/10/12 7:58:04</td>\n",
       "      <td>【客户咨询一户无电】建议先自行联系有资质电工排查是否为内部故障，客户接受并表示有其他情况再致电。</td>\n",
       "      <td>NaN</td>\n",
       "      <td>1628699.0</td>\n",
       "      <td>202.0</td>\n",
       "      <td>...</td>\n",
       "      <td>0.0</td>\n",
       "      <td>0</td>\n",
       "      <td>NaN</td>\n",
       "      <td>NaN</td>\n",
       "      <td>3340780.0</td>\n",
       "      <td>68.573333</td>\n",
       "      <td>0.0</td>\n",
       "      <td>0</td>\n",
       "      <td>NaN</td>\n",
       "      <td>0.0</td>\n",
       "    </tr>\n",
       "    <tr>\n",
       "      <th>1</th>\n",
       "      <td>2015101280019648</td>\n",
       "      <td>1000000527216033</td>\n",
       "      <td>10</td>\n",
       "      <td>2.0</td>\n",
       "      <td>334066001</td>\n",
       "      <td>2015/10/12 7:58:26</td>\n",
       "      <td>【退订】#2061584501；【退订】#2061584602；【退订】#406091928...</td>\n",
       "      <td>NaN</td>\n",
       "      <td>1260775.0</td>\n",
       "      <td>201.0</td>\n",
       "      <td>...</td>\n",
       "      <td>0.0</td>\n",
       "      <td>0</td>\n",
       "      <td>NaN</td>\n",
       "      <td>NaN</td>\n",
       "      <td>3340660.0</td>\n",
       "      <td>34.745833</td>\n",
       "      <td>0.0</td>\n",
       "      <td>0</td>\n",
       "      <td>NaN</td>\n",
       "      <td>0.0</td>\n",
       "    </tr>\n",
       "    <tr>\n",
       "      <th>2</th>\n",
       "      <td>2015101280019680</td>\n",
       "      <td>1000000527216202</td>\n",
       "      <td>3</td>\n",
       "      <td>2.0</td>\n",
       "      <td>3340690</td>\n",
       "      <td>2015/10/12 7:58:52</td>\n",
       "      <td>【查询电费】客户查询本月电费，已告知。</td>\n",
       "      <td>NaN</td>\n",
       "      <td>1536321.0</td>\n",
       "      <td>201.0</td>\n",
       "      <td>...</td>\n",
       "      <td>0.0</td>\n",
       "      <td>0</td>\n",
       "      <td>NaN</td>\n",
       "      <td>NaN</td>\n",
       "      <td>3340690.0</td>\n",
       "      <td>207.431667</td>\n",
       "      <td>0.0</td>\n",
       "      <td>0</td>\n",
       "      <td>NaN</td>\n",
       "      <td>1.0</td>\n",
       "    </tr>\n",
       "    <tr>\n",
       "      <th>3</th>\n",
       "      <td>2015101280019873</td>\n",
       "      <td>1000000527218491</td>\n",
       "      <td>3</td>\n",
       "      <td>1.0</td>\n",
       "      <td>3340810</td>\n",
       "      <td>2015/10/12 8:02:53</td>\n",
       "      <td>【咨询总户号】通过地址、户名查询户号信息，已告知</td>\n",
       "      <td>NaN</td>\n",
       "      <td>1576698.0</td>\n",
       "      <td>NaN</td>\n",
       "      <td>...</td>\n",
       "      <td>0.0</td>\n",
       "      <td>0</td>\n",
       "      <td>NaN</td>\n",
       "      <td>NaN</td>\n",
       "      <td>3340801.0</td>\n",
       "      <td>20.694444</td>\n",
       "      <td>0.0</td>\n",
       "      <td>0</td>\n",
       "      <td>NaN</td>\n",
       "      <td>0.0</td>\n",
       "    </tr>\n",
       "    <tr>\n",
       "      <th>4</th>\n",
       "      <td>2015101280020130</td>\n",
       "      <td>1000000527221199</td>\n",
       "      <td>1</td>\n",
       "      <td>1.0</td>\n",
       "      <td>3340501</td>\n",
       "      <td>2015/10/12 8:07:10</td>\n",
       "      <td>【设备故障】客户报修此处线路打火，请处理。客户只能提供此地址，烦请电话联系057486581...</td>\n",
       "      <td>NaN</td>\n",
       "      <td>1089990.0</td>\n",
       "      <td>201.0</td>\n",
       "      <td>...</td>\n",
       "      <td>NaN</td>\n",
       "      <td>0</td>\n",
       "      <td>NaN</td>\n",
       "      <td>NaN</td>\n",
       "      <td>NaN</td>\n",
       "      <td>NaN</td>\n",
       "      <td>2.0</td>\n",
       "      <td>0</td>\n",
       "      <td>NaN</td>\n",
       "      <td>0.0</td>\n",
       "    </tr>\n",
       "  </tbody>\n",
       "</table>\n",
       "<p>5 rows × 47 columns</p>\n",
       "</div>"
      ],
      "text/plain": [
       "             APP_NO                ID  BUSI_TYPE_CODE  URBAN_RURAL_FLAG  \\\n",
       "0  2015101280019632  1000000527215943               3               1.0   \n",
       "1  2015101280019648  1000000527216033              10               2.0   \n",
       "2  2015101280019680  1000000527216202               3               2.0   \n",
       "3  2015101280019873  1000000527218491               3               1.0   \n",
       "4  2015101280020130  1000000527221199               1               1.0   \n",
       "\n",
       "      ORG_NO         HANDLE_TIME  \\\n",
       "0    3340780  2015/10/12 7:58:04   \n",
       "1  334066001  2015/10/12 7:58:26   \n",
       "2    3340690  2015/10/12 7:58:52   \n",
       "3    3340810  2015/10/12 8:02:53   \n",
       "4    3340501  2015/10/12 8:07:10   \n",
       "\n",
       "                                      ACCEPT_CONTENT HANDLE_OPINION  \\\n",
       "0   【客户咨询一户无电】建议先自行联系有资质电工排查是否为内部故障，客户接受并表示有其他情况再致电。            NaN   \n",
       "1  【退订】#2061584501；【退订】#2061584602；【退订】#406091928...            NaN   \n",
       "2                                【查询电费】客户查询本月电费，已告知。            NaN   \n",
       "3                           【咨询总户号】通过地址、户名查询户号信息，已告知            NaN   \n",
       "4  【设备故障】客户报修此处线路打火，请处理。客户只能提供此地址，烦请电话联系057486581...            NaN   \n",
       "\n",
       "   CALLING_NO  ELEC_TYPE             ...              NUM_OF_RCVBL_PENALTY  \\\n",
       "0   1628699.0      202.0             ...                               0.0   \n",
       "1   1260775.0      201.0             ...                               0.0   \n",
       "2   1536321.0      201.0             ...                               0.0   \n",
       "3   1576698.0        NaN             ...                               0.0   \n",
       "4   1089990.0      201.0             ...                               NaN   \n",
       "\n",
       "   IS_CONNECT_TO_07TABLE  CONS_STATUS  RCA_FLAG ORG_NO_7bit  \\\n",
       "0                      0          NaN       NaN   3340780.0   \n",
       "1                      0          NaN       NaN   3340660.0   \n",
       "2                      0          NaN       NaN   3340690.0   \n",
       "3                      0          NaN       NaN   3340801.0   \n",
       "4                      0          NaN       NaN         NaN   \n",
       "\n",
       "   AVERAGE_RCVBL_AMT  IS_EXCEEDING_RCVBL_YM_GE_1MON  IS_CONNECT_TO_06TABLE  \\\n",
       "0          68.573333                            0.0                      0   \n",
       "1          34.745833                            0.0                      0   \n",
       "2         207.431667                            0.0                      0   \n",
       "3          20.694444                            0.0                      0   \n",
       "4                NaN                            2.0                      0   \n",
       "\n",
       "   CONT_TYPE  MAX_NUM_MONTH_SEARCH_ACTION  \n",
       "0        NaN                          0.0  \n",
       "1        NaN                          0.0  \n",
       "2        NaN                          1.0  \n",
       "3        NaN                          0.0  \n",
       "4        NaN                          0.0  \n",
       "\n",
       "[5 rows x 47 columns]"
      ]
     },
     "execution_count": 89,
     "metadata": {},
     "output_type": "execute_result"
    }
   ],
   "source": [
    "test_data01_a_worker_per_user.head()"
   ]
  },
  {
   "cell_type": "code",
   "execution_count": 26,
   "metadata": {
    "collapsed": false
   },
   "outputs": [
    {
     "name": "stdout",
     "output_type": "stream",
     "text": [
      "Stored 'test_data01_a_worker_per_user' (DataFrame)\n",
      "CPU times: user 2.46 s, sys: 384 ms, total: 2.84 s\n",
      "Wall time: 3.08 s\n"
     ]
    }
   ],
   "source": [
    "%%time\n",
    "%store test_data01_a_worker_per_user"
   ]
  }
 ],
 "metadata": {
  "kernelspec": {
   "display_name": "Python 2",
   "language": "python",
   "name": "python2"
  },
  "language_info": {
   "codemirror_mode": {
    "name": "ipython",
    "version": 2
   },
   "file_extension": ".py",
   "mimetype": "text/x-python",
   "name": "python",
   "nbconvert_exporter": "python",
   "pygments_lexer": "ipython2",
   "version": "2.7.6"
  }
 },
 "nbformat": 4,
 "nbformat_minor": 1
}
