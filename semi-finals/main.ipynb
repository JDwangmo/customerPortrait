{
 "cells": [
  {
   "cell_type": "markdown",
   "metadata": {
    "collapsed": false
   },
   "source": [
    "# 客户画像复赛 主程序"
   ]
  },
  {
   "cell_type": "code",
   "execution_count": 1,
   "metadata": {
    "collapsed": true
   },
   "outputs": [
    {
     "name": "stdout",
     "output_type": "stream",
     "text": [
      "01_arc_s_95598_wkst_train.tsv  06_cont_info.tsv\t\t11_c_meter.tsv\r\n",
      "02_s_comm_rec.tsv\t       07_c_rca_cons.tsv\t12_a_pay_flow.tsv\r\n",
      "03_s_info_oversee.tsv\t       08_a_rcved_flow.tsv\tout\r\n",
      "04_c_cons.tsv\t\t       09_arc_a_rcvbl_flow.tsv\ttrain_label.csv\r\n",
      "05_c_cons_prc.tsv\t       10_c_meter_read.tsv\r\n"
     ]
    }
   ],
   "source": [
    "!ls Data_Update/train/"
   ]
  },
  {
   "cell_type": "markdown",
   "metadata": {},
   "source": [
    "## 1 导入必要的包和函数"
   ]
  },
  {
   "cell_type": "code",
   "execution_count": 1,
   "metadata": {
    "collapsed": false
   },
   "outputs": [
    {
     "name": "stdout",
     "output_type": "stream",
     "text": [
      "Automatic pdb calling has been turned ON\n",
      "RF_N_ESTIMATORS:100\n"
     ]
    }
   ],
   "source": [
    "%pdb 1\n",
    "debug = 1\n",
    "import pandas as pd\n",
    "import numpy as np\n",
    "import pickle\n",
    "import re\n",
    "import io \n",
    "import matplotlib.pyplot as plt\n",
    "%matplotlib inline\n",
    "\n",
    "# 加载预定义好的函数\n",
    "# 预定义好的函数：\n",
    "#    - load_data(file_name, header=0): 加载数据\n",
    "#    - def show_attribute_detail( data=None, attribute_name=None): 显示数据某个属性的详情\n",
    "%run data_util_func.py\n",
    "# 选择过滤方案\n",
    "PLAN_TYPE = 3"
   ]
  },
  {
   "cell_type": "markdown",
   "metadata": {},
   "source": [
    "#### 恢复ipython变量"
   ]
  },
  {
   "cell_type": "code",
   "execution_count": 49,
   "metadata": {
    "collapsed": false
   },
   "outputs": [],
   "source": [
    "# 训练集敏感用户 和待预测用户列表\n",
    "# train_data_labels_df\n",
    "# test_data_labels_df\n",
    "# 01表\n",
    "# train_data01_merge_label_df\n",
    "# test_data01_merge_label_df\n",
    "# 代表工单数据\n",
    "# train_data01_a_worker_per_user\n",
    "# test_data01_a_worker_per_user\n",
    "# 08表\n",
    "# train_data08_merge_label_df\n",
    "# test_data08_merge_label_df\n",
    "# 09表\n",
    "# train_data09_merge_label_df\n",
    "# test_data09_merge_label_df\n",
    "\n",
    "%store -r train_data01_a_worker_per_user test_data01_a_worker_per_user"
   ]
  },
  {
   "cell_type": "code",
   "execution_count": 10,
   "metadata": {
    "collapsed": true
   },
   "outputs": [],
   "source": [
    "del train_data01_a_worker_per_user\n",
    "del test_data01_a_worker_per_user"
   ]
  },
  {
   "cell_type": "code",
   "execution_count": 2,
   "metadata": {
    "collapsed": true
   },
   "outputs": [
    {
     "data": {
      "text/plain": [
       "[u'test_data01_a_worker_per_user', u'train_data01_a_worker_per_user']"
      ]
     },
     "execution_count": 2,
     "metadata": {},
     "output_type": "execute_result"
    }
   ],
   "source": [
    "%who_ls"
   ]
  },
  {
   "cell_type": "markdown",
   "metadata": {},
   "source": [
    "##  2 加载数据 "
   ]
  },
  {
   "cell_type": "markdown",
   "metadata": {},
   "source": [
    "### 2-1 用户列表"
   ]
  },
  {
   "cell_type": "markdown",
   "metadata": {},
   "source": [
    "#### 2-1-1 训练集"
   ]
  },
  {
   "cell_type": "markdown",
   "metadata": {},
   "source": [
    "##### 2-1-1-1  加载敏感用户标签 train_label.csv"
   ]
  },
  {
   "cell_type": "code",
   "execution_count": 15,
   "metadata": {
    "collapsed": false
   },
   "outputs": [
    {
     "name": "stdout",
     "output_type": "stream",
     "text": [
      "(80025, 1)\n"
     ]
    }
   ],
   "source": [
    "# 要特别注意 统一设置 converters={0:unicode}，\n",
    "# 避免后面连接错误\n",
    "train_data_labels_df = load_data(file_name = 'Data_Update/train/train_label.csv',\n",
    "                                 header=None,\n",
    "                                 converters={0:unicode}\n",
    "                                )\n",
    "print(train_data_labels_df.shape)"
   ]
  },
  {
   "cell_type": "markdown",
   "metadata": {},
   "source": [
    "##### 2-1-1-2  增加敏感标签字段"
   ]
  },
  {
   "cell_type": "code",
   "execution_count": 16,
   "metadata": {
    "collapsed": true
   },
   "outputs": [
    {
     "name": "stdout",
     "output_type": "stream",
     "text": [
      "      CUST_NO  TAG\n",
      "0  6028082372    1\n",
      "1  6025004210    1\n",
      "2  4415361544    1\n",
      "3  1658079044    1\n",
      "4  1658079045    1\n",
      "<class 'pandas.core.frame.DataFrame'>\n",
      "RangeIndex: 80025 entries, 0 to 80024\n",
      "Data columns (total 2 columns):\n",
      "CUST_NO    80025 non-null object\n",
      "TAG        80025 non-null int64\n",
      "dtypes: int64(1), object(1)\n",
      "memory usage: 1.2+ MB\n",
      "None\n"
     ]
    }
   ],
   "source": [
    "# 增加敏感标签字段，都是敏感用户，全部标为1\n",
    "train_data_labels_df.columns = ['CUST_NO']\n",
    "train_data_labels_df['TAG'] = 1\n",
    "show_df_info(train_data_labels_df)"
   ]
  },
  {
   "cell_type": "code",
   "execution_count": 9,
   "metadata": {
    "collapsed": true
   },
   "outputs": [
    {
     "data": {
      "text/html": [
       "<div>\n",
       "<table border=\"1\" class=\"dataframe\">\n",
       "  <thead>\n",
       "    <tr style=\"text-align: right;\">\n",
       "      <th></th>\n",
       "      <th>CUST_NO</th>\n",
       "      <th>TAG</th>\n",
       "    </tr>\n",
       "  </thead>\n",
       "  <tbody>\n",
       "    <tr>\n",
       "      <th>424</th>\n",
       "      <td>1920004047</td>\n",
       "      <td>1</td>\n",
       "    </tr>\n",
       "  </tbody>\n",
       "</table>\n",
       "</div>"
      ],
      "text/plain": [
       "        CUST_NO  TAG\n",
       "424  1920004047    1"
      ]
     },
     "execution_count": 9,
     "metadata": {},
     "output_type": "execute_result"
    }
   ],
   "source": [
    "train_data_labels_df[train_data_labels_df['CUST_NO']=='1920004047']"
   ]
  },
  {
   "cell_type": "code",
   "execution_count": 17,
   "metadata": {
    "collapsed": true
   },
   "outputs": [
    {
     "name": "stdout",
     "output_type": "stream",
     "text": [
      "Stored 'train_data_labels_df' (DataFrame)\n"
     ]
    }
   ],
   "source": [
    "%store train_data_labels_df"
   ]
  },
  {
   "cell_type": "markdown",
   "metadata": {},
   "source": [
    "#### 2-1-2 测试集 "
   ]
  },
  {
   "cell_type": "markdown",
   "metadata": {},
   "source": [
    "##### 2-1-2-1  加载待预测用户标签 test_to_predict.csv"
   ]
  },
  {
   "cell_type": "code",
   "execution_count": 18,
   "metadata": {
    "collapsed": true
   },
   "outputs": [
    {
     "name": "stdout",
     "output_type": "stream",
     "text": [
      "      CUST_NO\n",
      "0  6010419435\n",
      "1  6310918440\n",
      "2  4716029245\n",
      "3  6010936575\n",
      "4  3318025855\n",
      "<class 'pandas.core.frame.DataFrame'>\n",
      "RangeIndex: 370871 entries, 0 to 370870\n",
      "Data columns (total 1 columns):\n",
      "CUST_NO    370871 non-null object\n",
      "dtypes: object(1)\n",
      "memory usage: 2.8+ MB\n",
      "None\n"
     ]
    }
   ],
   "source": [
    "# 要特别注意 统一设置 converters={'CUST_NO':unicode}，\n",
    "# 避免后面连接错误\n",
    "test_data_labels_df = load_data(file_name = 'Data_Update/test/test_to_predict.csv',\n",
    "                                header=None,\n",
    "                                converters={0:unicode}\n",
    "                               )\n",
    "\n",
    "test_data_labels_df.columns = ['CUST_NO']\n",
    "show_df_info(test_data_labels_df)"
   ]
  },
  {
   "cell_type": "code",
   "execution_count": 19,
   "metadata": {
    "collapsed": true
   },
   "outputs": [
    {
     "name": "stdout",
     "output_type": "stream",
     "text": [
      "Stored 'test_data_labels_df' (DataFrame)\n"
     ]
    }
   ],
   "source": [
    "%store test_data_labels_df"
   ]
  },
  {
   "cell_type": "markdown",
   "metadata": {},
   "source": [
    "#### 2-1-3  小结\n",
    "- 训练数据敏感用户标签有：80,025 个\n",
    "- 测试数据待预测用户有  ：370,871 个"
   ]
  },
  {
   "cell_type": "markdown",
   "metadata": {},
   "source": [
    "### 2-2 95598工单信息（包含训练集和测试集所有用户列表）"
   ]
  },
  {
   "cell_type": "markdown",
   "metadata": {},
   "source": [
    "#### 2-2-1 训练集 "
   ]
  },
  {
   "cell_type": "markdown",
   "metadata": {},
   "source": [
    "##### 2-2-1-1 加载数据 01_arc_s_95598_wkst_train.tsv"
   ]
  },
  {
   "cell_type": "code",
   "execution_count": 20,
   "metadata": {
    "collapsed": true
   },
   "outputs": [
    {
     "name": "stdout",
     "output_type": "stream",
     "text": [
      "(1190198, 13)\n",
      "CPU times: user 4.68 s, sys: 460 ms, total: 5.14 s\n",
      "Wall time: 5.85 s\n"
     ]
    }
   ],
   "source": [
    "%%time\n",
    "# 要特别注意 设置 converters={'CUST_NO':unicode}，\n",
    "# 这个类型转换非常重要，因为发现在和 train_label.csv表 的 CUST_NO 连接时 ，如果不全部转为 字符串 ，会连接 不对，因为\n",
    "# 在这个表里的 CUST_NO 字段出现 部分 字段是字符串，部分字段是整形，所以全部转为字符串\n",
    "train_data01_df = load_data('Data_Update/train/01_arc_s_95598_wkst_train.tsv',converters={'CUST_NO':unicode}) \n",
    "# 记录数 1190198\n",
    "print(train_data01_df.shape)\n",
    "# 将客户编号提取并去重，发现只有 658,374个用户编号\n",
    "len(set(train_data01_df['CUST_NO']))"
   ]
  },
  {
   "cell_type": "markdown",
   "metadata": {},
   "source": [
    "##### 2-2-1-2 数据摘要"
   ]
  },
  {
   "cell_type": "code",
   "execution_count": 41,
   "metadata": {
    "collapsed": true
   },
   "outputs": [
    {
     "name": "stdout",
     "output_type": "stream",
     "text": [
      "             APP_NO                ID  BUSI_TYPE_CODE  URBAN_RURAL_FLAG  \\\n",
      "0  2015101280016584  1000000527201688               1               2.0   \n",
      "1  2015101280016722  1000000527203612               3               2.0   \n",
      "2  2015101280016734  1000000527203685               3               2.0   \n",
      "3  2015101280019989  1000000527220221               3               1.0   \n",
      "4  2015101280020073  1000000527220797               3               1.0   \n",
      "\n",
      "      ORG_NO         HANDLE_TIME  \\\n",
      "0    3340501  2015/10/12 7:27:08   \n",
      "1    3341020  2015/10/12 7:31:50   \n",
      "2    3340670  2015/10/12 7:32:03   \n",
      "3    3340401  2015/10/12 8:04:42   \n",
      "4  334010101  2015/10/12 8:06:05   \n",
      "\n",
      "                                    ACCEPT_CONTENT HANDLE_OPINION  CALLING_NO  \\\n",
      "0  【一户无电】非居民客户报修一户无电，经指导客户检查，无法判断设备故障及其资产归属，请现场查处。            NaN   1625671.0   \n",
      "1                                 【银行代扣】客户咨询银行代扣事宜            NaN   1196922.0   \n",
      "2                            【查询电费】客户查询本月电费金额，已告知。            NaN   1378624.0   \n",
      "3                                【查询电费】客户查询本月电费金额。            NaN   1149071.0   \n",
      "4                            【查询电费】客户查询电费是否欠费，已告知。            NaN   1052032.0   \n",
      "\n",
      "   ELEC_TYPE     CUST_NO  PROV_ORG_NO  CITY_ORG_NO  \n",
      "0      405.0  5115500151        33101        33405  \n",
      "1      202.0  5720017228        33101        33410  \n",
      "2      201.0  6911007734        33101        33406  \n",
      "3      202.0  4400013050        33101        33404  \n",
      "4      100.0  6023002461        33101        33401  \n",
      "<class 'pandas.core.frame.DataFrame'>\n",
      "RangeIndex: 1190198 entries, 0 to 1190197\n",
      "Data columns (total 13 columns):\n",
      "APP_NO              1190198 non-null int64\n",
      "ID                  1190198 non-null int64\n",
      "BUSI_TYPE_CODE      1190198 non-null int64\n",
      "URBAN_RURAL_FLAG    1189194 non-null float64\n",
      "ORG_NO              1190198 non-null int64\n",
      "HANDLE_TIME         1190198 non-null object\n",
      "ACCEPT_CONTENT      1190198 non-null object\n",
      "HANDLE_OPINION      6840 non-null object\n",
      "CALLING_NO          1173909 non-null float64\n",
      "ELEC_TYPE           936170 non-null float64\n",
      "CUST_NO             1190198 non-null object\n",
      "PROV_ORG_NO         1190198 non-null int64\n",
      "CITY_ORG_NO         1190198 non-null int64\n",
      "dtypes: float64(3), int64(6), object(4)\n",
      "memory usage: 118.0+ MB\n",
      "None\n"
     ]
    }
   ],
   "source": [
    "show_df_info(data=train_data01_df)"
   ]
  },
  {
   "cell_type": "markdown",
   "metadata": {},
   "source": [
    "##### 2-2-1-3 将工单表和用户列表连接 ---> 为了 得到是否敏感的 标签 TAG):\n",
    "- 训练集 - 加上标签信息(0-不敏感，1-敏感)"
   ]
  },
  {
   "cell_type": "code",
   "execution_count": 21,
   "metadata": {
    "collapsed": true
   },
   "outputs": [
    {
     "name": "stdout",
     "output_type": "stream",
     "text": [
      "CPU times: user 1.02 s, sys: 140 ms, total: 1.16 s\n",
      "Wall time: 1.2 s\n"
     ]
    }
   ],
   "source": [
    "%%time\n",
    "# 利用和 敏感用户 表连接 来获取标签\n",
    "train_data01_merge_label_df = train_data01_df.merge(train_data_labels_df,on=u'CUST_NO',how='left')\n",
    "# 将没有连接上的工单设置为不敏感用户\n",
    "train_data01_merge_label_df['TAG'] = train_data01_merge_label_df['TAG'].fillna(0)\n",
    "train_data01_merge_label_df['TAG'] = train_data01_merge_label_df['TAG'].astype(int)"
   ]
  },
  {
   "cell_type": "code",
   "execution_count": 24,
   "metadata": {
    "collapsed": false
   },
   "outputs": [
    {
     "name": "stdout",
     "output_type": "stream",
     "text": [
      "Stored 'train_data01_merge_label_df' (DataFrame)\n"
     ]
    }
   ],
   "source": [
    "# 缓存\n",
    "%store train_data01_merge_label_df"
   ]
  },
  {
   "cell_type": "code",
   "execution_count": 16,
   "metadata": {
    "collapsed": true
   },
   "outputs": [
    {
     "data": {
      "text/plain": [
       "True"
      ]
     },
     "execution_count": 16,
     "metadata": {},
     "output_type": "execute_result"
    }
   ],
   "source": [
    "len(train_data01_merge_label_df['CUST_NO'].unique()) == 658374"
   ]
  },
  {
   "cell_type": "code",
   "execution_count": 17,
   "metadata": {
    "collapsed": true
   },
   "outputs": [
    {
     "name": "stdout",
     "output_type": "stream",
     "text": [
      "(2,)\n",
      "CPU times: user 76 ms, sys: 4 ms, total: 80 ms\n",
      "Wall time: 80 ms\n"
     ]
    },
    {
     "data": {
      "text/plain": [
       "0    895063\n",
       "1    295135\n",
       "Name: TAG, dtype: int64"
      ]
     },
     "execution_count": 17,
     "metadata": {},
     "output_type": "execute_result"
    },
    {
     "data": {
      "image/png": "[encoded data removed]",
      "text/plain": [
       "<matplotlib.figure.Figure at 0x7f3ee84fb650>"
      ]
     },
     "metadata": {},
     "output_type": "display_data"
    }
   ],
   "source": [
    "%%time\n",
    "# 所有工单的统计\n",
    "show_attribute_detail(train_data01_merge_label_df,u'TAG')"
   ]
  },
  {
   "cell_type": "code",
   "execution_count": 18,
   "metadata": {
    "collapsed": true
   },
   "outputs": [
    {
     "name": "stdout",
     "output_type": "stream",
     "text": [
      "(2,)\n",
      "CPU times: user 648 ms, sys: 340 ms, total: 988 ms\n",
      "Wall time: 986 ms\n"
     ]
    },
    {
     "data": {
      "text/plain": [
       "0    578349\n",
       "1     80025\n",
       "Name: TAG, dtype: int64"
      ]
     },
     "execution_count": 18,
     "metadata": {},
     "output_type": "execute_result"
    },
    {
     "data": {
      "image/png": "[encoded data removed]",
      "text/plain": [
       "<matplotlib.figure.Figure at 0x7f3ee31c3a50>"
      ]
     },
     "metadata": {},
     "output_type": "display_data"
    }
   ],
   "source": [
    "%%time\n",
    "# 所有用户的统计\n",
    "show_attribute_detail(train_data01_merge_label_df[['CUST_NO','TAG']].drop_duplicates(),u'TAG')"
   ]
  },
  {
   "cell_type": "markdown",
   "metadata": {},
   "source": [
    "##### 2-3-1-4 保存 用户"
   ]
  },
  {
   "cell_type": "markdown",
   "metadata": {},
   "source": [
    "###### 输出 训练集 中 敏感用户列表（sensitive.csv）和不敏感用户列表（nonsensitive.csv）"
   ]
  },
  {
   "cell_type": "code",
   "execution_count": 19,
   "metadata": {
    "collapsed": true
   },
   "outputs": [],
   "source": [
    "pd.DataFrame(\n",
    "    data = {'CUST_NO':train_data01_merge_label_df.loc[train_data01_merge_label_df['TAG']==1,'CUST_NO'].unique()}\n",
    ").to_csv('sensitive_users_list.csv',encoding='utf8',index=False)\n",
    "\n",
    "pd.DataFrame(\n",
    "    data = {'CUST_NO':train_data01_merge_label_df.loc[train_data01_merge_label_df['TAG']==0,'CUST_NO'].unique()}\n",
    ").to_csv('nonsensitive_users_list.csv',encoding='utf8',index=False)"
   ]
  },
  {
   "cell_type": "markdown",
   "metadata": {},
   "source": [
    "###### 输出 工单训练集中 所有用户和标签，共 658,374个用户"
   ]
  },
  {
   "cell_type": "code",
   "execution_count": 8,
   "metadata": {
    "collapsed": true
   },
   "outputs": [
    {
     "data": {
      "text/plain": [
       "(658374, 2)"
      ]
     },
     "execution_count": 8,
     "metadata": {},
     "output_type": "execute_result"
    }
   ],
   "source": [
    "train_data01_cust_no_tag_df = \\\n",
    "    train_data01_merge_label_df[['CUST_NO','TAG']].drop_duplicates().sort_values(by='TAG')\n",
    "save_data(\n",
    "    train_data01_cust_no_tag_df,\n",
    "    'train_data01_cust_no_tag_df.csv'\n",
    ")\n",
    "train_data01_cust_no_tag_df.shape"
   ]
  },
  {
   "cell_type": "markdown",
   "metadata": {},
   "source": [
    "###### 从文件中恢复"
   ]
  },
  {
   "cell_type": "code",
   "execution_count": 5,
   "metadata": {
    "collapsed": false
   },
   "outputs": [],
   "source": [
    "# CONS_NO 全部转为字符串，否则在连接表的时候会出问题\n",
    "train_data01_cust_no_tag_df = load_data('train_data01_cust_no_tag_df.csv',\n",
    "                                        encoding='utf8',\n",
    "                                        converters={'CUST_NO':unicode}\n",
    "                                       )"
   ]
  },
  {
   "cell_type": "markdown",
   "metadata": {},
   "source": [
    "#### 2-2-2 测试集 "
   ]
  },
  {
   "cell_type": "markdown",
   "metadata": {},
   "source": [
    "##### 2-2-2-1 加载数据 01_arc_s_95598_wkst_test.tsv"
   ]
  },
  {
   "cell_type": "code",
   "execution_count": 22,
   "metadata": {
    "collapsed": true
   },
   "outputs": [
    {
     "name": "stdout",
     "output_type": "stream",
     "text": [
      "(423728, 13)\n",
      "CPU times: user 1.87 s, sys: 88 ms, total: 1.96 s\n",
      "Wall time: 2.17 s\n"
     ]
    }
   ],
   "source": [
    "%%time\n",
    "# 要特别注意 设置 converters={'CUST_NO':unicode}，\n",
    "# 这个类型转换非常重要，因为发现在和 train_label.csv表 的 CUST_NO 连接时 ，如果不全部转为 字符串 ，会连接 不对，因为\n",
    "# 在这个表里的 CUST_NO 字段出现 部分 字段是字符串，部分字段是整形，所以全部转为字符串\n",
    "test_data01_df = load_data('Data_Update/test/01_arc_s_95598_wkst_test.tsv',converters={'CUST_NO':unicode}) \n",
    "# 记录数 423,728\n",
    "print(test_data01_df.shape)\n",
    "# 将客户编号提取并去重，发现只有 370,871个用户编号\n",
    "len(set(test_data01_df['CUST_NO']))"
   ]
  },
  {
   "cell_type": "markdown",
   "metadata": {},
   "source": [
    "##### 2-2-2-2 数据摘要"
   ]
  },
  {
   "cell_type": "code",
   "execution_count": 48,
   "metadata": {
    "collapsed": true
   },
   "outputs": [
    {
     "name": "stdout",
     "output_type": "stream",
     "text": [
      "             APP_NO                ID  BUSI_TYPE_CODE  URBAN_RURAL_FLAG  \\\n",
      "0  2015101280019632  1000000527215943               3               1.0   \n",
      "1  2015101280019648  1000000527216033              10               2.0   \n",
      "2  2015101280019680  1000000527216202               3               2.0   \n",
      "3  2015101280019873  1000000527218491               3               1.0   \n",
      "4  2015101280020130  1000000527221199               1               1.0   \n",
      "\n",
      "      ORG_NO         HANDLE_TIME  \\\n",
      "0    3340780  2015/10/12 7:58:04   \n",
      "1  334066001  2015/10/12 7:58:26   \n",
      "2    3340690  2015/10/12 7:58:52   \n",
      "3    3340810  2015/10/12 8:02:53   \n",
      "4    3340501  2015/10/12 8:07:10   \n",
      "\n",
      "                                      ACCEPT_CONTENT HANDLE_OPINION  \\\n",
      "0   【客户咨询一户无电】建议先自行联系有资质电工排查是否为内部故障，客户接受并表示有其他情况再致电。            NaN   \n",
      "1  【退订】#2061584501；【退订】#2061584602；【退订】#406091928...            NaN   \n",
      "2                                【查询电费】客户查询本月电费，已告知。            NaN   \n",
      "3                           【咨询总户号】通过地址、户名查询户号信息，已告知            NaN   \n",
      "4  【设备故障】客户报修此处线路打火，请处理。客户只能提供此地址，烦请电话联系057486581...            NaN   \n",
      "\n",
      "   CALLING_NO  ELEC_TYPE     CUST_NO  PROV_ORG_NO  CITY_ORG_NO  \n",
      "0   1628699.0      202.0  9400029736        33101        33407  \n",
      "1   1260775.0      201.0  6851831254        33101        33406  \n",
      "2   1536321.0      201.0  7312218251        33101        33406  \n",
      "3   1576698.0        NaN  3330149860        33101        33408  \n",
      "4   1089990.0      201.0  5210210735        33101        33405  \n",
      "<class 'pandas.core.frame.DataFrame'>\n",
      "RangeIndex: 423728 entries, 0 to 423727\n",
      "Data columns (total 13 columns):\n",
      "APP_NO              423728 non-null int64\n",
      "ID                  423728 non-null int64\n",
      "BUSI_TYPE_CODE      423728 non-null int64\n",
      "URBAN_RURAL_FLAG    423280 non-null float64\n",
      "ORG_NO              423728 non-null int64\n",
      "HANDLE_TIME         423728 non-null object\n",
      "ACCEPT_CONTENT      423728 non-null object\n",
      "HANDLE_OPINION      2418 non-null object\n",
      "CALLING_NO          421038 non-null float64\n",
      "ELEC_TYPE           333916 non-null float64\n",
      "CUST_NO             423728 non-null object\n",
      "PROV_ORG_NO         423728 non-null int64\n",
      "CITY_ORG_NO         423728 non-null int64\n",
      "dtypes: float64(3), int64(6), object(4)\n",
      "memory usage: 42.0+ MB\n",
      "None\n"
     ]
    }
   ],
   "source": [
    "show_df_info(data=test_data01_df)"
   ]
  },
  {
   "cell_type": "markdown",
   "metadata": {},
   "source": [
    "##### 2-2-2-3 将工单表 和 待预测用户表连接"
   ]
  },
  {
   "cell_type": "code",
   "execution_count": 23,
   "metadata": {
    "collapsed": true
   },
   "outputs": [
    {
     "name": "stdout",
     "output_type": "stream",
     "text": [
      "CPU times: user 684 ms, sys: 28 ms, total: 712 ms\n",
      "Wall time: 715 ms\n"
     ]
    }
   ],
   "source": [
    "%%time\n",
    "# 利用和 敏感用户 表连接 来获取标签\n",
    "test_data01_merge_label_df = test_data01_df.merge(test_data_labels_df,on=u'CUST_NO',how='left')"
   ]
  },
  {
   "cell_type": "code",
   "execution_count": 25,
   "metadata": {
    "collapsed": true
   },
   "outputs": [
    {
     "name": "stdout",
     "output_type": "stream",
     "text": [
      "Stored 'test_data01_merge_label_df' (DataFrame)\n",
      "CPU times: user 1.53 s, sys: 144 ms, total: 1.68 s\n",
      "Wall time: 1.69 s\n"
     ]
    }
   ],
   "source": [
    "%%time\n",
    "# 缓存\n",
    "%store test_data01_merge_label_df"
   ]
  },
  {
   "cell_type": "code",
   "execution_count": 23,
   "metadata": {
    "collapsed": true
   },
   "outputs": [
    {
     "data": {
      "text/plain": [
       "True"
      ]
     },
     "execution_count": 23,
     "metadata": {},
     "output_type": "execute_result"
    }
   ],
   "source": [
    "len(test_data01_merge_label_df['CUST_NO'].unique()) == 370871"
   ]
  },
  {
   "cell_type": "markdown",
   "metadata": {},
   "source": [
    "#### 2-2-3 小结：\n",
    "- 训练集\n",
    "    - 有：1,190,198（有658,374个用户）个工单数据,其中不敏感用户的工单有 895,063 （有578,349个用户），而敏感用户的工单有 295,135（有80,025个用户(占总数的0.1215)，跟train_label.csv中给一模一样）————> 看出 敏感用户 的平均工单数比 不敏感用户 高很多\n",
    "    - 不敏感工单数： 895,063，敏感工单数：295,135，比例为 3.0327\n",
    "\n",
    "- 测试集\n",
    "    - 有：  423,728个工单数据\n",
    "    - 将测试集客户编号提取并去重，发现测试集只有 370,871用户编号,跟 test_to_predict.csv 一样"
   ]
  },
  {
   "cell_type": "markdown",
   "metadata": {},
   "source": [
    "## 3 进行不同特征的探索"
   ]
  },
  {
   "cell_type": "markdown",
   "metadata": {},
   "source": [
    "- 01表 http://localhost:8888/notebooks/data_processing-01table.ipynb#客户画像复赛-数据处理---01表（工单信息）特征提取\n",
    "- 04/05/10/11/12表 http://localhost:8888/notebooks/data_processing-04%2605%2611%2612table.ipynb#客户画像复赛-数据处理---04&05&10&11/12表特征提取\n",
    "- 06/07表 http://localhost:8888/notebooks/data_processing-06%2607table.ipynb#客户画像复赛-数据处理---06&07表特征提取\n",
    "- 08表 http://localhost:8888/notebooks/data_processing-08table.ipynb#客户画像复赛-数据处理---08表（实收电费信息表）特征提取\n",
    "- 09表 http://localhost:8888/notebooks/data_processing-09table.ipynb#客户画像复赛-数据处理---09表（应收电费信息表）特征提取"
   ]
  },
  {
   "cell_type": "markdown",
   "metadata": {},
   "source": [
    "------\n",
    "## 4 数据缓存和恢复"
   ]
  },
  {
   "cell_type": "markdown",
   "metadata": {},
   "source": [
    "### 4-1 保存"
   ]
  },
  {
   "cell_type": "markdown",
   "metadata": {},
   "source": [
    "#### 4-1-1 训练集"
   ]
  },
  {
   "cell_type": "markdown",
   "metadata": {},
   "source": [
    "#### data01"
   ]
  },
  {
   "cell_type": "code",
   "execution_count": 52,
   "metadata": {
    "collapsed": false
   },
   "outputs": [
    {
     "name": "stdout",
     "output_type": "stream",
     "text": [
      "(658374, 72)\n",
      "CPU times: user 1min 15s, sys: 1.06 s, total: 1min 17s\n",
      "Wall time: 1min 18s\n"
     ]
    }
   ],
   "source": [
    "%%time\n",
    "save_data(\n",
    "    train_data01_a_worker_per_user,\n",
    "    'train_data01_a_worker_per_user.csv',\n",
    ")\n",
    "print train_data01_a_worker_per_user.shape"
   ]
  },
  {
   "cell_type": "code",
   "execution_count": 7,
   "metadata": {
    "collapsed": true
   },
   "outputs": [
    {
     "data": {
      "text/plain": [
       "Index([                                  u'APP_NO',\n",
       "                                             u'ID',\n",
       "                                 u'BUSI_TYPE_CODE',\n",
       "                               u'URBAN_RURAL_FLAG',\n",
       "                                         u'ORG_NO',\n",
       "                                    u'HANDLE_TIME',\n",
       "                                 u'ACCEPT_CONTENT',\n",
       "                                 u'HANDLE_OPINION',\n",
       "                                     u'CALLING_NO',\n",
       "                                      u'ELEC_TYPE',\n",
       "                                        u'CUST_NO',\n",
       "                                    u'PROV_ORG_NO',\n",
       "                                    u'CITY_ORG_NO',\n",
       "                                            u'TAG',\n",
       "                                  u'NUM_OF_WORKER',\n",
       "                            u'ACCEPT_CONTENT_TYPE',\n",
       "                               u'IS_SEARCH_ACTION',\n",
       "                           u'NUM_OF_SEARCH_ACTION',\n",
       "                                    u'HANDLE_HOUR',\n",
       "                                    u'HANDLE_YEAR',\n",
       "                                   u'HANDLE_MONTH',\n",
       "                                     u'HANDLE_DAY',\n",
       "                              u'NUM_OF_IN_SEASON4',\n",
       "       u'IS_HIGHEST_SENSITIVE_ACCEPT_CONTENT_TYPE',\n",
       "                                          u'total',\n",
       "                                           u'tag0',\n",
       "                                     u'tag0/total',\n",
       "                                           u'tag1',\n",
       "                                     u'tag1/total',\n",
       "                                     u'test_total',\n",
       "                          u'IS_CONNECT_TO_09TABLE',\n",
       "                             u'total_after09table',\n",
       "                              u'tag1_after09table',\n",
       "                        u'tag1/total_after09table',\n",
       "                              u'tag0_after09table',\n",
       "                        u'tag0/total_after09table',\n",
       "                        u'test_total_after09table',\n",
       "                          u'IS_CONNECT_TO_08TABLE',\n",
       "                           u'NUM_OF_RCVBL_PENALTY',\n",
       "                          u'IS_CONNECT_TO_07TABLE',\n",
       "                                    u'CONS_STATUS',\n",
       "                                       u'RCA_FLAG',\n",
       "                                    u'ORG_NO_7bit',\n",
       "                              u'AVERAGE_RCVBL_AMT',\n",
       "                  u'IS_EXCEEDING_RCVBL_YM_GE_1MON',\n",
       "                          u'IS_CONNECT_TO_06TABLE',\n",
       "                                      u'CONT_TYPE',\n",
       "                    u'MAX_NUM_MONTH_SEARCH_ACTION',\n",
       "                           u'NUM_OF_USED_PAY_MODE',\n",
       "                    u'IS_PAY_MODE_CONTAINS_020311',\n",
       "                    u'IS_PAY_MODE_CONTAINS_010101',\n",
       "                    u'IS_PAY_MODE_CONTAINS_020261',\n",
       "                            u'LAST_MONTH_PAY_MODE',\n",
       "                           u'PAY_MODE_CHANGE_CLUE',\n",
       "                                   u'CUST_NO_3bit',\n",
       "                                    u'ORG_NO_9bit',\n",
       "                       u'LAST_MONTH_PAY_MODE_4bit',\n",
       "                      u'PAY_MODE_4bit_CHANGE_CLUE',\n",
       "                           u'MONEY_PER_DEGREE_STD',\n",
       "                      u'MULTI_ACCEPT_CONTENT_TYPE',\n",
       "                                  u'ORG_NO_100bit'],\n",
       "      dtype='object')"
      ]
     },
     "execution_count": 7,
     "metadata": {},
     "output_type": "execute_result"
    }
   ],
   "source": [
    "train_data01_a_worker_per_user.columns"
   ]
  },
  {
   "cell_type": "code",
   "execution_count": 12,
   "metadata": {
    "collapsed": false
   },
   "outputs": [
    {
     "name": "stdout",
     "output_type": "stream",
     "text": [
      "CPU times: user 12.6 s, sys: 108 ms, total: 12.7 s\n",
      "Wall time: 12.9 s\n"
     ]
    }
   ],
   "source": [
    "%%time\n",
    "save_data(\n",
    "    train_data_toclassify[\n",
    "        [\n",
    "            'CUST_NO','TAG','NUM_OF_WORKER','NUM_OF_SEARCH_ACTION','BUSI_TYPE_CODE',\n",
    "            'ACCEPT_CONTENT_TYPE','ELEC_TYPE','URBAN_RURAL_FLAG','HANDLE_MONTH',\n",
    "            'NUM_OF_IN_SEASON4','RCA_FLAG','CONT_TYPE',\n",
    "            'AVERAGE_RCVBL_AMT','ORG_NO_9bit','NUM_OF_RCVBL_PENALTY',\n",
    "            'MULTI_ACCEPT_CONTENT_TYPE','MONEY_PER_DEGREE_STD',\n",
    "            'ORG_NO_100bit','IS_HEBIAO_USER','IS_SEPERATE_TIME','ELEC_DEGREE','IS_MID_CHANGE'\n",
    "        ]\n",
    "    ],\n",
    "    'train_features_20161215.csv'\n",
    ")\n",
    "# print train_data01_a_worker_per_user.shape"
   ]
  },
  {
   "cell_type": "code",
   "execution_count": 59,
   "metadata": {
    "collapsed": false
   },
   "outputs": [
    {
     "data": {
      "text/plain": [
       "0    33410\n",
       "1    33409\n",
       "2    33401\n",
       "3    33402\n",
       "4    33401\n",
       "Name: CITY_ORG_NO, dtype: int64"
      ]
     },
     "execution_count": 59,
     "metadata": {},
     "output_type": "execute_result"
    }
   ],
   "source": [
    "train_data01_a_worker_per_user['CITY_ORG_NO'].head()"
   ]
  },
  {
   "cell_type": "code",
   "execution_count": 50,
   "metadata": {
    "collapsed": true
   },
   "outputs": [
    {
     "data": {
      "text/plain": [
       "14        1.797693e+308\n",
       "101       1.797693e+308\n",
       "793       1.797693e+308\n",
       "796       1.797693e+308\n",
       "1090      1.797693e+308\n",
       "1149      1.797693e+308\n",
       "1158      1.797693e+308\n",
       "1249      1.797693e+308\n",
       "1440      1.797693e+308\n",
       "1442      1.797693e+308\n",
       "2734      1.797693e+308\n",
       "2810      1.797693e+308\n",
       "3013      1.797693e+308\n",
       "3263      1.797693e+308\n",
       "3501      1.797693e+308\n",
       "3722      1.797693e+308\n",
       "3790      1.797693e+308\n",
       "4025      1.797693e+308\n",
       "5142      1.797693e+308\n",
       "5342      1.797693e+308\n",
       "5441      1.797693e+308\n",
       "6308      1.797693e+308\n",
       "6583      1.797693e+308\n",
       "6756      1.797693e+308\n",
       "6773      1.797693e+308\n",
       "6795      1.797693e+308\n",
       "7365      1.797693e+308\n",
       "7975      1.797693e+308\n",
       "8227      1.797693e+308\n",
       "8304      1.797693e+308\n",
       "              ...      \n",
       "649829    1.797693e+308\n",
       "649942    1.797693e+308\n",
       "650058    1.797693e+308\n",
       "650282    1.797693e+308\n",
       "650290    1.797693e+308\n",
       "650837    1.797693e+308\n",
       "650872    1.797693e+308\n",
       "650945    1.797693e+308\n",
       "651147    1.797693e+308\n",
       "651362    1.797693e+308\n",
       "652039    1.797693e+308\n",
       "652360    1.797693e+308\n",
       "652834    1.797693e+308\n",
       "653073    1.797693e+308\n",
       "653377    1.797693e+308\n",
       "653948    1.797693e+308\n",
       "654050    1.797693e+308\n",
       "655350    1.797693e+308\n",
       "655639    1.797693e+308\n",
       "655658    1.797693e+308\n",
       "656272    1.797693e+308\n",
       "656529    1.797693e+308\n",
       "657017    1.797693e+308\n",
       "657117    1.797693e+308\n",
       "657145    1.797693e+308\n",
       "657261    1.797693e+308\n",
       "657647    1.797693e+308\n",
       "657933    1.797693e+308\n",
       "658058    1.797693e+308\n",
       "658102    1.797693e+308\n",
       "Name: MONEY_PER_DEGREE_STD, dtype: float64"
      ]
     },
     "execution_count": 50,
     "metadata": {},
     "output_type": "execute_result"
    }
   ],
   "source": [
    "train_data01_a_worker_per_user[train_data01_a_worker_per_user['MONEY_PER_DEGREE_STD']>10000]"
   ]
  },
  {
   "cell_type": "code",
   "execution_count": 55,
   "metadata": {
    "collapsed": false
   },
   "outputs": [],
   "source": [
    "average_rcvbl_amt_mean = train_data01_a_worker_per_user['MONEY_PER_DEGREE_STD'].mean()\n",
    "average_rcvbl_amt_std = train_data01_a_worker_per_user['MONEY_PER_DEGREE_STD'].std()"
   ]
  },
  {
   "cell_type": "code",
   "execution_count": 56,
   "metadata": {
    "collapsed": true
   },
   "outputs": [],
   "source": [
    "temp = (train_data01_a_worker_per_user['MONEY_PER_DEGREE_STD'] - average_rcvbl_amt_mean) / average_rcvbl_amt_std"
   ]
  },
  {
   "cell_type": "code",
   "execution_count": 57,
   "metadata": {
    "collapsed": false
   },
   "outputs": [
    {
     "data": {
      "text/plain": [
       "(inf, inf)"
      ]
     },
     "execution_count": 57,
     "metadata": {},
     "output_type": "execute_result"
    }
   ],
   "source": [
    "average_rcvbl_amt_mean,average_rcvbl_amt_std"
   ]
  },
  {
   "cell_type": "code",
   "execution_count": 32,
   "metadata": {
    "collapsed": false
   },
   "outputs": [
    {
     "data": {
      "text/plain": [
       "((658374, 68), (370871, 67))"
      ]
     },
     "execution_count": 32,
     "metadata": {},
     "output_type": "execute_result"
    }
   ],
   "source": [
    "train_data01_a_worker_per_user.shape,test_data01_a_worker_per_user.shape"
   ]
  },
  {
   "cell_type": "code",
   "execution_count": 20,
   "metadata": {
    "collapsed": false
   },
   "outputs": [
    {
     "name": "stdout",
     "output_type": "stream",
     "text": [
      "Stored 'train_data01_a_worker_per_user' (DataFrame)\n"
     ]
    }
   ],
   "source": [
    "%store train_data01_a_worker_per_user"
   ]
  },
  {
   "cell_type": "markdown",
   "metadata": {},
   "source": [
    "#### 4-1-2 测试集"
   ]
  },
  {
   "cell_type": "markdown",
   "metadata": {},
   "source": [
    "#### data01"
   ]
  },
  {
   "cell_type": "code",
   "execution_count": 53,
   "metadata": {
    "collapsed": false
   },
   "outputs": [
    {
     "name": "stdout",
     "output_type": "stream",
     "text": [
      "(370871, 71)\n",
      "CPU times: user 35.4 s, sys: 372 ms, total: 35.7 s\n",
      "Wall time: 36 s\n"
     ]
    }
   ],
   "source": [
    "%%time\n",
    "save_data(\n",
    "    test_data01_a_worker_per_user,\n",
    "    'test_data01_a_worker_per_user.csv'\n",
    ")\n",
    "print test_data01_a_worker_per_user.shape"
   ]
  },
  {
   "cell_type": "code",
   "execution_count": 14,
   "metadata": {
    "collapsed": true
   },
   "outputs": [
    {
     "data": {
      "text/html": [
       "<div>\n",
       "<table border=\"1\" class=\"dataframe\">\n",
       "  <thead>\n",
       "    <tr style=\"text-align: right;\">\n",
       "      <th></th>\n",
       "      <th>APP_NO</th>\n",
       "      <th>ID</th>\n",
       "      <th>BUSI_TYPE_CODE</th>\n",
       "      <th>URBAN_RURAL_FLAG</th>\n",
       "      <th>ORG_NO</th>\n",
       "      <th>HANDLE_TIME</th>\n",
       "      <th>ACCEPT_CONTENT</th>\n",
       "      <th>HANDLE_OPINION</th>\n",
       "      <th>CALLING_NO</th>\n",
       "      <th>ELEC_TYPE</th>\n",
       "      <th>...</th>\n",
       "      <th>LAST_MONTH_PAY_MODE_4bit</th>\n",
       "      <th>PAY_MODE_4bit_CHANGE_CLUE</th>\n",
       "      <th>MONEY_PER_DEGREE_STD</th>\n",
       "      <th>MULTI_ACCEPT_CONTENT_TYPE</th>\n",
       "      <th>ORG_NO_100bit</th>\n",
       "      <th>IS_HEBIAO_USER</th>\n",
       "      <th>IS_ELEC_EQ_ZERO</th>\n",
       "      <th>IS_SEPERATE_TIME</th>\n",
       "      <th>IS_MID_CHANGE</th>\n",
       "      <th>ELEC_DEGREE</th>\n",
       "    </tr>\n",
       "  </thead>\n",
       "  <tbody>\n",
       "    <tr>\n",
       "      <th>0</th>\n",
       "      <td>2015101280019632</td>\n",
       "      <td>1000000527215943</td>\n",
       "      <td>3</td>\n",
       "      <td>1.0</td>\n",
       "      <td>3340780</td>\n",
       "      <td>2015/10/12 7:58:04</td>\n",
       "      <td>【客户咨询一户无电】建议先自行联系有资质电工排查是否为内部故障，客户接受并表示有其他情况再致电。</td>\n",
       "      <td>NaN</td>\n",
       "      <td>1628699.0</td>\n",
       "      <td>202.0</td>\n",
       "      <td>...</td>\n",
       "      <td>101.0</td>\n",
       "      <td>0203-0101</td>\n",
       "      <td>0.025006</td>\n",
       "      <td>客户咨询一户无电</td>\n",
       "      <td>3.340780e+08</td>\n",
       "      <td>0</td>\n",
       "      <td>False</td>\n",
       "      <td>1</td>\n",
       "      <td>0</td>\n",
       "      <td>1</td>\n",
       "    </tr>\n",
       "    <tr>\n",
       "      <th>1</th>\n",
       "      <td>2015101280019648</td>\n",
       "      <td>1000000527216033</td>\n",
       "      <td>10</td>\n",
       "      <td>2.0</td>\n",
       "      <td>334066001</td>\n",
       "      <td>2015/10/12 7:58:26</td>\n",
       "      <td>【退订】#2061584501；【退订】#2061584602；【退订】#406091928...</td>\n",
       "      <td>NaN</td>\n",
       "      <td>1260775.0</td>\n",
       "      <td>201.0</td>\n",
       "      <td>...</td>\n",
       "      <td>203.0</td>\n",
       "      <td>0203</td>\n",
       "      <td>0.000046</td>\n",
       "      <td>退订</td>\n",
       "      <td>3.340660e+10</td>\n",
       "      <td>0</td>\n",
       "      <td>False</td>\n",
       "      <td>0</td>\n",
       "      <td>0</td>\n",
       "      <td>1</td>\n",
       "    </tr>\n",
       "    <tr>\n",
       "      <th>2</th>\n",
       "      <td>2015101280019680</td>\n",
       "      <td>1000000527216202</td>\n",
       "      <td>3</td>\n",
       "      <td>2.0</td>\n",
       "      <td>3340690</td>\n",
       "      <td>2015/10/12 7:58:52</td>\n",
       "      <td>【查询电费】客户查询本月电费，已告知。</td>\n",
       "      <td>NaN</td>\n",
       "      <td>1536321.0</td>\n",
       "      <td>201.0</td>\n",
       "      <td>...</td>\n",
       "      <td>203.0</td>\n",
       "      <td>0203</td>\n",
       "      <td>0.024686</td>\n",
       "      <td>查询电费+回呼电话</td>\n",
       "      <td>3.340690e+10</td>\n",
       "      <td>0</td>\n",
       "      <td>False</td>\n",
       "      <td>0</td>\n",
       "      <td>0</td>\n",
       "      <td>2</td>\n",
       "    </tr>\n",
       "    <tr>\n",
       "      <th>3</th>\n",
       "      <td>2015101280019873</td>\n",
       "      <td>1000000527218491</td>\n",
       "      <td>3</td>\n",
       "      <td>1.0</td>\n",
       "      <td>3340810</td>\n",
       "      <td>2015/10/12 8:02:53</td>\n",
       "      <td>【咨询总户号】通过地址、户名查询户号信息，已告知</td>\n",
       "      <td>NaN</td>\n",
       "      <td>1576698.0</td>\n",
       "      <td>NaN</td>\n",
       "      <td>...</td>\n",
       "      <td>101.0</td>\n",
       "      <td>0101</td>\n",
       "      <td>0.167792</td>\n",
       "      <td>咨询总户号</td>\n",
       "      <td>3.340801e+10</td>\n",
       "      <td>0</td>\n",
       "      <td>False</td>\n",
       "      <td>1</td>\n",
       "      <td>0</td>\n",
       "      <td>1</td>\n",
       "    </tr>\n",
       "    <tr>\n",
       "      <th>4</th>\n",
       "      <td>2015101280020130</td>\n",
       "      <td>1000000527221199</td>\n",
       "      <td>1</td>\n",
       "      <td>1.0</td>\n",
       "      <td>3340501</td>\n",
       "      <td>2015/10/12 8:07:10</td>\n",
       "      <td>【设备故障】客户报修此处线路打火，请处理。客户只能提供此地址，烦请电话联系057486581...</td>\n",
       "      <td>NaN</td>\n",
       "      <td>1089990.0</td>\n",
       "      <td>201.0</td>\n",
       "      <td>...</td>\n",
       "      <td>NaN</td>\n",
       "      <td>NaN</td>\n",
       "      <td>0.000000</td>\n",
       "      <td>设备故障</td>\n",
       "      <td>NaN</td>\n",
       "      <td>0</td>\n",
       "      <td>NaN</td>\n",
       "      <td>0</td>\n",
       "      <td>0</td>\n",
       "      <td>0</td>\n",
       "    </tr>\n",
       "  </tbody>\n",
       "</table>\n",
       "<p>5 rows × 65 columns</p>\n",
       "</div>"
      ],
      "text/plain": [
       "             APP_NO                ID  BUSI_TYPE_CODE  URBAN_RURAL_FLAG  \\\n",
       "0  2015101280019632  1000000527215943               3               1.0   \n",
       "1  2015101280019648  1000000527216033              10               2.0   \n",
       "2  2015101280019680  1000000527216202               3               2.0   \n",
       "3  2015101280019873  1000000527218491               3               1.0   \n",
       "4  2015101280020130  1000000527221199               1               1.0   \n",
       "\n",
       "      ORG_NO         HANDLE_TIME  \\\n",
       "0    3340780  2015/10/12 7:58:04   \n",
       "1  334066001  2015/10/12 7:58:26   \n",
       "2    3340690  2015/10/12 7:58:52   \n",
       "3    3340810  2015/10/12 8:02:53   \n",
       "4    3340501  2015/10/12 8:07:10   \n",
       "\n",
       "                                      ACCEPT_CONTENT HANDLE_OPINION  \\\n",
       "0   【客户咨询一户无电】建议先自行联系有资质电工排查是否为内部故障，客户接受并表示有其他情况再致电。            NaN   \n",
       "1  【退订】#2061584501；【退订】#2061584602；【退订】#406091928...            NaN   \n",
       "2                                【查询电费】客户查询本月电费，已告知。            NaN   \n",
       "3                           【咨询总户号】通过地址、户名查询户号信息，已告知            NaN   \n",
       "4  【设备故障】客户报修此处线路打火，请处理。客户只能提供此地址，烦请电话联系057486581...            NaN   \n",
       "\n",
       "   CALLING_NO  ELEC_TYPE     ...      LAST_MONTH_PAY_MODE_4bit  \\\n",
       "0   1628699.0      202.0     ...                         101.0   \n",
       "1   1260775.0      201.0     ...                         203.0   \n",
       "2   1536321.0      201.0     ...                         203.0   \n",
       "3   1576698.0        NaN     ...                         101.0   \n",
       "4   1089990.0      201.0     ...                           NaN   \n",
       "\n",
       "   PAY_MODE_4bit_CHANGE_CLUE  MONEY_PER_DEGREE_STD  MULTI_ACCEPT_CONTENT_TYPE  \\\n",
       "0                  0203-0101              0.025006                   客户咨询一户无电   \n",
       "1                       0203              0.000046                         退订   \n",
       "2                       0203              0.024686                  查询电费+回呼电话   \n",
       "3                       0101              0.167792                      咨询总户号   \n",
       "4                        NaN              0.000000                       设备故障   \n",
       "\n",
       "  ORG_NO_100bit  IS_HEBIAO_USER  IS_ELEC_EQ_ZERO  IS_SEPERATE_TIME  \\\n",
       "0  3.340780e+08               0            False                 1   \n",
       "1  3.340660e+10               0            False                 0   \n",
       "2  3.340690e+10               0            False                 0   \n",
       "3  3.340801e+10               0            False                 1   \n",
       "4           NaN               0              NaN                 0   \n",
       "\n",
       "   IS_MID_CHANGE  ELEC_DEGREE  \n",
       "0              0            1  \n",
       "1              0            1  \n",
       "2              0            2  \n",
       "3              0            1  \n",
       "4              0            0  \n",
       "\n",
       "[5 rows x 65 columns]"
      ]
     },
     "execution_count": 14,
     "metadata": {},
     "output_type": "execute_result"
    }
   ],
   "source": [
    "test_data01_a_worker_per_user.head()"
   ]
  },
  {
   "cell_type": "code",
   "execution_count": 21,
   "metadata": {
    "collapsed": false
   },
   "outputs": [
    {
     "name": "stdout",
     "output_type": "stream",
     "text": [
      "Stored 'test_data01_a_worker_per_user' (DataFrame)\n"
     ]
    }
   ],
   "source": [
    "%store test_data01_a_worker_per_user"
   ]
  },
  {
   "cell_type": "markdown",
   "metadata": {},
   "source": [
    "### 4-2 恢复"
   ]
  },
  {
   "cell_type": "markdown",
   "metadata": {},
   "source": [
    "#### 4-2-1 训练集"
   ]
  },
  {
   "cell_type": "markdown",
   "metadata": {},
   "source": [
    "#### data01"
   ]
  },
  {
   "cell_type": "code",
   "execution_count": 3,
   "metadata": {
    "collapsed": true
   },
   "outputs": [
    {
     "name": "stderr",
     "output_type": "stream",
     "text": [
      "/usr/local/lib/python2.7/dist-packages/IPython/core/magic.py:188: DtypeWarning: Columns (54) have mixed types. Specify dtype option on import or set low_memory=False.\n",
      "  call = lambda f, *a, **k: f(*a, **k)\n"
     ]
    },
    {
     "name": "stdout",
     "output_type": "stream",
     "text": [
      "(658374, 66)\n",
      "CPU times: user 12.4 s, sys: 1.18 s, total: 13.5 s\n",
      "Wall time: 14.3 s\n"
     ]
    }
   ],
   "source": [
    "%%time\n",
    "train_data01_a_worker_per_user = load_data('train_data01_a_worker_per_user.csv',\n",
    "                                               encoding='utf8',\n",
    "                                               converters={\n",
    "                                                   'CUST_NO': unicode,\n",
    "                                                   'LAST_MONTH_PAY_MODE': unicode,\n",
    "                                               })\n",
    "print train_data01_a_worker_per_user.shape"
   ]
  },
  {
   "cell_type": "code",
   "execution_count": 37,
   "metadata": {
    "collapsed": true
   },
   "outputs": [
    {
     "data": {
      "text/html": [
       "<div>\n",
       "<table border=\"1\" class=\"dataframe\">\n",
       "  <thead>\n",
       "    <tr style=\"text-align: right;\">\n",
       "      <th></th>\n",
       "      <th>APP_NO</th>\n",
       "      <th>ID</th>\n",
       "      <th>BUSI_TYPE_CODE</th>\n",
       "      <th>URBAN_RURAL_FLAG</th>\n",
       "      <th>ORG_NO</th>\n",
       "      <th>HANDLE_TIME</th>\n",
       "      <th>ACCEPT_CONTENT</th>\n",
       "      <th>HANDLE_OPINION</th>\n",
       "      <th>CALLING_NO</th>\n",
       "      <th>ELEC_TYPE</th>\n",
       "      <th>...</th>\n",
       "      <th>IS_PAY_MODE_CONTAINS_020261</th>\n",
       "      <th>LAST_MONTH_PAY_MODE</th>\n",
       "      <th>PAY_MODE_CHANGE_CLUE</th>\n",
       "      <th>CUST_NO_3bit</th>\n",
       "      <th>ORG_NO_9bit</th>\n",
       "      <th>LAST_MONTH_PAY_MODE_4bit</th>\n",
       "      <th>PAY_MODE_4bit_CHANGE_CLUE</th>\n",
       "      <th>MONEY_PER_DEGREE_STD</th>\n",
       "      <th>MULTI_ACCEPT_CONTENT_TYPE</th>\n",
       "      <th>ORG_NO_100bit</th>\n",
       "    </tr>\n",
       "  </thead>\n",
       "  <tbody>\n",
       "    <tr>\n",
       "      <th>2</th>\n",
       "      <td>2015101280031424</td>\n",
       "      <td>1000000527305097</td>\n",
       "      <td>3</td>\n",
       "      <td>2.0</td>\n",
       "      <td>33401</td>\n",
       "      <td>2015/10/12 9:14:16</td>\n",
       "      <td>【查询电费】客户查询电费，已告知。</td>\n",
       "      <td>NaN</td>\n",
       "      <td>1007513.0</td>\n",
       "      <td>405.0</td>\n",
       "      <td>...</td>\n",
       "      <td>0.0</td>\n",
       "      <td>020271</td>\n",
       "      <td>020271</td>\n",
       "      <td>601</td>\n",
       "      <td>334010103</td>\n",
       "      <td>0202</td>\n",
       "      <td>0202</td>\n",
       "      <td>0.003929</td>\n",
       "      <td>查询电费+电力短信</td>\n",
       "      <td>334010103</td>\n",
       "    </tr>\n",
       "    <tr>\n",
       "      <th>7</th>\n",
       "      <td>2015101280020177</td>\n",
       "      <td>1000000527221507</td>\n",
       "      <td>3</td>\n",
       "      <td>1.0</td>\n",
       "      <td>3340201</td>\n",
       "      <td>2015/10/12 8:07:49</td>\n",
       "      <td>【停电信息】咨询计划停电信息</td>\n",
       "      <td>NaN</td>\n",
       "      <td>1468213.0</td>\n",
       "      <td>403.0</td>\n",
       "      <td>...</td>\n",
       "      <td>0.0</td>\n",
       "      <td>020311</td>\n",
       "      <td>020311</td>\n",
       "      <td>161</td>\n",
       "      <td>334020106</td>\n",
       "      <td>0203</td>\n",
       "      <td>0203</td>\n",
       "      <td>0.003810</td>\n",
       "      <td>停电信息</td>\n",
       "      <td>33402010608</td>\n",
       "    </tr>\n",
       "    <tr>\n",
       "      <th>8</th>\n",
       "      <td>2015101280020305</td>\n",
       "      <td>1000000527223326</td>\n",
       "      <td>10</td>\n",
       "      <td>1.0</td>\n",
       "      <td>334063001</td>\n",
       "      <td>2015/10/12 8:09:35</td>\n",
       "      <td>【查询电费】客户查询电费，已告知。【新增订阅】#电费#短信#2015-10-12#2016-...</td>\n",
       "      <td>NaN</td>\n",
       "      <td>1263913.0</td>\n",
       "      <td>202.0</td>\n",
       "      <td>...</td>\n",
       "      <td>0.0</td>\n",
       "      <td>020311</td>\n",
       "      <td>020311</td>\n",
       "      <td>703</td>\n",
       "      <td>334063001</td>\n",
       "      <td>0203</td>\n",
       "      <td>0203</td>\n",
       "      <td>0.022373</td>\n",
       "      <td>查询电费</td>\n",
       "      <td>33406300120</td>\n",
       "    </tr>\n",
       "    <tr>\n",
       "      <th>11</th>\n",
       "      <td>2015101280032546</td>\n",
       "      <td>1000000527305940</td>\n",
       "      <td>3</td>\n",
       "      <td>1.0</td>\n",
       "      <td>334034001</td>\n",
       "      <td>2015/10/12 9:15:05</td>\n",
       "      <td>【分时电价】客户咨询是否已开通分时电价/分时电价政策/分时电价开通范围及条件</td>\n",
       "      <td>NaN</td>\n",
       "      <td>1698477.0</td>\n",
       "      <td>202.0</td>\n",
       "      <td>...</td>\n",
       "      <td>0.0</td>\n",
       "      <td>020311</td>\n",
       "      <td>010101-020311</td>\n",
       "      <td>172</td>\n",
       "      <td>334034001</td>\n",
       "      <td>0203</td>\n",
       "      <td>0101-0203</td>\n",
       "      <td>0.043483</td>\n",
       "      <td>分时电价</td>\n",
       "      <td>334034001</td>\n",
       "    </tr>\n",
       "    <tr>\n",
       "      <th>13</th>\n",
       "      <td>2015101280032782</td>\n",
       "      <td>1000000527308505</td>\n",
       "      <td>3</td>\n",
       "      <td>2.0</td>\n",
       "      <td>334050103</td>\n",
       "      <td>2015/10/12 9:16:57</td>\n",
       "      <td>【查询电费】客户查询电费，已告知。</td>\n",
       "      <td>NaN</td>\n",
       "      <td>1096836.0</td>\n",
       "      <td>202.0</td>\n",
       "      <td>...</td>\n",
       "      <td>0.0</td>\n",
       "      <td>010101</td>\n",
       "      <td>010101</td>\n",
       "      <td>500</td>\n",
       "      <td>334050103</td>\n",
       "      <td>0101</td>\n",
       "      <td>0101</td>\n",
       "      <td>0.000014</td>\n",
       "      <td>服务渠道+查询电费</td>\n",
       "      <td>33405010303</td>\n",
       "    </tr>\n",
       "  </tbody>\n",
       "</table>\n",
       "<p>5 rows × 61 columns</p>\n",
       "</div>"
      ],
      "text/plain": [
       "              APP_NO                ID  BUSI_TYPE_CODE  URBAN_RURAL_FLAG  \\\n",
       "2   2015101280031424  1000000527305097               3               2.0   \n",
       "7   2015101280020177  1000000527221507               3               1.0   \n",
       "8   2015101280020305  1000000527223326              10               1.0   \n",
       "11  2015101280032546  1000000527305940               3               1.0   \n",
       "13  2015101280032782  1000000527308505               3               2.0   \n",
       "\n",
       "       ORG_NO         HANDLE_TIME  \\\n",
       "2       33401  2015/10/12 9:14:16   \n",
       "7     3340201  2015/10/12 8:07:49   \n",
       "8   334063001  2015/10/12 8:09:35   \n",
       "11  334034001  2015/10/12 9:15:05   \n",
       "13  334050103  2015/10/12 9:16:57   \n",
       "\n",
       "                                       ACCEPT_CONTENT HANDLE_OPINION  \\\n",
       "2                                   【查询电费】客户查询电费，已告知。            NaN   \n",
       "7                                      【停电信息】咨询计划停电信息            NaN   \n",
       "8   【查询电费】客户查询电费，已告知。【新增订阅】#电费#短信#2015-10-12#2016-...            NaN   \n",
       "11             【分时电价】客户咨询是否已开通分时电价/分时电价政策/分时电价开通范围及条件            NaN   \n",
       "13                                  【查询电费】客户查询电费，已告知。            NaN   \n",
       "\n",
       "    CALLING_NO  ELEC_TYPE      ...       IS_PAY_MODE_CONTAINS_020261  \\\n",
       "2    1007513.0      405.0      ...                               0.0   \n",
       "7    1468213.0      403.0      ...                               0.0   \n",
       "8    1263913.0      202.0      ...                               0.0   \n",
       "11   1698477.0      202.0      ...                               0.0   \n",
       "13   1096836.0      202.0      ...                               0.0   \n",
       "\n",
       "    LAST_MONTH_PAY_MODE  PAY_MODE_CHANGE_CLUE  CUST_NO_3bit  ORG_NO_9bit  \\\n",
       "2                020271                020271           601    334010103   \n",
       "7                020311                020311           161    334020106   \n",
       "8                020311                020311           703    334063001   \n",
       "11               020311         010101-020311           172    334034001   \n",
       "13               010101                010101           500    334050103   \n",
       "\n",
       "   LAST_MONTH_PAY_MODE_4bit  PAY_MODE_4bit_CHANGE_CLUE  MONEY_PER_DEGREE_STD  \\\n",
       "2                      0202                       0202              0.003929   \n",
       "7                      0203                       0203              0.003810   \n",
       "8                      0203                       0203              0.022373   \n",
       "11                     0203                  0101-0203              0.043483   \n",
       "13                     0101                       0101              0.000014   \n",
       "\n",
       "    MULTI_ACCEPT_CONTENT_TYPE  ORG_NO_100bit  \n",
       "2                   查询电费+电力短信      334010103  \n",
       "7                        停电信息    33402010608  \n",
       "8                        查询电费    33406300120  \n",
       "11                       分时电价      334034001  \n",
       "13                  服务渠道+查询电费    33405010303  \n",
       "\n",
       "[5 rows x 61 columns]"
      ]
     },
     "execution_count": 37,
     "metadata": {},
     "output_type": "execute_result"
    }
   ],
   "source": [
    "train_data01_a_worker_per_user.head()"
   ]
  },
  {
   "cell_type": "markdown",
   "metadata": {},
   "source": [
    "#### 4-2-2 测试集"
   ]
  },
  {
   "cell_type": "markdown",
   "metadata": {},
   "source": [
    "#### data01"
   ]
  },
  {
   "cell_type": "code",
   "execution_count": 4,
   "metadata": {
    "collapsed": false
   },
   "outputs": [
    {
     "name": "stdout",
     "output_type": "stream",
     "text": [
      "(370871, 65)\n",
      "CPU times: user 5.48 s, sys: 364 ms, total: 5.84 s\n",
      "Wall time: 6.17 s\n"
     ]
    }
   ],
   "source": [
    "%%time\n",
    "test_data01_a_worker_per_user = load_data('test_data01_a_worker_per_user.csv',\n",
    "                                              encoding='utf8',\n",
    "                                              converters={\n",
    "                                                  'CUST_NO': unicode,\n",
    "                                                  'LAST_MONTH_PAY_MODE': unicode,\n",
    "                                              }\n",
    "                                         )\n",
    "print test_data01_a_worker_per_user.shape"
   ]
  },
  {
   "cell_type": "markdown",
   "metadata": {},
   "source": [
    "## 5 准备数据和模型构建  ---> 这部分 转到 kfold_validation.py 脚本中执行"
   ]
  },
  {
   "cell_type": "markdown",
   "metadata": {},
   "source": [
    "### 5-1 数据细分\n",
    "    - 规则匹配 - 根据 工单内容 的类型不敏感度 过滤掉 部分不敏感 用户 ,或者直接判定部分用户为 敏感用户等\n",
    "    - 交于分类器处理"
   ]
  },
  {
   "cell_type": "markdown",
   "metadata": {},
   "source": [
    "#### 5-1-1 训练集"
   ]
  },
  {
   "cell_type": "code",
   "execution_count": 31,
   "metadata": {
    "collapsed": false
   },
   "outputs": [
    {
     "name": "stdout",
     "output_type": "stream",
     "text": [
      "total: 658374\n",
      "is_connect_to_09table == 1 : 555748\n",
      "is_connect_to_09table == 0 : 102626\n",
      "剩下: 555748(敏感：80025,不敏感：475723，比例：5.944680)\n",
      "根据 用电类别 ELEC_TYPE 进行过滤\n",
      "ELEC_TYPE_IS_NONSENSITIVE: 6(敏感：0,不敏感：6)\n",
      "剩下: 555742\n",
      "剩下: 555742(敏感：80025,不敏感：475717，比例：5.944605)\n",
      "CONS_STATUS==3: 12 ——> 规则直接判为非敏感(敏感：0,不敏感：12)\n",
      "CONT_TYPE==2: 28 ——> 规则直接判为非敏感(敏感：1,不敏感：27)\n",
      "剩下: 555702(敏感：80024,不敏感：475678，比例：5.944192)\n",
      "data_connect_to_09table 进一步根据total和tag1/total过滤...\n",
      "tag1/total == 1 ——> 规则直接判为敏感: 122(敏感：122,不敏感：0)\n",
      "tag1/total < 0.01 ——> 规则直接判为非敏感: 174472(敏感：436,不敏感：174036)\n",
      "剩下: 380542(敏感：79395,不敏感：301147，比例：3.793022)\n"
     ]
    }
   ],
   "source": [
    "train_data_toclassify, train_data_sensitive = seperate_data_to_classifier(\n",
    "    train_data01_a_worker_per_user,\n",
    "    plan_type=PLAN_TYPE\n",
    ")"
   ]
  },
  {
   "cell_type": "code",
   "execution_count": 5,
   "metadata": {
    "collapsed": true
   },
   "outputs": [],
   "source": [
    "save_data(\n",
    "        train_data_toclassify[['CUST_NO','TAG']],\n",
    "        'data_to_classify_true_tag.csv',\n",
    "    )"
   ]
  },
  {
   "cell_type": "code",
   "execution_count": 53,
   "metadata": {
    "collapsed": true
   },
   "outputs": [
    {
     "name": "stdout",
     "output_type": "stream",
     "text": [
      "(2,)\n"
     ]
    },
    {
     "data": {
      "text/plain": [
       "0    262531\n",
       "1     77574\n",
       "Name: TAG, dtype: int64"
      ]
     },
     "execution_count": 53,
     "metadata": {},
     "output_type": "execute_result"
    },
    {
     "data": {
      "image/png": "[encoded data removed]",
      "text/plain": [
       "<matplotlib.figure.Figure at 0x7fa01a126410>"
      ]
     },
     "metadata": {},
     "output_type": "display_data"
    }
   ],
   "source": [
    "show_attribute_detail(\n",
    "    train_data_toclassify,\n",
    "    attribute_name='TAG', \n",
    ")"
   ]
  },
  {
   "cell_type": "markdown",
   "metadata": {},
   "source": [
    "#### 5-1-2 测试集"
   ]
  },
  {
   "cell_type": "code",
   "execution_count": 36,
   "metadata": {
    "collapsed": false
   },
   "outputs": [
    {
     "name": "stdout",
     "output_type": "stream",
     "text": [
      "total: 370871\n",
      "is_connect_to_09table == 1 : 201702\n",
      "is_connect_to_09table == 0 : 169169\n",
      "剩下: 201702\n",
      "根据 用电类别 ELEC_TYPE 进行过滤\n",
      "ELEC_TYPE_IS_NONSENSITIVE: 3\n",
      "剩下: 201699\n",
      "剩下: 201699\n",
      "CONS_STATUS==3: 1 ——> 规则直接判为非敏感\n",
      "CONT_TYPE==2: 13 ——> 规则直接判为非敏感\n",
      "剩下: 201685\n",
      "data_connect_to_09table 进一步根据total和tag1/total过滤...\n",
      "tag1/total == 1 ——> 规则直接判为敏感: 9\n",
      "tag1/total < 0.01 ——> 规则直接判为非敏感: 85823\n",
      "剩下: 115500\n"
     ]
    }
   ],
   "source": [
    "test_data_toclassify, test_data_sensitive = seperate_data_to_classifier(\n",
    "    test_data01_a_worker_per_user,\n",
    "    type='test',\n",
    "    plan_type=PLAN_TYPE\n",
    ")"
   ]
  },
  {
   "cell_type": "markdown",
   "metadata": {},
   "source": [
    "#### 5-1-3 小结\n",
    "- 目前总共使用了两个版本的过滤规则，详细看 (含线下F值计算)train&test_accept_content_type.xlsx"
   ]
  },
  {
   "cell_type": "markdown",
   "metadata": {},
   "source": [
    "### 5-2 特征编码"
   ]
  },
  {
   "cell_type": "markdown",
   "metadata": {},
   "source": [
    "#### 5-2-1 训练集"
   ]
  },
  {
   "cell_type": "code",
   "execution_count": 22,
   "metadata": {
    "collapsed": true
   },
   "outputs": [
    {
     "name": "stdout",
     "output_type": "stream",
     "text": [
      "工单数 1\n",
      "查询电费次数 1\n",
      "第四季度记录数 1\n",
      "应收违约金的次数 1\n",
      "平均电费 1\n",
      "是否连接上06表 1\n",
      "是否连接上07表 1\n",
      "是否连接上08表 1\n",
      "是否连接上09表 1\n",
      "是否违约 1\n",
      "是否违约超出1个月以上 1\n",
      "代表工单月份 1\n",
      "城乡标志 3\n",
      "用电类型 12\n",
      "小工单类型 169\n",
      "CONT_TYPE 1\n",
      "STATUS 2\n",
      "CONS_STATUS 2\n",
      "RCA_FLAG 2\n",
      "ORG_NO_7bit_09TABLE 59\n",
      "(340098, 262)\n",
      "CPU times: user 5.74 s, sys: 7.61 s, total: 13.4 s\n",
      "Wall time: 16.5 s\n"
     ]
    }
   ],
   "source": [
    "%%time\n",
    "train_data_features = data_feature_encoder.fit_transform(\n",
    "    train_data_toclassify,\n",
    ")\n",
    "print train_data_features.shape"
   ]
  },
  {
   "cell_type": "code",
   "execution_count": 3,
   "metadata": {
    "collapsed": true
   },
   "outputs": [
    {
     "ename": "NameError",
     "evalue": "name 'train_data_features' is not defined",
     "output_type": "error",
     "traceback": [
      "\u001b[0;31m---------------------------------------------------------------------------\u001b[0m",
      "\u001b[0;31mNameError\u001b[0m                                 Traceback (most recent call last)",
      "\u001b[0;32m<ipython-input-3-09d1fbab48f5>\u001b[0m in \u001b[0;36m<module>\u001b[0;34m()\u001b[0m\n\u001b[0;32m----> 1\u001b[0;31m \u001b[0mtrain_data_features\u001b[0m\u001b[0;34m.\u001b[0m\u001b[0mhead\u001b[0m\u001b[0;34m(\u001b[0m\u001b[0;34m)\u001b[0m\u001b[0;34m\u001b[0m\u001b[0m\n\u001b[0m",
      "\u001b[0;31mNameError\u001b[0m: name 'train_data_features' is not defined"
     ]
    },
    {
     "name": "stdout",
     "output_type": "stream",
     "text": [
      "> \u001b[0;32m<ipython-input-3-09d1fbab48f5>\u001b[0m(1)\u001b[0;36m<module>\u001b[0;34m()\u001b[0m\n",
      "\u001b[0;32m----> 1 \u001b[0;31m\u001b[0mtrain_data_features\u001b[0m\u001b[0;34m.\u001b[0m\u001b[0mhead\u001b[0m\u001b[0;34m(\u001b[0m\u001b[0;34m)\u001b[0m\u001b[0;34m\u001b[0m\u001b[0m\n",
      "\u001b[0m\n",
      "ipdb> q\n"
     ]
    }
   ],
   "source": [
    "train_data_features.head()"
   ]
  },
  {
   "cell_type": "markdown",
   "metadata": {},
   "source": [
    "#### 5-2-2 测试集"
   ]
  },
  {
   "cell_type": "code",
   "execution_count": 27,
   "metadata": {
    "collapsed": true
   },
   "outputs": [
    {
     "name": "stdout",
     "output_type": "stream",
     "text": [
      "工单数 1\n",
      "查询电费次数 1\n",
      "第四季度记录数 1\n",
      "应收违约金的次数 1\n",
      "平均电费 1\n",
      "是否连接上06表 1\n",
      "是否连接上07表 1\n",
      "是否连接上08表 1\n",
      "是否连接上09表 1\n",
      "是否违约 1\n",
      "是否违约超出1个月以上 1\n",
      "代表工单月份 1\n",
      "城乡标志 3\n",
      "用电类型 12\n",
      "小工单类型 169\n",
      "CONT_TYPE 1\n",
      "STATUS 2\n",
      "CONS_STATUS 2\n",
      "RCA_FLAG 2\n",
      "ORG_NO_7bit_09TABLE 59\n",
      "CPU times: user 3.09 s, sys: 2.8 s, total: 5.89 s\n",
      "Wall time: 9.18 s\n"
     ]
    }
   ],
   "source": [
    "%%time\n",
    "test_data_features = data_feature_encoder.transform(\n",
    "    test_data_toclassify,\n",
    ")"
   ]
  },
  {
   "cell_type": "code",
   "execution_count": 16,
   "metadata": {
    "collapsed": true
   },
   "outputs": [
    {
     "data": {
      "text/html": [
       "<div>\n",
       "<table border=\"1\" class=\"dataframe\">\n",
       "  <thead>\n",
       "    <tr style=\"text-align: right;\">\n",
       "      <th></th>\n",
       "      <th>NUM_OF_WORKER</th>\n",
       "      <th>URBAN_RURAL_FLAG_1.0</th>\n",
       "      <th>URBAN_RURAL_FLAG_2.0</th>\n",
       "      <th>URBAN_RURAL_FLAG_3.0</th>\n",
       "      <th>ELEC_TYPE_100.0</th>\n",
       "      <th>ELEC_TYPE_200.0</th>\n",
       "      <th>ELEC_TYPE_201.0</th>\n",
       "      <th>ELEC_TYPE_202.0</th>\n",
       "      <th>ELEC_TYPE_203.0</th>\n",
       "      <th>ELEC_TYPE_300.0</th>\n",
       "      <th>...</th>\n",
       "      <th>ACCEPT_CONTENT_TYPE_电费账单寄送</th>\n",
       "      <th>ACCEPT_CONTENT_TYPE_电量异常</th>\n",
       "      <th>ACCEPT_CONTENT_TYPE_短信变更</th>\n",
       "      <th>ACCEPT_CONTENT_TYPE_短信订阅</th>\n",
       "      <th>ACCEPT_CONTENT_TYPE_缴费方式</th>\n",
       "      <th>ACCEPT_CONTENT_TYPE_补充信息</th>\n",
       "      <th>ACCEPT_CONTENT_TYPE_表箱故障</th>\n",
       "      <th>ACCEPT_CONTENT_TYPE_表计信息</th>\n",
       "      <th>ACCEPT_CONTENT_TYPE_阶梯电价</th>\n",
       "      <th>ACCEPT_CONTENT_TYPE_验表</th>\n",
       "    </tr>\n",
       "  </thead>\n",
       "  <tbody>\n",
       "    <tr>\n",
       "      <th>2</th>\n",
       "      <td>2</td>\n",
       "      <td>0</td>\n",
       "      <td>1</td>\n",
       "      <td>0</td>\n",
       "      <td>0</td>\n",
       "      <td>0</td>\n",
       "      <td>1</td>\n",
       "      <td>0</td>\n",
       "      <td>0</td>\n",
       "      <td>0</td>\n",
       "      <td>...</td>\n",
       "      <td>0</td>\n",
       "      <td>0</td>\n",
       "      <td>0</td>\n",
       "      <td>0</td>\n",
       "      <td>0</td>\n",
       "      <td>0</td>\n",
       "      <td>0</td>\n",
       "      <td>0</td>\n",
       "      <td>0</td>\n",
       "      <td>0</td>\n",
       "    </tr>\n",
       "    <tr>\n",
       "      <th>6</th>\n",
       "      <td>1</td>\n",
       "      <td>0</td>\n",
       "      <td>1</td>\n",
       "      <td>0</td>\n",
       "      <td>0</td>\n",
       "      <td>0</td>\n",
       "      <td>1</td>\n",
       "      <td>0</td>\n",
       "      <td>0</td>\n",
       "      <td>0</td>\n",
       "      <td>...</td>\n",
       "      <td>0</td>\n",
       "      <td>0</td>\n",
       "      <td>0</td>\n",
       "      <td>0</td>\n",
       "      <td>1</td>\n",
       "      <td>0</td>\n",
       "      <td>0</td>\n",
       "      <td>0</td>\n",
       "      <td>0</td>\n",
       "      <td>0</td>\n",
       "    </tr>\n",
       "    <tr>\n",
       "      <th>7</th>\n",
       "      <td>1</td>\n",
       "      <td>1</td>\n",
       "      <td>0</td>\n",
       "      <td>0</td>\n",
       "      <td>0</td>\n",
       "      <td>0</td>\n",
       "      <td>1</td>\n",
       "      <td>0</td>\n",
       "      <td>0</td>\n",
       "      <td>0</td>\n",
       "      <td>...</td>\n",
       "      <td>0</td>\n",
       "      <td>0</td>\n",
       "      <td>0</td>\n",
       "      <td>0</td>\n",
       "      <td>0</td>\n",
       "      <td>0</td>\n",
       "      <td>0</td>\n",
       "      <td>0</td>\n",
       "      <td>0</td>\n",
       "      <td>0</td>\n",
       "    </tr>\n",
       "    <tr>\n",
       "      <th>9</th>\n",
       "      <td>1</td>\n",
       "      <td>0</td>\n",
       "      <td>1</td>\n",
       "      <td>0</td>\n",
       "      <td>0</td>\n",
       "      <td>0</td>\n",
       "      <td>1</td>\n",
       "      <td>0</td>\n",
       "      <td>0</td>\n",
       "      <td>0</td>\n",
       "      <td>...</td>\n",
       "      <td>0</td>\n",
       "      <td>0</td>\n",
       "      <td>0</td>\n",
       "      <td>0</td>\n",
       "      <td>0</td>\n",
       "      <td>0</td>\n",
       "      <td>1</td>\n",
       "      <td>0</td>\n",
       "      <td>0</td>\n",
       "      <td>0</td>\n",
       "    </tr>\n",
       "    <tr>\n",
       "      <th>10</th>\n",
       "      <td>2</td>\n",
       "      <td>1</td>\n",
       "      <td>0</td>\n",
       "      <td>0</td>\n",
       "      <td>0</td>\n",
       "      <td>0</td>\n",
       "      <td>0</td>\n",
       "      <td>1</td>\n",
       "      <td>0</td>\n",
       "      <td>0</td>\n",
       "      <td>...</td>\n",
       "      <td>0</td>\n",
       "      <td>0</td>\n",
       "      <td>0</td>\n",
       "      <td>0</td>\n",
       "      <td>0</td>\n",
       "      <td>0</td>\n",
       "      <td>0</td>\n",
       "      <td>0</td>\n",
       "      <td>0</td>\n",
       "      <td>0</td>\n",
       "    </tr>\n",
       "  </tbody>\n",
       "</table>\n",
       "<p>5 rows × 45 columns</p>\n",
       "</div>"
      ],
      "text/plain": [
       "    NUM_OF_WORKER  URBAN_RURAL_FLAG_1.0  URBAN_RURAL_FLAG_2.0  \\\n",
       "2               2                     0                     1   \n",
       "6               1                     0                     1   \n",
       "7               1                     1                     0   \n",
       "9               1                     0                     1   \n",
       "10              2                     1                     0   \n",
       "\n",
       "    URBAN_RURAL_FLAG_3.0  ELEC_TYPE_100.0  ELEC_TYPE_200.0  ELEC_TYPE_201.0  \\\n",
       "2                      0                0                0                1   \n",
       "6                      0                0                0                1   \n",
       "7                      0                0                0                1   \n",
       "9                      0                0                0                1   \n",
       "10                     0                0                0                0   \n",
       "\n",
       "    ELEC_TYPE_202.0  ELEC_TYPE_203.0  ELEC_TYPE_300.0           ...            \\\n",
       "2                 0                0                0           ...             \n",
       "6                 0                0                0           ...             \n",
       "7                 0                0                0           ...             \n",
       "9                 0                0                0           ...             \n",
       "10                1                0                0           ...             \n",
       "\n",
       "    ACCEPT_CONTENT_TYPE_电费账单寄送  ACCEPT_CONTENT_TYPE_电量异常  \\\n",
       "2                            0                         0   \n",
       "6                            0                         0   \n",
       "7                            0                         0   \n",
       "9                            0                         0   \n",
       "10                           0                         0   \n",
       "\n",
       "    ACCEPT_CONTENT_TYPE_短信变更  ACCEPT_CONTENT_TYPE_短信订阅  \\\n",
       "2                          0                         0   \n",
       "6                          0                         0   \n",
       "7                          0                         0   \n",
       "9                          0                         0   \n",
       "10                         0                         0   \n",
       "\n",
       "    ACCEPT_CONTENT_TYPE_缴费方式  ACCEPT_CONTENT_TYPE_补充信息  \\\n",
       "2                          0                         0   \n",
       "6                          1                         0   \n",
       "7                          0                         0   \n",
       "9                          0                         0   \n",
       "10                         0                         0   \n",
       "\n",
       "    ACCEPT_CONTENT_TYPE_表箱故障  ACCEPT_CONTENT_TYPE_表计信息  \\\n",
       "2                          0                         0   \n",
       "6                          0                         0   \n",
       "7                          0                         0   \n",
       "9                          1                         0   \n",
       "10                         0                         0   \n",
       "\n",
       "    ACCEPT_CONTENT_TYPE_阶梯电价  ACCEPT_CONTENT_TYPE_验表  \n",
       "2                          0                       0  \n",
       "6                          0                       0  \n",
       "7                          0                       0  \n",
       "9                          0                       0  \n",
       "10                         0                       0  \n",
       "\n",
       "[5 rows x 45 columns]"
      ]
     },
     "execution_count": 16,
     "metadata": {},
     "output_type": "execute_result"
    }
   ],
   "source": [
    "test_data_features.head()"
   ]
  },
  {
   "cell_type": "markdown",
   "metadata": {},
   "source": [
    "### 5-3 模型分类"
   ]
  }
 ],
 "metadata": {
  "kernelspec": {
   "display_name": "Python 2",
   "language": "python",
   "name": "python2"
  },
  "language_info": {
   "codemirror_mode": {
    "name": "ipython",
    "version": 2
   },
   "file_extension": ".py",
   "mimetype": "text/x-python",
   "name": "python",
   "nbconvert_exporter": "python",
   "pygments_lexer": "ipython2",
   "version": "2.7.6"
  }
 },
 "nbformat": 4,
 "nbformat_minor": 0
}
